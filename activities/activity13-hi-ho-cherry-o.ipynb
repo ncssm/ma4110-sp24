{
 "cells": [
  {
   "cell_type": "code",
   "execution_count": null,
   "id": "center-trauma",
   "metadata": {},
   "outputs": [],
   "source": [
    "from datascience import *\n",
    "import numpy as np\n",
    "\n",
    "%matplotlib inline\n",
    "import matplotlib.pyplot as plots\n",
    "plots.style.use('fivethirtyeight')"
   ]
  },
  {
   "cell_type": "markdown",
   "id": "tired-rabbit",
   "metadata": {},
   "source": [
    "# Activity 13: Hi-Ho! Cherry-O!\n",
    "\n",
    "In this activity, we'll be building a simulation of the classic children's game, Hi-Ho! Cherry-O!\n",
    "\n",
    "<img src=\"https://external-content.duckduckgo.com/iu/?u=https%3A%2F%2Ffarm3.staticflickr.com%2F2342%2F2352999023_28c32dc926_o_d.jpg&f=1&nofb=1\" width=500>\n",
    "\n",
    "If you're not familiar with this game, here's a video that explains the rules:\n",
    "\n",
    "<iframe width=\"560\" height=\"315\" src=\"https://www.youtube.com/embed/81rf8hLjnRE\" title=\"YouTube video player\" frameborder=\"0\" allow=\"accelerometer; autoplay; clipboard-write; encrypted-media; gyroscope; picture-in-picture\" allowfullscreen></iframe>"
   ]
  },
  {
   "cell_type": "code",
   "execution_count": null,
   "id": "0e2c5304-ee70-4749-af6a-e492c0dcbee8",
   "metadata": {},
   "outputs": [],
   "source": [
    "# Run this cell to load the video\n",
    "from IPython.display import YouTubeVideo\n",
    "YouTubeVideo('81rf8hLjnRE', width=500)"
   ]
  },
  {
   "cell_type": "markdown",
   "id": "3eb25a0c-8835-45d0-ba4d-391dd48c5664",
   "metadata": {},
   "source": [
    "This kind of game is perfect for a simple simulation because it has the following characteristics:\n",
    "* Players do not interact with each other.\n",
    "* Each turn is exactly like the previous turn. The result of one turn does not impact the way the next turn is played.\n",
    "* Each turn is determined by a random event (no strategy or skill required).\n",
    "* There is a clear condition for the game to end.\n",
    "\n",
    "Coincidentally these are probably the same reasons that this game is great for children between the ages of 2 and 5.\n",
    "\n",
    "In this activity we will ONLY simulate the game from the point of view of one player, you!"
   ]
  },
  {
   "cell_type": "markdown",
   "id": "classical-mortgage",
   "metadata": {},
   "source": [
    "## The Spinner\n",
    "\n",
    "Let's start by making an array that contains the possible outcomes for the spinner:\n",
    "* One\n",
    "* Two\n",
    "* Three\n",
    "* Four\n",
    "* Bird\n",
    "* Dog\n",
    "* Bucket\n",
    "\n",
    "**Create an array that contains these outcomes as `string` type objects.** Name that array `spinner`"
   ]
  },
  {
   "cell_type": "code",
   "execution_count": null,
   "id": "geographic-campbell",
   "metadata": {},
   "outputs": [],
   "source": [
    "spinner = ...\n",
    "spinner "
   ]
  },
  {
   "cell_type": "markdown",
   "id": "ddc56818-f6b7-4c71-addf-c3d5444da340",
   "metadata": {},
   "source": [
    "After defining the array, use the `np.random.choice` function in the cell below to \"spin the wheel\" a few times and make sure you know how to randomly obtain an outcome from the spinner"
   ]
  },
  {
   "cell_type": "code",
   "execution_count": null,
   "id": "sorted-least",
   "metadata": {},
   "outputs": [],
   "source": [
    "np.random.choice(spinner)"
   ]
  },
  {
   "cell_type": "markdown",
   "id": "opened-finding",
   "metadata": {},
   "source": [
    "## One Spin\n",
    "\n",
    "The function below, `one_spin`, will take in the current number of cherries in the bucket, spins the spinner using `np.random.choice`, and then computes how many cherries are in the bucket after the spin. The new number of cherries in the bucket is returned from this function as an integer.\n",
    "\n",
    "Examine the complicated series of `if` and `elif` statements to make sure you understand their logic. In particular, check out the section that checks to make sure spinning Dog or Bird doesn't cause your cherry count to become negative."
   ]
  },
  {
   "cell_type": "code",
   "execution_count": null,
   "id": "median-rabbit",
   "metadata": {},
   "outputs": [],
   "source": [
    "def one_spin( current_count ):\n",
    "    # Spin the spinner to create a string of the outcome\n",
    "    spin = np.random.choice(spinner)\n",
    "    \n",
    "    # Use if / elif statements to determine what that \n",
    "    # outcome means for the new number of cherries in\n",
    "    # the bucket\n",
    "    \n",
    "    if spin == 'One':\n",
    "        new_count = current_count + 1\n",
    "    elif spin == 'Two':\n",
    "        new_count = current_count + 2\n",
    "    elif spin == 'Three':\n",
    "        new_count = current_count + 3\n",
    "    elif spin == 'Four':\n",
    "        new_count = current_count + 4\n",
    "    elif (spin == 'Bird' or spin == 'Dog'):\n",
    "        new_count = current_count - 2      \n",
    "        # If subtracting 2 from the Bird or Dog causes new_count \n",
    "        # to be negative then the new_count should really be 0 \n",
    "        # since you can't have negative cherries in your bucket\n",
    "        if new_count < 0:\n",
    "            new_count = 0      \n",
    "    elif spin == 'Bucket':\n",
    "        new_count = 0\n",
    "   \n",
    "    return new_count"
   ]
  },
  {
   "cell_type": "markdown",
   "id": "f04c2613-729b-4e59-91b8-6726f3635389",
   "metadata": {},
   "source": [
    "Try this function out by running the cell below a few times. You should (hopefully) see all the possible outcomes appear after a few spins. Since the input to the function is 3, you could possibly see results of 0 (bucket), 1 (bird or dog), 4 (one), 5 (two), 6 (three), or 7 (four). You should NOT see outputs of 2 or 3, since there are no ways to reduce the number of cherries in the bucket by 1 or have them stay the same."
   ]
  },
  {
   "cell_type": "code",
   "execution_count": null,
   "id": "several-queue",
   "metadata": {},
   "outputs": [],
   "source": [
    "one_spin(3)"
   ]
  },
  {
   "cell_type": "markdown",
   "id": "baking-oakland",
   "metadata": {},
   "source": [
    "## One Game\n",
    "\n",
    "Now that we have a way to determine the number of cherries that will be in our bucket after a spin of the spinner, let's turn that into a function that simulates a single game. We'll call that function `one_game`. Here are some ideas to get this function started.\n",
    "\n",
    "### `bucket`\n",
    "We're going to use the number of cherries in the bucket to determine if the game is over. At the start of the game, there will be 0 cherries in the bucket. We'll know the game is over when the number of cherries in the bucket is 10 or more. When you call the function, it will create a variable named `bucket` that starts at 0.\n",
    "\n",
    "### `turns`\n",
    "In this simulation, **the statistic we're going to collect is the number of turns it takes to complete a game**. When you call the function `one_game` it will create a variable named `turns` that starts at 0.\n",
    "\n",
    "### `max_turns`\n",
    "Imagine a situation where you keep spinning bucket, Dog, and/or Bird very frequently. You could end up with a game that went out for a very long time. In fact, there's nothing that would stop you from playing a game that never ended! While is outcome is essentially impossible it's not *that* uncommon to have a game that goes on for a few hundred spins. To help make sure we don't end up with a game that goes on too long, we'll set `max_turns` to a value low enough so things don't go on too long. 200 should be low enough to not impact our analysis later on."
   ]
  },
  {
   "cell_type": "code",
   "execution_count": null,
   "id": "radio-wells",
   "metadata": {},
   "outputs": [],
   "source": [
    "def one_game():\n",
    "    bucket = ...\n",
    "    turns = ...\n",
    "    max_turns = ...\n",
    "\n",
    "    # You write a for loop below that runs until bucket >= 10\n",
    "    # or it runs for max_turns number of times. Remember, a \n",
    "    # return statement will force a loop to complete, so if you \n",
    "    # determine bucket >= 10 and then return turns the loop will stop\n",
    "    \n",
    "    ...\n",
    "        # update the number of cherries in the bucket using one_spin\n",
    "        ...\n",
    "        \n",
    "        # update the number of turns that have been taken\n",
    "        ...\n",
    "        \n",
    "        # check to see if the game is over, if so return the number of spins\n",
    "        # this will cause the loop to finish, even if it didn't make it through\n",
    "        # the full array of values we're using to play max_turns\n",
    "        ...\n",
    "\n",
    "    # if your code makes it here, that means it played the max number of turns\n",
    "    # and the loop finished. just return the number of\n",
    "    return turns"
   ]
  },
  {
   "cell_type": "markdown",
   "id": "5af1d6f6-d9b7-43e1-af9c-6f06ffdafef8",
   "metadata": {},
   "source": [
    "If you wrote the function correctly, running the cell below will display the number of turns needed to complete a single game. Run it a few times to get a feel for a typical result."
   ]
  },
  {
   "cell_type": "code",
   "execution_count": null,
   "id": "friendly-manual",
   "metadata": {},
   "outputs": [],
   "source": [
    "one_game()"
   ]
  },
  {
   "cell_type": "markdown",
   "id": "stopped-password",
   "metadata": {},
   "source": [
    "## Analysis of Games\n",
    "\n",
    "Now that we have a way to simulate a single game, let's play 10,000 games and analyze the results. In the cell below:\n",
    "\n",
    "* create an empty array called `outcomes`\n",
    "* create a variable `num_of_games` that's set equal to 10,000\n",
    "* create a loop that will run `num_of_games` times\n",
    "  * each time the loop runs it should play a game using `one_game` and append the result to the array you've named `outcomes`"
   ]
  },
  {
   "cell_type": "code",
   "execution_count": null,
   "id": "subsequent-register",
   "metadata": {},
   "outputs": [],
   "source": [
    "num_of_games = ...\n",
    "outcomes = ...\n",
    "\n",
    "...\n",
    "    ..."
   ]
  },
  {
   "cell_type": "markdown",
   "id": "ea2f674f-1d09-49aa-b17f-ed88eabf1714",
   "metadata": {},
   "source": [
    "What are some results you infer about this game from the array of statistics we created about the length of the games? This is a good chance for you to practice your `numpy` commands.\n",
    "\n",
    "To get you started, can you compute:\n",
    "* What was the longest game that was simulated?\n",
    "* What was the shortest game that was simulated?\n",
    "* What was the average number of turns per simulated game?\n",
    "* What proportion of games were completed in 10 turns or less (**Hint:** Use a comparison operator (e.g. `==`, `<=`, ...) and `np.sum` to first count how many games meet this condition, then convert to a proportion.\n",
    "* What proportion of games took 50 or more turns to complete?\n",
    "\n",
    "See if there's anything else you can determine using the array of `outcomes`. If you find anything of interest, share on the course discussion board!\n",
    "\n",
    "**NOTE:** Since these games are played using random events, your results may vary from your classmates or the solutions!"
   ]
  },
  {
   "cell_type": "code",
   "execution_count": null,
   "id": "25e8f91d-a477-47ea-88d1-4a1eae150ed2",
   "metadata": {},
   "outputs": [],
   "source": [
    "# Longest game\n",
    "..."
   ]
  },
  {
   "cell_type": "code",
   "execution_count": null,
   "id": "0cebda25-2ac2-4002-9ad4-836537d058f5",
   "metadata": {},
   "outputs": [],
   "source": [
    "# Longest game\n",
    "..."
   ]
  },
  {
   "cell_type": "code",
   "execution_count": null,
   "id": "22546d19-475c-4f5b-9a77-dd8c0bdc69ba",
   "metadata": {},
   "outputs": [],
   "source": [
    "# Average game\n",
    "..."
   ]
  },
  {
   "cell_type": "code",
   "execution_count": null,
   "id": "5fac2e70-0850-41e3-9a42-f4442c722e08",
   "metadata": {},
   "outputs": [],
   "source": [
    "# Proportion of games finished in 10 turns or less\n",
    "..."
   ]
  },
  {
   "cell_type": "code",
   "execution_count": null,
   "id": "4d5564d4-40b4-4ed6-855e-32b9e583f3bd",
   "metadata": {},
   "outputs": [],
   "source": [
    "# Proportion of games that took 50 or more turns\n",
    "..."
   ]
  },
  {
   "cell_type": "markdown",
   "id": "ac4e3872-c688-4384-8ca3-9487c4322eed",
   "metadata": {},
   "source": [
    "### Visualizations\n",
    "\n",
    "To create some visualizations, our array needs to be put into a table. In the cell below, create a table named `outcomes_table` that has a single column labeled `'Turns'`."
   ]
  },
  {
   "cell_type": "code",
   "execution_count": null,
   "id": "138860d4-2b29-4ee0-b3e1-3eaf557f8012",
   "metadata": {},
   "outputs": [],
   "source": [
    "outcomes_table = ...\n",
    "outcomes_table"
   ]
  },
  {
   "cell_type": "markdown",
   "id": "0ecbbf55-1c55-41c5-8110-d9e2b2222ec1",
   "metadata": {},
   "source": [
    "Create a histogram to visualize the distribution of scores. Use the suggested bins that are provided in the code block below. You can use them in your `.hist()` call by including `bins = suggested_bins` after you've specified the column name. The suggested bins will automatically scale from 0 to the largest score using a bin width of 2."
   ]
  },
  {
   "cell_type": "code",
   "execution_count": null,
   "id": "6e3adfc4-a041-49ed-bf09-3f63ed862948",
   "metadata": {},
   "outputs": [],
   "source": [
    "suggested_bins = ...\n",
    "..."
   ]
  },
  {
   "cell_type": "markdown",
   "id": "a94f45b7-9a8e-495b-bb21-f9e4069ba4ff",
   "metadata": {},
   "source": [
    "Do you notice any other patterns in the distribution?"
   ]
  }
 ],
 "metadata": {
  "kernelspec": {
   "display_name": "Python 3 (ipykernel)",
   "language": "python",
   "name": "python3"
  },
  "language_info": {
   "codemirror_mode": {
    "name": "ipython",
    "version": 3
   },
   "file_extension": ".py",
   "mimetype": "text/x-python",
   "name": "python",
   "nbconvert_exporter": "python",
   "pygments_lexer": "ipython3",
   "version": "3.9.6"
  }
 },
 "nbformat": 4,
 "nbformat_minor": 5
}
