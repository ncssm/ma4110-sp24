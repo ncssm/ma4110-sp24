{
 "cells": [
  {
   "cell_type": "code",
   "execution_count": null,
   "id": "valued-cabin",
   "metadata": {},
   "outputs": [],
   "source": [
    "import matplotlib\n",
    "from datascience import *\n",
    "%matplotlib inline\n",
    "import matplotlib.pyplot as plots\n",
    "import numpy as np\n",
    "plots.style.use('fivethirtyeight')"
   ]
  },
  {
   "cell_type": "markdown",
   "id": "general-chambers",
   "metadata": {},
   "source": [
    "# Activity: Bootstrapping Confidence Intervals"
   ]
  },
  {
   "cell_type": "markdown",
   "id": "thirty-identifier",
   "metadata": {},
   "source": [
    "The cell below will load in a dataset from Inside Airbnb (http://insideairbnb.com/get-the-data.html) that has details of over 2000 Airbnb listings in Asheville, NC through September 2023. It includes information about the name of the property, the zip code it's in, price, and many other fields.\n",
    "\n",
    "Today, we'll be investigating how we might be able to estimate the average price for a night at an Airbnb in Asheville, NC. There was one property with a an incorrect price listed at over $10,000, which will be removed from the dataset."
   ]
  },
  {
   "cell_type": "code",
   "execution_count": null,
   "id": "israeli-processor",
   "metadata": {},
   "outputs": [],
   "source": [
    "asheville = Table.read_table('data/asheville-airbnb-2023.csv').where('price', are.below(10000))\n",
    "asheville"
   ]
  },
  {
   "cell_type": "markdown",
   "id": "3e0b23e1-6613-4afa-9fb5-86b19eb9e090",
   "metadata": {},
   "source": [
    "## Important Note:\n",
    "Throughout this activity, we are going to practice our bootstrapping technique to construct a confidence interval from a single sample from the population. **Remember:** We use the bootstrap technique when we don't have access to a population, only a sample from that population. That means for this activity, **pretend** that you don't have access to the full population unless specifically asked to use it."
   ]
  },
  {
   "cell_type": "markdown",
   "id": "minus-devices",
   "metadata": {},
   "source": [
    "## Draw a Sample\n",
    "\n",
    "Remember, our goal is to estimate the average nightly price of all Airbnb's in Asheville, NC. As discussed in the lessons, the best way to make such an estimate is to construct a confidence interval. As we've seen, larger sample sizes produce more narrow confidence intervals, meaning we have a more precise estimate of our value. However, larger samples are more expensive to take in real life (you have to spend either more time or more money to get more data in your sample). There's an inherent trade off between cost and accuracy, and when solving your own problems you have to decide how much the additional accuracy is worth to you! In a future lesson you'll learn a method for determining what size sample you should take in order to achieve a certain level of accuracy, but for now choose a sample size between 50 and 200 to use and assign it to the variable `sample_size` in the code cell below.\n",
    "\n",
    "Then, create a sample from the `asheville` table of size `sample_size` and assign that Table to `airbnb_sample`."
   ]
  },
  {
   "cell_type": "code",
   "execution_count": null,
   "id": "frank-galaxy",
   "metadata": {},
   "outputs": [],
   "source": [
    "sample_size = 250\n",
    "airbnb_sample = asheville.sample(sample_size)\n",
    "\n",
    "# Show the top 5 to see a little about your sample\n",
    "airbnb_sample.show(5)"
   ]
  },
  {
   "cell_type": "markdown",
   "id": "soviet-florence",
   "metadata": {},
   "source": [
    "# Bootstrapping the Sample\n",
    "\n",
    "Since this is the only sample we have to use, write a function called `one_bootstrap_mean` that takes in no arguments and returns the mean value of the `price` column of a single resample of `airbnb_sample`. **Remember:** When resampling (taking a bootstrap) from a sample, you should draw the same number of elements that are contained in the sample (`sample_size`) and you should draw **with replacement**!"
   ]
  },
  {
   "cell_type": "code",
   "execution_count": null,
   "id": "major-island",
   "metadata": {},
   "outputs": [],
   "source": [
    "def one_bootstrap_mean():\n",
    "    return np.mean(airbnb_sample.sample(sample_size, with_replacement=True).column('price'))\n",
    "\n",
    "one_bootstrap_mean()"
   ]
  },
  {
   "cell_type": "markdown",
   "id": "4c6108d3-1bc5-4cfd-88ec-268aa16d6a45",
   "metadata": {},
   "source": [
    "Now, create an array named `bootstrap_means` which contains 1000 bootstrap means of your `airbnb_sample` Table. You should follow our typical format of first constructing an empty array and then writing a `for` loop that computes the bootstrap mean (use your function from above) and appends each mean to the `bootstrap_means` array."
   ]
  },
  {
   "cell_type": "code",
   "execution_count": null,
   "id": "comparative-bridges",
   "metadata": {},
   "outputs": [],
   "source": [
    "bootstrap_means = make_array()\n",
    "\n",
    "for i in np.arange(1000):\n",
    "    new_mean = one_bootstrap_mean()\n",
    "    bootstrap_means = np.append(bootstrap_means, new_mean)\n",
    "\n",
    "# Shows ONLY the first 10 bootstrap means\n",
    "bootstrap_means[0:10]"
   ]
  },
  {
   "cell_type": "markdown",
   "id": "5e5a74eb-ff26-4c72-ad64-47c9bef8fbd3",
   "metadata": {},
   "source": [
    "Create a histogram of these bootstrap means. Theory predicts that you should expect to see a normal distribution of the bootstrap means. Do you?\n",
    "\n",
    "**Hint:** Remember, you can quickly create a histogram from an array by constructing an empty Table using `Table()` and then appending the array as a column to the table by using `.with_column( ... )` and then calling `.hist( ... )`. Be sure to provide all the needed arguments to these methods. "
   ]
  },
  {
   "cell_type": "code",
   "execution_count": null,
   "id": "321d5c70-83eb-4ee4-a0d6-7d4f8d198f17",
   "metadata": {},
   "outputs": [],
   "source": [
    "Table().with_column('Bootstrap means', bootstrap_means).hist()\n",
    "plots.title('Bootstrap Means (1K Bootstraps from our Sample)');"
   ]
  },
  {
   "cell_type": "code",
   "execution_count": null,
   "id": "26f0415d-0831-4407-a5a3-df026d6eb982",
   "metadata": {},
   "outputs": [],
   "source": [
    "min(bootstrap_means), max(bootstrap_means)"
   ]
  },
  {
   "cell_type": "markdown",
   "id": "2d901992-8a45-4459-93c4-1b43563d8c24",
   "metadata": {},
   "source": [
    "## Constructing the Confidence Interval"
   ]
  },
  {
   "cell_type": "markdown",
   "id": "1d60a3be-f3bf-4283-90bb-9fe0bc6a166a",
   "metadata": {},
   "source": [
    "To construct a 95% Confidence Interval you'll need to determine which two values in the bootstrapped distribution contain 95% of the data between them.\n",
    "\n",
    "Use the `percentile` function to determine the left and right endpoints of a 95% Confidence Interval for the mean price. Assign these values to `left` and `right` respectively."
   ]
  },
  {
   "cell_type": "code",
   "execution_count": null,
   "id": "61eb9baa-2b98-48a5-b8dc-a801e4673bef",
   "metadata": {},
   "outputs": [],
   "source": [
    "left = percentile(2.5, bootstrap_means)\n",
    "right = percentile(97.5, bootstrap_means)\n",
    "\n",
    "print(\"95% CI: (\", left, \",\", right,\")\")"
   ]
  },
  {
   "cell_type": "markdown",
   "id": "7f3d6ce1-3a79-44c2-afa6-4605faa94bf7",
   "metadata": {},
   "source": [
    "The code below will overlay a yellow line across the base of the distribution of bootstrapped means to visually show the values in the distribution that are within the interval."
   ]
  },
  {
   "cell_type": "code",
   "execution_count": null,
   "id": "nutritional-lottery",
   "metadata": {},
   "outputs": [],
   "source": [
    "Table().with_column('Bootstrap means', bootstrap_means).hist()\n",
    "plots.plot([left,right], [0,0], color=\"gold\", lw=8, zorder=1);\n",
    "plots.title('Bootstrap Means (1K Bootstraps from our Sample)');"
   ]
  },
  {
   "cell_type": "markdown",
   "id": "fe5bd0af-cbc9-4a52-9193-47533821b37a",
   "metadata": {},
   "source": [
    "## How did you do?\n",
    "\n",
    "The goal of constructing this 95% Confidence Interval was to estimate the true average price for a night in an Airbnb in Asheville, NC. Unless we had the full dataset there'd be no way to know this actual value. In this case, we **do** have the full dataset, so we can see if our sample and bootstrapping technique resulted in an interval that contains the true population average. We should expect this process to construct an interval that contains the true mean 95% of the time, so if your interval doesn't contain the mean that doesn't necessarily mean you did this wrong! Let's see how you did.\n",
    "\n",
    "First, let's look at the distribution of ALL prices:"
   ]
  },
  {
   "cell_type": "code",
   "execution_count": null,
   "id": "introductory-philadelphia",
   "metadata": {},
   "outputs": [],
   "source": [
    "asheville.hist('price', bins = np.arange(0,1000,50))"
   ]
  },
  {
   "cell_type": "markdown",
   "id": "10141c30-6611-47ae-8ec7-d39b59597603",
   "metadata": {},
   "source": [
    "Next, let's look at what the average of the price column is for the `asheville` table."
   ]
  },
  {
   "cell_type": "code",
   "execution_count": null,
   "id": "380dbc45-82c7-48f2-98bf-a521f0326091",
   "metadata": {},
   "outputs": [],
   "source": [
    "population_mean = np.mean(asheville.column('price'))\n",
    "population_mean"
   ]
  },
  {
   "cell_type": "markdown",
   "id": "f690f9cf-30e4-4495-876d-84ab5999ec88",
   "metadata": {},
   "source": [
    "Is the population mean in between `left` and `right`, or put another way, did your Confidence Interval contain the true mean?"
   ]
  },
  {
   "cell_type": "code",
   "execution_count": null,
   "id": "8370c103-520c-4bf8-9365-1d0c23e0ffa4",
   "metadata": {},
   "outputs": [],
   "source": [
    "left < population_mean < right"
   ]
  },
  {
   "cell_type": "markdown",
   "id": "ad751fcb-a1a2-4b48-bf27-81b4a71378df",
   "metadata": {},
   "source": [
    "The code below will recreate this entire process 20 times and draw all 20 confidence intervals as horizontal yellow lines. Notice how variations in the original sample that was drawn, as well as randomness in the resampling process, create variations in the Confidence Intervals. In real life, you're usually only able to construct 1 of these from your single sample you were able to obtain. You'd never know the details of how other samples and other resamples might have impacted how it *could* have gone differently. Do any of these Confidence Intervals fail to capture the true average that we were trying to predict? The true average price is drawn in as a vertical red line. If any of your yellow bars don't contain the red line, that means if you had constructed that as your confidence interval it would have NOT been a good estimate for the mean price. Because we constructed a 95% confidence interval, we'd expect that to happen about 5% of the time, or 1 out of every 20 Confidence Intervals.\n",
    "\n",
    "**Caution:** This next cell might take a little while to run!"
   ]
  },
  {
   "cell_type": "code",
   "execution_count": null,
   "id": "3b4e39ec-75d0-48d0-8726-d80ea1c427cb",
   "metadata": {},
   "outputs": [],
   "source": [
    "for i in np.arange(20):\n",
    "    airbnb_sample = asheville.sample(250)\n",
    "    \n",
    "    bootstrap_means = make_array()\n",
    "    for j in np.arange(1000):\n",
    "        new_mean = one_bootstrap_mean()\n",
    "        bootstrap_means = np.append(bootstrap_means, new_mean)\n",
    "        left = percentile(2.5, bootstrap_means)\n",
    "        right = percentile(97.5, bootstrap_means)\n",
    "        plots.plot([left,right], [i,i], color=\"gold\", lw=8, zorder=1);\n",
    "    plots.plot([population_mean,population_mean], [-1,i+1], color=\"red\", lw=1, zorder=1);\n",
    "    plots.title('20 Confidence Intervals');"
   ]
  }
 ],
 "metadata": {
  "kernelspec": {
   "display_name": "Python 3 (ipykernel)",
   "language": "python",
   "name": "python3"
  },
  "language_info": {
   "codemirror_mode": {
    "name": "ipython",
    "version": 3
   },
   "file_extension": ".py",
   "mimetype": "text/x-python",
   "name": "python",
   "nbconvert_exporter": "python",
   "pygments_lexer": "ipython3",
   "version": "3.11.4"
  }
 },
 "nbformat": 4,
 "nbformat_minor": 5
}
