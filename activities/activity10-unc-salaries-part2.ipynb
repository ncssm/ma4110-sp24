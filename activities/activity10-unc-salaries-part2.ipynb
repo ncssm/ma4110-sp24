{
 "cells": [
  {
   "cell_type": "code",
   "execution_count": 1,
   "id": "spatial-force",
   "metadata": {},
   "outputs": [],
   "source": [
    "from datascience import *\n",
    "import numpy as np\n",
    "\n",
    "%matplotlib inline\n",
    "import matplotlib.pyplot as plots\n",
    "plots.style.use('fivethirtyeight')"
   ]
  },
  {
   "cell_type": "markdown",
   "id": "focal-encyclopedia",
   "metadata": {},
   "source": [
    "# UNC System Salary Information"
   ]
  },
  {
   "cell_type": "markdown",
   "id": "adopted-washington",
   "metadata": {},
   "source": [
    "The UNC System maintains a publically available database of employees and their salaries that can be found on the web. From their website:\n",
    "\n",
    "> **What information is provided in the database?** This database contains the names, position titles and salaries of permanent employees of the University, as furnished by UNC System Office and the constituent institutions of The University of North Carolina.\n",
    ">\n",
    ">**What information is not provided in the database?** We currently do not have data available for UNC Health Care, UNC Press or the North Carolina School of Science and Math.\n",
    ">\n",
    ">**How frequently is the data updated?** The data provided in this database is updated quarterly and represents a snapshot of employees, salaries, and titles as of the date listed. Because it is a snapshot, the database may not accurately reflect an employee's permanent salary or all sources of funding provided throughout the year. As examples, the database may not capture all external fund sources that may compensate some employees, or the information may capture temporary salary increases or temporary title changes for additional duties for an employee that could change in the course of the year.\n",
    ">\n",
    ">**What if I have questions about an employee's salary or other personnel information?** If you believe that information about a particular employee is inaccurate or if you have other questions about the information provided in the database, you may contact the HR department at the constituent institution to verify the employee's salary.\n",
    ">\n",
    ">**Why do we publish this data?** Employee salaries are public and we believe that publishing salaries benefits both the public by providing easily accessible salary information and the employing institutions by minimizing public personnel information requests.\n",
    "\n",
    "You'll find a `.csv` file containing the full database **with names removed** in the `/activities/data/` folder as `unc_salaries.csv`. \n",
    "\n",
    "Load this file as a Table named `unc`. This data was downloaded in February 2021, so depending on when you're viewing this activity it may be out of date."
   ]
  },
  {
   "cell_type": "code",
   "execution_count": 2,
   "id": "intelligent-garbage",
   "metadata": {},
   "outputs": [
    {
     "data": {
      "text/html": [
       "<table border=\"1\" class=\"dataframe\">\n",
       "    <thead>\n",
       "        <tr>\n",
       "            <th>INSTITUTION NAME</th> <th>AGE</th> <th>INITIAL HIRE DATE</th> <th>JOB CATEGORY</th> <th>EMPLOYEE ANNUAL BASE SALARY</th> <th>EMPLOYEE HOME DEPARTMENT</th> <th>PRIMARY WORKING TITLE</th>\n",
       "        </tr>\n",
       "    </thead>\n",
       "    <tbody>\n",
       "        <tr>\n",
       "            <td>ASU             </td> <td>69  </td> <td>AUG 01, 1998     </td> <td>Librarian AC, Other                                         </td> <td>49507                      </td> <td>Library                            </td> <td>Adjunct Assistant Professor</td>\n",
       "        </tr>\n",
       "        <tr>\n",
       "            <td>ASU             </td> <td>63  </td> <td>AUG 24, 1998     </td> <td>Librarian AC, Other                                         </td> <td>23558                      </td> <td>Library                            </td> <td>Adjunct Assistant Professor</td>\n",
       "        </tr>\n",
       "        <tr>\n",
       "            <td>ASU             </td> <td>47  </td> <td>JAN 16, 2018     </td> <td>Lecturer                                                    </td> <td>47000                      </td> <td>Sustainable Technlgy & Built Envirn</td> <td>Adjunct Instructor         </td>\n",
       "        </tr>\n",
       "        <tr>\n",
       "            <td>ASU             </td> <td>41  </td> <td>DEC 01, 2004     </td> <td>Lecturer                                                    </td> <td>36000                      </td> <td>English                            </td> <td>Lecturer                   </td>\n",
       "        </tr>\n",
       "        <tr>\n",
       "            <td>ASU             </td> <td>59  </td> <td>MAY 23, 2005     </td> <td>Food Prep Worker                                            </td> <td>31200                      </td> <td>Sanford Commons                    </td> <td>Food Service Technician    </td>\n",
       "        </tr>\n",
       "        <tr>\n",
       "            <td>ASU             </td> <td>37  </td> <td>AUG 26, 2011     </td> <td>Assistant Professor                                         </td> <td>68945                      </td> <td>Psychology                         </td> <td>Assistant Professor        </td>\n",
       "        </tr>\n",
       "        <tr>\n",
       "            <td>ASU             </td> <td>42  </td> <td>JUL 18, 2012     </td> <td>Student Activities Professional, Student Activities Assi ...</td> <td>53542                      </td> <td>Campus Activities                  </td> <td>Asst Dir, Org Leadership   </td>\n",
       "        </tr>\n",
       "        <tr>\n",
       "            <td>ASU             </td> <td>54  </td> <td>JUL 31, 2001     </td> <td>Nursing Professional                                        </td> <td>51504                      </td> <td>Health Services                    </td> <td>Professional Nurse         </td>\n",
       "        </tr>\n",
       "        <tr>\n",
       "            <td>ASU             </td> <td>50  </td> <td>AUG 01, 2005     </td> <td>Administrative / Office / Clerical Support Staff, Other     </td> <td>35484                      </td> <td>School Of Music                    </td> <td>Administrative Support Spec</td>\n",
       "        </tr>\n",
       "        <tr>\n",
       "            <td>ASU             </td> <td>40  </td> <td>APR 16, 2018     </td> <td>Chief Budget Officer                                        </td> <td>110000                     </td> <td>University Budget                  </td> <td>University Budget Director </td>\n",
       "        </tr>\n",
       "    </tbody>\n",
       "</table>\n",
       "<p>... (47643 rows omitted)</p>"
      ],
      "text/plain": [
       "INSTITUTION NAME | AGE  | INITIAL HIRE DATE | JOB CATEGORY                                                 | EMPLOYEE ANNUAL BASE SALARY | EMPLOYEE HOME DEPARTMENT            | PRIMARY WORKING TITLE\n",
       "ASU              | 69   | AUG 01, 1998      | Librarian AC, Other                                          | 49507                       | Library                             | Adjunct Assistant Professor\n",
       "ASU              | 63   | AUG 24, 1998      | Librarian AC, Other                                          | 23558                       | Library                             | Adjunct Assistant Professor\n",
       "ASU              | 47   | JAN 16, 2018      | Lecturer                                                     | 47000                       | Sustainable Technlgy & Built Envirn | Adjunct Instructor\n",
       "ASU              | 41   | DEC 01, 2004      | Lecturer                                                     | 36000                       | English                             | Lecturer\n",
       "ASU              | 59   | MAY 23, 2005      | Food Prep Worker                                             | 31200                       | Sanford Commons                     | Food Service Technician\n",
       "ASU              | 37   | AUG 26, 2011      | Assistant Professor                                          | 68945                       | Psychology                          | Assistant Professor\n",
       "ASU              | 42   | JUL 18, 2012      | Student Activities Professional, Student Activities Assi ... | 53542                       | Campus Activities                   | Asst Dir, Org Leadership\n",
       "ASU              | 54   | JUL 31, 2001      | Nursing Professional                                         | 51504                       | Health Services                     | Professional Nurse\n",
       "ASU              | 50   | AUG 01, 2005      | Administrative / Office / Clerical Support Staff, Other      | 35484                       | School Of Music                     | Administrative Support Spec\n",
       "ASU              | 40   | APR 16, 2018      | Chief Budget Officer                                         | 110000                      | University Budget                   | University Budget Director\n",
       "... (47643 rows omitted)"
      ]
     },
     "execution_count": 2,
     "metadata": {},
     "output_type": "execute_result"
    }
   ],
   "source": [
    "unc = Table.read_table('data/unc_salaries.csv')\n",
    "unc"
   ]
  },
  {
   "cell_type": "markdown",
   "id": "21ccc283-a181-4874-b21b-1e13bc0640bb",
   "metadata": {},
   "source": [
    "## The features\n",
    "\n",
    "You can see that this data has 7 features for each of the 47,653 observations. In this case each observation refers to a specific person who was currently employed within the UNC System. The 7 features are:\n",
    "\n",
    "* `INSTITUTION NAME`: An abbreviation for the UNC institution at which the individual is employed\n",
    "  * `'ASU'`: Applachian State University\n",
    "  * `'ECSU'`: Elizabeth City State University\n",
    "  * `'ECU'`: East Carolina University\n",
    "  * `'FSU'`: Fayetteville State University\n",
    "  * `'NCA&T'`: North Carolina A&T State University\n",
    "  * `'NCCU'`: North Carolina Central University\n",
    "  * `'NCSU'`: North Carolina State University\n",
    "  * `'UNC-CH'`: University of North Carolina at Chapel Hill\n",
    "  * `'UNCA'`:  University of North Carolina at Asheville\n",
    "  * `'UNCC'`:  University of North Carolina at Charlotte\n",
    "  * `'UNCG'`: University of North Carolina at Greensboro\n",
    "  * `'UNCP'`: The University of North Carolina at Pembroke\n",
    "  * `'UNCSA'`: University of North Carolina School of the Arts\n",
    "  * `'UNCW'`: University of North Carolina at Wilmington\n",
    "  * `'WCU'`: Western Carolina University\n",
    "  * `'WSSU'`: Winston Salem State University\n",
    "* `AGE`: The age of the employee at the time this data was collected\n",
    "* `INITIAL HIRE DATE`: The date formatted as Mon DD, YYYY\n",
    "* `JOB CATEGORY`: A broad category that describes the type of job the individual holds\n",
    "* `EMPLOYEE ANNUAL BASE SALARY`: The base salary, in dollars, that the individual is paid for their work. This does not include bonus pay, additional stipends, or other benefits provided by the institution\n",
    "* `EMPLOYEE HOME DEPARTMENT`: The name of the department that employees the individual at the indicated institution\n",
    "* `PRIMARY WORKING TITLE`: The specific name of the job the individual holds\n",
    "\n",
    "**WARNING:** This data is NOT cleaned to ensure consistent job categories, home department names, or primary working title. For example, for the feature `JOB CATEGORY` there are various types of Accounting Professional listed\n",
    "\n",
    "* Accounting Professional, Accountant\n",
    "* Accounting Professional, Accountant Sr.\n",
    "* Accounting Professional, Accounting Unit Supervisor\n",
    "* Accounting Professional, Assistant Comptroller\n",
    "* Accounting Professional, Asst/Assoc Bursar\n",
    "* Accounting Professional, Collections Supervisor\n",
    "* Accounting Professional, Compliance Officer\n",
    "* Accounting Professional, Dept Business Mgr Sr.\n",
    "* Accounting Professional, Head Cashier\n",
    "\n",
    "There is also a generic descriptor of: Accounting Professional. For many applications you would likely want to \"clean\" this data by making a decision on how to lump all these roles together into one category, or determine what to do with the Accounting Professional categories that lack additional descriptions of their roles. Data cleaning is a difficult and time-consuming process that we will mostly ignore in this course so we can focus on the mathematical applications that can be applied to previously cleaned data."
   ]
  },
  {
   "cell_type": "markdown",
   "id": "6589451f-27bf-40d3-a0d4-0df8137fc9d6",
   "metadata": {},
   "source": [
    "## How many employees?\n",
    "\n",
    "Using the `group` Table method, count how many individuals are employed at each institution. Assign the new table created by the `group` operation to the name `school_counts`."
   ]
  },
  {
   "cell_type": "code",
   "execution_count": 8,
   "id": "above-placement",
   "metadata": {},
   "outputs": [
    {
     "data": {
      "text/html": [
       "<table border=\"1\" class=\"dataframe\">\n",
       "    <thead>\n",
       "        <tr>\n",
       "            <th>AGE</th> <th>ASU</th> <th>ECSU</th> <th>ECU</th> <th>FSU</th> <th>NCA&T</th> <th>NCCU</th> <th>NCSU</th> <th>UNC-CH</th> <th>UNCA</th> <th>UNCC</th> <th>UNCG</th> <th>UNCP</th> <th>UNCSA</th> <th>UNCW</th> <th>WCU</th> <th>WSSU</th>\n",
       "        </tr>\n",
       "    </thead>\n",
       "    <tbody>\n",
       "        <tr>\n",
       "            <td>19  </td> <td>1   </td> <td>0   </td> <td>0   </td> <td>0   </td> <td>0    </td> <td>0   </td> <td>0   </td> <td>1     </td> <td>0   </td> <td>0   </td> <td>0   </td> <td>0   </td> <td>0    </td> <td>0   </td> <td>0   </td> <td>0   </td>\n",
       "        </tr>\n",
       "        <tr>\n",
       "            <td>20  </td> <td>2   </td> <td>0   </td> <td>0   </td> <td>1   </td> <td>0    </td> <td>0   </td> <td>2   </td> <td>3     </td> <td>0   </td> <td>1   </td> <td>0   </td> <td>0   </td> <td>0    </td> <td>1   </td> <td>1   </td> <td>0   </td>\n",
       "        </tr>\n",
       "        <tr>\n",
       "            <td>21  </td> <td>0   </td> <td>0   </td> <td>4   </td> <td>0   </td> <td>2    </td> <td>1   </td> <td>4   </td> <td>7     </td> <td>1   </td> <td>0   </td> <td>0   </td> <td>0   </td> <td>0    </td> <td>0   </td> <td>1   </td> <td>0   </td>\n",
       "        </tr>\n",
       "        <tr>\n",
       "            <td>22  </td> <td>8   </td> <td>0   </td> <td>9   </td> <td>0   </td> <td>0    </td> <td>0   </td> <td>18  </td> <td>40    </td> <td>2   </td> <td>3   </td> <td>5   </td> <td>2   </td> <td>1    </td> <td>1   </td> <td>6   </td> <td>0   </td>\n",
       "        </tr>\n",
       "        <tr>\n",
       "            <td>23  </td> <td>12  </td> <td>2   </td> <td>18  </td> <td>1   </td> <td>3    </td> <td>6   </td> <td>42  </td> <td>103   </td> <td>5   </td> <td>12  </td> <td>13  </td> <td>5   </td> <td>0    </td> <td>4   </td> <td>12  </td> <td>1   </td>\n",
       "        </tr>\n",
       "        <tr>\n",
       "            <td>24  </td> <td>17  </td> <td>3   </td> <td>30  </td> <td>2   </td> <td>3    </td> <td>4   </td> <td>64  </td> <td>131   </td> <td>1   </td> <td>18  </td> <td>18  </td> <td>7   </td> <td>1    </td> <td>20  </td> <td>15  </td> <td>2   </td>\n",
       "        </tr>\n",
       "        <tr>\n",
       "            <td>25  </td> <td>25  </td> <td>0   </td> <td>47  </td> <td>3   </td> <td>9    </td> <td>7   </td> <td>107 </td> <td>169   </td> <td>6   </td> <td>32  </td> <td>29  </td> <td>5   </td> <td>1    </td> <td>19  </td> <td>23  </td> <td>2   </td>\n",
       "        </tr>\n",
       "        <tr>\n",
       "            <td>26  </td> <td>37  </td> <td>3   </td> <td>63  </td> <td>2   </td> <td>12   </td> <td>3   </td> <td>128 </td> <td>156   </td> <td>10  </td> <td>40  </td> <td>26  </td> <td>9   </td> <td>5    </td> <td>17  </td> <td>20  </td> <td>5   </td>\n",
       "        </tr>\n",
       "        <tr>\n",
       "            <td>27  </td> <td>38  </td> <td>3   </td> <td>64  </td> <td>5   </td> <td>18   </td> <td>7   </td> <td>156 </td> <td>189   </td> <td>5   </td> <td>38  </td> <td>33  </td> <td>16  </td> <td>5    </td> <td>27  </td> <td>22  </td> <td>6   </td>\n",
       "        </tr>\n",
       "        <tr>\n",
       "            <td>28  </td> <td>41  </td> <td>3   </td> <td>81  </td> <td>7   </td> <td>22   </td> <td>11  </td> <td>157 </td> <td>240   </td> <td>7   </td> <td>70  </td> <td>37  </td> <td>18  </td> <td>2    </td> <td>34  </td> <td>24  </td> <td>5   </td>\n",
       "        </tr>\n",
       "    </tbody>\n",
       "</table>\n",
       "<p>... (63 rows omitted)</p>"
      ],
      "text/plain": [
       "AGE  | ASU  | ECSU | ECU  | FSU  | NCA&T | NCCU | NCSU | UNC-CH | UNCA | UNCC | UNCG | UNCP | UNCSA | UNCW | WCU  | WSSU\n",
       "19   | 1    | 0    | 0    | 0    | 0     | 0    | 0    | 1      | 0    | 0    | 0    | 0    | 0     | 0    | 0    | 0\n",
       "20   | 2    | 0    | 0    | 1    | 0     | 0    | 2    | 3      | 0    | 1    | 0    | 0    | 0     | 1    | 1    | 0\n",
       "21   | 0    | 0    | 4    | 0    | 2     | 1    | 4    | 7      | 1    | 0    | 0    | 0    | 0     | 0    | 1    | 0\n",
       "22   | 8    | 0    | 9    | 0    | 0     | 0    | 18   | 40     | 2    | 3    | 5    | 2    | 1     | 1    | 6    | 0\n",
       "23   | 12   | 2    | 18   | 1    | 3     | 6    | 42   | 103    | 5    | 12   | 13   | 5    | 0     | 4    | 12   | 1\n",
       "24   | 17   | 3    | 30   | 2    | 3     | 4    | 64   | 131    | 1    | 18   | 18   | 7    | 1     | 20   | 15   | 2\n",
       "25   | 25   | 0    | 47   | 3    | 9     | 7    | 107  | 169    | 6    | 32   | 29   | 5    | 1     | 19   | 23   | 2\n",
       "26   | 37   | 3    | 63   | 2    | 12    | 3    | 128  | 156    | 10   | 40   | 26   | 9    | 5     | 17   | 20   | 5\n",
       "27   | 38   | 3    | 64   | 5    | 18    | 7    | 156  | 189    | 5    | 38   | 33   | 16   | 5     | 27   | 22   | 6\n",
       "28   | 41   | 3    | 81   | 7    | 22    | 11   | 157  | 240    | 7    | 70   | 37   | 18   | 2     | 34   | 24   | 5\n",
       "... (63 rows omitted)"
      ]
     },
     "execution_count": 8,
     "metadata": {},
     "output_type": "execute_result"
    }
   ],
   "source": [
    "# You complete some code in this cell\n",
    "school_counts = unc.pivot('INSTITUTION NAME', 'AGE')\n",
    "school_counts"
   ]
  },
  {
   "cell_type": "markdown",
   "id": "3f72031c-7412-4180-a728-718f644711de",
   "metadata": {},
   "source": [
    "Sort this data by the column containing the count, and determine which school employs the most individuals and which school employs the least."
   ]
  },
  {
   "cell_type": "code",
   "execution_count": null,
   "id": "a12fda67-cb8b-445e-bd24-1269578fd156",
   "metadata": {},
   "outputs": [],
   "source": [
    "# You complete some code in this cell\n",
    "..."
   ]
  },
  {
   "cell_type": "markdown",
   "id": "7c1ec26b-6147-40d2-aa24-c356c4e2afc6",
   "metadata": {},
   "source": [
    "## Average salary by school\n",
    "\n",
    "The average salary for an employee in the UNC System is \\$75,617.39. Do you think this average salary would vary for employees at different schools? Let's find out."
   ]
  },
  {
   "cell_type": "markdown",
   "id": "0f9f3493-c096-49ea-b788-0187320d71a1",
   "metadata": {},
   "source": [
    "Using table methods on the `unc` table to create a new table that only contains data on 25 year old employees, then select the column regarding base salary for these 25 year olds as an array, and determine their average salary."
   ]
  },
  {
   "cell_type": "code",
   "execution_count": null,
   "id": "326dd1ec-0d38-4d08-bd64-4f2dd655ae09",
   "metadata": {},
   "outputs": [],
   "source": [
    "# You complete some code in this cell\n",
    "..."
   ]
  },
  {
   "cell_type": "markdown",
   "id": "62c6bac5-d9ed-4850-9491-77c9078e786c",
   "metadata": {},
   "source": [
    "Now compute the average salary for a few other ages in the data set. Do you see a trend?"
   ]
  },
  {
   "cell_type": "code",
   "execution_count": null,
   "id": "d5d6cc8a-895c-4802-9dc3-1ad1869f85f5",
   "metadata": {},
   "outputs": [],
   "source": [
    "# You complete some code in this cell\n",
    "..."
   ]
  },
  {
   "cell_type": "code",
   "execution_count": null,
   "id": "6fdede5e-9c05-45e7-9161-36a9481e6a0b",
   "metadata": {},
   "outputs": [],
   "source": [
    "# You complete some code in this cell\n",
    "..."
   ]
  },
  {
   "cell_type": "code",
   "execution_count": null,
   "id": "ade4dc8c-6ba9-4079-a0f4-3826126e8f55",
   "metadata": {},
   "outputs": [],
   "source": [
    "# You complete some code in this cell\n",
    "..."
   ]
  },
  {
   "cell_type": "code",
   "execution_count": null,
   "id": "f22210c6-0cd7-499d-9ddc-8717e6a6a85b",
   "metadata": {},
   "outputs": [],
   "source": [
    "# You complete some code in this cell\n",
    "..."
   ]
  },
  {
   "cell_type": "code",
   "execution_count": null,
   "id": "9fe5fb89-7a37-44be-97df-5a681d36f71c",
   "metadata": {},
   "outputs": [],
   "source": [
    "# You complete some code in this cell\n",
    "..."
   ]
  },
  {
   "cell_type": "markdown",
   "id": "2255985e-e900-40be-90b3-4573c56ad6b0",
   "metadata": {},
   "source": [
    "It looks like that as people get older, on average they are paid more. It's not immediately clear *why* that might be the case. Do employees in their 70s have many years of experience with UNC which results in higher pay through annual raises? Perhaps only those people who can keep working into their 60s or 70s do jobs that inherently pay more than those that can't be completed by employees of that age? We'd need to dig deeper into the data to determine the cause of this relationship!"
   ]
  },
  {
   "cell_type": "markdown",
   "id": "7c298938-641a-45cd-a207-e6e4ce48bf2f",
   "metadata": {},
   "source": [
    "## Samping from the data\n",
    "\n",
    "There are so many data points in this table, it could be hard sometimes to work with all of the individuals. Let's take a sample from the table to create a smaller table. We'll learn a few ways to do this throughout the course, but for now let's take a sample by doing the following:\n",
    "\n",
    "First, sort the `unc` table by age, with the younger individuals at the top of the table. Save this sorted table to `unc_sorted`."
   ]
  },
  {
   "cell_type": "code",
   "execution_count": null,
   "id": "51cde735-c777-4944-be9d-a913d427b24c",
   "metadata": {},
   "outputs": [],
   "source": [
    "# You complete some code in this cell\n",
    "unc_sorted = ...\n",
    "unc_sorted"
   ]
  },
  {
   "cell_type": "markdown",
   "id": "239efa1a-a332-476e-be2d-13a5b3be4352",
   "metadata": {},
   "source": [
    "Then, using `np.arange` create an array that contains the integers from 0 to 47600, incrementing by 100. Call this array `employee_number`. Inspect the array to ensure it contains the integers 0 and 47600."
   ]
  },
  {
   "cell_type": "code",
   "execution_count": null,
   "id": "3fb7b8d9-6eb5-4b7a-9312-338f148feb39",
   "metadata": {},
   "outputs": [],
   "source": [
    "# You complete some code in this cell\n",
    "employee_number = ...\n",
    "employee_number"
   ]
  },
  {
   "cell_type": "markdown",
   "id": "9f49521d-492f-4f73-8515-663a958a8bd9",
   "metadata": {},
   "source": [
    "Lastly, run the cell below which uses the `take` method. The `take` method can be given an integer or array of integers that represent row numbers, also called row indices. When the method is called, it will create a new table that only contains those rows whose indices where included in the call. We'll save this to the table named `sample` since it is a sample of our larger table named `unc`."
   ]
  },
  {
   "cell_type": "code",
   "execution_count": null,
   "id": "965422e0-f573-487d-8941-8e1062523847",
   "metadata": {},
   "outputs": [],
   "source": [
    "sample = unc.take(employee_number)\n",
    "sample"
   ]
  },
  {
   "cell_type": "markdown",
   "id": "ddab167f-328d-4f8c-9366-f2f177a6473a",
   "metadata": {},
   "source": [
    "**NOTE:** This is NOT a random sample! We'll investigate different and better methods for sampling data later in the course.\n",
    "\n",
    "Let's see how well our sample captures the patterns in the original table. Calculate the average salary of all individuals in `sample`."
   ]
  },
  {
   "cell_type": "code",
   "execution_count": null,
   "id": "8c130362-87a1-4b39-8bc5-af04395ca2b5",
   "metadata": {},
   "outputs": [],
   "source": [
    "# You complete some code in this cell\n",
    "# ..."
   ]
  },
  {
   "cell_type": "markdown",
   "id": "dc0eb2aa-7de5-4945-8526-5534a031c1ef",
   "metadata": {},
   "source": [
    "How does this compare to the average salary of the individuals in `unc`? Is it about the same, or very different? Why do you think that is?"
   ]
  },
  {
   "cell_type": "markdown",
   "id": "a932cbab-2a43-46c2-8834-8913799b9a96",
   "metadata": {},
   "source": [
    "## You explore!\n",
    "\n",
    "Make a calculation that you find interesting and share with your classmates in the discussion board for this activity. Include your code so others can reproduce your work."
   ]
  }
 ],
 "metadata": {
  "kernelspec": {
   "display_name": "Python 3 (ipykernel)",
   "language": "python",
   "name": "python3"
  },
  "language_info": {
   "codemirror_mode": {
    "name": "ipython",
    "version": 3
   },
   "file_extension": ".py",
   "mimetype": "text/x-python",
   "name": "python",
   "nbconvert_exporter": "python",
   "pygments_lexer": "ipython3",
   "version": "3.9.6"
  }
 },
 "nbformat": 4,
 "nbformat_minor": 5
}
