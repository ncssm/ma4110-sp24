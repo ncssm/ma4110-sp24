{
 "cells": [
  {
   "cell_type": "code",
   "execution_count": 1,
   "id": "spatial-force",
   "metadata": {},
   "outputs": [],
   "source": [
    "from datascience import *\n",
    "import numpy as np\n",
    "\n",
    "%matplotlib inline\n",
    "import matplotlib.pyplot as plots\n",
    "plots.style.use('fivethirtyeight')"
   ]
  },
  {
   "cell_type": "markdown",
   "id": "focal-encyclopedia",
   "metadata": {},
   "source": [
    "# UNC System Salary Information"
   ]
  },
  {
   "cell_type": "markdown",
   "id": "adopted-washington",
   "metadata": {},
   "source": [
    "The UNC System maintains a publically available database of employees and their salaries that can be found on the web. From their website:\n",
    "\n",
    "> **What information is provided in the database?** This database contains the names, position titles and salaries of permanent employees of the University, as furnished by UNC System Office and the constituent institutions of The University of North Carolina.\n",
    ">\n",
    ">**What information is not provided in the database?** We currently do not have data available for UNC Health Care, UNC Press or the North Carolina School of Science and Math.\n",
    ">\n",
    ">**How frequently is the data updated?** The data provided in this database is updated quarterly and represents a snapshot of employees, salaries, and titles as of the date listed. Because it is a snapshot, the database may not accurately reflect an employee's permanent salary or all sources of funding provided throughout the year. As examples, the database may not capture all external fund sources that may compensate some employees, or the information may capture temporary salary increases or temporary title changes for additional duties for an employee that could change in the course of the year.\n",
    ">\n",
    ">**What if I have questions about an employee's salary or other personnel information?** If you believe that information about a particular employee is inaccurate or if you have other questions about the information provided in the database, you may contact the HR department at the constituent institution to verify the employee's salary.\n",
    ">\n",
    ">**Why do we publish this data?** Employee salaries are public and we believe that publishing salaries benefits both the public by providing easily accessible salary information and the employing institutions by minimizing public personnel information requests.\n",
    "\n",
    "You'll find a `.csv` file containing the full database **with names removed** in the `/activities/data/` folder as `unc_salaries.csv`. \n",
    "\n",
    "Load this file as a Table named `unc`. This data was downloaded in February 2021, so depending on when you're viewing this activity it may be out of date."
   ]
  },
  {
   "cell_type": "code",
   "execution_count": 12,
   "id": "intelligent-garbage",
   "metadata": {},
   "outputs": [
    {
     "data": {
      "text/html": [
       "<table border=\"1\" class=\"dataframe\">\n",
       "    <thead>\n",
       "        <tr>\n",
       "            <th>INSTITUTION NAME</th> <th>AGE</th> <th>INITIAL HIRE DATE</th> <th>JOB CATEGORY</th> <th>EMPLOYEE ANNUAL BASE SALARY</th> <th>EMPLOYEE HOME DEPARTMENT</th> <th>PRIMARY WORKING TITLE</th>\n",
       "        </tr>\n",
       "    </thead>\n",
       "    <tbody>\n",
       "        <tr>\n",
       "            <td>ASU             </td> <td>69  </td> <td>AUG 01, 1998     </td> <td>Librarian AC, Other                                         </td> <td>49507                      </td> <td>Library                            </td> <td>Adjunct Assistant Professor</td>\n",
       "        </tr>\n",
       "        <tr>\n",
       "            <td>ASU             </td> <td>63  </td> <td>AUG 24, 1998     </td> <td>Librarian AC, Other                                         </td> <td>23558                      </td> <td>Library                            </td> <td>Adjunct Assistant Professor</td>\n",
       "        </tr>\n",
       "        <tr>\n",
       "            <td>ASU             </td> <td>47  </td> <td>JAN 16, 2018     </td> <td>Lecturer                                                    </td> <td>47000                      </td> <td>Sustainable Technlgy & Built Envirn</td> <td>Adjunct Instructor         </td>\n",
       "        </tr>\n",
       "        <tr>\n",
       "            <td>ASU             </td> <td>41  </td> <td>DEC 01, 2004     </td> <td>Lecturer                                                    </td> <td>36000                      </td> <td>English                            </td> <td>Lecturer                   </td>\n",
       "        </tr>\n",
       "        <tr>\n",
       "            <td>ASU             </td> <td>59  </td> <td>MAY 23, 2005     </td> <td>Food Prep Worker                                            </td> <td>31200                      </td> <td>Sanford Commons                    </td> <td>Food Service Technician    </td>\n",
       "        </tr>\n",
       "        <tr>\n",
       "            <td>ASU             </td> <td>37  </td> <td>AUG 26, 2011     </td> <td>Assistant Professor                                         </td> <td>68945                      </td> <td>Psychology                         </td> <td>Assistant Professor        </td>\n",
       "        </tr>\n",
       "        <tr>\n",
       "            <td>ASU             </td> <td>42  </td> <td>JUL 18, 2012     </td> <td>Student Activities Professional, Student Activities Assi ...</td> <td>53542                      </td> <td>Campus Activities                  </td> <td>Asst Dir, Org Leadership   </td>\n",
       "        </tr>\n",
       "        <tr>\n",
       "            <td>ASU             </td> <td>54  </td> <td>JUL 31, 2001     </td> <td>Nursing Professional                                        </td> <td>51504                      </td> <td>Health Services                    </td> <td>Professional Nurse         </td>\n",
       "        </tr>\n",
       "        <tr>\n",
       "            <td>ASU             </td> <td>50  </td> <td>AUG 01, 2005     </td> <td>Administrative / Office / Clerical Support Staff, Other     </td> <td>35484                      </td> <td>School Of Music                    </td> <td>Administrative Support Spec</td>\n",
       "        </tr>\n",
       "        <tr>\n",
       "            <td>ASU             </td> <td>40  </td> <td>APR 16, 2018     </td> <td>Chief Budget Officer                                        </td> <td>110000                     </td> <td>University Budget                  </td> <td>University Budget Director </td>\n",
       "        </tr>\n",
       "    </tbody>\n",
       "</table>\n",
       "<p>... (47643 rows omitted)</p>"
      ],
      "text/plain": [
       "INSTITUTION NAME | AGE  | INITIAL HIRE DATE | JOB CATEGORY                                                 | EMPLOYEE ANNUAL BASE SALARY | EMPLOYEE HOME DEPARTMENT            | PRIMARY WORKING TITLE\n",
       "ASU              | 69   | AUG 01, 1998      | Librarian AC, Other                                          | 49507                       | Library                             | Adjunct Assistant Professor\n",
       "ASU              | 63   | AUG 24, 1998      | Librarian AC, Other                                          | 23558                       | Library                             | Adjunct Assistant Professor\n",
       "ASU              | 47   | JAN 16, 2018      | Lecturer                                                     | 47000                       | Sustainable Technlgy & Built Envirn | Adjunct Instructor\n",
       "ASU              | 41   | DEC 01, 2004      | Lecturer                                                     | 36000                       | English                             | Lecturer\n",
       "ASU              | 59   | MAY 23, 2005      | Food Prep Worker                                             | 31200                       | Sanford Commons                     | Food Service Technician\n",
       "ASU              | 37   | AUG 26, 2011      | Assistant Professor                                          | 68945                       | Psychology                          | Assistant Professor\n",
       "ASU              | 42   | JUL 18, 2012      | Student Activities Professional, Student Activities Assi ... | 53542                       | Campus Activities                   | Asst Dir, Org Leadership\n",
       "ASU              | 54   | JUL 31, 2001      | Nursing Professional                                         | 51504                       | Health Services                     | Professional Nurse\n",
       "ASU              | 50   | AUG 01, 2005      | Administrative / Office / Clerical Support Staff, Other      | 35484                       | School Of Music                     | Administrative Support Spec\n",
       "ASU              | 40   | APR 16, 2018      | Chief Budget Officer                                         | 110000                      | University Budget                   | University Budget Director\n",
       "... (47643 rows omitted)"
      ]
     },
     "execution_count": 12,
     "metadata": {},
     "output_type": "execute_result"
    }
   ],
   "source": [
    "unc = Table.read_table('data/unc_salaries.csv')\n",
    "unc"
   ]
  },
  {
   "cell_type": "markdown",
   "id": "21ccc283-a181-4874-b21b-1e13bc0640bb",
   "metadata": {},
   "source": [
    "## The features\n",
    "\n",
    "You can see that this data has 7 features for each of the 47,653 observations. In this case each observation refers to a specific person who was currently employed within the UNC System. The 7 features are:\n",
    "\n",
    "* `INSTITUTION NAME`: An abbreviation for the UNC institution at which the individual is employed\n",
    "  * `'ASU'`: Applachian State University\n",
    "  * `'ECSU'`: Elizabeth City State University\n",
    "  * `'ECU'`: East Carolina University\n",
    "  * `'FSU'`: Fayetteville State University\n",
    "  * `'NCA&T'`: North Carolina A&T State University\n",
    "  * `'NCCU'`: North Carolina Central University\n",
    "  * `'NCSU'`: North Carolina State University\n",
    "  * `'UNC-CH'`: University of North Carolina at Chapel Hill\n",
    "  * `'UNCA'`:  University of North Carolina at Asheville\n",
    "  * `'UNCC'`:  University of North Carolina at Charlotte\n",
    "  * `'UNCG'`: University of North Carolina at Greensboro\n",
    "  * `'UNCP'`: The University of North Carolina at Pembroke\n",
    "  * `'UNCSA'`: University of North Carolina School of the Arts\n",
    "  * `'UNCW'`: University of North Carolina at Wilmington\n",
    "  * `'WCU'`: Western Carolina University\n",
    "  * `'WSSU'`: Winston Salem State University\n",
    "* `AGE`: The age of the employee at the time this data was collected\n",
    "* `INITIAL HIRE DATE`: The date formatted as Mon DD, YYYY\n",
    "* `JOB CATEGORY`: A broad category that describes the type of job the individual holds\n",
    "* `EMPLOYEE ANNUAL BASE SALARY`: The base salary, in dollars, that the individual is paid for their work. This does not include bonus pay, additional stipends, or other benefits provided by the institution\n",
    "* `EMPLOYEE HOME DEPARTMENT`: The name of the department that employees the individual at the indicated institution\n",
    "* `PRIMARY WORKING TITLE`: The specific name of the job the individual holds\n",
    "\n",
    "**WARNING:** This data is NOT cleaned to ensure consistent job categories, home department names, or primary working title. For example, for the feature `JOB CATEGORY` there are various types of Accounting Professional listed\n",
    "\n",
    "* Accounting Professional, Accountant\n",
    "* Accounting Professional, Accountant Sr.\n",
    "* Accounting Professional, Accounting Unit Supervisor\n",
    "* Accounting Professional, Assistant Comptroller\n",
    "* Accounting Professional, Asst/Assoc Bursar\n",
    "* Accounting Professional, Collections Supervisor\n",
    "* Accounting Professional, Compliance Officer\n",
    "* Accounting Professional, Dept Business Mgr Sr.\n",
    "* Accounting Professional, Head Cashier\n",
    "\n",
    "There is also a generic descriptor of: Accounting Professional. For many applications you would likely want to \"clean\" this data by making a decision on how to lump all these roles together into one category, or determine what to do with the Accounting Professional categories that lack additional descriptions of their roles. Data cleaning is a difficult and time-consuming process that we will mostly ignore in this course so we can focus on the mathematical applications that can be applied to previously cleaned data."
   ]
  },
  {
   "cell_type": "markdown",
   "id": "6589451f-27bf-40d3-a0d4-0df8137fc9d6",
   "metadata": {},
   "source": [
    "## Who makes the most?\n",
    "\n",
    "Using table operations, sort the `unc` table by employee salary so the highest paid employee is at the top and then format that column as a number so it is displayed with commas."
   ]
  },
  {
   "cell_type": "code",
   "execution_count": 13,
   "id": "above-placement",
   "metadata": {},
   "outputs": [
    {
     "data": {
      "text/html": [
       "<table border=\"1\" class=\"dataframe\">\n",
       "    <thead>\n",
       "        <tr>\n",
       "            <th>INSTITUTION NAME</th> <th>AGE</th> <th>INITIAL HIRE DATE</th> <th>JOB CATEGORY</th> <th>EMPLOYEE ANNUAL BASE SALARY</th> <th>EMPLOYEE HOME DEPARTMENT</th> <th>PRIMARY WORKING TITLE</th>\n",
       "        </tr>\n",
       "    </thead>\n",
       "    <tbody>\n",
       "        <tr>\n",
       "            <td>NCSU            </td> <td>49  </td> <td>DEC 01, 2012     </td> <td>Head Coach - Football                        </td> <td>1,625,000.00               </td> <td>Football                   </td> <td>Head Coach                            </td>\n",
       "        </tr>\n",
       "        <tr>\n",
       "            <td>NCSU            </td> <td>48  </td> <td>MAR 18, 2017     </td> <td>Head Coach - Men's Basketball                </td> <td>1,350,000.00               </td> <td>Men's Basketball           </td> <td>Head Coach                            </td>\n",
       "        </tr>\n",
       "        <tr>\n",
       "            <td>UNC-CH          </td> <td>62  </td> <td>APR 15, 2019     </td> <td>Professor                                    </td> <td>930,000.04                 </td> <td>Orthopaedics - Pediatrics  </td> <td>NODESCR                               </td>\n",
       "        </tr>\n",
       "        <tr>\n",
       "            <td>ECU             </td> <td>63  </td> <td>SEP 15, 2014     </td> <td>Professor (Primary) and Department Chair/Head</td> <td>901,100.00                 </td> <td>BSOM Cardiovascular Science</td> <td>Professor                             </td>\n",
       "        </tr>\n",
       "        <tr>\n",
       "            <td>UNC-CH          </td> <td>68  </td> <td>DEC 01, 1983     </td> <td>Professor                                    </td> <td>864,910.08                 </td> <td>Med-Nephrology             </td> <td>Allan Brewster Distinguished Professor</td>\n",
       "        </tr>\n",
       "        <tr>\n",
       "            <td>UNC-CH          </td> <td>56  </td> <td>JUL 31, 1997     </td> <td>Professor                                    </td> <td>860,250.84                 </td> <td>Neurosurgery               </td> <td>Distinguished Professor & Chair       </td>\n",
       "        </tr>\n",
       "        <tr>\n",
       "            <td>UNC-CH          </td> <td>72  </td> <td>AUG 01, 2020     </td> <td>Professor                                    </td> <td>837,720.00                 </td> <td>Pediatrics                 </td> <td>NODESCR                               </td>\n",
       "        </tr>\n",
       "        <tr>\n",
       "            <td>UNC-CH          </td> <td>52  </td> <td>JUL 01, 2016     </td> <td>Professor                                    </td> <td>830,637.04                 </td> <td>Surgery                    </td> <td>NODESCR                               </td>\n",
       "        </tr>\n",
       "        <tr>\n",
       "            <td>ECU             </td> <td>51  </td> <td>NOV 18, 2019     </td> <td>Professor                                    </td> <td>813,000.00                 </td> <td>BSOM CVS StrucHeart Disease</td> <td>Clinical Professor                    </td>\n",
       "        </tr>\n",
       "        <tr>\n",
       "            <td>ECU             </td> <td>63  </td> <td>JUL 22, 2019     </td> <td>Professor                                    </td> <td>813,000.00                 </td> <td>BSOM CVS StrucHeart Disease</td> <td>Professor                             </td>\n",
       "        </tr>\n",
       "    </tbody>\n",
       "</table>\n",
       "<p>... (47643 rows omitted)</p>"
      ],
      "text/plain": [
       "INSTITUTION NAME | AGE  | INITIAL HIRE DATE | JOB CATEGORY                                  | EMPLOYEE ANNUAL BASE SALARY | EMPLOYEE HOME DEPARTMENT    | PRIMARY WORKING TITLE\n",
       "NCSU             | 49   | DEC 01, 2012      | Head Coach - Football                         | 1,625,000.00                | Football                    | Head Coach\n",
       "NCSU             | 48   | MAR 18, 2017      | Head Coach - Men's Basketball                 | 1,350,000.00                | Men's Basketball            | Head Coach\n",
       "UNC-CH           | 62   | APR 15, 2019      | Professor                                     | 930,000.04                  | Orthopaedics - Pediatrics   | NODESCR\n",
       "ECU              | 63   | SEP 15, 2014      | Professor (Primary) and Department Chair/Head | 901,100.00                  | BSOM Cardiovascular Science | Professor\n",
       "UNC-CH           | 68   | DEC 01, 1983      | Professor                                     | 864,910.08                  | Med-Nephrology              | Allan Brewster Distinguished Professor\n",
       "UNC-CH           | 56   | JUL 31, 1997      | Professor                                     | 860,250.84                  | Neurosurgery                | Distinguished Professor & Chair\n",
       "UNC-CH           | 72   | AUG 01, 2020      | Professor                                     | 837,720.00                  | Pediatrics                  | NODESCR\n",
       "UNC-CH           | 52   | JUL 01, 2016      | Professor                                     | 830,637.04                  | Surgery                     | NODESCR\n",
       "ECU              | 51   | NOV 18, 2019      | Professor                                     | 813,000.00                  | BSOM CVS StrucHeart Disease | Clinical Professor\n",
       "ECU              | 63   | JUL 22, 2019      | Professor                                     | 813,000.00                  | BSOM CVS StrucHeart Disease | Professor\n",
       "... (47643 rows omitted)"
      ]
     },
     "execution_count": 13,
     "metadata": {},
     "output_type": "execute_result"
    }
   ],
   "source": [
    "# You complete some code in this cell\n",
    "# unc...\n",
    "unc.sort('EMPLOYEE ANNUAL BASE SALARY', descending=True).set_format('EMPLOYEE ANNUAL BASE SALARY', NumberFormatter)"
   ]
  },
  {
   "cell_type": "markdown",
   "id": "7f3b7685-32ff-4701-affd-81c7a8e4ba56",
   "metadata": {},
   "source": [
    "Using a search engine, can you name this person?"
   ]
  },
  {
   "cell_type": "markdown",
   "id": "7c1ec26b-6147-40d2-aa24-c356c4e2afc6",
   "metadata": {},
   "source": [
    "## Average salary by age\n",
    "\n",
    "The average salary for an employee in the UNC System is \\$75,617.39. Do you think this average salary would vary for employees of different ages? Let's find out."
   ]
  },
  {
   "cell_type": "markdown",
   "id": "0f9f3493-c096-49ea-b788-0187320d71a1",
   "metadata": {},
   "source": [
    "Using table methods on the `unc` table to create a new table that only contains data on 25 year old employees, then select the column regarding base salary for these 25 year olds as an array, and determine their average salary."
   ]
  },
  {
   "cell_type": "code",
   "execution_count": 16,
   "id": "326dd1ec-0d38-4d08-bd64-4f2dd655ae09",
   "metadata": {},
   "outputs": [
    {
     "data": {
      "text/plain": [
       "41719.96280991736"
      ]
     },
     "execution_count": 16,
     "metadata": {},
     "output_type": "execute_result"
    }
   ],
   "source": [
    "# You complete some code in this cell\n",
    "# ...\n",
    "np.average( unc.where('AGE', 25).column('EMPLOYEE ANNUAL BASE SALARY') )"
   ]
  },
  {
   "cell_type": "markdown",
   "id": "62c6bac5-d9ed-4850-9491-77c9078e786c",
   "metadata": {},
   "source": [
    "Now compute the average salary for a few other ages in the data set. Do you see a trend?"
   ]
  },
  {
   "cell_type": "code",
   "execution_count": 18,
   "id": "d5d6cc8a-895c-4802-9dc3-1ad1869f85f5",
   "metadata": {},
   "outputs": [
    {
     "data": {
      "text/plain": [
       "70198.36109347444"
      ]
     },
     "execution_count": 18,
     "metadata": {},
     "output_type": "execute_result"
    }
   ],
   "source": [
    "# You complete some code in this cell\n",
    "np.average( unc.where('AGE', 35).column('EMPLOYEE ANNUAL BASE SALARY') )"
   ]
  },
  {
   "cell_type": "code",
   "execution_count": 19,
   "id": "6fdede5e-9c05-45e7-9161-36a9481e6a0b",
   "metadata": {},
   "outputs": [
    {
     "data": {
      "text/plain": [
       "78658.41542789224"
      ]
     },
     "execution_count": 19,
     "metadata": {},
     "output_type": "execute_result"
    }
   ],
   "source": [
    "# You complete some code in this cell\n",
    "np.average( unc.where('AGE', 45).column('EMPLOYEE ANNUAL BASE SALARY') )"
   ]
  },
  {
   "cell_type": "code",
   "execution_count": 20,
   "id": "ade4dc8c-6ba9-4079-a0f4-3826126e8f55",
   "metadata": {},
   "outputs": [
    {
     "data": {
      "text/plain": [
       "81855.78005199308"
      ]
     },
     "execution_count": 20,
     "metadata": {},
     "output_type": "execute_result"
    }
   ],
   "source": [
    "# You complete some code in this cell\n",
    "np.average( unc.where('AGE', 55).column('EMPLOYEE ANNUAL BASE SALARY') )"
   ]
  },
  {
   "cell_type": "code",
   "execution_count": 21,
   "id": "f22210c6-0cd7-499d-9ddc-8717e6a6a85b",
   "metadata": {},
   "outputs": [
    {
     "data": {
      "text/plain": [
       "93499.58783171521"
      ]
     },
     "execution_count": 21,
     "metadata": {},
     "output_type": "execute_result"
    }
   ],
   "source": [
    "# You complete some code in this cell\n",
    "np.average( unc.where('AGE', 65).column('EMPLOYEE ANNUAL BASE SALARY') )"
   ]
  },
  {
   "cell_type": "code",
   "execution_count": 22,
   "id": "9fe5fb89-7a37-44be-97df-5a681d36f71c",
   "metadata": {},
   "outputs": [
    {
     "data": {
      "text/plain": [
       "110481.54507042254"
      ]
     },
     "execution_count": 22,
     "metadata": {},
     "output_type": "execute_result"
    }
   ],
   "source": [
    "# You complete some code in this cell\n",
    "np.average( unc.where('AGE', 75).column('EMPLOYEE ANNUAL BASE SALARY') )"
   ]
  },
  {
   "cell_type": "markdown",
   "id": "2255985e-e900-40be-90b3-4573c56ad6b0",
   "metadata": {},
   "source": [
    "It looks like that as people get older, on average they are paid more. It's not immediately clear *why* that might be the case. Do employees in their 70s have many years of experience with UNC which results in higher pay through annual raises? Perhaps only those people who can keep working into their 60s or 70s do jobs that inherently pay more than those that can't be completed by employees of that age? We'd need to dig deeper into the data to determine the cause of this relationship!"
   ]
  },
  {
   "cell_type": "markdown",
   "id": "7c298938-641a-45cd-a207-e6e4ce48bf2f",
   "metadata": {},
   "source": [
    "## Samping from the data\n",
    "\n",
    "There are so many data points in this table, it could be hard sometimes to work with all of the individuals. Let's take a sample from the table to create a smaller table. We'll learn a few ways to do this throughout the course, but for now let's take a sample by doing the following:\n",
    "\n",
    "First, sort the `unc` table by age, with the younger individuals at the top of the table. Save this sorted table to `unc_sorted`."
   ]
  },
  {
   "cell_type": "code",
   "execution_count": 25,
   "id": "51cde735-c777-4944-be9d-a913d427b24c",
   "metadata": {},
   "outputs": [
    {
     "data": {
      "text/html": [
       "<table border=\"1\" class=\"dataframe\">\n",
       "    <thead>\n",
       "        <tr>\n",
       "            <th>INSTITUTION NAME</th> <th>AGE</th> <th>INITIAL HIRE DATE</th> <th>JOB CATEGORY</th> <th>EMPLOYEE ANNUAL BASE SALARY</th> <th>EMPLOYEE HOME DEPARTMENT</th> <th>PRIMARY WORKING TITLE</th>\n",
       "        </tr>\n",
       "    </thead>\n",
       "    <tbody>\n",
       "        <tr>\n",
       "            <td>ASU             </td> <td>19  </td> <td>SEP 16, 2019     </td> <td>Custodian / Housekeeper                                     </td> <td>31200                      </td> <td>University Housing-Operations </td> <td>Building &  Environmental Tech</td>\n",
       "        </tr>\n",
       "        <tr>\n",
       "            <td>UNC-CH          </td> <td>19  </td> <td>NOV 30, 2020     </td> <td>Research Assistants, Technicians, Technologists, Vet Science</td> <td>31200                      </td> <td>Comparative Medicine          </td> <td>Research Technician           </td>\n",
       "        </tr>\n",
       "        <tr>\n",
       "            <td>ASU             </td> <td>20  </td> <td>FEB 18, 2019     </td> <td>Custodian / Housekeeper, Floor Maintenance                  </td> <td>31846                      </td> <td>Environmental Services        </td> <td>Building & Environmental Tech </td>\n",
       "        </tr>\n",
       "        <tr>\n",
       "            <td>ASU             </td> <td>20  </td> <td>NOV 02, 2020     </td> <td>Custodian / Housekeeper                                     </td> <td>31200                      </td> <td>Environmental Services        </td> <td>Building & Environmental Tech </td>\n",
       "        </tr>\n",
       "        <tr>\n",
       "            <td>FSU             </td> <td>20  </td> <td>NOV 02, 2020     </td> <td>Carpenter (Journeyman)                                      </td> <td>33390                      </td> <td>Assc VC for Facilities Mgmt   </td> <td>Fac Maint Tech Mech Trade     </td>\n",
       "        </tr>\n",
       "        <tr>\n",
       "            <td>NCSU            </td> <td>20  </td> <td>NOV 11, 2019     </td> <td>IT Technical Support/Paraprofessional                       </td> <td>38000                      </td> <td>Communication Technologies    </td> <td>Technology Support Technician </td>\n",
       "        </tr>\n",
       "        <tr>\n",
       "            <td>NCSU            </td> <td>20  </td> <td>APR 01, 2020     </td> <td>Telecommunications Technical/Professional                   </td> <td>41000                      </td> <td>Information Technology-EHPS   </td> <td>IT Operations Technician      </td>\n",
       "        </tr>\n",
       "        <tr>\n",
       "            <td>UNC-CH          </td> <td>20  </td> <td>MAR 18, 2019     </td> <td>Grounds / Landscape Worker                                  </td> <td>31200                      </td> <td>FS-Grounds-LS Maint Hsng/Pkng </td> <td>Bldg & Env Services Technician</td>\n",
       "        </tr>\n",
       "        <tr>\n",
       "            <td>UNC-CH          </td> <td>20  </td> <td>OCT 05, 2020     </td> <td>Research Asst/Tech, Health/Medicine                         </td> <td>36000                      </td> <td>Radiology - Research          </td> <td>Soc/Clin Research Assistant   </td>\n",
       "        </tr>\n",
       "        <tr>\n",
       "            <td>UNC-CH          </td> <td>20  </td> <td>NOV 02, 2020     </td> <td>Research Asst/Tech, Health/Medicine                         </td> <td>36000                      </td> <td>Lineberger Compr Cancer Center</td> <td>Soc/Clin Research Assistant   </td>\n",
       "        </tr>\n",
       "    </tbody>\n",
       "</table>\n",
       "<p>... (47643 rows omitted)</p>"
      ],
      "text/plain": [
       "INSTITUTION NAME | AGE  | INITIAL HIRE DATE | JOB CATEGORY                                                 | EMPLOYEE ANNUAL BASE SALARY | EMPLOYEE HOME DEPARTMENT       | PRIMARY WORKING TITLE\n",
       "ASU              | 19   | SEP 16, 2019      | Custodian / Housekeeper                                      | 31200                       | University Housing-Operations  | Building &  Environmental Tech\n",
       "UNC-CH           | 19   | NOV 30, 2020      | Research Assistants, Technicians, Technologists, Vet Science | 31200                       | Comparative Medicine           | Research Technician\n",
       "ASU              | 20   | FEB 18, 2019      | Custodian / Housekeeper, Floor Maintenance                   | 31846                       | Environmental Services         | Building & Environmental Tech\n",
       "ASU              | 20   | NOV 02, 2020      | Custodian / Housekeeper                                      | 31200                       | Environmental Services         | Building & Environmental Tech\n",
       "FSU              | 20   | NOV 02, 2020      | Carpenter (Journeyman)                                       | 33390                       | Assc VC for Facilities Mgmt    | Fac Maint Tech Mech Trade\n",
       "NCSU             | 20   | NOV 11, 2019      | IT Technical Support/Paraprofessional                        | 38000                       | Communication Technologies     | Technology Support Technician\n",
       "NCSU             | 20   | APR 01, 2020      | Telecommunications Technical/Professional                    | 41000                       | Information Technology-EHPS    | IT Operations Technician\n",
       "UNC-CH           | 20   | MAR 18, 2019      | Grounds / Landscape Worker                                   | 31200                       | FS-Grounds-LS Maint Hsng/Pkng  | Bldg & Env Services Technician\n",
       "UNC-CH           | 20   | OCT 05, 2020      | Research Asst/Tech, Health/Medicine                          | 36000                       | Radiology - Research           | Soc/Clin Research Assistant\n",
       "UNC-CH           | 20   | NOV 02, 2020      | Research Asst/Tech, Health/Medicine                          | 36000                       | Lineberger Compr Cancer Center | Soc/Clin Research Assistant\n",
       "... (47643 rows omitted)"
      ]
     },
     "execution_count": 25,
     "metadata": {},
     "output_type": "execute_result"
    }
   ],
   "source": [
    "# You complete some code in this cell\n",
    "# unc_sorted = ...\n",
    "# unc_sorted\n",
    "unc_sorted = unc.sort('AGE')\n",
    "unc_sorted"
   ]
  },
  {
   "cell_type": "markdown",
   "id": "239efa1a-a332-476e-be2d-13a5b3be4352",
   "metadata": {},
   "source": [
    "Then, using `np.arange` create an array that contains the integers from 0 to 47600, incrementing by 100. Call this array `employee_number`. Inspect the array to ensure it contains the integers 0 and 47600."
   ]
  },
  {
   "cell_type": "code",
   "execution_count": 28,
   "id": "3fb7b8d9-6eb5-4b7a-9312-338f148feb39",
   "metadata": {},
   "outputs": [
    {
     "data": {
      "text/plain": [
       "array([    0,   100,   200,   300,   400,   500,   600,   700,   800,\n",
       "         900,  1000,  1100,  1200,  1300,  1400,  1500,  1600,  1700,\n",
       "        1800,  1900,  2000,  2100,  2200,  2300,  2400,  2500,  2600,\n",
       "        2700,  2800,  2900,  3000,  3100,  3200,  3300,  3400,  3500,\n",
       "        3600,  3700,  3800,  3900,  4000,  4100,  4200,  4300,  4400,\n",
       "        4500,  4600,  4700,  4800,  4900,  5000,  5100,  5200,  5300,\n",
       "        5400,  5500,  5600,  5700,  5800,  5900,  6000,  6100,  6200,\n",
       "        6300,  6400,  6500,  6600,  6700,  6800,  6900,  7000,  7100,\n",
       "        7200,  7300,  7400,  7500,  7600,  7700,  7800,  7900,  8000,\n",
       "        8100,  8200,  8300,  8400,  8500,  8600,  8700,  8800,  8900,\n",
       "        9000,  9100,  9200,  9300,  9400,  9500,  9600,  9700,  9800,\n",
       "        9900, 10000, 10100, 10200, 10300, 10400, 10500, 10600, 10700,\n",
       "       10800, 10900, 11000, 11100, 11200, 11300, 11400, 11500, 11600,\n",
       "       11700, 11800, 11900, 12000, 12100, 12200, 12300, 12400, 12500,\n",
       "       12600, 12700, 12800, 12900, 13000, 13100, 13200, 13300, 13400,\n",
       "       13500, 13600, 13700, 13800, 13900, 14000, 14100, 14200, 14300,\n",
       "       14400, 14500, 14600, 14700, 14800, 14900, 15000, 15100, 15200,\n",
       "       15300, 15400, 15500, 15600, 15700, 15800, 15900, 16000, 16100,\n",
       "       16200, 16300, 16400, 16500, 16600, 16700, 16800, 16900, 17000,\n",
       "       17100, 17200, 17300, 17400, 17500, 17600, 17700, 17800, 17900,\n",
       "       18000, 18100, 18200, 18300, 18400, 18500, 18600, 18700, 18800,\n",
       "       18900, 19000, 19100, 19200, 19300, 19400, 19500, 19600, 19700,\n",
       "       19800, 19900, 20000, 20100, 20200, 20300, 20400, 20500, 20600,\n",
       "       20700, 20800, 20900, 21000, 21100, 21200, 21300, 21400, 21500,\n",
       "       21600, 21700, 21800, 21900, 22000, 22100, 22200, 22300, 22400,\n",
       "       22500, 22600, 22700, 22800, 22900, 23000, 23100, 23200, 23300,\n",
       "       23400, 23500, 23600, 23700, 23800, 23900, 24000, 24100, 24200,\n",
       "       24300, 24400, 24500, 24600, 24700, 24800, 24900, 25000, 25100,\n",
       "       25200, 25300, 25400, 25500, 25600, 25700, 25800, 25900, 26000,\n",
       "       26100, 26200, 26300, 26400, 26500, 26600, 26700, 26800, 26900,\n",
       "       27000, 27100, 27200, 27300, 27400, 27500, 27600, 27700, 27800,\n",
       "       27900, 28000, 28100, 28200, 28300, 28400, 28500, 28600, 28700,\n",
       "       28800, 28900, 29000, 29100, 29200, 29300, 29400, 29500, 29600,\n",
       "       29700, 29800, 29900, 30000, 30100, 30200, 30300, 30400, 30500,\n",
       "       30600, 30700, 30800, 30900, 31000, 31100, 31200, 31300, 31400,\n",
       "       31500, 31600, 31700, 31800, 31900, 32000, 32100, 32200, 32300,\n",
       "       32400, 32500, 32600, 32700, 32800, 32900, 33000, 33100, 33200,\n",
       "       33300, 33400, 33500, 33600, 33700, 33800, 33900, 34000, 34100,\n",
       "       34200, 34300, 34400, 34500, 34600, 34700, 34800, 34900, 35000,\n",
       "       35100, 35200, 35300, 35400, 35500, 35600, 35700, 35800, 35900,\n",
       "       36000, 36100, 36200, 36300, 36400, 36500, 36600, 36700, 36800,\n",
       "       36900, 37000, 37100, 37200, 37300, 37400, 37500, 37600, 37700,\n",
       "       37800, 37900, 38000, 38100, 38200, 38300, 38400, 38500, 38600,\n",
       "       38700, 38800, 38900, 39000, 39100, 39200, 39300, 39400, 39500,\n",
       "       39600, 39700, 39800, 39900, 40000, 40100, 40200, 40300, 40400,\n",
       "       40500, 40600, 40700, 40800, 40900, 41000, 41100, 41200, 41300,\n",
       "       41400, 41500, 41600, 41700, 41800, 41900, 42000, 42100, 42200,\n",
       "       42300, 42400, 42500, 42600, 42700, 42800, 42900, 43000, 43100,\n",
       "       43200, 43300, 43400, 43500, 43600, 43700, 43800, 43900, 44000,\n",
       "       44100, 44200, 44300, 44400, 44500, 44600, 44700, 44800, 44900,\n",
       "       45000, 45100, 45200, 45300, 45400, 45500, 45600, 45700, 45800,\n",
       "       45900, 46000, 46100, 46200, 46300, 46400, 46500, 46600, 46700,\n",
       "       46800, 46900, 47000])"
      ]
     },
     "execution_count": 28,
     "metadata": {},
     "output_type": "execute_result"
    }
   ],
   "source": [
    "# You complete some code in this cell\n",
    "# employee_number = ...\n",
    "# employee_number\n",
    "employee_number = np.arange(0, 47000 + 1, 100)\n",
    "employee_number"
   ]
  },
  {
   "cell_type": "markdown",
   "id": "9f49521d-492f-4f73-8515-663a958a8bd9",
   "metadata": {},
   "source": [
    "Lastly, run the cell below which uses the `take` method. The `take` method can be given an integer or array of integers that represent row numbers, also called row indices. When the method is called, it will create a new table that only contains those rows whose indices where included in the call. We'll save this to the table named `sample` since it is a sample of our larger table named `unc`."
   ]
  },
  {
   "cell_type": "code",
   "execution_count": 31,
   "id": "965422e0-f573-487d-8941-8e1062523847",
   "metadata": {},
   "outputs": [
    {
     "data": {
      "text/html": [
       "<table border=\"1\" class=\"dataframe\">\n",
       "    <thead>\n",
       "        <tr>\n",
       "            <th>INSTITUTION NAME</th> <th>AGE</th> <th>INITIAL HIRE DATE</th> <th>JOB CATEGORY</th> <th>EMPLOYEE ANNUAL BASE SALARY</th> <th>EMPLOYEE HOME DEPARTMENT</th> <th>PRIMARY WORKING TITLE</th>\n",
       "        </tr>\n",
       "    </thead>\n",
       "    <tbody>\n",
       "        <tr>\n",
       "            <td>ASU             </td> <td>69  </td> <td>AUG 01, 1998     </td> <td>Librarian AC, Other                                   </td> <td>49507                      </td> <td>Library                            </td> <td>Adjunct Assistant Professor   </td>\n",
       "        </tr>\n",
       "        <tr>\n",
       "            <td>ASU             </td> <td>38  </td> <td>JUL 01, 2019     </td> <td>IT Client Support Professional, Business Analyst      </td> <td>60000                      </td> <td>Business Systems                   </td> <td>IT Business Systems Analyst I </td>\n",
       "        </tr>\n",
       "        <tr>\n",
       "            <td>ASU             </td> <td>59  </td> <td>AUG 15, 1994     </td> <td>Graphical Design Paraprofessional                     </td> <td>45954                      </td> <td>School Of Music                    </td> <td>Arts Production Specialist    </td>\n",
       "        </tr>\n",
       "        <tr>\n",
       "            <td>ASU             </td> <td>40  </td> <td>SEP 03, 2008     </td> <td>Cashier                                               </td> <td>31200                      </td> <td>Park Place Cafe                    </td> <td>Support Services Associate    </td>\n",
       "        </tr>\n",
       "        <tr>\n",
       "            <td>ASU             </td> <td>36  </td> <td>JAN 29, 2008     </td> <td>Assistant Coach - Football                            </td> <td>90000                      </td> <td>Football                           </td> <td>Assistant Football Coach      </td>\n",
       "        </tr>\n",
       "        <tr>\n",
       "            <td>ASU             </td> <td>43  </td> <td>MAR 06, 2017     </td> <td>Research / Sponsored Projects Development Professional</td> <td>65000                      </td> <td>College of Education               </td> <td>Dir of Assessment and Accredit</td>\n",
       "        </tr>\n",
       "        <tr>\n",
       "            <td>ASU             </td> <td>46  </td> <td>JUL 01, 2005     </td> <td>Lecturer                                              </td> <td>49600                      </td> <td>Reading Education & Specl Education</td> <td>Adjunct Instructor            </td>\n",
       "        </tr>\n",
       "        <tr>\n",
       "            <td>ASU             </td> <td>59  </td> <td>AUG 28, 2008     </td> <td>Administrative Assistant                              </td> <td>35000                      </td> <td>Executive Director Alumni Affairs  </td> <td>Administrative Support Assoc  </td>\n",
       "        </tr>\n",
       "        <tr>\n",
       "            <td>ASU             </td> <td>61  </td> <td>OCT 27, 1986     </td> <td>IT Technical Support/Paraprofessional                 </td> <td>105222                     </td> <td>Information Technology Service     </td> <td>Systems Programmer/Specialist </td>\n",
       "        </tr>\n",
       "        <tr>\n",
       "            <td>ASU             </td> <td>29  </td> <td>MAY 20, 2019     </td> <td>General Maintenance Worker                            </td> <td>31200                      </td> <td>University Housing-Operations      </td> <td>Facility Maint Tech - Building</td>\n",
       "        </tr>\n",
       "    </tbody>\n",
       "</table>\n",
       "<p>... (461 rows omitted)</p>"
      ],
      "text/plain": [
       "INSTITUTION NAME | AGE  | INITIAL HIRE DATE | JOB CATEGORY                                           | EMPLOYEE ANNUAL BASE SALARY | EMPLOYEE HOME DEPARTMENT            | PRIMARY WORKING TITLE\n",
       "ASU              | 69   | AUG 01, 1998      | Librarian AC, Other                                    | 49507                       | Library                             | Adjunct Assistant Professor\n",
       "ASU              | 38   | JUL 01, 2019      | IT Client Support Professional, Business Analyst       | 60000                       | Business Systems                    | IT Business Systems Analyst I\n",
       "ASU              | 59   | AUG 15, 1994      | Graphical Design Paraprofessional                      | 45954                       | School Of Music                     | Arts Production Specialist\n",
       "ASU              | 40   | SEP 03, 2008      | Cashier                                                | 31200                       | Park Place Cafe                     | Support Services Associate\n",
       "ASU              | 36   | JAN 29, 2008      | Assistant Coach - Football                             | 90000                       | Football                            | Assistant Football Coach\n",
       "ASU              | 43   | MAR 06, 2017      | Research / Sponsored Projects Development Professional | 65000                       | College of Education                | Dir of Assessment and Accredit\n",
       "ASU              | 46   | JUL 01, 2005      | Lecturer                                               | 49600                       | Reading Education & Specl Education | Adjunct Instructor\n",
       "ASU              | 59   | AUG 28, 2008      | Administrative Assistant                               | 35000                       | Executive Director Alumni Affairs   | Administrative Support Assoc\n",
       "ASU              | 61   | OCT 27, 1986      | IT Technical Support/Paraprofessional                  | 105222                      | Information Technology Service      | Systems Programmer/Specialist\n",
       "ASU              | 29   | MAY 20, 2019      | General Maintenance Worker                             | 31200                       | University Housing-Operations       | Facility Maint Tech - Building\n",
       "... (461 rows omitted)"
      ]
     },
     "execution_count": 31,
     "metadata": {},
     "output_type": "execute_result"
    }
   ],
   "source": [
    "sample = unc.take(employee_number)\n",
    "sample"
   ]
  },
  {
   "cell_type": "markdown",
   "id": "ddab167f-328d-4f8c-9366-f2f177a6473a",
   "metadata": {},
   "source": [
    "**NOTE:** This is NOT a random sample! We'll investigate different and better methods for sampling data later in the course.\n",
    "\n",
    "Let's see how well our sample captures the patterns in the original table. Calculate the average salary of all individuals in `sample`."
   ]
  },
  {
   "cell_type": "code",
   "execution_count": 34,
   "id": "8c130362-87a1-4b39-8bc5-af04395ca2b5",
   "metadata": {},
   "outputs": [
    {
     "data": {
      "text/plain": [
       "75314.3049044586"
      ]
     },
     "execution_count": 34,
     "metadata": {},
     "output_type": "execute_result"
    }
   ],
   "source": [
    "# You complete some code in this cell\n",
    "# ...\n",
    "np.average( sample.column('EMPLOYEE ANNUAL BASE SALARY') )"
   ]
  },
  {
   "cell_type": "markdown",
   "id": "dc0eb2aa-7de5-4945-8526-5534a031c1ef",
   "metadata": {},
   "source": [
    "How does this compare to the average salary of the individuals in `unc`? Is it about the same, or very different? Why do you think that is?"
   ]
  },
  {
   "cell_type": "markdown",
   "id": "b5113f3f-a6d7-423f-8cc3-2016fb52dabe",
   "metadata": {},
   "source": [
    "## You explore!\n",
    "\n",
    "Make a calculation that you find interesting and share with your classmates in the discussion board for this activity. Include your code so others can reproduce your work."
   ]
  }
 ],
 "metadata": {
  "kernelspec": {
   "display_name": "Python 3 (ipykernel)",
   "language": "python",
   "name": "python3"
  },
  "language_info": {
   "codemirror_mode": {
    "name": "ipython",
    "version": 3
   },
   "file_extension": ".py",
   "mimetype": "text/x-python",
   "name": "python",
   "nbconvert_exporter": "python",
   "pygments_lexer": "ipython3",
   "version": "3.9.6"
  }
 },
 "nbformat": 4,
 "nbformat_minor": 5
}
