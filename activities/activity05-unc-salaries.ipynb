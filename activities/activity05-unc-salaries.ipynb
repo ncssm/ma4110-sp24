{
 "cells": [
  {
   "cell_type": "code",
   "execution_count": null,
   "id": "spatial-force",
   "metadata": {},
   "outputs": [],
   "source": [
    "from datascience import *\n",
    "import numpy as np\n",
    "\n",
    "%matplotlib inline\n",
    "import matplotlib.pyplot as plots\n",
    "plots.style.use('fivethirtyeight')"
   ]
  },
  {
   "cell_type": "markdown",
   "id": "focal-encyclopedia",
   "metadata": {},
   "source": [
    "# UNC System Salary Information"
   ]
  },
  {
   "cell_type": "markdown",
   "id": "adopted-washington",
   "metadata": {},
   "source": [
    "The UNC System maintains a publically available database of employees and their salaries that can be found on the web. From their website:\n",
    "\n",
    "> **What information is provided in the database?** This database contains the names, position titles and salaries of permanent employees of the University, as furnished by UNC System Office and the constituent institutions of The University of North Carolina.\n",
    ">\n",
    ">**What information is not provided in the database?** We currently do not have data available for UNC Health Care, UNC Press or the North Carolina School of Science and Math.\n",
    ">\n",
    ">**How frequently is the data updated?** The data provided in this database is updated quarterly and represents a snapshot of employees, salaries, and titles as of the date listed. Because it is a snapshot, the database may not accurately reflect an employee's permanent salary or all sources of funding provided throughout the year. As examples, the database may not capture all external fund sources that may compensate some employees, or the information may capture temporary salary increases or temporary title changes for additional duties for an employee that could change in the course of the year.\n",
    ">\n",
    ">**What if I have questions about an employee's salary or other personnel information?** If you believe that information about a particular employee is inaccurate or if you have other questions about the information provided in the database, you may contact the HR department at the constituent institution to verify the employee's salary.\n",
    ">\n",
    ">**Why do we publish this data?** Employee salaries are public and we believe that publishing salaries benefits both the public by providing easily accessible salary information and the employing institutions by minimizing public personnel information requests.\n",
    "\n",
    "You'll find a `.csv` file containing the full database **with names removed** in the `/activities/data/` folder as `unc_salaries.csv`. \n",
    "\n",
    "Load this file as a Table named `unc`. This data was downloaded in February 2021, so depending on when you're viewing this activity it may be out of date."
   ]
  },
  {
   "cell_type": "code",
   "execution_count": null,
   "id": "intelligent-garbage",
   "metadata": {},
   "outputs": [],
   "source": [
    "unc = Table.read_table('data/unc_salaries.csv')\n",
    "unc"
   ]
  },
  {
   "cell_type": "markdown",
   "id": "21ccc283-a181-4874-b21b-1e13bc0640bb",
   "metadata": {},
   "source": [
    "## The features\n",
    "\n",
    "You can see that this data has 7 features for each of the 47,653 observations. In this case each observation refers to a specific person who was currently employed within the UNC System. The 7 features are:\n",
    "\n",
    "* `INSTITUTION NAME`: An abbreviation for the UNC institution at which the individual is employed\n",
    "  * `'ASU'`: Applachian State University\n",
    "  * `'ECSU'`: Elizabeth City State University\n",
    "  * `'ECU'`: East Carolina University\n",
    "  * `'FSU'`: Fayetteville State University\n",
    "  * `'NCA&T'`: North Carolina A&T State University\n",
    "  * `'NCCU'`: North Carolina Central University\n",
    "  * `'NCSU'`: North Carolina State University\n",
    "  * `'UNC-CH'`: University of North Carolina at Chapel Hill\n",
    "  * `'UNCA'`:  University of North Carolina at Asheville\n",
    "  * `'UNCC'`:  University of North Carolina at Charlotte\n",
    "  * `'UNCG'`: University of North Carolina at Greensboro\n",
    "  * `'UNCP'`: The University of North Carolina at Pembroke\n",
    "  * `'UNCSA'`: University of North Carolina School of the Arts\n",
    "  * `'UNCW'`: University of North Carolina at Wilmington\n",
    "  * `'WCU'`: Western Carolina University\n",
    "  * `'WSSU'`: Winston Salem State University\n",
    "* `AGE`: The age of the employee at the time this data was collected\n",
    "* `INITIAL HIRE DATE`: The date formatted as Mon DD, YYYY\n",
    "* `JOB CATEGORY`: A broad category that describes the type of job the individual holds\n",
    "* `EMPLOYEE ANNUAL BASE SALARY`: The base salary, in dollars, that the individual is paid for their work. This does not include bonus pay, additional stipends, or other benefits provided by the institution\n",
    "* `EMPLOYEE HOME DEPARTMENT`: The name of the department that employees the individual at the indicated institution\n",
    "* `PRIMARY WORKING TITLE`: The specific name of the job the individual holds\n",
    "\n",
    "**WARNING:** This data is NOT cleaned to ensure consistent job categories, home department names, or primary working title. For example, for the feature `JOB CATEGORY` there are various types of Accounting Professional listed\n",
    "\n",
    "* Accounting Professional, Accountant\n",
    "* Accounting Professional, Accountant Sr.\n",
    "* Accounting Professional, Accounting Unit Supervisor\n",
    "* Accounting Professional, Assistant Comptroller\n",
    "* Accounting Professional, Asst/Assoc Bursar\n",
    "* Accounting Professional, Collections Supervisor\n",
    "* Accounting Professional, Compliance Officer\n",
    "* Accounting Professional, Dept Business Mgr Sr.\n",
    "* Accounting Professional, Head Cashier\n",
    "\n",
    "There is also a generic descriptor of: Accounting Professional. For many applications you would likely want to \"clean\" this data by making a decision on how to lump all these roles together into one category, or determine what to do with the Accounting Professional categories that lack additional descriptions of their roles. Data cleaning is a difficult and time-consuming process that we will mostly ignore in this course so we can focus on the mathematical applications that can be applied to previously cleaned data."
   ]
  },
  {
   "cell_type": "markdown",
   "id": "6589451f-27bf-40d3-a0d4-0df8137fc9d6",
   "metadata": {},
   "source": [
    "## Who makes the most?\n",
    "\n",
    "Using table operations, sort the `unc` table by employee salary so the highest paid employee is at the top and then format that column as a number so it is displayed with commas."
   ]
  },
  {
   "cell_type": "code",
   "execution_count": null,
   "id": "above-placement",
   "metadata": {},
   "outputs": [],
   "source": [
    "# You complete some code in this cell\n",
    "unc..."
   ]
  },
  {
   "cell_type": "markdown",
   "id": "7f3b7685-32ff-4701-affd-81c7a8e4ba56",
   "metadata": {},
   "source": [
    "Using a search engine, can you name this person?"
   ]
  },
  {
   "cell_type": "markdown",
   "id": "7c1ec26b-6147-40d2-aa24-c356c4e2afc6",
   "metadata": {},
   "source": [
    "## Average salary by age\n",
    "\n",
    "The average salary for an employee in the UNC System is \\$75,617.39. Do you think this average salary would vary for employees of different ages? Let's find out."
   ]
  },
  {
   "cell_type": "markdown",
   "id": "0f9f3493-c096-49ea-b788-0187320d71a1",
   "metadata": {},
   "source": [
    "Using table methods on the `unc` table to create a new table that only contains data on 25 year old employees, then select the column regarding base salary for these 25 year olds as an array, and determine their average salary."
   ]
  },
  {
   "cell_type": "code",
   "execution_count": null,
   "id": "326dd1ec-0d38-4d08-bd64-4f2dd655ae09",
   "metadata": {},
   "outputs": [],
   "source": [
    "# You complete some code in this cell\n",
    "..."
   ]
  },
  {
   "cell_type": "markdown",
   "id": "62c6bac5-d9ed-4850-9491-77c9078e786c",
   "metadata": {},
   "source": [
    "Now compute the average salary for a few other ages in the data set. Do you see a trend?"
   ]
  },
  {
   "cell_type": "code",
   "execution_count": null,
   "id": "d5d6cc8a-895c-4802-9dc3-1ad1869f85f5",
   "metadata": {},
   "outputs": [],
   "source": [
    "# You complete some code in this cell\n",
    "..."
   ]
  },
  {
   "cell_type": "code",
   "execution_count": null,
   "id": "6fdede5e-9c05-45e7-9161-36a9481e6a0b",
   "metadata": {},
   "outputs": [],
   "source": [
    "# You complete some code in this cell\n",
    "..."
   ]
  },
  {
   "cell_type": "code",
   "execution_count": null,
   "id": "ade4dc8c-6ba9-4079-a0f4-3826126e8f55",
   "metadata": {},
   "outputs": [],
   "source": [
    "# You complete some code in this cell\n",
    "..."
   ]
  },
  {
   "cell_type": "code",
   "execution_count": null,
   "id": "f22210c6-0cd7-499d-9ddc-8717e6a6a85b",
   "metadata": {},
   "outputs": [],
   "source": [
    "# You complete some code in this cell\n",
    "..."
   ]
  },
  {
   "cell_type": "code",
   "execution_count": null,
   "id": "9fe5fb89-7a37-44be-97df-5a681d36f71c",
   "metadata": {},
   "outputs": [],
   "source": [
    "# You complete some code in this cell\n",
    "..."
   ]
  },
  {
   "cell_type": "markdown",
   "id": "2255985e-e900-40be-90b3-4573c56ad6b0",
   "metadata": {},
   "source": [
    "It looks like that as people get older, on average they are paid more. It's not immediately clear *why* that might be the case. Do employees in their 70s have many years of experience with UNC which results in higher pay through annual raises? Perhaps only those people who can keep working into their 60s or 70s do jobs that inherently pay more than those that can't be completed by employees of that age? We'd need to dig deeper into the data to determine the cause of this relationship!"
   ]
  },
  {
   "cell_type": "markdown",
   "id": "7c298938-641a-45cd-a207-e6e4ce48bf2f",
   "metadata": {},
   "source": [
    "## Samping from the data\n",
    "\n",
    "There are so many data points in this table, it could be hard sometimes to work with all of the individuals. Let's take a sample from the table to create a smaller table. We'll learn a few ways to do this throughout the course, but for now let's take a sample by doing the following:\n",
    "\n",
    "First, sort the `unc` table by age, with the younger individuals at the top of the table. Save this sorted table to `unc_sorted`."
   ]
  },
  {
   "cell_type": "code",
   "execution_count": null,
   "id": "51cde735-c777-4944-be9d-a913d427b24c",
   "metadata": {},
   "outputs": [],
   "source": [
    "# You complete some code in this cell\n",
    "unc_sorted = ...\n",
    "unc_sorted"
   ]
  },
  {
   "cell_type": "markdown",
   "id": "239efa1a-a332-476e-be2d-13a5b3be4352",
   "metadata": {},
   "source": [
    "Then, using `np.arange` create an array that contains the integers from 0 to 47600, incrementing by 100. Call this array `employee_number`. Inspect the array to ensure it contains the integers 0 and 47600."
   ]
  },
  {
   "cell_type": "code",
   "execution_count": null,
   "id": "3fb7b8d9-6eb5-4b7a-9312-338f148feb39",
   "metadata": {},
   "outputs": [],
   "source": [
    "# You complete some code in this cell\n",
    "employee_number = ...\n",
    "employee_number"
   ]
  },
  {
   "cell_type": "markdown",
   "id": "9f49521d-492f-4f73-8515-663a958a8bd9",
   "metadata": {},
   "source": [
    "Lastly, run the cell below which uses the `take` method. The `take` method can be given an integer or array of integers that represent row numbers, also called row indices. When the method is called, it will create a new table that only contains those rows whose indices where included in the call. We'll save this to the table named `sample` since it is a sample of our larger table named `unc`."
   ]
  },
  {
   "cell_type": "code",
   "execution_count": null,
   "id": "965422e0-f573-487d-8941-8e1062523847",
   "metadata": {},
   "outputs": [],
   "source": [
    "sample = unc.take(employee_number)\n",
    "sample"
   ]
  },
  {
   "cell_type": "markdown",
   "id": "ddab167f-328d-4f8c-9366-f2f177a6473a",
   "metadata": {},
   "source": [
    "**NOTE:** This is NOT a random sample! We'll investigate different and better methods for sampling data later in the course.\n",
    "\n",
    "Let's see how well our sample captures the patterns in the original table. Calculate the average salary of all individuals in `sample`."
   ]
  },
  {
   "cell_type": "code",
   "execution_count": null,
   "id": "8c130362-87a1-4b39-8bc5-af04395ca2b5",
   "metadata": {},
   "outputs": [],
   "source": [
    "# You complete some code in this cell\n",
    "# ..."
   ]
  },
  {
   "cell_type": "markdown",
   "id": "dc0eb2aa-7de5-4945-8526-5534a031c1ef",
   "metadata": {},
   "source": [
    "How does this compare to the average salary of the individuals in `unc`? Is it about the same, or very different? Why do you think that is?"
   ]
  },
  {
   "cell_type": "markdown",
   "id": "a932cbab-2a43-46c2-8834-8913799b9a96",
   "metadata": {},
   "source": [
    "## You explore!\n",
    "\n",
    "Make a calculation that you find interesting and share with your classmates in the discussion board for this activity. Include your code so others can reproduce your work."
   ]
  }
 ],
 "metadata": {
  "kernelspec": {
   "display_name": "Python 3",
   "language": "python",
   "name": "python3"
  },
  "language_info": {
   "codemirror_mode": {
    "name": "ipython",
    "version": 3
   },
   "file_extension": ".py",
   "mimetype": "text/x-python",
   "name": "python",
   "nbconvert_exporter": "python",
   "pygments_lexer": "ipython3",
   "version": "3.9.5"
  }
 },
 "nbformat": 4,
 "nbformat_minor": 5
}
