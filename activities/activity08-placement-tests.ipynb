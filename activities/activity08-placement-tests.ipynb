{
 "cells": [
  {
   "cell_type": "code",
   "execution_count": null,
   "id": "simplified-shakespeare",
   "metadata": {},
   "outputs": [],
   "source": [
    "from datascience import *\n",
    "import numpy as np\n",
    "\n",
    "%matplotlib inline\n",
    "import matplotlib.pyplot as plots\n",
    "plots.style.use('fivethirtyeight')"
   ]
  },
  {
   "cell_type": "markdown",
   "id": "proud-liver",
   "metadata": {},
   "source": [
    "# Activity 08: Math Placement Tests"
   ]
  },
  {
   "cell_type": "markdown",
   "id": "starting-elimination",
   "metadata": {},
   "source": [
    "NCSSM offers students the ability to exempt math courses when they enroll in our program using a placement test process. Incoming students can attempt to exempt a course in Precalculus or a course in Calculus if they've already completed similar coursework before they enroll at NCSSM. The Math Department keeps track of the scores on the placement tests.\n",
    "\n",
    "Run the cell below to load a sample of those placement tests from recent years."
   ]
  },
  {
   "cell_type": "code",
   "execution_count": null,
   "id": "recent-priest",
   "metadata": {},
   "outputs": [],
   "source": [
    "placement_scores = Table.read_table('data/placement-tests.csv')\n",
    "placement_scores"
   ]
  },
  {
   "cell_type": "markdown",
   "id": "authentic-difficulty",
   "metadata": {},
   "source": [
    "There are only two variables in this table:\n",
    "\n",
    "|VARIABLE|DESCRIPTION|\n",
    "|--------|-----------|\n",
    "|Course|Data Type: String. The course that a student is attempting to exempt|\n",
    "|Score|Data Type: Integer. The score the student earned on the test. Max score is 35|"
   ]
  },
  {
   "cell_type": "markdown",
   "id": "portable-baptist",
   "metadata": {},
   "source": [
    "## Exploring the Data\n",
    "\n",
    "Use the `.group()` method on the `placement_scores` table to get a count of how many of each type of test is in the table. Save the result as a table named `placement_distribution`."
   ]
  },
  {
   "cell_type": "code",
   "execution_count": null,
   "id": "editorial-minnesota",
   "metadata": {},
   "outputs": [],
   "source": [
    "# You complete some code in this cell\n",
    "placement_distribution = ...\n",
    "placement_distribution"
   ]
  },
  {
   "cell_type": "markdown",
   "id": "138563be-58e3-46f5-b15c-b4e2fb76b7a6",
   "metadata": {},
   "source": [
    "Now, create a horizontal bar chart to help visualize the difference between the count of each type of test. \n",
    "\n",
    "Some criteria:\n",
    "* Sort the distribution so the course with the highest count appears at the top of the bar chart.\n",
    "* Give the chart a title using the plots.title() method> Revisit the lesson on Charts if you need a refresher."
   ]
  },
  {
   "cell_type": "code",
   "execution_count": null,
   "id": "00d8b644-3671-4061-a767-49d7f0aa4f92",
   "metadata": {},
   "outputs": [],
   "source": [
    "# You complete some code in this cell\n",
    "...\n",
    "..."
   ]
  },
  {
   "cell_type": "markdown",
   "id": "protective-confidentiality",
   "metadata": {},
   "source": [
    "## Distribution of Scores\n",
    "\n",
    "Let's see how the students performed on these tests. Let's start by creating a histogram of the Precalculus scores. \n",
    "\n",
    "First, create a table named `precalculus` that only has the rows for individuals who were attempting to exempt Precalculus. \n",
    "\n",
    "Then, use the `.hist()` method on the Scores column to see how the scores are distributed. To get started, do not specify any bins, let the `.hist()` method make up it's own bins"
   ]
  },
  {
   "cell_type": "code",
   "execution_count": null,
   "id": "governmental-uncertainty",
   "metadata": {},
   "outputs": [],
   "source": [
    "# You complete some code in this cell\n",
    "precalculus = ...\n",
    "..."
   ]
  },
  {
   "cell_type": "markdown",
   "id": "dddaa5e9-655a-4af6-a039-6fc04b1cbc7d",
   "metadata": {},
   "source": [
    "Now, try different bin sizes to see how your choice of bins alters how you might interpret the distribution of scores.\n",
    "\n",
    "Some bins to try and their characteristics:\n",
    "* $[0, 10), [10, 20), [20, 30), [30, 40)$ Equal widths of 10 units.\n",
    "* $[0, 23), [23, 30), [30, 35)$ Unequal widths, but each bin contains roughly a third of the tests\n",
    "* $[0,5), [5, 15), [15, 20), [20, 35)$. Unequal widths, alternating small and large\n",
    "* $[0, 1), [1, 2), [2, 3), [3, 4), ..., [34, 35)$ Equal widths that reveal the count of each score\n",
    "* some of your own!\n",
    "\n",
    "In each distribution:\n",
    "* try to estimate what percent of the tests fall into each bar (and approximately how many actual tests fall into the bar).\n",
    "* use the `unit=` argument to label the horizontal scale as \"points\"\n",
    "\n",
    "How do the bar widths impact your views of the data?"
   ]
  },
  {
   "cell_type": "code",
   "execution_count": null,
   "id": "secure-syndicate",
   "metadata": {},
   "outputs": [],
   "source": [
    "# You complete some code in this cell\n",
    "..."
   ]
  },
  {
   "cell_type": "code",
   "execution_count": null,
   "id": "5a182278-9aa8-47f3-b216-ba0dc54fd973",
   "metadata": {},
   "outputs": [],
   "source": [
    "# You complete some code in this cell\n",
    "..."
   ]
  },
  {
   "cell_type": "code",
   "execution_count": null,
   "id": "0945d33c-2da6-474c-96e7-e89b4670199c",
   "metadata": {},
   "outputs": [],
   "source": [
    "# You complete some code in this cell\n",
    "..."
   ]
  },
  {
   "cell_type": "code",
   "execution_count": null,
   "id": "4de787ed-e4a5-4699-bd2c-965a623502b5",
   "metadata": {},
   "outputs": [],
   "source": [
    "# You complete some code in this cell\n",
    "..."
   ]
  },
  {
   "cell_type": "code",
   "execution_count": null,
   "id": "ef357401-66ab-4117-82be-b33cfef1b144",
   "metadata": {},
   "outputs": [],
   "source": [
    "# You can complete some code in this cell"
   ]
  },
  {
   "cell_type": "markdown",
   "id": "cffffa02-6af6-4307-b2ef-9a59e82945b4",
   "metadata": {},
   "source": [
    "## Question for Discussion\n",
    "\n",
    "Which set of bins makes the most sense to you? Post to the discussion board with your code for creating the histogram and a screenshot, and make a brief argument as for why you think this set of bins is \"the best\". Please know that there is no \"right\" answer here, so don't worry about being wrong!"
   ]
  },
  {
   "cell_type": "markdown",
   "id": "9fcd0853-f48b-4cfa-8caf-2e1dc7cd2c58",
   "metadata": {},
   "source": [
    "## The `.bin()` method\n",
    "\n",
    "Use the `.bin` method on the `precalculus` table with bins of width 5, starting at 0 and increasing to 35. How many tests scored between at or above 25 and below 30?"
   ]
  },
  {
   "cell_type": "code",
   "execution_count": null,
   "id": "32c60ea7-b512-4318-a32c-f536b25b6371",
   "metadata": {},
   "outputs": [],
   "source": [
    "# You complete some code in this cell\n",
    "..."
   ]
  }
 ],
 "metadata": {
  "kernelspec": {
   "display_name": "Python 3",
   "language": "python",
   "name": "python3"
  },
  "language_info": {
   "codemirror_mode": {
    "name": "ipython",
    "version": 3
   },
   "file_extension": ".py",
   "mimetype": "text/x-python",
   "name": "python",
   "nbconvert_exporter": "python",
   "pygments_lexer": "ipython3",
   "version": "3.9.5"
  }
 },
 "nbformat": 4,
 "nbformat_minor": 5
}
