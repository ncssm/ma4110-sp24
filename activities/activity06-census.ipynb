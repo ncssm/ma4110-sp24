{
 "cells": [
  {
   "cell_type": "code",
   "execution_count": null,
   "id": "simplified-shakespeare",
   "metadata": {},
   "outputs": [],
   "source": [
    "from datascience import *\n",
    "import numpy as np\n",
    "\n",
    "%matplotlib inline\n",
    "import matplotlib.pyplot as plots\n",
    "plots.style.use('fivethirtyeight')"
   ]
  },
  {
   "cell_type": "markdown",
   "id": "proud-liver",
   "metadata": {},
   "source": [
    "# Activity 06: Census"
   ]
  },
  {
   "cell_type": "markdown",
   "id": "starting-elimination",
   "metadata": {},
   "source": [
    "The US completes a census every 10 years to take a count of all people living in the country. Then, each year the US Census Bureau creates an updated estimate of that population until the next census is completed. We are still waiting for the US Census Bureau to release data in a .csv format that's suitable for use in a Jupyter Notebook.\n",
    "\n",
    "In the meantime, load the data from the US Census Bureau from the 2019 update ([source](https://www2.census.gov/programs-surveys/popest/technical-documentation/file-layouts/2010-2019/?C=S;O=A))"
   ]
  },
  {
   "cell_type": "code",
   "execution_count": null,
   "id": "recent-priest",
   "metadata": {},
   "outputs": [],
   "source": [
    "full = Table.read_table('data/nc-est2019-agesex-res.csv')\n",
    "full"
   ]
  },
  {
   "cell_type": "markdown",
   "id": "authentic-difficulty",
   "metadata": {},
   "source": [
    "You'll notice that there are many variables for each row of this data set. We'll describe them below:\n",
    "\n",
    "|VARIABLE|DESCRIPTION|\n",
    "|--------|-----------|\n",
    "|SEX|Sex|\n",
    "|AGE|Age|\n",
    "|CENSUS2010POP|4/1/2010 resident Census 2010 population|\n",
    "|ESTIMATESBASE2010|4/1/2010 resident population estimates base|\n",
    "|POPESTIMATE2010|7/1/2010 resident population estimate|\n",
    "|POPESTIMATE2011|7/1/2011 resident population estimate|\n",
    "|POPESTIMATE2012|7/1/2012 resident population estimate|\n",
    "|POPESTIMATE2013|7/1/2013 resident population estimate|\n",
    "|POPESTIMATE2014|7/1/2014 resident population estimate|\n",
    "|POPESTIMATE2015|7/1/2015 resident population estimate|\n",
    "|POPESTIMATE2016|7/1/2016 resident population estimate|\n",
    "|POPESTIMATE2017|7/1/2017 resident population estimate|\n",
    "|POPESTIMATE2018|7/1/2018 resident population estimate|\n",
    "|POPESTIMATE2019|7/1/2019 resident population estimate|"
   ]
  },
  {
   "cell_type": "markdown",
   "id": "b16882bd-ee51-4c05-b1e6-97dabf81432c",
   "metadata": {},
   "source": [
    "## `SEX`\n",
    "The key for SEX is as follows:\n",
    "\n",
    ">0 = Total\n",
    ">\n",
    ">1 = Male\n",
    ">\n",
    ">2 = Female\n",
    "\n",
    "## `AGE`\n",
    "AGE is single-year of age (0, 1, 2, . . ., 99, 100+ years) and 999 is used to indicate total population"
   ]
  },
  {
   "cell_type": "markdown",
   "id": "portable-baptist",
   "metadata": {},
   "source": [
    "## Exploring the Data\n",
    "\n",
    "Now, let's focus on the popultionas from the official census in 2010 and the most recent estimates available from 2019. Select only the columns `SEX`, `AGE`, `CENSUS2010POP`, and `POPESTIMATE2019`."
   ]
  },
  {
   "cell_type": "code",
   "execution_count": null,
   "id": "editorial-minnesota",
   "metadata": {},
   "outputs": [],
   "source": [
    "# Select the columns needed from `full`\n",
    "partial = full.select('SEX', 'AGE', 'CENSUS2010POP', 'POPESTIMATE2019')\n",
    "partial"
   ]
  },
  {
   "cell_type": "code",
   "execution_count": null,
   "id": "australian-packing",
   "metadata": {},
   "outputs": [],
   "source": [
    "# Rename the columns to make them easier to refer to\n",
    "simple = partial.relabeled('CENSUS2010POP', '2010').relabeled('POPESTIMATE2019', '2019')\n",
    "simple"
   ]
  },
  {
   "cell_type": "code",
   "execution_count": null,
   "id": "stupid-lender",
   "metadata": {},
   "outputs": [],
   "source": [
    "# Look at some line graphs and discuss the patterns\n",
    "to_graph = simple.where('SEX', 1).where('AGE', are.below(999)).drop('SEX')\n",
    "to_graph.plot('AGE', '2010')"
   ]
  },
  {
   "cell_type": "code",
   "execution_count": null,
   "id": "threatened-comfort",
   "metadata": {},
   "outputs": [],
   "source": [
    "# Look at some line graphs and discuss the patterns\n",
    "to_graph = simple.where('SEX', 2).where('AGE', are.below(999)).drop('SEX')\n",
    "to_graph.plot('AGE', '2010')"
   ]
  },
  {
   "cell_type": "markdown",
   "id": "protective-confidentiality",
   "metadata": {},
   "source": [
    "## Percent Change\n",
    "\n",
    "Create a new table named `changes` that has the following columns: `AGE`, `POPCHANGE`, and `PERCENTCHANGE`, where each row corresponds to a row in the `partial` table where `SEX` was 0, and `AGE` was for a single-year (not 999). \n",
    "\n",
    "The `POPCHANGE` column should represent the popualation growth from the 2010 census to the 2019 estimate, measured in people.\n",
    "\n",
    "The `PERCENTCHANGE` column should represent the percent change between from the 2010 census to the 2019 estimate. Use array operations to calculate these columns and table methods to create the table that contains them."
   ]
  },
  {
   "cell_type": "code",
   "execution_count": null,
   "id": "governmental-uncertainty",
   "metadata": {},
   "outputs": [],
   "source": [
    "# Create a table with the reduced set of rows and columns\n",
    "initial = simple.where('SEX', 0).where('AGE', are.below(999)).drop('SEX')\n",
    "initial"
   ]
  },
  {
   "cell_type": "code",
   "execution_count": null,
   "id": "secure-syndicate",
   "metadata": {},
   "outputs": [],
   "source": [
    "# Create an ARRAY that contains the values for the `POPCHANGE` column\n",
    "population_change = ...\n",
    "population_change"
   ]
  },
  {
   "cell_type": "code",
   "execution_count": null,
   "id": "julian-taste",
   "metadata": {},
   "outputs": [],
   "source": [
    "# Create an ARRAY that contains the values for the `PERCENTCHANGE` column\n",
    "percent_change = ...\n",
    "percent_change"
   ]
  },
  {
   "cell_type": "code",
   "execution_count": null,
   "id": "signed-jacket",
   "metadata": {},
   "outputs": [],
   "source": [
    "# Create the final table named `changes` has has columns `AGE`, `2010`, `2019`, `POPCHANGE`, and `PERCENTCHANGE`\n",
    "changes = ...\n",
    "changes"
   ]
  },
  {
   "cell_type": "markdown",
   "id": "615eb985-4afc-4310-a205-cb4019d8d776",
   "metadata": {},
   "source": [
    "## Explore Census Data\n",
    "\n",
    "The US Census Bureau held a competition around the 2020 Census called \"Let's Make it Count\" [link](https://www.letsmakeitcount.org/). It's described as follows:\n",
    "\n",
    "> ### ASK QUESTIONS. EXPLORE DATA. SHARE INSIGHTS.\n",
    "> Learn more about Census data at https://census.gov/academy and submit a story here about how Census information and context matters to you and/or your community. \n",
    "\n",
    "> Submissions can include, but are not limited to: posters, infographics, essays, captioned photos, interactive or static data visualization(s), apps, and websites.\n",
    "\n",
    "> Entries will be reviewed by the competition hosts and community leaders for creativity, clarity of message, and the use of Census data for effective storytelling. Submissions should address how the participant has been, is, or will be Asking Questions, Exploring Data, and Sharing Insights.\n",
    "\n",
    "While we haven't learned a lot about data visualization yet in this course, you should be able to dig into this census data and look for patterns and trends. Create some code cells below and investigate the data. If you find anything of interest, share it to the course discussion board under Activity 06."
   ]
  },
  {
   "cell_type": "code",
   "execution_count": null,
   "id": "c6bd51ca-8ea7-48b5-b31b-ebadc6d01135",
   "metadata": {},
   "outputs": [],
   "source": []
  }
 ],
 "metadata": {
  "kernelspec": {
   "display_name": "Python 3",
   "language": "python",
   "name": "python3"
  },
  "language_info": {
   "codemirror_mode": {
    "name": "ipython",
    "version": 3
   },
   "file_extension": ".py",
   "mimetype": "text/x-python",
   "name": "python",
   "nbconvert_exporter": "python",
   "pygments_lexer": "ipython3",
   "version": "3.9.5"
  }
 },
 "nbformat": 4,
 "nbformat_minor": 5
}
