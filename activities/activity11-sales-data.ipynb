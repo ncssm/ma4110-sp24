{
 "cells": [
  {
   "cell_type": "markdown",
   "metadata": {},
   "source": [
    "# Activity 11: Sales Data\n",
    "## Group and Join Practice"
   ]
  },
  {
   "cell_type": "code",
   "execution_count": null,
   "metadata": {},
   "outputs": [],
   "source": [
    "# Just run this cell\n",
    "from datascience import *\n",
    "import numpy as np"
   ]
  },
  {
   "cell_type": "markdown",
   "metadata": {},
   "source": [
    "In this activity you'll be looking at 3 tables that all contain information around fictional data related to salespeople, their clients, and their orders. The following sections will create the tables and explain the data they contain.\n",
    "\n",
    "## `salesperson`\n",
    "This table contains information about the different salespersons at a company including:\n",
    "* the salesperson ID number, as an integer\n",
    "* the salesperson name, as a string\n",
    "* the city in which the salesperson works, as a string\n",
    "* the percent commission they earn on their sales, as a float between 0 and 1"
   ]
  },
  {
   "cell_type": "code",
   "execution_count": null,
   "metadata": {},
   "outputs": [],
   "source": [
    "salesperson = Table(['Salesperson ID', 'Salesperson Name', 'Salesperson City', 'Commission']).with_rows([\n",
    "    [5001, 'James Hoog',  'New York', 0.15],\n",
    "    [5002, 'Nail Knite',  'Paris',    0.13],\n",
    "    [5005, 'Amoli Alex',  'London',   0.11],\n",
    "    [5006, 'Mike Lyon',   'Paris',    0.14],\n",
    "    [5007, 'Adam Plank',  'Rome',     0.13],\n",
    "    [5003, 'Layla Ahmad', 'San Jose', 0.12]\n",
    "])\n",
    "\n",
    "salesperson"
   ]
  },
  {
   "cell_type": "markdown",
   "metadata": {},
   "source": [
    "## `customer`\n",
    "\n",
    "This table contains information about the customers including:\n",
    "* the customer ID number, as an integer\n",
    "* the customer name, as a string\n",
    "* the city in which the customer lives, as a string\n",
    "* the customer grade, that indicates the volume of purchases they make, as an integer\n",
    "* the customer's assigned salesperson indicated by the salesperson ID number, as an integer"
   ]
  },
  {
   "cell_type": "code",
   "execution_count": null,
   "metadata": {},
   "outputs": [],
   "source": [
    "customer = Table(['Customer ID', 'Customer Name', 'Customer City', 'Grade', 'Salesperson ID']).with_rows([\n",
    "    [3002, 'Nick Rimando',   'New York',   100, 5001],\n",
    "    [3007, 'Brad Davis',     'New York',   200, 5001],\n",
    "    [3005, 'Graham Zusi',    'California', 200, 5002],\n",
    "    [3008, 'Jilian Green',   'London',     300, 5002],\n",
    "    [3004, 'Fabian Johnson', 'Paris',      300, 5006],\n",
    "    [3009, 'Gina Cameron',   'Berlin',     100, 5003],\n",
    "    [3003, 'Helen Li',       'Moscow',     200, 5007],\n",
    "    [3001, 'Corey Jackson',  'London',     200, 5005]\n",
    "])\n",
    "\n",
    "customer"
   ]
  },
  {
   "cell_type": "markdown",
   "metadata": {},
   "source": [
    "## `orders`\n",
    "\n",
    "This table contains information about recent orders, including:\n",
    "* the order number, as an integer\n",
    "* the purchase amount in dollars, as a float\n",
    "* the date of the order, formatted as yyyy-mm-dd, as a string\n",
    "* the customer who made the purchase (indicated by their ID number)\n",
    "* the salesperson who made the sale (indicated by their ID number).\n",
    "\n",
    "**NOTE**: The `.set_format` method is used so that when the column `'Purchase Amount'` is shown it formats the floats it contains as currency, but remember, the dollar sign and commas are NOT stored in this table, just the float values shown in the cell below."
   ]
  },
  {
   "cell_type": "code",
   "execution_count": null,
   "metadata": {},
   "outputs": [],
   "source": [
    "orders = Table(['Order Number', 'Purchase Amount', 'Order Date', 'Customer ID', 'Salesperson ID']).with_rows([\n",
    "    [70001, 150.50,   '2019-10-05', 3005, 5002],\n",
    "    [70009, 270.65,   '2019-09-10', 3001, 5005],\n",
    "    [70002, 65.26,    '2019-10-05', 3002, 5001],\n",
    "    [70004, 110.50,   '2019-08-17', 3009, 5003],\n",
    "    [70007, 948.50,   '2019-09-10', 3005, 5002],\n",
    "    [70005, 2400.60, '2019-07-27', 3007, 5001],\n",
    "    [70008, 5760.00, '2019-09-10', 3002, 5001],\n",
    "    [70010, 1983.43, '2019-10-10', 3004, 5006],\n",
    "    [70003, 2480.40, '2019-10-10', 3009, 5003],\n",
    "    [70012, 250.45,   '2019-06-27', 3008, 5002],\n",
    "    [70011, 75.29,    '2019-08-17', 3003, 5007],\n",
    "    [70013, 3045.60, '2019-04-25', 3002, 5001]\n",
    "]).set_format('Purchase Amount', CurrencyFormatter)\n",
    "\n",
    "orders"
   ]
  },
  {
   "cell_type": "markdown",
   "metadata": {},
   "source": [
    "### Question 1: Customer Report\n",
    "\n",
    "Use the `join` and `select` methods to create a Table that has a row for each unique customer that includes the salesperson they are assigned to and the city that the customer lives in. For example:\n",
    "\n",
    "|Salesperson Name|Customer Name|Customer City|\n",
    "|----------------|-------------|----|\n",
    "|James Hoog|Nick Rimando|New York|\n",
    "|James Hoog|Brad Davis|New York|\n",
    "|Nail Knite|Graham Zusi|Paris|\n",
    "|Nail Knite|Jilian Green|Paris|\n",
    "|Layla Ahmad|Gina Cameron|San Jose|\n",
    "|Amoli Alex|Corey Jackson|London|\n",
    "|Mike Lyon|Fabian Johnson|Paris|\n",
    "|Adam Plank|Helen Li|Rome|\n",
    "\n",
    "For many of these questions, a good strategy would be to think about how the `join` operation can create a single table that contains all the information you're looking for (and more!) and then use the `select` method to only keep those columns of interest.\n",
    "\n",
    "For example, here's the solution to this problem."
   ]
  },
  {
   "cell_type": "code",
   "execution_count": null,
   "metadata": {},
   "outputs": [],
   "source": [
    "# This one was a freebee!\n",
    "salesperson.join('Salesperson ID', customer, 'Salesperson ID').select('Salesperson Name', 'Customer Name', 'Customer City')"
   ]
  },
  {
   "cell_type": "markdown",
   "metadata": {},
   "source": [
    "### Question 2: Order Report\n",
    "\n",
    "Create a report that contains the order number, purchase amount, name of the customer, and the city where the customer lives. Then sort by the order number.\n",
    "\n",
    "|Order Number|Purchase Amount|Customer Name|Customer City|\n",
    "|------------|---------------|-------------|----|\n",
    "|70001|\\\\$150.50|Graham Zusi|California|\n",
    "|70002|\\\\$65.26|Nick Rimando|New York|\n",
    "|70003|\\\\$2,480.40|Gina Cameron|Berlin|\n",
    "|70004|\\\\$110.50|Gina Cameron|Berlin|\n",
    "|70005|\\\\$2,400.60|Brad Davis|New York|\n",
    "|70007|\\\\$948.50|Graham Zusi|California|\n",
    "|70008|\\\\$5,760.00|Nick Rimando|New York|\n",
    "|70009|\\\\$270.65|Corey Jackson|London|\n",
    "|70010|\\\\$1,983.43|Fabian Johnson|Paris|\n",
    "|70011|\\\\$75.29|Helen Li|Moscow|\n",
    "|70012|\\\\$250.45|Jilian Green|London|\n",
    "|70013|\\\\$3,045.60|Nick Rimando|New York|"
   ]
  },
  {
   "cell_type": "code",
   "execution_count": null,
   "metadata": {},
   "outputs": [],
   "source": [
    "# You fill this in\n",
    "..."
   ]
  },
  {
   "cell_type": "markdown",
   "metadata": {},
   "source": [
    "### Question 3: High Commission Customers\n",
    "\n",
    "Create a table that shows which customers are paired with salespeople that earn a commission of 13% or more.\n",
    "\n",
    "|Salesperson Name|Customer Name|Commission|\n",
    "|----------------|-------------|----------|\n",
    "|James Hoog|Nick Rimando|0.15|\n",
    "|James Hoog|Brad Davis|0.15|\n",
    "|Nail Knite|Graham Zusi|0.13|\n",
    "|Nail Knite|Jilian Green|0.13|\n",
    "|Mike Lyon|Fabian Johnson|0.14|\n",
    "|Adam Plank|Helen Li|0.13|\n"
   ]
  },
  {
   "cell_type": "code",
   "execution_count": null,
   "metadata": {},
   "outputs": [],
   "source": [
    "# You fill this in\n",
    "..."
   ]
  },
  {
   "cell_type": "markdown",
   "metadata": {},
   "source": [
    "### Question 4: Remote Salesperson\n",
    "\n",
    "Create a table of customer and salesperson pairings where they two people live in different cities.\n",
    "\n",
    "|Customer Name|Customer City|Salesperson Name|Salesperson City|\n",
    "|-------------|----|----------------|------|\n",
    "|Graham Zusi|Paris|Nail Knite|California|\n",
    "|Jilian Green|Paris|Nail Knite|London|\n",
    "|Gina Cameron|San Jose|Layla Ahmad|Berlin|\n",
    "|Helen Li|Rome|Adam Plank|Moscow|\n",
    "\n",
    "**Hint:** Break this into two steps. First, create a table that has all the names of customers, salespeople, and their respective cities. Then, write a second line of code that determines when corresponding cities are not equal to each other."
   ]
  },
  {
   "cell_type": "code",
   "execution_count": null,
   "metadata": {},
   "outputs": [],
   "source": [
    "# You fill this in\n",
    "names_and_cities = ...\n",
    "..."
   ]
  },
  {
   "cell_type": "markdown",
   "metadata": {},
   "source": [
    "### Question 5: Full Sales Report\n",
    "\n",
    "Construct a report that shows every piece of information on a sale, sorted by the purchase amount of the order. Save this table to the name `full_report`, as you'll use it in the next question.\n",
    "\n",
    "|Salesperson ID|Customer ID|Order Number|Purchase Amount|Order Date|Customer Name|Customer City|Grade|Salesperson Name|Salesperson City|Commission|\n",
    "|---           |---        |---         |---            |---       |---          |---          |---  |---             |---             |---|\n",
    "|5001|3002|70002|\\\\$65.26|2019-10-05|Nick Rimando|New York|100|James Hoog|New York|0.15|\n",
    "|5007|3003|70011|\\\\$75.29|2019-08-17|Helen Li|Moscow|200|Adam Plank|Rome|0.13|\n",
    "|5003|3009|70004|\\\\$110.50|2019-08-17|Gina Cameron|Berlin|100|Layla Ahmad|San Jose|0.12|\n",
    "|5002|3005|70001|\\\\$150.50|2019-10-05|Graham Zusi|California|200|Nail Knite|Paris|0.13|\n",
    "|5002|3008|70012|\\\\$250.45|2019-06-27|Jilian Green|London|300|Nail Knite|Paris|0.13|\n",
    "|5005|3001|70009|\\\\$270.65|2019-09-10|Corey Jackson|London|200|Amoli Alex|London|0.11\n",
    "|5002|3005|70007|\\\\$948.50|2019-09-10|Graham Zusi|California|200|Nail Knite|Paris|0.13|\n",
    "|5006|3004|70010|\\\\$1,983.43|2019-10-10|Fabian Johnson|Paris|300|Mike Lyon|Paris|0.14|\n",
    "|5001|3007|70005|\\\\$2,400.60|2019-07-27|Brad Davis|New York|200|James Hoog|New York|0.15|\n",
    "|5003|3009|70003|\\\\$2,480.40|2019-10-10|Gina Cameron|Berlin|100|Layla Ahmad|San Jose|0.12|\n",
    "|5001|3002|70013|\\\\$3,045.60|2019-04-25|Nick Rimando|New York|100|James Hoog|New York|0.15|\n",
    "|5001|3002|70008|\\\\$5,760.00|2019-09-10|Nick Rimando|New York|100|James Hoog|New York|0.15|"
   ]
  },
  {
   "cell_type": "code",
   "execution_count": null,
   "metadata": {},
   "outputs": [],
   "source": [
    "# You fill this in\n",
    "full_report = ...\n",
    "full_report"
   ]
  },
  {
   "cell_type": "markdown",
   "metadata": {},
   "source": [
    "### Question 6: Commissions per Sale\n",
    "\n",
    "Add a column that contains the commission earned on each sale. It should be the product of the purchase amount and the commission percentage. Then, use the `.set_format` method to make sure this new column is formatted as Currency (see the `orders` table at the start of this activity to see how to use this method).\n",
    "\n",
    "Save this table to the name `commissions`, you'll use it in the next question.\n",
    "\n",
    "|Salesperson ID|Customer ID|Order Number|Purchase Amount|Order Date|Customer Name|Customer City|Grade|Salesperson Name|Salesperson City|Commission|Commission Earned|\n",
    "|--------------|-----------|------------|---------------|----------|-------------|-------------|-----|----------------|----------------|----------|-----------------|\n",
    "|5001|3002|70002|\\$65.26|2019-10-05|Nick Rimando|New York|100|James Hoog|New York|0.15|\\$9.79|\n",
    "|5007|3003|70011|\\$75.29|2019-08-17|Helen Li|Moscow|200|Adam Plank|Rome|0.13|\\$9.79|\n",
    "|5003|3009|70004|\\$110.50|2019-08-17|Gina Cameron|Berlin|100|Layla Ahmad|San Jose|0.12|\\$13.26|\n",
    "|5002|3005|70001|\\$150.50|2019-10-05|Graham Zusi|California|200|Nail Knite|Paris|0.13|\\$19.57|\n",
    "|5002|3008|70012|\\$250.45|2019-06-27|Jilian Green|London|300|Nail Knite|Paris|0.13|\\$32.56|\n",
    "|5005|3001|70009|\\$270.65|2019-09-10|Corey Jackson|London|200|Amoli Alex|London|0.11|\\$29.77|\n",
    "|5002|3005|70007|\\$948.50|2019-09-10|Graham Zusi|California|200|Nail Knite|Paris|0.13|\\$123.31|\n",
    "|5006|3004|70010|\\$1,983.43|2019-10-10|Fabian Johnson|Paris|300|Mike Lyon|Paris|0.14|\\$277.68|\n",
    "|5001|3007|70005|\\$2,400.60|2019-07-27|Brad Davis|New York|200|James Hoog|New York|0.15|\\$360.09|\n",
    "|5003|3009|70003|\\$2,480.40|2019-10-10|Gina Cameron|Berlin|100|Layla Ahmad|San Jose|0.12|\\$297.65|\n",
    "|5001|3002|70013|\\$3,045.60|2019-04-25|Nick Rimando|New York|100|James Hoog|New York|0.15|\\$456.84|\n",
    "|5001|3002|70008|\\$5,760.00|2019-09-10|Nick Rimando|New York|100|James Hoog|New York|0.15|\\$864.00|"
   ]
  },
  {
   "cell_type": "code",
   "execution_count": null,
   "metadata": {},
   "outputs": [],
   "source": [
    "# You fill this in\n",
    "commissions = ..."
   ]
  },
  {
   "cell_type": "markdown",
   "metadata": {},
   "source": [
    "### Question 7: Top Earner!\n",
    "\n",
    "Use the `group` method to make the table below:\n",
    "\n",
    "|Salesperson Name|Commission Earned sum|\n",
    "|----------------|---------------------|\n",
    "|James Hoog|\\$1,690.72|\n",
    "|Layla Ahmad|\\$310.91|\n",
    "|Mike Lyon|\\$277.68|\n",
    "|Nail Knite|\\$175.43|\n",
    "|Amoli Alex|\\$29.77|\n",
    "|Adam Plank|\\$9.79|\n"
   ]
  },
  {
   "cell_type": "code",
   "execution_count": null,
   "metadata": {},
   "outputs": [],
   "source": [
    "# You fill this in\n",
    "..."
   ]
  }
 ],
 "metadata": {
  "kernelspec": {
   "display_name": "Python 3 (ipykernel)",
   "language": "python",
   "name": "python3"
  },
  "language_info": {
   "codemirror_mode": {
    "name": "ipython",
    "version": 3
   },
   "file_extension": ".py",
   "mimetype": "text/x-python",
   "name": "python",
   "nbconvert_exporter": "python",
   "pygments_lexer": "ipython3",
   "version": "3.9.6"
  }
 },
 "nbformat": 4,
 "nbformat_minor": 4
}
