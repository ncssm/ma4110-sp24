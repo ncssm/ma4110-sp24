{
 "cells": [
  {
   "cell_type": "code",
   "execution_count": 1,
   "id": "simplified-shakespeare",
   "metadata": {},
   "outputs": [],
   "source": [
    "from datascience import *\n",
    "import numpy as np\n",
    "\n",
    "%matplotlib inline\n",
    "import matplotlib.pyplot as plots\n",
    "plots.style.use('fivethirtyeight')"
   ]
  },
  {
   "cell_type": "markdown",
   "id": "proud-liver",
   "metadata": {},
   "source": [
    "# Activity 06: Census"
   ]
  },
  {
   "cell_type": "markdown",
   "id": "starting-elimination",
   "metadata": {},
   "source": [
    "The US completes a census every 10 years to take a count of all people living in the country. Then, each year the US Census Bureau creates an updated estimate of that population until the next census is completed. We are still waiting for the US Census Bureau to release data in a .csv format that's suitable for use in a Jupyter Notebook.\n",
    "\n",
    "In the meantime, load the data from the US Census Bureau from the 2019 update ([source](https://www2.census.gov/programs-surveys/popest/technical-documentation/file-layouts/2010-2019/?C=S;O=A))"
   ]
  },
  {
   "cell_type": "code",
   "execution_count": 2,
   "id": "recent-priest",
   "metadata": {},
   "outputs": [
    {
     "data": {
      "text/html": [
       "<table border=\"1\" class=\"dataframe\">\n",
       "    <thead>\n",
       "        <tr>\n",
       "            <th>SEX</th> <th>AGE</th> <th>CENSUS2010POP</th> <th>ESTIMATESBASE2010</th> <th>POPESTIMATE2010</th> <th>POPESTIMATE2011</th> <th>POPESTIMATE2012</th> <th>POPESTIMATE2013</th> <th>POPESTIMATE2014</th> <th>POPESTIMATE2015</th> <th>POPESTIMATE2016</th> <th>POPESTIMATE2017</th> <th>POPESTIMATE2018</th> <th>POPESTIMATE2019</th>\n",
       "        </tr>\n",
       "    </thead>\n",
       "    <tbody>\n",
       "        <tr>\n",
       "            <td>0   </td> <td>0   </td> <td>3944153      </td> <td>3944160          </td> <td>3951430        </td> <td>3963092        </td> <td>3926570        </td> <td>3931258        </td> <td>3954787        </td> <td>3983981        </td> <td>3954773        </td> <td>3893990        </td> <td>3815343        </td> <td>3783052        </td>\n",
       "        </tr>\n",
       "        <tr>\n",
       "            <td>0   </td> <td>1   </td> <td>3978070      </td> <td>3978090          </td> <td>3957730        </td> <td>3966225        </td> <td>3977549        </td> <td>3942698        </td> <td>3948891        </td> <td>3973133        </td> <td>4002903        </td> <td>3972711        </td> <td>3908830        </td> <td>3829599        </td>\n",
       "        </tr>\n",
       "        <tr>\n",
       "            <td>0   </td> <td>2   </td> <td>4096929      </td> <td>4096939          </td> <td>4090621        </td> <td>3970654        </td> <td>3978925        </td> <td>3991740        </td> <td>3958711        </td> <td>3966321        </td> <td>3991349        </td> <td>4020045        </td> <td>3987032        </td> <td>3922044        </td>\n",
       "        </tr>\n",
       "        <tr>\n",
       "            <td>0   </td> <td>3   </td> <td>4119040      </td> <td>4119051          </td> <td>4111688        </td> <td>4101644        </td> <td>3981531        </td> <td>3991017        </td> <td>4005928        </td> <td>3974351        </td> <td>3982984        </td> <td>4006946        </td> <td>4033038        </td> <td>3998665        </td>\n",
       "        </tr>\n",
       "        <tr>\n",
       "            <td>0   </td> <td>4   </td> <td>4063170      </td> <td>4063186          </td> <td>4077346        </td> <td>4121488        </td> <td>4111490        </td> <td>3992502        </td> <td>4004032        </td> <td>4020292        </td> <td>3989750        </td> <td>3997280        </td> <td>4018719        </td> <td>4043323        </td>\n",
       "        </tr>\n",
       "        <tr>\n",
       "            <td>0   </td> <td>5   </td> <td>4056858      </td> <td>4056872          </td> <td>4064521        </td> <td>4087054        </td> <td>4131049        </td> <td>4121876        </td> <td>4004576        </td> <td>4017589        </td> <td>4035033        </td> <td>4003452        </td> <td>4008443        </td> <td>4028281        </td>\n",
       "        </tr>\n",
       "        <tr>\n",
       "            <td>0   </td> <td>6   </td> <td>4066381      </td> <td>4066412          </td> <td>4072904        </td> <td>4074531        </td> <td>4096631        </td> <td>4141126        </td> <td>4133372        </td> <td>4017388        </td> <td>4031568        </td> <td>4048018        </td> <td>4014057        </td> <td>4017227        </td>\n",
       "        </tr>\n",
       "        <tr>\n",
       "            <td>0   </td> <td>7   </td> <td>4030579      </td> <td>4030594          </td> <td>4042990        </td> <td>4082821        </td> <td>4084175        </td> <td>4106756        </td> <td>4152666        </td> <td>4145872        </td> <td>4030888        </td> <td>4044139        </td> <td>4058370        </td> <td>4022319        </td>\n",
       "        </tr>\n",
       "        <tr>\n",
       "            <td>0   </td> <td>8   </td> <td>4046486      </td> <td>4046497          </td> <td>4025501        </td> <td>4052773        </td> <td>4092559        </td> <td>4094513        </td> <td>4118349        </td> <td>4165033        </td> <td>4158848        </td> <td>4042924        </td> <td>4054236        </td> <td>4066194        </td>\n",
       "        </tr>\n",
       "        <tr>\n",
       "            <td>0   </td> <td>9   </td> <td>4148353      </td> <td>4148369          </td> <td>4125312        </td> <td>4035319        </td> <td>4062726        </td> <td>4103052        </td> <td>4106068        </td> <td>4130887        </td> <td>4177895        </td> <td>4170813        </td> <td>4053179        </td> <td>4061874        </td>\n",
       "        </tr>\n",
       "    </tbody>\n",
       "</table>\n",
       "<p>... (296 rows omitted)</p>"
      ],
      "text/plain": [
       "SEX  | AGE  | CENSUS2010POP | ESTIMATESBASE2010 | POPESTIMATE2010 | POPESTIMATE2011 | POPESTIMATE2012 | POPESTIMATE2013 | POPESTIMATE2014 | POPESTIMATE2015 | POPESTIMATE2016 | POPESTIMATE2017 | POPESTIMATE2018 | POPESTIMATE2019\n",
       "0    | 0    | 3944153       | 3944160           | 3951430         | 3963092         | 3926570         | 3931258         | 3954787         | 3983981         | 3954773         | 3893990         | 3815343         | 3783052\n",
       "0    | 1    | 3978070       | 3978090           | 3957730         | 3966225         | 3977549         | 3942698         | 3948891         | 3973133         | 4002903         | 3972711         | 3908830         | 3829599\n",
       "0    | 2    | 4096929       | 4096939           | 4090621         | 3970654         | 3978925         | 3991740         | 3958711         | 3966321         | 3991349         | 4020045         | 3987032         | 3922044\n",
       "0    | 3    | 4119040       | 4119051           | 4111688         | 4101644         | 3981531         | 3991017         | 4005928         | 3974351         | 3982984         | 4006946         | 4033038         | 3998665\n",
       "0    | 4    | 4063170       | 4063186           | 4077346         | 4121488         | 4111490         | 3992502         | 4004032         | 4020292         | 3989750         | 3997280         | 4018719         | 4043323\n",
       "0    | 5    | 4056858       | 4056872           | 4064521         | 4087054         | 4131049         | 4121876         | 4004576         | 4017589         | 4035033         | 4003452         | 4008443         | 4028281\n",
       "0    | 6    | 4066381       | 4066412           | 4072904         | 4074531         | 4096631         | 4141126         | 4133372         | 4017388         | 4031568         | 4048018         | 4014057         | 4017227\n",
       "0    | 7    | 4030579       | 4030594           | 4042990         | 4082821         | 4084175         | 4106756         | 4152666         | 4145872         | 4030888         | 4044139         | 4058370         | 4022319\n",
       "0    | 8    | 4046486       | 4046497           | 4025501         | 4052773         | 4092559         | 4094513         | 4118349         | 4165033         | 4158848         | 4042924         | 4054236         | 4066194\n",
       "0    | 9    | 4148353       | 4148369           | 4125312         | 4035319         | 4062726         | 4103052         | 4106068         | 4130887         | 4177895         | 4170813         | 4053179         | 4061874\n",
       "... (296 rows omitted)"
      ]
     },
     "execution_count": 2,
     "metadata": {},
     "output_type": "execute_result"
    }
   ],
   "source": [
    "full = Table.read_table('data/nc-est2019-agesex-res.csv')\n",
    "full"
   ]
  },
  {
   "cell_type": "markdown",
   "id": "authentic-difficulty",
   "metadata": {},
   "source": [
    "You'll notice that there are many variables for each row of this data set. We'll describe them below:\n",
    "\n",
    "|VARIABLE|DESCRIPTION|\n",
    "|--------|-----------|\n",
    "|SEX|Sex|\n",
    "|AGE|Age|\n",
    "|CENSUS2010POP|4/1/2010 resident Census 2010 population|\n",
    "|ESTIMATESBASE2010|4/1/2010 resident population estimates base|\n",
    "|POPESTIMATE2010|7/1/2010 resident population estimate|\n",
    "|POPESTIMATE2011|7/1/2011 resident population estimate|\n",
    "|POPESTIMATE2012|7/1/2012 resident population estimate|\n",
    "|POPESTIMATE2013|7/1/2013 resident population estimate|\n",
    "|POPESTIMATE2014|7/1/2014 resident population estimate|\n",
    "|POPESTIMATE2015|7/1/2015 resident population estimate|\n",
    "|POPESTIMATE2016|7/1/2016 resident population estimate|\n",
    "|POPESTIMATE2017|7/1/2017 resident population estimate|\n",
    "|POPESTIMATE2018|7/1/2018 resident population estimate|\n",
    "|POPESTIMATE2019|7/1/2019 resident population estimate|"
   ]
  },
  {
   "cell_type": "markdown",
   "id": "b16882bd-ee51-4c05-b1e6-97dabf81432c",
   "metadata": {},
   "source": [
    "## `SEX`\n",
    "The key for SEX is as follows:\n",
    "\n",
    ">0 = Total\n",
    ">\n",
    ">1 = Male\n",
    ">\n",
    ">2 = Female\n",
    "\n",
    "## `AGE`\n",
    "AGE is single-year of age (0, 1, 2, . . ., 99, 100+ years) and 999 is used to indicate total population"
   ]
  },
  {
   "cell_type": "markdown",
   "id": "portable-baptist",
   "metadata": {},
   "source": [
    "## Exploring the Data\n",
    "\n",
    "Now, let's focus on the popultionas from the official census in 2010 and the most recent estimates available from 2019. Select only the columns `SEX`, `AGE`, `CENSUS2010POP`, and `POPESTIMATE2019`."
   ]
  },
  {
   "cell_type": "code",
   "execution_count": 3,
   "id": "editorial-minnesota",
   "metadata": {},
   "outputs": [
    {
     "data": {
      "text/html": [
       "<table border=\"1\" class=\"dataframe\">\n",
       "    <thead>\n",
       "        <tr>\n",
       "            <th>SEX</th> <th>AGE</th> <th>CENSUS2010POP</th> <th>POPESTIMATE2019</th>\n",
       "        </tr>\n",
       "    </thead>\n",
       "    <tbody>\n",
       "        <tr>\n",
       "            <td>0   </td> <td>0   </td> <td>3944153      </td> <td>3783052        </td>\n",
       "        </tr>\n",
       "        <tr>\n",
       "            <td>0   </td> <td>1   </td> <td>3978070      </td> <td>3829599        </td>\n",
       "        </tr>\n",
       "        <tr>\n",
       "            <td>0   </td> <td>2   </td> <td>4096929      </td> <td>3922044        </td>\n",
       "        </tr>\n",
       "        <tr>\n",
       "            <td>0   </td> <td>3   </td> <td>4119040      </td> <td>3998665        </td>\n",
       "        </tr>\n",
       "        <tr>\n",
       "            <td>0   </td> <td>4   </td> <td>4063170      </td> <td>4043323        </td>\n",
       "        </tr>\n",
       "        <tr>\n",
       "            <td>0   </td> <td>5   </td> <td>4056858      </td> <td>4028281        </td>\n",
       "        </tr>\n",
       "        <tr>\n",
       "            <td>0   </td> <td>6   </td> <td>4066381      </td> <td>4017227        </td>\n",
       "        </tr>\n",
       "        <tr>\n",
       "            <td>0   </td> <td>7   </td> <td>4030579      </td> <td>4022319        </td>\n",
       "        </tr>\n",
       "        <tr>\n",
       "            <td>0   </td> <td>8   </td> <td>4046486      </td> <td>4066194        </td>\n",
       "        </tr>\n",
       "        <tr>\n",
       "            <td>0   </td> <td>9   </td> <td>4148353      </td> <td>4061874        </td>\n",
       "        </tr>\n",
       "    </tbody>\n",
       "</table>\n",
       "<p>... (296 rows omitted)</p>"
      ],
      "text/plain": [
       "SEX  | AGE  | CENSUS2010POP | POPESTIMATE2019\n",
       "0    | 0    | 3944153       | 3783052\n",
       "0    | 1    | 3978070       | 3829599\n",
       "0    | 2    | 4096929       | 3922044\n",
       "0    | 3    | 4119040       | 3998665\n",
       "0    | 4    | 4063170       | 4043323\n",
       "0    | 5    | 4056858       | 4028281\n",
       "0    | 6    | 4066381       | 4017227\n",
       "0    | 7    | 4030579       | 4022319\n",
       "0    | 8    | 4046486       | 4066194\n",
       "0    | 9    | 4148353       | 4061874\n",
       "... (296 rows omitted)"
      ]
     },
     "execution_count": 3,
     "metadata": {},
     "output_type": "execute_result"
    }
   ],
   "source": [
    "# Select the columns needed from `full`\n",
    "partial = full.select('SEX', 'AGE', 'CENSUS2010POP', 'POPESTIMATE2019')\n",
    "partial"
   ]
  },
  {
   "cell_type": "code",
   "execution_count": 4,
   "id": "australian-packing",
   "metadata": {},
   "outputs": [
    {
     "data": {
      "text/html": [
       "<table border=\"1\" class=\"dataframe\">\n",
       "    <thead>\n",
       "        <tr>\n",
       "            <th>SEX</th> <th>AGE</th> <th>2010</th> <th>2019</th>\n",
       "        </tr>\n",
       "    </thead>\n",
       "    <tbody>\n",
       "        <tr>\n",
       "            <td>0   </td> <td>0   </td> <td>3944153</td> <td>3783052</td>\n",
       "        </tr>\n",
       "        <tr>\n",
       "            <td>0   </td> <td>1   </td> <td>3978070</td> <td>3829599</td>\n",
       "        </tr>\n",
       "        <tr>\n",
       "            <td>0   </td> <td>2   </td> <td>4096929</td> <td>3922044</td>\n",
       "        </tr>\n",
       "        <tr>\n",
       "            <td>0   </td> <td>3   </td> <td>4119040</td> <td>3998665</td>\n",
       "        </tr>\n",
       "        <tr>\n",
       "            <td>0   </td> <td>4   </td> <td>4063170</td> <td>4043323</td>\n",
       "        </tr>\n",
       "        <tr>\n",
       "            <td>0   </td> <td>5   </td> <td>4056858</td> <td>4028281</td>\n",
       "        </tr>\n",
       "        <tr>\n",
       "            <td>0   </td> <td>6   </td> <td>4066381</td> <td>4017227</td>\n",
       "        </tr>\n",
       "        <tr>\n",
       "            <td>0   </td> <td>7   </td> <td>4030579</td> <td>4022319</td>\n",
       "        </tr>\n",
       "        <tr>\n",
       "            <td>0   </td> <td>8   </td> <td>4046486</td> <td>4066194</td>\n",
       "        </tr>\n",
       "        <tr>\n",
       "            <td>0   </td> <td>9   </td> <td>4148353</td> <td>4061874</td>\n",
       "        </tr>\n",
       "    </tbody>\n",
       "</table>\n",
       "<p>... (296 rows omitted)</p>"
      ],
      "text/plain": [
       "SEX  | AGE  | 2010    | 2019\n",
       "0    | 0    | 3944153 | 3783052\n",
       "0    | 1    | 3978070 | 3829599\n",
       "0    | 2    | 4096929 | 3922044\n",
       "0    | 3    | 4119040 | 3998665\n",
       "0    | 4    | 4063170 | 4043323\n",
       "0    | 5    | 4056858 | 4028281\n",
       "0    | 6    | 4066381 | 4017227\n",
       "0    | 7    | 4030579 | 4022319\n",
       "0    | 8    | 4046486 | 4066194\n",
       "0    | 9    | 4148353 | 4061874\n",
       "... (296 rows omitted)"
      ]
     },
     "execution_count": 4,
     "metadata": {},
     "output_type": "execute_result"
    }
   ],
   "source": [
    "# Rename the columns to make them easier to refer to\n",
    "simple = partial.relabeled('CENSUS2010POP', '2010').relabeled('POPESTIMATE2019', '2019')\n",
    "simple"
   ]
  },
  {
   "cell_type": "code",
   "execution_count": 5,
   "id": "stupid-lender",
   "metadata": {},
   "outputs": [
    {
     "data": {
      "image/png": "[encoded data removed]",
      "text/plain": [
       "<Figure size 432x432 with 1 Axes>"
      ]
     },
     "metadata": {},
     "output_type": "display_data"
    }
   ],
   "source": [
    "# Look at some line graphs and discuss the patterns\n",
    "to_graph = simple.where('SEX', 1).where('AGE', are.below(999)).drop('SEX')\n",
    "to_graph.plot('AGE', '2010')"
   ]
  },
  {
   "cell_type": "code",
   "execution_count": 6,
   "id": "threatened-comfort",
   "metadata": {},
   "outputs": [
    {
     "data": {
      "image/png": "[encoded data removed]",
      "text/plain": [
       "<Figure size 432x432 with 1 Axes>"
      ]
     },
     "metadata": {},
     "output_type": "display_data"
    }
   ],
   "source": [
    "# Look at some line graphs and discuss the patterns\n",
    "to_graph = simple.where('SEX', 2).where('AGE', are.below(999)).drop('SEX')\n",
    "to_graph.plot('AGE', '2010')"
   ]
  },
  {
   "cell_type": "markdown",
   "id": "protective-confidentiality",
   "metadata": {},
   "source": [
    "## Percent Change\n",
    "\n",
    "Create a new table named `changes` that has the following columns: `AGE`, `POPCHANGE`, and `PERCENTCHANGE`, where each row corresponds to a row in the `partial` table where `SEX` was 0, and `AGE` was for a single-year (not 999). \n",
    "\n",
    "The `POPCHANGE` column should represent the popualation growth from the 2010 census to the 2019 estimate, measured in people.\n",
    "\n",
    "The `PERCENTCHANGE` column should represent the percent change between from the 2010 census to the 2019 estimate. Use array operations to calculate these columns and table methods to create the table that contains them."
   ]
  },
  {
   "cell_type": "code",
   "execution_count": 7,
   "id": "governmental-uncertainty",
   "metadata": {},
   "outputs": [
    {
     "data": {
      "text/html": [
       "<table border=\"1\" class=\"dataframe\">\n",
       "    <thead>\n",
       "        <tr>\n",
       "            <th>AGE</th> <th>2010</th> <th>2019</th>\n",
       "        </tr>\n",
       "    </thead>\n",
       "    <tbody>\n",
       "        <tr>\n",
       "            <td>0   </td> <td>3944153</td> <td>3783052</td>\n",
       "        </tr>\n",
       "        <tr>\n",
       "            <td>1   </td> <td>3978070</td> <td>3829599</td>\n",
       "        </tr>\n",
       "        <tr>\n",
       "            <td>2   </td> <td>4096929</td> <td>3922044</td>\n",
       "        </tr>\n",
       "        <tr>\n",
       "            <td>3   </td> <td>4119040</td> <td>3998665</td>\n",
       "        </tr>\n",
       "        <tr>\n",
       "            <td>4   </td> <td>4063170</td> <td>4043323</td>\n",
       "        </tr>\n",
       "        <tr>\n",
       "            <td>5   </td> <td>4056858</td> <td>4028281</td>\n",
       "        </tr>\n",
       "        <tr>\n",
       "            <td>6   </td> <td>4066381</td> <td>4017227</td>\n",
       "        </tr>\n",
       "        <tr>\n",
       "            <td>7   </td> <td>4030579</td> <td>4022319</td>\n",
       "        </tr>\n",
       "        <tr>\n",
       "            <td>8   </td> <td>4046486</td> <td>4066194</td>\n",
       "        </tr>\n",
       "        <tr>\n",
       "            <td>9   </td> <td>4148353</td> <td>4061874</td>\n",
       "        </tr>\n",
       "    </tbody>\n",
       "</table>\n",
       "<p>... (91 rows omitted)</p>"
      ],
      "text/plain": [
       "AGE  | 2010    | 2019\n",
       "0    | 3944153 | 3783052\n",
       "1    | 3978070 | 3829599\n",
       "2    | 4096929 | 3922044\n",
       "3    | 4119040 | 3998665\n",
       "4    | 4063170 | 4043323\n",
       "5    | 4056858 | 4028281\n",
       "6    | 4066381 | 4017227\n",
       "7    | 4030579 | 4022319\n",
       "8    | 4046486 | 4066194\n",
       "9    | 4148353 | 4061874\n",
       "... (91 rows omitted)"
      ]
     },
     "execution_count": 7,
     "metadata": {},
     "output_type": "execute_result"
    }
   ],
   "source": [
    "# Create a table with the reduced set of rows and columns\n",
    "initial = simple.where('SEX', 0).where('AGE', are.below(999)).drop('SEX')\n",
    "initial"
   ]
  },
  {
   "cell_type": "code",
   "execution_count": 8,
   "id": "secure-syndicate",
   "metadata": {},
   "outputs": [
    {
     "data": {
      "text/plain": [
       "array([-161101, -148471, -174885, -120375,  -19847,  -28577,  -49154,\n",
       "         -8260,   19708,  -86479, -111601,   74846,  102144,   57208,\n",
       "         -1523,  -67361, -165719, -252870, -245028, -254795, -249446,\n",
       "        -75971,   34130,  143073,  195155,  276708,  458915,  485000,\n",
       "        603476,  583068,  328716,  532093,  434658,  552823,  620916,\n",
       "        359432,  570357,  426841,  183696,   17553, -277961,  -94731,\n",
       "       -101363, -251065, -244221, -670959, -630389, -477227, -256139,\n",
       "       -276126, -563723, -460288, -499064, -311503,   13604,  119856,\n",
       "        323503,  405999,  590642,  772586,  631532,  722576,  593463,\n",
       "        512204, 1293447, 1093836,  978928,  815072, 1021803, 1110099,\n",
       "       1093583, 1133760, 1326773,  597473,  598677,  578209,  751322,\n",
       "        455931,  320694,  228714,  166767,  168776,   79920,   76381,\n",
       "         82036,    7744,   42435,   66015,   62459,   97984,  100884,\n",
       "        122185,  112678,  103807,   94828,   77369,   62240,   48831,\n",
       "         40250,   24858,   46958])"
      ]
     },
     "execution_count": 8,
     "metadata": {},
     "output_type": "execute_result"
    }
   ],
   "source": [
    "# Create an ARRAY that contains the values for the `POPCHANGE` column\n",
    "population_change = initial.column(2)-initial.column(1)\n",
    "population_change"
   ]
  },
  {
   "cell_type": "code",
   "execution_count": 9,
   "id": "julian-taste",
   "metadata": {},
   "outputs": [
    {
     "data": {
      "text/plain": [
       "array([-4.08455250e-02, -3.73223699e-02, -4.26868515e-02, -2.92240425e-02,\n",
       "       -4.88460980e-03, -7.04412134e-03, -1.20878983e-02, -2.04933336e-03,\n",
       "        4.87039866e-03, -2.08465866e-02, -2.67465317e-02,  1.81911645e-02,\n",
       "        2.48752935e-02,  1.38921368e-02, -3.65580072e-04, -1.58764690e-02,\n",
       "       -3.83951953e-02, -5.75319745e-02, -5.44403230e-02, -5.55685926e-02,\n",
       "       -5.51978047e-02, -1.74473749e-02,  8.00301643e-03,  3.40765942e-02,\n",
       "        4.59257070e-02,  6.49191174e-02,  1.10520542e-01,  1.14148024e-01,\n",
       "        1.43164971e-01,  1.38067134e-01,  7.67012284e-02,  1.34021104e-01,\n",
       "        1.09022995e-01,  1.42474647e-01,  1.61729895e-01,  9.08474652e-02,\n",
       "        1.50011559e-01,  1.08488237e-01,  4.45660718e-02,  4.02149379e-03,\n",
       "       -6.34140143e-02, -2.30209831e-02, -2.48676187e-02, -6.11592152e-02,\n",
       "       -5.79891326e-02, -1.48808748e-01, -1.39473968e-01, -1.05225825e-01,\n",
       "       -5.64332479e-02, -5.99504853e-02, -1.20962943e-01, -1.03096538e-01,\n",
       "       -1.10882265e-01, -7.11136589e-02,  3.16961863e-03,  2.81701992e-02,\n",
       "        8.01243241e-02,  1.03140038e-01,  1.55639843e-01,  2.12174931e-01,\n",
       "        1.74401865e-01,  2.06887942e-01,  1.66554220e-01,  1.47020969e-01,\n",
       "        4.86783301e-01,  4.08031898e-01,  3.70926752e-01,  3.07648059e-01,\n",
       "        4.39736331e-01,  5.18175122e-01,  5.35251216e-01,  5.81617310e-01,\n",
       "        7.11683094e-01,  3.43976257e-01,  3.55406127e-01,  3.56902172e-01,\n",
       "        5.10731644e-01,  3.13283585e-01,  2.29047019e-01,  1.66799033e-01,\n",
       "        1.27447916e-01,  1.39154811e-01,  6.88122567e-02,  7.10647194e-02,\n",
       "        8.32243606e-02,  8.46595089e-03,  5.21179399e-02,  9.25996061e-02,\n",
       "        9.74978888e-02,  1.82127071e-01,  2.31617470e-01,  3.54172766e-01,\n",
       "        4.00434985e-01,  4.78421775e-01,  5.59625610e-01,  5.96444568e-01,\n",
       "        6.53623599e-01,  7.16648566e-01,  8.76906318e-01,  7.70408480e-01,\n",
       "        8.79956525e-01])"
      ]
     },
     "execution_count": 9,
     "metadata": {},
     "output_type": "execute_result"
    }
   ],
   "source": [
    "# Create an ARRAY that contains the values for the `PERCENTCHANGE` column\n",
    "percent_change = population_change / initial.column(1)\n",
    "percent_change"
   ]
  },
  {
   "cell_type": "code",
   "execution_count": 10,
   "id": "signed-jacket",
   "metadata": {},
   "outputs": [
    {
     "data": {
      "text/html": [
       "<table border=\"1\" class=\"dataframe\">\n",
       "    <thead>\n",
       "        <tr>\n",
       "            <th>AGE</th> <th>2010</th> <th>2019</th> <th>POPCHANGE</th> <th>PERCENTCHANGE</th>\n",
       "        </tr>\n",
       "    </thead>\n",
       "    <tbody>\n",
       "        <tr>\n",
       "            <td>0   </td> <td>3,944,153</td> <td>3,783,052</td> <td>-161,101 </td> <td>-4.08%       </td>\n",
       "        </tr>\n",
       "        <tr>\n",
       "            <td>1   </td> <td>3,978,070</td> <td>3,829,599</td> <td>-148,471 </td> <td>-3.73%       </td>\n",
       "        </tr>\n",
       "        <tr>\n",
       "            <td>2   </td> <td>4,096,929</td> <td>3,922,044</td> <td>-174,885 </td> <td>-4.27%       </td>\n",
       "        </tr>\n",
       "        <tr>\n",
       "            <td>3   </td> <td>4,119,040</td> <td>3,998,665</td> <td>-120,375 </td> <td>-2.92%       </td>\n",
       "        </tr>\n",
       "        <tr>\n",
       "            <td>4   </td> <td>4,063,170</td> <td>4,043,323</td> <td>-19,847  </td> <td>-0.49%       </td>\n",
       "        </tr>\n",
       "        <tr>\n",
       "            <td>5   </td> <td>4,056,858</td> <td>4,028,281</td> <td>-28,577  </td> <td>-0.70%       </td>\n",
       "        </tr>\n",
       "        <tr>\n",
       "            <td>6   </td> <td>4,066,381</td> <td>4,017,227</td> <td>-49,154  </td> <td>-1.21%       </td>\n",
       "        </tr>\n",
       "        <tr>\n",
       "            <td>7   </td> <td>4,030,579</td> <td>4,022,319</td> <td>-8,260   </td> <td>-0.20%       </td>\n",
       "        </tr>\n",
       "        <tr>\n",
       "            <td>8   </td> <td>4,046,486</td> <td>4,066,194</td> <td>19,708   </td> <td>0.49%        </td>\n",
       "        </tr>\n",
       "        <tr>\n",
       "            <td>9   </td> <td>4,148,353</td> <td>4,061,874</td> <td>-86,479  </td> <td>-2.08%       </td>\n",
       "        </tr>\n",
       "        <tr>\n",
       "            <td>10  </td> <td>4,172,541</td> <td>4,060,940</td> <td>-111,601 </td> <td>-2.67%       </td>\n",
       "        </tr>\n",
       "        <tr>\n",
       "            <td>11  </td> <td>4,114,415</td> <td>4,189,261</td> <td>74,846   </td> <td>1.82%        </td>\n",
       "        </tr>\n",
       "        <tr>\n",
       "            <td>12  </td> <td>4,106,243</td> <td>4,208,387</td> <td>102,144  </td> <td>2.49%        </td>\n",
       "        </tr>\n",
       "        <tr>\n",
       "            <td>13  </td> <td>4,118,013</td> <td>4,175,221</td> <td>57,208   </td> <td>1.39%        </td>\n",
       "        </tr>\n",
       "        <tr>\n",
       "            <td>14  </td> <td>4,165,982</td> <td>4,164,459</td> <td>-1,523   </td> <td>-0.04%       </td>\n",
       "        </tr>\n",
       "        <tr>\n",
       "            <td>15  </td> <td>4,242,820</td> <td>4,175,459</td> <td>-67,361  </td> <td>-1.59%       </td>\n",
       "        </tr>\n",
       "        <tr>\n",
       "            <td>16  </td> <td>4,316,139</td> <td>4,150,420</td> <td>-165,719 </td> <td>-3.84%       </td>\n",
       "        </tr>\n",
       "        <tr>\n",
       "            <td>17  </td> <td>4,395,295</td> <td>4,142,425</td> <td>-252,870 </td> <td>-5.75%       </td>\n",
       "        </tr>\n",
       "        <tr>\n",
       "            <td>18  </td> <td>4,500,855</td> <td>4,255,827</td> <td>-245,028 </td> <td>-5.44%       </td>\n",
       "        </tr>\n",
       "        <tr>\n",
       "            <td>19  </td> <td>4,585,234</td> <td>4,330,439</td> <td>-254,795 </td> <td>-5.56%       </td>\n",
       "        </tr>\n",
       "        <tr>\n",
       "            <td>20  </td> <td>4,519,129</td> <td>4,269,683</td> <td>-249,446 </td> <td>-5.52%       </td>\n",
       "        </tr>\n",
       "        <tr>\n",
       "            <td>21  </td> <td>4,354,294</td> <td>4,278,323</td> <td>-75,971  </td> <td>-1.74%       </td>\n",
       "        </tr>\n",
       "        <tr>\n",
       "            <td>22  </td> <td>4,264,642</td> <td>4,298,772</td> <td>34,130   </td> <td>0.80%        </td>\n",
       "        </tr>\n",
       "        <tr>\n",
       "            <td>23  </td> <td>4,198,571</td> <td>4,341,644</td> <td>143,073  </td> <td>3.41%        </td>\n",
       "        </tr>\n",
       "        <tr>\n",
       "            <td>24  </td> <td>4,249,363</td> <td>4,444,518</td> <td>195,155  </td> <td>4.59%        </td>\n",
       "        </tr>\n",
       "    </tbody>\n",
       "</table>\n",
       "<p>... (76 rows omitted)</p>"
      ],
      "text/plain": [
       "<IPython.core.display.HTML object>"
      ]
     },
     "metadata": {},
     "output_type": "display_data"
    }
   ],
   "source": [
    "# Create the final table named `changes` has has columns `AGE`, `2010`, `2019`, `POPCHANGE`, and `PERCENTCHANGE`\n",
    "changes = initial.with_columns('POPCHANGE', population_change, 'PERCENTCHANGE', percent_change)\n",
    "\n",
    "# These lines will format the data to make it look nicer\n",
    "changes.set_format('PERCENTCHANGE', PercentFormatter)\n",
    "changes.set_format(make_array('2010', '2019', 'POPCHANGE'), NumberFormatter)\n",
    "\n",
    "# This line will show the first 25 rows in the table\n",
    "changes.show(25)"
   ]
  },
  {
   "cell_type": "markdown",
   "id": "615eb985-4afc-4310-a205-cb4019d8d776",
   "metadata": {},
   "source": [
    "## Explore Census Data\n",
    "\n",
    "The US Census Bureau held a competition around the 2020 Census called \"Let's Make it Count\" [link](https://www.letsmakeitcount.org/). It's described as follows:\n",
    "\n",
    "> ### ASK QUESTIONS. EXPLORE DATA. SHARE INSIGHTS.\n",
    "> Learn more about Census data at https://census.gov/academy and submit a story here about how Census information and context matters to you and/or your community. \n",
    "\n",
    "> Submissions can include, but are not limited to: posters, infographics, essays, captioned photos, interactive or static data visualization(s), apps, and websites.\n",
    "\n",
    "> Entries will be reviewed by the competition hosts and community leaders for creativity, clarity of message, and the use of Census data for effective storytelling. Submissions should address how the participant has been, is, or will be Asking Questions, Exploring Data, and Sharing Insights.\n",
    "\n",
    "While we haven't learned a lot about data visualization yet in this course, you should be able to dig into this census data and look for patterns and trends. Create some code cells below and investigate the data. If you find anything of interest, share it to the course discussion board under Activity 06."
   ]
  },
  {
   "cell_type": "code",
   "execution_count": null,
   "id": "c6bd51ca-8ea7-48b5-b31b-ebadc6d01135",
   "metadata": {},
   "outputs": [],
   "source": []
  }
 ],
 "metadata": {
  "kernelspec": {
   "display_name": "Python 3",
   "language": "python",
   "name": "python3"
  },
  "language_info": {
   "codemirror_mode": {
    "name": "ipython",
    "version": 3
   },
   "file_extension": ".py",
   "mimetype": "text/x-python",
   "name": "python",
   "nbconvert_exporter": "python",
   "pygments_lexer": "ipython3",
   "version": "3.9.5"
  }
 },
 "nbformat": 4,
 "nbformat_minor": 5
}
