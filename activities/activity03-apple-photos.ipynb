{
 "cells": [
  {
   "cell_type": "markdown",
   "id": "looking-swedish",
   "metadata": {},
   "source": [
    "# Activity 03: Exploring Apple Photos\n",
    "\n",
    "You may not know this, but anytime you take a photo on your iPhone, a lot of machine learning goes on behind the scenes to determine loads of information about the photo. Where it was taken, what's in it, and even how good of a photo it is.\n",
    "\n",
    "A data scientist built a tool to extract all that information from any Apple Photos database and put it into a more readable format. The tools is called dogsheep photos, and is available to install on your Mac: https://github.com/dogsheep/dogsheep-photos. For today, we'll use about 500 or so of his photos to explore the information that an Apple Photos database contains. All information has come from: https://dogsheep-photos.dogsheep.net/ which is a publically available database of photos from Simon Willison, the author of Dog Sheep Photos."
   ]
  },
  {
   "cell_type": "markdown",
   "id": "particular-tokyo",
   "metadata": {},
   "source": [
    "## Getting Started\n",
    "\n",
    "Get started by running the code below to load in all the table operations you learned about in Lesson 03: Tables and Intro to Python. These table operations are not built into the standard Python library of tools, so we need to import them all from the `datascience` Python module, which is maintained by UC-Berkeley. You can do this by running the cell below. You'll see this code reappear quite a bit in this course!"
   ]
  },
  {
   "cell_type": "code",
   "execution_count": null,
   "id": "global-nowhere",
   "metadata": {},
   "outputs": [],
   "source": [
    "from datascience import *"
   ]
  },
  {
   "cell_type": "markdown",
   "id": "convinced-attitude",
   "metadata": {},
   "source": [
    "Now, we need to load up some information on the photos. We'll create two tables, `photos` which will contain almost all the metadata about the photos, and `labels` which contains additional information about what Apple thinks the photo is of (person, animal, tree, etc.)"
   ]
  },
  {
   "cell_type": "code",
   "execution_count": null,
   "id": "careful-uncertainty",
   "metadata": {},
   "outputs": [],
   "source": [
    "photos = Table.read_table('data/apple_photos.csv')\n",
    "labels = Table.read_table('data/apple_labels.csv')"
   ]
  },
  {
   "cell_type": "markdown",
   "id": "committed-tuesday",
   "metadata": {},
   "source": [
    "### The `photos` Table\n",
    "\n",
    "Let's take a look at what we're working with in the `photos` table. Run the cell below to see the first 10 rows of this table, and all of the columns. You can scroll to the right to see all the columns. We'll often call the column labels, \"attributes\" or \"features\" of the data contained in each row."
   ]
  },
  {
   "cell_type": "code",
   "execution_count": null,
   "id": "functional-sacrifice",
   "metadata": {},
   "outputs": [],
   "source": [
    "photos"
   ]
  },
  {
   "cell_type": "markdown",
   "id": "aerial-suicide",
   "metadata": {},
   "source": [
    "There are a lot of attributes in this table! Let's just keep a few to work with:\n",
    "\n",
    "* photo\n",
    "* uuid\n",
    "* date\n",
    "* place_city\n",
    "* place_state_province\n",
    "* place_country\n",
    "* ZOVERALLAESTHETICSCORE\n",
    "* pick another 1 or 2 that you're interested in exploring\n",
    "\n",
    "Modify the cell below so you're selecting only the attributes / columns in the list above, plus one or two that you think might be interesting. Be sure to either copy/paste the labels or type very carfully. **Remember:** LaBeLs ArE cAsE sEnSiTiVe!"
   ]
  },
  {
   "cell_type": "code",
   "execution_count": null,
   "id": "pharmaceutical-bracket",
   "metadata": {},
   "outputs": [],
   "source": [
    "# You complete some code in this cell\n",
    "my_photos = ...\n",
    "my_photos"
   ]
  },
  {
   "cell_type": "markdown",
   "id": "willing-consultation",
   "metadata": {},
   "source": [
    "Explore this data set. Some questions to consider:\n",
    "\n",
    "1. What does Apple think is the \"best\" photo as measured by it's aesthetic score, contained in `ZOVERALLAESTHETICSCORE`?\n",
    "2. How many photos were taken in the country of France? The city of Sausalito?\n",
    "3. **Find something that you think is interesting and post about it to the Activity 2 thread in the EdSTEM discussion board.**"
   ]
  },
  {
   "cell_type": "markdown",
   "id": "clinical-aluminum",
   "metadata": {},
   "source": [
    "### The `labels` table\n",
    "\n",
    "Start by looking at what the `labels` table contains:"
   ]
  },
  {
   "cell_type": "code",
   "execution_count": null,
   "id": "entire-luther",
   "metadata": {},
   "outputs": [],
   "source": [
    "labels"
   ]
  },
  {
   "cell_type": "markdown",
   "id": "annual-health",
   "metadata": {},
   "source": [
    "Let's only keep the `uuid` and `normalized_string` columns, the rest won't be too interesting:"
   ]
  },
  {
   "cell_type": "code",
   "execution_count": null,
   "id": "abandoned-green",
   "metadata": {},
   "outputs": [],
   "source": [
    "my_labels = labels.select('uuid', 'normalized_string')\n",
    "my_labels"
   ]
  },
  {
   "cell_type": "markdown",
   "id": "induced-mission",
   "metadata": {},
   "source": [
    "Let's create a table with observations where the photos contain a pelican. These rows will have the string `'pelican'` in the column labeled `normalized_string`. We'll call this table  `pelican_uuid`, because we are interested in using the UUID to match it back to our `my_photos` table, which has a lot more information on the photo. \n",
    "\n",
    "Complete the code below to create the table as described above. It should contain the columns `uuid` and `normalized_string` and only contain data about the photos that contain pelicans."
   ]
  },
  {
   "cell_type": "code",
   "execution_count": null,
   "id": "sporting-organ",
   "metadata": {},
   "outputs": [],
   "source": [
    "# You complete some code in this cell\n",
    "pelican_uuid = ...\n",
    "pelican_uuid"
   ]
  },
  {
   "cell_type": "markdown",
   "id": "european-portfolio",
   "metadata": {},
   "source": [
    "## What's the best pelican photo?\n",
    "\n",
    "The code below will create a new table, `pelican_photos` which has all the information found in `my_photos`, but only for the photos we found in the `pelican_uuid` table. \n",
    "\n",
    "Don't worry about what this code is doing. Just run it and see how the table is structured."
   ]
  },
  {
   "cell_type": "code",
   "execution_count": null,
   "id": "hybrid-fishing",
   "metadata": {},
   "outputs": [],
   "source": [
    "pelican_photos = my_photos.join( 'uuid', pelican_uuid)\n",
    "pelican_photos"
   ]
  },
  {
   "cell_type": "markdown",
   "id": "religious-saturday",
   "metadata": {},
   "source": [
    "Using table operations, sort the table named `pelican_photos` by `ZOVERALLAESTHETICSCORE` to determine which pelican photo Apple thinks looks best. Save this sorted table as `best_pelican_at_the_top`."
   ]
  },
  {
   "cell_type": "code",
   "execution_count": null,
   "id": "private-string",
   "metadata": {},
   "outputs": [],
   "source": [
    "# You complete some code in this cell\n",
    "best_pelican_at_the_top = ...\n",
    "best_pelican_at_the_top"
   ]
  },
  {
   "cell_type": "markdown",
   "id": "e403b36d-bb4d-49ea-9590-dc6f64ff76d4",
   "metadata": {},
   "source": [
    "## The WINNNER!\n",
    "\n",
    "Assuming the table above is sorted properly, running the cell below should should you the best pelican as determined by Apple."
   ]
  },
  {
   "cell_type": "code",
   "execution_count": null,
   "id": "914577a9-1b19-4bf6-8d2e-189fb024841b",
   "metadata": {},
   "outputs": [],
   "source": [
    "best_pelican = best_pelican_at_the_top.column('photo').item(0)[12:-8]\n",
    "from IPython import display\n",
    "display.Image(best_pelican)"
   ]
  },
  {
   "cell_type": "markdown",
   "id": "03454427-1794-4683-a461-26166cf31d3c",
   "metadata": {},
   "source": [
    "## The LOSER!\n",
    "\n",
    "Assuming the table above is sorted properly, running the cell below should should you the worst pelican as determined by Apple."
   ]
  },
  {
   "cell_type": "code",
   "execution_count": null,
   "id": "ceb8ad69-2b68-45d4-b8fa-107f8b0f0e59",
   "metadata": {},
   "outputs": [],
   "source": [
    "best_pelican = best_pelican_at_the_top.column('photo').item(-1)[12:-8]\n",
    "from IPython import display\n",
    "display.Image(best_pelican)"
   ]
  }
 ],
 "metadata": {
  "kernelspec": {
   "display_name": "Python 3",
   "language": "python",
   "name": "python3"
  },
  "language_info": {
   "codemirror_mode": {
    "name": "ipython",
    "version": 3
   },
   "file_extension": ".py",
   "mimetype": "text/x-python",
   "name": "python",
   "nbconvert_exporter": "python",
   "pygments_lexer": "ipython3",
   "version": "3.9.5"
  }
 },
 "nbformat": 4,
 "nbformat_minor": 5
}
