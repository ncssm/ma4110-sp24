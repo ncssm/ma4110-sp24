{
 "cells": [
  {
   "cell_type": "code",
   "execution_count": 15,
   "id": "b2d29100-f5bf-4d27-815d-51bce419e91c",
   "metadata": {},
   "outputs": [],
   "source": [
    "import matplotlib\n",
    "from datascience import *\n",
    "%matplotlib inline\n",
    "import matplotlib.pyplot as plots\n",
    "import numpy as np\n",
    "plots.style.use('fivethirtyeight')"
   ]
  },
  {
   "cell_type": "markdown",
   "id": "35f4cf1d-b27a-4c68-83e7-615d763b5d4f",
   "metadata": {},
   "source": [
    "# Activity: Bootstrapping Confidence Intervals"
   ]
  },
  {
   "cell_type": "code",
   "execution_count": 17,
   "id": "aa830ac0-73a0-4245-9e66-5c63a8058edc",
   "metadata": {},
   "outputs": [
    {
     "data": {
      "text/html": [
       "<table border=\"1\" class=\"dataframe\">\n",
       "    <thead>\n",
       "        <tr>\n",
       "            <th>N=100</th> <th>N=25</th> <th>N=10</th>\n",
       "        </tr>\n",
       "    </thead>\n",
       "    <tbody>\n",
       "        <tr>\n",
       "            <td>66   </td> <td>19  </td> <td>9   </td>\n",
       "        </tr>\n",
       "        <tr>\n",
       "            <td>63   </td> <td>16  </td> <td>6   </td>\n",
       "        </tr>\n",
       "        <tr>\n",
       "            <td>66   </td> <td>19  </td> <td>4   </td>\n",
       "        </tr>\n",
       "        <tr>\n",
       "            <td>72   </td> <td>17  </td> <td>3   </td>\n",
       "        </tr>\n",
       "        <tr>\n",
       "            <td>68   </td> <td>19  </td> <td>7   </td>\n",
       "        </tr>\n",
       "        <tr>\n",
       "            <td>59   </td> <td>18  </td> <td>4   </td>\n",
       "        </tr>\n",
       "        <tr>\n",
       "            <td>56   </td> <td>17  </td> <td>6   </td>\n",
       "        </tr>\n",
       "        <tr>\n",
       "            <td>69   </td> <td>20  </td> <td>8   </td>\n",
       "        </tr>\n",
       "        <tr>\n",
       "            <td>69   </td> <td>16  </td> <td>8   </td>\n",
       "        </tr>\n",
       "        <tr>\n",
       "            <td>61   </td> <td>17  </td> <td>5   </td>\n",
       "        </tr>\n",
       "    </tbody>\n",
       "</table>\n",
       "<p>... (96 rows omitted)</p>"
      ],
      "text/plain": [
       "N=100 | N=25 | N=10\n",
       "66    | 19   | 9\n",
       "63    | 16   | 6\n",
       "66    | 19   | 4\n",
       "72    | 17   | 3\n",
       "68    | 19   | 7\n",
       "59    | 18   | 4\n",
       "56    | 17   | 6\n",
       "69    | 20   | 8\n",
       "69    | 16   | 8\n",
       "61    | 17   | 5\n",
       "... (96 rows omitted)"
      ]
     },
     "execution_count": 17,
     "metadata": {},
     "output_type": "execute_result"
    }
   ],
   "source": [
    "red_beads = Table.read_table('data/red_beads.csv')\n",
    "red_beads"
   ]
  },
  {
   "cell_type": "code",
   "execution_count": 22,
   "id": "27e55199-3064-4bfb-8aca-a974ef051ce6",
   "metadata": {},
   "outputs": [
    {
     "data": {
      "image/png": "[encoded data removed]",
      "text/plain": [
       "<Figure size 432x288 with 1 Axes>"
      ]
     },
     "metadata": {},
     "output_type": "display_data"
    }
   ],
   "source": [
    "red_beads.hist('N=100', bins=np.arange(50, 90, 3) )"
   ]
  },
  {
   "cell_type": "code",
   "execution_count": 25,
   "id": "baf3182e-3231-43db-b823-fbddadcd2308",
   "metadata": {},
   "outputs": [
    {
     "name": "stdout",
     "output_type": "stream",
     "text": [
      "50% CI: ( 62 , 69 )\n"
     ]
    }
   ],
   "source": [
    "left = percentile(25, red_beads.column('N=100'))\n",
    "right = percentile(75, red_beads.column('N=100'))\n",
    "\n",
    "print(\"50% CI: (\", left, \",\", right,\")\")"
   ]
  },
  {
   "cell_type": "code",
   "execution_count": 29,
   "id": "c5d945ff-30d6-408d-96db-d9822ab1d960",
   "metadata": {},
   "outputs": [
    {
     "data": {
      "text/plain": [
       "0.6433962264150943"
      ]
     },
     "execution_count": 29,
     "metadata": {},
     "output_type": "execute_result"
    }
   ],
   "source": [
    "np.average( red_beads.column('N=10') ) / 10"
   ]
  },
  {
   "cell_type": "code",
   "execution_count": null,
   "id": "4b18557b-0d60-4e30-9be1-171f8074726a",
   "metadata": {},
   "outputs": [],
   "source": [
    "Table().with_column('Bootstrap means', bootstrap_means).hist()\n",
    "plots.plot([left,right], [0,0], color=\"gold\", lw=8, zorder=1);\n",
    "plots.title('Bootstrap Means (1K Bootstraps from our Sample)');"
   ]
  }
 ],
 "metadata": {
  "kernelspec": {
   "display_name": "Python 3 (ipykernel)",
   "language": "python",
   "name": "python3"
  },
  "language_info": {
   "codemirror_mode": {
    "name": "ipython",
    "version": 3
   },
   "file_extension": ".py",
   "mimetype": "text/x-python",
   "name": "python",
   "nbconvert_exporter": "python",
   "pygments_lexer": "ipython3",
   "version": "3.9.6"
  }
 },
 "nbformat": 4,
 "nbformat_minor": 5
}
