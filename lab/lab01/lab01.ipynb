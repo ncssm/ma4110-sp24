{
 "cells": [
  {
   "cell_type": "code",
   "execution_count": null,
   "id": "77d68f40",
   "metadata": {
    "deletable": false,
    "editable": false
   },
   "outputs": [],
   "source": [
    "# Initialize Otter\n",
    "import otter\n",
    "grader = otter.Notebook(\"lab01.ipynb\")"
   ]
  },
  {
   "cell_type": "markdown",
   "id": "emotional-testament",
   "metadata": {
    "papermill": {
     "duration": 0.011631,
     "end_time": "2023-02-03T14:47:46.855152",
     "exception": false,
     "start_time": "2023-02-03T14:47:46.843521",
     "status": "completed"
    },
    "tags": []
   },
   "source": [
    "# Lab 01: Expressions\n",
    "\n",
    "Welcome to MA4110: *Foundations of Data Science*!  Each week you will complete a lab assignment like this one.  You can't learn technical subjects without hands-on practice, so labs are an important part of the course.\n",
    "\n",
    "Collaborating on labs is more than okay -- it's encouraged! You should rarely remain stuck for more than a few minutes on questions in labs, so ask a neighbor or an instructor for help. Explaining things is beneficial, too -- the best way to solidify your knowledge of a subject is to explain it. You should **not** _just_ copy/paste someone else's code, but rather work together to gain understanding of the task you need to complete. \n",
    "\n",
    "## Today's lab\n",
    "\n",
    "In today's lab, you'll learn how to:\n",
    "\n",
    "1. navigate Jupyter notebooks (like this one);\n",
    "2. write and evaluate some basic *expressions* in Python, the computer language of the course;\n",
    "3. call *functions* to use code other people have written; and\n",
    "4. break down Python code into smaller parts to understand it.\n",
    "\n",
    "This lab covers parts of [Chapter 3](http://www.inferentialthinking.com/chapters/03/programming-in-python.html) of the online textbook. You should read the examples in the book, but not right now. Instead, let's get started!"
   ]
  },
  {
   "cell_type": "markdown",
   "id": "attempted-dubai",
   "metadata": {
    "papermill": {
     "duration": 0.011243,
     "end_time": "2023-02-03T14:47:46.877707",
     "exception": false,
     "start_time": "2023-02-03T14:47:46.866464",
     "status": "completed"
    },
    "tags": []
   },
   "source": [
    "# 1. Jupyter notebooks\n",
    "This webpage is called a Jupyter notebook. A notebook is a place to write programs and view their results, and also to write text.\n",
    "\n",
    "## 1.1. Text cells\n",
    "In a notebook, each rectangle containing text or code is called a *cell*.\n",
    "\n",
    "Text cells (like this one) can be edited by double-clicking on them. They're written in a simple format called [Markdown](https://www.markdownguide.org/cheat-sheet/) to add formatting and section headings.  You don't need to learn Markdown, but you might want to.\n",
    "\n",
    "After you edit a text cell, click the \"run cell\" button at the top menu bar that looks like ▶ or pressing `shift` + `return` on your keyboard to run the cell and advance to the next cell. (Try not to delete the instructions of the lab.)"
   ]
  },
  {
   "cell_type": "markdown",
   "id": "enhanced-being",
   "metadata": {
    "deletable": false,
    "editable": false,
    "papermill": {
     "duration": 0.011836,
     "end_time": "2023-02-03T14:47:46.901253",
     "exception": false,
     "start_time": "2023-02-03T14:47:46.889417",
     "status": "completed"
    },
    "tags": []
   },
   "source": [
    "<!-- BEGIN QUESTION -->\n",
    "\n",
    "#### Question 1.1.1."
   ]
  },
  {
   "cell_type": "markdown",
   "id": "d5c7b488-86f7-4721-8f87-dd5d6e5698e3",
   "metadata": {},
   "source": [
    "This paragraph is in its own text cell. Try editing it so that this sentence is the last sentence in the paragraph, and then click the \"run cell\" ▶ button above in the menu bar or press `shift` + `return` on your keyboard. This sentence, for example, should be deleted. So should this one."
   ]
  },
  {
   "cell_type": "markdown",
   "id": "minor-cabinet",
   "metadata": {
    "deletable": false,
    "editable": false,
    "papermill": {
     "duration": 0.014736,
     "end_time": "2023-02-03T14:47:46.930365",
     "exception": false,
     "start_time": "2023-02-03T14:47:46.915629",
     "status": "completed"
    },
    "tags": []
   },
   "source": [
    "<!-- END QUESTION -->\n",
    "\n",
    "## 1.2. Code cells\n",
    "Other cells contain code in the Python 3 language. Running a code cell will execute all of the code it contains.\n",
    "\n",
    "To run the code in a code cell, first click on that cell to activate it.  It'll be highlighted with a little green or blue rectangle.  Next, either press ▶| or hold down `shift` + `return`.\n",
    "\n",
    "Try running this cell:"
   ]
  },
  {
   "cell_type": "code",
   "execution_count": null,
   "id": "living-diana",
   "metadata": {
    "execution": {
     "iopub.execute_input": "2024-01-26T21:12:08.104688Z",
     "iopub.status.busy": "2024-01-26T21:12:08.104445Z",
     "iopub.status.idle": "2024-01-26T21:12:08.111874Z",
     "shell.execute_reply": "2024-01-26T21:12:08.111198Z"
    },
    "papermill": {
     "duration": 0.02836,
     "end_time": "2023-02-03T14:47:46.973826",
     "exception": false,
     "start_time": "2023-02-03T14:47:46.945466",
     "status": "completed"
    },
    "tags": []
   },
   "outputs": [],
   "source": [
    "print(\"Hello, World!\")"
   ]
  },
  {
   "cell_type": "markdown",
   "id": "weekly-sally",
   "metadata": {
    "papermill": {
     "duration": 0.012,
     "end_time": "2023-02-03T14:47:46.998283",
     "exception": false,
     "start_time": "2023-02-03T14:47:46.986283",
     "status": "completed"
    },
    "tags": []
   },
   "source": [
    "And this one:"
   ]
  },
  {
   "cell_type": "code",
   "execution_count": null,
   "id": "matched-history",
   "metadata": {
    "execution": {
     "iopub.execute_input": "2024-01-26T21:12:08.115318Z",
     "iopub.status.busy": "2024-01-26T21:12:08.114650Z",
     "iopub.status.idle": "2024-01-26T21:12:08.118670Z",
     "shell.execute_reply": "2024-01-26T21:12:08.118028Z"
    },
    "papermill": {
     "duration": 0.034003,
     "end_time": "2023-02-03T14:47:47.044421",
     "exception": false,
     "start_time": "2023-02-03T14:47:47.010418",
     "status": "completed"
    },
    "tags": []
   },
   "outputs": [],
   "source": [
    "print(\"\\N{WAVING HAND SIGN}, \\N{EARTH GLOBE ASIA-AUSTRALIA}!\")"
   ]
  },
  {
   "cell_type": "markdown",
   "id": "gross-bahrain",
   "metadata": {
    "deletable": false,
    "editable": false,
    "papermill": {
     "duration": 0.01127,
     "end_time": "2023-02-03T14:47:47.123767",
     "exception": false,
     "start_time": "2023-02-03T14:47:47.112497",
     "status": "completed"
    },
    "tags": []
   },
   "source": [
    "<!-- BEGIN QUESTION -->\n",
    "\n",
    "#### Question 1.2.1.\n",
    "The fundamental building block of Python code is an expression. Cells can contain multiple lines with multiple expressions. When you run a cell, the lines of code are executed in the order in which they appear. Every `print` expression prints a line.\n",
    "\n",
    "Change the code cell below so that it prints out:\n",
    "\n",
    "    First this line,\n",
    "    then the whole 🌏,\n",
    "    and then this one.\n",
    "\n",
    "*Hint:* If you're stuck on the Earth symbol for more than a few minutes, try talking to a neighbor or a staff member. That's a good idea for any lab problem."
   ]
  },
  {
   "cell_type": "code",
   "execution_count": null,
   "id": "funded-review",
   "metadata": {
    "colab": {
     "base_uri": "https://localhost:8080/",
     "height": 52
    },
    "colab_type": "code",
    "execution": {
     "iopub.execute_input": "2024-01-26T21:12:08.121966Z",
     "iopub.status.busy": "2024-01-26T21:12:08.121440Z",
     "iopub.status.idle": "2024-01-26T21:12:08.125393Z",
     "shell.execute_reply": "2024-01-26T21:12:08.124735Z"
    },
    "id": "O61iJwP-laL9",
    "outputId": "3b810e91-964e-4a4f-e59a-ba9089fa3e18",
    "papermill": {
     "duration": 0.02082,
     "end_time": "2023-02-03T14:47:47.100432",
     "exception": false,
     "start_time": "2023-02-03T14:47:47.079612",
     "status": "completed"
    },
    "tags": []
   },
   "outputs": [],
   "source": [
    "print('This is line one')\n",
    "print('and this is line two.')"
   ]
  },
  {
   "cell_type": "markdown",
   "id": "decimal-marshall",
   "metadata": {
    "deletable": false,
    "editable": false,
    "papermill": {
     "duration": 0.012386,
     "end_time": "2023-02-03T14:47:47.154312",
     "exception": false,
     "start_time": "2023-02-03T14:47:47.141926",
     "status": "completed"
    },
    "tags": []
   },
   "source": [
    "<!-- END QUESTION -->\n",
    "\n",
    "## 1.3. Writing Jupyter notebooks\n",
    "You can use Jupyter notebooks for your own projects or documents.  When you make your own notebook, you'll need to create your own cells for text and code.\n",
    "\n",
    "To add a cell, click the + button in the menu bar.  It'll start out as a code cell.  You can change it to a text cell by clicking inside it so it's highlighted, clicking the drop-down box next to the restart (⟳) button in the menu bar, and choosing \"Markdown\"."
   ]
  },
  {
   "cell_type": "markdown",
   "id": "objective-birth",
   "metadata": {
    "papermill": {
     "duration": 0.013786,
     "end_time": "2023-02-03T14:47:47.179653",
     "exception": false,
     "start_time": "2023-02-03T14:47:47.165867",
     "status": "completed"
    },
    "tags": []
   },
   "source": [
    "#### Question 1.3.1.\n",
    "Add a code cell below this one.  Write code in it that prints out:\n",
    "   \n",
    "    A whole new cell! ♪🌏♪\n",
    "\n",
    "(That musical note symbol is like the Earth symbol.  Its long-form name is `\\N{EIGHTH NOTE}`.)\n",
    "\n",
    "Run your cell to verify that it works."
   ]
  },
  {
   "cell_type": "markdown",
   "id": "entertaining-eligibility",
   "metadata": {
    "papermill": {
     "duration": 0.011193,
     "end_time": "2023-02-03T14:47:47.202117",
     "exception": false,
     "start_time": "2023-02-03T14:47:47.190924",
     "status": "completed"
    },
    "tags": []
   },
   "source": [
    "## 1.4. Errors\n",
    "Python is a language, and like natural human languages, it has rules.  It differs from natural language in two important ways:\n",
    "1. The rules are *simple*.  You can learn most of them in a few weeks and gain reasonable proficiency with the language in a semester.\n",
    "2. The rules are *rigid*.  If you're proficient in a natural language, you can understand a non-proficient speaker, glossing over small mistakes.  A computer running Python code is not smart enough to do that.\n",
    "\n",
    "Whenever you write code, you'll make mistakes.  When you run a code cell that has errors, Python will sometimes produce error messages to tell you what you did wrong.\n",
    "\n",
    "Errors are okay; even experienced programmers make many errors.  When you make an error, you just have to find the source of the problem, fix it, and move on.\n",
    "\n",
    "In the cell below, delete the last character, `)`, and then run the cell to see an error message."
   ]
  },
  {
   "cell_type": "code",
   "execution_count": null,
   "id": "israeli-infection",
   "metadata": {
    "execution": {
     "iopub.execute_input": "2024-01-26T21:12:08.128259Z",
     "iopub.status.busy": "2024-01-26T21:12:08.128032Z",
     "iopub.status.idle": "2024-01-26T21:12:08.131532Z",
     "shell.execute_reply": "2024-01-26T21:12:08.130946Z"
    },
    "papermill": {
     "duration": 0.020678,
     "end_time": "2023-02-03T14:47:47.234009",
     "exception": true,
     "start_time": "2023-02-03T14:47:47.213331",
     "status": "failed"
    },
    "tags": []
   },
   "outputs": [],
   "source": [
    "print(\"This line is missing something.\")"
   ]
  },
  {
   "cell_type": "markdown",
   "id": "purple-express",
   "metadata": {
    "papermill": {
     "duration": null,
     "end_time": null,
     "exception": null,
     "start_time": null,
     "status": "pending"
    },
    "tags": []
   },
   "source": [
    "You should see something like this (minus our annotations):\n",
    "\n",
    "<img src=\"error.jpg\" />\n",
    "\n",
    "The last line of the error output attempts to tell you what went wrong.  The *syntax* of a language is its structure, and this `SyntaxError` tells you that you have created an illegal structure.  \"`EOF`\" means \"end of file,\" so the message is saying Python expected you to write something more (in this case, a right parenthesis) before finishing the cell.\n",
    "\n",
    "There's a lot of terminology in programming languages, but you don't need to know it all in order to program effectively. If you see a cryptic message like this, you can often get by without deciphering it.  (Of course, if you're frustrated, ask a neighbor or a staff member for help.)\n",
    "\n",
    "\n",
    "#### Question 1.4.1\n",
    "Fix the code above so that you can run the cell without receiving an error message."
   ]
  },
  {
   "cell_type": "markdown",
   "id": "retired-demonstration",
   "metadata": {
    "papermill": {
     "duration": null,
     "end_time": null,
     "exception": null,
     "start_time": null,
     "status": "pending"
    },
    "tags": []
   },
   "source": [
    "## 1.5. The Kernel\n",
    "The kernel is a program that executes the code inside your notebook and outputs the results. In the top right of your window, you can see a circle that indicates the status of your kernel. If the circle is empty (⚪), the kernel is idle and ready to execute code. If the circle is filled in (⚫), the kernel is busy running some code. \n",
    "\n",
    "Next to every code cell, you'll see some square brackets that look like: `[ ]`. Before you run the cell, you'll see `[ ]`. When the cell is running, you'll see `[*]`. If you see an asterisk (\\*) next to a cell that doesn't go away, it's likely that the code inside the cell is taking too long to run, and it might be a good time to interrupt the kernel (discussed below). When a cell is finished running, you'll see a number inside the brackets, like so: `[1]`. The number corresponds to the order in which you run the cells; so, the first cell you run will show a 1 when it's finished running, the second will show a 2, and so on. \n",
    "\n",
    "You may run into problems where your kernel is stuck for an excessive amount of time, your notebook is very slow and unresponsive, or your kernel loses its connection. If this happens, try the following steps:\n",
    "1. At the top of your screen, click **Kernel**, then **Interrupt**. You can also click the ⬛ button in the menu bar. Then, double check your code and try running the cell again.\n",
    "2. If that doesn't help, click **Kernel**, then **Restart**. If you do this, you will have to run your code cells from the start of your notebook up until where you paused your work.\n",
    "3. If that doesn't help, restart your server. This is very rarely needed, but it's good to know how to do just in case! First, save your work by clicking **File** at the top left of your screen, then **Save**. Next, click **File** again and choose **Hub Control Panel** and select **Stop my Server** to shut it down. Then, after a few moments select **Start My Server** to start it back up. Then, navigate back to the notebook you were working on. You'll still have to run your code cells again."
   ]
  },
  {
   "cell_type": "markdown",
   "id": "considerable-herald",
   "metadata": {
    "papermill": {
     "duration": null,
     "end_time": null,
     "exception": null,
     "start_time": null,
     "status": "pending"
    },
    "tags": []
   },
   "source": [
    "# 2. Numbers\n",
    "\n",
    "Quantitative information arises everywhere in data science. In addition to representing commands to print out lines, expressions can represent numbers and methods of combining numbers. The expression `3.2500` evaluates to the number 3.25. (Run the cell and see.)"
   ]
  },
  {
   "cell_type": "code",
   "execution_count": null,
   "id": "gothic-current",
   "metadata": {
    "execution": {
     "iopub.execute_input": "2024-01-26T21:12:08.134285Z",
     "iopub.status.busy": "2024-01-26T21:12:08.134054Z",
     "iopub.status.idle": "2024-01-26T21:12:08.140050Z",
     "shell.execute_reply": "2024-01-26T21:12:08.139510Z"
    },
    "papermill": {
     "duration": null,
     "end_time": null,
     "exception": null,
     "start_time": null,
     "status": "pending"
    },
    "tags": []
   },
   "outputs": [],
   "source": [
    "3.2500"
   ]
  },
  {
   "cell_type": "markdown",
   "id": "acquired-panel",
   "metadata": {
    "papermill": {
     "duration": null,
     "end_time": null,
     "exception": null,
     "start_time": null,
     "status": "pending"
    },
    "tags": []
   },
   "source": [
    "Notice that we didn't have to use the `print` function in the code cell above. When you run a notebook cell, if the last line has a value, then Jupyter helpfully prints out that value for you automatically. However, it won't print out values generated in the other, earlier lines of code unless you specifically ask the computer to do so using the `print` command."
   ]
  },
  {
   "cell_type": "code",
   "execution_count": null,
   "id": "thrown-wheat",
   "metadata": {
    "execution": {
     "iopub.execute_input": "2024-01-26T21:12:08.142990Z",
     "iopub.status.busy": "2024-01-26T21:12:08.142561Z",
     "iopub.status.idle": "2024-01-26T21:12:08.147064Z",
     "shell.execute_reply": "2024-01-26T21:12:08.146483Z"
    },
    "papermill": {
     "duration": null,
     "end_time": null,
     "exception": null,
     "start_time": null,
     "status": "pending"
    },
    "tags": []
   },
   "outputs": [],
   "source": [
    "print(2)\n",
    "3\n",
    "4"
   ]
  },
  {
   "cell_type": "markdown",
   "id": "latter-dividend",
   "metadata": {
    "papermill": {
     "duration": null,
     "end_time": null,
     "exception": null,
     "start_time": null,
     "status": "pending"
    },
    "tags": []
   },
   "source": [
    "Above, you should see that 4 is the value of the last expression and is printed to the screen.  2 is printed because the code used the `print` command. 3 is non shown when the code cell is run because it was neither printed nor was it on the last line of code in the cell.\n",
    "\n",
    "When writing large blocks of code, you don't normally want every command printed to the screen, especially if there are thousands of values generated. Use the `print` command to only print values that you think would be helpful to see while the code is running."
   ]
  },
  {
   "cell_type": "markdown",
   "id": "handed-photography",
   "metadata": {
    "papermill": {
     "duration": null,
     "end_time": null,
     "exception": null,
     "start_time": null,
     "status": "pending"
    },
    "tags": []
   },
   "source": [
    "## 2.1. Arithmetic\n",
    "The line in the next cell subtracts.  Its value is what you'd expect.  Run it."
   ]
  },
  {
   "cell_type": "code",
   "execution_count": null,
   "id": "analyzed-accommodation",
   "metadata": {
    "execution": {
     "iopub.execute_input": "2024-01-26T21:12:08.150157Z",
     "iopub.status.busy": "2024-01-26T21:12:08.149604Z",
     "iopub.status.idle": "2024-01-26T21:12:08.153812Z",
     "shell.execute_reply": "2024-01-26T21:12:08.153261Z"
    },
    "papermill": {
     "duration": null,
     "end_time": null,
     "exception": null,
     "start_time": null,
     "status": "pending"
    },
    "tags": []
   },
   "outputs": [],
   "source": [
    "3.25 - 1.5"
   ]
  },
  {
   "cell_type": "markdown",
   "id": "coral-bradley",
   "metadata": {
    "papermill": {
     "duration": null,
     "end_time": null,
     "exception": null,
     "start_time": null,
     "status": "pending"
    },
    "tags": []
   },
   "source": [
    "Many basic arithmetic operations are built into Python.  The textbook section on [Expressions](http://www.inferentialthinking.com/chapters/03/1/expressions.html) describes all the arithmetic operators used in the course.  The common operator that differs from typical math notation is `**`, which raises one number to the power of the other. So, `2**3` stands for $2^3$ and evaluates to 8. \n",
    "\n",
    "The order of operations is the same as what you learned in elementary school, and Python also has parentheses.  For example, compare the outputs of the cells below. The second cell uses parentheses for a happy new year!"
   ]
  },
  {
   "cell_type": "code",
   "execution_count": null,
   "id": "weighted-employer",
   "metadata": {
    "execution": {
     "iopub.execute_input": "2024-01-26T21:12:08.156433Z",
     "iopub.status.busy": "2024-01-26T21:12:08.156207Z",
     "iopub.status.idle": "2024-01-26T21:12:08.160288Z",
     "shell.execute_reply": "2024-01-26T21:12:08.159747Z"
    },
    "papermill": {
     "duration": null,
     "end_time": null,
     "exception": null,
     "start_time": null,
     "status": "pending"
    },
    "tags": []
   },
   "outputs": [],
   "source": [
    "7+6*5-6*3**2*2**3/4*7"
   ]
  },
  {
   "cell_type": "code",
   "execution_count": null,
   "id": "bridal-mentor",
   "metadata": {
    "execution": {
     "iopub.execute_input": "2024-01-26T21:12:08.162738Z",
     "iopub.status.busy": "2024-01-26T21:12:08.162533Z",
     "iopub.status.idle": "2024-01-26T21:12:08.166666Z",
     "shell.execute_reply": "2024-01-26T21:12:08.166134Z"
    },
    "papermill": {
     "duration": null,
     "end_time": null,
     "exception": null,
     "start_time": null,
     "status": "pending"
    },
    "tags": []
   },
   "outputs": [],
   "source": [
    "7+(6*5-(6*3))**2*((2**3)/4*7)"
   ]
  },
  {
   "cell_type": "markdown",
   "id": "rolled-surge",
   "metadata": {
    "papermill": {
     "duration": null,
     "end_time": null,
     "exception": null,
     "start_time": null,
     "status": "pending"
    },
    "tags": []
   },
   "source": [
    "In standard math notation, the first expression is\n",
    "\n",
    "$$7 + 6 \\times 5 - 6 \\times 3^2 \\times \\frac{2^3}{4} \\times 7,$$\n",
    "\n",
    "while the second expression is\n",
    "\n",
    "$$7 + (6 \\times 5 - \\left(6 \\times 3)\\right)^2 \\times \\left(\\frac{(2^3)}{4} \\times 7\\right).$$"
   ]
  },
  {
   "cell_type": "markdown",
   "id": "identical-webster",
   "metadata": {
    "deletable": false,
    "editable": false,
    "papermill": {
     "duration": null,
     "end_time": null,
     "exception": null,
     "start_time": null,
     "status": "pending"
    },
    "tags": []
   },
   "source": [
    "<!-- BEGIN QUESTION -->\n",
    "\n",
    "#### Question 2.1.1.\n",
    "Write a Python expression in this next cell that's equal to $5 \\times (3 \\frac{10}{11}) - 50 \\frac{1}{3} + 2^{.5 \\times 22} - \\frac{7}{33} + 6$.  That's five times three and ten elevenths, minus fifty and a third, plus two to the power of half twenty-two, minus seven thirty-thirds plus three.  By \"$3 \\frac{10}{11}$\" we mean $3+\\frac{10}{11}$, not $3 \\times \\frac{10}{11}$.\n",
    "\n",
    "Replace the ellipses (`...`) with your expression.  Try to use parentheses only when necessary.\n",
    "\n",
    "*Hint:* The correct output should be a familiar number."
   ]
  },
  {
   "cell_type": "code",
   "execution_count": null,
   "id": "competitive-syndrome",
   "metadata": {
    "execution": {
     "iopub.execute_input": "2024-01-26T21:12:08.169330Z",
     "iopub.status.busy": "2024-01-26T21:12:08.169112Z",
     "iopub.status.idle": "2024-01-26T21:12:08.174249Z",
     "shell.execute_reply": "2024-01-26T21:12:08.173520Z"
    },
    "papermill": {
     "duration": null,
     "end_time": null,
     "exception": null,
     "start_time": null,
     "status": "pending"
    },
    "tags": []
   },
   "outputs": [],
   "source": [
    "..."
   ]
  },
  {
   "cell_type": "markdown",
   "id": "royal-negative",
   "metadata": {
    "deletable": false,
    "editable": false,
    "papermill": {
     "duration": null,
     "end_time": null,
     "exception": null,
     "start_time": null,
     "status": "pending"
    },
    "tags": []
   },
   "source": [
    "<!-- END QUESTION -->\n",
    "\n",
    "# 3. Names\n",
    "In natural language, we have terminology that lets us quickly reference very complicated concepts.  We don't say, \"That's a large mammal with brown fur and sharp teeth!\"  Instead, we just say, \"Bear!\"\n",
    "\n",
    "In Python, we do this with *assignment statements*. An assignment statement has a name on the left side of an `=` sign and an expression to be evaluated on the right."
   ]
  },
  {
   "cell_type": "code",
   "execution_count": null,
   "id": "olive-tutorial",
   "metadata": {
    "execution": {
     "iopub.execute_input": "2024-01-26T21:12:08.177371Z",
     "iopub.status.busy": "2024-01-26T21:12:08.176911Z",
     "iopub.status.idle": "2024-01-26T21:12:08.180492Z",
     "shell.execute_reply": "2024-01-26T21:12:08.179842Z"
    },
    "papermill": {
     "duration": null,
     "end_time": null,
     "exception": null,
     "start_time": null,
     "status": "pending"
    },
    "tags": []
   },
   "outputs": [],
   "source": [
    "ten = 3 * 2 + 4"
   ]
  },
  {
   "cell_type": "markdown",
   "id": "female-rough",
   "metadata": {
    "papermill": {
     "duration": null,
     "end_time": null,
     "exception": null,
     "start_time": null,
     "status": "pending"
    },
    "tags": []
   },
   "source": [
    "When you run that cell, Python first computes the value of the expression on the right-hand side, `3 * 2 + 4`, which is the number 10.  Then it assigns that value to the name `ten`.  At that point, the code in the cell is done running.\n",
    "\n",
    "After you run that cell, the value 10 is bound to the name `ten`:"
   ]
  },
  {
   "cell_type": "code",
   "execution_count": null,
   "id": "weekly-guitar",
   "metadata": {
    "execution": {
     "iopub.execute_input": "2024-01-26T21:12:08.183143Z",
     "iopub.status.busy": "2024-01-26T21:12:08.182914Z",
     "iopub.status.idle": "2024-01-26T21:12:08.187422Z",
     "shell.execute_reply": "2024-01-26T21:12:08.186612Z"
    },
    "papermill": {
     "duration": null,
     "end_time": null,
     "exception": null,
     "start_time": null,
     "status": "pending"
    },
    "tags": []
   },
   "outputs": [],
   "source": [
    "ten"
   ]
  },
  {
   "cell_type": "markdown",
   "id": "sporting-allah",
   "metadata": {
    "papermill": {
     "duration": null,
     "end_time": null,
     "exception": null,
     "start_time": null,
     "status": "pending"
    },
    "tags": []
   },
   "source": [
    "The statement `ten = 3 * 2 + 4` is not asserting that `ten` is already equal to `3 * 2 + 4`, as we might expect by analogy with math notation.  Rather, that line of code changes what `ten` means; it now refers to the value 10, whereas before it meant nothing at all.\n",
    "\n",
    "If the designers of Python had been ruthlessly pedantic, they might have made us write\n",
    "\n",
    "    define the name ten to hereafter have the value of 3 * 2 + 4 \n",
    "\n",
    "instead.  You will probably appreciate the brevity of \"`=`\"!  But keep in mind that this is the real meaning."
   ]
  },
  {
   "cell_type": "markdown",
   "id": "increasing-difficulty",
   "metadata": {
    "deletable": false,
    "editable": false,
    "papermill": {
     "duration": null,
     "end_time": null,
     "exception": null,
     "start_time": null,
     "status": "pending"
    },
    "tags": []
   },
   "source": [
    "<!-- BEGIN QUESTION -->\n",
    "\n",
    "#### Question 3.0.1.\n",
    "Run the following cell which uses a variable name `eleven` that hasn't been assigned to anything. You'll see an error! Correct the code in the cell below so when it is run it does not generate an error message."
   ]
  },
  {
   "cell_type": "code",
   "execution_count": null,
   "id": "82d33fac-b77e-4f54-a619-cab61133a5a3",
   "metadata": {
    "execution": {
     "iopub.execute_input": "2024-01-26T21:12:08.190203Z",
     "iopub.status.busy": "2024-01-26T21:12:08.189986Z",
     "iopub.status.idle": "2024-01-26T21:12:08.194573Z",
     "shell.execute_reply": "2024-01-26T21:12:08.193757Z"
    },
    "tags": []
   },
   "outputs": [],
   "source": [
    "eleven + 8"
   ]
  },
  {
   "cell_type": "markdown",
   "id": "continent-benefit",
   "metadata": {
    "deletable": false,
    "editable": false,
    "papermill": {
     "duration": null,
     "end_time": null,
     "exception": null,
     "start_time": null,
     "status": "pending"
    },
    "tags": []
   },
   "source": [
    "<!-- END QUESTION -->\n",
    "\n",
    "A common pattern in Jupyter notebooks is to assign a value to a name and then immediately evaluate the name in the last line in the cell so that the value is displayed as output. "
   ]
  },
  {
   "cell_type": "code",
   "execution_count": null,
   "id": "gorgeous-covering",
   "metadata": {
    "execution": {
     "iopub.execute_input": "2024-01-26T21:12:08.197356Z",
     "iopub.status.busy": "2024-01-26T21:12:08.197136Z",
     "iopub.status.idle": "2024-01-26T21:12:08.201770Z",
     "shell.execute_reply": "2024-01-26T21:12:08.200963Z"
    },
    "papermill": {
     "duration": null,
     "end_time": null,
     "exception": null,
     "start_time": null,
     "status": "pending"
    },
    "tags": []
   },
   "outputs": [],
   "source": [
    "close_to_pi = 355/113\n",
    "close_to_pi"
   ]
  },
  {
   "cell_type": "markdown",
   "id": "enclosed-shelf",
   "metadata": {
    "papermill": {
     "duration": null,
     "end_time": null,
     "exception": null,
     "start_time": null,
     "status": "pending"
    },
    "tags": []
   },
   "source": [
    "Another common pattern is that a series of lines in a single cell will build up a complex computation in stages, naming the intermediate results."
   ]
  },
  {
   "cell_type": "code",
   "execution_count": null,
   "id": "cultural-auction",
   "metadata": {
    "execution": {
     "iopub.execute_input": "2024-01-26T21:12:08.205026Z",
     "iopub.status.busy": "2024-01-26T21:12:08.204484Z",
     "iopub.status.idle": "2024-01-26T21:12:08.209460Z",
     "shell.execute_reply": "2024-01-26T21:12:08.208682Z"
    },
    "papermill": {
     "duration": null,
     "end_time": null,
     "exception": null,
     "start_time": null,
     "status": "pending"
    },
    "tags": []
   },
   "outputs": [],
   "source": [
    "semimonthly_salary = 842.5\n",
    "monthly_salary = 2 * semimonthly_salary\n",
    "number_of_months_in_a_year = 12\n",
    "yearly_salary = number_of_months_in_a_year * monthly_salary\n",
    "yearly_salary"
   ]
  },
  {
   "cell_type": "markdown",
   "id": "imposed-receiver",
   "metadata": {
    "papermill": {
     "duration": null,
     "end_time": null,
     "exception": null,
     "start_time": null,
     "status": "pending"
    },
    "tags": []
   },
   "source": [
    "Names in Python can have letters (upper- and lower-case letters are both okay and count as different letters), underscores, and numbers.  The first character can't be a number (otherwise a name might look like a number).  And names can't contain spaces, since spaces are used to separate pieces of code from each other.\n",
    "\n",
    "Other than those rules, what you name something doesn't matter *to Python*.  For example, this cell does the same thing as the above cell, except everything has a different name:"
   ]
  },
  {
   "cell_type": "code",
   "execution_count": null,
   "id": "animated-fossil",
   "metadata": {
    "execution": {
     "iopub.execute_input": "2024-01-26T21:12:08.212257Z",
     "iopub.status.busy": "2024-01-26T21:12:08.211967Z",
     "iopub.status.idle": "2024-01-26T21:12:08.216784Z",
     "shell.execute_reply": "2024-01-26T21:12:08.216016Z"
    },
    "papermill": {
     "duration": null,
     "end_time": null,
     "exception": null,
     "start_time": null,
     "status": "pending"
    },
    "tags": []
   },
   "outputs": [],
   "source": [
    "a = 842.5\n",
    "b = 2 * a\n",
    "c = 12\n",
    "d = c * b\n",
    "d"
   ]
  },
  {
   "cell_type": "markdown",
   "id": "engaged-favor",
   "metadata": {
    "papermill": {
     "duration": null,
     "end_time": null,
     "exception": null,
     "start_time": null,
     "status": "pending"
    },
    "tags": []
   },
   "source": [
    "**However**, names are very important for making your code *readable* to yourself and others.  The cell above is shorter, but it's totally useless without an explanation of what it does."
   ]
  },
  {
   "cell_type": "markdown",
   "id": "accomplished-arrangement",
   "metadata": {
    "papermill": {
     "duration": null,
     "end_time": null,
     "exception": null,
     "start_time": null,
     "status": "pending"
    },
    "tags": []
   },
   "source": [
    "## 3.1. Checking your code\n",
    "Now that you know how to name things, you can start using the built-in *tests* to check whether your work is correct. Sometimes, there are multiple tests for a single question, and passing all of them is required to receive credit for the question. A test cell will always look like:\n",
    "\n",
    "```\n",
    "grader.check(\"q1_2_1\")\n",
    "```\n",
    "\n",
    "Go ahead and attempt Question 3.1.1. Running the test cell directly after it will test whether you have assigned `seconds_in_a_decade` correctly in Question 3.1.1. If you haven't, this particular test will tell you the correct answer. Resist the urge to just copy it, and instead try to adjust your expression. Additionally, if you make a common error sometimes the tests will give hints about what went wrong."
   ]
  },
  {
   "cell_type": "markdown",
   "id": "filled-sewing",
   "metadata": {
    "deletable": false,
    "editable": false,
    "papermill": {
     "duration": null,
     "end_time": null,
     "exception": null,
     "start_time": null,
     "status": "pending"
    },
    "tags": []
   },
   "source": [
    "#### Question 3.1.1.\n",
    "Assign the name `seconds_in_a_decade` to the number of seconds between midnight January 1, 2010 and midnight January 1, 2020. Note that there are two leap years in this span of a decade. A non-leap year has 365 days and a leap year has 366 days."
   ]
  },
  {
   "cell_type": "markdown",
   "id": "cd06c914-46a1-422c-86cc-d449069883ff",
   "metadata": {
    "deletable": false,
    "editable": false
   },
   "source": [
    "If you run the test cell below, and receive the error:\n",
    "\n",
    "`NameError: name 'grader' is not defined`\n",
    "\n",
    "That means you didn't run the very first code cell in this notebook! Scroll back up to the top of your notebook, run the very first cell, and then try running the test cell again."
   ]
  },
  {
   "cell_type": "code",
   "execution_count": null,
   "id": "former-diary",
   "metadata": {
    "execution": {
     "iopub.execute_input": "2024-01-26T21:12:08.219510Z",
     "iopub.status.busy": "2024-01-26T21:12:08.219291Z",
     "iopub.status.idle": "2024-01-26T21:12:08.224262Z",
     "shell.execute_reply": "2024-01-26T21:12:08.223479Z"
    },
    "papermill": {
     "duration": null,
     "end_time": null,
     "exception": null,
     "start_time": null,
     "status": "pending"
    },
    "tags": []
   },
   "outputs": [],
   "source": [
    "seconds_in_a_decade = ...\n",
    "\n",
    "# We've put this line in this cell  so that it will print the value you've given \n",
    "# to seconds_in_a_decade when you run it. You don't need to change this.\n",
    "seconds_in_a_decade"
   ]
  },
  {
   "cell_type": "code",
   "execution_count": null,
   "id": "9ea65ee3",
   "metadata": {
    "deletable": false,
    "editable": false
   },
   "outputs": [],
   "source": [
    "grader.check(\"q3_1_1\")"
   ]
  },
  {
   "cell_type": "markdown",
   "id": "collaborative-handling",
   "metadata": {
    "papermill": {
     "duration": null,
     "end_time": null,
     "exception": null,
     "start_time": null,
     "status": "pending"
    },
    "tags": []
   },
   "source": [
    "# 3.2. Comments\n",
    "You may have noticed these lines in the cell in which you answered Question 3.2:\n",
    "\n",
    "    # We've put this line in this cell  so that it will print the value you've given \n",
    "    # to seconds_in_a_decade when you run it. You don't need to change this.\n",
    "    \n",
    "This is called a *comment*. It doesn't make anything happen in Python; Python ignores anything on a line after a `#`.  Instead, it's there to communicate something about the code to you, the human reader. Comments are extremely useful. \n",
    "\n",
    "\n",
    "<img src=\"http://imgs.xkcd.com/comics/future_self.png\">\n",
    "\n",
    "Source: [XKCD](http://imgs.xkcd.com/comics/future_self.png)"
   ]
  },
  {
   "cell_type": "markdown",
   "id": "distant-sixth",
   "metadata": {
    "papermill": {
     "duration": null,
     "end_time": null,
     "exception": null,
     "start_time": null,
     "status": "pending"
    },
    "tags": []
   },
   "source": [
    "## 3.3. Application: A physics experiment\n",
    "\n",
    "On the Apollo 15 mission to the Moon, astronaut David Scott famously replicated Galileo's physics experiment in which he showed that gravity accelerates objects of different mass at the same rate. Because there is no air resistance for a falling object on the surface of the Moon, even two objects with very different masses and densities should fall at the same rate. David Scott compared a feather and a hammer.\n",
    "\n",
    "You can run the following cell to watch a video of the experiment."
   ]
  },
  {
   "cell_type": "code",
   "execution_count": null,
   "id": "exterior-touch",
   "metadata": {
    "execution": {
     "iopub.execute_input": "2024-01-26T21:12:08.284554Z",
     "iopub.status.busy": "2024-01-26T21:12:08.284333Z",
     "iopub.status.idle": "2024-01-26T21:12:08.342582Z",
     "shell.execute_reply": "2024-01-26T21:12:08.341693Z"
    },
    "papermill": {
     "duration": null,
     "end_time": null,
     "exception": null,
     "start_time": null,
     "status": "pending"
    },
    "tags": []
   },
   "outputs": [],
   "source": [
    "from IPython.display import YouTubeVideo\n",
    "# The original URL is: \n",
    "# https://www.youtube.com/watch?v=U7db6ZeLR5s\n",
    "\n",
    "YouTubeVideo(\"U7db6ZeLR5s\")"
   ]
  },
  {
   "cell_type": "markdown",
   "id": "caring-confidence",
   "metadata": {
    "papermill": {
     "duration": null,
     "end_time": null,
     "exception": null,
     "start_time": null,
     "status": "pending"
    },
    "tags": []
   },
   "source": [
    "Here's the transcript of the video:\n",
    "\n",
    "**167:22:06 Scott**: Well, in my left hand, I have a feather; in my right hand, a hammer. And I guess one of the reasons we got here today was because of a gentleman named Galileo, a long time ago, who made a rather significant discovery about falling objects in gravity fields. And we thought where would be a better place to confirm his findings than on the Moon. And so we thought we'd try it here for you. The feather happens to be, appropriately, a falcon feather for our Falcon. And I'll drop the two of them here and, hopefully, they'll hit the ground at the same time. \n",
    "\n",
    "**167:22:43 Scott**: How about that!\n",
    "\n",
    "**167:22:45 Allen**: How about that! (Applause in Houston)\n",
    "\n",
    "**167:22:46 Scott**: Which proves that Mr. Galileo was correct in his findings."
   ]
  },
  {
   "cell_type": "markdown",
   "id": "civilian-knight",
   "metadata": {
    "papermill": {
     "duration": null,
     "end_time": null,
     "exception": null,
     "start_time": null,
     "status": "pending"
    },
    "tags": []
   },
   "source": [
    "**Newton's Law.** Using this footage, we can also attempt to confirm another famous bit of physics: Newton's law of universal gravitation. Newton's laws predict that any object dropped near the surface of the Moon should fall\n",
    "\n",
    "$$\\frac{1}{2} G \\frac{M}{R^2} t^2 \\text{ meters}$$\n",
    "\n",
    "after $t$ seconds, where $G$ is a universal constant, $M$ is the moon's mass in kilograms, and $R$ is the moon's radius in meters.  So if we know $G$, $M$, and $R$, then Newton's laws let us predict how far an object will fall over any amount of time.\n",
    "\n",
    "To verify the accuracy of this law, we will calculate the difference between the predicted distance the hammer drops and the actual distance.  (If they are different, it might be because Newton's laws are wrong, or because our measurements are imprecise, or because there are other factors affecting the hammer for which we haven't accounted.)"
   ]
  },
  {
   "cell_type": "markdown",
   "id": "musical-stick",
   "metadata": {
    "deletable": false,
    "editable": false,
    "papermill": {
     "duration": null,
     "end_time": null,
     "exception": null,
     "start_time": null,
     "status": "pending"
    },
    "tags": []
   },
   "source": [
    "#### Question 3.3.1.\n",
    "Someone studied the video and estimated that the hammer was dropped 113 cm from the surface. Counting frames in the video, the hammer falls for 1.2 seconds (36 frames). Complete the code in the next cell to fill in the data from the experiment.\n",
    "\n",
    "*Hint:* No computation required; just fill in data from the paragraph above."
   ]
  },
  {
   "cell_type": "code",
   "execution_count": null,
   "id": "electrical-layout",
   "metadata": {
    "execution": {
     "iopub.execute_input": "2024-01-26T21:12:08.345743Z",
     "iopub.status.busy": "2024-01-26T21:12:08.345506Z",
     "iopub.status.idle": "2024-01-26T21:12:08.349029Z",
     "shell.execute_reply": "2024-01-26T21:12:08.348353Z"
    },
    "papermill": {
     "duration": null,
     "end_time": null,
     "exception": null,
     "start_time": null,
     "status": "pending"
    },
    "tags": []
   },
   "outputs": [],
   "source": [
    "# Fill in the time, measured in seconds\n",
    "time = ...\n",
    "\n",
    "# Fill in the estimated distance the hammer fell, in meters.\n",
    "estimated_distance_m = ..."
   ]
  },
  {
   "cell_type": "code",
   "execution_count": null,
   "id": "26ca1f4c",
   "metadata": {
    "deletable": false,
    "editable": false
   },
   "outputs": [],
   "source": [
    "grader.check(\"q3_3_1\")"
   ]
  },
  {
   "cell_type": "markdown",
   "id": "stupid-semiconductor",
   "metadata": {
    "deletable": false,
    "editable": false,
    "papermill": {
     "duration": null,
     "end_time": null,
     "exception": null,
     "start_time": null,
     "status": "pending"
    },
    "tags": []
   },
   "source": [
    "#### Question 3.3.2.\n",
    "Now, complete the code in the next cell to compute the difference between the predicted and estimated distances (in meters) that the hammer fell in this experiment.\n",
    "\n",
    "This just means translating the formula above ($\\frac{1}{2}G\\frac{M}{R^2}t^2$) into Python code.  You'll have to replace each variable in the math formula with the name we gave that number in Python code.\n",
    "\n",
    "*Hint:* Try to use variables you've already defined in the previous question!"
   ]
  },
  {
   "cell_type": "code",
   "execution_count": null,
   "id": "herbal-latino",
   "metadata": {
    "deletable": false,
    "editable": false,
    "execution": {
     "iopub.execute_input": "2024-01-26T21:12:08.388710Z",
     "iopub.status.busy": "2024-01-26T21:12:08.388512Z",
     "iopub.status.idle": "2024-01-26T21:12:08.392051Z",
     "shell.execute_reply": "2024-01-26T21:12:08.391358Z"
    },
    "papermill": {
     "duration": null,
     "end_time": null,
     "exception": null,
     "start_time": null,
     "status": "pending"
    },
    "tags": []
   },
   "outputs": [],
   "source": [
    "# First, we've written down the values of the 3 universal constants \n",
    "# that show up in Newton's formula.\n",
    "\n",
    "# G, the universal constant measuring the strength of gravity.\n",
    "gravity_constant = 6.674 * 10**-11\n",
    "\n",
    "# M, the moon's mass, in kilograms.\n",
    "moon_mass_kg = 7.34767309 * 10**22\n",
    "\n",
    "# R, the radius of the moon, in meters.\n",
    "moon_radius_m = 1.737 * 10**6"
   ]
  },
  {
   "cell_type": "markdown",
   "id": "df7f30c2-2ea7-4b24-977d-2103aaee5198",
   "metadata": {
    "deletable": false,
    "editable": false
   },
   "source": [
    "Compute the distance the hammer should have fallen over the duration of the fall, in meters, according to Newton's law of gravity. The text above describes the formula for this distance given by Newton's law. Use the values assigned in the cells above as part of your calculation."
   ]
  },
  {
   "cell_type": "code",
   "execution_count": null,
   "id": "bbbc15ca-da16-474f-b66a-adfd895dd35e",
   "metadata": {
    "execution": {
     "iopub.execute_input": "2024-01-26T21:12:08.395179Z",
     "iopub.status.busy": "2024-01-26T21:12:08.394714Z",
     "iopub.status.idle": "2024-01-26T21:12:08.399611Z",
     "shell.execute_reply": "2024-01-26T21:12:08.398823Z"
    },
    "tags": []
   },
   "outputs": [],
   "source": [
    "predicted_distance_m = ...\n",
    "predicted_distance_m"
   ]
  },
  {
   "cell_type": "markdown",
   "id": "e6223ca9-d181-4cfa-b77c-ff73a87aec58",
   "metadata": {
    "deletable": false,
    "editable": false
   },
   "source": [
    "Here we've computed the difference between the predicted fall distance and the distance we actually measured. If you've filled in the above code, this should just work."
   ]
  },
  {
   "cell_type": "code",
   "execution_count": null,
   "id": "1784af49-f060-4164-bfcc-943252af762c",
   "metadata": {
    "deletable": false,
    "editable": false,
    "execution": {
     "iopub.execute_input": "2024-01-26T21:12:08.402206Z",
     "iopub.status.busy": "2024-01-26T21:12:08.401962Z",
     "iopub.status.idle": "2024-01-26T21:12:08.407514Z",
     "shell.execute_reply": "2024-01-26T21:12:08.406635Z"
    }
   },
   "outputs": [],
   "source": [
    "difference = predicted_distance_m - estimated_distance_m\n",
    "difference"
   ]
  },
  {
   "cell_type": "code",
   "execution_count": null,
   "id": "3f02b022",
   "metadata": {
    "deletable": false,
    "editable": false
   },
   "outputs": [],
   "source": [
    "grader.check(\"q3_3_2\")"
   ]
  },
  {
   "cell_type": "markdown",
   "id": "possible-qualification",
   "metadata": {
    "papermill": {
     "duration": null,
     "end_time": null,
     "exception": null,
     "start_time": null,
     "status": "pending"
    },
    "tags": []
   },
   "source": [
    "# 4. Calling functions\n",
    "\n",
    "The most common way to combine or manipulate values in Python is by calling functions. Python comes with many built-in functions that perform common operations.\n",
    "\n",
    "For example, the `abs` function takes a single number as its argument and returns the absolute value of that number. Run the next two cells and see if you understand the output."
   ]
  },
  {
   "cell_type": "code",
   "execution_count": null,
   "id": "endless-interface",
   "metadata": {
    "execution": {
     "iopub.execute_input": "2024-01-26T21:12:08.432659Z",
     "iopub.status.busy": "2024-01-26T21:12:08.432257Z",
     "iopub.status.idle": "2024-01-26T21:12:08.436802Z",
     "shell.execute_reply": "2024-01-26T21:12:08.436069Z"
    },
    "papermill": {
     "duration": null,
     "end_time": null,
     "exception": null,
     "start_time": null,
     "status": "pending"
    },
    "tags": []
   },
   "outputs": [],
   "source": [
    "abs(5)"
   ]
  },
  {
   "cell_type": "code",
   "execution_count": null,
   "id": "harmful-corner",
   "metadata": {
    "execution": {
     "iopub.execute_input": "2024-01-26T21:12:08.439426Z",
     "iopub.status.busy": "2024-01-26T21:12:08.439028Z",
     "iopub.status.idle": "2024-01-26T21:12:08.443596Z",
     "shell.execute_reply": "2024-01-26T21:12:08.442814Z"
    },
    "papermill": {
     "duration": null,
     "end_time": null,
     "exception": null,
     "start_time": null,
     "status": "pending"
    },
    "tags": []
   },
   "outputs": [],
   "source": [
    "abs(-5)"
   ]
  },
  {
   "cell_type": "markdown",
   "id": "hundred-congo",
   "metadata": {
    "papermill": {
     "duration": null,
     "end_time": null,
     "exception": null,
     "start_time": null,
     "status": "pending"
    },
    "tags": []
   },
   "source": [
    "## 4.1. Application: Computing walking distances\n",
    "Chunhua is on the corner of 7th Avenue and 42nd Street in Midtown Manhattan, and she wants to know far she'd have to walk to get to Gramercy School on the corner of 10th Avenue and 34th Street.\n",
    "\n",
    "She can't cut across blocks diagonally, since there are buildings in the way.  She has to walk along the sidewalks.  Using the map below, she sees she'd have to walk 3 avenues (long blocks) and 8 streets (short blocks).  In terms of the given numbers, she computed 3 as the difference between 7 and 10, *in absolute value*, and 8 similarly.  \n",
    "\n",
    "Chunhua also knows that blocks in Manhattan are all about 80m by 274m (avenues are farther apart than streets).  So in total, she'd have to walk $(80 \\times |42 - 34| + 274 \\times |7 - 10|)$ meters to get to the park.\n",
    "\n",
    "<img src=\"map.jpg\"/>"
   ]
  },
  {
   "cell_type": "markdown",
   "id": "comfortable-haven",
   "metadata": {
    "deletable": false,
    "editable": false,
    "papermill": {
     "duration": null,
     "end_time": null,
     "exception": null,
     "start_time": null,
     "status": "pending"
    },
    "tags": []
   },
   "source": [
    "#### Question 4.1.1.\n",
    "Fill in the line `num_avenues_away = ...` in the next cell so that the cell calculates the distance Chunhua must walk and gives it the name `manhattan_distance`.  Everything else has been filled in for you.  **Use the `abs` function.** Also, be sure to run the test cell afterward to test your code."
   ]
  },
  {
   "cell_type": "code",
   "execution_count": null,
   "id": "supreme-service",
   "metadata": {
    "execution": {
     "iopub.execute_input": "2024-01-26T21:12:08.474039Z",
     "iopub.status.busy": "2024-01-26T21:12:08.473651Z",
     "iopub.status.idle": "2024-01-26T21:12:08.480070Z",
     "shell.execute_reply": "2024-01-26T21:12:08.479225Z"
    },
    "papermill": {
     "duration": null,
     "end_time": null,
     "exception": null,
     "start_time": null,
     "status": "pending"
    },
    "tags": []
   },
   "outputs": [],
   "source": [
    "# Here's the number of streets away:\n",
    "num_streets_away = abs(42-34)\n",
    "\n",
    "# Compute the number of avenues away in a similar way:\n",
    "num_avenues_away = ...\n",
    "\n",
    "street_length_m = 80\n",
    "avenue_length_m = 274\n",
    "\n",
    "# Now we compute the total distance Chunhua must walk.\n",
    "manhattan_distance = street_length_m*num_streets_away + avenue_length_m*num_avenues_away\n",
    "\n",
    "# We've included this line so that you see the distance you've computed \n",
    "# when you run this cell.  \n",
    "# You don't need to change it, but you can if you want.\n",
    "manhattan_distance"
   ]
  },
  {
   "cell_type": "code",
   "execution_count": null,
   "id": "0a4d7782",
   "metadata": {
    "deletable": false,
    "editable": false
   },
   "outputs": [],
   "source": [
    "grader.check(\"q4_1_1\")"
   ]
  },
  {
   "cell_type": "markdown",
   "id": "sudden-bermuda",
   "metadata": {
    "papermill": {
     "duration": null,
     "end_time": null,
     "exception": null,
     "start_time": null,
     "status": "pending"
    },
    "tags": []
   },
   "source": [
    "### Multiple arguments\n",
    "\n",
    "Some functions take multiple arguments, separated by commas. For example, the built-in `max` function returns the maximum argument passed to it."
   ]
  },
  {
   "cell_type": "code",
   "execution_count": null,
   "id": "hidden-communications",
   "metadata": {
    "execution": {
     "iopub.execute_input": "2024-01-26T21:12:08.505535Z",
     "iopub.status.busy": "2024-01-26T21:12:08.505307Z",
     "iopub.status.idle": "2024-01-26T21:12:08.510112Z",
     "shell.execute_reply": "2024-01-26T21:12:08.509316Z"
    },
    "papermill": {
     "duration": null,
     "end_time": null,
     "exception": null,
     "start_time": null,
     "status": "pending"
    },
    "tags": []
   },
   "outputs": [],
   "source": [
    "max(2, -3, 4, -5)"
   ]
  },
  {
   "cell_type": "markdown",
   "id": "promotional-apparatus",
   "metadata": {
    "papermill": {
     "duration": null,
     "end_time": null,
     "exception": null,
     "start_time": null,
     "status": "pending"
    },
    "tags": []
   },
   "source": [
    "# 5. Understanding nested expressions\n",
    "Function calls and arithmetic expressions can themselves contain expressions.  You saw an example in the last question:\n",
    "\n",
    "    abs(42-34)\n",
    "\n",
    "has 2 number expressions in a subtraction expression in a function call expression.  And you probably wrote something like `abs(7-10)` to compute `num_avenues_away`.\n",
    "\n",
    "Nested expressions can turn into complicated-looking code. However, the way in which complicated expressions break down is very regular.\n",
    "\n",
    "Suppose we are interested in heights that are very unusual.  We'll say that a height is unusual to the extent that it's far away on the number line from the average human height.  [An estimate](http://press.endocrine.org/doi/full/10.1210/jcem.86.9.7875?ck=nck&) of the average adult human height (averaging, we hope, over all humans on Earth today) is 1.688 meters.\n",
    "\n",
    "So if Kayla is 1.21 meters tall, then her height is $|1.21 - 1.688|$, or $.478$, meters away from the average.  Here's a picture of that:\n",
    "\n",
    "<img src=\"numberline_0.png\">\n",
    "\n",
    "And here's how we'd write that in one line of Python code:"
   ]
  },
  {
   "cell_type": "code",
   "execution_count": null,
   "id": "sorted-workshop",
   "metadata": {
    "execution": {
     "iopub.execute_input": "2024-01-26T21:12:08.512873Z",
     "iopub.status.busy": "2024-01-26T21:12:08.512477Z",
     "iopub.status.idle": "2024-01-26T21:12:08.517265Z",
     "shell.execute_reply": "2024-01-26T21:12:08.516454Z"
    },
    "papermill": {
     "duration": null,
     "end_time": null,
     "exception": null,
     "start_time": null,
     "status": "pending"
    },
    "tags": []
   },
   "outputs": [],
   "source": [
    "abs(1.21 - 1.688)"
   ]
  },
  {
   "cell_type": "markdown",
   "id": "perfect-hindu",
   "metadata": {
    "papermill": {
     "duration": null,
     "end_time": null,
     "exception": null,
     "start_time": null,
     "status": "pending"
    },
    "tags": []
   },
   "source": [
    "What's going on here?  `abs` takes just one argument, so the stuff inside the parentheses is all part of that *single argument*.  Specifically, the argument is the value of the expression `1.21 - 1.688`.  The value of that expression is `-.478`.  That value is the argument to `abs`.  The absolute value of that is `.478`, so `.478` is the value of the full expression `abs(1.21 - 1.688)`.\n",
    "\n",
    "Picture simplifying the expression in several steps:\n",
    "\n",
    "1. `abs(1.21 - 1.688)`\n",
    "2. `abs(-.478)`\n",
    "3. `.478`\n",
    "\n",
    "In fact, that's basically what Python does to compute the value of the expression."
   ]
  },
  {
   "cell_type": "markdown",
   "id": "happy-harassment",
   "metadata": {
    "deletable": false,
    "editable": false,
    "papermill": {
     "duration": null,
     "end_time": null,
     "exception": null,
     "start_time": null,
     "status": "pending"
    },
    "tags": []
   },
   "source": [
    "#### Question 5.0.1.\n",
    "Say that Paola's height is 1.76 meters.  In the next cell, use `abs` to compute the absolute value of the difference between Paola's height and the average human height.  Give that value the name `paola_distance_from_average_m`.\n",
    "\n",
    "<img src=\"numberline_1.png\">"
   ]
  },
  {
   "cell_type": "markdown",
   "id": "22ae83a7-e369-4670-aae7-d8ff2dafde30",
   "metadata": {
    "deletable": false,
    "editable": false
   },
   "source": [
    "Replace the `...` in the code cell below with an expression to compute the absolute value of the difference between Paola's height (1.76m) and the average human height."
   ]
  },
  {
   "cell_type": "code",
   "execution_count": null,
   "id": "usual-disease",
   "metadata": {
    "execution": {
     "iopub.execute_input": "2024-01-26T21:12:08.520673Z",
     "iopub.status.busy": "2024-01-26T21:12:08.520065Z",
     "iopub.status.idle": "2024-01-26T21:12:08.525249Z",
     "shell.execute_reply": "2024-01-26T21:12:08.524416Z"
    },
    "papermill": {
     "duration": null,
     "end_time": null,
     "exception": null,
     "start_time": null,
     "status": "pending"
    },
    "tags": []
   },
   "outputs": [],
   "source": [
    "paola_distance_from_average_m = ...\n",
    "\n",
    "# We've written this here so that the distance you \n",
    "# compute will get printed when you run this cell.\n",
    "paola_distance_from_average_m"
   ]
  },
  {
   "cell_type": "code",
   "execution_count": null,
   "id": "3eec1491",
   "metadata": {
    "deletable": false,
    "editable": false
   },
   "outputs": [],
   "source": [
    "grader.check(\"q5_0_1\")"
   ]
  },
  {
   "cell_type": "markdown",
   "id": "limiting-writer",
   "metadata": {
    "papermill": {
     "duration": null,
     "end_time": null,
     "exception": null,
     "start_time": null,
     "status": "pending"
    },
    "tags": []
   },
   "source": [
    "## 5.1. More nesting\n",
    "Now say that we want to compute the more unusual of the two heights.  We'll use the function `max`, which (again) takes two numbers as arguments and returns the larger of the two arguments.  Combining that with the `abs` function, we can compute the larger distance from average among the two heights:"
   ]
  },
  {
   "cell_type": "code",
   "execution_count": null,
   "id": "exclusive-policy",
   "metadata": {
    "execution": {
     "iopub.execute_input": "2024-01-26T21:12:08.535553Z",
     "iopub.status.busy": "2024-01-26T21:12:08.535291Z",
     "iopub.status.idle": "2024-01-26T21:12:08.539937Z",
     "shell.execute_reply": "2024-01-26T21:12:08.539140Z"
    },
    "papermill": {
     "duration": null,
     "end_time": null,
     "exception": null,
     "start_time": null,
     "status": "pending"
    },
    "tags": []
   },
   "outputs": [],
   "source": [
    "# Just read and run this cell.\n",
    "\n",
    "kayla_height_m = 1.21\n",
    "paola_height_m = 1.76\n",
    "average_adult_height_m = 1.688\n",
    "\n",
    "# The larger distance from the average human height, among the two heights:\n",
    "larger_distance_m = max(abs(kayla_height_m - average_adult_height_m), abs(paola_height_m - average_adult_height_m))\n",
    "\n",
    "# Print out our results in a nice readable format:\n",
    "print(\"The larger distance from the average height among these two people is\", larger_distance_m, \"meters.\")"
   ]
  },
  {
   "cell_type": "markdown",
   "id": "homeless-carbon",
   "metadata": {
    "papermill": {
     "duration": null,
     "end_time": null,
     "exception": null,
     "start_time": null,
     "status": "pending"
    },
    "tags": []
   },
   "source": [
    "The line where `larger_distance_m` is computed looks complicated, but we can break it down into simpler components just like we did before.\n",
    "\n",
    "The basic recipe is to repeatedly simplify small parts of the expression:\n",
    "* **Basic expressions:** Start with expressions whose values we know, like names or numbers.\n",
    "    - Examples: `paola_height_m` or `5`.\n",
    "* **Find the next simplest group of expressions:** Look for basic expressions that are directly connected to each other. This can be by arithmetic or as arguments to a function call. \n",
    "    - Example: `kayla_height_m - average_adult_height_m`.\n",
    "* **Evaluate that group:** Evaluate the arithmetic expression or function call. Use the value computed to replace the group of expressions.  \n",
    "    - Example: `kayla_height_m - average_adult_height_m` becomes `-.478`.\n",
    "* **Repeat:** Continue this process, using the value of the previously-evaluated expression as a new basic expression. Stop when we've evaluated the entire expression.\n",
    "    - Example: `abs(-.478)` becomes `.478`, and `max(.478, .072)` becomes `.478`.\n",
    "\n",
    "You can run the next cell to see a slideshow of that process."
   ]
  },
  {
   "cell_type": "code",
   "execution_count": null,
   "id": "dense-printer",
   "metadata": {
    "execution": {
     "iopub.execute_input": "2024-01-26T21:12:08.542668Z",
     "iopub.status.busy": "2024-01-26T21:12:08.542429Z",
     "iopub.status.idle": "2024-01-26T21:12:08.577471Z",
     "shell.execute_reply": "2024-01-26T21:12:08.576617Z"
    },
    "papermill": {
     "duration": null,
     "end_time": null,
     "exception": null,
     "start_time": null,
     "status": "pending"
    },
    "tags": []
   },
   "outputs": [],
   "source": [
    "from IPython.display import IFrame\n",
    "IFrame('https://docs.google.com/presentation/d/e/2PACX-1vTiIUOa9tP4pHPesrI8p2TCp8WCOJtTb3usOacQFPfkEfvQMmX-JYEW3OnBoTmQEJWAHdBP6Mvp053G/embed?start=false&loop=false&delayms=3000', 800, 600)"
   ]
  },
  {
   "cell_type": "markdown",
   "id": "educational-usage",
   "metadata": {
    "papermill": {
     "duration": null,
     "end_time": null,
     "exception": null,
     "start_time": null,
     "status": "pending"
    },
    "tags": []
   },
   "source": [
    "Ok, your turn. "
   ]
  },
  {
   "cell_type": "markdown",
   "id": "comprehensive-baghdad",
   "metadata": {
    "deletable": false,
    "editable": false,
    "papermill": {
     "duration": null,
     "end_time": null,
     "exception": null,
     "start_time": null,
     "status": "pending"
    },
    "tags": []
   },
   "source": [
    "#### Question 5.1.1.\n",
    "Given the heights of three players from the basketball team Golden State Warriors, write an expression that computes the smallest difference between any of the three heights. Your expression shouldn't have any numbers in it, only function calls and the variable names. Give the value of your expression the name `min_height_difference`."
   ]
  },
  {
   "cell_type": "code",
   "execution_count": null,
   "id": "atmospheric-great",
   "metadata": {
    "execution": {
     "iopub.execute_input": "2024-01-26T21:12:08.580629Z",
     "iopub.status.busy": "2024-01-26T21:12:08.580362Z",
     "iopub.status.idle": "2024-01-26T21:12:08.586390Z",
     "shell.execute_reply": "2024-01-26T21:12:08.585609Z"
    },
    "papermill": {
     "duration": null,
     "end_time": null,
     "exception": null,
     "start_time": null,
     "status": "pending"
    },
    "tags": []
   },
   "outputs": [],
   "source": [
    "# The three players' heights, in meters:\n",
    "ball =  2.01 # LaMelo Ball is 6'7\"\n",
    "rozier = 1.85 # Terry Rozier is 6'1\"\n",
    "richards = 1.13 # Nick Richards is 7'0\"\n",
    "             \n",
    "# We'd like to look at all 3 pairs of heights, \n",
    "# compute the absolute difference between each pair, \n",
    "# and then find the smallest of those 3 absolute differences.  \n",
    "# This is left to you!  \n",
    "# If you're stuck, try computing the value for each step of the process \n",
    "\n",
    "min_height_difference = ...\n",
    "min_height_difference"
   ]
  },
  {
   "cell_type": "code",
   "execution_count": null,
   "id": "b00e4279",
   "metadata": {
    "deletable": false,
    "editable": false
   },
   "outputs": [],
   "source": [
    "grader.check(\"q5_1_1\")"
   ]
  },
  {
   "cell_type": "markdown",
   "id": "outer-contrast",
   "metadata": {
    "papermill": {
     "duration": null,
     "end_time": null,
     "exception": null,
     "start_time": null,
     "status": "pending"
    },
    "tags": []
   },
   "source": [
    "# 6. Submitting your work\n",
    "You're done with Lab 01! All assignments in the course will be distributed as notebooks like this one. All assignments should be turned in using the following best practices:\n",
    "1. Save your notebook.\n",
    "2. Restart the kernel and run all cells up to this one.\n",
    "3. Run the cell below with the code `grader.export(...)`. This will re-run all the tests. Make sure they are passing as you expect them to.\n",
    "4. Download the file named `lab01_<date-time-stamp>.zip`, found in the explorer pane on the left side of the screen. **Note**: Clicking on the link in this notebook may result in an error, it's best to download from the file explorer panel.\n",
    "5. Upload `lab01_<date-time-stamp>.zip` to the Lab 01 assignment on Canvas."
   ]
  },
  {
   "cell_type": "markdown",
   "id": "b85051c8",
   "metadata": {
    "deletable": false,
    "editable": false
   },
   "source": [
    "## Submission\n",
    "\n",
    "Make sure you have run all cells in your notebook in order before running the cell below, so that all images/graphs appear in the output. The cell below will generate a zip file for you to submit.\n",
    "\n",
    "When done exporting, download the .zip file by pressing `SHIFT` on your keyboard and then right-clicking on the generated link and selecting **Save Link As**. Or, find the `.zip` file in the left side of the screen and right-click and select **Download**. You'll submit this `.zip` file for the assignment in Canvas to Gradescope for grading."
   ]
  },
  {
   "cell_type": "code",
   "execution_count": null,
   "id": "f2712e4f",
   "metadata": {
    "deletable": false,
    "editable": false
   },
   "outputs": [],
   "source": [
    "grader.export(pdf=False, force_save=True)"
   ]
  },
  {
   "cell_type": "markdown",
   "id": "5ddbf8a8",
   "metadata": {},
   "source": [
    " "
   ]
  }
 ],
 "metadata": {
  "kernelspec": {
   "display_name": "Python 3 (ipykernel)",
   "language": "python",
   "name": "python3"
  },
  "language_info": {
   "codemirror_mode": {
    "name": "ipython",
    "version": 3
   },
   "file_extension": ".py",
   "mimetype": "text/x-python",
   "name": "python",
   "nbconvert_exporter": "python",
   "pygments_lexer": "ipython3",
   "version": "3.11.5"
  },
  "otter": {
   "OK_FORMAT": true,
   "tests": {
    "q3_1_1": {
     "name": "q3_1_1",
     "points": 1,
     "suites": [
      {
       "cases": [
        {
         "code": ">>> 'seconds_in_a_decade' in vars()\nTrue",
         "failure_message": "❌ ❌ It looks like you didn't give anything the name seconds_in_a_decade. Maybe there's a typo, or maybe you just need to run the cell below Question 3.1.1 where you defined seconds_in_a_decade.",
         "hidden": false,
         "locked": false,
         "points": 0,
         "success_message": "✅ You correctly defined a variable named seconds_in_a_decade"
        },
        {
         "code": ">>> seconds_in_a_decade != ...\nTrue",
         "failure_message": "❌ It looks like you didn't change the cell to define seconds_in_a_decade appropriately.  It should be a number,computed using Python's arithmetic. For example, this is almost right, seconds_in_a_decade = 10*365*24*60*60",
         "hidden": false,
         "locked": false,
         "points": 0,
         "success_message": "✅ You correctly defined a variable named seconds_in_a_decade to be something other than ..."
        },
        {
         "code": ">>> seconds_in_a_decade != 315360000\nTrue",
         "failure_message": "❌ It looks like you didn't account for leap years. There were 2 leap years and 8 non-leap years in this period of time. Leap years have 366 days instead of 365.",
         "hidden": false,
         "locked": false,
         "points": 0,
         "success_message": "✅ You correctly did not compute the number of seconds in 10 non-leap years."
        },
        {
         "code": ">>> seconds_in_a_decade == 315532800\nTrue",
         "failure_message": "❌ You did not compute the correct answer",
         "hidden": false,
         "locked": false,
         "points": 1,
         "success_message": "✅ You correctly computed the correct answer"
        }
       ],
       "scored": true,
       "setup": "",
       "teardown": "",
       "type": "doctest"
      }
     ]
    },
    "q3_3_1": {
     "name": "q3_3_1",
     "points": 1,
     "suites": [
      {
       "cases": [
        {
         "code": ">>> time != ...\nTrue",
         "failure_message": "❌ You didn't fill in the variable named time. Fill it in with a number like, time = 4.457",
         "hidden": false,
         "locked": false,
         "points": 0,
         "success_message": "✅ You provided a value for the variable named time."
        },
        {
         "code": ">>> round(time, 5)\n1.2",
         "failure_message": "❌ You didn't provide the correct value for time. Re-read the paragraph above and try again.",
         "hidden": false,
         "locked": false,
         "points": 0.5,
         "success_message": "✅ You provided the correct value for the variable named time."
        },
        {
         "code": ">>> estimated_distance_m != ...\nTrue",
         "failure_message": "❌ You didn't fill in the variable named estimated_distance_m. Fill it in with a number like, estimated_distance_m = 4.457",
         "hidden": false,
         "locked": false,
         "points": 0,
         "success_message": "✅ You provided a value for the variable named estimated_distance_m."
        },
        {
         "code": ">>> estimated_distance_m != 113\nTrue",
         "failure_message": "❌ You provided the correct distance, but in centimeters not meters.",
         "hidden": false,
         "locked": false,
         "points": 0
        },
        {
         "code": ">>> round(estimated_distance_m, 5)\n1.13",
         "failure_message": "❌ You didn't provide the correct value for estimated_distance_m. Re-read the paragraph above and try again.",
         "hidden": false,
         "locked": false,
         "points": 0.5,
         "success_message": "✅ You provided the correct value for the variable named estimated_distance_m."
        }
       ],
       "scored": true,
       "setup": "",
       "teardown": "",
       "type": "doctest"
      }
     ]
    },
    "q3_3_2": {
     "name": "q3_3_2",
     "points": 1,
     "suites": [
      {
       "cases": [
        {
         "code": ">>> predicted_distance_m != ...\nTrue",
         "failure_message": "❌ You didn't fill in the variable named predicted_distance_m. Fill it in with a calculation like, predicted_distance_m = rate * time",
         "hidden": false,
         "locked": false,
         "points": 0,
         "success_message": "✅ You provided a value for the variable named predicted_distance_m."
        },
        {
         "code": ">>> round(predicted_distance_m, 5)\n1.17022",
         "failure_message": "❌ You did not correctly compute the predicted distance in meters.",
         "hidden": false,
         "locked": false,
         "points": 0.5,
         "success_message": "✅ You correctly computed the predicted distance in meters"
        },
        {
         "code": ">>> round(difference, 5)\n0.04022",
         "failure_message": "❌ You did not correctly compute the predicted difference in meters.",
         "hidden": false,
         "locked": false,
         "points": 0.5,
         "success_message": "✅ You correctly computed the predicted difference in meters"
        }
       ],
       "scored": true,
       "setup": "",
       "teardown": "",
       "type": "doctest"
      }
     ]
    },
    "q4_1_1": {
     "name": "q4_1_1",
     "points": 1,
     "suites": [
      {
       "cases": [
        {
         "code": ">>> num_avenues_away != ...\nTrue",
         "hidden": false,
         "locked": false,
         "points": 0
        },
        {
         "code": ">>> num_avenues_away != -3\nTrue",
         "hidden": false,
         "locked": false,
         "points": 0
        },
        {
         "code": ">>> num_avenues_away\n3",
         "hidden": false,
         "locked": false,
         "points": 1
        }
       ],
       "scored": true,
       "setup": "",
       "teardown": "",
       "type": "doctest"
      }
     ]
    },
    "q5_0_1": {
     "name": "q5_0_1",
     "points": 1,
     "suites": [
      {
       "cases": [
        {
         "code": ">>> round(paola_distance_from_average_m, 5)\n0.072",
         "hidden": false,
         "locked": false,
         "points": 1
        }
       ],
       "scored": true,
       "setup": "",
       "teardown": "",
       "type": "doctest"
      }
     ]
    },
    "q5_1_1": {
     "name": "q5_1_1",
     "points": 1,
     "suites": [
      {
       "cases": [
        {
         "code": ">>> round(min_height_difference, 5)\n0.16",
         "hidden": false,
         "locked": false,
         "points": 1
        }
       ],
       "scored": true,
       "setup": "",
       "teardown": "",
       "type": "doctest"
      }
     ]
    }
   }
  },
  "papermill": {
   "default_parameters": {},
   "duration": 2.319455,
   "end_time": "2023-02-03T14:47:47.573530",
   "environment_variables": {},
   "exception": true,
   "input_path": "lab01.ipynb",
   "output_path": "lab01.ipynb",
   "parameters": {},
   "start_time": "2023-02-03T14:47:45.254075",
   "version": "2.4.0"
  }
 },
 "nbformat": 4,
 "nbformat_minor": 5
}
