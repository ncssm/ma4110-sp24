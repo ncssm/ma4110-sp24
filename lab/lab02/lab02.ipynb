{
 "cells": [
  {
   "cell_type": "code",
   "execution_count": null,
   "metadata": {
    "deletable": false,
    "editable": false
   },
   "outputs": [],
   "source": [
    "# Initialize Otter\n",
    "import otter\n",
    "grader = otter.Notebook(\"lab02.ipynb\")"
   ]
  },
  {
   "cell_type": "markdown",
   "metadata": {},
   "source": [
    "# Lab 02 Table operations\n",
    "\n",
    "Welcome to Lab 02. This week, we'll learn how to import a module and practice table operations. Please complete this notebook by filling in the cells provided. Before you begin, be sure you've run the very first cell in this notebook to load `otter`, the auto-grading library that will provide feedback while completing this assignment. This cell should be run each time you load this notebook, as everything stored into memory is reset when you close Datahub for more than a few minutes.\n",
    "\n",
    "Recommended reading\n",
    " * [Introduction to tables](https://www.inferentialthinking.com/chapters/03/4/Introduction_to_Tables)\n",
    "\n",
    "First, run the cell below to import the datascience library, which will allow us to create Tables and other important tools."
   ]
  },
  {
   "cell_type": "code",
   "execution_count": null,
   "metadata": {
    "execution": {
     "iopub.execute_input": "2024-01-26T21:12:11.899057Z",
     "iopub.status.busy": "2024-01-26T21:12:11.898821Z",
     "iopub.status.idle": "2024-01-26T21:12:13.659929Z",
     "shell.execute_reply": "2024-01-26T21:12:13.659063Z"
    }
   },
   "outputs": [],
   "source": [
    "from datascience import *"
   ]
  },
  {
   "cell_type": "markdown",
   "metadata": {},
   "source": [
    "# 1. Review: Introduction to Python\n",
    "\n",
    "The two building blocks of Python code are *expressions* and *statements*.  An **expression** is a piece of code that\n",
    "\n",
    "* is self-contained, meaning it would make sense to write it on a line by itself, and\n",
    "* usually evaluates to a value.\n",
    "\n",
    "\n",
    "Here are two expressions that both evaluate to 3\n",
    "\n",
    "* `3`\n",
    "* `5 - 2`\n",
    "    \n",
    "One important type of expression is the **call expression**. A call expression begins with the name of a function and is followed by the argument(s) of that function in parentheses. The function returns some value, based on its arguments. Some important mathematical functions are listed below.\n",
    "\n",
    "| Function | Description                                                   |\n",
    "|----------|---------------------------------------------------------------|\n",
    "| `abs`      | Returns the absolute value of its argument                    |\n",
    "| `max`      | Returns the maximum of all its arguments                      |\n",
    "| `min`      | Returns the minimum of all its arguments                      |\n",
    "| `pow`      | Raises its first argument to the power of its second argument |\n",
    "| `round`    | Rounds its argument to the nearest integer                     |\n",
    "\n",
    "Here are two call expressions that both evaluate to 3\n",
    "\n",
    "* `abs(2 - 5)`\n",
    "* `max(round(2.8), min(pow(2, 10), -1 * pow(2, 10)))`\n",
    "\n",
    "The expression `5 - 2` and the two call expressions given above are examples of **compound expressions**, meaning that they are actually combinations of several smaller expressions.  `5 - 2` combines the expressions `5` and `2` by subtraction.  In this case, `5` and `2` are called **subexpressions** because they're expressions that are part of a larger expression.\n",
    "\n",
    "A **statement** is a whole line of code.  Some statements are just expressions.  The expressions listed above are examples.\n",
    "\n",
    "Other statements *make something happen* rather than *having a value*. For example, an **assignment statement** assigns a value to a name. \n",
    "\n",
    "A good way to think about this is that we're **evaluating the right-hand side** of the equals sign and **assigning it to the left-hand side**. Here are some assignment statements:\n",
    "    \n",
    "* `height = 1.3`\n",
    "* `the_number_five = abs(-5)`\n",
    "* `absolute_height_difference = abs(height - 1.688)`\n",
    "\n",
    "An important idea in programming is that large, interesting things can be built by combining many simple, uninteresting things.  The key to understanding a complicated piece of code is breaking it down into its simple components.\n",
    "\n",
    "For example, a lot is going on in the last statement above, but it's really just a combination of a few things.  This picture describes what's going on.\n",
    "\n",
    "<img src=\"statement.png\"/>"
   ]
  },
  {
   "cell_type": "markdown",
   "metadata": {
    "deletable": false,
    "editable": false
   },
   "source": [
    "#### Question 1.1.\n",
    "\n",
    "In the next cell, assign the name `new_year` to the larger number among the following two numbers:\n",
    "\n",
    "1. the **absolute value** of $2^{5}-2^{11}-2^3 + 1$ , and \n",
    "2. $5 \\times 13 \\times 31+1$.\n",
    "\n",
    "You should not evaluate either value, but rather use a Python function to determine which of the two expressions is larger, and save the result to the name `new_year`. Try to use just one statement (one line of code). Be sure to check your work by executing the test cell afterward."
   ]
  },
  {
   "cell_type": "code",
   "execution_count": null,
   "metadata": {
    "execution": {
     "iopub.execute_input": "2024-01-26T21:12:13.664534Z",
     "iopub.status.busy": "2024-01-26T21:12:13.663861Z",
     "iopub.status.idle": "2024-01-26T21:12:13.671940Z",
     "shell.execute_reply": "2024-01-26T21:12:13.671079Z"
    },
    "tags": []
   },
   "outputs": [],
   "source": [
    "new_year = ...\n",
    "new_year"
   ]
  },
  {
   "cell_type": "code",
   "execution_count": null,
   "metadata": {
    "deletable": false,
    "editable": false
   },
   "outputs": [],
   "source": [
    "grader.check(\"q1_1\")"
   ]
  },
  {
   "cell_type": "markdown",
   "metadata": {},
   "source": [
    "We've asked you to use one line of code in the question above because it only involves mathematical operations. However, more complicated programming questions will more require more steps. It isn’t always a good idea to jam these steps into a single line because it can make the code harder to read and harder to debug.\n",
    "\n",
    "Good programming practice involves splitting up your code into smaller steps and using appropriate names. You'll have plenty of opportunities to practice this throughout this course."
   ]
  },
  {
   "cell_type": "markdown",
   "metadata": {},
   "source": [
    "# 2. Importing code\n",
    "\n",
    "<img src=\"https://i.imgur.com/qbDVKh7.png\" width=600 />\n",
    "\n",
    "Most programming involves work that is very similar to work that has been done before.  Since writing code is time-consuming, it's good to rely on others' published code when you can.  Rather than copy-pasting, Python allows us to **import modules**. A module is a file with Python code that has defined variables and functions. By importing a module, we are able to use its code in our own notebook.\n",
    "\n",
    "Python includes many useful modules that are just an `import` away.  We'll look at the `math` module as a first example. The `math` module is extremely useful in computing mathematical expressions in Python. \n",
    "\n",
    "Suppose we want to very accurately compute the area of a circle with a radius of 5 meters.  For that, we need the constant $\\pi$, which is roughly 3.14.  Conveniently, the `math` module has `pi` defined for us.\n",
    "\n",
    "Run the cell below."
   ]
  },
  {
   "cell_type": "code",
   "execution_count": null,
   "metadata": {
    "execution": {
     "iopub.execute_input": "2024-01-26T21:12:13.736754Z",
     "iopub.status.busy": "2024-01-26T21:12:13.736290Z",
     "iopub.status.idle": "2024-01-26T21:12:13.740927Z",
     "shell.execute_reply": "2024-01-26T21:12:13.740333Z"
    }
   },
   "outputs": [],
   "source": [
    "import math\n",
    "\n",
    "radius = 5\n",
    "area_of_circle = radius**2 * math.pi\n",
    "area_of_circle"
   ]
  },
  {
   "cell_type": "markdown",
   "metadata": {},
   "source": [
    "In the code above, the line `import math` imports the math module. This statement creates a module and then assigns the name `math` to that module. We are now able to access any variables or functions defined within `math` by typing the name of the module followed by a dot, then followed by the name of the variable or function we want.\n",
    "\n",
    "```\n",
    "<module name>.<name>\n",
    "```"
   ]
  },
  {
   "cell_type": "markdown",
   "metadata": {
    "deletable": false,
    "editable": false
   },
   "source": [
    "#### Question 2.1.\n",
    "The module `math` also provides the name `e` for the base of the natural logarithm, which is roughly 2.71.  Compute $e^{\\pi}-\\pi$, assigning it the name `near_twenty`.\n"
   ]
  },
  {
   "cell_type": "code",
   "execution_count": null,
   "metadata": {
    "execution": {
     "iopub.execute_input": "2024-01-26T21:12:13.743646Z",
     "iopub.status.busy": "2024-01-26T21:12:13.743422Z",
     "iopub.status.idle": "2024-01-26T21:12:13.747738Z",
     "shell.execute_reply": "2024-01-26T21:12:13.747154Z"
    },
    "tags": []
   },
   "outputs": [],
   "source": [
    "near_twenty = ...\n",
    "near_twenty"
   ]
  },
  {
   "cell_type": "code",
   "execution_count": null,
   "metadata": {
    "deletable": false,
    "editable": false
   },
   "outputs": [],
   "source": [
    "grader.check(\"q2_1\")"
   ]
  },
  {
   "cell_type": "markdown",
   "metadata": {},
   "source": [
    "<img src=\"https://imgs.xkcd.com/comics/e_to_the_pi_minus_pi.png\" />"
   ]
  },
  {
   "cell_type": "markdown",
   "metadata": {},
   "source": [
    "## 2.1. Accessing Functions\n",
    "\n",
    "In the question above, you accessed variables within the `math` module. \n",
    "\n",
    "**Modules** also define **functions**.  For example, `math` provides the name `sin` for the sine function.  Having imported `math` already, we can write `math.sin(3)` to compute the sine of 3.  (Note that this sine function considers its argument to be in [radians](https://en.wikipedia.org/wiki/Radian), not degrees.  180 degrees are equivalent to $\\pi$ radians.)"
   ]
  },
  {
   "cell_type": "markdown",
   "metadata": {
    "deletable": false,
    "editable": false
   },
   "source": [
    "#### Question 2.1.1.\n",
    "A $\\frac{\\pi}{4}$ radian (45-degree) angle forms a right triangle with equal base and height, pictured below.  If the hypotenuse (the radius of the circle in the picture) is 1, then the height (the dashed red line) has a length of $\\sin\\left(\\frac{\\pi}{4}\\right)$.  Compute that value using `sin` and `pi` from the `math` module.  Assign the result of the calculation to the name `sine_of_pi_over_four`.\n",
    "\n",
    "<img src=\"http://mathworld.wolfram.com/images/eps-gif/TrigonometryAnglesPi4_1000.gif\" />\n",
    "\n",
    "Source: [Wolfram MathWorld](http://mathworld.wolfram.com/images/eps-gif/TrigonometryAnglesPi4_1000.gif)\n"
   ]
  },
  {
   "cell_type": "code",
   "execution_count": null,
   "metadata": {
    "execution": {
     "iopub.execute_input": "2024-01-26T21:12:13.775803Z",
     "iopub.status.busy": "2024-01-26T21:12:13.775523Z",
     "iopub.status.idle": "2024-01-26T21:12:13.780243Z",
     "shell.execute_reply": "2024-01-26T21:12:13.779658Z"
    },
    "tags": []
   },
   "outputs": [],
   "source": [
    "sine_of_pi_over_four = ...\n",
    "sine_of_pi_over_four"
   ]
  },
  {
   "cell_type": "code",
   "execution_count": null,
   "metadata": {
    "deletable": false,
    "editable": false
   },
   "outputs": [],
   "source": [
    "grader.check(\"q2_1_1\")"
   ]
  },
  {
   "cell_type": "markdown",
   "metadata": {},
   "source": [
    "For your reference, below are some more examples of functions from the `math` module.\n",
    "\n",
    "Notice how different functions take in different numbers of arguments. Often, the [documentation](https://docs.python.org/3/library/math.html) of the module will provide information on how many arguments are required for each function.\n",
    "\n",
    "Run the cell below."
   ]
  },
  {
   "cell_type": "code",
   "execution_count": null,
   "metadata": {
    "execution": {
     "iopub.execute_input": "2024-01-26T21:12:13.789943Z",
     "iopub.status.busy": "2024-01-26T21:12:13.789731Z",
     "iopub.status.idle": "2024-01-26T21:12:13.793933Z",
     "shell.execute_reply": "2024-01-26T21:12:13.793372Z"
    }
   },
   "outputs": [],
   "source": [
    "# Calculating logarithms (the logarithm of 8 in base 2)\n",
    "# The result is 3 because 2 to the power of 3 is 8\n",
    "math.log(8, 2)"
   ]
  },
  {
   "cell_type": "markdown",
   "metadata": {},
   "source": [
    "Run the cell below."
   ]
  },
  {
   "cell_type": "code",
   "execution_count": null,
   "metadata": {
    "execution": {
     "iopub.execute_input": "2024-01-26T21:12:13.796559Z",
     "iopub.status.busy": "2024-01-26T21:12:13.796347Z",
     "iopub.status.idle": "2024-01-26T21:12:13.800356Z",
     "shell.execute_reply": "2024-01-26T21:12:13.799765Z"
    }
   },
   "outputs": [],
   "source": [
    "# Calculating square roots\n",
    "math.sqrt(5)"
   ]
  },
  {
   "cell_type": "markdown",
   "metadata": {},
   "source": [
    "There are various ways to import and access code from outside sources. The method we used above — `import <module_name>` — imports the entire module and requires that we use `<module_name>.<name>` to access its code. \n",
    "\n",
    "We can also import a specific constant or function instead of the entire module. Notice that you don't have to use the module name beforehand to reference that particular value. However, you do have to be careful about reassigning the names of the constants or functions to other values.\n",
    "\n",
    "Run the cell below."
   ]
  },
  {
   "cell_type": "code",
   "execution_count": null,
   "metadata": {
    "execution": {
     "iopub.execute_input": "2024-01-26T21:12:13.802985Z",
     "iopub.status.busy": "2024-01-26T21:12:13.802777Z",
     "iopub.status.idle": "2024-01-26T21:12:13.807716Z",
     "shell.execute_reply": "2024-01-26T21:12:13.807152Z"
    }
   },
   "outputs": [],
   "source": [
    "# Importing just cos and pi from math\n",
    "# We don't have to use `math.` in front of cos or pi\n",
    "\n",
    "from math import cos, pi\n",
    "print(cos(pi))\n",
    "\n",
    "# We do have to use it in front of the other functions from math that were not imported\n",
    "math.log(pi)"
   ]
  },
  {
   "cell_type": "markdown",
   "metadata": {},
   "source": [
    "Or we can import every function and value from the entire module. This method can yield unexpected results, since you may not know the name of every function in the `math` library. Importing all of them may overwrite any functions with the same name. In general this method should be avoided unless you're certain it won't cause any issues.\n",
    "\n",
    "Run the cell below (we've checked, and it won't cause any issues in this notebook!)."
   ]
  },
  {
   "cell_type": "code",
   "execution_count": null,
   "metadata": {
    "execution": {
     "iopub.execute_input": "2024-01-26T21:12:13.810242Z",
     "iopub.status.busy": "2024-01-26T21:12:13.810023Z",
     "iopub.status.idle": "2024-01-26T21:12:13.814177Z",
     "shell.execute_reply": "2024-01-26T21:12:13.813576Z"
    }
   },
   "outputs": [],
   "source": [
    "# Lastly, we can import everything from math using the *\n",
    "# Once again, we don't have to use 'math.' beforehand \n",
    "\n",
    "from math import *\n",
    "log(pi)"
   ]
  },
  {
   "cell_type": "markdown",
   "metadata": {},
   "source": [
    "Don't worry too much about which type of import to use. It's often a coding style choice left up to each programmer. In this course, you'll always import the necessary modules when you run the setup cell (like the first code cell in this lab)."
   ]
  },
  {
   "cell_type": "markdown",
   "metadata": {},
   "source": [
    "# 3. Table operations\n",
    "\n",
    "The table `farmers_markets.csv` contains data on farmers' markets in the United States  (data collected [by the USDA](https://apps.ams.usda.gov/FarmersMarketsExport/ExcelExport.aspx)).  Each row represents one such market.\n",
    "\n",
    "Run the cell below."
   ]
  },
  {
   "cell_type": "code",
   "execution_count": null,
   "metadata": {
    "execution": {
     "iopub.execute_input": "2024-01-26T21:12:13.816760Z",
     "iopub.status.busy": "2024-01-26T21:12:13.816534Z",
     "iopub.status.idle": "2024-01-26T21:12:14.261950Z",
     "shell.execute_reply": "2024-01-26T21:12:14.261170Z"
    }
   },
   "outputs": [],
   "source": [
    "farmers_markets = Table.read_table('farmers_markets.csv')"
   ]
  },
  {
   "cell_type": "markdown",
   "metadata": {},
   "source": [
    "Let's examine our table to see what data it contains."
   ]
  },
  {
   "cell_type": "markdown",
   "metadata": {
    "deletable": false,
    "editable": false
   },
   "source": [
    "<!-- BEGIN QUESTION -->\n",
    "\n",
    "#### Question 3.1.\n",
    "Use the method `show` to display the first 5 rows of `farmers_markets`.\n",
    "\n",
    "**Note:** The terms \"method\" and \"function\" are technically not the same thing, but for the purposes of this course, we will use them interchangeably.\n",
    "\n",
    "**Warning:** Make sure not to call `.show()` without an argument, as this will attempt to show all the rows in the `farmers_markets` table, and since this table is quite large it will **crash your kernel**.\n"
   ]
  },
  {
   "cell_type": "code",
   "execution_count": null,
   "metadata": {
    "execution": {
     "iopub.execute_input": "2024-01-26T21:12:14.265770Z",
     "iopub.status.busy": "2024-01-26T21:12:14.265525Z",
     "iopub.status.idle": "2024-01-26T21:12:14.276491Z",
     "shell.execute_reply": "2024-01-26T21:12:14.275864Z"
    },
    "tags": []
   },
   "outputs": [],
   "source": [
    "..."
   ]
  },
  {
   "cell_type": "markdown",
   "metadata": {
    "deletable": false,
    "editable": false
   },
   "source": [
    "<!-- END QUESTION -->\n",
    "\n",
    "Notice that some of the values in this table are missing, as denoted by \"nan.\" This means either that the value is not available (e.g. if we don’t know the market’s street address) or not applicable (e.g. if the market doesn’t have a street address). You'll also notice that the table has a large number of columns in it."
   ]
  },
  {
   "cell_type": "markdown",
   "metadata": {},
   "source": [
    "## `num_columns`\n",
    "\n",
    "The table property `num_columns` returns the number of columns in a table. (A \"property\" is just a method that doesn't need to be called by adding parentheses.)\n",
    "\n",
    "Example call: `<tbl>.num_columns`"
   ]
  },
  {
   "cell_type": "markdown",
   "metadata": {
    "deletable": false,
    "editable": false
   },
   "source": [
    "#### Question 3.2.\n",
    "Use `num_columns` to find the number of columns in our farmers' markets dataset.\n",
    "\n",
    "Assign the number of columns to `num_farmers_markets_columns`.\n"
   ]
  },
  {
   "cell_type": "code",
   "execution_count": null,
   "metadata": {
    "execution": {
     "iopub.execute_input": "2024-01-26T21:12:14.281938Z",
     "iopub.status.busy": "2024-01-26T21:12:14.281707Z",
     "iopub.status.idle": "2024-01-26T21:12:14.285594Z",
     "shell.execute_reply": "2024-01-26T21:12:14.284997Z"
    },
    "tags": []
   },
   "outputs": [],
   "source": [
    "num_farmers_markets_columns = ...\n",
    "print('The table has', num_farmers_markets_columns, 'columns in it.')"
   ]
  },
  {
   "cell_type": "code",
   "execution_count": null,
   "metadata": {
    "deletable": false,
    "editable": false
   },
   "outputs": [],
   "source": [
    "grader.check(\"q3_2\")"
   ]
  },
  {
   "cell_type": "markdown",
   "metadata": {},
   "source": [
    "## `num_rows`\n",
    "\n",
    "Similarly, the property `num_rows` tells you how many rows are in a table."
   ]
  },
  {
   "cell_type": "markdown",
   "metadata": {
    "deletable": false,
    "editable": false
   },
   "source": [
    "#### Question 3.3\n",
    "Assign the number of rows to `num_farmers_markets_rows`.\n"
   ]
  },
  {
   "cell_type": "code",
   "execution_count": null,
   "metadata": {
    "execution": {
     "iopub.execute_input": "2024-01-26T21:12:14.295342Z",
     "iopub.status.busy": "2024-01-26T21:12:14.295107Z",
     "iopub.status.idle": "2024-01-26T21:12:14.298861Z",
     "shell.execute_reply": "2024-01-26T21:12:14.298284Z"
    },
    "tags": []
   },
   "outputs": [],
   "source": [
    "num_farmers_markets_rows = ...\n",
    "print(\"The table has\", num_farmers_markets_rows, \"rows in it.\")"
   ]
  },
  {
   "cell_type": "code",
   "execution_count": null,
   "metadata": {
    "deletable": false,
    "editable": false
   },
   "outputs": [],
   "source": [
    "grader.check(\"q3_3\")"
   ]
  },
  {
   "cell_type": "markdown",
   "metadata": {},
   "source": [
    "## `select`\n",
    "Most of the columns are about particular products -- whether the market sells tofu, pet food, etc.  If we're not interested in that information, it just makes the table difficult to read.  This comes up more than you might think, because people who collect and publish data may not know ahead of time what people will want to do with it.\n",
    "\n",
    "In such situations, we can use the table method `select` to choose only the columns that we want in a particular table. It takes any number of arguments. Each should be the name of a column in the table. It returns a new table with only those columns in it. The columns are in the order in which they were listed as arguments.\n",
    "\n",
    "For example, the value of `farmers_markets.select(\"MarketName\", \"State\")` is a table with only the name and the state of each farmers' market in `farmers_markets`."
   ]
  },
  {
   "cell_type": "markdown",
   "metadata": {
    "deletable": false,
    "editable": false
   },
   "source": [
    "#### Question 3.4.\n",
    "Use `select` to create a table with only the name, city, state, latitude (`y`), and longitude (`x`) of each market.  Call that new table `farmers_markets_locations`.\n",
    "\n",
    "**Hint:** Make sure to be exact when using column names with `select`; double-check capitalization.\n"
   ]
  },
  {
   "cell_type": "code",
   "execution_count": null,
   "metadata": {
    "execution": {
     "iopub.execute_input": "2024-01-26T21:12:14.308475Z",
     "iopub.status.busy": "2024-01-26T21:12:14.308266Z",
     "iopub.status.idle": "2024-01-26T21:12:14.318627Z",
     "shell.execute_reply": "2024-01-26T21:12:14.318024Z"
    },
    "tags": []
   },
   "outputs": [],
   "source": [
    "farmers_markets_locations = ...\n",
    "farmers_markets_locations"
   ]
  },
  {
   "cell_type": "code",
   "execution_count": null,
   "metadata": {
    "deletable": false,
    "editable": false
   },
   "outputs": [],
   "source": [
    "grader.check(\"q3_4\")"
   ]
  },
  {
   "cell_type": "markdown",
   "metadata": {},
   "source": [
    "## `drop`\n",
    "\n",
    "`drop` serves the same purpose as `select`, but it takes away the columns that you provide rather than the ones that you don't provide. Like `select`, `drop` returns a new table."
   ]
  },
  {
   "cell_type": "markdown",
   "metadata": {
    "deletable": false,
    "editable": false
   },
   "source": [
    "#### Question 3.5.\n",
    "Suppose you just didn't want the `FMID` or `updateTime` columns in the original table named `farmers_markets`. Create a new table that's a copy of `farmers_markets` but doesn't include those columns. Call that table `farmers_markets_without_fmid`."
   ]
  },
  {
   "cell_type": "code",
   "execution_count": null,
   "metadata": {
    "execution": {
     "iopub.execute_input": "2024-01-26T21:12:14.385031Z",
     "iopub.status.busy": "2024-01-26T21:12:14.384787Z",
     "iopub.status.idle": "2024-01-26T21:12:14.441903Z",
     "shell.execute_reply": "2024-01-26T21:12:14.441161Z"
    },
    "tags": []
   },
   "outputs": [],
   "source": [
    "farmers_markets_without_fmid = ..."
   ]
  },
  {
   "cell_type": "code",
   "execution_count": null,
   "metadata": {
    "deletable": false,
    "editable": false
   },
   "outputs": [],
   "source": [
    "grader.check(\"q3_5\")"
   ]
  },
  {
   "cell_type": "markdown",
   "metadata": {},
   "source": [
    "## `sort`\n",
    "Now, suppose we want to answer some questions about farmers' markets in the US. For example, which market(s) have the largest longitude (given by the `x` column)? \n",
    "\n",
    "To answer this, we'll sort `farmers_markets_locations` by longitude.\n",
    "\n",
    "Run the cell below."
   ]
  },
  {
   "cell_type": "code",
   "execution_count": null,
   "metadata": {
    "execution": {
     "iopub.execute_input": "2024-01-26T21:12:14.485790Z",
     "iopub.status.busy": "2024-01-26T21:12:14.485549Z",
     "iopub.status.idle": "2024-01-26T21:12:14.497719Z",
     "shell.execute_reply": "2024-01-26T21:12:14.496933Z"
    }
   },
   "outputs": [],
   "source": [
    "farmers_markets_locations.sort('x')"
   ]
  },
  {
   "cell_type": "markdown",
   "metadata": {},
   "source": [
    "That didn't answer our question because we sorted from smallest (or in this case most negative) to largest (least negative) longitude. To look at the largest longitudes, we'll have to sort in reverse order."
   ]
  },
  {
   "cell_type": "markdown",
   "metadata": {
    "deletable": false,
    "editable": false
   },
   "source": [
    "#### Question 3.6.\n",
    "Sort the `farmers_markets_locations` table from **largest** (least negative) to **smallest** (most negative) longitude (value in the column labeled `x`). Call the new sorted table `farmers_markets_locations_by_longitude`. You can pass the `sort` method an *optional argument* of `descending=True`. This is called an *optional argument* because the sort function can be called without it, but in this case it's required to obtain the result we're looking for.\n",
    "\n",
    "The `sort` method has a default value of `False`, so you must explicitly tell the function `descending=True`, to sort in descending order.\n"
   ]
  },
  {
   "cell_type": "code",
   "execution_count": null,
   "metadata": {
    "execution": {
     "iopub.execute_input": "2024-01-26T21:12:14.500816Z",
     "iopub.status.busy": "2024-01-26T21:12:14.500587Z",
     "iopub.status.idle": "2024-01-26T21:12:14.512825Z",
     "shell.execute_reply": "2024-01-26T21:12:14.512043Z"
    },
    "tags": []
   },
   "outputs": [],
   "source": [
    "farmers_markets_locations_by_longitude = ...\n",
    "farmers_markets_locations_by_longitude"
   ]
  },
  {
   "cell_type": "code",
   "execution_count": null,
   "metadata": {
    "deletable": false,
    "editable": false
   },
   "outputs": [],
   "source": [
    "grader.check(\"q3_6\")"
   ]
  },
  {
   "cell_type": "markdown",
   "metadata": {},
   "source": [
    "Some details about sort\n",
    "\n",
    "1. The first argument to `sort` is the name of a column to sort by.\n",
    "2. If the column has text in it, `sort` will sort alphabetically; if the column has numbers, it will sort numerically.\n",
    "3. The value of `farmers_markets_locations.sort(\"x\")` is a *copy* of `farmers_markets_locations`; the `farmers_markets_locations` table doesn't get modified. For example, if we called `farmers_markets_locations.sort(\"x\")`, then running `farmers_markets_locations` by itself would still return the unsorted table.\n",
    "4. Rows always stick together when a table is sorted.  It wouldn't make sense to sort just one column and leave the other columns alone.  For example, in this case, if we sorted just the `x` column, the farmers' markets would all end up with the wrong longitudes."
   ]
  },
  {
   "cell_type": "markdown",
   "metadata": {
    "deletable": false,
    "editable": false
   },
   "source": [
    "#### Question 3.7.\n",
    "Create a version of `farmers_markets_locations` that's sorted by **latitude (`y`)**, with the largest latitudes first.  Call it `farmers_markets_locations_by_latitude`.\n"
   ]
  },
  {
   "cell_type": "code",
   "execution_count": null,
   "metadata": {
    "execution": {
     "iopub.execute_input": "2024-01-26T21:12:14.525019Z",
     "iopub.status.busy": "2024-01-26T21:12:14.524802Z",
     "iopub.status.idle": "2024-01-26T21:12:14.537397Z",
     "shell.execute_reply": "2024-01-26T21:12:14.536519Z"
    },
    "tags": []
   },
   "outputs": [],
   "source": [
    "farmers_markets_locations_by_latitude = ...\n",
    "farmers_markets_locations_by_latitude"
   ]
  },
  {
   "cell_type": "code",
   "execution_count": null,
   "metadata": {
    "deletable": false,
    "editable": false
   },
   "outputs": [],
   "source": [
    "grader.check(\"q3_7\")"
   ]
  },
  {
   "cell_type": "markdown",
   "metadata": {},
   "source": [
    "Now let's say we want a table of all farmers' markets in North Carolina. Sorting won't help us much here because North Carolina is closer to the middle of the dataset.\n",
    "\n",
    "Instead, we use the table method `where`. Look at the [documentation](http://data8.org/datascience/) to see how to use `where`.\n",
    "\n",
    "Run the following cell:"
   ]
  },
  {
   "cell_type": "code",
   "execution_count": null,
   "metadata": {
    "execution": {
     "iopub.execute_input": "2024-01-26T21:12:14.576864Z",
     "iopub.status.busy": "2024-01-26T21:12:14.576553Z",
     "iopub.status.idle": "2024-01-26T21:12:14.592710Z",
     "shell.execute_reply": "2024-01-26T21:12:14.591827Z"
    }
   },
   "outputs": [],
   "source": [
    "nc_farmers_markets = farmers_markets_locations.where('State', are.equal_to('North Carolina'))\n",
    "nc_farmers_markets"
   ]
  },
  {
   "cell_type": "markdown",
   "metadata": {},
   "source": [
    "Ignore the syntax for the moment.  Instead, try to read that line like this:\n",
    "\n",
    "> Assign the name **`nc_farmers_markets`** to a table whose rows are the rows in the **`farmers_markets_locations`** table **`where`** the **`'State'`**s `are` `equal` `to` `North Carolina`.\n",
    "\n",
    "Now let's dive into the details a bit more.\n",
    "\n",
    "`where` takes 2 arguments\n",
    "\n",
    "1. The name of a column.  `where` finds rows where that column's values meet some criterion.\n",
    "2. A predicate that describes the criterion that the column needs to meet. If you don't provide a predicate, `where` will assume a predicate of `are.equal_to`.\n",
    "\n",
    "The predicate in the example above called the function `are.equal_to` with the value we wanted, `'North Carolina'`.  We'll see other predicates soon.\n",
    "\n",
    "`where` returns a table that's a copy of the original table, but **with only the rows that meet the given predicate**."
   ]
  },
  {
   "cell_type": "markdown",
   "metadata": {
    "deletable": false,
    "editable": false
   },
   "source": [
    "#### Question 3.8.\n",
    "Use `nc_farmers_markets` to create a table called `morganton_farmers_markets` containing farmers' markets in Morganton, North Caorlina.\n"
   ]
  },
  {
   "cell_type": "code",
   "execution_count": null,
   "metadata": {
    "execution": {
     "iopub.execute_input": "2024-01-26T21:12:14.596168Z",
     "iopub.status.busy": "2024-01-26T21:12:14.595638Z",
     "iopub.status.idle": "2024-01-26T21:12:14.601493Z",
     "shell.execute_reply": "2024-01-26T21:12:14.600678Z"
    },
    "tags": []
   },
   "outputs": [],
   "source": [
    "morganton_farmers_markets = ...\n",
    "morganton_farmers_markets"
   ]
  },
  {
   "cell_type": "code",
   "execution_count": null,
   "metadata": {
    "deletable": false,
    "editable": false
   },
   "outputs": [],
   "source": [
    "grader.check(\"q3_8\")"
   ]
  },
  {
   "cell_type": "markdown",
   "metadata": {},
   "source": [
    "So far we've only been using `where` with the predicate that requires finding the values in a column to be *exactly* equal to a certain value. However, there are many other predicates. Here are a few:\n",
    "\n",
    "|Predicate|Example|Result|\n",
    "|-|-|-|\n",
    "|`are.equal_to`|`are.equal_to(50)`|Find rows with values equal to 50|\n",
    "|`are.not_equal_to`|`are.not_equal_to(50)`|Find rows with values not equal to 50|\n",
    "|`are.above`|`are.above(50)`|Find rows with values above (and not equal to) 50|\n",
    "|`are.above_or_equal_to`|`are.above_or_equal_to(50)`|Find rows with values above 50 or equal to 50|\n",
    "|`are.below`|`are.below(50)`|Find rows with values below 50|\n",
    "|`are.between`|`are.between(2, 10)`|Find rows with values above or equal to 2 and below 10|\n",
    "|`are.containing` | `are.containing('Durham')` | Contains the string 'Durham' |\n",
    "\n",
    "A full list of predicates can be found at: http://data8.org/sp21/python-reference.html. Note that any predicate can be negated by adding `not_` in front of them, e.g. `are.not_above` or `are.not_containing`."
   ]
  },
  {
   "cell_type": "markdown",
   "metadata": {},
   "source": [
    "## 4. Analyzing a dataset\n",
    "Now that you're familiar with table operations, let’s answer some interesting questions about a dataset. \n",
    "\n",
    "The website Internet Movie Database (IMDb) keeps a ranks the top 250 movies of all time based on the votes from IMDb users. The website uses an algorithm that combines the value of the rating (on a 1-10 scale) and the number of votes it receives to determine the ranking.\n",
    "\n",
    "Run the cell below to load the `imdb` table. It contains information about the 250 highest-rated movies on IMDb, listed in random order. This list is from 2021, so it will not contain movies released after 2021."
   ]
  },
  {
   "cell_type": "code",
   "execution_count": null,
   "metadata": {
    "execution": {
     "iopub.execute_input": "2024-01-26T21:12:14.620367Z",
     "iopub.status.busy": "2024-01-26T21:12:14.620151Z",
     "iopub.status.idle": "2024-01-26T21:12:14.631769Z",
     "shell.execute_reply": "2024-01-26T21:12:14.631022Z"
    }
   },
   "outputs": [],
   "source": [
    "imdb = Table.read_table('imdb.csv')\n",
    "imdb"
   ]
  },
  {
   "cell_type": "markdown",
   "metadata": {},
   "source": [
    "Often, we want to perform multiple operations - sorting, filtering, or others - in order to turn a table we have into something more useful. You can do these operations one by one, e.g.\n",
    "\n",
    "```\n",
    "first_step = original_tbl.where(“col1”, are.equal_to(12))\n",
    "second_step = first_step.sort(‘col2’, descending=True)\n",
    "```\n",
    "\n",
    "However, since the value of the expression `original_tbl.where(“col1”, are.equal_to(12))` is itself a table, you can just call a table method on it:\n",
    "\n",
    "```\n",
    "original_tbl.where(“col1”, are.equal_to(12)).sort(‘col2’, descending=True)\n",
    "```\n",
    "You should organize your work in the way that makes the most sense to you, using informative names for any intermediate tables you create."
   ]
  },
  {
   "cell_type": "markdown",
   "metadata": {
    "deletable": false,
    "editable": false
   },
   "source": [
    "#### Question 4.1.\n",
    "Create a table of movies released between 2010 and 2020 (inclusive) with ratings above 8. The table should only contain the columns `Title` and `Rating`, **in that order**\n",
    "\n",
    "Assign the table to the name `above_eight`.\n",
    "\n",
    "*Hint:* Think about the steps you need to take, and try to put them in an order that make sense. Feel free to create intermediate tables for each step, but please make sure you assign your final table the name `above_eight`!"
   ]
  },
  {
   "cell_type": "code",
   "execution_count": null,
   "metadata": {
    "execution": {
     "iopub.execute_input": "2024-01-26T21:12:14.635083Z",
     "iopub.status.busy": "2024-01-26T21:12:14.634648Z",
     "iopub.status.idle": "2024-01-26T21:12:14.642437Z",
     "shell.execute_reply": "2024-01-26T21:12:14.641721Z"
    },
    "tags": []
   },
   "outputs": [],
   "source": [
    "above_eight = ...\n",
    "above_eight"
   ]
  },
  {
   "cell_type": "code",
   "execution_count": null,
   "metadata": {
    "deletable": false,
    "editable": false
   },
   "outputs": [],
   "source": [
    "grader.check(\"q4_1\")"
   ]
  },
  {
   "cell_type": "markdown",
   "metadata": {
    "deletable": false,
    "editable": false
   },
   "source": [
    "#### Question 4.2.\n",
    "Use `num_rows` (and arithmetic) to find the *proportion* of movies in the dataset that were released 1900-1999, and the *proportion* of movies in the dataset that were released in the year 2000 or later.\n",
    "\n",
    "Assign `proportion_in_20th_century` to the proportion of movies in the dataset that were released 1900-1999, and `proportion_in_21st_century` to the proportion of movies in the dataset that were released in the year 2000 or later.\n",
    "\n",
    "**Hint:** The *proportion* of movies released in the 1900's is the *number* of movies released in the 1900's, divided by the *total number* of movies.\n"
   ]
  },
  {
   "cell_type": "code",
   "execution_count": null,
   "metadata": {
    "execution": {
     "iopub.execute_input": "2024-01-26T21:12:14.694440Z",
     "iopub.status.busy": "2024-01-26T21:12:14.694218Z",
     "iopub.status.idle": "2024-01-26T21:12:14.700751Z",
     "shell.execute_reply": "2024-01-26T21:12:14.700077Z"
    },
    "tags": []
   },
   "outputs": [],
   "source": [
    "proportion_in_20th_century = ...\n",
    "proportion_in_21st_century = ...\n",
    "print('20th Century: ', proportion_in_20th_century)\n",
    "print('21st Century: ', proportion_in_21st_century)"
   ]
  },
  {
   "cell_type": "code",
   "execution_count": null,
   "metadata": {
    "deletable": false,
    "editable": false
   },
   "outputs": [],
   "source": [
    "grader.check(\"q4_2\")"
   ]
  },
  {
   "cell_type": "markdown",
   "metadata": {},
   "source": [
    "# Submitting your work\n",
    "You're done with this assignment! Assignments should be turned in using the following best practices:\n",
    "1. Save your notebook.\n",
    "2. Restart the kernel and run all cells up to this one.\n",
    "3. Run the cell below with the code `grader.export(...)`. This will re-run all the tests. Make sure they are passing as you expect them to.\n",
    "4. Download the file named `lab02_<date-time-stamp>.zip`, found in the explorer pane on the left side of the screen. **Note**: Clicking on the link in this notebook may result in an error, it's best to download from the file explorer panel.\n",
    "5. Upload `lab02_<date-time-stamp>.zip` to the corresponding assignment on Canvas."
   ]
  },
  {
   "cell_type": "markdown",
   "metadata": {
    "deletable": false,
    "editable": false
   },
   "source": [
    "## Submission\n",
    "\n",
    "Make sure you have run all cells in your notebook in order before running the cell below, so that all images/graphs appear in the output. The cell below will generate a zip file for you to submit.\n",
    "\n",
    "When done exporting, download the .zip file by pressing `SHIFT` on your keyboard and then right-clicking on the generated link and selecting **Save Link As**. Or, find the `.zip` file in the left side of the screen and right-click and select **Download**. You'll submit this `.zip` file for the assignment in Canvas to Gradescope for grading."
   ]
  },
  {
   "cell_type": "code",
   "execution_count": null,
   "metadata": {
    "deletable": false,
    "editable": false
   },
   "outputs": [],
   "source": [
    "grader.export(pdf=False, force_save=True)"
   ]
  },
  {
   "cell_type": "markdown",
   "metadata": {},
   "source": [
    " "
   ]
  }
 ],
 "metadata": {
  "kernelspec": {
   "display_name": "Python 3 (ipykernel)",
   "language": "python",
   "name": "python3"
  },
  "language_info": {
   "codemirror_mode": {
    "name": "ipython",
    "version": 3
   },
   "file_extension": ".py",
   "mimetype": "text/x-python",
   "name": "python",
   "nbconvert_exporter": "python",
   "pygments_lexer": "ipython3",
   "version": "3.11.5"
  },
  "otter": {
   "OK_FORMAT": true,
   "tests": {
    "q1_1": {
     "name": "q1_1",
     "points": null,
     "suites": [
      {
       "cases": [
        {
         "code": ">>> new_year != ...\nTrue",
         "failure_message": "❌ It looks like you didn't replace the ... with a value or expression",
         "hidden": false,
         "locked": false,
         "points": 0,
         "success_message": "✅ You assigned a value to the variable named new_year"
        },
        {
         "code": ">>> new_year != 2016\nTrue",
         "failure_message": "❌ You've assigned the smaller of the two values",
         "hidden": false,
         "locked": false,
         "points": 0.5,
         "success_message": "✅ You correctly did not assign the the smaller value to the variable named new_year"
        },
        {
         "code": ">>> new_year == 2023\nTrue",
         "failure_message": "❌ You did not assign the correct value to the variable named new_year",
         "hidden": false,
         "locked": false,
         "points": 0.5,
         "success_message": "✅ You correctly assigned the larger value to the variable named new_year"
        }
       ],
       "scored": true,
       "setup": "",
       "teardown": "",
       "type": "doctest"
      }
     ]
    },
    "q2_1": {
     "name": "q2_1",
     "points": null,
     "suites": [
      {
       "cases": [
        {
         "code": ">>> near_twenty == math.e ** math.pi - math.pi\nTrue",
         "failure_message": "❌ You did assign the correct value. Check your operators and order of operations",
         "hidden": false,
         "locked": false,
         "points": 1,
         "success_message": "✅ You assigned the correct value."
        }
       ],
       "scored": true,
       "setup": "",
       "teardown": "",
       "type": "doctest"
      }
     ]
    },
    "q2_1_1": {
     "name": "q2_1_1",
     "points": null,
     "suites": [
      {
       "cases": [
        {
         "code": ">>> sine_of_pi_over_four == math.sin(math.pi / 4)\nTrue",
         "failure_message": "❌ You did assign the correct value. Check your operators and order of operations",
         "hidden": false,
         "locked": false,
         "points": 1,
         "success_message": "✅ You assigned the correct value."
        }
       ],
       "scored": true,
       "setup": "",
       "teardown": "",
       "type": "doctest"
      }
     ]
    },
    "q3_2": {
     "name": "q3_2",
     "points": null,
     "suites": [
      {
       "cases": [
        {
         "code": ">>> num_farmers_markets_columns\n59",
         "failure_message": "❌ You computed the incorrect number of columns in the table",
         "hidden": false,
         "locked": false,
         "points": 1,
         "success_message": "✅ You correctly computed the number of columns in the table"
        }
       ],
       "scored": true,
       "setup": "",
       "teardown": "",
       "type": "doctest"
      }
     ]
    },
    "q3_3": {
     "name": "q3_3",
     "points": null,
     "suites": [
      {
       "cases": [
        {
         "code": ">>> num_farmers_markets_rows\n8546",
         "failure_message": "❌ You computed the incorrect number of rows in the table",
         "hidden": false,
         "locked": false,
         "points": 1,
         "success_message": "✅ You correctly computed the number of rows in the table"
        }
       ],
       "scored": true,
       "setup": "",
       "teardown": "",
       "type": "doctest"
      }
     ]
    },
    "q3_4": {
     "name": "q3_4",
     "points": null,
     "suites": [
      {
       "cases": [
        {
         "code": ">>> farmers_markets_locations.num_columns\n5",
         "failure_message": "❌ Your new table has the incorrect number of columns. Double check you've selected the correct columns!",
         "hidden": false,
         "locked": false,
         "points": 0.25,
         "success_message": "✅ Your new table has the correct number of columns"
        },
        {
         "code": ">>> farmers_markets_locations.num_rows\n8546",
         "failure_message": "❌ Your new table has an incorrect number of rows. Double check you haven't removed any by accident!",
         "hidden": false,
         "locked": false,
         "points": 0.25,
         "success_message": "✅ Your new table has the correct number of rows (the same as it had before)."
        },
        {
         "code": ">>> sorted(farmers_markets_locations.labels)\n['MarketName', 'State', 'city', 'x', 'y']",
         "failure_message": "❌ Your new table has columns with incorrect labels. Double check you've selected the correct columns!",
         "hidden": false,
         "locked": false,
         "points": 0.5,
         "success_message": "✅ Your new table has columns with the correct labels"
        }
       ],
       "scored": true,
       "setup": "",
       "teardown": "",
       "type": "doctest"
      }
     ]
    },
    "q3_5": {
     "name": "q3_5",
     "points": null,
     "suites": [
      {
       "cases": [
        {
         "code": ">>> farmers_markets_without_fmid.num_columns\n57",
         "failure_message": "❌ Your new table has an incorrect number of columns. Double check you've only removed the correct columns",
         "hidden": false,
         "locked": false,
         "points": 0.5,
         "success_message": "✅ Your new table has the correct number of columns."
        },
        {
         "code": ">>> sorted(farmers_markets_without_fmid.labels) == ['Bakedgoods', 'Beans', 'Cheese', 'Coffee', 'County', 'Crafts', 'Credit', 'Eggs', 'Facebook', 'Flowers', 'Fruits', 'Grains', 'Herbs', 'Honey', 'Jams', 'Juices', 'Location', 'Maple', 'MarketName', 'Meat', 'Mushrooms', 'Nursery', 'Nuts', 'Organic', 'OtherMedia', 'PetFood', 'Plants', 'Poultry', 'Prepared', 'SFMNP', 'SNAP', 'Seafood', 'Season1Date', 'Season1Time', 'Season2Date', 'Season2Time', 'Season3Date', 'Season3Time', 'Season4Date', 'Season4Time', 'Soap', 'State', 'Tofu', 'Trees', 'Twitter', 'Vegetables', 'WIC', 'WICcash', 'Website', 'WildHarvested', 'Wine', 'Youtube', 'city', 'street', 'x', 'y', 'zip']\nTrue",
         "failure_message": "❌ Your new table has columns with incorrect labels. Double check you've dropped the correct columns.",
         "hidden": false,
         "locked": false,
         "points": 0.5,
         "success_message": "✅ Your new table has columns with the correct labels"
        }
       ],
       "scored": true,
       "setup": "",
       "teardown": "",
       "type": "doctest"
      }
     ]
    },
    "q3_6": {
     "name": "q3_6",
     "points": null,
     "suites": [
      {
       "cases": [
        {
         "code": ">>> list(farmers_markets_locations_by_longitude.column('x').take(range(0, len(farmers_markets_locations_by_longitude.column('x')), 1000))) == [-64.7043, -73.80546600000002, -77.0703, -81.5906, -85.2972, -89.3175, -94.3441, -108.771429, -122.221699]\nTrue",
         "failure_message": "❌ Your new table is incorrectly sorted by column x.",
         "hidden": false,
         "locked": false,
         "points": 1,
         "success_message": "✅ Your new table is correctly sorted by column x."
        }
       ],
       "scored": true,
       "setup": "",
       "teardown": "",
       "type": "doctest"
      }
     ]
    },
    "q3_7": {
     "name": "q3_7",
     "points": null,
     "suites": [
      {
       "cases": [
        {
         "code": ">>> list(farmers_markets_locations_by_latitude.column('y').take(range(0, len(farmers_markets_locations_by_latitude.column('y')), 1000))) == [64.86275, 44.293309, 42.6029, 41.626768, 40.5442, 39.04631320000001, 37.4604, 34.6977582, 30.579786]\nTrue",
         "failure_message": "❌ Your new table is incorrectly sorted by column y. Double check you are sorting correctly (ascending or descending).",
         "hidden": false,
         "locked": false,
         "points": 1,
         "success_message": "✅ Your new table is correctly sorted by column y."
        }
       ],
       "scored": true,
       "setup": "",
       "teardown": "",
       "type": "doctest"
      }
     ]
    },
    "q3_8": {
     "name": "q3_8",
     "points": null,
     "suites": [
      {
       "cases": [
        {
         "code": ">>> morganton_farmers_markets.num_rows\n2",
         "failure_message": "❌ Your new table has an incorrect number of rows. Double check you've filtered down using the correct city (capitalization counts!).",
         "hidden": false,
         "locked": false,
         "points": 0.5,
         "success_message": "✅ Your new table has the correct number of rows."
        },
        {
         "code": ">>> list(morganton_farmers_markets['city'])\n['Morganton', 'Morganton']",
         "failure_message": "❌ Your new table has at least one incorrect city in the City column.",
         "hidden": false,
         "locked": false,
         "points": 0.5,
         "success_message": "✅ Your new table has the correct city in the City column."
        }
       ],
       "scored": true,
       "setup": "",
       "teardown": "",
       "type": "doctest"
      }
     ]
    },
    "q4_1": {
     "name": "q4_1",
     "points": null,
     "suites": [
      {
       "cases": [
        {
         "code": ">>> above_eight.num_rows\n48",
         "failure_message": "❌ Your new table does not have the correct number of rows. Make sure you're including movies released in the last year of the range!",
         "hidden": false,
         "locked": false,
         "points": 0.25,
         "success_message": "✅ Your new table has the correct number of rows."
        },
        {
         "code": ">>> above_eight.labels\n('Title', 'Rating')",
         "failure_message": "❌ Your new table does not have the correct columns. Make sure they are in the correct order!",
         "hidden": false,
         "locked": false,
         "points": 0.25,
         "success_message": "✅ Your new table has the correct columns."
        },
        {
         "code": ">>> sorted(above_eight.column('Title')) == ['12 Years a Slave', '1917', 'A Separation', 'A Silent Voice: The Movie', 'Andhadhun', 'Avengers: Endgame', 'Avengers: Infinity War', 'Capernaum', 'Coco', 'Dangal', 'Django Unchained', 'Ford v Ferrari', 'Gangs of Wasseypur', 'Gone Girl', 'Green Book', 'Hacksaw Ridge', 'Hamilton', 'Harry Potter and the Deathly Hallows: Part 2', 'How to Train Your Dragon', 'Incendies', 'Inception', 'Inside Out', 'Interstellar', 'Joker', 'Klaus', 'Logan', 'Mad Max: Fury Road', 'Parasite', 'Prisoners', 'Raatchasan', 'Room', 'Rush', 'Shutter Island', 'Spider-Man: Into the Spider-Verse', 'Spotlight', 'The Dark Knight Rises', 'The Father', 'The Grand Budapest Hotel', 'The Handmaiden', 'The Hunt', 'The Intouchables', 'The Wolf of Wall Street', 'Three Billboards Outside Ebbing, Missouri', 'Toy Story 3', 'Warrior', 'Whiplash', 'Wild Tales', 'Your Name.']\nTrue",
         "failure_message": "❌ Your new table does not have the correct number of rows. Make sure you're including movies released in the last year of the range!",
         "hidden": false,
         "locked": false,
         "points": 0.5,
         "success_message": "✅ Your new table has the correct number of rows."
        }
       ],
       "scored": true,
       "setup": "",
       "teardown": "",
       "type": "doctest"
      }
     ]
    },
    "q4_2": {
     "name": "q4_2",
     "points": null,
     "suites": [
      {
       "cases": [
        {
         "code": ">>> proportion_in_20th_century\n0.608",
         "failure_message": "❌ You incorrectly calculated the proportion in the 20th century. Double check you are not including the year 2000, and no movies prior to 1900.",
         "hidden": false,
         "locked": false,
         "points": 0.5,
         "success_message": "✅ You correctly calculated the proportion in the 20th century."
        },
        {
         "code": ">>> proportion_in_21st_century\n0.392",
         "failure_message": "❌ You incorrectly calculated the proportion in the 21st century. Double check you are including the year 2000!",
         "hidden": false,
         "locked": false,
         "points": 0.5,
         "success_message": "✅ You correctly calculated the proportion in the 21st century."
        }
       ],
       "scored": true,
       "setup": "",
       "teardown": "",
       "type": "doctest"
      }
     ]
    }
   }
  }
 },
 "nbformat": 4,
 "nbformat_minor": 4
}
