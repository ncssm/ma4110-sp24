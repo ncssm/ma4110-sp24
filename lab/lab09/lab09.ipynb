{
 "cells": [
  {
   "cell_type": "code",
   "execution_count": null,
   "metadata": {
    "deletable": false,
    "editable": false
   },
   "outputs": [],
   "source": [
    "# Initialize Otter\n",
    "import otter\n",
    "grader = otter.Notebook(\"lab09.ipynb\")"
   ]
  },
  {
   "cell_type": "markdown",
   "metadata": {},
   "source": [
    "# Lab 09: Regression\n",
    "\n",
    "Welcome to Lab 9.\n",
    "\n",
    "Today we will get some hands-on practice with linear regression. You can find more information about this topic in the textbook section entitled [The Regression Line](https://www.inferentialthinking.com/chapters/15/2/Regression_Line.html#the-regression-line)."
   ]
  },
  {
   "cell_type": "code",
   "execution_count": null,
   "metadata": {
    "execution": {
     "iopub.execute_input": "2024-01-26T21:13:40.341843Z",
     "iopub.status.busy": "2024-01-26T21:13:40.341612Z",
     "iopub.status.idle": "2024-01-26T21:13:42.134479Z",
     "shell.execute_reply": "2024-01-26T21:13:42.133708Z"
    }
   },
   "outputs": [],
   "source": [
    "# Run this cell, but please don't change it.\n",
    "\n",
    "# These lines import the Numpy and Datascience modules.\n",
    "import numpy as np\n",
    "from datascience import *\n",
    "\n",
    "# These lines do some fancy plotting.\n",
    "import matplotlib\n",
    "%matplotlib inline\n",
    "import matplotlib.pyplot as plots\n",
    "plots.style.use('fivethirtyeight')"
   ]
  },
  {
   "cell_type": "markdown",
   "metadata": {},
   "source": [
    "## 1. How Faithful is Old Faithful? \n",
    "\n",
    "Old Faithful is a geyser in Yellowstone National Park that is famous for eruption on a fairly regular schedule. Run the cell below to see Old Faithful in action."
   ]
  },
  {
   "cell_type": "code",
   "execution_count": null,
   "metadata": {
    "execution": {
     "iopub.execute_input": "2024-01-26T21:13:42.138527Z",
     "iopub.status.busy": "2024-01-26T21:13:42.138074Z",
     "iopub.status.idle": "2024-01-26T21:13:42.201695Z",
     "shell.execute_reply": "2024-01-26T21:13:42.200804Z"
    }
   },
   "outputs": [],
   "source": [
    "# For the curious: this is how to display a YouTube video in a\n",
    "# Jupyter notebook.  The argument to YouTubeVideo is the part\n",
    "# of the URL (called a \"query parameter\") that identifies the\n",
    "# video.  For example, the full URL for this video is:\n",
    "#   https://www.youtube.com/watch?v=wE8NDuzt8eg\n",
    "from IPython.display import YouTubeVideo\n",
    "YouTubeVideo(\"wE8NDuzt8eg\")"
   ]
  },
  {
   "cell_type": "markdown",
   "metadata": {},
   "source": [
    "Some of Old Faithful's eruptions last longer than others.  Whenever there is a long eruption, it is usually followed by an even longer wait before the next eruption. If you visit Yellowstone, you might want to predict when the next eruption will happen, so that you can see the rest of the park instead of waiting by the geyser.\n",
    " \n",
    "Today, we will use a dataset on eruption durations and waiting times to see if we can make such predictions accurately with linear regression.\n",
    "\n",
    "The dataset has one row for each observed eruption.  It includes the following columns:\n",
    "- `duration`: Eruption duration, in minutes\n",
    "- `wait`: Time between this eruption and the next, also in minutes\n",
    "\n",
    "Run the next cell to load the dataset."
   ]
  },
  {
   "cell_type": "code",
   "execution_count": null,
   "metadata": {
    "execution": {
     "iopub.execute_input": "2024-01-26T21:13:42.246042Z",
     "iopub.status.busy": "2024-01-26T21:13:42.245741Z",
     "iopub.status.idle": "2024-01-26T21:13:42.255466Z",
     "shell.execute_reply": "2024-01-26T21:13:42.254638Z"
    }
   },
   "outputs": [],
   "source": [
    "faithful = Table.read_table('faithful.csv')\n",
    "faithful"
   ]
  },
  {
   "cell_type": "markdown",
   "metadata": {},
   "source": [
    "We would like to use linear regression to make predictions, but that won't work well if the data aren't roughly linearly related.  To check that, we should look at the data."
   ]
  },
  {
   "cell_type": "markdown",
   "metadata": {
    "deletable": false,
    "editable": false
   },
   "source": [
    "<!-- BEGIN QUESTION -->\n",
    "\n",
    "### Question 1.1.\n",
    "\n",
    "Make a scatter plot of the data.  It's conventional to put the column we want to predict on the vertical axis and the other column on the horizontal axis.\n"
   ]
  },
  {
   "cell_type": "code",
   "execution_count": null,
   "metadata": {
    "execution": {
     "iopub.execute_input": "2024-01-26T21:13:42.259020Z",
     "iopub.status.busy": "2024-01-26T21:13:42.258439Z",
     "iopub.status.idle": "2024-01-26T21:13:42.547097Z",
     "shell.execute_reply": "2024-01-26T21:13:42.546309Z"
    },
    "tags": []
   },
   "outputs": [],
   "source": [
    "..."
   ]
  },
  {
   "cell_type": "markdown",
   "metadata": {
    "deletable": false,
    "editable": false
   },
   "source": [
    "<!-- END QUESTION -->\n",
    "\n",
    "<!-- BEGIN QUESTION -->\n",
    "\n",
    "### Question 1.2.\n",
    "Are eruption duration and waiting time roughly linearly related based on the scatter plot above? How could you describe the relationship between duration and wait time? Be specific and use appropriate vocabulary in your response."
   ]
  },
  {
   "cell_type": "markdown",
   "metadata": {},
   "source": [
    "_Type your answer here, replacing this text._"
   ]
  },
  {
   "cell_type": "markdown",
   "metadata": {
    "deletable": false,
    "editable": false
   },
   "source": [
    "<!-- END QUESTION -->\n",
    "\n",
    "We're going to continue with the assumption that they are linearly related, so it's reasonable to use linear regression to analyze this data.\n",
    "\n",
    "We'd next like to plot the data in standard units. If you don't remember the definition of standard units, reviewing the textbook section entitled [Variability](https://www.inferentialthinking.com/chapters/14/2/Variability.html#standard-units) might help."
   ]
  },
  {
   "cell_type": "markdown",
   "metadata": {
    "deletable": false,
    "editable": false
   },
   "source": [
    "### Question 1.3.\n",
    "Compute the mean and standard deviation of the eruption durations and waiting times and assign them to `duration_mean`, `duration_std`, `wait_mean`, and `wait_std` respectively. Then, use these values to compute the arrays `duration_su` and `wait_su` which contain the eruption durations and waiting times in standard units.\n",
    "\n",
    "The provided code will create a Table called `faithful_standard` containing the eruption durations and waiting times in standard units based off of the values in `duration_su` and `wait_su`. The columns will be named `duration (standard units)` and `wait (standard units)`."
   ]
  },
  {
   "cell_type": "code",
   "execution_count": null,
   "metadata": {
    "execution": {
     "iopub.execute_input": "2024-01-26T21:13:42.551089Z",
     "iopub.status.busy": "2024-01-26T21:13:42.550841Z",
     "iopub.status.idle": "2024-01-26T21:13:42.559324Z",
     "shell.execute_reply": "2024-01-26T21:13:42.558352Z"
    },
    "tags": []
   },
   "outputs": [],
   "source": [
    "duration_mean = ...\n",
    "duration_std = ...\n",
    "wait_mean = ...\n",
    "wait_std = ...\n",
    "duration_su = ...\n",
    "wait_su = ...\n",
    "\n",
    "faithful_standard = Table().with_columns(\n",
    "    \"duration (standard units)\", duration_su\n",
    "    \"wait (standard units)\", wait_su\n",
    "faithful_standard"
   ]
  },
  {
   "cell_type": "code",
   "execution_count": null,
   "metadata": {
    "deletable": false,
    "editable": false
   },
   "outputs": [],
   "source": [
    "grader.check(\"q1_3\")"
   ]
  },
  {
   "cell_type": "markdown",
   "metadata": {
    "deletable": false,
    "editable": false
   },
   "source": [
    "<!-- BEGIN QUESTION -->\n",
    "\n",
    "### Question 1.4.\n",
    "Plot the data again, but this time in standard units.\n"
   ]
  },
  {
   "cell_type": "code",
   "execution_count": null,
   "metadata": {
    "execution": {
     "iopub.execute_input": "2024-01-26T21:13:42.610648Z",
     "iopub.status.busy": "2024-01-26T21:13:42.610433Z",
     "iopub.status.idle": "2024-01-26T21:13:42.908937Z",
     "shell.execute_reply": "2024-01-26T21:13:42.908138Z"
    },
    "tags": []
   },
   "outputs": [],
   "source": [
    "..."
   ]
  },
  {
   "cell_type": "markdown",
   "metadata": {
    "deletable": false,
    "editable": false
   },
   "source": [
    "<!-- END QUESTION -->\n",
    "\n",
    "You'll notice that this plot looks the same as the last one!  However, the data and axes are scaled differently.  It's always important to read the ticks on the axes to ensure you know what units you are working in."
   ]
  },
  {
   "cell_type": "markdown",
   "metadata": {
    "deletable": false,
    "editable": false
   },
   "source": [
    "### Question 1.5.\n",
    "\n",
    "Estimate the value of the correlation coefficient `r` using the scatterplot above. Then, compute the exact value and assign it to the variable `r`.\n",
    "\n",
    "**Hint:** Use the `faithful_standard` table in your calculation. The section in the textbook entitled [Correlation](https://www.inferentialthinking.com/chapters/15/1/Correlation.html#calculating-r) could be helpful if you need some guidance."
   ]
  },
  {
   "cell_type": "code",
   "execution_count": null,
   "metadata": {
    "execution": {
     "iopub.execute_input": "2024-01-26T21:13:42.912691Z",
     "iopub.status.busy": "2024-01-26T21:13:42.912436Z",
     "iopub.status.idle": "2024-01-26T21:13:42.917875Z",
     "shell.execute_reply": "2024-01-26T21:13:42.917156Z"
    },
    "tags": []
   },
   "outputs": [],
   "source": [
    "r = ...\n",
    "r"
   ]
  },
  {
   "cell_type": "code",
   "execution_count": null,
   "metadata": {
    "deletable": false,
    "editable": false
   },
   "outputs": [],
   "source": [
    "grader.check(\"q1_5\")"
   ]
  },
  {
   "cell_type": "markdown",
   "metadata": {},
   "source": [
    "## 2. The Regression Line\n",
    "Recall that the value of the correlation coefficient is equal to the slope of the regression line when the data are put in standard units.\n",
    "\n",
    "The next cell uses a custom function to plot the regression line:\n",
    "\n",
    "$$\\text{waiting time in standard units} = r \\times \\text{eruption duration in standard units}.$$\n",
    "\n",
    "in standard units using your computed value for `r` as the slope. Then, it plots the data in standard units again, for comparison."
   ]
  },
  {
   "cell_type": "code",
   "execution_count": null,
   "metadata": {
    "execution": {
     "iopub.execute_input": "2024-01-26T21:13:42.928915Z",
     "iopub.status.busy": "2024-01-26T21:13:42.928681Z",
     "iopub.status.idle": "2024-01-26T21:13:43.259953Z",
     "shell.execute_reply": "2024-01-26T21:13:43.259194Z"
    }
   },
   "outputs": [],
   "source": [
    "def plot_data_and_line(dataset, x, y, point_0, point_1):\n",
    "    \"\"\"Makes a scatter plot of the dataset, along with a line passing through two points.\"\"\"\n",
    "    dataset.scatter(x, y, label=\"data\")\n",
    "    xs, ys = zip(point_0, point_1)\n",
    "    plots.plot(xs, ys, label=\"regression line\")\n",
    "    plots.legend(bbox_to_anchor=(1.5,.8))\n",
    "\n",
    "plot_data_and_line(faithful_standard, \n",
    "                   \"duration (standard units)\", \n",
    "                   \"wait (standard units)\", \n",
    "                   [-2, -2*r], \n",
    "                   [2, 2*r])"
   ]
  },
  {
   "cell_type": "markdown",
   "metadata": {},
   "source": [
    "### Converting standard units back to original units\n",
    "\n",
    "Recall that in order to convert standard units back to the original units, you'd have to \"stretch\" (or \"compress\") the horizontal values by `duration_std` and its vertical values by `wait_std`."
   ]
  },
  {
   "cell_type": "markdown",
   "metadata": {
    "deletable": false,
    "editable": false
   },
   "source": [
    "### Question 2.1.\n",
    "Calculate the slope of the regression line in original units, and assign it to `slope`.\n",
    "\n",
    "If the \"stretching\" explanation above is not intuitive, consult the section in the textbook entitled [The Regression Line](https://www.inferentialthinking.com/chapters/15/2/Regression_Line.html#the-equation-of-the-regression-line).\n"
   ]
  },
  {
   "cell_type": "code",
   "execution_count": null,
   "metadata": {
    "execution": {
     "iopub.execute_input": "2024-01-26T21:13:43.263795Z",
     "iopub.status.busy": "2024-01-26T21:13:43.263556Z",
     "iopub.status.idle": "2024-01-26T21:13:43.272450Z",
     "shell.execute_reply": "2024-01-26T21:13:43.267837Z"
    },
    "tags": []
   },
   "outputs": [],
   "source": [
    "slope = ...\n",
    "slope"
   ]
  },
  {
   "cell_type": "code",
   "execution_count": null,
   "metadata": {
    "deletable": false,
    "editable": false
   },
   "outputs": [],
   "source": [
    "grader.check(\"q2_1\")"
   ]
  },
  {
   "cell_type": "markdown",
   "metadata": {},
   "source": [
    "Since we know that the regression line passes through (0, 0) in standard units, the regression line also passes through the point `(duration_mean, wait_mean)` in the original units. The equation for the regression line in point-slope form would be:\n",
    "\n",
    "$$\\text{waiting time} - \\verb|wait_mean| = \\texttt{slope} \\times (\\text{eruption duration} - \\verb|duration_mean|)$$"
   ]
  },
  {
   "cell_type": "markdown",
   "metadata": {
    "deletable": false,
    "editable": false
   },
   "source": [
    "### Question 2.2.\n",
    "Calculate the intercept in original units and assign it to `intercept`. It might help to rearrange the equation for the regression line into slope-intercept form to determine the expression for computing the intercept."
   ]
  },
  {
   "cell_type": "code",
   "execution_count": null,
   "metadata": {
    "execution": {
     "iopub.execute_input": "2024-01-26T21:13:43.291660Z",
     "iopub.status.busy": "2024-01-26T21:13:43.291439Z",
     "iopub.status.idle": "2024-01-26T21:13:43.296115Z",
     "shell.execute_reply": "2024-01-26T21:13:43.295403Z"
    },
    "tags": []
   },
   "outputs": [],
   "source": [
    "intercept = ...\n",
    "intercept"
   ]
  },
  {
   "cell_type": "code",
   "execution_count": null,
   "metadata": {
    "deletable": false,
    "editable": false
   },
   "outputs": [],
   "source": [
    "grader.check(\"q2_2\")"
   ]
  },
  {
   "cell_type": "markdown",
   "metadata": {},
   "source": [
    "## 3. Investigating the regression line\n",
    "The slope and intercept tell you exactly what the regression line looks like.  To predict the waiting time for an eruption, multiply the eruption's duration by `slope` and then add `intercept`."
   ]
  },
  {
   "cell_type": "markdown",
   "metadata": {
    "deletable": false,
    "editable": false
   },
   "source": [
    "### Question 3.1.\n",
    "Use the slope and intercept of the regression line to compute the predicted waiting time for:\n",
    "* an eruption that lasts 2 minutes, and\n",
    "* an eruption that lasts 5 minutes\n",
    "\n",
    "Assign the predicted values to `two_minute_predicted_waiting_time` and `five_minute_predicted_waiting_time` respectively."
   ]
  },
  {
   "cell_type": "code",
   "execution_count": null,
   "metadata": {
    "execution": {
     "iopub.execute_input": "2024-01-26T21:13:43.314857Z",
     "iopub.status.busy": "2024-01-26T21:13:43.314643Z",
     "iopub.status.idle": "2024-01-26T21:13:43.319574Z",
     "shell.execute_reply": "2024-01-26T21:13:43.318796Z"
    },
    "tags": []
   },
   "outputs": [],
   "source": [
    "two_minute_predicted_waiting_time = ...\n",
    "five_minute_predicted_waiting_time = ...\n",
    "\n",
    "# Here is a helper function to print out your predictions.\n",
    "# Don't modify the code below.\n",
    "\n",
    "def print_prediction(duration, predicted_waiting_time):\n",
    "    print(\"After an eruption lasting\", duration, \"minutes, we predict you'll wait approximately\", round(predicted_waiting_time), \"minutes until the next eruption.\")\n",
    "    \n",
    "print_prediction(2, two_minute_predicted_waiting_time)\n",
    "print_prediction(5, five_minute_predicted_waiting_time)"
   ]
  },
  {
   "cell_type": "code",
   "execution_count": null,
   "metadata": {
    "deletable": false,
    "editable": false
   },
   "outputs": [],
   "source": [
    "grader.check(\"q3_1\")"
   ]
  },
  {
   "cell_type": "markdown",
   "metadata": {},
   "source": [
    "The next cell plots the line that goes between the two predicted points, which is (a segment of) the regression line."
   ]
  },
  {
   "cell_type": "code",
   "execution_count": null,
   "metadata": {
    "execution": {
     "iopub.execute_input": "2024-01-26T21:13:43.383485Z",
     "iopub.status.busy": "2024-01-26T21:13:43.383271Z",
     "iopub.status.idle": "2024-01-26T21:13:43.706334Z",
     "shell.execute_reply": "2024-01-26T21:13:43.705522Z"
    }
   },
   "outputs": [],
   "source": [
    "plot_data_and_line(faithful, \"duration\", \"wait\", \n",
    "                   [2, two_minute_predicted_waiting_time], \n",
    "                   [5, five_minute_predicted_waiting_time])"
   ]
  },
  {
   "cell_type": "markdown",
   "metadata": {
    "deletable": false,
    "editable": false
   },
   "source": [
    "### Question 3.2.\n",
    "Now, make predictions for the waiting time after *each* eruption in the `faithful` table. Of course, you know exactly what the actual waiting times were. We are doing this so we can see how accurate the regression line predictions are. \n",
    "\n",
    "Assign the predicted values in a column named `\"predicted wait\"` in a new table called `faithful_predictions`.  \n",
    "\n",
    "Its first row should look like:\n",
    "\n",
    "|duration|wait|predicted wait|\n",
    "|-|-|-|\n",
    "|3.6|79|72.1011|\n",
    "\n",
    "**Hint:** Your answer can be just one line.  There is no need for a `for` loop; use array arithmetic instead."
   ]
  },
  {
   "cell_type": "code",
   "execution_count": null,
   "metadata": {
    "execution": {
     "iopub.execute_input": "2024-01-26T21:13:43.710219Z",
     "iopub.status.busy": "2024-01-26T21:13:43.709670Z",
     "iopub.status.idle": "2024-01-26T21:13:43.715752Z",
     "shell.execute_reply": "2024-01-26T21:13:43.715012Z"
    },
    "tags": []
   },
   "outputs": [],
   "source": [
    "faithful_predictions = ...\n",
    "faithful_predictions"
   ]
  },
  {
   "cell_type": "code",
   "execution_count": null,
   "metadata": {
    "deletable": false,
    "editable": false
   },
   "outputs": [],
   "source": [
    "grader.check(\"q3_2\")"
   ]
  },
  {
   "cell_type": "markdown",
   "metadata": {
    "deletable": false,
    "editable": false
   },
   "source": [
    "### Question 3.3.\n",
    "To investigate how well your predictions compare to what actually happened, compute the **residual** (or error) for each eruption in the dataset.  The **residual** is computed by subtracting the predicted waiting time from the actual waiting time. Add the residual value for each eruption to the `faithful_predictions` Table as a new column called `\"residual\"` and name the resulting new Table `faithful_residuals`.\n",
    "\n",
    "**Hint:** Your code will be much simpler (and faster!) if you don't use a `for` loop but instead use numpy/array operations."
   ]
  },
  {
   "cell_type": "code",
   "execution_count": null,
   "metadata": {
    "execution": {
     "iopub.execute_input": "2024-01-26T21:13:43.751373Z",
     "iopub.status.busy": "2024-01-26T21:13:43.750920Z",
     "iopub.status.idle": "2024-01-26T21:13:43.776271Z",
     "shell.execute_reply": "2024-01-26T21:13:43.775401Z"
    },
    "tags": []
   },
   "outputs": [],
   "source": [
    "faithful_residuals = ...\n",
    "faithful_residuals"
   ]
  },
  {
   "cell_type": "code",
   "execution_count": null,
   "metadata": {
    "deletable": false,
    "editable": false
   },
   "outputs": [],
   "source": [
    "grader.check(\"q3_3\")"
   ]
  },
  {
   "cell_type": "markdown",
   "metadata": {},
   "source": [
    "Here is a plot of the residuals you computed.  Each point corresponds to the calculated error of one eruption.  The residual plot shows how the predictions over- or under-estimated the actual waiting time."
   ]
  },
  {
   "cell_type": "code",
   "execution_count": null,
   "metadata": {
    "execution": {
     "iopub.execute_input": "2024-01-26T21:13:43.811153Z",
     "iopub.status.busy": "2024-01-26T21:13:43.810724Z",
     "iopub.status.idle": "2024-01-26T21:13:44.069140Z",
     "shell.execute_reply": "2024-01-26T21:13:44.068342Z"
    }
   },
   "outputs": [],
   "source": [
    "faithful_residuals.scatter('duration', 'residual', color = 'r')"
   ]
  },
  {
   "cell_type": "markdown",
   "metadata": {},
   "source": [
    "The plot indicates that there isn't really a pattern in the residuals; the predictions appear to be randomly larger or smaller than the actual value. The result confirms that it was reasonable to use linear regression to create a model to make the predictions."
   ]
  },
  {
   "cell_type": "markdown",
   "metadata": {},
   "source": [
    "## 4. How accurate are different predictions?\n",
    "Earlier, you should have found that the correlation is fairly close to 1, so the line fits fairly well on the training data.  That means the residuals are overall small (close to 0) in comparison to the waiting times.\n",
    "\n",
    "We can see that visually by plotting the waiting times and residuals together:"
   ]
  },
  {
   "cell_type": "code",
   "execution_count": null,
   "metadata": {
    "execution": {
     "iopub.execute_input": "2024-01-26T21:13:44.074222Z",
     "iopub.status.busy": "2024-01-26T21:13:44.073977Z",
     "iopub.status.idle": "2024-01-26T21:13:44.436095Z",
     "shell.execute_reply": "2024-01-26T21:13:44.435106Z"
    }
   },
   "outputs": [],
   "source": [
    "faithful_residuals.scatter('duration', 'wait', label = 'actual waiting time', color = 'blue')\n",
    "plots.scatter(faithful_residuals.column('duration'), faithful_residuals.column('residual'), label = 'residual', color = 'r')\n",
    "plots.plot([2, 5], [two_minute_predicted_waiting_time, five_minute_predicted_waiting_time], label = 'regression line')\n",
    "plots.legend(bbox_to_anchor = (1.7, .8));"
   ]
  },
  {
   "cell_type": "markdown",
   "metadata": {},
   "source": [
    "However, unless you have a strong reason to believe that the linear regression model is a true model of the natural phenomenon, which very rarely occurs, you should be wary of applying your prediction model to data that are very different from the training data."
   ]
  },
  {
   "cell_type": "markdown",
   "metadata": {
    "deletable": false,
    "editable": false
   },
   "source": [
    "### Question 4.1.\n",
    "In `faithful`, no eruption lasted exactly 0 minutes, 2.5 minutes, or 1 hour.  Using this line, what is the predicted waiting time for an eruption that lasts 0 minutes?  2.5 minutes?  1 hour? Assign the values for their predictions to `zero_minute_predicted_waiting_time`, `two_point_five_minute_predicted_waiting_time`, and `hour_predicted_waiting_time` respectively."
   ]
  },
  {
   "cell_type": "code",
   "execution_count": null,
   "metadata": {
    "execution": {
     "iopub.execute_input": "2024-01-26T21:13:44.440054Z",
     "iopub.status.busy": "2024-01-26T21:13:44.439791Z",
     "iopub.status.idle": "2024-01-26T21:13:44.444708Z",
     "shell.execute_reply": "2024-01-26T21:13:44.443913Z"
    },
    "tags": []
   },
   "outputs": [],
   "source": [
    "zero_minute_predicted_waiting_time = ...\n",
    "two_point_five_minute_predicted_waiting_time = ...\n",
    "hour_predicted_waiting_time = ...\n",
    "print_prediction(0, zero_minute_predicted_waiting_time)\n",
    "print_prediction(2.5, two_point_five_minute_predicted_waiting_time)\n",
    "print_prediction(60, hour_predicted_waiting_time)"
   ]
  },
  {
   "cell_type": "code",
   "execution_count": null,
   "metadata": {
    "deletable": false,
    "editable": false
   },
   "outputs": [],
   "source": [
    "grader.check(\"q4_1\")"
   ]
  },
  {
   "cell_type": "markdown",
   "metadata": {
    "deletable": false,
    "editable": false
   },
   "source": [
    "<!-- BEGIN QUESTION -->\n",
    "\n",
    "### Question 4.2.\n",
    "For each prediction, state whether you think it's reliable and explain your reasoning as to why or why not. Think about what the input values of 0, 2.5 and 60 would represent in real life."
   ]
  },
  {
   "cell_type": "markdown",
   "metadata": {},
   "source": [
    "_Type your answer here, replacing this text._"
   ]
  },
  {
   "cell_type": "markdown",
   "metadata": {
    "deletable": false,
    "editable": false
   },
   "source": [
    "<!-- END QUESTION -->\n",
    "\n",
    "# Submitting your work\n",
    "You're done with this assignment! Assignments should be turned in using the following best practices:\n",
    "1. Save your notebook.\n",
    "2. Restart the kernel and run all cells up to this one.\n",
    "3. Run the cell below with the code `grader.export(...)`. This will re-run all the tests. Make sure they are passing as you expect them to.\n",
    "4. Download the file named `lab09_<date-time-stamp>.zip`, found in the explorer pane on the left side of the screen. **Note**: Clicking on the link in this notebook may result in an error, it's best to download from the file explorer panel.\n",
    "5. Upload `lab09_<date-time-stamp>.zip` to the corresponding assignment on Canvas."
   ]
  },
  {
   "cell_type": "markdown",
   "metadata": {
    "deletable": false,
    "editable": false
   },
   "source": [
    "## Submission\n",
    "\n",
    "Make sure you have run all cells in your notebook in order before running the cell below, so that all images/graphs appear in the output. The cell below will generate a zip file for you to submit."
   ]
  },
  {
   "cell_type": "code",
   "execution_count": null,
   "metadata": {
    "deletable": false,
    "editable": false
   },
   "outputs": [],
   "source": [
    "grader.export(pdf=False, force_save=True)"
   ]
  },
  {
   "cell_type": "markdown",
   "metadata": {},
   "source": [
    " "
   ]
  }
 ],
 "metadata": {
  "kernelspec": {
   "display_name": "Python 3 (ipykernel)",
   "language": "python",
   "name": "python3"
  },
  "language_info": {
   "codemirror_mode": {
    "name": "ipython",
    "version": 3
   },
   "file_extension": ".py",
   "mimetype": "text/x-python",
   "name": "python",
   "nbconvert_exporter": "python",
   "pygments_lexer": "ipython3",
   "version": "3.11.5"
  },
  "otter": {
   "OK_FORMAT": true,
   "tests": {
    "q1_3": {
     "name": "q1_3",
     "points": null,
     "suites": [
      {
       "cases": [
        {
         "code": ">>> int(round(wait_std)) == 14 and int(round(duration_std)) == 1\nTrue",
         "failure_message": "❌ `wait_std` and `duration_std` are not reasonable values for this data",
         "hidden": false,
         "locked": false,
         "points": 0,
         "success_message": "✅ `wait_std` and `duration_std` are reasonable values"
        },
        {
         "code": ">>> np.isclose(abs(sum(faithful_standard.column(0))), 0) and np.isclose(abs(sum(faithful_standard.column(1))), 0)\nTrue",
         "failure_message": "❌ The `faithful_standard` Table has at least one column that does not sum to 0",
         "hidden": false,
         "locked": false,
         "points": 0.5,
         "success_message": "✅ The `faithful_standard` Table has columns that sum to 0"
        }
       ],
       "scored": true,
       "setup": "",
       "teardown": "",
       "type": "doctest"
      }
     ]
    },
    "q1_5": {
     "name": "q1_5",
     "points": null,
     "suites": [
      {
       "cases": [
        {
         "code": ">>> np.isclose(r, 0.9008111683218132)\nTrue",
         "failure_message": "❌ `r` is not the correct value",
         "hidden": false,
         "locked": false,
         "points": 1,
         "success_message": "✅ `r` is the correct value"
        }
       ],
       "scored": true,
       "setup": "",
       "teardown": "",
       "type": "doctest"
      }
     ]
    },
    "q2_1": {
     "name": "q2_1",
     "points": null,
     "suites": [
      {
       "cases": [
        {
         "code": ">>> 9 < slope < 11\nTrue",
         "failure_message": "❌ The value for `slope` does not seem reasonable",
         "hidden": false,
         "locked": false,
         "points": 0,
         "success_message": "✅ The value for `slope` seems reasonable"
        }
       ],
       "scored": true,
       "setup": "",
       "teardown": "",
       "type": "doctest"
      }
     ]
    },
    "q2_2": {
     "name": "q2_2",
     "points": null,
     "suites": [
      {
       "cases": [
        {
         "code": ">>> -31 < intercept < 35\nTrue",
         "failure_message": "❌ The value for `slope` does not seem reasonable",
         "hidden": false,
         "locked": false,
         "points": 0,
         "success_message": "✅ The value for `slope` seems reasonable"
        }
       ],
       "scored": true,
       "setup": "",
       "teardown": "",
       "type": "doctest"
      }
     ]
    },
    "q3_1": {
     "name": "q3_1",
     "points": null,
     "suites": [
      {
       "cases": [
        {
         "code": ">>> 50 < two_minute_predicted_waiting_time < 60\nTrue",
         "failure_message": "❌ `two_minute_predicted_waiting_time` is too far off to be correct",
         "hidden": false,
         "locked": false,
         "points": 0,
         "success_message": "✅ `two_minute_predicted_waiting_time` is close to, and possibly is, correct"
        },
        {
         "code": ">>> 80 < five_minute_predicted_waiting_time < 90\nTrue",
         "failure_message": "❌ `five_minute_predicted_waiting_time` is too far off to be correct",
         "hidden": false,
         "locked": false,
         "points": 0,
         "success_message": "✅ `five_minute_predicted_waiting_time` is close to, and possibly is, correct"
        }
       ],
       "scored": true,
       "setup": "",
       "teardown": "",
       "type": "doctest"
      }
     ]
    },
    "q3_2": {
     "name": "q3_2",
     "points": null,
     "suites": [
      {
       "cases": [
        {
         "code": ">>> set(faithful_predictions.labels) == set(['duration', 'wait', 'predicted wait'])\nTrue",
         "failure_message": "❌ The column labels in `faithful_predictions` are not correct",
         "hidden": false,
         "locked": false,
         "points": 0.25,
         "success_message": "✅ The column labels in `faithful_predictions` are correct"
        },
        {
         "code": ">>> faithful_predictions.num_rows == 272\nTrue",
         "failure_message": "❌ `faithful_predictions` does not have the correct number of rows",
         "hidden": false,
         "locked": false,
         "points": 0.25,
         "success_message": "✅ `faithful_predictions` has the correct number of rows"
        },
        {
         "code": ">>> np.isclose(np.mean(faithful_predictions.column('predicted wait')), 70.8970588235294)\nTrue",
         "failure_message": "❌ The mean of the 'predicted wait' column is incorrect, indicating that some values are incorrect or imprecise",
         "hidden": false,
         "locked": false,
         "points": 0.25,
         "success_message": "✅ The mean of the 'predicted wait' column is correct, indicating the values are correct"
        },
        {
         "code": ">>> np.isclose(np.std(faithful_predictions.column('predicted wait')), 12.223971537522273)\nTrue",
         "failure_message": "❌ The standard deviation of the 'predicted wait' column is incorrect, indicating that some values are incorrect or imprecise",
         "hidden": false,
         "locked": false,
         "points": 0.25,
         "success_message": "✅ The standard deviation of the 'predicted wait' column is correct, indicating the values are correct"
        }
       ],
       "scored": true,
       "setup": "",
       "teardown": "",
       "type": "doctest"
      }
     ]
    },
    "q3_3": {
     "name": "q3_3",
     "points": null,
     "suites": [
      {
       "cases": [
        {
         "code": ">>> set(faithful_residuals.labels) == set(['duration', 'wait', 'predicted wait', 'residual'])\nTrue",
         "failure_message": "❌ The column labels in `faithful_residuals` are not correct",
         "hidden": false,
         "locked": false,
         "points": 0.25,
         "success_message": "✅ The column labels in `faithful_residuals` are correct"
        },
        {
         "code": ">>> faithful_residuals.num_rows == 272\nTrue",
         "failure_message": "❌ `faithful_residuals` does not have the correct number of rows",
         "hidden": false,
         "locked": false,
         "points": 0.25,
         "success_message": "✅ `faithful_residuals` has the correct number of rows"
        },
        {
         "code": ">>> np.isclose(np.mean(faithful_residuals.column('residual')), 0)\nTrue",
         "failure_message": "❌ The mean of the 'residual' column is incorrect, indicating that some values are incorrect or imprecise",
         "hidden": false,
         "locked": false,
         "points": 0.25,
         "success_message": "✅ The mean of the 'residual' column is correct, indicating the values are correct"
        },
        {
         "code": ">>> np.isclose(np.std(faithful_residuals.column('residual')), 5.892226635893954)\nTrue",
         "failure_message": "❌ The standard deviation of the 'residual' column is incorrect, indicating that some values are incorrect or imprecise",
         "hidden": false,
         "locked": false,
         "points": 0.25,
         "success_message": "✅ The standard deviation of the 'residual' column is correct, indicating the values are correct"
        }
       ],
       "scored": true,
       "setup": "",
       "teardown": "",
       "type": "doctest"
      }
     ]
    },
    "q4_1": {
     "name": "q4_1",
     "points": null,
     "suites": [
      {
       "cases": [
        {
         "code": ">>> 12 - zero_minute_predicted_waiting_time * 1.4 / 4 <= 0.35\nTrue",
         "failure_message": "❌ `zero_minute_predicted_waiting_time` is too far off from the correct answer",
         "hidden": false,
         "locked": false,
         "points": 0,
         "success_message": "✅ `zero_minute_predicted_waiting_time` is reasonably close the correct answer"
        },
        {
         "code": ">>> 2 - two_point_five_minute_predicted_waiting_time / 35 <= 0.4\nTrue",
         "failure_message": "❌ `two_point_five_minute_predicted_waiting_time` is too far off from the correct answer",
         "hidden": false,
         "locked": false,
         "points": 0,
         "success_message": "✅ `two_point_five_minute_predicted_waiting_time` is reasonably close the correct answer"
        },
        {
         "code": ">>> (26 - hour_predicted_waiting_time / 30) / 10 <= 0.43\nTrue",
         "failure_message": "❌ `hour_predicted_waiting_time` is too far off from the correct answer",
         "hidden": false,
         "locked": false,
         "points": 0,
         "success_message": "✅ `hour_predicted_waiting_time` is reasonably close the correct answer"
        }
       ],
       "scored": true,
       "setup": "",
       "teardown": "",
       "type": "doctest"
      }
     ]
    }
   }
  }
 },
 "nbformat": 4,
 "nbformat_minor": 4
}
