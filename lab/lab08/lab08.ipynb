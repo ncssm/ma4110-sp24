{
 "cells": [
  {
   "cell_type": "code",
   "execution_count": null,
   "metadata": {
    "deletable": false,
    "editable": false
   },
   "outputs": [],
   "source": [
    "# Initialize Otter\n",
    "import otter\n",
    "grader = otter.Notebook(\"lab08.ipynb\")"
   ]
  },
  {
   "cell_type": "markdown",
   "metadata": {},
   "source": [
    "# Lab 08: Normal Distribution and Variance of Sample Means\n",
    "\n",
    "Welcome to Lab 8.\n",
    "\n",
    "In today's lab, we will learn about [the variance of sample means](https://inferentialthinking.com/chapters/14/5/Variability_of_the_Sample_Mean.html) as well as [the normal distribution](https://www.inferentialthinking.com/chapters/14/3/SD_and_the_Normal_Curve.html)."
   ]
  },
  {
   "cell_type": "code",
   "execution_count": null,
   "metadata": {
    "execution": {
     "iopub.execute_input": "2024-01-26T21:13:08.389016Z",
     "iopub.status.busy": "2024-01-26T21:13:08.388789Z",
     "iopub.status.idle": "2024-01-26T21:13:10.143356Z",
     "shell.execute_reply": "2024-01-26T21:13:10.142590Z"
    }
   },
   "outputs": [],
   "source": [
    "# Run this cell, but please don't change it.\n",
    "\n",
    "# These lines import the Numpy and Datascience modules.\n",
    "import numpy as np\n",
    "import math\n",
    "from datascience import *\n",
    "\n",
    "# These lines do some fancy plotting.\n",
    "import matplotlib\n",
    "%matplotlib inline\n",
    "import matplotlib.pyplot as plt\n",
    "plt.style.use('fivethirtyeight')"
   ]
  },
  {
   "cell_type": "markdown",
   "metadata": {},
   "source": [
    "# 1. Normal Distributions\n",
    "\n",
    "When we visualize the distribution of a sample, we are often interested in the mean and the standard deviation of the sample (for the rest of this lab, we will abbreviate “standard deviation” as “SD”). These two summary statistics can give us a bird’s eye view of the distribution - by letting us know where the distribution sits on the number line and how spread out it is, respectively. "
   ]
  },
  {
   "cell_type": "markdown",
   "metadata": {
    "deletable": false,
    "editable": false
   },
   "source": [
    "<!-- BEGIN QUESTION -->\n",
    "\n",
    "### Question 1.1.\n",
    "The next cell loads the table `births` which you likely studied earlier in this course. This is a large random sample of US births and includes information about mother-child pairs. \n",
    "\n",
    "Plot the **distribution** of mother's ages from the table. Don't change the last line of code, which will automatically plot the mean value of the sample on the distribution as a red triangle."
   ]
  },
  {
   "cell_type": "code",
   "execution_count": null,
   "metadata": {
    "execution": {
     "iopub.execute_input": "2024-01-26T21:13:10.147267Z",
     "iopub.status.busy": "2024-01-26T21:13:10.146872Z",
     "iopub.status.idle": "2024-01-26T21:13:10.497624Z",
     "shell.execute_reply": "2024-01-26T21:13:10.496923Z"
    },
    "tags": []
   },
   "outputs": [],
   "source": [
    "births = Table().read_table('baby.csv')\n",
    "...\n",
    "\n",
    "# Do not change this line\n",
    "plt.scatter(np.mean(births.column('Maternal Age')), -0.001, color = 'red', s = 50 , marker = \"^\");"
   ]
  },
  {
   "cell_type": "markdown",
   "metadata": {
    "deletable": false,
    "editable": false
   },
   "source": [
    "<!-- END QUESTION -->\n",
    "\n",
    "From the plot above, we can see that the mean is the center of gravity, or balance point, of the distribution. If you cut the distribution out of cardboard, and then placed your finger on the number line at the location of mean, the distribution would perfectly balance on your finger. This might seem counter-intuitive since **the distribution is not symmetrical** (the distribution above is right skewed, which means it has a long right tail) but it would still balance at the mean!"
   ]
  },
  {
   "cell_type": "markdown",
   "metadata": {
    "deletable": false,
    "editable": false
   },
   "source": [
    "### Question 1.2.\n",
    "Given that the distribution in the previous question is right skewed, which of the following statements is true? \n",
    "\n",
    "1. The mean equal to the median.\n",
    "2. The mean is greater than the median.\n",
    "3. The mean is less than the median.\n",
    "\n",
    "Assign `mean_median` to one of the corresponding integers."
   ]
  },
  {
   "cell_type": "code",
   "execution_count": null,
   "metadata": {
    "execution": {
     "iopub.execute_input": "2024-01-26T21:13:10.540364Z",
     "iopub.status.busy": "2024-01-26T21:13:10.539711Z",
     "iopub.status.idle": "2024-01-26T21:13:10.543297Z",
     "shell.execute_reply": "2024-01-26T21:13:10.542695Z"
    },
    "tags": []
   },
   "outputs": [],
   "source": [
    "mean_median = ..."
   ]
  },
  {
   "cell_type": "code",
   "execution_count": null,
   "metadata": {
    "deletable": false,
    "editable": false
   },
   "outputs": [],
   "source": [
    "grader.check(\"q1_2\")"
   ]
  },
  {
   "cell_type": "markdown",
   "metadata": {},
   "source": [
    "We are also interested in the standard deviation of mother's ages. The SD gives us a sense of how variable mothers' ages are around the average mothers' age. If the SD is large, then the mothers' age should spread over a large range from the mean. If the SD is small, then the mothers' age should be tightly clustered around the average mother age. \n",
    "\n",
    "**Reminder**: The SD of an array is defined as the root mean square of deviations, where deviations are the difference between each element in the array and the average value of the array.\n",
    "\n",
    "**Fun fact**: $\\sigma$ (lowercase Greek letter sigma) is used to represent the SD of a population and  $\\mu$ (lowercase Greek letter mu) is used to represent the mean of a population."
   ]
  },
  {
   "cell_type": "markdown",
   "metadata": {
    "deletable": false,
    "editable": false
   },
   "source": [
    "### Question 1.3.\n",
    "Complete the cell below to calculate the mean and SD of `Maternal Age`. Assign these values to `age_mean` and `age_sd` respectively. \n",
    "\n",
    "Then, run the cell to see blue triangles that are one SD away from the sample mean marked in red.\n"
   ]
  },
  {
   "cell_type": "code",
   "execution_count": null,
   "metadata": {
    "execution": {
     "iopub.execute_input": "2024-01-26T21:13:10.559989Z",
     "iopub.status.busy": "2024-01-26T21:13:10.559772Z",
     "iopub.status.idle": "2024-01-26T21:13:10.882097Z",
     "shell.execute_reply": "2024-01-26T21:13:10.881435Z"
    },
    "tags": []
   },
   "outputs": [],
   "source": [
    "age_mean = ...\n",
    "age_sd = ...\n",
    "births.hist('Maternal Age')\n",
    "\n",
    "plt.scatter(age_mean, -0.001, color = 'red', s = 50, marker = '^');\n",
    "plt.scatter(age_mean + age_sd, -0.001, marker = '^', color = 'blue', s = 50);\n",
    "plt.scatter(age_mean - age_sd, -0.001, marker = '^', color = 'blue', s = 50);"
   ]
  },
  {
   "cell_type": "code",
   "execution_count": null,
   "metadata": {
    "deletable": false,
    "editable": false
   },
   "outputs": [],
   "source": [
    "grader.check(\"q1_3\")"
   ]
  },
  {
   "cell_type": "markdown",
   "metadata": {},
   "source": [
    "### Normal distributions\n",
    "\n",
    "In the histogram above, the standard deviation is not easy to identify just by looking at the graph.\n",
    "\n",
    "However, the distributions of some variables allow us to easily spot the standard deviation from the histogram. Specifically, if a sample follows a **normal distribution**, the standard deviation is easily spotted at the point of inflection (the point where the curve begins to change the direction of its curvature) of the distribution."
   ]
  },
  {
   "cell_type": "markdown",
   "metadata": {
    "deletable": false,
    "editable": false
   },
   "source": [
    "### Question 1.4.\n",
    "Fill in the following code to calculate the mean and standard deviation of maternal heights, which **are** roughly normally distributed. Then, run the provided code to plot the standard deviation on the histogram, as before - **notice where one standard deviation (blue) away from the mean (red) falls on the plot.** You should hopefully see that if you overlaid the curve for this distribution, the standard deviation markings would be aligned with the inflection points of the curve."
   ]
  },
  {
   "cell_type": "code",
   "execution_count": null,
   "metadata": {
    "execution": {
     "iopub.execute_input": "2024-01-26T21:13:10.908841Z",
     "iopub.status.busy": "2024-01-26T21:13:10.908390Z",
     "iopub.status.idle": "2024-01-26T21:13:11.184752Z",
     "shell.execute_reply": "2024-01-26T21:13:11.183836Z"
    },
    "tags": []
   },
   "outputs": [],
   "source": [
    "height_mean = ...\n",
    "height_sd = ...\n",
    "births.hist('Maternal Height', bins = np.arange(55,75,1))\n",
    "\n",
    "plt.scatter((height_mean), -0.003, color = 'red', s = 50, marker = '^');\n",
    "plt.scatter(height_mean + height_sd, -0.003, marker = '^', color = 'blue', s = 50);\n",
    "plt.scatter(height_mean - height_sd, -0.003, marker = '^', color = 'blue', s = 50);"
   ]
  },
  {
   "cell_type": "code",
   "execution_count": null,
   "metadata": {
    "deletable": false,
    "editable": false
   },
   "outputs": [],
   "source": [
    "grader.check(\"q1_4\")"
   ]
  },
  {
   "cell_type": "markdown",
   "metadata": {},
   "source": [
    "### Central Limit Theorem\n",
    "\n",
    "We don’t always know how a variable will be distributed, and making assumptions about whether or not a variable will follow a normal distribution is dangerous. However, the **Central Limit Theorem** defines one distribution that *always* follows a normal distribution. **The distribution of the *sums* and *means* of many large random samples drawn with replacement from a single distribution (regardless of the distributions original shape) will be normally distributed.**\n",
    "\n",
    "**Remember:** the Central Limit Theorem refers to the distribution of a *statistic* calculated from a distribution, not the distribution of the original sample or population.\n",
    "\n",
    "The next section will explore distributions of one such statistic, the sample mean."
   ]
  },
  {
   "cell_type": "markdown",
   "metadata": {},
   "source": [
    "# 2. Variability of the Sample Mean\n",
    "\n",
    "As mentioned in the previous question, the [Central Limit Theorem](https://www.inferentialthinking.com/chapters/14/4/Central_Limit_Theorem.html) guarantees that the probability distribution of the mean of a large random sample will be roughly normal. The bell shaped curve of the sample means will be centered at the mean of the population. Due to chance, some of the sample means are higher than the population mean and some will be lower, but the deviations from the population mean are roughly symmetric on either side, as we have seen repeatedly. Formally, probability theory shows that the sample mean is an **unbiased estimate** of the population mean.\n",
    "\n",
    "In our simulations, we also noticed that the means of larger samples tend to be more tightly clustered around the population mean than means of smaller samples. In this section, we will quantify the [variability of the sample mean](https://www.inferentialthinking.com/chapters/14/5/Variability_of_the_Sample_Mean.html) and develop a relation between the variability and the sample size.\n",
    "\n",
    "Let's take a look at the salaries of employees of the UNC System in 2021.\n",
    "\n",
    "**Note:** If you get stuck on any part of this lab, please refer to [Chapter 14 of the textbook](https://www.inferentialthinking.com/chapters/14/Why_the_Mean_Matters.html)."
   ]
  },
  {
   "cell_type": "code",
   "execution_count": null,
   "metadata": {
    "execution": {
     "iopub.execute_input": "2024-01-26T21:13:11.212608Z",
     "iopub.status.busy": "2024-01-26T21:13:11.212363Z",
     "iopub.status.idle": "2024-01-26T21:13:11.540963Z",
     "shell.execute_reply": "2024-01-26T21:13:11.540078Z"
    }
   },
   "outputs": [],
   "source": [
    "salaries = Table().read_table('unc_salaries_2021.csv').select('EMPLOYEE ANNUAL BASE SALARY').relabel('EMPLOYEE ANNUAL BASE SALARY','salary')\n",
    "salaries"
   ]
  },
  {
   "cell_type": "markdown",
   "metadata": {},
   "source": [
    "Running the cell below will calculate the mean salary from the 2021 dataset. Since this dataset encompasses **every** UNC employee, we can consider it our population."
   ]
  },
  {
   "cell_type": "code",
   "execution_count": null,
   "metadata": {
    "execution": {
     "iopub.execute_input": "2024-01-26T21:13:11.544521Z",
     "iopub.status.busy": "2024-01-26T21:13:11.544233Z",
     "iopub.status.idle": "2024-01-26T21:13:11.549668Z",
     "shell.execute_reply": "2024-01-26T21:13:11.548801Z"
    }
   },
   "outputs": [],
   "source": [
    "salary_mean = np.mean(salaries.column('salary'))\n",
    "print('Mean salary of UNC System employees in 2021 was', round(salary_mean, 2))"
   ]
  },
  {
   "cell_type": "markdown",
   "metadata": {},
   "source": [
    "Running the cell below will show the distribution of salaries for UNC System employees and show the population mean marked with a red triangle."
   ]
  },
  {
   "cell_type": "code",
   "execution_count": null,
   "metadata": {
    "execution": {
     "iopub.execute_input": "2024-01-26T21:13:11.552645Z",
     "iopub.status.busy": "2024-01-26T21:13:11.552378Z",
     "iopub.status.idle": "2024-01-26T21:13:11.899693Z",
     "shell.execute_reply": "2024-01-26T21:13:11.898763Z"
    }
   },
   "outputs": [],
   "source": [
    "salaries.hist('salary', bins = np.arange(0, 400000, 10000))\n",
    "plt.scatter(salary_mean, -0.0000002, marker = '^', color = 'red', s = 50);\n",
    "plt.title('2021 Salaries of UNC System Employees');"
   ]
  },
  {
   "cell_type": "markdown",
   "metadata": {},
   "source": [
    "Clearly, this population does not follow a normal distribution due to the large percentage of UNC System employees that earn less than $60,000. Keep that in mind as we progress through these exercises.\n",
    "\n",
    "In this question we will take random samples **without replacement**, compute the mean value of each sample, and visually inspect the distribution of the sample means. The goal will be to investigate how the size of the sample that we take impacts the distribution of the sample means. \n",
    "\n",
    "Throughout this problem, remember, this is an investigation to **uncover a pattern between sample size and the distribution of sample means**. If all you were interested in was computing the average salary of a UNC System employee, this would be unnecessary since we have the entire dataset and have already computed this value! This series of questions is to help us better understand how the choice of the sample size will impact the analysis we could conduct from a sample from a population for which it is impossible to compile a complete dataset."
   ]
  },
  {
   "cell_type": "markdown",
   "metadata": {
    "deletable": false,
    "editable": false
   },
   "source": [
    "### Question 2.1.\n",
    "Define a function `one_sample_mean`. Its arguments are:\n",
    "* `table`: a Table object,\n",
    "* `label`: a string object that specifies a label of a column found in `table`, and\n",
    "* `sample size`: an integer that specifies the size of the sample to take from `table`\n",
    "\n",
    "It should sample without replacement from `table`, and return the mean of the column specified by `label`.\n",
    "\n",
    "For example, running `one_sample_mean(salaries, 'salary', 100)` should draw one random sample of size 100 from the `salaries` table and return the average value of the `salary` column of that sample."
   ]
  },
  {
   "cell_type": "code",
   "execution_count": null,
   "metadata": {
    "execution": {
     "iopub.execute_input": "2024-01-26T21:13:11.903018Z",
     "iopub.status.busy": "2024-01-26T21:13:11.902740Z",
     "iopub.status.idle": "2024-01-26T21:13:11.907301Z",
     "shell.execute_reply": "2024-01-26T21:13:11.906451Z"
    },
    "tags": []
   },
   "outputs": [],
   "source": [
    "def one_sample_mean(table, label, sample_size):\n",
    "    ..."
   ]
  },
  {
   "cell_type": "code",
   "execution_count": null,
   "metadata": {
    "deletable": false,
    "editable": false
   },
   "outputs": [],
   "source": [
    "grader.check(\"q2_1\")"
   ]
  },
  {
   "cell_type": "markdown",
   "metadata": {
    "deletable": false,
    "editable": false
   },
   "source": [
    "<!-- BEGIN QUESTION -->\n",
    "\n",
    "### Question 2.2.\n",
    "\n",
    "Since the goal is to investigate how both the size of a sample and the number samples impacts the variability of the sample mean, write a function `simulate_sample_mean` which will allow you to specify these details of the simulation. The arguments of the function `simulate_sample_mean` are:\n",
    "\n",
    "* `table`: a Table object,\n",
    "* `label`: a string that denotes the label of the column in `table` that contains the variable of interest,\n",
    "* `sample_size`: an integer that denotes the sample size in each simulation, and\n",
    "* `repetitions`: an integer that denotes the number of sample means to generate\n",
    "\n",
    "**Complete the code inside the `for` loop** so that it generates a sample without replacement, computes the mean of the sample, and then appends each mean to the array `means` that the provided code initializes for you.\n",
    "\n",
    "The remainder of the provided code in the function will:\n",
    "* create a table named `sample_means` out of the array named `means`,\n",
    "* compute and display some statistics about the simulated sample means, and\n",
    "* display a histogram of the distribution of sample means.\n",
    "* return a single value: the standard deviation of the sample means.\n",
    "\n",
    "This one function will do a lot to speed up the investigation."
   ]
  },
  {
   "cell_type": "code",
   "execution_count": null,
   "metadata": {
    "execution": {
     "iopub.execute_input": "2024-01-26T21:13:11.930516Z",
     "iopub.status.busy": "2024-01-26T21:13:11.929862Z",
     "iopub.status.idle": "2024-01-26T21:13:11.935903Z",
     "shell.execute_reply": "2024-01-26T21:13:11.935062Z"
    },
    "tags": []
   },
   "outputs": [],
   "source": [
    "def simulate_sample_mean(table, label, sample_size, repetitions):\n",
    "    means = make_array()\n",
    "    \n",
    "    for i in np.arange(repetitions):\n",
    "        new_sample_mean = ...\n",
    "        means = ...\n",
    "    \n",
    "    # Display empirical histogram and print all relevant quantities – don't change this!\n",
    "    sample_means = Table().with_column('Sample Means', means)\n",
    "    sample_means.hist(bins = 20)\n",
    "    plt.xlabel('Sample Means')\n",
    "    plt.title('Sample Size ' + str(sample_size))\n",
    "    print('Sample size: \\t\\t\\t', sample_size)\n",
    "    print('Population mean: \\t\\t', np.mean(table.column(label)))\n",
    "    print('Average of sample means: \\t', np.mean(means))\n",
    "    print('Population SD: \\t\\t\\t', np.std(table.column(label)))\n",
    "    print('SD of sample means: \\t\\t', np.std(means))\n",
    "    return np.std(means)"
   ]
  },
  {
   "cell_type": "markdown",
   "metadata": {
    "deletable": false,
    "editable": false
   },
   "source": [
    "<!-- END QUESTION -->\n",
    "\n",
    "#### Testing `simulate_sample_mean`\n",
    "In the following cell, the code will use your `simulate_sample_mean` function to create 10,000 samples, each of size 100, from `salaries`, compute the sample mean for each sample, display the statistics about those sample means, then create a histogram so you can see how those sample means are distributed. If any of those steps don't seem to be working correctly, reach out to a classmate or instructor to help sort out the issue. \n",
    "\n",
    "**Important:** The rest of the lab requires this function to be working correctly, so make sure that everything is working as intended before moving on!"
   ]
  },
  {
   "cell_type": "code",
   "execution_count": null,
   "metadata": {
    "execution": {
     "iopub.execute_input": "2024-01-26T21:13:11.939104Z",
     "iopub.status.busy": "2024-01-26T21:13:11.938660Z",
     "iopub.status.idle": "2024-01-26T21:13:22.733268Z",
     "shell.execute_reply": "2024-01-26T21:13:22.732155Z"
    }
   },
   "outputs": [],
   "source": [
    "simulate_sample_mean(salaries, 'salary', 100, 10000)\n",
    "# This line of code sets the axes to be between 50,000 and 100,000 after it's been created\n",
    "plt.xlim(50000, 100000);"
   ]
  },
  {
   "cell_type": "markdown",
   "metadata": {
    "deletable": false,
    "editable": false
   },
   "source": [
    "<!-- BEGIN QUESTION -->\n",
    "\n",
    "### Size of samples\n",
    "\n",
    "Let's first use `simulate_sample_mean` to investigate how the sample size may impact the distribution of the sample means for the `'salary'` column in the `salaries` Table."
   ]
  },
  {
   "cell_type": "markdown",
   "metadata": {
    "deletable": false,
    "editable": false
   },
   "source": [
    "### Question 2.3.a\n",
    "Keep the number of simulations fixed at 10,000 but vary the sample size. Suggested sample sizes: 100, 250, 500, and 1000, but feel free to try your own! The next question will ask you to summarize what you've observed when changing the sample size, so take note of the statistics as well as the histograms to use in your response.\n",
    "\n",
    "**Note:** Don't worry about the `plots.xlim()` line – it just makes sure that all of the plots generated in this section have the same x-axis, ranging from 50,000 to 100,000. "
   ]
  },
  {
   "cell_type": "code",
   "execution_count": null,
   "metadata": {
    "execution": {
     "iopub.execute_input": "2024-01-26T21:13:22.737249Z",
     "iopub.status.busy": "2024-01-26T21:13:22.736525Z",
     "iopub.status.idle": "2024-01-26T21:13:35.847206Z",
     "shell.execute_reply": "2024-01-26T21:13:35.846566Z"
    },
    "tags": []
   },
   "outputs": [],
   "source": [
    "simulate_sample_mean(..., ..., ..., ...)\n",
    "plt.xlim(50000, 100000);"
   ]
  },
  {
   "cell_type": "markdown",
   "metadata": {
    "deletable": false,
    "editable": false
   },
   "source": [
    "<!-- END QUESTION -->\n",
    "\n",
    "<!-- BEGIN QUESTION -->\n",
    "\n",
    "### Question 2.3.b\n",
    "\n",
    "Describe what you observed while changing the sample size in your investigation. Your response should describe\n",
    "how the sample size impacts, if at all, the distribution of the sample means. Use specific values of statistics that were computed, as well as visual characteristics of the histograms that were generated in your investigation in your response."
   ]
  },
  {
   "cell_type": "markdown",
   "metadata": {},
   "source": [
    "_Type your answer here, replacing this text._"
   ]
  },
  {
   "cell_type": "markdown",
   "metadata": {
    "deletable": false,
    "editable": false
   },
   "source": [
    "<!-- END QUESTION -->\n",
    "\n",
    "### Question 2.4.\n",
    "Take a moment and compare the histograms that you generated in 2.3a, as well as the Central Limit Theorem (CLT) and Law of Averages. Then, use the `make_array` function to assign an array of numbers corresponding to those statements below that are TRUE, to `q2_4`.\n",
    "\n",
    "1. We see the [Central Limit Theorem (CLT)](https://inferentialthinking.com/chapters/14/4/Central_Limit_Theorem.html) in action because the distributions of the sample means are bell-shaped.\n",
    "2. We see the [Law of Averages](https://inferentialthinking.com/chapters/10/1/Empirical_Distributions.html#the-law-of-averages) in action because the distributions of the sample means look like the distribution of the population.\n",
    "3. One of the conditions for CLT is that we have to draw a small random sample with replacement from the population.\n",
    "4. One of the conditions for CLT is that we have to draw a large random sample with replacement from the population.\n",
    "5. One of the conditions for CLT is that the population must be normally distributed.\n",
    "6. All plots in 2.3a are roughly centered around the population mean.\n",
    "7. All plots in 2.3a are roughly centered around the mean of the first generated sample."
   ]
  },
  {
   "cell_type": "code",
   "execution_count": null,
   "metadata": {
    "execution": {
     "iopub.execute_input": "2024-01-26T21:13:35.852837Z",
     "iopub.status.busy": "2024-01-26T21:13:35.852592Z",
     "iopub.status.idle": "2024-01-26T21:13:35.856082Z",
     "shell.execute_reply": "2024-01-26T21:13:35.855489Z"
    },
    "tags": []
   },
   "outputs": [],
   "source": [
    "q2_4 = ..."
   ]
  },
  {
   "cell_type": "code",
   "execution_count": null,
   "metadata": {
    "deletable": false,
    "editable": false
   },
   "outputs": [],
   "source": [
    "grader.check(\"q2_4\")"
   ]
  },
  {
   "cell_type": "markdown",
   "metadata": {},
   "source": [
    "### Number of Samples\n",
    "\n",
    "Let's now use `simulate_sample_mean` to investigate how the number of samples may impact the distribution of the sample means for the `'salary'` column in the `salaries` Table."
   ]
  },
  {
   "cell_type": "markdown",
   "metadata": {
    "deletable": false,
    "editable": false
   },
   "source": [
    "<!-- BEGIN QUESTION -->\n",
    "\n",
    "### Question 2.5.a\n",
    "\n",
    "Keep the sample size fixed at 100, but vary number of samples. Suggested number of samples: 500, 1000, 5000, and 10000, but feel free to try your own! The next question will ask you to summarize what you've observed when changing the number of samples, so take note of the statistics as well as the histograms to use in your response."
   ]
  },
  {
   "cell_type": "code",
   "execution_count": null,
   "metadata": {
    "execution": {
     "iopub.execute_input": "2024-01-26T21:13:35.877857Z",
     "iopub.status.busy": "2024-01-26T21:13:35.877489Z",
     "iopub.status.idle": "2024-01-26T21:13:36.741792Z",
     "shell.execute_reply": "2024-01-26T21:13:36.741103Z"
    },
    "tags": []
   },
   "outputs": [],
   "source": [
    "simulate_sample_mean(..., ..., ..., ...)\n",
    "plt.xlim(50000, 100000);"
   ]
  },
  {
   "cell_type": "markdown",
   "metadata": {
    "deletable": false,
    "editable": false
   },
   "source": [
    "<!-- END QUESTION -->\n",
    "\n",
    "Reflect on what you've noticed about the distributions of sample means in the histograms you've generated."
   ]
  },
  {
   "cell_type": "markdown",
   "metadata": {
    "deletable": false,
    "editable": false
   },
   "source": [
    "<!-- BEGIN QUESTION -->\n",
    "\n",
    "### Question 2.5.b\n",
    "Describe what you observed while changing the number of samples in your investigation. Your response should describe how the number of samples impacts, if at all, the distribution of the sample means. Use specific values of statistics that were computed, as well as visual characteristics of the histograms that were generated in your investigation in your response."
   ]
  },
  {
   "cell_type": "markdown",
   "metadata": {},
   "source": [
    "_Type your answer here, replacing this text._"
   ]
  },
  {
   "cell_type": "markdown",
   "metadata": {
    "deletable": false,
    "editable": false
   },
   "source": [
    "<!-- END QUESTION -->\n",
    "\n",
    "From these two plots, we can see that the SD of our **sample** approaches the SD of our population as our sample size increases, but the SD of our **sample means** (in other words, the variability of the sample mean) decreases as our sample size increases."
   ]
  },
  {
   "cell_type": "markdown",
   "metadata": {
    "deletable": false,
    "editable": false
   },
   "source": [
    "### Question 2.6\n",
    "\n",
    "Let's think about how the relationships between the standard deviation of a population (population SD), the standard deviation of observations in a single sample (sample SD), and the standard deviation of many sample means (SD of sample means) change with varying sample size. \n",
    "\n",
    "Which of the following is true? Assign an array of integer(s) to `pop_vs_sample` that correspond to the statements below that are TRUE. \n",
    "\n",
    "1. Sample SD gets smaller with increasing sample size.\n",
    "2. Sample SD gets larger with increasing sample size.\n",
    "3. Sample SD becomes more consistent with population SD with increasing sample size.\n",
    "4. SD of sample means gets smaller with increasing sample size.\n",
    "5. SD of sample means gets larger with increasing sample size.\n",
    "6. SD of sample means stays the same with increasing sample size."
   ]
  },
  {
   "cell_type": "code",
   "execution_count": null,
   "metadata": {
    "execution": {
     "iopub.execute_input": "2024-01-26T21:13:36.745447Z",
     "iopub.status.busy": "2024-01-26T21:13:36.745189Z",
     "iopub.status.idle": "2024-01-26T21:13:36.748621Z",
     "shell.execute_reply": "2024-01-26T21:13:36.748036Z"
    },
    "tags": []
   },
   "outputs": [],
   "source": [
    "pop_vs_sample = ..."
   ]
  },
  {
   "cell_type": "code",
   "execution_count": null,
   "metadata": {
    "deletable": false,
    "editable": false
   },
   "outputs": [],
   "source": [
    "grader.check(\"q2_6\")"
   ]
  },
  {
   "cell_type": "markdown",
   "metadata": {},
   "source": [
    "## What about Bootstrapping?\n",
    "Throughout this lab, we have been taking many random samples from a population. However, all of these principles hold for bootstrapped resamples from a single sample. \n",
    "\n",
    "That's it. You've completed Lab 8. There weren't many tests, but there were a lot of points at which you should've stopped and understood exactly what was going on. Consult the textbook or ask your instructor if you have any other questions."
   ]
  },
  {
   "cell_type": "markdown",
   "metadata": {},
   "source": [
    "# Submitting your work\n",
    "You're done with this assignment! Assignments should be turned in using the following best practices:\n",
    "1. Save your notebook.\n",
    "2. Restart the kernel and run all cells up to this one.\n",
    "3. Run the cell below with the code `grader.export(...)`. This will re-run all the tests. Make sure they are passing as you expect them to.\n",
    "4. Download the file named `lab08_<date-time-stamp>.zip`, found in the explorer pane on the left side of the screen. **Note**: Clicking on the link in this notebook may result in an error, it's best to download from the file explorer panel.\n",
    "5. Upload `lab08_<date-time-stamp>.zip` to the corresponding assignment on Canvas."
   ]
  },
  {
   "cell_type": "markdown",
   "metadata": {
    "deletable": false,
    "editable": false
   },
   "source": [
    "## Submission\n",
    "\n",
    "Make sure you have run all cells in your notebook in order before running the cell below, so that all images/graphs appear in the output. The cell below will generate a zip file for you to submit."
   ]
  },
  {
   "cell_type": "code",
   "execution_count": null,
   "metadata": {
    "deletable": false,
    "editable": false
   },
   "outputs": [],
   "source": [
    "grader.export(pdf=False, force_save=True)"
   ]
  },
  {
   "cell_type": "markdown",
   "metadata": {},
   "source": [
    " "
   ]
  }
 ],
 "metadata": {
  "kernelspec": {
   "display_name": "Python 3 (ipykernel)",
   "language": "python",
   "name": "python3"
  },
  "language_info": {
   "codemirror_mode": {
    "name": "ipython",
    "version": 3
   },
   "file_extension": ".py",
   "mimetype": "text/x-python",
   "name": "python",
   "nbconvert_exporter": "python",
   "pygments_lexer": "ipython3",
   "version": "3.11.5"
  },
  "otter": {
   "OK_FORMAT": true,
   "tests": {
    "q1_2": {
     "name": "q1_2",
     "points": null,
     "suites": [
      {
       "cases": [
        {
         "code": ">>> mean_median in [1, 2, 3]\nTrue",
         "failure_message": "❌ `mean_median` has not been assigned a valid choice of 1, 2, or 3",
         "hidden": false,
         "locked": false,
         "points": 0,
         "success_message": "✅ `mean_median` is a valid choice"
        }
       ],
       "scored": true,
       "setup": "",
       "teardown": "",
       "type": "doctest"
      }
     ]
    },
    "q1_3": {
     "name": "q1_3",
     "points": null,
     "suites": [
      {
       "cases": [
        {
         "code": ">>> age_mean < 100 and age_sd < 10\nTrue",
         "failure_message": "❌ The values of either `age_mean` or `age_sd` (or both) are not reasonable for this dataset",
         "hidden": false,
         "locked": false,
         "points": 0,
         "success_message": "✅ `age_mean` and `age_sd` are reasonable values"
        }
       ],
       "scored": true,
       "setup": "",
       "teardown": "",
       "type": "doctest"
      }
     ]
    },
    "q1_4": {
     "name": "q1_4",
     "points": null,
     "suites": [
      {
       "cases": [
        {
         "code": ">>> height_mean < 100 and height_sd < 10\nTrue",
         "failure_message": "❌ The values of either `height_mean` or `height_sd` (or both) are not reasonable for this dataset",
         "hidden": false,
         "locked": false,
         "points": 0,
         "success_message": "✅ `height_mean` and `height_sd` are reasonable values"
        }
       ],
       "scored": true,
       "setup": "",
       "teardown": "",
       "type": "doctest"
      }
     ]
    },
    "q2_1": {
     "name": "q2_1",
     "points": null,
     "suites": [
      {
       "cases": [
        {
         "code": ">>> type(one_sample_mean(salaries, 'salary', 100)) in [float, np.float64]\nTrue",
         "failure_message": "❌ `one_sample_mean` does not return a `float`",
         "hidden": false,
         "locked": false,
         "points": 0,
         "success_message": "✅ `one_sample_mean` returns a `float`"
        },
        {
         "code": ">>> np.random.seed(1219)\n>>> np.isclose(one_sample_mean(salaries, 'salary', 100), 75197.4788)\nTrue",
         "failure_message": "❌ `one_sample_mean(salaries, 'salary', 100)` does not return correct values",
         "hidden": false,
         "locked": false,
         "points": 1,
         "success_message": "✅ `one_sample_mean(salaries, 'salary', 100)` returns correct values"
        }
       ],
       "scored": true,
       "setup": "",
       "teardown": "",
       "type": "doctest"
      }
     ]
    },
    "q2_4": {
     "name": "q2_4",
     "points": null,
     "suites": [
      {
       "cases": [
        {
         "code": ">>> set(q2_4).issubset(set([1, 2, 3, 4, 5, 6, 7]))\nTrue",
         "failure_message": "❌ `q2_4` contains at least one invalid choice",
         "hidden": false,
         "locked": false,
         "points": 0,
         "success_message": "✅ `q2_4` contains valid choices"
        }
       ],
       "scored": true,
       "setup": "",
       "teardown": "",
       "type": "doctest"
      }
     ]
    },
    "q2_6": {
     "name": "q2_6",
     "points": null,
     "suites": [
      {
       "cases": [
        {
         "code": ">>> set(pop_vs_sample).issubset(set([1, 2, 3, 4, 5, 6]))\nTrue",
         "failure_message": "❌ `pop_vs_sample` contains at least one invalid choice",
         "hidden": false,
         "locked": false,
         "points": 0,
         "success_message": "✅ `pop_vs_sample` contains valid choices"
        }
       ],
       "scored": true,
       "setup": "",
       "teardown": "",
       "type": "doctest"
      }
     ]
    }
   }
  }
 },
 "nbformat": 4,
 "nbformat_minor": 4
}
