{
 "cells": [
  {
   "cell_type": "code",
   "execution_count": null,
   "metadata": {
    "deletable": false,
    "editable": false
   },
   "outputs": [],
   "source": [
    "# Initialize Otter\n",
    "import otter\n",
    "grader = otter.Notebook(\"lab07.ipynb\")"
   ]
  },
  {
   "cell_type": "markdown",
   "metadata": {},
   "source": [
    "# Lab 07: Helicopter Drop\n",
    "\n",
    "Welcome to Lab 07."
   ]
  },
  {
   "cell_type": "code",
   "execution_count": null,
   "metadata": {
    "execution": {
     "iopub.execute_input": "2024-01-26T21:12:47.216823Z",
     "iopub.status.busy": "2024-01-26T21:12:47.216596Z",
     "iopub.status.idle": "2024-01-26T21:12:48.953838Z",
     "shell.execute_reply": "2024-01-26T21:12:48.952914Z"
    }
   },
   "outputs": [],
   "source": [
    "# Run this cell to set up the notebook, but please don't change it.\n",
    "\n",
    "# These lines import the Numpy and Datascience modules.\n",
    "import numpy as np\n",
    "from datascience import *\n",
    "\n",
    "# These lines do some fancy plotting\n",
    "import matplotlib\n",
    "%matplotlib inline\n",
    "import matplotlib.pyplot as plt\n",
    "plt.style.use('fivethirtyeight')"
   ]
  },
  {
   "cell_type": "markdown",
   "metadata": {},
   "source": [
    "## 1. A/B Testing\n",
    "\n",
    "A/B testing is a form of hypothesis testing that allows you to make comparisons between two numerical distributions. It is also called a permutation test.\n",
    "\n",
    "You'll almost never be explicitly asked to perform an A/B test by name, much like other forms of hypothesis testing. Make sure you can identify situations where this type of test is appropriate and know how to correctly implement each step. Remember, the goal of an A/B test is to determine if two samples came from the same underlying distribution, or from different distributions."
   ]
  },
  {
   "cell_type": "markdown",
   "metadata": {
    "deletable": false,
    "editable": false
   },
   "source": [
    "### Question 1.1.\n",
    "\n",
    "The following statements are the unordered steps of an A/B hypothesis test:\n",
    "\n",
    "1. Choose a test statistic (typically the difference in means between two categories)\n",
    "\n",
    "2. Shuffle the labels of the original sample, find your simulated test statistic, and repeat many times\n",
    "\n",
    "3. Find the value of the observed test statistic\n",
    "\n",
    "4. Calculate the p-value based off your observed and simulated test statistics\n",
    "\n",
    "5. Define a null and alternate model\n",
    "\n",
    "6. Use the p-value and p-value cutoff to draw a conclusion about the null hypothesis\n",
    "\n",
    "Make an array called `ab_test_order` that contains the correct order of an A/B test, where the first item of the array is the first step of an A/B test and the last item of the array is the last step of an A/B test\n"
   ]
  },
  {
   "cell_type": "code",
   "execution_count": null,
   "metadata": {
    "execution": {
     "iopub.execute_input": "2024-01-26T21:12:48.958374Z",
     "iopub.status.busy": "2024-01-26T21:12:48.957501Z",
     "iopub.status.idle": "2024-01-26T21:12:48.961949Z",
     "shell.execute_reply": "2024-01-26T21:12:48.961113Z"
    },
    "tags": []
   },
   "outputs": [],
   "source": [
    "ab_test_order = ..."
   ]
  },
  {
   "cell_type": "code",
   "execution_count": null,
   "metadata": {
    "deletable": false,
    "editable": false
   },
   "outputs": [],
   "source": [
    "grader.check(\"q1_1\")"
   ]
  },
  {
   "cell_type": "markdown",
   "metadata": {
    "deletable": false,
    "editable": false
   },
   "source": [
    "<!-- BEGIN QUESTION -->\n",
    "\n",
    "### Question 1.2.\n",
    "\n",
    "If the null hypothesis of an A/B test is correct what value would be expected, on average, when computing the difference of the mean between the two categories?"
   ]
  },
  {
   "cell_type": "markdown",
   "metadata": {},
   "source": [
    "_Type your answer here, replacing this text._"
   ]
  },
  {
   "cell_type": "markdown",
   "metadata": {
    "deletable": false,
    "editable": false
   },
   "source": [
    "<!-- END QUESTION -->\n",
    "\n",
    "<!-- BEGIN QUESTION -->\n",
    "\n",
    "### Question 1.3\n",
    "\n",
    "Why do we shuffle labels in an A/B test? \n"
   ]
  },
  {
   "cell_type": "markdown",
   "metadata": {},
   "source": [
    "_Type your answer here, replacing this text._"
   ]
  },
  {
   "cell_type": "markdown",
   "metadata": {
    "deletable": false,
    "editable": false
   },
   "source": [
    "<!-- END QUESTION -->\n",
    "\n",
    "## 2. Paper Helicopters\n",
    "\n",
    "The Paper Helicopter Experiment (https://www.paperhelicopterexperiment.com/) provides different templates for constructing paper helicopters that can be dropped. The designs can be modified to create helicopters with different dimensions for the wings, body, weighting, and more. In this lab you'll investigate whether the length of the rotor and the amount of weight attached to helicopter results in a different in the time it takes to fall from a 3rd floor stairwell. To conduct your analysis, you'll use an A/B test.\n",
    "\n",
    "### The Data\n",
    "This data was collected by a group of NCSSM-Online students during online weekend held October 2nd, 2021. Five groups of students dropped 143 paper helicopters in total. There were 4 unique configurations that were assigned to the groups, one per group.\n",
    "\n",
    "1. The Default: Full length (long) rotors, unweighted body\n",
    "2. The Short: Short rotors, unweighted body\n",
    "3. The Heavy: Long rotors, weighted body\n",
    "4. The Short Heavy: Short rotors, weighted body\n",
    "\n",
    "The following features were recorded for each helicopter dropped:\n",
    "* `Rotor`: Long or Short (string). Indicates if the helicopter had full length or shortened rotors.\n",
    "* `Weight`: Weighted or Unweighted (string). Indicates if the helicopter had a weighted (3 paperclips) or unweighted body.\n",
    "* `Team`: 1, 2, 3, 4, or 5 (int). Indicates which team\n",
    "* `Location`: Side A or Side B (string). Indicates which side of the building the helicopters were dropped from.\n",
    "* `Obstruction`: True or False (Boolean). Indicates if the helicopter hit the stairwell or other object on the way down.\n",
    "* `Time`: (Float). Time, measured in seconds, it took for the helicopter to hit the ground after being released.\n",
    "\n",
    "Run the following cell to load the data in as the table named `helicopters_raw_data`."
   ]
  },
  {
   "cell_type": "code",
   "execution_count": null,
   "metadata": {
    "execution": {
     "iopub.execute_input": "2024-01-26T21:12:49.030751Z",
     "iopub.status.busy": "2024-01-26T21:12:49.030158Z",
     "iopub.status.idle": "2024-01-26T21:12:49.040148Z",
     "shell.execute_reply": "2024-01-26T21:12:49.039325Z"
    }
   },
   "outputs": [],
   "source": [
    "helicopters_raw_data = Table.read_table('helicopters.csv')\n",
    "helicopters_raw_data"
   ]
  },
  {
   "cell_type": "markdown",
   "metadata": {},
   "source": [
    "You'll notice that due to variation in the helicopter construction, wind/weather, and randomness of the universe not every drop time was identical, even for the helicopters with the same configurations. Let's explore the data a bit to see how the drop times varied."
   ]
  },
  {
   "cell_type": "markdown",
   "metadata": {
    "deletable": false,
    "editable": false
   },
   "source": [
    "### Question 2.1.\n",
    "\n",
    "Let's start by cleaning the data a little. This dataset has several measurements taken where the helicopter hit the stairwell, a nearby building, or some other obstruction that impacted the fall time. These results should be discarded since they might introduce unexpected variation in the fall times that would impact the ability to draw a causal inference from the analysis that follows.\n",
    "\n",
    "Create a new table called `helicopters` that only contains the rows of `helicopters_raw_data` that correspond to a helicopter that did **not** hit an obstruction during the fall."
   ]
  },
  {
   "cell_type": "code",
   "execution_count": null,
   "metadata": {
    "execution": {
     "iopub.execute_input": "2024-01-26T21:12:49.043486Z",
     "iopub.status.busy": "2024-01-26T21:12:49.042904Z",
     "iopub.status.idle": "2024-01-26T21:12:49.049740Z",
     "shell.execute_reply": "2024-01-26T21:12:49.048928Z"
    },
    "tags": []
   },
   "outputs": [],
   "source": [
    "helicopters = ...\n",
    "helicopters"
   ]
  },
  {
   "cell_type": "code",
   "execution_count": null,
   "metadata": {
    "deletable": false,
    "editable": false
   },
   "outputs": [],
   "source": [
    "grader.check(\"q2_1\")"
   ]
  },
  {
   "cell_type": "markdown",
   "metadata": {
    "deletable": false,
    "editable": false
   },
   "source": [
    "<!-- BEGIN QUESTION -->\n",
    "\n",
    "### Question 2.2\n",
    "Suppose you're interested in determining how the rotor length might impact fall time. Start by creating a histogram that displays the distribution of times for helicopters with long and short rotors, overlaid. Use the provided bins stored to `my_bins` and the `group` argument to create the necessary histogram."
   ]
  },
  {
   "cell_type": "code",
   "execution_count": null,
   "metadata": {
    "execution": {
     "iopub.execute_input": "2024-01-26T21:12:49.087729Z",
     "iopub.status.busy": "2024-01-26T21:12:49.087058Z",
     "iopub.status.idle": "2024-01-26T21:12:49.412257Z",
     "shell.execute_reply": "2024-01-26T21:12:49.411342Z"
    },
    "tags": []
   },
   "outputs": [],
   "source": [
    "my_bins = np.arange(2, 9.5, 0.5)\n",
    "..."
   ]
  },
  {
   "cell_type": "markdown",
   "metadata": {
    "deletable": false,
    "editable": false
   },
   "source": [
    "<!-- END QUESTION -->\n",
    "\n",
    "You can see it's fairly easy to compare these two distributions now that they're on the same scale and set of axes."
   ]
  },
  {
   "cell_type": "markdown",
   "metadata": {},
   "source": [
    "## 3. The Rotor Question\n",
    "\n",
    "You might now be wondering if there is a difference between the fall times of helicopters with long (full length) vs. short rotors. It certainly appears that the distributions *might* be different than each other, but visual inspection can often be deceiving.  Use the set of collected data to make a more statistically rigorous determination."
   ]
  },
  {
   "cell_type": "markdown",
   "metadata": {},
   "source": [
    "### Running an experiment\n",
    "\n",
    "We are going to run the following hypothesis test to determine either the association or causal link between the rotor length of a helicopter and the time it takes to fall to the ground. We are going to use the following null and alternative hypotheses:\n",
    "\n",
    "**Null hypothesis**: The distribution of helicopters with long rotors and short rotors is the same.\n",
    "\n",
    "**Alternative hypothesis**: Helicopters with long rotors take more time to fall to the ground on average.\n",
    "\n",
    "Our alternative hypothesis is related to our suspicion that helicopters with long rotors fall slower, since there is more material to cause resistance against the air as the helicopter falls to the ground."
   ]
  },
  {
   "cell_type": "markdown",
   "metadata": {
    "deletable": false,
    "editable": false
   },
   "source": [
    "<!-- BEGIN QUESTION -->\n",
    "\n",
    "### Question 3.1.\n",
    "\n",
    "Why is an A/B test appropriate for this situation? What would you use as the \"A\" group (the control group) and which group is the \"B\" group (the treatment group)?"
   ]
  },
  {
   "cell_type": "markdown",
   "metadata": {},
   "source": [
    "_Type your answer here, replacing this text._"
   ]
  },
  {
   "cell_type": "markdown",
   "metadata": {
    "deletable": false,
    "editable": false
   },
   "source": [
    "<!-- END QUESTION -->\n",
    "\n",
    "<!-- BEGIN QUESTION -->\n",
    "\n",
    "### Question 3.2.\n",
    "\n",
    "We want to figure out if there is a difference between the distribution of fall times for full length and shortened rotor helicopters. Specifically, we want to test if fall times were longer for longer rotor helicopters than they were for shorter rotor helicopters. \n",
    "\n",
    "What should the test statistic be to test this hypothesis? What values of this statistic would support the alternative hypothesis?"
   ]
  },
  {
   "cell_type": "markdown",
   "metadata": {},
   "source": [
    "_Type your answer here, replacing this text._"
   ]
  },
  {
   "cell_type": "markdown",
   "metadata": {
    "deletable": false,
    "editable": false
   },
   "source": [
    "<!-- END QUESTION -->\n",
    "\n",
    "### Question 3.3.\n",
    "\n",
    "Create a Table named `time_means` that contains the average fall time for both categories of helicopters: full length rotor helicopters, and the shortened rotor helicopters. The Table should have two columns: one indicating the rotor length, and one that contains the average fall time for the corresponding group.\n",
    "\n",
    "**Hint:** Use a combination of `.select()` and `.group()` to generate this Table."
   ]
  },
  {
   "cell_type": "code",
   "execution_count": null,
   "metadata": {
    "execution": {
     "iopub.execute_input": "2024-01-26T21:12:49.416228Z",
     "iopub.status.busy": "2024-01-26T21:12:49.415950Z",
     "iopub.status.idle": "2024-01-26T21:12:49.423853Z",
     "shell.execute_reply": "2024-01-26T21:12:49.423065Z"
    },
    "tags": []
   },
   "outputs": [],
   "source": [
    "time_means = ...\n",
    "time_means"
   ]
  },
  {
   "cell_type": "code",
   "execution_count": null,
   "metadata": {
    "deletable": false,
    "editable": false
   },
   "outputs": [],
   "source": [
    "grader.check(\"q3_3\")"
   ]
  },
  {
   "cell_type": "markdown",
   "metadata": {
    "deletable": false,
    "editable": false
   },
   "source": [
    "### Question 3.4.\n",
    "\n",
    "Calculate the test statistic for our observed data using the `time_means` table. Set `observed_difference` to the value you compute. \n"
   ]
  },
  {
   "cell_type": "code",
   "execution_count": null,
   "metadata": {
    "execution": {
     "iopub.execute_input": "2024-01-26T21:12:49.450363Z",
     "iopub.status.busy": "2024-01-26T21:12:49.449867Z",
     "iopub.status.idle": "2024-01-26T21:12:49.455136Z",
     "shell.execute_reply": "2024-01-26T21:12:49.454314Z"
    },
    "tags": []
   },
   "outputs": [],
   "source": [
    "observed_difference = ...\n",
    "observed_difference"
   ]
  },
  {
   "cell_type": "code",
   "execution_count": null,
   "metadata": {
    "deletable": false,
    "editable": false
   },
   "outputs": [],
   "source": [
    "grader.check(\"q3_4\")"
   ]
  },
  {
   "cell_type": "markdown",
   "metadata": {
    "deletable": false,
    "editable": false
   },
   "source": [
    "### Question 3.5.\n",
    "\n",
    "To perform an A/B test, we'll need to compute similar statistics for our many simulations we'll run. Writing a function which returns a test statistic will be a great way to save time. Write a function named `find_test_stat` which takes in the arguments `table`, `labels_col`, and `values_col` that calculates the test statistic required for A/B testing.\n",
    "\n",
    "The `table` passed into this function will be a permutation of our original table and structured the same way. `labels_col` will be passed a string that matches the column label in `table` that contains the labels of the categories you'll be grouping by. `values_col` will be passed a string that matches the column label that contains the values that you'll be using to compute the test statistic.\n",
    "\n",
    "When you've written this function, you must be able to pass it any table and two specified column labels and the function should compute a test statistic required for an A/B test, not just for this problem, but any problem! For example, running `find_test_stat(helicopters, \"Rotor\", \"Time\")` should return the exact same test statistic you generated in an earlier question and running `find_test_stat(helicopters, \"Weight\", \"Time\")` would compute the test statistic based on the groups of time and **\"Weight\"** columns."
   ]
  },
  {
   "cell_type": "code",
   "execution_count": null,
   "metadata": {
    "execution": {
     "iopub.execute_input": "2024-01-26T21:12:49.479568Z",
     "iopub.status.busy": "2024-01-26T21:12:49.479329Z",
     "iopub.status.idle": "2024-01-26T21:12:49.486700Z",
     "shell.execute_reply": "2024-01-26T21:12:49.486139Z"
    },
    "tags": []
   },
   "outputs": [],
   "source": [
    "def find_test_stat(table, labels_col, values_col):\n",
    "    ...\n",
    "\n",
    "find_test_stat(helicopters, \"Rotor\", \"Time\")"
   ]
  },
  {
   "cell_type": "code",
   "execution_count": null,
   "metadata": {
    "deletable": false,
    "editable": false
   },
   "outputs": [],
   "source": [
    "grader.check(\"q3_5\")"
   ]
  },
  {
   "cell_type": "markdown",
   "metadata": {
    "deletable": false,
    "editable": false
   },
   "source": [
    "### Question 3.6.\n",
    "\n",
    "Write a function `simulate_and_test_statistic` to compute one trial of our A/B test. Your function should run a simulation and return a test statistic.\n",
    "\n",
    "**Hint:** You can \"shuffle\" the labels by using `.sample(with_replacement = False)` on the entire Table, and then select the column that contains the newly shuffled labels. Then, you can either overwrite the existing labels, **or**, extend the table with a new column labeled something similar to \"shuffled labels\". Just make sure you pass the correct label on to the `find_test_stat` function!\n",
    "\n",
    "Note: The autograder test here is fairly lenient, if you have an issue with the following questions, make sure to take a look at your answer to the previous question. Specifically, make sure that you are taking the directionality of our alternative hypothesis into account, meaning, check the order in which you are subtracting the average times."
   ]
  },
  {
   "cell_type": "code",
   "execution_count": null,
   "metadata": {
    "execution": {
     "iopub.execute_input": "2024-01-26T21:12:49.507490Z",
     "iopub.status.busy": "2024-01-26T21:12:49.506937Z",
     "iopub.status.idle": "2024-01-26T21:12:49.514495Z",
     "shell.execute_reply": "2024-01-26T21:12:49.513928Z"
    },
    "tags": []
   },
   "outputs": [],
   "source": [
    "def simulate_and_test_statistic(table, labels_col, values_col):\n",
    "    ...\n",
    "    \n",
    "simulate_and_test_statistic(helicopters, \"Rotor\", \"Time\")"
   ]
  },
  {
   "cell_type": "code",
   "execution_count": null,
   "metadata": {
    "deletable": false,
    "editable": false
   },
   "outputs": [],
   "source": [
    "grader.check(\"q3_6\")"
   ]
  },
  {
   "cell_type": "markdown",
   "metadata": {
    "deletable": false,
    "editable": false
   },
   "source": [
    "### Question 3.7.\n",
    "\n",
    "Use the `simulate_and_test_statistic` to simulate 5,000 trials of our A/B test and assign an array of the test statistics to `differences`."
   ]
  },
  {
   "cell_type": "code",
   "execution_count": null,
   "metadata": {
    "execution": {
     "iopub.execute_input": "2024-01-26T21:12:53.779580Z",
     "iopub.status.busy": "2024-01-26T21:12:53.778949Z",
     "iopub.status.idle": "2024-01-26T21:13:04.451944Z",
     "shell.execute_reply": "2024-01-26T21:13:04.451269Z"
    },
    "tags": []
   },
   "outputs": [],
   "source": [
    "# This cell might take a couple seconds to run\n",
    "differences = make_array()\n",
    "...\n",
    "differences"
   ]
  },
  {
   "cell_type": "code",
   "execution_count": null,
   "metadata": {
    "deletable": false,
    "editable": false
   },
   "outputs": [],
   "source": [
    "grader.check(\"q3_7\")"
   ]
  },
  {
   "cell_type": "markdown",
   "metadata": {},
   "source": [
    "Run the cell below to view a histogram of your simulated test statistics plotted with your observed test statistic. Think about what this might imply about the p-value and if there is sufficient evidence to reject the null hypothesis."
   ]
  },
  {
   "cell_type": "code",
   "execution_count": null,
   "metadata": {
    "execution": {
     "iopub.execute_input": "2024-01-26T21:13:04.475325Z",
     "iopub.status.busy": "2024-01-26T21:13:04.475075Z",
     "iopub.status.idle": "2024-01-26T21:13:04.773863Z",
     "shell.execute_reply": "2024-01-26T21:13:04.773188Z"
    }
   },
   "outputs": [],
   "source": [
    "Table().with_column('Difference Between Group Means', differences).hist()\n",
    "plt.scatter(observed_difference, -0.01, color = 'red', s = 60, marker=\"^\", zorder = 2);"
   ]
  },
  {
   "cell_type": "markdown",
   "metadata": {
    "deletable": false,
    "editable": false
   },
   "source": [
    "### Question 3.8.\n",
    "\n",
    "Compute the empirical p-value using the statistics from your simulation and the observed value of the test statistic. Assign it to `empirical_p`"
   ]
  },
  {
   "cell_type": "code",
   "execution_count": null,
   "metadata": {
    "execution": {
     "iopub.execute_input": "2024-01-26T21:13:04.776897Z",
     "iopub.status.busy": "2024-01-26T21:13:04.776662Z",
     "iopub.status.idle": "2024-01-26T21:13:04.781308Z",
     "shell.execute_reply": "2024-01-26T21:13:04.780742Z"
    },
    "tags": []
   },
   "outputs": [],
   "source": [
    "empirical_p = ...\n",
    "empirical_p"
   ]
  },
  {
   "cell_type": "code",
   "execution_count": null,
   "metadata": {
    "deletable": false,
    "editable": false
   },
   "outputs": [],
   "source": [
    "grader.check(\"q3_8\")"
   ]
  },
  {
   "cell_type": "markdown",
   "metadata": {
    "deletable": false,
    "editable": false
   },
   "source": [
    "<!-- BEGIN QUESTION -->\n",
    "\n",
    "### Question 3.9.\n",
    "\n",
    "Your p-value should have been very small, perhaps even 0! Since this value is less than the standard p-value cutoff of 5 percent, we would reject the null hypothesis. Is there enough to claim that the difference in rotor length **causes** the difference in fall time, or does it just show association? Explain your answer using both the design of the experiment and the result of of the A/B test."
   ]
  },
  {
   "cell_type": "markdown",
   "metadata": {},
   "source": [
    "_Type your answer here, replacing this text._"
   ]
  },
  {
   "cell_type": "markdown",
   "metadata": {
    "deletable": false,
    "editable": false
   },
   "source": [
    "<!-- END QUESTION -->\n",
    "\n",
    "## 4. Bonus Investigation (Optional, Not graded)\n",
    "\n",
    "Collect your own helicopter data on your own as part of a class activity. Load the data in the cell below and perform a similar A/B test using *your* data. You should be able to use the functions you wrote as part of this lab activity to quickly perform an analysis."
   ]
  },
  {
   "cell_type": "code",
   "execution_count": null,
   "metadata": {
    "execution": {
     "iopub.execute_input": "2024-01-26T21:13:04.791295Z",
     "iopub.status.busy": "2024-01-26T21:13:04.791069Z",
     "iopub.status.idle": "2024-01-26T21:13:04.794129Z",
     "shell.execute_reply": "2024-01-26T21:13:04.793535Z"
    }
   },
   "outputs": [],
   "source": [
    "# Your analysis could go here if you choose to complete it.\n"
   ]
  },
  {
   "cell_type": "markdown",
   "metadata": {},
   "source": [
    "Complete a similar analysis by:\n",
    "\n",
    "* selecting a category to group your data by (rotor length, color of paper, weight of helicopter, etc.)\n",
    "* computing the observed value of the test statistic\n",
    "* simulating 5,000 A/B tests to create a distribution of the test statistic under the assumptions of the null hypothesis\n",
    "* compute the empirical p-value\n",
    "* determine if there is a difference in the drop times between the two groups in the selected category."
   ]
  },
  {
   "cell_type": "markdown",
   "metadata": {},
   "source": [
    "# Submitting your work\n",
    "You're done with this assignment! Assignments should be turned in using the following best practices:\n",
    "1. Save your notebook.\n",
    "2. Restart the kernel and run all cells up to this one.\n",
    "3. Run the cell below with the code `grader.export(...)`. This will re-run all the tests. Make sure they are passing as you expect them to.\n",
    "4. Download the file named `lab07_<date-time-stamp>.zip`, found in the explorer pane on the left side of the screen. **Note**: Clicking on the link in this notebook may result in an error, it's best to download from the file explorer panel.\n",
    "5. Upload `lab07_<date-time-stamp>.zip` to the corresponding assignment on Canvas."
   ]
  },
  {
   "cell_type": "markdown",
   "metadata": {
    "deletable": false,
    "editable": false
   },
   "source": [
    "## Submission\n",
    "\n",
    "Make sure you have run all cells in your notebook in order before running the cell below, so that all images/graphs appear in the output. The cell below will generate a zip file for you to submit."
   ]
  },
  {
   "cell_type": "code",
   "execution_count": null,
   "metadata": {
    "deletable": false,
    "editable": false
   },
   "outputs": [],
   "source": [
    "grader.export(pdf=False, force_save=True)"
   ]
  },
  {
   "cell_type": "markdown",
   "metadata": {},
   "source": [
    " "
   ]
  }
 ],
 "metadata": {
  "kernelspec": {
   "display_name": "Python 3 (ipykernel)",
   "language": "python",
   "name": "python3"
  },
  "language_info": {
   "codemirror_mode": {
    "name": "ipython",
    "version": 3
   },
   "file_extension": ".py",
   "mimetype": "text/x-python",
   "name": "python",
   "nbconvert_exporter": "python",
   "pygments_lexer": "ipython3",
   "version": "3.11.5"
  },
  "otter": {
   "OK_FORMAT": true,
   "tests": {
    "q1_1": {
     "name": "q1_1",
     "points": null,
     "suites": [
      {
       "cases": [
        {
         "code": ">>> len(ab_test_order) == 6\nTrue",
         "failure_message": "❌ `ab_test_order` does not have the correct number of elements in it",
         "hidden": false,
         "locked": false,
         "points": 0,
         "success_message": "✅ `ab_test_order` has the correct number of elements in it"
        }
       ],
       "scored": true,
       "setup": "",
       "teardown": "",
       "type": "doctest"
      }
     ]
    },
    "q2_1": {
     "name": "q2_1",
     "points": null,
     "suites": [
      {
       "cases": [
        {
         "code": ">>> helicopters.num_rows\n130",
         "failure_message": "❌ `helicopters` does not have the correct number of rows in it. Did you correctly remove the obstruction rows?",
         "hidden": false,
         "locked": false,
         "points": 0.5,
         "success_message": "✅ `helicopters` has the correct number of rows in it"
        },
        {
         "code": ">>> all(helicopters.column('Obstruction') == False)\nTrue",
         "failure_message": "❌ `helicopters` has at least one True values in the \"Obstruction\" column.",
         "hidden": false,
         "locked": false,
         "points": 0.5,
         "success_message": "✅ `helicopters` does not have any True values in the \"Obstruction\" column."
        }
       ],
       "scored": true,
       "setup": "",
       "teardown": "",
       "type": "doctest"
      }
     ]
    },
    "q3_3": {
     "name": "q3_3",
     "points": null,
     "suites": [
      {
       "cases": [
        {
         "code": ">>> time_means.num_rows\n2",
         "failure_message": "❌ `time_means` does not have the correct number of rows. Use `.group` and select the \"Rotor\" column.",
         "hidden": false,
         "locked": false,
         "points": 0.2,
         "success_message": "✅ `time_means` has the correct number of rows"
        },
        {
         "code": ">>> np.isclose(time_means.where('Rotor', 'Long').column(1).item(0), 5.610666666666667)\nTrue",
         "failure_message": "❌ `time_means` does not have the correct value in the Long row",
         "hidden": false,
         "locked": false,
         "points": 0.4,
         "success_message": "✅ `time_means` has the correct value in the Long row"
        },
        {
         "code": ">>> np.isclose(time_means.where('Rotor', 'Short').column(1).item(0), 3.963636363636364)\nTrue",
         "failure_message": "❌ `time_means` does not have the correct value in the Short row",
         "hidden": false,
         "locked": false,
         "points": 0.4,
         "success_message": "✅ `time_means` has the correct value in the Short row"
        }
       ],
       "scored": true,
       "setup": "",
       "teardown": "",
       "type": "doctest"
      }
     ]
    },
    "q3_4": {
     "name": "q3_4",
     "points": null,
     "suites": [
      {
       "cases": [
        {
         "code": ">>> np.isclose(observed_difference, 1.647030303030303)\nTrue",
         "failure_message": "❌ `observed_difference` does not have the correct value",
         "hidden": false,
         "locked": false,
         "points": 1,
         "success_message": "✅ `observed_difference` has the correct value"
        }
       ],
       "scored": true,
       "setup": "",
       "teardown": "",
       "type": "doctest"
      }
     ]
    },
    "q3_5": {
     "name": "q3_5",
     "points": null,
     "suites": [
      {
       "cases": [
        {
         "code": ">>> np.isclose(find_test_stat(helicopters, 'Rotor', 'Time'), 1.647030303030303)\nTrue",
         "failure_message": "❌ `find_test_stat` does not return the correct value for the statistic for the \"Rotor\" and \"Time\" columns",
         "hidden": false,
         "locked": false,
         "points": 0.5,
         "success_message": "✅ `find_test_stat` returns the correct value for the statistic for the \"Rotor\" and \"Time\" columns"
        },
        {
         "code": ">>> np.isclose(find_test_stat(helicopters, 'Weight', 'Time'), 0.9997304582210234)\nTrue",
         "failure_message": "❌ `find_test_stat` does not return the correct value for the statistic for the \"Weight\" and \"Time\" columns",
         "hidden": false,
         "locked": false,
         "points": 0.5,
         "success_message": "✅ `find_test_stat` returns the correct value for the statistic for the \"Weight\" and \"Time\" columns"
        }
       ],
       "scored": true,
       "setup": "",
       "teardown": "",
       "type": "doctest"
      }
     ]
    },
    "q3_6": {
     "name": "q3_6",
     "points": null,
     "suites": [
      {
       "cases": [
        {
         "code": ">>> abs(np.mean([simulate_and_test_statistic(helicopters, 'Rotor', 'Time') for i in range(1000)])) < 0.02 and 0.19 <= np.std([simulate_and_test_statistic(helicopters, 'Rotor', 'Time') for i in range(1000)]) <= 0.25\nTrue",
         "failure_message": "❌ `simulate_and_test_statistic` does not appear to correctly simulate values under the null hypothesis based on 1000 simulations",
         "hidden": false,
         "locked": false,
         "points": 1,
         "success_message": "✅ `simulate_and_test_statistic` appears to correctly simulate values under the null hypothesis based on 1000 simulations"
        }
       ],
       "scored": true,
       "setup": "",
       "teardown": "",
       "type": "doctest"
      }
     ]
    },
    "q3_7": {
     "name": "q3_7",
     "points": null,
     "suites": [
      {
       "cases": [
        {
         "code": ">>> len(differences) == 5000\nTrue",
         "failure_message": "❌ `differences` does not contain 5000 statistics. Are you appending each statistic to the array?",
         "hidden": false,
         "locked": false,
         "points": 0.5,
         "success_message": "✅ `differences` contains 5000 statistics"
        },
        {
         "code": ">>> abs(np.average(differences)) < 0.02\nTrue",
         "failure_message": "❌ The statistics in `differences` do not appear to be correctly simulated based on your 5000 simulations",
         "hidden": false,
         "locked": false,
         "points": 0.5,
         "success_message": "✅ The statistics in `differences` appear to be correctly simulated based on your 5000 simulations"
        }
       ],
       "scored": true,
       "setup": "",
       "teardown": "",
       "type": "doctest"
      }
     ]
    },
    "q3_8": {
     "name": "q3_8",
     "points": null,
     "suites": [
      {
       "cases": [
        {
         "code": ">>> empirical_p < 0.01\nTrue",
         "failure_message": "❌ `empirical_p` is not larger than 0 but sufficiently small to be reasonable",
         "hidden": false,
         "locked": false,
         "points": 1,
         "success_message": "✅ `empirical_p` is larger than 0 and sufficiently small to be reasonable"
        }
       ],
       "scored": true,
       "setup": "",
       "teardown": "",
       "type": "doctest"
      }
     ]
    }
   }
  }
 },
 "nbformat": 4,
 "nbformat_minor": 4
}
