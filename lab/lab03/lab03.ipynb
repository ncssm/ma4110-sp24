{
 "cells": [
  {
   "cell_type": "code",
   "execution_count": null,
   "metadata": {
    "deletable": false,
    "editable": false
   },
   "outputs": [],
   "source": [
    "# Initialize Otter\n",
    "import otter\n",
    "grader = otter.Notebook(\"lab03.ipynb\")"
   ]
  },
  {
   "cell_type": "markdown",
   "metadata": {},
   "source": [
    "# Lab 03: Data Types and Arrays\n",
    "Welcome to Lab 03.\n",
    "\n",
    "So far, we've used Python to manipulate numbers and work with tables.  But we need to discuss data types to deepen our understanding of how to work with data in Python.\n",
    "\n",
    "In this lab, you'll first see how to represent and manipulate another fundamental type of data: text.  A piece of text is called a *string* in Python. You'll also see how to work with *arrays* of data, such as all the numbers between 0 and 100 or all the words in the chapter of a book. Lastly, you'll create tables and practice analyzing them with your knowledge of table operations."
   ]
  },
  {
   "cell_type": "code",
   "execution_count": null,
   "metadata": {
    "execution": {
     "iopub.execute_input": "2024-01-26T21:12:18.383305Z",
     "iopub.status.busy": "2024-01-26T21:12:18.383042Z",
     "iopub.status.idle": "2024-01-26T21:12:20.242471Z",
     "shell.execute_reply": "2024-01-26T21:12:20.241678Z"
    }
   },
   "outputs": [],
   "source": [
    "# Just run this cell\n",
    "import numpy as np\n",
    "import math\n",
    "from datascience import *"
   ]
  },
  {
   "cell_type": "markdown",
   "metadata": {},
   "source": [
    "# 1. Text\n",
    "Programming doesn't just concern numbers. Text is one of the most common data types used in programs. \n",
    "\n",
    "Text is represented by a **string value** in Python. The word \"string\" is a programming term for a sequence of characters. A string might contain a single character, a word, a sentence, or a whole book.\n",
    "\n",
    "To distinguish text data from actual code, we demarcate strings by putting quotation marks around them. Single quotes (`'`) and double quotes (`\"`) are both valid, but the types of opening and closing quotation marks must match. The contents can be any sequence of characters, including numbers and symbols. \n",
    "\n",
    "We've seen strings before in `print` statements.  Below, two different strings are passed as arguments to the `print` function."
   ]
  },
  {
   "cell_type": "code",
   "execution_count": null,
   "metadata": {
    "execution": {
     "iopub.execute_input": "2024-01-26T21:12:20.246380Z",
     "iopub.status.busy": "2024-01-26T21:12:20.245894Z",
     "iopub.status.idle": "2024-01-26T21:12:20.250253Z",
     "shell.execute_reply": "2024-01-26T21:12:20.249643Z"
    }
   },
   "outputs": [],
   "source": [
    "print(\"I <3\", 'Data Science')"
   ]
  },
  {
   "cell_type": "markdown",
   "metadata": {},
   "source": [
    "Just as names can be given to numbers, names can be given to string values.  The names and strings aren't required to be similar in any way. Any name can be assigned to any string."
   ]
  },
  {
   "cell_type": "code",
   "execution_count": null,
   "metadata": {
    "execution": {
     "iopub.execute_input": "2024-01-26T21:12:20.295825Z",
     "iopub.status.busy": "2024-01-26T21:12:20.295462Z",
     "iopub.status.idle": "2024-01-26T21:12:20.299768Z",
     "shell.execute_reply": "2024-01-26T21:12:20.299030Z"
    }
   },
   "outputs": [],
   "source": [
    "last_name = 'Bond'\n",
    "first_name = 'James'\n",
    "print(last_name, first_name, last_name)"
   ]
  },
  {
   "cell_type": "markdown",
   "metadata": {
    "deletable": false,
    "editable": false
   },
   "source": [
    "#### Question 1.1.\n",
    "\n",
    "Yuri Gagarin was the first person to travel through outer space.  When he emerged from his capsule upon landing on Earth, he [reportedly](https://en.wikiquote.org/wiki/Yuri_Gagarin) had the following conversation with a woman and girl who saw the landing:\n",
    "\n",
    "    The woman asked: \"Can it be that you have come from outer space?\"\n",
    "    Gagarin replied: \"As a matter of fact, I have!\"\n",
    "\n",
    "The cell below contains unfinished code.  Fill in the `...`s so that it prints out this conversation *exactly* as it appears above.\n"
   ]
  },
  {
   "cell_type": "code",
   "execution_count": null,
   "metadata": {
    "execution": {
     "iopub.execute_input": "2024-01-26T21:12:20.302638Z",
     "iopub.status.busy": "2024-01-26T21:12:20.302376Z",
     "iopub.status.idle": "2024-01-26T21:12:20.306601Z",
     "shell.execute_reply": "2024-01-26T21:12:20.306008Z"
    },
    "tags": []
   },
   "outputs": [],
   "source": [
    "woman_asking = ...\n",
    "woman_quote = '\"Can it be that you have come from outer space?\"'\n",
    "gagarin_reply = 'Gagarin replied:'\n",
    "gagarin_quote = ...\n",
    "\n",
    "print(woman_asking, woman_quote)\n",
    "print(gagarin_reply, gagarin_quote)"
   ]
  },
  {
   "cell_type": "code",
   "execution_count": null,
   "metadata": {
    "deletable": false,
    "editable": false
   },
   "outputs": [],
   "source": [
    "grader.check(\"q1_1\")"
   ]
  },
  {
   "cell_type": "markdown",
   "metadata": {},
   "source": [
    "## 1.1. String Methods\n",
    "\n",
    "Strings can be transformed using **methods**. Recall that methods and functions are not technically the same thing, but we'll be using them interchangeably for the purposes of this course.\n",
    "\n",
    "Here's a sketch of how to call methods on a string:\n",
    "\n",
    "    <expression that evaluates to a string>.<method name>(<argument>, <argument>, ...)\n",
    "    \n",
    "One example of a string method is `replace`, which replaces all instances of some part of the original string (or a *substring*) with a new string. \n",
    "\n",
    "    <original string>.replace(<old substring>, <new substring>)\n",
    "    \n",
    "`replace` returns (evaluates to) a new string, leaving the original string unchanged.\n",
    "    \n",
    "Try to predict the output of this example, then run the cell."
   ]
  },
  {
   "cell_type": "code",
   "execution_count": null,
   "metadata": {
    "execution": {
     "iopub.execute_input": "2024-01-26T21:12:20.326553Z",
     "iopub.status.busy": "2024-01-26T21:12:20.326303Z",
     "iopub.status.idle": "2024-01-26T21:12:20.330600Z",
     "shell.execute_reply": "2024-01-26T21:12:20.329982Z"
    }
   },
   "outputs": [],
   "source": [
    "# Replace one letter\n",
    "'Month'.replace('on', 'a')"
   ]
  },
  {
   "cell_type": "markdown",
   "metadata": {},
   "source": [
    "You can call functions on the results of other functions.  For example, `max(abs(-5), abs(3))` evaluates to 5.  Similarly, you can call methods on the results of other method or function calls.\n",
    "\n",
    "You may have already noticed one difference between functions and methods - a function like `max` does not require a `.` before it's called, but a string method like `replace` does."
   ]
  },
  {
   "cell_type": "code",
   "execution_count": null,
   "metadata": {
    "execution": {
     "iopub.execute_input": "2024-01-26T21:12:20.333337Z",
     "iopub.status.busy": "2024-01-26T21:12:20.333065Z",
     "iopub.status.idle": "2024-01-26T21:12:20.337433Z",
     "shell.execute_reply": "2024-01-26T21:12:20.336859Z"
    }
   },
   "outputs": [],
   "source": [
    "# Calling replace on the output of another call to replace\n",
    "'train'.replace('t', 'ing').replace('in', 'de')"
   ]
  },
  {
   "cell_type": "markdown",
   "metadata": {},
   "source": [
    "Here's a picture of how Python evaluates a \"chained\" method call like that:\n",
    "\n",
    "<img src=\"./chaining_method_calls.png\"/>"
   ]
  },
  {
   "cell_type": "markdown",
   "metadata": {
    "deletable": false,
    "editable": false
   },
   "source": [
    "#### Question 1.1.1.\n",
    "\n",
    "Use `replace` (or several `replace` calls linked together) to transform the string `'hitchhiker'` into `'matchmaker'`. Assign your result to `new_word`.\n"
   ]
  },
  {
   "cell_type": "code",
   "execution_count": null,
   "metadata": {
    "execution": {
     "iopub.execute_input": "2024-01-26T21:12:20.340432Z",
     "iopub.status.busy": "2024-01-26T21:12:20.340182Z",
     "iopub.status.idle": "2024-01-26T21:12:20.344726Z",
     "shell.execute_reply": "2024-01-26T21:12:20.344155Z"
    },
    "tags": []
   },
   "outputs": [],
   "source": [
    "new_word = 'hitchhiker'.replace(...,...)\n",
    "new_word"
   ]
  },
  {
   "cell_type": "code",
   "execution_count": null,
   "metadata": {
    "deletable": false,
    "editable": false
   },
   "outputs": [],
   "source": [
    "grader.check(\"q1_1_1\")"
   ]
  },
  {
   "cell_type": "markdown",
   "metadata": {},
   "source": [
    "There are many more string methods in Python, but most programmers don't memorize their names or how to use them.  In the \"real world,\" people usually just search the internet for documentation and examples. A complete [list of string methods](https://docs.python.org/3/library/stdtypes.html#string-methods) appears in the Python language documentation. [Stack Overflow](http://stackoverflow.com) has a huge database of answered questions that often demonstrate how to use these methods to achieve various ends."
   ]
  },
  {
   "cell_type": "markdown",
   "metadata": {},
   "source": [
    "## 1.2. Converting to and from Strings\n",
    "\n",
    "Strings and numbers are different *types* of values, even when a string contains the digits of a number. For example, evaluating the following cell causes an error because an integer cannot be added to a string.\n",
    "\n",
    "![error. Input: 8 + \"8\"   Output: TypeError: unsupported operand type(s) for +: 'int' and 'str'](error.png)"
   ]
  },
  {
   "cell_type": "markdown",
   "metadata": {},
   "source": [
    "However, there are built-in functions to convert numbers to strings and strings to numbers. Some of these built-in functions have restrictions on the type of argument they take:\n",
    "\n",
    "|Function |Description|\n",
    "|-|-|\n",
    "|`int`|Converts a string of digits or a float to an integer (\"int\") value|\n",
    "|`float`|Converts a string of digits (perhaps with a decimal point) or an int to a decimal (\"float\") value|\n",
    "|`str`|Converts any value to a string|\n",
    "\n",
    "Try to predict what data type and value `example` evaluates to, then run the cell."
   ]
  },
  {
   "cell_type": "code",
   "execution_count": null,
   "metadata": {
    "execution": {
     "iopub.execute_input": "2024-01-26T21:12:20.374922Z",
     "iopub.status.busy": "2024-01-26T21:12:20.374630Z",
     "iopub.status.idle": "2024-01-26T21:12:20.378843Z",
     "shell.execute_reply": "2024-01-26T21:12:20.378229Z"
    }
   },
   "outputs": [],
   "source": [
    "example = 8 + int(\"10\") + float(\"8\")\n",
    "\n",
    "print(example)\n",
    "print(\"This example returned a \" + str(type(example)) + \"!\")"
   ]
  },
  {
   "cell_type": "markdown",
   "metadata": {},
   "source": [
    "Suppose you're writing a program that looks for dates in a text, and you want your program to find the amount of time that elapsed between two years it has identified.  It doesn't make sense to subtract two texts, but you can first convert the text containing the years into numbers."
   ]
  },
  {
   "cell_type": "markdown",
   "metadata": {
    "deletable": false,
    "editable": false
   },
   "source": [
    "#### Question 1.2.1.\n",
    "\n",
    "Finish the code below to compute the number of years that elapsed between `one_year` and `another_year`.  Don't just write the numbers `1618` and `1648` (or `30`); use a conversion function to turn the given text data into numbers.\n"
   ]
  },
  {
   "cell_type": "code",
   "execution_count": null,
   "metadata": {
    "execution": {
     "iopub.execute_input": "2024-01-26T21:12:20.381730Z",
     "iopub.status.busy": "2024-01-26T21:12:20.381455Z",
     "iopub.status.idle": "2024-01-26T21:12:20.386200Z",
     "shell.execute_reply": "2024-01-26T21:12:20.385632Z"
    },
    "tags": []
   },
   "outputs": [],
   "source": [
    "# Some text data:\n",
    "one_year = \"1618\"\n",
    "another_year = \"1648\"\n",
    "\n",
    "# Complete the next line.  Note that we can't just write:\n",
    "#   another_year - one_year\n",
    "# If you don't see why, try seeing what happens when you\n",
    "# write that here.\n",
    "difference = ...\n",
    "difference"
   ]
  },
  {
   "cell_type": "code",
   "execution_count": null,
   "metadata": {
    "deletable": false,
    "editable": false
   },
   "outputs": [],
   "source": [
    "grader.check(\"q1_2_1\")"
   ]
  },
  {
   "cell_type": "markdown",
   "metadata": {},
   "source": [
    "## 1.3. Passing strings to functions\n",
    "\n",
    "String values, like numbers, can be arguments to functions and can be returned by functions. \n",
    "\n",
    "The function `len` (derived from the word \"length\") takes a single string as its argument and returns the number of characters (including spaces) in the string.\n",
    "\n",
    "Note that it doesn't count *words*. `len(\"one small step for man\")` evaluates to 22, not 5."
   ]
  },
  {
   "cell_type": "markdown",
   "metadata": {
    "deletable": false,
    "editable": false
   },
   "source": [
    "#### Question 1.3.1.\n",
    "\n",
    "Use `len` to find the number of characters in the long string in the next cell.  Characters include things like spaces and punctuation. Assign `sentence_length` to that number.\n",
    "\n",
    "(The string is the first sentence of the English translation of the French [Declaration of the Rights of Man](http://avalon.law.yale.edu/18th_century/rightsof.asp).)  \n"
   ]
  },
  {
   "cell_type": "code",
   "execution_count": null,
   "metadata": {
    "execution": {
     "iopub.execute_input": "2024-01-26T21:12:20.396679Z",
     "iopub.status.busy": "2024-01-26T21:12:20.396421Z",
     "iopub.status.idle": "2024-01-26T21:12:20.400952Z",
     "shell.execute_reply": "2024-01-26T21:12:20.400387Z"
    },
    "tags": []
   },
   "outputs": [],
   "source": [
    "a_very_long_sentence = \"The representatives of the French people, organized as a National Assembly, believing that the ignorance, neglect, or contempt of the rights of man are the sole cause of public calamities and of the corruption of governments, have determined to set forth in a solemn declaration the natural, unalienable, and sacred rights of man, in order that this declaration, being constantly before all the members of the Social body, shall remind them continually of their rights and duties; in order that the acts of the legislative power, as well as those of the executive power, may be compared at any moment with the objects and purposes of all political institutions and may thus be more respected, and, lastly, in order that the grievances of the citizens, based hereafter upon simple and incontestable principles, shall tend to the maintenance of the constitution and redound to the happiness of all.\"\n",
    "sentence_length = ...\n",
    "sentence_length"
   ]
  },
  {
   "cell_type": "code",
   "execution_count": null,
   "metadata": {
    "deletable": false,
    "editable": false
   },
   "outputs": [],
   "source": [
    "grader.check(\"q1_3_1\")"
   ]
  },
  {
   "cell_type": "markdown",
   "metadata": {},
   "source": [
    "# 2. Arrays\n",
    "\n",
    "Computers are most useful when you can use a small amount of code to *do the same action* to *many different things*.\n",
    "\n",
    "For example, in the time it takes you to calculate the 18% tip on a restaurant bill, a laptop can calculate 18% tips for every restaurant bill paid by every human on Earth that day. (That's if you're pretty fast at doing arithmetic in your head.)\n",
    "\n",
    "**Arrays** are how we put many values in one place so that we can operate on them as a group. For example, if `billions_of_numbers` is an array of numbers, the expression\n",
    "\n",
    "    .18 * billions_of_numbers\n",
    "\n",
    "gives a new array of numbers that contains the result of multiplying each number in `billions_of_numbers` by .18.  Arrays are not limited to numbers; we can also put all the words in a book into an array of strings.\n",
    "\n",
    "Concretely, an array is a **collection of values of the same type**. "
   ]
  },
  {
   "cell_type": "markdown",
   "metadata": {},
   "source": [
    "## 2.1. Making arrays\n",
    "\n",
    "First, let's learn how to manually input values into an array. This typically isn't how programs work. Normally, we create arrays by loading them from an external source, like a data file.\n",
    "\n",
    "To create an array by hand, call the function `make_array`.  Each argument you pass to `make_array` will be in the array it returns.  Run this cell to see an example:"
   ]
  },
  {
   "cell_type": "code",
   "execution_count": null,
   "metadata": {
    "execution": {
     "iopub.execute_input": "2024-01-26T21:12:20.410731Z",
     "iopub.status.busy": "2024-01-26T21:12:20.410473Z",
     "iopub.status.idle": "2024-01-26T21:12:20.415220Z",
     "shell.execute_reply": "2024-01-26T21:12:20.414593Z"
    }
   },
   "outputs": [],
   "source": [
    "make_array(0.125, 4.75, -1.3)"
   ]
  },
  {
   "cell_type": "markdown",
   "metadata": {},
   "source": [
    "Each value in an array (in the above case, the numbers 0.125, 4.75, and -1.3) is called an *element* of that array.\n",
    "\n",
    "Arrays themselves are also values, just like numbers and strings.  That means you can assign them to names or use them as arguments to functions. For example, `len(<some_array>)` returns the number of elements in `some_array`."
   ]
  },
  {
   "cell_type": "markdown",
   "metadata": {
    "deletable": false,
    "editable": false
   },
   "source": [
    "#### Question 2.1.1.\n",
    "\n",
    "Make an array containing the numbers 0, 1, -1, $\\pi$, and $e$, in that order.  Name it `interesting_numbers`.  \n",
    "\n",
    "**Hint:** How did you get the values $\\pi$ and $e$ in Lab 01?  You can refer to them in exactly the same way here. Don't forget, you already imported the `math` library at the start of this assignment.\n"
   ]
  },
  {
   "cell_type": "code",
   "execution_count": null,
   "metadata": {
    "execution": {
     "iopub.execute_input": "2024-01-26T21:12:20.418068Z",
     "iopub.status.busy": "2024-01-26T21:12:20.417817Z",
     "iopub.status.idle": "2024-01-26T21:12:20.422853Z",
     "shell.execute_reply": "2024-01-26T21:12:20.422156Z"
    },
    "tags": []
   },
   "outputs": [],
   "source": [
    "interesting_numbers = ...\n",
    "interesting_numbers"
   ]
  },
  {
   "cell_type": "code",
   "execution_count": null,
   "metadata": {
    "deletable": false,
    "editable": false
   },
   "outputs": [],
   "source": [
    "grader.check(\"q2_1_1\")"
   ]
  },
  {
   "cell_type": "markdown",
   "metadata": {
    "deletable": false,
    "editable": false
   },
   "source": [
    "#### Question 2.1.2\n",
    "\n",
    "Make an array containing the five strings \"Hello\", \",\", \" \", \"world\", and \"!\". (The third one is a single space inside quotes.) Name it hello_world_components.\n",
    "\n",
    "**Note:** If you evaluate `hello_world_components`, you'll notice some extra information in addition to its contents: `dtype='<U5'`. That's just NumPy's extremely cryptic way of saying that the data types in the array are strings.\n"
   ]
  },
  {
   "cell_type": "code",
   "execution_count": null,
   "metadata": {
    "execution": {
     "iopub.execute_input": "2024-01-26T21:12:20.474150Z",
     "iopub.status.busy": "2024-01-26T21:12:20.473806Z",
     "iopub.status.idle": "2024-01-26T21:12:20.478724Z",
     "shell.execute_reply": "2024-01-26T21:12:20.478145Z"
    },
    "tags": []
   },
   "outputs": [],
   "source": [
    "hello_world_components = ...\n",
    "hello_world_components"
   ]
  },
  {
   "cell_type": "code",
   "execution_count": null,
   "metadata": {
    "deletable": false,
    "editable": false
   },
   "outputs": [],
   "source": [
    "grader.check(\"q2_1_2\")"
   ]
  },
  {
   "cell_type": "markdown",
   "metadata": {},
   "source": [
    "### `np.arange`\n",
    "\n",
    "Arrays are provided by a package called [NumPy](https://www.numpy.org) (pronounced \"NUM-pie\"). The package is called numpy, but it's standard to rename it np for brevity. You can do that with:\n",
    "\n",
    "`import numpy as np`\n",
    "\n",
    "Very often in data science, we want to work with many numbers that are evenly spaced within some range. NumPy provides a special function for this called arange. The line of code `np.arange(start, stop, step)` evaluates to an array with all the numbers starting at start and counting up by step, stopping before stop is reached.\n",
    "\n",
    "Run the following cells to see some examples."
   ]
  },
  {
   "cell_type": "code",
   "execution_count": null,
   "metadata": {
    "execution": {
     "iopub.execute_input": "2024-01-26T21:12:20.502536Z",
     "iopub.status.busy": "2024-01-26T21:12:20.502285Z",
     "iopub.status.idle": "2024-01-26T21:12:20.507532Z",
     "shell.execute_reply": "2024-01-26T21:12:20.506697Z"
    }
   },
   "outputs": [],
   "source": [
    "# This array starts at 1 and counts up by 2\n",
    "# and then stops before 6\n",
    "np.arange(1, 6, 2)"
   ]
  },
  {
   "cell_type": "code",
   "execution_count": null,
   "metadata": {
    "execution": {
     "iopub.execute_input": "2024-01-26T21:12:20.510862Z",
     "iopub.status.busy": "2024-01-26T21:12:20.510222Z",
     "iopub.status.idle": "2024-01-26T21:12:20.515658Z",
     "shell.execute_reply": "2024-01-26T21:12:20.514809Z"
    }
   },
   "outputs": [],
   "source": [
    "# This array doesn't contain 9\n",
    "# because np.arange stops *before* the stop value is reached\n",
    "np.arange(4, 9, 1)"
   ]
  },
  {
   "cell_type": "markdown",
   "metadata": {
    "deletable": false,
    "editable": false
   },
   "source": [
    "#### Question 2.1.3.\n",
    "\n",
    "Use `np.arange` to create an array with the multiples of 99 from 0 up to (**and including**) 9999. (So its elements are 0, 99, 198, 297, etc.)\n"
   ]
  },
  {
   "cell_type": "code",
   "execution_count": null,
   "metadata": {
    "execution": {
     "iopub.execute_input": "2024-01-26T21:12:20.518691Z",
     "iopub.status.busy": "2024-01-26T21:12:20.518435Z",
     "iopub.status.idle": "2024-01-26T21:12:20.524014Z",
     "shell.execute_reply": "2024-01-26T21:12:20.523232Z"
    },
    "tags": []
   },
   "outputs": [],
   "source": [
    "multiples_of_99 = ...\n",
    "multiples_of_99"
   ]
  },
  {
   "cell_type": "code",
   "execution_count": null,
   "metadata": {
    "deletable": false,
    "editable": false
   },
   "outputs": [],
   "source": [
    "grader.check(\"q2_1_3\")"
   ]
  },
  {
   "cell_type": "markdown",
   "metadata": {},
   "source": [
    "### Temperature readings\n",
    "\n",
    "NOAA (the US National Oceanic and Atmospheric Administration) operates weather stations that measure surface temperatures at different sites around the United States. The hourly readings are [publicly](http://www.ncdc.noaa.gov/qclcd/QCLCD?prior=N) available.\n",
    "\n",
    "Suppose we download all the hourly data from the Durham, North Carolina site for the entire month of last December. To analyze the data, we will want to know when each temperature reading was taken, but we find that the temperature data that's been downloaded don't include the timestamps that indicate when the reading was taken within the month. However, we know the first reading was taken at the first instant of December (midnight on December 1st) and each subsequent reading was taken exactly 1 hour after the last.\n",
    "\n",
    "It is common when working with data recordings that span over several days of the month or hours within a day to pair the **elapsed time** with the data that's being recorded. For this example, let's assume that we want to use the number of **seconds** that have passed since the first recording was taken in the month of December. In practice, this *could* be seconds, minutes, hours, days, etc... whatever makes sense in the context of the data."
   ]
  },
  {
   "cell_type": "markdown",
   "metadata": {
    "deletable": false,
    "editable": false
   },
   "source": [
    "#### Question 2.1.4.\n",
    "\n",
    "Create an array of the time, **in seconds**, since the start of the month at which each hourly reading was taken. Name it `collection_times`.\n",
    "\n",
    "**Hint 1:** There were 31 days in December, which is equivalent to ($31 \\times 24$) hours or ($31 \\times 24 \\times 60 \\times 60$) seconds. So your array should have $31 \\times 24$ elements in it.\n",
    "\n",
    "**Hint 2:** The len function works on arrays, too! If your `collection_times` isn't passing the tests, check its length and make sure it has $31 \\times 24$ elements.\n"
   ]
  },
  {
   "cell_type": "code",
   "execution_count": null,
   "metadata": {
    "execution": {
     "iopub.execute_input": "2024-01-26T21:12:20.585093Z",
     "iopub.status.busy": "2024-01-26T21:12:20.584861Z",
     "iopub.status.idle": "2024-01-26T21:12:20.591475Z",
     "shell.execute_reply": "2024-01-26T21:12:20.590614Z"
    },
    "tags": []
   },
   "outputs": [],
   "source": [
    "collection_times = ...\n",
    "collection_times"
   ]
  },
  {
   "cell_type": "code",
   "execution_count": null,
   "metadata": {
    "deletable": false,
    "editable": false
   },
   "outputs": [],
   "source": [
    "grader.check(\"q2_1_4\")"
   ]
  },
  {
   "cell_type": "markdown",
   "metadata": {},
   "source": [
    "## 2.2. Working with single elements of arrays (\"indexing\")\n",
    "Let's work with a more interesting dataset. The next cell creates an array called `population_amounts` that includes estimated world populations in every year from 1950 to 2016. (The estimates come from the US Census Bureau website.)\n",
    "\n",
    "Rather than type in the data manually, we've loaded them from a file on your computer called `world_population.csv`. You'll learn how to do that later in this lab."
   ]
  },
  {
   "cell_type": "code",
   "execution_count": null,
   "metadata": {
    "execution": {
     "iopub.execute_input": "2024-01-26T21:12:20.627068Z",
     "iopub.status.busy": "2024-01-26T21:12:20.626464Z",
     "iopub.status.idle": "2024-01-26T21:12:20.634832Z",
     "shell.execute_reply": "2024-01-26T21:12:20.633982Z"
    }
   },
   "outputs": [],
   "source": [
    "population_amounts = Table.read_table(\"world_population.csv\").column(\"Population\")\n",
    "population_amounts"
   ]
  },
  {
   "cell_type": "markdown",
   "metadata": {},
   "source": [
    "Here's how we get the first element of population_amounts, which is the world population in the first year in the dataset, 1950."
   ]
  },
  {
   "cell_type": "code",
   "execution_count": null,
   "metadata": {
    "execution": {
     "iopub.execute_input": "2024-01-26T21:12:20.637711Z",
     "iopub.status.busy": "2024-01-26T21:12:20.637459Z",
     "iopub.status.idle": "2024-01-26T21:12:20.642713Z",
     "shell.execute_reply": "2024-01-26T21:12:20.641877Z"
    }
   },
   "outputs": [],
   "source": [
    "population_amounts.item(0)"
   ]
  },
  {
   "cell_type": "markdown",
   "metadata": {},
   "source": [
    "The value of that expression is the number 2557628654 (around 2.5 billion), because that's the first thing in the array `population_amounts`.\n",
    "\n",
    "## Note: Python (and often computers in general) starts counting at 0!\n",
    "Notice that we wrote `.item(0)`, not `.item(1)`, to get the first element. This is a weird convention in computer science. 0 is called the index of the first item. It's the number of elements that appear before that item. So 3 is the index of the 4th item.\n",
    "\n",
    "Here are some more examples. In the examples, we've given names to the things we get out of `population_amounts`. Read and run each cell."
   ]
  },
  {
   "cell_type": "code",
   "execution_count": null,
   "metadata": {
    "execution": {
     "iopub.execute_input": "2024-01-26T21:12:20.645640Z",
     "iopub.status.busy": "2024-01-26T21:12:20.645375Z",
     "iopub.status.idle": "2024-01-26T21:12:20.676972Z",
     "shell.execute_reply": "2024-01-26T21:12:20.676092Z"
    }
   },
   "outputs": [],
   "source": [
    "# The 13th element in the array is the population\n",
    "# in 1962 (which is 1950 + 12).\n",
    "population_1962 = population_amounts.item(12)\n",
    "population_1962"
   ]
  },
  {
   "cell_type": "code",
   "execution_count": null,
   "metadata": {
    "execution": {
     "iopub.execute_input": "2024-01-26T21:12:20.679847Z",
     "iopub.status.busy": "2024-01-26T21:12:20.679579Z",
     "iopub.status.idle": "2024-01-26T21:12:20.684867Z",
     "shell.execute_reply": "2024-01-26T21:12:20.684006Z"
    }
   },
   "outputs": [],
   "source": [
    "# The 66th element is the population in 2015.\n",
    "population_2015 = population_amounts.item(65)\n",
    "population_2015"
   ]
  },
  {
   "cell_type": "markdown",
   "metadata": {},
   "source": [
    "### Items that don't exist\n",
    "\n",
    "The code below demonstrates what happens if you attempt to use `.item` to select an element that doesn't exist in the array. In this case, we attempted to look up the population in the year 2023, which isn't contained in the data set.\n",
    "\n",
    "![](error2.png)"
   ]
  },
  {
   "cell_type": "markdown",
   "metadata": {},
   "source": [
    "### Chaining commands\n",
    "\n",
    "Since the `make_array` function returns an array, we can call `.item(3)` on its output to get its 4th element, just like we \"chained\" together calls to the method replace earlier."
   ]
  },
  {
   "cell_type": "code",
   "execution_count": null,
   "metadata": {
    "execution": {
     "iopub.execute_input": "2024-01-26T21:12:20.687806Z",
     "iopub.status.busy": "2024-01-26T21:12:20.687548Z",
     "iopub.status.idle": "2024-01-26T21:12:20.692872Z",
     "shell.execute_reply": "2024-01-26T21:12:20.692054Z"
    }
   },
   "outputs": [],
   "source": [
    "make_array(-1, -3, 4, -2).item(3)"
   ]
  },
  {
   "cell_type": "markdown",
   "metadata": {
    "deletable": false,
    "editable": false
   },
   "source": [
    "#### Question 2.2.1.\n",
    "\n",
    "Set `population_1973` to the world population in 1973, by getting the appropriate element from `population_amounts` using `item`."
   ]
  },
  {
   "cell_type": "code",
   "execution_count": null,
   "metadata": {
    "execution": {
     "iopub.execute_input": "2024-01-26T21:12:20.695875Z",
     "iopub.status.busy": "2024-01-26T21:12:20.695626Z",
     "iopub.status.idle": "2024-01-26T21:12:20.700704Z",
     "shell.execute_reply": "2024-01-26T21:12:20.699897Z"
    },
    "tags": []
   },
   "outputs": [],
   "source": [
    "population_1973 = ...\n",
    "population_1973"
   ]
  },
  {
   "cell_type": "code",
   "execution_count": null,
   "metadata": {
    "deletable": false,
    "editable": false
   },
   "outputs": [],
   "source": [
    "grader.check(\"q2_2_1\")"
   ]
  },
  {
   "cell_type": "markdown",
   "metadata": {},
   "source": [
    "## 2.3. Doing something to every element of an array\n",
    "\n",
    "Arrays are primarily useful for doing the same operation many times, so we don't often have to use .item and work with single elements.\n",
    "\n",
    "### Logarithms\n",
    "\n",
    "Here is one simple question we might ask about world population:\n",
    "\n",
    "How big was the population in *orders* of magnitude in each year?\n",
    "\n",
    "Orders of magnitude quantify how big a number is by representing it as the power of another number (for example, representing 104 as $10^{2.017033}$). One way to do this is by using the logarithm function. The logarithm (base 10) of a number increases by 1 every time we multiply the number by 10. It's like a measure of how many decimal digits the number has, or how big it is in orders of magnitude.\n",
    "\n",
    "We could try to answer our question like this, using the `log10` function from the `math` module and the `item` method you just saw:"
   ]
  },
  {
   "cell_type": "code",
   "execution_count": null,
   "metadata": {
    "execution": {
     "iopub.execute_input": "2024-01-26T21:12:20.711453Z",
     "iopub.status.busy": "2024-01-26T21:12:20.711205Z",
     "iopub.status.idle": "2024-01-26T21:12:20.715635Z",
     "shell.execute_reply": "2024-01-26T21:12:20.714773Z"
    }
   },
   "outputs": [],
   "source": [
    "population_1950_magnitude = math.log10(population_amounts.item(0))\n",
    "population_1951_magnitude = math.log10(population_amounts.item(1))\n",
    "population_1952_magnitude = math.log10(population_amounts.item(2))\n",
    "population_1953_magnitude = math.log10(population_amounts.item(3))"
   ]
  },
  {
   "cell_type": "markdown",
   "metadata": {},
   "source": [
    "However, the `log10` function from the `math` module only will operate on a single number, not an array. That leads to a tedious process that doesn't fully allow us to take advantage that we are using a computer.\n",
    "\n",
    "Instead, `NumPy` provides its own version of `log10` that takes the logarithm **of each element of an array**, which is much more efficient! It takes a single array of numbers as its argument and returns an array of the same length, where the first element of the result is the logarithm of the first element of the argument, and so on.\n",
    "\n",
    "In general, the functions from the `NumPy` library were written to work with arrays, while the functions in the `math` library were not. As a result, we'll almost always use `NumPy` functions in this course, and almost never use `math` functions. "
   ]
  },
  {
   "cell_type": "markdown",
   "metadata": {
    "deletable": false,
    "editable": false
   },
   "source": [
    "#### Question 2.3.1.\n",
    "\n",
    "Use `np.log10` to compute the logarithms of the world population in every year contained in the array `population_amounts` defined earlier. Give the result (an array of 66 numbers) the name `population_magnitudes`. Your code should be very short.\n"
   ]
  },
  {
   "cell_type": "code",
   "execution_count": null,
   "metadata": {
    "execution": {
     "iopub.execute_input": "2024-01-26T21:12:20.718839Z",
     "iopub.status.busy": "2024-01-26T21:12:20.718219Z",
     "iopub.status.idle": "2024-01-26T21:12:20.724077Z",
     "shell.execute_reply": "2024-01-26T21:12:20.723256Z"
    },
    "tags": []
   },
   "outputs": [],
   "source": [
    "population_magnitudes = ...\n",
    "population_magnitudes"
   ]
  },
  {
   "cell_type": "code",
   "execution_count": null,
   "metadata": {
    "deletable": false,
    "editable": false
   },
   "outputs": [],
   "source": [
    "grader.check(\"q2_3_1\")"
   ]
  },
  {
   "cell_type": "markdown",
   "metadata": {},
   "source": [
    "What you just did is called elementwise application of `np.log10`, since `np.log10` operates separately on each element of the array that it's called on. Here's a picture of what's going on:\n",
    "\n",
    "<img src=\"./array_logarithm.jpg\"/>\n",
    "\n",
    "The textbook's [section](https://www.inferentialthinking.com/chapters/05/1/Arrays) on arrays has a useful list of `NumPy` functions that are designed to work elementwise, like `np.log10`.\n",
    "\n",
    "### Arithmetic\n",
    "\n",
    "Arithmetic also works elementwise on arrays, meaning that if you perform an arithmetic operation (like subtraction, division, etc) on an array, Python will do the operation to every element of the array individually and return an array of all of the results. For example, you can divide all the population numbers by 1 billion to get numbers in billions."
   ]
  },
  {
   "cell_type": "code",
   "execution_count": null,
   "metadata": {
    "execution": {
     "iopub.execute_input": "2024-01-26T21:12:20.776686Z",
     "iopub.status.busy": "2024-01-26T21:12:20.776027Z",
     "iopub.status.idle": "2024-01-26T21:12:20.781195Z",
     "shell.execute_reply": "2024-01-26T21:12:20.780616Z"
    }
   },
   "outputs": [],
   "source": [
    "population_in_billions = population_amounts / 1000000000\n",
    "population_in_billions"
   ]
  },
  {
   "cell_type": "markdown",
   "metadata": {},
   "source": [
    "You can do the same with addition, subtraction, multiplication, and exponentiation (\\**). For example, you can calculate a tip on several restaurant bills at once (in this case just 3)."
   ]
  },
  {
   "cell_type": "code",
   "execution_count": null,
   "metadata": {
    "execution": {
     "iopub.execute_input": "2024-01-26T21:12:20.784249Z",
     "iopub.status.busy": "2024-01-26T21:12:20.783701Z",
     "iopub.status.idle": "2024-01-26T21:12:20.788139Z",
     "shell.execute_reply": "2024-01-26T21:12:20.787523Z"
    }
   },
   "outputs": [],
   "source": [
    "restaurant_bills = make_array(20.12, 39.90, 31.01)\n",
    "print(\"Restaurant bills:\\t\", restaurant_bills) # The \\t is for the tab character\n",
    "\n",
    "# Array multiplication\n",
    "tips = .2 * restaurant_bills\n",
    "print(\"Tips:\\t\\t\\t\", tips)"
   ]
  },
  {
   "cell_type": "markdown",
   "metadata": {},
   "source": [
    "<img src=\"./array_multiplication.jpg\"/>"
   ]
  },
  {
   "cell_type": "markdown",
   "metadata": {
    "deletable": false,
    "editable": false
   },
   "source": [
    "#### Question 2.3.2. \n",
    "\n",
    "Suppose the total charge at a restaurant is the original bill plus the tip. If the tip is 20%, that means we can multiply the original bill by 1.2 to get the total charge. Compute the total charge for each bill in `restaurant_bills`, and assign the resulting array to `total_charges`.\n"
   ]
  },
  {
   "cell_type": "code",
   "execution_count": null,
   "metadata": {
    "execution": {
     "iopub.execute_input": "2024-01-26T21:12:20.791553Z",
     "iopub.status.busy": "2024-01-26T21:12:20.791015Z",
     "iopub.status.idle": "2024-01-26T21:12:20.795446Z",
     "shell.execute_reply": "2024-01-26T21:12:20.794863Z"
    },
    "tags": []
   },
   "outputs": [],
   "source": [
    "total_charges = ...\n",
    "total_charges"
   ]
  },
  {
   "cell_type": "code",
   "execution_count": null,
   "metadata": {
    "deletable": false,
    "editable": false
   },
   "outputs": [],
   "source": [
    "grader.check(\"q2_3_2\")"
   ]
  },
  {
   "cell_type": "markdown",
   "metadata": {
    "deletable": false,
    "editable": false
   },
   "source": [
    "#### Question 2.3.3.\n",
    "\n",
    "The array `more_restaurant_bills` contains 100,000 bills. Compute the total charge for each one. How is your code different?\n"
   ]
  },
  {
   "cell_type": "code",
   "execution_count": null,
   "metadata": {
    "execution": {
     "iopub.execute_input": "2024-01-26T21:12:20.830260Z",
     "iopub.status.busy": "2024-01-26T21:12:20.829617Z",
     "iopub.status.idle": "2024-01-26T21:12:20.946087Z",
     "shell.execute_reply": "2024-01-26T21:12:20.945168Z"
    },
    "tags": []
   },
   "outputs": [],
   "source": [
    "more_restaurant_bills = Table.read_table(\"more_restaurant_bills.csv\")\n",
    "more_total_charges = ...\n",
    "more_total_charges"
   ]
  },
  {
   "cell_type": "code",
   "execution_count": null,
   "metadata": {
    "deletable": false,
    "editable": false
   },
   "outputs": [],
   "source": [
    "grader.check(\"q2_3_3\")"
   ]
  },
  {
   "cell_type": "markdown",
   "metadata": {},
   "source": [
    "The function sum takes a single array of numbers as its argument. It returns the sum of all the numbers in that array (so it returns a single number, not an array)."
   ]
  },
  {
   "cell_type": "markdown",
   "metadata": {
    "deletable": false,
    "editable": false
   },
   "source": [
    "#### Question 2.3.4.\n",
    "\n",
    "What was the sum of all the bills in `more_restaurant_bills`, including tips? Use a function to compute your answer.\n"
   ]
  },
  {
   "cell_type": "code",
   "execution_count": null,
   "metadata": {
    "execution": {
     "iopub.execute_input": "2024-01-26T21:12:20.982483Z",
     "iopub.status.busy": "2024-01-26T21:12:20.982002Z",
     "iopub.status.idle": "2024-01-26T21:12:20.997448Z",
     "shell.execute_reply": "2024-01-26T21:12:20.996576Z"
    },
    "tags": []
   },
   "outputs": [],
   "source": [
    "sum_of_bills = ...\n",
    "sum_of_bills"
   ]
  },
  {
   "cell_type": "code",
   "execution_count": null,
   "metadata": {
    "deletable": false,
    "editable": false
   },
   "outputs": [],
   "source": [
    "grader.check(\"q2_3_4\")"
   ]
  },
  {
   "cell_type": "markdown",
   "metadata": {},
   "source": [
    "# 3. Creating Tables\n",
    "\n",
    "An array is useful for describing a single attribute of each element in a collection. For example, let's say our collection is all US States. Then an array could describe the land area of each state.\n",
    "\n",
    "Tables extend this idea by containing multiple arrays, each one describing a different attribute for every element of a collection. In this way, tables allow us to not only store data about many entities but to also contain several kinds of data about each entity.\n",
    "\n",
    "For example, in the cell below we have two arrays. The first one, `population_amounts`, was defined above in section 2.2 and contains the world population in each year (estimated by the US Census Bureau). The second array, years, contains the years themselves. These elements are in order, so the year and the world population for that year have the same index in their corresponding arrays."
   ]
  },
  {
   "cell_type": "code",
   "execution_count": null,
   "metadata": {
    "execution": {
     "iopub.execute_input": "2024-01-26T21:12:21.008823Z",
     "iopub.status.busy": "2024-01-26T21:12:21.008572Z",
     "iopub.status.idle": "2024-01-26T21:12:21.013544Z",
     "shell.execute_reply": "2024-01-26T21:12:21.012705Z"
    }
   },
   "outputs": [],
   "source": [
    "# Run this cell\n",
    "years = np.arange(1950, 2015+1)\n",
    "print(\"Population column:\", population_amounts)\n",
    "print(\"Years column:\", years)"
   ]
  },
  {
   "cell_type": "markdown",
   "metadata": {},
   "source": [
    "Suppose we want to answer this question:\n",
    "\n",
    "In which year did the world's population cross 6 billion?\n",
    "\n",
    "You could technically answer this question just from staring at the arrays, but it's a bit convoluted, since you would have to count the position where the population first crossed 6 billion, then find the corresponding element in the years array. In cases like these, it might be easier to put the data into a `Table`, a 2-dimensional type of dataset.\n",
    "\n",
    "The expression below:\n",
    "\n",
    "* creates an empty table using the expression `Table()`,\n",
    "* adds two columns by calling `with_columns` with four arguments,\n",
    "* assigns the result to the name population, and finally\n",
    "* evaluates population so that we can see the table.\n",
    "\n",
    "The strings \"Year\" and \"Population\" are column labels that we have chosen. The names population_amounts and years were assigned above to two arrays of the **same length**. The function `with_columns` (you can find the documentation [here](http://data8.org/datascience/tables.html)) takes in alternating strings (to represent column labels) and arrays (representing the data in those columns). The strings and arrays are separated by commas.\n",
    "\n",
    "**Note:** You'll notice the code below is broken up onto multiple lines to help with readability. You do not need to do this, but to do so press enter after opening the parenthesis that follows `with_columns`, and the following line should automatically indent to the correct spacing. Keep pressing enter at the end of each line until you're ready to close the parentheses, and then backspace so the parenthesis is the first character in the line. Remember, Python is very picky about spaces, so follow these steps carefully to have beautiful looking code!"
   ]
  },
  {
   "cell_type": "code",
   "execution_count": null,
   "metadata": {
    "execution": {
     "iopub.execute_input": "2024-01-26T21:12:21.016493Z",
     "iopub.status.busy": "2024-01-26T21:12:21.016227Z",
     "iopub.status.idle": "2024-01-26T21:12:21.022449Z",
     "shell.execute_reply": "2024-01-26T21:12:21.021590Z"
    }
   },
   "outputs": [],
   "source": [
    "population = Table().with_columns(\n",
    "    \"Population\", population_amounts,\n",
    "    \"Year\", years\n",
    ")\n",
    "population"
   ]
  },
  {
   "cell_type": "markdown",
   "metadata": {},
   "source": [
    "Now the data is combined into a single table. It's much easier to parse this data. If you need to know what the population was in 1959, for example, you can tell from a single glance."
   ]
  },
  {
   "cell_type": "markdown",
   "metadata": {
    "deletable": false,
    "editable": false
   },
   "source": [
    "#### Question 3.1.\n",
    "\n",
    "In the cell below, we've manually created 2 arrays by copying and pasting their values into the cell below (this is inefficient and you'll see a better way soon!). \n",
    "\n",
    "Using the steps above, assign a table to `top_10_movies` that has two columns called \"Rating\" and \"Name\", which hold `top_10_movie_ratings` and `top_10_movie_names` respectively."
   ]
  },
  {
   "cell_type": "code",
   "execution_count": null,
   "metadata": {
    "execution": {
     "iopub.execute_input": "2024-01-26T21:12:21.025686Z",
     "iopub.status.busy": "2024-01-26T21:12:21.025048Z",
     "iopub.status.idle": "2024-01-26T21:12:21.032183Z",
     "shell.execute_reply": "2024-01-26T21:12:21.031361Z"
    },
    "tags": []
   },
   "outputs": [],
   "source": [
    "top_10_movie_ratings = make_array(9.2, 9.2, 9., 8.9, 8.9, 8.9, 8.9, 8.9, 8.9, 8.8)\n",
    "top_10_movie_names = make_array(\n",
    "        'The Shawshank Redemption (1994)',\n",
    "        'The Godfather (1972)',\n",
    "        'The Godfather: Part II (1974)',\n",
    "        'Pulp Fiction (1994)',\n",
    "        \"Schindler's List (1993)\",\n",
    "        'The Lord of the Rings: The Return of the King (2003)',\n",
    "        '12 Angry Men (1957)',\n",
    "        'The Dark Knight (2008)',\n",
    "        'Il buono, il brutto, il cattivo (1966)',\n",
    "        'The Lord of the Rings: The Fellowship of the Ring (2001)')\n",
    "\n",
    "top_10_movies = ...\n",
    "\n",
    "# We've put this next line here \n",
    "# so your table will get printed out \n",
    "# when you run this cell.\n",
    "top_10_movies"
   ]
  },
  {
   "cell_type": "code",
   "execution_count": null,
   "metadata": {
    "deletable": false,
    "editable": false
   },
   "outputs": [],
   "source": [
    "grader.check(\"q3_1\")"
   ]
  },
  {
   "cell_type": "markdown",
   "metadata": {},
   "source": [
    "### Loading a table from a file\n",
    "\n",
    "In most cases, we aren't going to go through the trouble of typing in all the data manually. Instead, we load them in from an external source, like a data file. There are many formats for data files, but CSV (\"comma-separated values\") is the most common.\n",
    "\n",
    "`Table.read_table(...)` takes one argument (a path to a data file in string format) and returns a table."
   ]
  },
  {
   "cell_type": "markdown",
   "metadata": {
    "deletable": false,
    "editable": false
   },
   "source": [
    "#### Question 3.2.\n",
    "\n",
    "`imdb.csv` contains a table of information about the 250 highest-rated movies on IMDb. You may remember working with this table in Lab 02.\n",
    "\n",
    "Use the `read_table` method to load it as a table called `imdb`.\n"
   ]
  },
  {
   "cell_type": "code",
   "execution_count": null,
   "metadata": {
    "execution": {
     "iopub.execute_input": "2024-01-26T21:12:21.090523Z",
     "iopub.status.busy": "2024-01-26T21:12:21.089888Z",
     "iopub.status.idle": "2024-01-26T21:12:21.101969Z",
     "shell.execute_reply": "2024-01-26T21:12:21.101160Z"
    },
    "tags": []
   },
   "outputs": [],
   "source": [
    "imdb = ...\n",
    "imdb"
   ]
  },
  {
   "cell_type": "code",
   "execution_count": null,
   "metadata": {
    "deletable": false,
    "editable": false
   },
   "outputs": [],
   "source": [
    "grader.check(\"q3_2\")"
   ]
  },
  {
   "cell_type": "markdown",
   "metadata": {},
   "source": [
    "# 4. More Table Operations\n",
    "\n",
    "Now that you've worked with arrays, let's add two more methods to the list of table operations that you saw in Lab 02; `column` and `take`.\n",
    "\n",
    "### `column`\n",
    "\n",
    "column takes the column name of a table (in string format) as its argument and returns the values in that column as an **array**."
   ]
  },
  {
   "cell_type": "code",
   "execution_count": null,
   "metadata": {
    "execution": {
     "iopub.execute_input": "2024-01-26T21:12:21.176092Z",
     "iopub.status.busy": "2024-01-26T21:12:21.175774Z",
     "iopub.status.idle": "2024-01-26T21:12:21.181349Z",
     "shell.execute_reply": "2024-01-26T21:12:21.180491Z"
    }
   },
   "outputs": [],
   "source": [
    "# Returns an array of movie names\n",
    "top_10_movies.column('Name')"
   ]
  },
  {
   "cell_type": "markdown",
   "metadata": {},
   "source": [
    "### `take`\n",
    "\n",
    "The table method take takes as its argument an array of numbers. Each number should be the index of a row in the table. It returns a **new table** with only those rows.\n",
    "\n",
    "You'll usually want to use take in conjunction with np.arange to take the first few rows of a table."
   ]
  },
  {
   "cell_type": "code",
   "execution_count": null,
   "metadata": {
    "execution": {
     "iopub.execute_input": "2024-01-26T21:12:21.184249Z",
     "iopub.status.busy": "2024-01-26T21:12:21.183970Z",
     "iopub.status.idle": "2024-01-26T21:12:21.189863Z",
     "shell.execute_reply": "2024-01-26T21:12:21.189014Z"
    }
   },
   "outputs": [],
   "source": [
    "# Take first 5 movies of top_10_movies\n",
    "top_10_movies.take(np.arange(0, 5, 1))"
   ]
  },
  {
   "cell_type": "markdown",
   "metadata": {},
   "source": [
    "The main difference between `.take` and `.show` is that `.take` will create a new table that you perform additional operations onto. For example:"
   ]
  },
  {
   "cell_type": "code",
   "execution_count": null,
   "metadata": {
    "execution": {
     "iopub.execute_input": "2024-01-26T21:12:21.192726Z",
     "iopub.status.busy": "2024-01-26T21:12:21.192466Z",
     "iopub.status.idle": "2024-01-26T21:12:21.198104Z",
     "shell.execute_reply": "2024-01-26T21:12:21.197298Z"
    }
   },
   "outputs": [],
   "source": [
    "sum( top_10_movies.take(np.arange(0, 5, 1)).column('Rating') )"
   ]
  },
  {
   "cell_type": "markdown",
   "metadata": {},
   "source": [
    "Whereas, attempting to do the same with `.show` \n",
    "\n",
    "`sum( top_10_movies.show(5).column('Rating') )`\n",
    "\n",
    "will result in an error. This is because `.show` doesn't actually create a new Table object to work with, it only prints certain values of the Table to the notebook for the user to see, but not work with. Be mindful of these small differences, as they can often cause a few headaches when troubleshooting if you forget."
   ]
  },
  {
   "cell_type": "markdown",
   "metadata": {},
   "source": [
    "### Putting it all together\n",
    "\n",
    "The next three questions will give you practice with combining the operations you've learned in this lab and the previous one to answer questions about the population and imdb tables. First, check out the population table from section 2."
   ]
  },
  {
   "cell_type": "code",
   "execution_count": null,
   "metadata": {
    "execution": {
     "iopub.execute_input": "2024-01-26T21:12:21.201085Z",
     "iopub.status.busy": "2024-01-26T21:12:21.200591Z",
     "iopub.status.idle": "2024-01-26T21:12:21.206235Z",
     "shell.execute_reply": "2024-01-26T21:12:21.205344Z"
    }
   },
   "outputs": [],
   "source": [
    "# Run this cell to display the population table.\n",
    "population"
   ]
  },
  {
   "cell_type": "markdown",
   "metadata": {
    "deletable": false,
    "editable": false
   },
   "source": [
    "#### Question 4.1.\n",
    "\n",
    "Using the `population` table from earlier in this lab, compute the year when the world population first went above 6 billion. Assign the year to `year_population_crossed_6_billion`. You should use Table operations like `.where` and `.column` to systematically determine this value! Do not just look up the value in the Table and assign it to the variable.\n",
    "\n",
    "**Hint:** How could you use some Table methods on `population` to create a smaller table that only had certain rows left in the Table, based on the population contained in that row? Perhaps working with this smaller Table would be easier to systematically finding the year you're looking for!"
   ]
  },
  {
   "cell_type": "code",
   "execution_count": null,
   "metadata": {
    "execution": {
     "iopub.execute_input": "2024-01-26T21:12:21.209182Z",
     "iopub.status.busy": "2024-01-26T21:12:21.208919Z",
     "iopub.status.idle": "2024-01-26T21:12:21.214688Z",
     "shell.execute_reply": "2024-01-26T21:12:21.213697Z"
    },
    "tags": []
   },
   "outputs": [],
   "source": [
    "year_population_crossed_6_billion = ...\n",
    "year_population_crossed_6_billion"
   ]
  },
  {
   "cell_type": "code",
   "execution_count": null,
   "metadata": {
    "deletable": false,
    "editable": false
   },
   "outputs": [],
   "source": [
    "grader.check(\"q4_1\")"
   ]
  },
  {
   "cell_type": "markdown",
   "metadata": {
    "deletable": false,
    "editable": false
   },
   "source": [
    "#### Question 4.2.\n",
    "\n",
    "Using the `imdb` table from earlier in this lab, compute the average rating for movies released before the year 2000 and the average rating for movies released in the year 2000 or after for the movies in imdb.\n",
    "\n",
    "**Hint:** Think of the steps you need to do (take the average, find the ratings, find movies released in 20th/21st centuries), and try to put them in an order that makes sense.\n"
   ]
  },
  {
   "cell_type": "code",
   "execution_count": null,
   "metadata": {
    "execution": {
     "iopub.execute_input": "2024-01-26T21:12:21.225255Z",
     "iopub.status.busy": "2024-01-26T21:12:21.224999Z",
     "iopub.status.idle": "2024-01-26T21:12:21.233459Z",
     "shell.execute_reply": "2024-01-26T21:12:21.232608Z"
    },
    "tags": []
   },
   "outputs": [],
   "source": [
    "before_2000 = ...\n",
    "after_or_in_2000 = ...\n",
    "print(\"Average before 2000 rating:\", before_2000)\n",
    "print(\"Average after or in 2000 rating:\", after_or_in_2000)"
   ]
  },
  {
   "cell_type": "code",
   "execution_count": null,
   "metadata": {
    "deletable": false,
    "editable": false
   },
   "outputs": [],
   "source": [
    "grader.check(\"q4_2\")"
   ]
  },
  {
   "cell_type": "markdown",
   "metadata": {
    "deletable": false,
    "editable": false
   },
   "source": [
    "#### Question 4.3. \n",
    "\n",
    "Here's a challenge: Find the number of movies that came out in even years. Assign this integer value to `num_even_year_movies`.\n",
    "\n",
    "Before you attempt to determine this value with computer code, make a guess. Remember, there are 250 movies in the data set. Now, read the hints below.\n",
    "\n",
    "**Hint:** The operator `%` computes the remainder when dividing by a number. So `5 % 2` is 1 and `6 % 2` is 0. A number is even if the remainder is 0 when you divide by 2.\n",
    "\n",
    "**Hint 2:** `%` can be used on arrays, operating elementwise like `+` or `*`. So `make_array(5, 6, 7) % 2` is `array([1, 0, 1])`.\n",
    "\n",
    "**Hint 3**: Create a column labeled \"Year Remainder\" that contains the remainder when each movie's release year is divided by 2. Make a new version of imdb that includes that column (remember, `imdb.with_column(...)` returns a new table, it doesn't modify the existing table). Then use `where` to find rows where that new column is equal to 0. Then use `num_rows` to count the number of such rows.\n",
    "\n",
    "**Note:** These steps can be chained in one single statement, or broken up across several lines with intermediate names assigned. You’re always welcome to break down problems however you wish!\n"
   ]
  },
  {
   "cell_type": "code",
   "execution_count": null,
   "metadata": {
    "execution": {
     "iopub.execute_input": "2024-01-26T21:12:21.276181Z",
     "iopub.status.busy": "2024-01-26T21:12:21.275608Z",
     "iopub.status.idle": "2024-01-26T21:12:21.283501Z",
     "shell.execute_reply": "2024-01-26T21:12:21.282635Z"
    },
    "tags": []
   },
   "outputs": [],
   "source": [
    "num_even_year_movies = ...\n",
    "num_even_year_movies"
   ]
  },
  {
   "cell_type": "code",
   "execution_count": null,
   "metadata": {
    "deletable": false,
    "editable": false
   },
   "outputs": [],
   "source": [
    "grader.check(\"q4_3\")"
   ]
  },
  {
   "cell_type": "markdown",
   "metadata": {},
   "source": [
    "# Submitting your work\n",
    "You're done with this assignment! Assignments should be turned in using the following best practices:\n",
    "1. Save your notebook.\n",
    "2. Restart the kernel and run all cells up to this one.\n",
    "3. Run the cell below with the code `grader.export(...)`. This will re-run all the tests. Make sure they are passing as you expect them to.\n",
    "4. Download the file named `lab03_<date-time-stamp>.zip`, found in the explorer pane on the left side of the screen. **Note**: Clicking on the link in this notebook may result in an error, it's best to download from the file explorer panel.\n",
    "5. Upload `lab03_<date-time-stamp>.zip` to the corresponding assignment on Canvas."
   ]
  },
  {
   "cell_type": "markdown",
   "metadata": {
    "deletable": false,
    "editable": false
   },
   "source": [
    "## Submission\n",
    "\n",
    "Make sure you have run all cells in your notebook in order before running the cell below, so that all images/graphs appear in the output. The cell below will generate a zip file for you to submit."
   ]
  },
  {
   "cell_type": "code",
   "execution_count": null,
   "metadata": {
    "deletable": false,
    "editable": false
   },
   "outputs": [],
   "source": [
    "grader.export(pdf=False, force_save=True)"
   ]
  },
  {
   "cell_type": "markdown",
   "metadata": {},
   "source": [
    " "
   ]
  }
 ],
 "metadata": {
  "kernelspec": {
   "display_name": "Python 3 (ipykernel)",
   "language": "python",
   "name": "python3"
  },
  "language_info": {
   "codemirror_mode": {
    "name": "ipython",
    "version": 3
   },
   "file_extension": ".py",
   "mimetype": "text/x-python",
   "name": "python",
   "nbconvert_exporter": "python",
   "pygments_lexer": "ipython3",
   "version": "3.11.5"
  },
  "otter": {
   "OK_FORMAT": true,
   "tests": {
    "q1_1": {
     "name": "q1_1",
     "points": null,
     "suites": [
      {
       "cases": [
        {
         "code": ">>> woman_asking == 'The woman asked:'\nTrue",
         "failure_message": "❌ You did not assign the correct string to `woman_asking`. Double check your punctuation, capitalization, and spaces.",
         "hidden": false,
         "locked": false,
         "points": 0.5,
         "success_message": "✅ You assigned the correct string to `woman_asking`"
        },
        {
         "code": ">>> gagarin_quote == '\"As a matter of fact, I have!\"'\nTrue",
         "failure_message": "❌ You did not assign the correct string to `gagarin_quote`. Double check your punctuation, capitalization, and spaces.",
         "hidden": false,
         "locked": false,
         "points": 0.5,
         "success_message": "✅ You assigned the correct string to `gagarin_quote`"
        }
       ],
       "scored": true,
       "setup": "",
       "teardown": "",
       "type": "doctest"
      }
     ]
    },
    "q1_1_1": {
     "name": "q1_1_1",
     "points": null,
     "suites": [
      {
       "cases": [
        {
         "code": ">>> new_word == 'matchmaker'\nTrue",
         "failure_message": "❌ You did not correctly replace the correct characters to turn",
         "hidden": false,
         "locked": false,
         "points": 1,
         "success_message": "✅ You correctly turned 'hitchhiker' into 'matchmaker'"
        }
       ],
       "scored": true,
       "setup": "",
       "teardown": "",
       "type": "doctest"
      }
     ]
    },
    "q1_2_1": {
     "name": "q1_2_1",
     "points": null,
     "suites": [
      {
       "cases": [
        {
         "code": ">>> abs(difference)\n30",
         "failure_message": "❌ You did not calculate the correct difference between the two years",
         "hidden": false,
         "locked": false,
         "points": 1,
         "success_message": "✅ You correctly calculated the different between the two years"
        }
       ],
       "scored": true,
       "setup": "",
       "teardown": "",
       "type": "doctest"
      }
     ]
    },
    "q1_3_1": {
     "name": "q1_3_1",
     "points": null,
     "suites": [
      {
       "cases": [
        {
         "code": ">>> sentence_length\n896",
         "failure_message": "❌ You did not correctly compupte the number of letters in the string",
         "hidden": false,
         "locked": false,
         "points": 1,
         "success_message": "✅ You correctly computed the number of letters in the string"
        }
       ],
       "scored": true,
       "setup": "",
       "teardown": "",
       "type": "doctest"
      }
     ]
    },
    "q2_1_1": {
     "name": "q2_1_1",
     "points": null,
     "suites": [
      {
       "cases": [
        {
         "code": ">>> type(interesting_numbers) == np.ndarray\nTrue",
         "failure_message": "❌ You did not create an array. Perhaps you created a list or another type of collection?",
         "hidden": false,
         "locked": false,
         "points": 0.25,
         "success_message": "✅ You successfully created an array."
        },
        {
         "code": ">>> len(interesting_numbers) == 5\nTrue",
         "failure_message": "❌ Your array does not have the correct number of elements in it.",
         "hidden": false,
         "locked": false,
         "points": 0.25,
         "success_message": "✅ Your array has the correct number of elements in it."
        },
        {
         "code": ">>> all(interesting_numbers == np.array([0, 1, -1, math.pi, math.e]))\nTrue",
         "failure_message": "❌ Your array does not contain the correct elements, or they are in an incorrect position.",
         "hidden": false,
         "locked": false,
         "points": 0.5,
         "success_message": "✅ Your array has the correct elements in it."
        }
       ],
       "scored": true,
       "setup": "",
       "teardown": "",
       "type": "doctest"
      }
     ]
    },
    "q2_1_2": {
     "name": "q2_1_2",
     "points": null,
     "suites": [
      {
       "cases": [
        {
         "code": ">>> type(hello_world_components) == np.ndarray\nTrue",
         "failure_message": "❌ You did not create an array. Perhaps you created a list or another type of collection?",
         "hidden": false,
         "locked": false,
         "points": 0.25,
         "success_message": "✅ You successfully created an array."
        },
        {
         "code": ">>> len(hello_world_components) == 5\nTrue",
         "failure_message": "❌ Your array does not have the correct number of elements in it.",
         "hidden": false,
         "locked": false,
         "points": 0.25,
         "success_message": "✅ Your array has the correct number of elements in it."
        },
        {
         "code": ">>> all(hello_world_components == np.array(['Hello', ',', ' ', 'world', '!']))\nTrue",
         "failure_message": "❌ Your array does not contain the correct elements, or they are in an incorrect position.",
         "hidden": false,
         "locked": false,
         "points": 0.5,
         "success_message": "✅ Your array has the correct elements in it."
        }
       ],
       "scored": true,
       "setup": "",
       "teardown": "",
       "type": "doctest"
      }
     ]
    },
    "q2_1_3": {
     "name": "q2_1_3",
     "points": null,
     "suites": [
      {
       "cases": [
        {
         "code": ">>> type(multiples_of_99) == np.ndarray\nTrue",
         "failure_message": "❌ You did not create an array. Perhaps you created a list or another type of collection?",
         "hidden": false,
         "locked": false,
         "points": 0.25,
         "success_message": "✅ You successfully created an array."
        },
        {
         "code": ">>> len(multiples_of_99) == 102\nTrue",
         "failure_message": "❌ Your array does not have the correct number of elements in it.",
         "hidden": false,
         "locked": false,
         "points": 0.25,
         "success_message": "✅ Your array has the correct number of elements in it."
        },
        {
         "code": ">>> [multiples_of_99[0], multiples_of_99[101]] == [0, 9999]\nTrue",
         "failure_message": "❌ Your array does not contain the correct first and last elements.",
         "hidden": false,
         "locked": false,
         "points": 0.25,
         "success_message": "✅ Your array has the correct first and last elements in it."
        },
        {
         "code": ">>> sum(multiples_of_99) == 509949\nTrue",
         "failure_message": "❌ Your array does not contain the correct elements, or they are in an incorrect position.",
         "hidden": false,
         "locked": false,
         "points": 0.25,
         "success_message": "✅ Your array has the correct elements in it."
        }
       ],
       "scored": true,
       "setup": "",
       "teardown": "",
       "type": "doctest"
      }
     ]
    },
    "q2_1_4": {
     "name": "q2_1_4",
     "points": null,
     "suites": [
      {
       "cases": [
        {
         "code": ">>> type(collection_times) == np.ndarray\nTrue",
         "failure_message": "❌ You did not create an array. Perhaps you created a list or another type of collection?",
         "hidden": false,
         "locked": false,
         "points": 0.25,
         "success_message": "✅ You successfully created an array."
        },
        {
         "code": ">>> len(collection_times)\n744",
         "failure_message": "❌ Your array does not have the correct number of elements in it.",
         "hidden": false,
         "locked": false,
         "points": 0.25,
         "success_message": "✅ Your array has the correct number of elements in it."
        },
        {
         "code": ">>> [collection_times[0], collection_times[-1]] == [0, 2674800]\nTrue",
         "failure_message": "❌ Your array does not contain the correct first and last elements.",
         "hidden": false,
         "locked": false,
         "points": 0.25,
         "success_message": "✅ Your array has the correct first and last elements in it."
        },
        {
         "code": ">>> np.isclose(sum(collection_times), 995025600)\nTrue",
         "failure_message": "❌ Your array does not contain the correct elements, or they are in an incorrect position.",
         "hidden": false,
         "locked": false,
         "points": 0.25,
         "success_message": "✅ Your array has the correct elements in it."
        }
       ],
       "scored": true,
       "setup": "",
       "teardown": "",
       "type": "doctest"
      }
     ]
    },
    "q2_2_1": {
     "name": "q2_2_1",
     "points": null,
     "suites": [
      {
       "cases": [
        {
         "code": ">>> population_1973 == 3942096442\nTrue",
         "failure_message": "❌ You have not correctly assigned the population to `population_1973`.",
         "hidden": false,
         "locked": false,
         "points": 1,
         "success_message": "✅ You have assigned the correct population to `population_1973`. Make sure you used `.item`"
        }
       ],
       "scored": true,
       "setup": "",
       "teardown": "",
       "type": "doctest"
      }
     ]
    },
    "q2_3_1": {
     "name": "q2_3_1",
     "points": null,
     "suites": [
      {
       "cases": [
        {
         "code": ">>> type(population_magnitudes) == np.ndarray\nTrue",
         "failure_message": "❌ You did not create an array. Perhaps you created a list or another type of collection?",
         "hidden": false,
         "locked": false,
         "points": 0.25,
         "success_message": "✅ You successfully created an array."
        },
        {
         "code": ">>> len(population_magnitudes)\n66",
         "failure_message": "❌ Your array does not have the correct number of elements in it.",
         "hidden": false,
         "locked": false,
         "points": 0.25,
         "success_message": "✅ Your array has the correct number of elements in it."
        },
        {
         "code": ">>> np.isclose(np.sum(population_magnitudes), 637.2108047510661) and np.isclose(np.std(population_magnitudes), 0.1376389190347751)\nTrue",
         "failure_message": "❌ Your array does not contain the correct elements, or they are in an incorrect position.",
         "hidden": false,
         "locked": false,
         "points": 0.5,
         "success_message": "✅ Your array has the correct elements in it."
        }
       ],
       "scored": true,
       "setup": "",
       "teardown": "",
       "type": "doctest"
      }
     ]
    },
    "q2_3_2": {
     "name": "q2_3_2",
     "points": null,
     "suites": [
      {
       "cases": [
        {
         "code": ">>> type(total_charges) == np.ndarray\nTrue",
         "failure_message": "❌ You did not create an array. Perhaps you created a list or another type of collection?",
         "hidden": false,
         "locked": false,
         "points": 0.25,
         "success_message": "✅ You successfully created an array."
        },
        {
         "code": ">>> len(total_charges)\n3",
         "failure_message": "❌ Your array does not have the correct number of elements in it.",
         "hidden": false,
         "locked": false,
         "points": 0.25,
         "success_message": "✅ Your array has the correct number of elements in it."
        },
        {
         "code": ">>> np.isclose(np.sum(total_charges), 109.236) and np.isclose(np.std(total_charges), 9.706678937721177) and ([total_charges[0], total_charges[-1]] == [24.144000000000002, 37.212])\nTrue",
         "failure_message": "❌ Your array does not contain the correct elements, or they are in an incorrect position.",
         "hidden": false,
         "locked": false,
         "points": 0.5,
         "success_message": "✅ Your array has the correct elements in it."
        },
        {
         "code": ">>> [total_charges[0], total_charges[-1]]\n[24.144000000000002, 37.212000000000003]",
         "hidden": false,
         "locked": false
        }
       ],
       "scored": true,
       "setup": "",
       "teardown": "",
       "type": "doctest"
      }
     ]
    },
    "q2_3_3": {
     "name": "q2_3_3",
     "points": null,
     "suites": [
      {
       "cases": [
        {
         "code": ">>> type(more_total_charges) == np.ndarray\nTrue",
         "failure_message": "❌ You did not create an array. Perhaps you created a list or another type of collection?",
         "hidden": false,
         "locked": false,
         "points": 0.25,
         "success_message": "✅ You successfully created an array."
        },
        {
         "code": ">>> len(more_total_charges)\n100000",
         "failure_message": "❌ Your array does not have the correct number of elements in it.",
         "hidden": false,
         "locked": false,
         "points": 0.25,
         "success_message": "✅ Your array has the correct number of elements in it."
        },
        {
         "code": ">>> np.isclose(np.sum(more_total_charges), 1795730.0639999998) and np.isclose(np.std(more_total_charges), 10.853050173388842) and ([more_total_charges[0], more_total_charges[-1]] == [20.244, 35.663999999999994])\nTrue",
         "failure_message": "❌ Your array does not contain the correct elements, or they are in an incorrect position.",
         "hidden": false,
         "locked": false,
         "points": 0.5,
         "success_message": "✅ Your array has the correct elements in it."
        }
       ],
       "scored": true,
       "setup": "",
       "teardown": "",
       "type": "doctest"
      }
     ]
    },
    "q2_3_4": {
     "name": "q2_3_4",
     "points": null,
     "suites": [
      {
       "cases": [
        {
         "code": ">>> round(sum_of_bills, 2) == 1795730.06\nTrue",
         "failure_message": "❌ You did not correctly compute the sum.",
         "hidden": false,
         "locked": false,
         "points": 1,
         "success_message": "✅ You correctly computed the sum."
        }
       ],
       "scored": true,
       "setup": "",
       "teardown": "",
       "type": "doctest"
      }
     ]
    },
    "q3_1": {
     "name": "q3_1",
     "points": null,
     "suites": [
      {
       "cases": [
        {
         "code": ">>> top_10_movies.num_columns\n2",
         "failure_message": "❌ Your table does not have the correct number of columns, or top_10_movies is not a Table object",
         "hidden": false,
         "locked": false,
         "points": 0.25,
         "success_message": "✅ Your table has the correct number of columns"
        },
        {
         "code": ">>> top_10_movies.num_rows\n10",
         "failure_message": "❌ Your table does not have the correct number of rows, or top_10_movies is not a Table object",
         "hidden": false,
         "locked": false,
         "points": 0.25,
         "success_message": "✅ Your table has the correct number of rows"
        },
        {
         "code": ">>> top_10_movies.labels\n('Rating', 'Name')",
         "failure_message": "❌ Your table does not have the correct labels, or they are in the incorrect order",
         "hidden": false,
         "locked": false,
         "points": 0.25,
         "success_message": "✅ Your table has the correct labels"
        },
        {
         "code": ">>> np.array_equal(top_10_movies.column('Name'), np.array(['The Shawshank Redemption (1994)', 'The Godfather (1972)', 'The Godfather: Part II (1974)', 'Pulp Fiction (1994)', \"Schindler's List (1993)\", 'The Lord of the Rings: The Return of the King (2003)', '12 Angry Men (1957)', 'The Dark Knight (2008)', 'Il buono, il brutto, il cattivo (1966)', 'The Lord of the Rings: The Fellowship of the Ring (2001)']))\nTrue",
         "failure_message": "❌ Your table does not have the correct values, or they are not in the correct order",
         "hidden": false,
         "locked": false,
         "points": 0.25,
         "success_message": "✅ Your table has the correct values"
        }
       ],
       "scored": true,
       "setup": "",
       "teardown": "",
       "type": "doctest"
      }
     ]
    },
    "q3_2": {
     "name": "q3_2",
     "points": null,
     "suites": [
      {
       "cases": [
        {
         "code": ">>> type(imdb) == tables.Table\nTrue",
         "failure_message": "❌ You did not assign a Table object to `imdb`",
         "hidden": false,
         "locked": false,
         "points": 0.25,
         "success_message": "✅ You correctly assigned a Table object to `imdb`"
        },
        {
         "code": ">>> imdb.num_rows\n250",
         "failure_message": "❌ Your table does not have the correct number of rows",
         "hidden": false,
         "locked": false,
         "points": 0.25,
         "success_message": "✅ Your table has the correct number of rows"
        },
        {
         "code": ">>> imdb.num_columns\n11",
         "failure_message": "❌ Your table does not have the correct number of columns, or top_10_movies is not a Table object",
         "hidden": false,
         "locked": false,
         "points": 0.25,
         "success_message": "✅ Your table has the correct number of columns"
        },
        {
         "code": ">>> np.array_equal(imdb.column('Rating'), np.array([8.1, 8.1, 8.3, 8.6, 8.3, 9.3, 8.1, 8.1, 8.2, 8.3, 8.2, 8.1, 8.2, 8.1, 8.3, 8.1, 8.3, 8.4, 8.3, 8.1, 8.2, 8.2, 8.1, 8.3, 8.1, 8.5, 8.7, 8.6, 8.4, 8.4, 8.4, 8.1, 8.1, 8.1, 8.2, 8.1, 9.2, 9.0, 8.8, 8.3, 8.4, 9.3, 8.2, 8.3, 8.3, 8.3, 8.1, 8.2, 8.3, 8.7, 8.5, 8.6, 8.4, 8.2, 8.7, 8.3, 8.4, 8.1, 8.2, 8.3, 8.1, 8.5, 8.2, 8.3, 8.4, 8.4, 8.1, 8.2, 8.4, 8.4, 8.3, 8.4, 8.2, 8.1, 8.5, 8.1, 8.4, 8.2, 8.2, 8.1, 8.3, 8.1, 8.5, 8.1, 8.3, 8.1, 8.3, 8.5, 8.3, 8.1, 8.3, 8.2, 8.5, 8.2, 9.0, 8.1, 8.2, 8.2, 8.3, 8.9, 8.2, 8.3, 8.1, 8.4, 8.3, 8.4, 8.4, 8.2, 8.5, 8.4, 8.1, 8.3, 8.1, 8.2, 8.2, 8.2, 8.8, 8.3, 8.7, 8.1, 8.2, 8.2, 8.5, 8.6, 8.1, 8.6, 8.5, 8.6, 8.2, 8.4, 8.1, 8.2, 8.9, 8.2, 8.1, 8.1, 8.6, 8.1, 8.5, 8.6, 8.1, 8.1, 8.6, 8.3, 8.4, 8.2, 8.5, 8.2, 8.1, 8.1, 8.2, 8.4, 8.1, 8.1, 8.1, 8.1, 8.1, 8.2, 8.5, 8.1, 8.5, 8.3, 8.2, 8.1, 8.2, 8.1, 9.0, 8.2, 8.4, 8.3, 8.4, 8.4, 8.5, 8.3, 8.5, 8.1, 8.1, 8.1, 8.3, 8.2, 8.1, 8.9, 8.1, 8.4, 8.8, 8.1, 8.1, 8.1, 8.3, 8.4, 8.7, 8.1, 8.2, 8.3, 8.2, 8.1, 8.4, 8.8, 8.3, 8.4, 8.1, 8.8, 8.7, 8.1, 8.4, 8.6, 8.2, 8.6, 8.1, 8.2, 8.4, 8.2, 8.5, 8.3, 8.6, 8.2, 8.2, 8.5, 8.1, 8.5, 8.1, 8.1, 8.1, 8.1, 8.2, 8.6, 8.2, 8.5, 8.1, 8.3, 8.2, 8.1, 8.1, 8.1, 8.3, 8.1, 8.1, 8.1, 8.2, 8.2, 8.3, 8.7, 8.4, 8.3, 8.1, 8.1, 8.1, 8.1, 8.1, 8.2]))\nTrue",
         "failure_message": "❌ Your table does not have the correct values, or they are not in the correct order",
         "hidden": false,
         "locked": false,
         "points": 0.25,
         "success_message": "✅ Your table has the correct values"
        },
        {
         "code": ">>> imdb.column('Rating')\narray([ 8.1,  8.1,  8.3,  8.6,  8.3,  9.3,  8.1,  8.1,  8.2,  8.3,  8.2,\n        8.1,  8.2,  8.1,  8.3,  8.1,  8.3,  8.4,  8.3,  8.1,  8.2,  8.2,\n        8.1,  8.3,  8.1,  8.5,  8.7,  8.6,  8.4,  8.4,  8.4,  8.1,  8.1,\n        8.1,  8.2,  8.1,  9.2,  9. ,  8.8,  8.3,  8.4,  9.3,  8.2,  8.3,\n        8.3,  8.3,  8.1,  8.2,  8.3,  8.7,  8.5,  8.6,  8.4,  8.2,  8.7,\n        8.3,  8.4,  8.1,  8.2,  8.3,  8.1,  8.5,  8.2,  8.3,  8.4,  8.4,\n        8.1,  8.2,  8.4,  8.4,  8.3,  8.4,  8.2,  8.1,  8.5,  8.1,  8.4,\n        8.2,  8.2,  8.1,  8.3,  8.1,  8.5,  8.1,  8.3,  8.1,  8.3,  8.5,\n        8.3,  8.1,  8.3,  8.2,  8.5,  8.2,  9. ,  8.1,  8.2,  8.2,  8.3,\n        8.9,  8.2,  8.3,  8.1,  8.4,  8.3,  8.4,  8.4,  8.2,  8.5,  8.4,\n        8.1,  8.3,  8.1,  8.2,  8.2,  8.2,  8.8,  8.3,  8.7,  8.1,  8.2,\n        8.2,  8.5,  8.6,  8.1,  8.6,  8.5,  8.6,  8.2,  8.4,  8.1,  8.2,\n        8.9,  8.2,  8.1,  8.1,  8.6,  8.1,  8.5,  8.6,  8.1,  8.1,  8.6,\n        8.3,  8.4,  8.2,  8.5,  8.2,  8.1,  8.1,  8.2,  8.4,  8.1,  8.1,\n        8.1,  8.1,  8.1,  8.2,  8.5,  8.1,  8.5,  8.3,  8.2,  8.1,  8.2,\n        8.1,  9. ,  8.2,  8.4,  8.3,  8.4,  8.4,  8.5,  8.3,  8.5,  8.1,\n        8.1,  8.1,  8.3,  8.2,  8.1,  8.9,  8.1,  8.4,  8.8,  8.1,  8.1,\n        8.1,  8.3,  8.4,  8.7,  8.1,  8.2,  8.3,  8.2,  8.1,  8.4,  8.8,\n        8.3,  8.4,  8.1,  8.8,  8.7,  8.1,  8.4,  8.6,  8.2,  8.6,  8.1,\n        8.2,  8.4,  8.2,  8.5,  8.3,  8.6,  8.2,  8.2,  8.5,  8.1,  8.5,\n        8.1,  8.1,  8.1,  8.1,  8.2,  8.6,  8.2,  8.5,  8.1,  8.3,  8.2,\n        8.1,  8.1,  8.1,  8.3,  8.1,  8.1,  8.1,  8.2,  8.2,  8.3,  8.7,\n        8.4,  8.3,  8.1,  8.1,  8.1,  8.1,  8.1,  8.2])",
         "hidden": false,
         "locked": false
        }
       ],
       "scored": true,
       "setup": "",
       "teardown": "",
       "type": "doctest"
      }
     ]
    },
    "q4_1": {
     "name": "q4_1",
     "points": null,
     "suites": [
      {
       "cases": [
        {
         "code": ">>> year_population_crossed_6_billion == 1999\nTrue",
         "failure_message": "❌ You did not correctly determine the first year the world population crossed 6 billion. Try reading the hint again for a few tips!",
         "hidden": false,
         "locked": false,
         "points": 1,
         "success_message": "✅ You correctly determined the first year the world population crossed 6 billion"
        }
       ],
       "scored": true,
       "setup": "",
       "teardown": "",
       "type": "doctest"
      }
     ]
    },
    "q4_2": {
     "name": "q4_2",
     "points": null,
     "suites": [
      {
       "cases": [
        {
         "code": ">>> \n",
         "hidden": false,
         "locked": false
        },
        {
         "code": ">>> np.isclose(before_2000, 8.317763157894737)\nTrue",
         "failure_message": "❌ You did not correctly determine the average rating for movies before the year 2000. Did you include the year 2000 by accident?",
         "hidden": false,
         "locked": false,
         "points": 0.5,
         "success_message": "✅ You correctly determined the average rating for movies before the year 2000."
        },
        {
         "code": ">>> np.isclose(after_or_in_2000, 8.29897959183674)\nTrue",
         "failure_message": "❌ You did not correctly determine the average rating for movies in or after the year 2000. Did you forget to include the year 2000 by accident?",
         "hidden": false,
         "locked": false,
         "points": 0.5,
         "success_message": "✅ You correctly determined the average rating for movies in or after the year 2000."
        }
       ],
       "scored": true,
       "setup": "",
       "teardown": "",
       "type": "doctest"
      }
     ]
    },
    "q4_3": {
     "name": "q4_3",
     "points": null,
     "suites": [
      {
       "cases": [
        {
         "code": ">>> type(num_even_year_movies) == int\nTrue",
         "failure_message": "❌ You did assign an integer to `num_even_year_movies`. Did you accidentially assign an array or Table instead?",
         "hidden": false,
         "locked": false,
         "points": 0.25,
         "success_message": "✅ You correctly assigned an integer to `num_even_year_movies`."
        },
        {
         "code": ">>> num_even_year_movies\n126",
         "failure_message": "❌ You did not correctly determine tthe number of movies that came out in an even year.",
         "hidden": false,
         "locked": false,
         "points": 0.75,
         "success_message": "✅ You correctly determined the number of movies that came out in an even year."
        }
       ],
       "scored": true,
       "setup": "",
       "teardown": "",
       "type": "doctest"
      }
     ]
    }
   }
  }
 },
 "nbformat": 4,
 "nbformat_minor": 4
}
