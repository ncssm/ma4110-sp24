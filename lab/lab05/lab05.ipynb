{
 "cells": [
  {
   "cell_type": "code",
   "execution_count": null,
   "metadata": {
    "deletable": false,
    "editable": false
   },
   "outputs": [],
   "source": [
    "# Initialize Otter\n",
    "import otter\n",
    "grader = otter.Notebook(\"lab05.ipynb\")"
   ]
  },
  {
   "cell_type": "markdown",
   "metadata": {},
   "source": [
    "# Lab 05: Simulations\n",
    "\n",
    "Welcome to Lab 05. \n",
    "\n",
    "We will go over [iteration](https://www.inferentialthinking.com/chapters/09/2/Iteration.html) and [simulations](https://www.inferentialthinking.com/chapters/09/3/Simulation.html), as well as introduce the concept of [randomness](https://www.inferentialthinking.com/chapters/09/Randomness.html).\n",
    "\n",
    "First, set up the tests and imports by running the cell below."
   ]
  },
  {
   "cell_type": "code",
   "execution_count": null,
   "metadata": {
    "execution": {
     "iopub.execute_input": "2024-01-26T21:12:31.700305Z",
     "iopub.status.busy": "2024-01-26T21:12:31.699699Z",
     "iopub.status.idle": "2024-01-26T21:12:33.478316Z",
     "shell.execute_reply": "2024-01-26T21:12:33.477220Z"
    }
   },
   "outputs": [],
   "source": [
    "# Run this cell, but please don't change it.\n",
    "\n",
    "# These lines import the Numpy and Datascience modules.\n",
    "import numpy as np\n",
    "from datascience import *\n",
    "\n",
    "# These lines do some fancy plotting magic\n",
    "import matplotlib\n",
    "%matplotlib inline\n",
    "import matplotlib.pyplot as plt\n",
    "plt.style.use('fivethirtyeight')\n",
    "\n",
    "# This line suppresses scientific notation\n",
    "np.set_printoptions(suppress = True)"
   ]
  },
  {
   "cell_type": "markdown",
   "metadata": {},
   "source": [
    "## 1. Nachos and Conditionals\n",
    "\n",
    "One day, when you come home after a long week, you see a hot bowl of nachos waiting on the dining table! Let's say that whenever you take a nacho from the bowl, it will either have only **cheese**, only **salsa**, **both** cheese and salsa, or **neither** cheese nor salsa (a sad tortilla chip indeed). \n",
    "\n",
    "Let's try to simulate taking nachos from the bowl at random and determining your reaction using Python. You'll need to learn how to generate random outcomes from a list of possible outcomes, inspect the outcomes to determine the correct reaction reaction, and then return the correct reaction. of a comparison operator in action."
   ]
  },
  {
   "cell_type": "markdown",
   "metadata": {},
   "source": [
    "### `np.random.choice`\n",
    "\n",
    "`np.random.choice` picks one item at random from the given array. It is equally likely to pick any of the items. Run the cell below several times, and observe how the results change."
   ]
  },
  {
   "cell_type": "code",
   "execution_count": null,
   "metadata": {
    "execution": {
     "iopub.execute_input": "2024-01-26T21:12:33.482395Z",
     "iopub.status.busy": "2024-01-26T21:12:33.481947Z",
     "iopub.status.idle": "2024-01-26T21:12:33.488791Z",
     "shell.execute_reply": "2024-01-26T21:12:33.487919Z"
    }
   },
   "outputs": [],
   "source": [
    "nachos = make_array('cheese', 'salsa', 'both', 'neither')\n",
    "np.random.choice(nachos)"
   ]
  },
  {
   "cell_type": "markdown",
   "metadata": {},
   "source": [
    "To repeat this process multiple times, pass in an int `n` as the second argument to return `n` different random choices. By default, `np.random.choice` samples **with replacement** and returns an *array* of items. \n",
    "\n",
    "Run the next cell to see an example of sampling with replacement 10 times from the `nachos` array."
   ]
  },
  {
   "cell_type": "code",
   "execution_count": null,
   "metadata": {
    "execution": {
     "iopub.execute_input": "2024-01-26T21:12:33.531470Z",
     "iopub.status.busy": "2024-01-26T21:12:33.530615Z",
     "iopub.status.idle": "2024-01-26T21:12:33.536954Z",
     "shell.execute_reply": "2024-01-26T21:12:33.536090Z"
    }
   },
   "outputs": [],
   "source": [
    "np.random.choice(nachos, 10)"
   ]
  },
  {
   "cell_type": "markdown",
   "metadata": {},
   "source": [
    "### Comparisons\n",
    "\n",
    "In Python, the boolean data type contains only two unique values:  `True` and `False`. Expressions containing comparison operators such as `<` (less than), `>` (greater than), and `==` (equal to) evaluate to Boolean values. A list of common comparison operators can be found below!\n",
    "\n",
    "| Comparison | Operator | True Example | False Example |\n",
    "| --- | --- | --- | ---|\n",
    "| Less than | `<` | `2 < 3` | `2 < 2` |\n",
    "| Greater than | `>` | `3 > 2` | `3 > 3` |\n",
    "| Less than or equal | `<=` | `2 <= 2` | `3 <= 2` |\n",
    "| Greater than or equal | `>=` | `3 >= 3` | `2 >= 3` |\n",
    "| Equal | `==` | `3 == 3` | `3 == 2` |\n",
    "| Not equal | `!=` | `3 != 2` | `2 != 2` |\n",
    "\n",
    "Run the cell below to see an example of a comparison operator in action."
   ]
  },
  {
   "cell_type": "code",
   "execution_count": null,
   "metadata": {
    "execution": {
     "iopub.execute_input": "2024-01-26T21:12:33.540512Z",
     "iopub.status.busy": "2024-01-26T21:12:33.539927Z",
     "iopub.status.idle": "2024-01-26T21:12:33.545155Z",
     "shell.execute_reply": "2024-01-26T21:12:33.544313Z"
    }
   },
   "outputs": [],
   "source": [
    "3 > 1 + 1"
   ]
  },
  {
   "cell_type": "markdown",
   "metadata": {},
   "source": [
    "You can even assign the result of a comparison operation to a variable, just like you can assign the result of any other Python expression."
   ]
  },
  {
   "cell_type": "code",
   "execution_count": null,
   "metadata": {
    "execution": {
     "iopub.execute_input": "2024-01-26T21:12:33.547988Z",
     "iopub.status.busy": "2024-01-26T21:12:33.547735Z",
     "iopub.status.idle": "2024-01-26T21:12:33.553285Z",
     "shell.execute_reply": "2024-01-26T21:12:33.552378Z"
    }
   },
   "outputs": [],
   "source": [
    "result = 10 / 2 == 5\n",
    "result"
   ]
  },
  {
   "cell_type": "markdown",
   "metadata": {},
   "source": [
    "Arrays are also compatible with comparison operators. When comparing a value to an array, the output will be an array of boolean values that resulted from a comparison with each corresponding element in the array.\n",
    "\n",
    "Comparisons can be made on numerical values."
   ]
  },
  {
   "cell_type": "code",
   "execution_count": null,
   "metadata": {
    "execution": {
     "iopub.execute_input": "2024-01-26T21:12:33.556432Z",
     "iopub.status.busy": "2024-01-26T21:12:33.555986Z",
     "iopub.status.idle": "2024-01-26T21:12:33.574664Z",
     "shell.execute_reply": "2024-01-26T21:12:33.573748Z"
    }
   },
   "outputs": [],
   "source": [
    "make_array(1, 5, 7, 8, 3, -1) > 3"
   ]
  },
  {
   "cell_type": "markdown",
   "metadata": {},
   "source": [
    "And they can also be made on other data types, such as strings."
   ]
  },
  {
   "cell_type": "code",
   "execution_count": null,
   "metadata": {
    "execution": {
     "iopub.execute_input": "2024-01-26T21:12:33.577938Z",
     "iopub.status.busy": "2024-01-26T21:12:33.577672Z",
     "iopub.status.idle": "2024-01-26T21:12:33.583024Z",
     "shell.execute_reply": "2024-01-26T21:12:33.582173Z"
    }
   },
   "outputs": [],
   "source": [
    "nachos == 'salsa'"
   ]
  },
  {
   "cell_type": "markdown",
   "metadata": {},
   "source": [
    "To count the number of times a certain type of nacho is randomly chosen, we can use `np.count_nonzero`.\n",
    "\n",
    "### `np.count_nonzero`\n",
    "\n",
    "`np.count_nonzero` counts the number of non-zero values that appear in an array. When an array of boolean values are passed through the function, it will count the number of `True` values in the array. \n",
    "\n",
    "**Remember:** in Python, `True` is equivalent in value to 1 and `False` is equivalent to 0.\n",
    "\n",
    "Run the next cell to see an example that uses `np.count_nonzero`."
   ]
  },
  {
   "cell_type": "code",
   "execution_count": null,
   "metadata": {
    "execution": {
     "iopub.execute_input": "2024-01-26T21:12:33.586539Z",
     "iopub.status.busy": "2024-01-26T21:12:33.585896Z",
     "iopub.status.idle": "2024-01-26T21:12:33.591518Z",
     "shell.execute_reply": "2024-01-26T21:12:33.590658Z"
    }
   },
   "outputs": [],
   "source": [
    "np.count_nonzero(make_array(True, False, False, True, True))"
   ]
  },
  {
   "cell_type": "markdown",
   "metadata": {
    "deletable": false,
    "editable": false
   },
   "source": [
    "### Question 1.1.\n",
    "\n",
    "Assume we took ten nachos at random, and with the results assigned to the array called `ten_nachos` in the code cell below. **Compute the number of nachos with only cheese on them** using a comparison operator (e.g. `==`, `<`, ...) and the `np.count_nonzero` function demonstrated above."
   ]
  },
  {
   "cell_type": "code",
   "execution_count": null,
   "metadata": {
    "execution": {
     "iopub.execute_input": "2024-01-26T21:12:33.594477Z",
     "iopub.status.busy": "2024-01-26T21:12:33.594223Z",
     "iopub.status.idle": "2024-01-26T21:12:33.599972Z",
     "shell.execute_reply": "2024-01-26T21:12:33.599128Z"
    },
    "tags": []
   },
   "outputs": [],
   "source": [
    "ten_nachos = make_array('neither', 'cheese', 'both', 'both', 'cheese', 'salsa', 'both', 'neither', 'cheese', 'cheese')\n",
    "number_cheese = ...\n",
    "number_cheese"
   ]
  },
  {
   "cell_type": "code",
   "execution_count": null,
   "metadata": {
    "deletable": false,
    "editable": false
   },
   "outputs": [],
   "source": [
    "grader.check(\"q1_1\")"
   ]
  },
  {
   "cell_type": "markdown",
   "metadata": {},
   "source": [
    "### Conditional Statements\n",
    "\n",
    "A conditional statement is a multi-line statement that allows Python to choose from different code blocks to run based on the truth value of an expression.\n",
    "\n",
    "Here is a function to serve as a basic example.\n",
    "\n",
    "```python\n",
    "def sign(x):\n",
    "    if x > 0:\n",
    "        return 'Positive'\n",
    "    else:\n",
    "        return 'Negative'\n",
    "```\n",
    "\n",
    "If the input `x` is greater than `0`, the `sign` function returns the string `'Positive'`. Otherwise, it returns the string `'Negative'`.\n",
    "\n",
    "If you wanted to test multiple conditions at once, use the following general format.\n",
    "\n",
    "```python\n",
    "if <if expression>:\n",
    "    <if body>\n",
    "elif <elif expression 0>:\n",
    "    <elif body 0>\n",
    "elif <elif expression 1>:\n",
    "    <elif body 1>\n",
    "...\n",
    "else:\n",
    "    <else body>\n",
    "```\n",
    "\n",
    "\n",
    "Each `if` and `elif` expression is evaluated and considered in order, starting at the top. As soon as a true value is found, the corresponding body is executed, and the rest of the conditional statement is skipped. If none of the `if` or `elif` expressions are true, then the `else` body is executed. \n",
    "\n",
    "For more examples and explanation, refer to the section on conditional statements [here](https://inferentialthinking.com/chapters/09/1/Conditional_Statements.html)."
   ]
  },
  {
   "cell_type": "markdown",
   "metadata": {
    "deletable": false,
    "editable": false
   },
   "source": [
    "<!-- BEGIN QUESTION -->\n",
    "\n",
    "### Question 1.2.\n",
    "\n",
    "Suppose you want to make sure that you have enough nachos with cheese on them.\n",
    "\n",
    "Complete the following conditional statement so that `say_please` is assigned a value based on the number of nachos with cheese in `ten_nachos`. If the number of nachoes with cheese is less than `5`, assign the string `'More please'` to `say_please`, otherwise assign the string `'Perfect!'`.\n",
    "\n",
    "**Hint:** You should use `number_cheese` from earlier in this assignment, or, recompute the number of nachos with cheese in the array `ten_nachos`. You should not directly reassign the variable `say_please` with the correct value.\n"
   ]
  },
  {
   "cell_type": "code",
   "execution_count": null,
   "metadata": {
    "execution": {
     "iopub.execute_input": "2024-01-26T21:12:33.627406Z",
     "iopub.status.busy": "2024-01-26T21:12:33.627160Z",
     "iopub.status.idle": "2024-01-26T21:12:33.632743Z",
     "shell.execute_reply": "2024-01-26T21:12:33.631889Z"
    },
    "tags": []
   },
   "outputs": [],
   "source": [
    "if ...:\n",
    "    say_please = 'More please'\n",
    "...\n",
    "    ...\n",
    "say_please"
   ]
  },
  {
   "cell_type": "markdown",
   "metadata": {
    "deletable": false,
    "editable": false
   },
   "source": [
    "<!-- END QUESTION -->\n",
    "\n",
    "### Question 1.3.\n",
    "\n",
    "Write a function called `nacho_reaction` that can be provided a nacho type (as a string) and returns a reaction (as a string) based on the type of nacho passed in as an argument. Use the table below to match the nacho type to the appropriate reaction.\n",
    "\n",
    "| Nacho Type | Reaction |\n",
    "|------------|----------|\n",
    "| cheese     | Cheesy!  |\n",
    "| salsa      | Spicy!   |\n",
    "| both       | Wow!     |\n",
    "| neither    | Meh.     |\n",
    "\n",
    "\n",
    "For example:\n",
    "\n",
    "```python\n",
    "nacho_reaction('cheese')\n",
    "```\n",
    "\n",
    "Would return the string `'Cheesy!'`.\n",
    "\n",
    "**Hint:** If you're failing the test, double check the spelling of your reactions.\n"
   ]
  },
  {
   "cell_type": "code",
   "execution_count": null,
   "metadata": {
    "execution": {
     "iopub.execute_input": "2024-01-26T21:12:33.635775Z",
     "iopub.status.busy": "2024-01-26T21:12:33.635518Z",
     "iopub.status.idle": "2024-01-26T21:12:33.641709Z",
     "shell.execute_reply": "2024-01-26T21:12:33.640886Z"
    },
    "tags": []
   },
   "outputs": [],
   "source": [
    "def nacho_reaction(nacho):\n",
    "    if nacho == \"cheese\":\n",
    "        return ...\n",
    "    ... :\n",
    "        ...\n",
    "    ... :\n",
    "        ...\n",
    "    ... :\n",
    "        ...\n",
    "\n",
    "spicy_nacho = nacho_reaction('salsa')\n",
    "spicy_nacho"
   ]
  },
  {
   "cell_type": "code",
   "execution_count": null,
   "metadata": {
    "deletable": false,
    "editable": false
   },
   "outputs": [],
   "source": [
    "grader.check(\"q1_3\")"
   ]
  },
  {
   "cell_type": "markdown",
   "metadata": {
    "deletable": false,
    "editable": false
   },
   "source": [
    "### Question 1.4.\n",
    "\n",
    "Create a Table named `ten_nachos_reactions` that consists of the nachos in the array `ten_nachos` in a column named `Nachos` as well as the reactions for each of those nachos in a column named `Reactions`.\n",
    "\n",
    "To get you started, the code below will create a Table named `ten_nachos_tbl` that contains the array `ten_nachos` in a column labeled `Nachos`. You can take as many steps as you need to create the final table, but as an added challenge you can attempt to do it in a single line of code.\n",
    "\n",
    "**Hint:** Use the `apply` method on the `ten_nachos_tbl` Table to create the array of reactions. Then, construct the final Table. Here's a link to the textbook [Chapter 8, Section 1: Applying a Function to a Column](https://www.inferentialthinking.com/chapters/08/1/Applying_a_Function_to_a_Column.html) if you need a refresher:  \n"
   ]
  },
  {
   "cell_type": "code",
   "execution_count": null,
   "metadata": {
    "execution": {
     "iopub.execute_input": "2024-01-26T21:12:33.707009Z",
     "iopub.status.busy": "2024-01-26T21:12:33.706449Z",
     "iopub.status.idle": "2024-01-26T21:12:33.711945Z",
     "shell.execute_reply": "2024-01-26T21:12:33.711385Z"
    },
    "tags": []
   },
   "outputs": [],
   "source": [
    "ten_nachos_tbl = Table().with_column('Nachos', ten_nachos)\n",
    "...\n",
    "ten_nachos_reactions"
   ]
  },
  {
   "cell_type": "code",
   "execution_count": null,
   "metadata": {
    "deletable": false,
    "editable": false
   },
   "outputs": [],
   "source": [
    "grader.check(\"q1_4\")"
   ]
  },
  {
   "cell_type": "markdown",
   "metadata": {
    "deletable": false,
    "editable": false
   },
   "source": [
    "### Question 1.5.\n",
    "\n",
    "Compute the number of 'Wow!' reactions for the nachos in the `ten_nachos_reactions` Table. You should not manually count the number of reactions, so your code must reference the Table `ten_nachos_reactions` at least once.\n",
    "\n",
    "**Hint:** There are a few ways to do this! Try seeing if you can use a comparison statement on an array to help out."
   ]
  },
  {
   "cell_type": "code",
   "execution_count": null,
   "metadata": {
    "execution": {
     "iopub.execute_input": "2024-01-26T21:12:33.741854Z",
     "iopub.status.busy": "2024-01-26T21:12:33.741614Z",
     "iopub.status.idle": "2024-01-26T21:12:33.772361Z",
     "shell.execute_reply": "2024-01-26T21:12:33.745996Z"
    },
    "tags": []
   },
   "outputs": [],
   "source": [
    "number_wow_reactions = ...\n",
    "number_wow_reactions"
   ]
  },
  {
   "cell_type": "code",
   "execution_count": null,
   "metadata": {
    "deletable": false,
    "editable": false
   },
   "outputs": [],
   "source": [
    "grader.check(\"q1_5\")"
   ]
  },
  {
   "cell_type": "markdown",
   "metadata": {},
   "source": [
    "## 2. Simulations and For Loops\n",
    "In Python, a `for` statement can perform a similar task multiple times. This repetitive process is known as **iteration**. In this course, iteration is most often seen as a `for` loop used to run simulations that involve randomness. However, that's not the only use for iteration in programming. This section will show you a few different ways to use iteration.\n",
    "\n",
    "### Iterate over a collection\n",
    "In general, a `for` loop is used to perform a block of code once for each value in a collection. For instance, the code below will print out all of the colors of the rainbow."
   ]
  },
  {
   "cell_type": "code",
   "execution_count": null,
   "metadata": {
    "execution": {
     "iopub.execute_input": "2024-01-26T21:12:33.800989Z",
     "iopub.status.busy": "2024-01-26T21:12:33.800729Z",
     "iopub.status.idle": "2024-01-26T21:12:33.805432Z",
     "shell.execute_reply": "2024-01-26T21:12:33.804598Z"
    }
   },
   "outputs": [],
   "source": [
    "rainbow = make_array(\"red\", \"orange\", \"yellow\", \"green\", \"blue\", \"indigo\", \"violet\")\n",
    "\n",
    "for color in rainbow:\n",
    "    print(color)"
   ]
  },
  {
   "cell_type": "markdown",
   "metadata": {},
   "source": [
    "We can see that the indented part of the `for` loop, known as the body, is executed once for each item in the array `rainbow`. The name `color` is assigned to the next value in `rainbow` at the start of each iteration. Note that the name `color` is arbitrary; we could easily have named it something else in the `for` loop definition.. The important thing is that you stay consistent throughout the `for` loop."
   ]
  },
  {
   "cell_type": "code",
   "execution_count": null,
   "metadata": {
    "execution": {
     "iopub.execute_input": "2024-01-26T21:12:33.808135Z",
     "iopub.status.busy": "2024-01-26T21:12:33.807877Z",
     "iopub.status.idle": "2024-01-26T21:12:33.812042Z",
     "shell.execute_reply": "2024-01-26T21:12:33.811268Z"
    }
   },
   "outputs": [],
   "source": [
    "for another_name in rainbow:\n",
    "    print(another_name)"
   ]
  },
  {
   "cell_type": "markdown",
   "metadata": {},
   "source": [
    "However, in general it is a best practice for variable names to be somewhat descriptive about the values they hold."
   ]
  },
  {
   "cell_type": "markdown",
   "metadata": {},
   "source": [
    "### Question 2.1.\n",
    "\n",
    "In the following cell, we've loaded the text of the novel _Pride and Prejudice_ by Jane Austen, split it into individual words, and stored these words in an array `p_and_p_words`. Use a `for` loop to load each word in the array `p_and_p_words` into the iterating variable (the one that you choose the name for) one at a time, and check if the current word is longer than 5 letters, and keep a running total of how many words are longer than 5 letters. When the loop completes, the variable `longer_than_five`, which is initially assigned the value `0`, should contain an integer that represents the number of words in _Pride and Prejudice_ that are more than 5 letters long.\n",
    "\n",
    "**Hint:** You can find the number of letters in a word/string with the `len` function. You can reference the code cell below for an example:"
   ]
  },
  {
   "cell_type": "code",
   "execution_count": null,
   "metadata": {
    "execution": {
     "iopub.execute_input": "2024-01-26T21:12:33.814842Z",
     "iopub.status.busy": "2024-01-26T21:12:33.814604Z",
     "iopub.status.idle": "2024-01-26T21:12:33.819850Z",
     "shell.execute_reply": "2024-01-26T21:12:33.819000Z"
    }
   },
   "outputs": [],
   "source": [
    "my_word = 'hello'\n",
    "len(my_word)"
   ]
  },
  {
   "cell_type": "code",
   "execution_count": null,
   "metadata": {
    "execution": {
     "iopub.execute_input": "2024-01-26T21:12:33.822706Z",
     "iopub.status.busy": "2024-01-26T21:12:33.822464Z",
     "iopub.status.idle": "2024-01-26T21:12:33.954406Z",
     "shell.execute_reply": "2024-01-26T21:12:33.953496Z"
    },
    "tags": []
   },
   "outputs": [],
   "source": [
    "austen_string = open('Austen_PrideAndPrejudice.txt', encoding='utf-8').read()\n",
    "p_and_p_words = np.array(austen_string.split())\n",
    "longer_than_five = 0\n",
    "\n",
    "# a for loop would be useful here\n",
    "longer_than_five"
   ]
  },
  {
   "cell_type": "code",
   "execution_count": null,
   "metadata": {
    "deletable": false,
    "editable": false
   },
   "outputs": [],
   "source": [
    "grader.check(\"q2_1\")"
   ]
  },
  {
   "cell_type": "markdown",
   "metadata": {},
   "source": [
    "You should notice it didn't take very long to go through every word in the entire novel! This is a great example of how working with computers can speed up very routine simple tasks, like counting."
   ]
  },
  {
   "cell_type": "markdown",
   "metadata": {
    "deletable": false,
    "editable": false
   },
   "source": [
    "### Question 2.2.\n",
    "\n",
    "Do you think the words in _Pride and Prejudice_ tend to be the same length, or different lengths? You could try to estimate how likely words are to have different lengths through choosing two words at random from the book, and seeing if they have the same length. Doing this just one time might not be insightful, but if you were to do this many times it could be helpful.\n",
    "\n",
    "Complete a simulation with 10,000 trials, by writing a `for` loop to pick two words uniformly at random (with replacement) from _Pride and Prejudice_ and determine if the words have different lengths. When the simulation is completed, the variable `num_different` should be equal to the number of times that the two words selected in the simulations were different in length. Since there is randomness involved, your answer will likely be different from a classmates, and will change each time you run the cell.\n",
    "\n",
    "**Hint 1:** Recall the function used earlier to sample at random with replacement from an array.\n",
    "\n",
    "**Hint 2:** Remember that `!=` checks for non-equality between two items."
   ]
  },
  {
   "cell_type": "code",
   "execution_count": null,
   "metadata": {
    "execution": {
     "iopub.execute_input": "2024-01-26T21:12:33.987234Z",
     "iopub.status.busy": "2024-01-26T21:12:33.986697Z",
     "iopub.status.idle": "2024-01-26T21:12:34.228766Z",
     "shell.execute_reply": "2024-01-26T21:12:34.227871Z"
    },
    "tags": []
   },
   "outputs": [],
   "source": [
    "trials = 10000\n",
    "num_different = ...\n",
    "\n",
    "for ... in ...:\n",
    "    ...\n",
    "num_different"
   ]
  },
  {
   "cell_type": "code",
   "execution_count": null,
   "metadata": {
    "deletable": false,
    "editable": false
   },
   "outputs": [],
   "source": [
    "grader.check(\"q2_2\")"
   ]
  },
  {
   "cell_type": "markdown",
   "metadata": {
    "deletable": false,
    "editable": false
   },
   "source": [
    "Before moving on to the next question, inspect the value you computed for `num_different`. How would you describe what this value means in context of the simulation you wrote? Discuss your interpretation with a classmate or teacher."
   ]
  },
  {
   "cell_type": "markdown",
   "metadata": {
    "deletable": false,
    "editable": false
   },
   "source": [
    "### Question 2.3.\n",
    "\n",
    "Allie is playing a simplified version of darts. Her dartboard contains ten equal-sized zones with point values from 1 to 10. Write a simulation to determine her total score after 1000 dart tosses, assuming that each dart is equally likely to hit each region on the board. \n",
    "\n",
    "Note that while you _could_ write a `for` loop to complete this simulation, you don't need to. Remember that `np.random.choice(...)` can select multiple values from the same array if you provide a second argument that is an integer. Attempt to use `np.random.choice` in part of your solution after defining an array that contains all the possible outcomes of throwing a single dart. \n",
    "\n",
    "Since there is randomness involved, your answer will likely be different from a classmates, and will change each time you run the cell."
   ]
  },
  {
   "cell_type": "code",
   "execution_count": null,
   "metadata": {
    "execution": {
     "iopub.execute_input": "2024-01-26T21:12:34.247978Z",
     "iopub.status.busy": "2024-01-26T21:12:34.247735Z",
     "iopub.status.idle": "2024-01-26T21:12:34.253966Z",
     "shell.execute_reply": "2024-01-26T21:12:34.253169Z"
    },
    "tags": []
   },
   "outputs": [],
   "source": [
    "possible_point_values = ...\n",
    "num_tosses = 1000\n",
    "simulated_tosses = ...\n",
    "total_score = ...\n",
    "total_score"
   ]
  },
  {
   "cell_type": "code",
   "execution_count": null,
   "metadata": {
    "deletable": false,
    "editable": false
   },
   "outputs": [],
   "source": [
    "grader.check(\"q2_3\")"
   ]
  },
  {
   "cell_type": "markdown",
   "metadata": {},
   "source": [
    "## 3. Sampling Basketball Data\n",
    "\n",
    "We will now introduce the topic of sampling, which we’ll be discussing in more depth in upcoming classes. We’ll guide you through this code, but if you wish to read more about different kinds of samples before attempting this question, you can check out [section 10 of the textbook](https://www.inferentialthinking.com/chapters/10/Sampling_and_Empirical_Distributions.html).\n",
    "\n",
    "The data used in this section will contain salary data and other statistics for basketball players from the 2022-2023 NBA season. This data was collected from the following sports analytic sites: [Basketball Reference](http://www.basketball-reference.com) and [HoopsHype](https://hoopshype.com/salaries/players/2022-2023/).\n",
    "\n",
    "Run the cell below to load player and salary data that we will use for our sampling. "
   ]
  },
  {
   "cell_type": "code",
   "execution_count": null,
   "metadata": {
    "execution": {
     "iopub.execute_input": "2024-01-26T21:12:34.283966Z",
     "iopub.status.busy": "2024-01-26T21:12:34.283747Z",
     "iopub.status.idle": "2024-01-26T21:12:34.299912Z",
     "shell.execute_reply": "2024-01-26T21:12:34.299284Z"
    }
   },
   "outputs": [],
   "source": [
    "player_data = Table().read_table(\"player_data_2022.csv\")\n",
    "salary_data = Table().read_table(\"salary_data_2022.csv\").set_format('Salary', CurrencyFormatter)"
   ]
  },
  {
   "cell_type": "markdown",
   "metadata": {},
   "source": [
    "### `player_data`\n",
    "\n",
    "The `player_data` Table contains statistics for each player for the 2022-2023 season. Run the cell below to inspect a few rows of the Table."
   ]
  },
  {
   "cell_type": "code",
   "execution_count": null,
   "metadata": {
    "execution": {
     "iopub.execute_input": "2024-01-26T21:12:34.302921Z",
     "iopub.status.busy": "2024-01-26T21:12:34.302696Z",
     "iopub.status.idle": "2024-01-26T21:12:34.308326Z",
     "shell.execute_reply": "2024-01-26T21:12:34.307771Z"
    }
   },
   "outputs": [],
   "source": [
    "player_data"
   ]
  },
  {
   "cell_type": "markdown",
   "metadata": {},
   "source": [
    "### `salary_data`\n",
    "\n",
    "The `salary_data` Table contains salary information for each player for the 2022-2023 season. The column labeled `Salary` is an integer, but is formatted as a currency to make it a bit easier to read. \n",
    "\n",
    "Run the cell below to inspect a few rows of the Table."
   ]
  },
  {
   "cell_type": "code",
   "execution_count": null,
   "metadata": {
    "execution": {
     "iopub.execute_input": "2024-01-26T21:12:34.310942Z",
     "iopub.status.busy": "2024-01-26T21:12:34.310725Z",
     "iopub.status.idle": "2024-01-26T21:12:34.315315Z",
     "shell.execute_reply": "2024-01-26T21:12:34.314736Z"
    }
   },
   "outputs": [],
   "source": [
    "salary_data"
   ]
  },
  {
   "cell_type": "markdown",
   "metadata": {
    "deletable": false,
    "editable": false
   },
   "source": [
    "### Question 3.1.\n",
    "\n",
    "Use the `.join` method to create a Table that contains the combined information from both Tables. Assign this combined Table to `full_data`."
   ]
  },
  {
   "cell_type": "code",
   "execution_count": null,
   "metadata": {
    "execution": {
     "iopub.execute_input": "2024-01-26T21:12:34.318029Z",
     "iopub.status.busy": "2024-01-26T21:12:34.317816Z",
     "iopub.status.idle": "2024-01-26T21:12:34.343898Z",
     "shell.execute_reply": "2024-01-26T21:12:34.343296Z"
    },
    "tags": []
   },
   "outputs": [],
   "source": [
    "full_data = ...\n",
    "full_data"
   ]
  },
  {
   "cell_type": "code",
   "execution_count": null,
   "metadata": {
    "deletable": false,
    "editable": false
   },
   "outputs": [],
   "source": [
    "grader.check(\"q3_1\")"
   ]
  },
  {
   "cell_type": "markdown",
   "metadata": {},
   "source": [
    "### Analysis from a sample\n",
    "\n",
    "For 536 players, it's not so unreasonable to expect to use all of the data to conduct an analysis, but it is usually very difficult and/or expensive to have a set of data with each person from the population represented in it. Instead, information on only a subset of the population can be collected. This subset is called a sample.\n",
    "\n",
    "If we want to make estimates about a certain numerical property (like the mean, median, standard deviation, etc) of the entire population, we may have to come up with these estimates based only on a smaller sample. Whether these estimates are useful or not often depends on how the sample was gathered. We have prepared some example sample datasets to see how they compare to the full NBA dataset. Later we'll ask you to create your own samples to see how they behave.\n",
    "\n",
    "In this section, you'll create 3 different samples and investigate how the chosen method impacts the results:\n",
    "* Convience sample\n",
    "* Small simple random sample\n",
    "* Large simple random sample\n",
    "\n",
    "### Helper Functions\n",
    "To save typing and increase the clarity of your code, we will package the analysis code into a few functions that you can use. Some functions will be provided, and some you will need to write. These functions will be useful in the rest of the lab as we will repeatedly need to create histograms and collect summary statistics from sample data.\n",
    "\n",
    "### `histograms`\n",
    "The `histograms` function is defined below. It takes a Table that must contain columns named `Age` and `Salary` and draws a histogram for each one. It uses bin widths of 1 year for `Age` and $1,000,000 for `Salary`.\n",
    "\n",
    "**Note:** This function ONLY takes in a table with these labels. It will not work if the Table provided as an input does not have these labels."
   ]
  },
  {
   "cell_type": "code",
   "execution_count": null,
   "metadata": {
    "execution": {
     "iopub.execute_input": "2024-01-26T21:12:34.399414Z",
     "iopub.status.busy": "2024-01-26T21:12:34.399195Z",
     "iopub.status.idle": "2024-01-26T21:12:35.113194Z",
     "shell.execute_reply": "2024-01-26T21:12:35.112550Z"
    }
   },
   "outputs": [],
   "source": [
    "def histograms(t):\n",
    "    ages = t.column('Age')\n",
    "    salaries = t.column('Salary')/1000000\n",
    "    t1 = t.drop('Salary').with_column('Salary', salaries)\n",
    "    age_bins = np.arange(min(ages), max(ages) + 2, 1) \n",
    "    salary_bins = np.arange(min(salaries), max(salaries) + 1, 1)\n",
    "    t1.hist('Age', bins=age_bins, unit='year')\n",
    "    plt.title('Age distribution')\n",
    "    t1.hist('Salary', bins=salary_bins, unit='million dollars')\n",
    "    plt.title('Salary distribution') \n",
    "    \n",
    "histograms(full_data)"
   ]
  },
  {
   "cell_type": "markdown",
   "metadata": {
    "deletable": false,
    "editable": false
   },
   "source": [
    "### Question 3.2.\n",
    "\n",
    "Define a function called `compute_statistics` that takes a table containing ages and salaries and returns a two-element `array` containing the average age and average salary of the players in the provided Table (in that order).\n",
    "\n",
    "Then, run call the function using the full set of data contained in the Table `full_data` to determine the mean age and salary from the whole population of NBA players.\n",
    "\n",
    "**Note:** We wrote the solution using 3 lines in the body of the function, but you may be able to do it using more or less lines of code."
   ]
  },
  {
   "cell_type": "code",
   "execution_count": null,
   "metadata": {
    "execution": {
     "iopub.execute_input": "2024-01-26T21:12:35.116294Z",
     "iopub.status.busy": "2024-01-26T21:12:35.116020Z",
     "iopub.status.idle": "2024-01-26T21:12:35.122653Z",
     "shell.execute_reply": "2024-01-26T21:12:35.121853Z"
    },
    "tags": []
   },
   "outputs": [],
   "source": [
    "def compute_statistics(age_and_salary_data):\n",
    "    age = ...\n",
    "    salary = ...\n",
    "    ...\n",
    "\n",
    "full_stats = compute_statistics(full_data)\n",
    "full_stats"
   ]
  },
  {
   "cell_type": "code",
   "execution_count": null,
   "metadata": {
    "deletable": false,
    "editable": false
   },
   "outputs": [],
   "source": [
    "grader.check(\"q3_2\")"
   ]
  },
  {
   "cell_type": "markdown",
   "metadata": {},
   "source": [
    "### Convenience sample\n",
    "One sampling methodology, **which is generally a bad idea**, is to choose players who are somehow convenient to sample.  For example, you might choose players from a team that plays in your city, since it's easier to survey them in person.  This is called, somewhat pejoratively, *convenience sampling*.\n",
    "\n",
    "Suppose you were only able survey *relatively new* players with ages less than 22 because the more experienced players didn't bother to answer your surveys about their salaries. Think about how that might impact the statistics about the sample compared to the full population of players."
   ]
  },
  {
   "cell_type": "markdown",
   "metadata": {
    "deletable": false,
    "editable": false
   },
   "source": [
    "### Question 3.3.\n",
    "\n",
    "Assign `convenience_sample` to a subset of `full_data` that contains only the rows for players under the age of 22. This will mimic only being able to acquire a convenience sample based on player age."
   ]
  },
  {
   "cell_type": "code",
   "execution_count": null,
   "metadata": {
    "execution": {
     "iopub.execute_input": "2024-01-26T21:12:35.140375Z",
     "iopub.status.busy": "2024-01-26T21:12:35.140095Z",
     "iopub.status.idle": "2024-01-26T21:12:35.147323Z",
     "shell.execute_reply": "2024-01-26T21:12:35.146633Z"
    },
    "tags": []
   },
   "outputs": [],
   "source": [
    "convenience_sample = ...\n",
    "convenience_sample"
   ]
  },
  {
   "cell_type": "code",
   "execution_count": null,
   "metadata": {
    "deletable": false,
    "editable": false
   },
   "outputs": [],
   "source": [
    "grader.check(\"q3_3\")"
   ]
  },
  {
   "cell_type": "markdown",
   "metadata": {
    "deletable": false,
    "editable": false
   },
   "source": [
    "### Question 3.4.\n",
    "\n",
    "Assign `convenience_stats` to an array of the average age and average salary of your convenience sample, using the `compute_statistics` function.  Since these averages are computed from a sample from a larger population, they are called *sample averages*. "
   ]
  },
  {
   "cell_type": "code",
   "execution_count": null,
   "metadata": {
    "execution": {
     "iopub.execute_input": "2024-01-26T21:12:35.193533Z",
     "iopub.status.busy": "2024-01-26T21:12:35.193251Z",
     "iopub.status.idle": "2024-01-26T21:12:35.197966Z",
     "shell.execute_reply": "2024-01-26T21:12:35.197394Z"
    },
    "tags": []
   },
   "outputs": [],
   "source": [
    "convenience_stats = ...\n",
    "convenience_stats"
   ]
  },
  {
   "cell_type": "code",
   "execution_count": null,
   "metadata": {
    "deletable": false,
    "editable": false
   },
   "outputs": [],
   "source": [
    "grader.check(\"q3_4\")"
   ]
  },
  {
   "cell_type": "markdown",
   "metadata": {},
   "source": [
    "### Comparing Samples\n",
    "\n",
    "Next, we'll compare the distributions of the convenience sample salaries with those in the full data salaries in a single histogram. An overlaid histogram makes it easier to compare two distributions to see how they are similar and different. The function `compare_salaries` below will create this overlaid histogram for you. You don't need to understand how it works, but you're welcome to see if you can figure out it if you're up for a challenge!"
   ]
  },
  {
   "cell_type": "code",
   "execution_count": null,
   "metadata": {
    "execution": {
     "iopub.execute_input": "2024-01-26T21:12:35.208232Z",
     "iopub.status.busy": "2024-01-26T21:12:35.207950Z",
     "iopub.status.idle": "2024-01-26T21:12:35.544269Z",
     "shell.execute_reply": "2024-01-26T21:12:35.543594Z"
    }
   },
   "outputs": [],
   "source": [
    "def compare_salaries(first, second, first_title, second_title):\n",
    "    \"\"\"Compare the salaries in two tables.\"\"\"\n",
    "    first_salary_in_millions = first.column('Salary')/1000000\n",
    "    second_salary_in_millions = second.column('Salary')/1000000\n",
    "    first_tbl_millions = first.drop('Salary').with_column('Salary', first_salary_in_millions)\n",
    "    second_tbl_millions = second.drop('Salary').with_column('Salary', second_salary_in_millions)\n",
    "    max_salary = max(np.append(first_tbl_millions.column('Salary'), second_tbl_millions.column('Salary')))\n",
    "    bins = np.arange(0, max_salary+1, 1)\n",
    "    first_binned = first_tbl_millions.bin('Salary', bins=bins).relabeled(1, first_title)\n",
    "    second_binned = second_tbl_millions.bin('Salary', bins=bins).relabeled(1, second_title)\n",
    "    first_binned.join('bin', second_binned).hist(bin_column='bin', unit='million dollars')\n",
    "    plt.title('Salaries for all players and convenience sample')\n",
    "\n",
    "compare_salaries(full_data, convenience_sample, 'All Players', 'Convenience Sample')"
   ]
  },
  {
   "cell_type": "markdown",
   "metadata": {
    "deletable": false,
    "editable": false
   },
   "source": [
    "<!-- BEGIN QUESTION -->\n",
    "\n",
    "### Question 3.5.\n",
    "\n",
    "Does the convenience sample give us an accurate picture of the salary of the full population? Explain why or why not using evidence from the histograms and summary statistics generated for the convenience sample and the full population to back up your claims. Offer an explanation as to why the sample does or does not represent the larger population in context of the data. Meaning, why would it make sense for younger players to have the same salaries as the overall population of players, or why would it make sense that younger players do not have the same salaries as the overall population of players."
   ]
  },
  {
   "cell_type": "markdown",
   "metadata": {},
   "source": [
    "_Type your answer here, replacing this text._"
   ]
  },
  {
   "cell_type": "markdown",
   "metadata": {
    "deletable": false,
    "editable": false
   },
   "source": [
    "<!-- END QUESTION -->\n",
    "\n",
    "### Simple random sampling\n",
    "A more justifiable approach is to sample uniformly at random from the players.  In a **simple random sample (SRS) without replacement**, we ensure that each player is selected at most once. Imagine writing down each player's name on a card, putting the cards in an box, and shuffling the box.  Then, pull out cards one by one and set them aside, stopping when the specified sample size is reached."
   ]
  },
  {
   "cell_type": "markdown",
   "metadata": {},
   "source": [
    "### Producing simple random samples\n",
    "Sometimes, it’s useful to take random samples even when we have the data for the whole population. It helps us understand sampling accuracy."
   ]
  },
  {
   "cell_type": "markdown",
   "metadata": {},
   "source": [
    "### `sample`\n",
    "\n",
    "The table method `sample` produces a random sample from the table. By default, it draws at random **with replacement** from the rows of a table. It takes in the sample size as its argument and returns a **table** with only the rows that were selected. \n",
    "\n",
    "Run the cell below to see an example call to `sample()` with a sample size of 5, with replacement. Because the sample will be based on a random process, you may or may not see the sample player more than once due to the selection with replacement. You can try running the cell more than once, but with such a large data set (over 500 players) it's unlikely to see the same player more than once when only selecting 5."
   ]
  },
  {
   "cell_type": "code",
   "execution_count": null,
   "metadata": {
    "execution": {
     "iopub.execute_input": "2024-01-26T21:12:35.547883Z",
     "iopub.status.busy": "2024-01-26T21:12:35.547614Z",
     "iopub.status.idle": "2024-01-26T21:12:35.552883Z",
     "shell.execute_reply": "2024-01-26T21:12:35.552261Z"
    }
   },
   "outputs": [],
   "source": [
    "salary_data.sample(5)"
   ]
  },
  {
   "cell_type": "markdown",
   "metadata": {},
   "source": [
    "The optional argument `with_replacement=False` can be passed as an input to the `sample()` method to specify that the sample should be drawn without replacement. This will guarantee that the same player does not appear more than once in your sample.\n",
    "\n",
    "Run the cell below to see an example call to `sample()` with a sample size of 5, without replacement."
   ]
  },
  {
   "cell_type": "code",
   "execution_count": null,
   "metadata": {
    "execution": {
     "iopub.execute_input": "2024-01-26T21:12:35.555676Z",
     "iopub.status.busy": "2024-01-26T21:12:35.555412Z",
     "iopub.status.idle": "2024-01-26T21:12:35.560480Z",
     "shell.execute_reply": "2024-01-26T21:12:35.559894Z"
    }
   },
   "outputs": [],
   "source": [
    "salary_data.sample(5, with_replacement = False)"
   ]
  },
  {
   "cell_type": "markdown",
   "metadata": {
    "deletable": false,
    "editable": false
   },
   "source": [
    "<!-- BEGIN QUESTION -->\n",
    "\n",
    "### Question 3.6.a\n",
    "\n",
    "Produce a simple random sample of size 44 from `full_data` and save the sample to the Table named `my_small_srswor_data`. Create a histogram of the age and salary distributions using the `histograms` function, and compute the average age and salary using the `compute_statistics` function.\n",
    "\n",
    "Due to the randomness of creating a sample, the averages and distributions will change each time the cell is run. Run the cell several times to see how the distributions and averages change from sample to sample."
   ]
  },
  {
   "cell_type": "code",
   "execution_count": null,
   "metadata": {
    "execution": {
     "iopub.execute_input": "2024-01-26T21:12:35.563363Z",
     "iopub.status.busy": "2024-01-26T21:12:35.563092Z",
     "iopub.status.idle": "2024-01-26T21:12:36.198251Z",
     "shell.execute_reply": "2024-01-26T21:12:36.197168Z"
    },
    "tags": []
   },
   "outputs": [],
   "source": [
    "my_small_srswor_data = ...\n",
    "...\n",
    "my_small_stats = ...\n",
    "my_small_stats"
   ]
  },
  {
   "cell_type": "markdown",
   "metadata": {
    "deletable": false,
    "editable": false
   },
   "source": [
    "<!-- END QUESTION -->\n",
    "\n",
    "Run the cell below to see how the distributions of salaries in your most recent small simple random sample compares to the total population of players."
   ]
  },
  {
   "cell_type": "code",
   "execution_count": null,
   "metadata": {
    "execution": {
     "iopub.execute_input": "2024-01-26T21:12:36.202546Z",
     "iopub.status.busy": "2024-01-26T21:12:36.202278Z",
     "iopub.status.idle": "2024-01-26T21:12:36.560487Z",
     "shell.execute_reply": "2024-01-26T21:12:36.559750Z"
    }
   },
   "outputs": [],
   "source": [
    "compare_salaries(full_data, my_small_srswor_data, 'All Players', 'Small Sample')"
   ]
  },
  {
   "cell_type": "markdown",
   "metadata": {
    "deletable": false,
    "editable": false
   },
   "source": [
    "<!-- BEGIN QUESTION -->\n",
    "\n",
    "### Question 3.6.b\n",
    "\n",
    "How well does a small simple random sample tend to approximate the total population? Write an explanation of your observations and use information from the histograms or summary statistics to back up your claims. You should consider how the average age and salary changed as you drew several different samples and describe which seemed to change more from sample to sample: the average age or the average salary. Why do you think that is, based on the ages and salaries in the dataset?"
   ]
  },
  {
   "cell_type": "markdown",
   "metadata": {},
   "source": [
    "_Type your answer here, replacing this text._"
   ]
  },
  {
   "cell_type": "markdown",
   "metadata": {
    "deletable": false,
    "editable": false
   },
   "source": [
    "<!-- END QUESTION -->\n",
    "\n",
    "<!-- BEGIN QUESTION -->\n",
    "\n",
    "### Question 3.7.\n",
    "\n",
    "Using the same method as the previous question, analyze several simple random samples but this time of size 100 from `full_data`. \n",
    "\n",
    "Due to the randomness of creating a sample, the averages and distributions will change each time the cell is run. Run the cell several times to see how the distributions and averages change from sample to sample."
   ]
  },
  {
   "cell_type": "code",
   "execution_count": null,
   "metadata": {
    "execution": {
     "iopub.execute_input": "2024-01-26T21:12:36.564300Z",
     "iopub.status.busy": "2024-01-26T21:12:36.563648Z",
     "iopub.status.idle": "2024-01-26T21:12:37.198440Z",
     "shell.execute_reply": "2024-01-26T21:12:37.197723Z"
    },
    "tags": []
   },
   "outputs": [],
   "source": [
    "my_large_srswor_data = ...\n",
    "...\n",
    "my_large_stats = ...\n",
    "my_large_stats"
   ]
  },
  {
   "cell_type": "markdown",
   "metadata": {
    "deletable": false,
    "editable": false
   },
   "source": [
    "<!-- END QUESTION -->\n",
    "\n",
    "Run the cell below to see how the distributions of salaries in your most recent small simple random sample compares to the total population of players."
   ]
  },
  {
   "cell_type": "code",
   "execution_count": null,
   "metadata": {
    "execution": {
     "iopub.execute_input": "2024-01-26T21:12:37.201485Z",
     "iopub.status.busy": "2024-01-26T21:12:37.201250Z",
     "iopub.status.idle": "2024-01-26T21:12:37.542687Z",
     "shell.execute_reply": "2024-01-26T21:12:37.542026Z"
    }
   },
   "outputs": [],
   "source": [
    "compare_salaries(full_data, my_large_srswor_data, 'All Players', 'Large Sample')"
   ]
  },
  {
   "cell_type": "markdown",
   "metadata": {
    "deletable": false,
    "editable": false
   },
   "source": [
    "<!-- BEGIN QUESTION -->\n",
    "\n",
    "Does using samples of size 100 seem to do a better job at approximating the total population than samples of size 44? Your explanation should compare and contrast the histograms and summary statistics from the small and large sampling methods, and explain how one of them does a better job at accurately representing the total population."
   ]
  },
  {
   "cell_type": "markdown",
   "metadata": {},
   "source": [
    "_Type your answer here, replacing this text._"
   ]
  },
  {
   "cell_type": "markdown",
   "metadata": {
    "deletable": false,
    "editable": false
   },
   "source": [
    "<!-- END QUESTION -->\n",
    "\n",
    "# Submitting your work\n",
    "You're done with this assignment! Assignments should be turned in using the following best practices:\n",
    "1. Save your notebook.\n",
    "2. Restart the kernel and run all cells up to this one.\n",
    "3. Run the cell below with the code `grader.export(...)`. This will re-run all the tests. Make sure they are passing as you expect them to.\n",
    "4. Download the file named `lab05_<date-time-stamp>.zip`, found in the explorer pane on the left side of the screen. **Note**: Clicking on the link in this notebook may result in an error, it's best to download from the file explorer panel.\n",
    "5. Upload `lab05_<date-time-stamp>.zip` to the corresponding assignment on Canvas."
   ]
  },
  {
   "cell_type": "markdown",
   "metadata": {
    "deletable": false,
    "editable": false
   },
   "source": [
    "## Submission\n",
    "\n",
    "Make sure you have run all cells in your notebook in order before running the cell below, so that all images/graphs appear in the output. The cell below will generate a zip file for you to submit."
   ]
  },
  {
   "cell_type": "code",
   "execution_count": null,
   "metadata": {
    "deletable": false,
    "editable": false
   },
   "outputs": [],
   "source": [
    "grader.export(pdf=False, force_save=True)"
   ]
  },
  {
   "cell_type": "markdown",
   "metadata": {},
   "source": [
    " "
   ]
  }
 ],
 "metadata": {
  "kernelspec": {
   "display_name": "Python 3 (ipykernel)",
   "language": "python",
   "name": "python3"
  },
  "language_info": {
   "codemirror_mode": {
    "name": "ipython",
    "version": 3
   },
   "file_extension": ".py",
   "mimetype": "text/x-python",
   "name": "python",
   "nbconvert_exporter": "python",
   "pygments_lexer": "ipython3",
   "version": "3.11.5"
  },
  "otter": {
   "OK_FORMAT": true,
   "tests": {
    "q1_1": {
     "name": "q1_1",
     "points": null,
     "suites": [
      {
       "cases": [
        {
         "code": ">>> type(number_cheese) == int or type(number_cheese) == np.int64\nTrue",
         "failure_message": "❌ `number_cheese` is not an integer. Make sure you're using the np.count_nonzero function.",
         "hidden": false,
         "locked": false,
         "points": 0.25,
         "success_message": "✅ `number_cheese` is an integer"
        },
        {
         "code": ">>> 0 <= number_cheese <= 10\nTrue",
         "failure_message": "❌ `number_cheese` is not between 0 and 10, but it must be since there are 10 nachos in the array.",
         "hidden": false,
         "locked": false,
         "points": 0.25,
         "success_message": "✅ `number_cheese` is between 0 and 10"
        },
        {
         "code": ">>> number_cheese == 4\nTrue",
         "failure_message": "❌ `number_cheese` is not the correct value. Make sure you are spelling 'cheese' correctly",
         "hidden": false,
         "locked": false,
         "points": 0.5,
         "success_message": "✅ `number_cheese` is the correct value!"
        }
       ],
       "scored": true,
       "setup": "",
       "teardown": "",
       "type": "doctest"
      }
     ]
    },
    "q1_3": {
     "name": "q1_3",
     "points": null,
     "suites": [
      {
       "cases": [
        {
         "code": ">>> type(nacho_reaction('salsa')) == str\nTrue",
         "failure_message": "❌ The `nacho_reaction` function is not returning a string. Are you using print instead of return?",
         "hidden": false,
         "locked": false,
         "points": 0.0,
         "success_message": "✅ The `nacho_reaction` function returns strings"
        },
        {
         "code": ">>> nacho_reaction('salsa')\n'Spicy!'",
         "failure_message": "❌ The `nacho_reaction('salsa')` function is not returning the correct string. Check your spelling!",
         "hidden": false,
         "locked": false,
         "points": 0.25,
         "success_message": "✅ The `nacho_reaction('salsa')` function returns the correct string"
        },
        {
         "code": ">>> nacho_reaction('cheese')\n'Cheesy!'",
         "failure_message": "❌ The `nacho_reaction('cheese')` function is not returning the correct string. Check your spelling!",
         "hidden": false,
         "locked": false,
         "points": 0.25,
         "success_message": "✅ The `nacho_reaction('cheese')` function returns the correct string"
        },
        {
         "code": ">>> nacho_reaction('both')\n'Wow!'",
         "failure_message": "❌ The `nacho_reaction('both')` function is not returning the correct string. Check your spelling!",
         "hidden": false,
         "locked": false,
         "points": 0.25,
         "success_message": "✅ The `nacho_reaction('both')` function returns the correct string"
        },
        {
         "code": ">>> nacho_reaction('neither')\n'Meh.'",
         "failure_message": "❌ The `nacho_reaction('neither')` function is not returning the correct string. Check your spelling!",
         "hidden": false,
         "locked": false,
         "points": 0.25,
         "success_message": "✅ The `nacho_reaction('neither')` function returns the correct string"
        }
       ],
       "scored": true,
       "setup": "",
       "teardown": "",
       "type": "doctest"
      }
     ]
    },
    "q1_4": {
     "name": "q1_4",
     "points": null,
     "suites": [
      {
       "cases": [
        {
         "code": ">>> type(ten_nachos_reactions) == Table\nTrue",
         "failure_message": "❌ `ten_nachos_reactions` is a not a Table. Did you only create the array of reactions?",
         "hidden": false,
         "locked": false,
         "points": 0,
         "success_message": "✅ `ten_nachos_reactions` is a Table object"
        },
        {
         "code": ">>> ten_nachos_reactions.labels == ('Nachos', 'Reactions')\nTrue",
         "failure_message": "❌ The `ten_nachos_reactions` Table does not have the correct column labels, or they are in the incorrect order",
         "hidden": false,
         "locked": false,
         "points": 0.25,
         "success_message": "✅ The `ten_nachos_reactions` Table has the correct column labels"
        },
        {
         "code": ">>> ten_nachos_reactions.num_rows == 10\nTrue",
         "failure_message": "❌ The `ten_nachos_reactions` Table does not have the correct number of rows",
         "hidden": false,
         "locked": false,
         "points": 0.25,
         "success_message": "✅ The `ten_nachos_reactions` Table has the correct number of rows"
        },
        {
         "code": ">>> np.array_equal(ten_nachos_reactions.column('Reactions'), make_array('Meh.', 'Cheesy!', 'Wow!', 'Wow!', 'Cheesy!', 'Spicy!', 'Wow!', 'Meh.', 'Cheesy!', 'Cheesy!'))\nTrue",
         "failure_message": "❌ The `ten_nachos_reactions` Table has one or more incorrect reaction results",
         "hidden": false,
         "locked": false,
         "points": 0.5,
         "success_message": "✅ The `ten_nachos_reactions` Table has the correct correct reaction for each nacho"
        }
       ],
       "scored": true,
       "setup": "",
       "teardown": "",
       "type": "doctest"
      }
     ]
    },
    "q1_5": {
     "name": "q1_5",
     "points": null,
     "suites": [
      {
       "cases": [
        {
         "code": ">>> type(number_wow_reactions) == int or type(number_wow_reactions) == np.int64\nTrue",
         "failure_message": "❌ `number_wow_reactions` is not an integer",
         "hidden": false,
         "locked": false,
         "points": 0.25,
         "success_message": "✅ `number_wow_reactions` is an integer"
        },
        {
         "code": ">>> 0 <= number_wow_reactions <= 10\nTrue",
         "failure_message": "❌ `number_wow_reactions` is not between 0 and 10, but it must be since there are 10 nachos in the array.",
         "hidden": false,
         "locked": false,
         "points": 0.25,
         "success_message": "✅ `number_wow_reactions` is between 0 and 10"
        },
        {
         "code": ">>> number_wow_reactions == 3\nTrue",
         "failure_message": "❌ `number_wow_reactions` is not the correct value",
         "hidden": false,
         "locked": false,
         "points": 0.5,
         "success_message": "✅ `number_wow_reactions` is the correct value"
        }
       ],
       "scored": true,
       "setup": "",
       "teardown": "",
       "type": "doctest"
      }
     ]
    },
    "q2_1": {
     "name": "q2_1",
     "points": null,
     "suites": [
      {
       "cases": [
        {
         "code": ">>> type(longer_than_five) == int\nTrue",
         "failure_message": "❌ `longer_than_five` is not an integer",
         "hidden": false,
         "locked": false,
         "points": 0,
         "success_message": "✅ `longer_than_five` is an integer"
        },
        {
         "code": ">>> longer_than_five != 48032\nTrue",
         "failure_message": "❌ The value of `longer_than_five` suggests that you included words with 5 letters",
         "hidden": false,
         "locked": false,
         "points": 0
        },
        {
         "code": ">>> longer_than_five == 35453\nTrue",
         "failure_message": "❌ `longer_than_five` is an incorrect value",
         "hidden": false,
         "locked": false,
         "points": 1,
         "success_message": "✅ `longer_than_five` is the correct value"
        }
       ],
       "scored": true,
       "setup": "",
       "teardown": "",
       "type": "doctest"
      }
     ]
    },
    "q2_2": {
     "name": "q2_2",
     "points": null,
     "suites": [
      {
       "cases": [
        {
         "code": ">>> type(num_different) == int\nTrue",
         "failure_message": "❌ `num_different` is not an integer",
         "hidden": false,
         "locked": false,
         "points": 0,
         "success_message": "✅ `num_different` is an integer"
        },
        {
         "code": ">>> 8100 <= num_different <= 9100\nTrue",
         "failure_message": "❌ Your value of `num_different` is not within an expected range of values for this book. Make sure you are choosing two words at random, and are checking that they are NOT equal in length.",
         "hidden": false,
         "locked": false,
         "points": 1,
         "success_message": "✅ Your value of `num_different` is in an expected range of values for this book"
        }
       ],
       "scored": true,
       "setup": "",
       "teardown": "",
       "type": "doctest"
      }
     ]
    },
    "q2_3": {
     "name": "q2_3",
     "points": null,
     "suites": [
      {
       "cases": [
        {
         "code": ">>> type(total_score) == int or type(total_score) == np.int64\nTrue",
         "failure_message": "❌ `total_score` is not an integer",
         "hidden": false,
         "locked": false,
         "points": 0,
         "success_message": "✅ `total_score` is an integer"
        },
        {
         "code": ">>> 5000 <= total_score <= 6000\nTrue",
         "failure_message": "❌ Your value of `total_score` is not within an expected range of values for this game. Are you totaling up the score from all of the throws?",
         "hidden": false,
         "locked": false,
         "points": 1,
         "success_message": "✅ Your value of `total_score` is in an expected range of values for this game"
        }
       ],
       "scored": true,
       "setup": "",
       "teardown": "",
       "type": "doctest"
      }
     ]
    },
    "q3_1": {
     "name": "q3_1",
     "points": null,
     "suites": [
      {
       "cases": [
        {
         "code": ">>> type(full_data) == Table\nTrue",
         "failure_message": "❌ `full_data` is a not a Table. Check that you used `.join()` properly",
         "hidden": false,
         "locked": false,
         "points": 0,
         "success_message": "✅ `full_data` is a Table object"
        },
        {
         "code": ">>> full_data.num_rows\n536",
         "failure_message": "❌ `full_data` has an incorrect number of rows",
         "hidden": false,
         "locked": false,
         "points": 0.25,
         "success_message": "✅ `full_data` has the correct number of rows"
        },
        {
         "code": ">>> full_data.num_columns\n17",
         "failure_message": "❌ `full_data` has an incorrect number of columns",
         "hidden": false,
         "locked": false,
         "points": 0.25,
         "success_message": "✅ `full_data` has the correct number of columns"
        },
        {
         "code": ">>> 'Salary' in full_data.labels and 'Age' in full_data.labels and ('Player' in full_data.labels)\nTrue",
         "failure_message": "❌ `full_data` is missing one of 'Salary', 'Age', or 'Player' in the column labels",
         "hidden": false,
         "locked": false,
         "points": 0.5,
         "success_message": "✅ `full_data` has the correct column labels"
        }
       ],
       "scored": true,
       "setup": "",
       "teardown": "",
       "type": "doctest"
      }
     ]
    },
    "q3_2": {
     "name": "q3_2",
     "points": null,
     "suites": [
      {
       "cases": [
        {
         "code": ">>> type(compute_statistics(full_data)) == np.ndarray\nTrue",
         "failure_message": "❌ `compute_statistics` does not return an array. Did you return a value from the function? Did you use `make_array`?",
         "hidden": false,
         "locked": false,
         "points": 0.25,
         "success_message": "✅ `compute_statistics` returns an array"
        },
        {
         "code": ">>> np.allclose(compute_statistics(full_data), (25.70335821, 8237518.87686567))\nTrue",
         "failure_message": "❌ `compute_statistics` does not return the correct averages for the popluation. Are they in the correct order (age, salary)?",
         "hidden": false,
         "locked": false,
         "points": 0.75,
         "success_message": "✅ `compute_statistics` returns the correct averages for the population"
        }
       ],
       "scored": true,
       "setup": "",
       "teardown": "",
       "type": "doctest"
      }
     ]
    },
    "q3_3": {
     "name": "q3_3",
     "points": null,
     "suites": [
      {
       "cases": [
        {
         "code": ">>> convenience_sample.num_rows\n85",
         "failure_message": "❌ `convenience_sample` does not have the correct number of rows. Check to make sure you did not include 22 year olds in the sample.",
         "hidden": false,
         "locked": false,
         "points": 0,
         "success_message": "✅ `convenience_sample` has the correct number of rows"
        },
        {
         "code": ">>> np.array_equal(convenience_sample.sort('Age').column('Age'), np.array([19, 19, 19, 19, 19, 19, 19, 19, 19, 19, 19, 19, 19, 19, 20, 20, 20, 20, 20, 20, 20, 20, 20, 20, 20, 20, 20, 20, 20, 20, 20, 20, 20, 20, 20, 20, 20, 20, 20, 20, 20, 20, 20, 20, 21, 21, 21, 21, 21, 21, 21, 21, 21, 21, 21, 21, 21, 21, 21, 21, 21, 21, 21, 21, 21, 21, 21, 21, 21, 21, 21, 21, 21, 21, 21, 21, 21, 21, 21, 21, 21, 21, 21, 21, 21]))\nTrue",
         "failure_message": "❌ `convenience_sample` does not contain the correct player ages.",
         "hidden": false,
         "locked": false,
         "points": 0.5,
         "success_message": "✅ `convenience_sample` contains the correct player ages."
        },
        {
         "code": ">>> np.array_equal(convenience_sample.sort('Salary').column('Salary'), np.array([106288, 193027, 239822, 503041, 508891, 508891, 508891, 508891, 508891, 508891, 520589, 853241, 1017781, 1017781, 1017781, 1017781, 1017781, 1200000, 1461055, 1505966, 1563518, 1563518, 1563518, 1563518, 1575000, 1882621, 2000000, 2000000, 2109480, 2125200, 2138160, 2193960, 2210040, 2226000, 2239920, 2306520, 2372160, 2385480, 2408891, 2471160, 2573760, 2588640, 2681040, 2696400, 2792640, 2808600, 2898243, 2925600, 3046200, 3047640, 3191400, 3261480, 3359160, 3375360, 3433320, 3536160, 3722040, 3740160, 4004280, 4124280, 4144320, 4341480, 4569840, 4591680, 4810320, 5063520, 5258280, 5508600, 5739840, 5837760, 6012960, 6287400, 6586800, 6922320, 7252200, 7644600, 7775400, 8478720, 8623920, 8882640, 9441840, 9603360, 10552800, 10733400, 11055120]))\nTrue",
         "failure_message": "❌ `convenience_sample` does not contain the correct player salaries.",
         "hidden": false,
         "locked": false,
         "points": 0.5,
         "success_message": "✅ `convenience_sample` contains the correct player salaries."
        }
       ],
       "scored": true,
       "setup": "",
       "teardown": "",
       "type": "doctest"
      }
     ]
    },
    "q3_4": {
     "name": "q3_4",
     "points": null,
     "suites": [
      {
       "cases": [
        {
         "code": ">>> np.allclose(convenience_stats, (20.31764706, 3472346.67058824))\nTrue",
         "failure_message": "❌ `convenience_stats` does not contain the correct averages. Confirm that you are passing the test for the previous question",
         "hidden": false,
         "locked": false,
         "points": 1,
         "success_message": "✅ `convenience_stats` contains the correct averages"
        }
       ],
       "scored": true,
       "setup": "",
       "teardown": "",
       "type": "doctest"
      }
     ]
    }
   }
  }
 },
 "nbformat": 4,
 "nbformat_minor": 4
}
