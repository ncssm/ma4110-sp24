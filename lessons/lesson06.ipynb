{
 "cells": [
  {
   "cell_type": "code",
   "execution_count": 1,
   "metadata": {},
   "outputs": [],
   "source": [
    "from datascience import *\n",
    "import numpy as np\n",
    "\n",
    "%matplotlib inline\n",
    "import matplotlib.pyplot as plots\n",
    "plots.style.use('fivethirtyeight')"
   ]
  },
  {
   "cell_type": "markdown",
   "metadata": {},
   "source": [
    "## Lesson 06: Census Data"
   ]
  },
  {
   "cell_type": "markdown",
   "metadata": {},
   "source": [
    "## Census ##"
   ]
  },
  {
   "cell_type": "code",
   "execution_count": 2,
   "metadata": {},
   "outputs": [
    {
     "data": {
      "text/html": [
       "<table border=\"1\" class=\"dataframe\">\n",
       "    <thead>\n",
       "        <tr>\n",
       "            <th>SEX</th> <th>AGE</th> <th>CENSUS2010POP</th> <th>ESTIMATESBASE2010</th> <th>POPESTIMATE2010</th> <th>POPESTIMATE2011</th> <th>POPESTIMATE2012</th> <th>POPESTIMATE2013</th> <th>POPESTIMATE2014</th> <th>POPESTIMATE2015</th> <th>POPESTIMATE2016</th> <th>POPESTIMATE2017</th>\n",
       "        </tr>\n",
       "    </thead>\n",
       "    <tbody>\n",
       "        <tr>\n",
       "            <td>0   </td> <td>0   </td> <td>3944153      </td> <td>3944160          </td> <td>3951454        </td> <td>3962971        </td> <td>3926486        </td> <td>3931208        </td> <td>3954725        </td> <td>3984294        </td> <td>3955377        </td> <td>3939295        </td>\n",
       "        </tr>\n",
       "        <tr>\n",
       "            <td>0   </td> <td>1   </td> <td>3978070      </td> <td>3978090          </td> <td>3957695        </td> <td>3966056        </td> <td>3977264        </td> <td>3942441        </td> <td>3948689        </td> <td>3973189        </td> <td>4004017        </td> <td>3975252        </td>\n",
       "        </tr>\n",
       "        <tr>\n",
       "            <td>0   </td> <td>2   </td> <td>4096929      </td> <td>4096939          </td> <td>4090616        </td> <td>3970491        </td> <td>3978648        </td> <td>3991295        </td> <td>3958296        </td> <td>3965536        </td> <td>3990991        </td> <td>4021775        </td>\n",
       "        </tr>\n",
       "        <tr>\n",
       "            <td>0   </td> <td>3   </td> <td>4119040      </td> <td>4119051          </td> <td>4111682        </td> <td>4101643        </td> <td>3981321        </td> <td>3990699        </td> <td>4005424        </td> <td>3973376        </td> <td>3981326        </td> <td>4006755        </td>\n",
       "        </tr>\n",
       "        <tr>\n",
       "            <td>0   </td> <td>4   </td> <td>4063170      </td> <td>4063186          </td> <td>4077326        </td> <td>4121485        </td> <td>4111444        </td> <td>3992298        </td> <td>4003684        </td> <td>4019335        </td> <td>3987866        </td> <td>3995783        </td>\n",
       "        </tr>\n",
       "        <tr>\n",
       "            <td>0   </td> <td>5   </td> <td>4056858      </td> <td>4056872          </td> <td>4064480        </td> <td>4087056        </td> <td>4131048        </td> <td>4121794        </td> <td>4004373        </td> <td>4016658        </td> <td>4032787        </td> <td>4001318        </td>\n",
       "        </tr>\n",
       "        <tr>\n",
       "            <td>0   </td> <td>6   </td> <td>4066381      </td> <td>4066412          </td> <td>4072889        </td> <td>4074516        </td> <td>4096654        </td> <td>4141144        </td> <td>4133300        </td> <td>4016732        </td> <td>4029444        </td> <td>4045532        </td>\n",
       "        </tr>\n",
       "        <tr>\n",
       "            <td>0   </td> <td>7   </td> <td>4030579      </td> <td>4030594          </td> <td>4042967        </td> <td>4082870        </td> <td>4084201        </td> <td>4106863        </td> <td>4152751        </td> <td>4145829        </td> <td>4029700        </td> <td>4042379        </td>\n",
       "        </tr>\n",
       "        <tr>\n",
       "            <td>0   </td> <td>8   </td> <td>4046486      </td> <td>4046497          </td> <td>4025495        </td> <td>4052889        </td> <td>4092669        </td> <td>4094674        </td> <td>4118570        </td> <td>4165408        </td> <td>4158968        </td> <td>4042838        </td>\n",
       "        </tr>\n",
       "        <tr>\n",
       "            <td>0   </td> <td>9   </td> <td>4148353      </td> <td>4148369          </td> <td>4125317        </td> <td>4035461        </td> <td>4062842        </td> <td>4103296        </td> <td>4106389        </td> <td>4131317        </td> <td>4178605        </td> <td>4172171        </td>\n",
       "        </tr>\n",
       "    </tbody>\n",
       "</table>\n",
       "<p>... (296 rows omitted)</p>"
      ],
      "text/plain": [
       "SEX  | AGE  | CENSUS2010POP | ESTIMATESBASE2010 | POPESTIMATE2010 | POPESTIMATE2011 | POPESTIMATE2012 | POPESTIMATE2013 | POPESTIMATE2014 | POPESTIMATE2015 | POPESTIMATE2016 | POPESTIMATE2017\n",
       "0    | 0    | 3944153       | 3944160           | 3951454         | 3962971         | 3926486         | 3931208         | 3954725         | 3984294         | 3955377         | 3939295\n",
       "0    | 1    | 3978070       | 3978090           | 3957695         | 3966056         | 3977264         | 3942441         | 3948689         | 3973189         | 4004017         | 3975252\n",
       "0    | 2    | 4096929       | 4096939           | 4090616         | 3970491         | 3978648         | 3991295         | 3958296         | 3965536         | 3990991         | 4021775\n",
       "0    | 3    | 4119040       | 4119051           | 4111682         | 4101643         | 3981321         | 3990699         | 4005424         | 3973376         | 3981326         | 4006755\n",
       "0    | 4    | 4063170       | 4063186           | 4077326         | 4121485         | 4111444         | 3992298         | 4003684         | 4019335         | 3987866         | 3995783\n",
       "0    | 5    | 4056858       | 4056872           | 4064480         | 4087056         | 4131048         | 4121794         | 4004373         | 4016658         | 4032787         | 4001318\n",
       "0    | 6    | 4066381       | 4066412           | 4072889         | 4074516         | 4096654         | 4141144         | 4133300         | 4016732         | 4029444         | 4045532\n",
       "0    | 7    | 4030579       | 4030594           | 4042967         | 4082870         | 4084201         | 4106863         | 4152751         | 4145829         | 4029700         | 4042379\n",
       "0    | 8    | 4046486       | 4046497           | 4025495         | 4052889         | 4092669         | 4094674         | 4118570         | 4165408         | 4158968         | 4042838\n",
       "0    | 9    | 4148353       | 4148369           | 4125317         | 4035461         | 4062842         | 4103296         | 4106389         | 4131317         | 4178605         | 4172171\n",
       "... (296 rows omitted)"
      ]
     },
     "execution_count": 2,
     "metadata": {},
     "output_type": "execute_result"
    }
   ],
   "source": [
    "full = Table.read_table('data/nc-est2017-agesex-res.csv')\n",
    "full"
   ]
  },
  {
   "cell_type": "code",
   "execution_count": 3,
   "metadata": {},
   "outputs": [
    {
     "data": {
      "text/html": [
       "<table border=\"1\" class=\"dataframe\">\n",
       "    <thead>\n",
       "        <tr>\n",
       "            <th>SEX</th> <th>AGE</th> <th>CENSUS2010POP</th> <th>POPESTIMATE2017</th>\n",
       "        </tr>\n",
       "    </thead>\n",
       "    <tbody>\n",
       "        <tr>\n",
       "            <td>0   </td> <td>0   </td> <td>3944153      </td> <td>3939295        </td>\n",
       "        </tr>\n",
       "        <tr>\n",
       "            <td>0   </td> <td>1   </td> <td>3978070      </td> <td>3975252        </td>\n",
       "        </tr>\n",
       "        <tr>\n",
       "            <td>0   </td> <td>2   </td> <td>4096929      </td> <td>4021775        </td>\n",
       "        </tr>\n",
       "        <tr>\n",
       "            <td>0   </td> <td>3   </td> <td>4119040      </td> <td>4006755        </td>\n",
       "        </tr>\n",
       "    </tbody>\n",
       "</table>\n",
       "<p>... (302 rows omitted)</p>"
      ],
      "text/plain": [
       "<IPython.core.display.HTML object>"
      ]
     },
     "metadata": {},
     "output_type": "display_data"
    }
   ],
   "source": [
    "partial = full.select('SEX', 'AGE', 'CENSUS2010POP', 'POPESTIMATE2017')\n",
    "partial.show(4)"
   ]
  },
  {
   "cell_type": "code",
   "execution_count": 4,
   "metadata": {},
   "outputs": [
    {
     "data": {
      "text/html": [
       "<table border=\"1\" class=\"dataframe\">\n",
       "    <thead>\n",
       "        <tr>\n",
       "            <th>SEX</th> <th>AGE</th> <th>2010</th> <th>2017</th>\n",
       "        </tr>\n",
       "    </thead>\n",
       "    <tbody>\n",
       "        <tr>\n",
       "            <td>0   </td> <td>0   </td> <td>3944153</td> <td>3939295</td>\n",
       "        </tr>\n",
       "        <tr>\n",
       "            <td>0   </td> <td>1   </td> <td>3978070</td> <td>3975252</td>\n",
       "        </tr>\n",
       "        <tr>\n",
       "            <td>0   </td> <td>2   </td> <td>4096929</td> <td>4021775</td>\n",
       "        </tr>\n",
       "        <tr>\n",
       "            <td>0   </td> <td>3   </td> <td>4119040</td> <td>4006755</td>\n",
       "        </tr>\n",
       "    </tbody>\n",
       "</table>\n",
       "<p>... (302 rows omitted)</p>"
      ],
      "text/plain": [
       "<IPython.core.display.HTML object>"
      ]
     },
     "metadata": {},
     "output_type": "display_data"
    }
   ],
   "source": [
    "simple = partial.relabeled(2, '2010').relabeled(3, '2017')\n",
    "simple.show(4)"
   ]
  },
  {
   "cell_type": "code",
   "execution_count": 5,
   "metadata": {},
   "outputs": [
    {
     "data": {
      "text/html": [
       "<table border=\"1\" class=\"dataframe\">\n",
       "    <thead>\n",
       "        <tr>\n",
       "            <th>SEX</th> <th>AGE</th> <th>2010</th> <th>2017</th>\n",
       "        </tr>\n",
       "    </thead>\n",
       "    <tbody>\n",
       "        <tr>\n",
       "            <td>0   </td> <td>0   </td> <td>3944153</td> <td>3939295</td>\n",
       "        </tr>\n",
       "        <tr>\n",
       "            <td>1   </td> <td>0   </td> <td>2014276</td> <td>2015150</td>\n",
       "        </tr>\n",
       "        <tr>\n",
       "            <td>2   </td> <td>0   </td> <td>1929877</td> <td>1924145</td>\n",
       "        </tr>\n",
       "        <tr>\n",
       "            <td>0   </td> <td>1   </td> <td>3978070</td> <td>3975252</td>\n",
       "        </tr>\n",
       "        <tr>\n",
       "            <td>1   </td> <td>1   </td> <td>2030853</td> <td>2031718</td>\n",
       "        </tr>\n",
       "        <tr>\n",
       "            <td>2   </td> <td>1   </td> <td>1947217</td> <td>1943534</td>\n",
       "        </tr>\n",
       "        <tr>\n",
       "            <td>0   </td> <td>2   </td> <td>4096929</td> <td>4021775</td>\n",
       "        </tr>\n",
       "        <tr>\n",
       "            <td>1   </td> <td>2   </td> <td>2092198</td> <td>2056625</td>\n",
       "        </tr>\n",
       "        <tr>\n",
       "            <td>2   </td> <td>2   </td> <td>2004731</td> <td>1965150</td>\n",
       "        </tr>\n",
       "        <tr>\n",
       "            <td>0   </td> <td>3   </td> <td>4119040</td> <td>4006755</td>\n",
       "        </tr>\n",
       "    </tbody>\n",
       "</table>\n",
       "<p>... (296 rows omitted)</p>"
      ],
      "text/plain": [
       "SEX  | AGE  | 2010    | 2017\n",
       "0    | 0    | 3944153 | 3939295\n",
       "1    | 0    | 2014276 | 2015150\n",
       "2    | 0    | 1929877 | 1924145\n",
       "0    | 1    | 3978070 | 3975252\n",
       "1    | 1    | 2030853 | 2031718\n",
       "2    | 1    | 1947217 | 1943534\n",
       "0    | 2    | 4096929 | 4021775\n",
       "1    | 2    | 2092198 | 2056625\n",
       "2    | 2    | 2004731 | 1965150\n",
       "0    | 3    | 4119040 | 4006755\n",
       "... (296 rows omitted)"
      ]
     },
     "execution_count": 5,
     "metadata": {},
     "output_type": "execute_result"
    }
   ],
   "source": [
    "simple.sort('AGE')"
   ]
  },
  {
   "cell_type": "code",
   "execution_count": 6,
   "metadata": {},
   "outputs": [
    {
     "data": {
      "text/html": [
       "<table border=\"1\" class=\"dataframe\">\n",
       "    <thead>\n",
       "        <tr>\n",
       "            <th>SEX</th> <th>AGE</th> <th>2010</th> <th>2017</th>\n",
       "        </tr>\n",
       "    </thead>\n",
       "    <tbody>\n",
       "        <tr>\n",
       "            <td>0   </td> <td>999 </td> <td>308745538</td> <td>325719178</td>\n",
       "        </tr>\n",
       "        <tr>\n",
       "            <td>1   </td> <td>999 </td> <td>151781326</td> <td>160408119</td>\n",
       "        </tr>\n",
       "        <tr>\n",
       "            <td>2   </td> <td>999 </td> <td>156964212</td> <td>165311059</td>\n",
       "        </tr>\n",
       "        <tr>\n",
       "            <td>0   </td> <td>100 </td> <td>53364    </td> <td>86248    </td>\n",
       "        </tr>\n",
       "        <tr>\n",
       "            <td>1   </td> <td>100 </td> <td>9162     </td> <td>17894    </td>\n",
       "        </tr>\n",
       "        <tr>\n",
       "            <td>2   </td> <td>100 </td> <td>44202    </td> <td>68354    </td>\n",
       "        </tr>\n",
       "        <tr>\n",
       "            <td>0   </td> <td>99  </td> <td>32266    </td> <td>50465    </td>\n",
       "        </tr>\n",
       "        <tr>\n",
       "            <td>1   </td> <td>99  </td> <td>6073     </td> <td>11894    </td>\n",
       "        </tr>\n",
       "        <tr>\n",
       "            <td>2   </td> <td>99  </td> <td>26193    </td> <td>38571    </td>\n",
       "        </tr>\n",
       "        <tr>\n",
       "            <td>0   </td> <td>98  </td> <td>45900    </td> <td>71123    </td>\n",
       "        </tr>\n",
       "    </tbody>\n",
       "</table>\n",
       "<p>... (296 rows omitted)</p>"
      ],
      "text/plain": [
       "SEX  | AGE  | 2010      | 2017\n",
       "0    | 999  | 308745538 | 325719178\n",
       "1    | 999  | 151781326 | 160408119\n",
       "2    | 999  | 156964212 | 165311059\n",
       "0    | 100  | 53364     | 86248\n",
       "1    | 100  | 9162      | 17894\n",
       "2    | 100  | 44202     | 68354\n",
       "0    | 99   | 32266     | 50465\n",
       "1    | 99   | 6073      | 11894\n",
       "2    | 99   | 26193     | 38571\n",
       "0    | 98   | 45900     | 71123\n",
       "... (296 rows omitted)"
      ]
     },
     "execution_count": 6,
     "metadata": {},
     "output_type": "execute_result"
    }
   ],
   "source": [
    "simple.sort('AGE', descending=True)"
   ]
  },
  {
   "cell_type": "markdown",
   "metadata": {},
   "source": [
    "## Visualization ##"
   ]
  },
  {
   "cell_type": "code",
   "execution_count": 7,
   "metadata": {},
   "outputs": [],
   "source": [
    "no_999 = simple.where('AGE', are.below(999))\n",
    "everyone = no_999.where('SEX', 0).drop('SEX')"
   ]
  },
  {
   "cell_type": "code",
   "execution_count": 8,
   "metadata": {},
   "outputs": [
    {
     "data": {
      "text/html": [
       "<table border=\"1\" class=\"dataframe\">\n",
       "    <thead>\n",
       "        <tr>\n",
       "            <th>AGE</th> <th>2010</th> <th>2017</th>\n",
       "        </tr>\n",
       "    </thead>\n",
       "    <tbody>\n",
       "        <tr>\n",
       "            <td>0   </td> <td>3944153</td> <td>3939295</td>\n",
       "        </tr>\n",
       "        <tr>\n",
       "            <td>1   </td> <td>3978070</td> <td>3975252</td>\n",
       "        </tr>\n",
       "        <tr>\n",
       "            <td>2   </td> <td>4096929</td> <td>4021775</td>\n",
       "        </tr>\n",
       "        <tr>\n",
       "            <td>3   </td> <td>4119040</td> <td>4006755</td>\n",
       "        </tr>\n",
       "        <tr>\n",
       "            <td>4   </td> <td>4063170</td> <td>3995783</td>\n",
       "        </tr>\n",
       "        <tr>\n",
       "            <td>5   </td> <td>4056858</td> <td>4001318</td>\n",
       "        </tr>\n",
       "        <tr>\n",
       "            <td>6   </td> <td>4066381</td> <td>4045532</td>\n",
       "        </tr>\n",
       "        <tr>\n",
       "            <td>7   </td> <td>4030579</td> <td>4042379</td>\n",
       "        </tr>\n",
       "        <tr>\n",
       "            <td>8   </td> <td>4046486</td> <td>4042838</td>\n",
       "        </tr>\n",
       "        <tr>\n",
       "            <td>9   </td> <td>4148353</td> <td>4172171</td>\n",
       "        </tr>\n",
       "    </tbody>\n",
       "</table>\n",
       "<p>... (91 rows omitted)</p>"
      ],
      "text/plain": [
       "AGE  | 2010    | 2017\n",
       "0    | 3944153 | 3939295\n",
       "1    | 3978070 | 3975252\n",
       "2    | 4096929 | 4021775\n",
       "3    | 4119040 | 4006755\n",
       "4    | 4063170 | 3995783\n",
       "5    | 4056858 | 4001318\n",
       "6    | 4066381 | 4045532\n",
       "7    | 4030579 | 4042379\n",
       "8    | 4046486 | 4042838\n",
       "9    | 4148353 | 4172171\n",
       "... (91 rows omitted)"
      ]
     },
     "execution_count": 8,
     "metadata": {},
     "output_type": "execute_result"
    }
   ],
   "source": [
    "everyone"
   ]
  },
  {
   "cell_type": "code",
   "execution_count": 11,
   "metadata": {},
   "outputs": [
    {
     "data": {
      "image/png": "[encoded data removed]",
      "text/plain": [
       "<Figure size 432x432 with 1 Axes>"
      ]
     },
     "metadata": {},
     "output_type": "display_data"
    }
   ],
   "source": [
    "everyone.plot('AGE', '2010')"
   ]
  },
  {
   "cell_type": "code",
   "execution_count": 13,
   "metadata": {},
   "outputs": [
    {
     "data": {
      "image/png": "[encoded data removed]",
      "text/plain": [
       "<Figure size 432x432 with 1 Axes>"
      ]
     },
     "metadata": {},
     "output_type": "display_data"
    }
   ],
   "source": [
    "everyone.plot('AGE')"
   ]
  }
 ],
 "metadata": {
  "anaconda-cloud": {},
  "kernelspec": {
   "display_name": "Python 3",
   "language": "python",
   "name": "python3"
  },
  "language_info": {
   "codemirror_mode": {
    "name": "ipython",
    "version": 3
   },
   "file_extension": ".py",
   "mimetype": "text/x-python",
   "name": "python",
   "nbconvert_exporter": "python",
   "pygments_lexer": "ipython3",
   "version": "3.8.6"
  }
 },
 "nbformat": 4,
 "nbformat_minor": 4
}
