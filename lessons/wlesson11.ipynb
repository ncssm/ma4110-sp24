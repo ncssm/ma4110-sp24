{
 "cells": [
  {
   "cell_type": "code",
   "execution_count": null,
   "metadata": {},
   "outputs": [],
   "source": [
    "from datascience import *\n",
    "import numpy as np\n",
    "\n",
    "%matplotlib inline\n",
    "import matplotlib.pyplot as plots\n",
    "plots.style.use('fivethirtyeight')"
   ]
  },
  {
   "cell_type": "markdown",
   "metadata": {},
   "source": [
    "# Lesson 11: Pivots and Joins #"
   ]
  },
  {
   "cell_type": "markdown",
   "metadata": {},
   "source": [
    "## Cross-classification: grouping by two columns"
   ]
  },
  {
   "cell_type": "code",
   "execution_count": null,
   "metadata": {},
   "outputs": [],
   "source": [
    "sky = Table.read_table('data/skyscrapers_v2.csv')\n",
    "##show age of skyscraper instead of completion date\n",
    "##sky = (sky.with_column('age', 2022 - sky.column('completed'))\n",
    "##          .drop('completed'))\n",
    "sky.show(3)"
   ]
  },
  {
   "cell_type": "code",
   "execution_count": null,
   "metadata": {},
   "outputs": [],
   "source": [
    "## group by material and city and count how many there are of each combination\n"
   ]
  },
  {
   "cell_type": "code",
   "execution_count": null,
   "metadata": {},
   "outputs": [],
   "source": [
    "## instead of counting by combo, average the values of their attributes\n"
   ]
  },
  {
   "cell_type": "code",
   "execution_count": null,
   "metadata": {},
   "outputs": [],
   "source": [
    "## put the matching city information first instead\n"
   ]
  },
  {
   "cell_type": "code",
   "execution_count": null,
   "metadata": {},
   "outputs": [],
   "source": [
    "## build pivot table instead with columns of material and rows of city and count number of each\n"
   ]
  },
  {
   "cell_type": "code",
   "execution_count": null,
   "metadata": {},
   "outputs": [],
   "source": [
    "# pivot the other way with city columns and material rows\n"
   ]
  },
  {
   "cell_type": "code",
   "execution_count": null,
   "metadata": {},
   "outputs": [],
   "source": [
    "# instead of counting the number of each skyscraper with each combination, show the average height\n"
   ]
  },
  {
   "cell_type": "code",
   "execution_count": null,
   "metadata": {},
   "outputs": [],
   "source": [
    "## get the tallest of each combination instead of average\n",
    "sky_p = ..."
   ]
  },
  {
   "cell_type": "code",
   "execution_count": null,
   "metadata": {},
   "outputs": [],
   "source": [
    "## calculate the difference of largest steel vs largest concrete in each city\n",
    "sky_p = sky_p.with_column(\n",
    "    'difference', \n",
    "    abs(sky_p.column('steel') - sky_p.column('concrete'))\n",
    ")\n",
    "sky_p"
   ]
  },
  {
   "cell_type": "code",
   "execution_count": null,
   "metadata": {},
   "outputs": [],
   "source": [
    "## sort by difference\n",
    "sky_p.sort('difference', True)"
   ]
  },
  {
   "cell_type": "markdown",
   "metadata": {},
   "source": [
    "## Joins ##"
   ]
  },
  {
   "cell_type": "code",
   "execution_count": null,
   "metadata": {},
   "outputs": [],
   "source": [
    "drinks = Table().with_columns('Drinks', make_array(), 'Cafe', make_array(), 'Price', make_array())\n",
    "drinks = drinks.with_rows([\n",
    "    ['Chai Tea', 'Joe van Gogh', 4],\n",
    "    ['Espresso', 'Monuts',  2],\n",
    "    ['Latte',    'Monuts',  3],\n",
    "    ['Espresso', \"Cloche\",   2]\n",
    "])\n",
    "drinks"
   ]
  },
  {
   "cell_type": "code",
   "execution_count": null,
   "metadata": {},
   "outputs": [],
   "source": [
    "discounts = Table().with_columns(\n",
    "    'Coupon', make_array(10, 20, 5),\n",
    "    'Location', make_array('Joe van Gogh', 'Monuts', 'Joe van Gogh')\n",
    ")\n",
    "discounts"
   ]
  },
  {
   "cell_type": "code",
   "execution_count": null,
   "metadata": {},
   "outputs": [],
   "source": [
    "## join with with the names of the Cafe with the Locations in the drinks and discounts tables\n",
    "combined = ...\n",
    "combined"
   ]
  },
  {
   "cell_type": "code",
   "execution_count": null,
   "metadata": {},
   "outputs": [],
   "source": [
    "## calculate the new price as the old price - old price * discount\n",
    "discounted_frac = ...\n",
    "## add the new price to the combined table\n",
    "combined.with_column(\n",
    "    'Discounted Price', \n",
    "    combined.column('Price') * discounted_frac\n",
    ")"
   ]
  },
  {
   "cell_type": "code",
   "execution_count": null,
   "metadata": {},
   "outputs": [],
   "source": [
    "## what happens if we join a table with itself?\n",
    "drinks.join('Cafe', drinks, 'Cafe')"
   ]
  },
  {
   "cell_type": "code",
   "execution_count": null,
   "metadata": {},
   "outputs": [],
   "source": []
  }
 ],
 "metadata": {
  "kernelspec": {
   "display_name": "Python 3 (ipykernel)",
   "language": "python",
   "name": "python3"
  },
  "language_info": {
   "codemirror_mode": {
    "name": "ipython",
    "version": 3
   },
   "file_extension": ".py",
   "mimetype": "text/x-python",
   "name": "python",
   "nbconvert_exporter": "python",
   "pygments_lexer": "ipython3",
   "version": "3.11.4"
  }
 },
 "nbformat": 4,
 "nbformat_minor": 4
}
