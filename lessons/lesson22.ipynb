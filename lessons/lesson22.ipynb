{
 "cells": [
  {
   "cell_type": "code",
   "execution_count": null,
   "metadata": {},
   "outputs": [],
   "source": [
    "from datascience import *\n",
    "import numpy as np\n",
    "\n",
    "%matplotlib inline\n",
    "import matplotlib.pyplot as plots\n",
    "plots.style.use('fivethirtyeight')"
   ]
  },
  {
   "cell_type": "markdown",
   "metadata": {},
   "source": [
    "## Example: Benford's Law"
   ]
  },
  {
   "cell_type": "code",
   "execution_count": null,
   "metadata": {},
   "outputs": [],
   "source": [
    "digits = np.arange(1, 10)\n",
    "benford_model = np.log10(1 + 1/digits)"
   ]
  },
  {
   "cell_type": "code",
   "execution_count": null,
   "metadata": {},
   "outputs": [],
   "source": [
    "benford = Table().with_columns(\n",
    "    'First digit', digits,\n",
    "    'Benford model prob', benford_model)\n",
    "benford.barh('First digit')"
   ]
  },
  {
   "cell_type": "code",
   "execution_count": null,
   "metadata": {},
   "outputs": [],
   "source": [
    "# You don't have to understand how this function works, since it uses Python features from beyond Data 8.\n",
    "def first_digit(num):\n",
    "    return int(str(num)[0])"
   ]
  },
  {
   "cell_type": "code",
   "execution_count": null,
   "metadata": {},
   "outputs": [],
   "source": [
    "first_digit(32)"
   ]
  },
  {
   "cell_type": "code",
   "execution_count": null,
   "metadata": {
    "scrolled": true
   },
   "outputs": [],
   "source": [
    "first_digit(17719087)"
   ]
  },
  {
   "cell_type": "code",
   "execution_count": null,
   "metadata": {},
   "outputs": [],
   "source": [
    "# County populations from the census data\n",
    "counties = Table.read_table('counties.csv')\n",
    "counties = counties.where('SUMLEV', 50).select(5,6,9).relabeled(0,'State').relabeled(1,'County').relabeled(2,'Population')\n",
    "counties.show(3)"
   ]
  },
  {
   "cell_type": "code",
   "execution_count": null,
   "metadata": {},
   "outputs": [],
   "source": [
    "first_digits = counties.apply(first_digit, 'Population')\n",
    "counties = counties.with_column('First digit', first_digits)\n",
    "counties.show(3)"
   ]
  },
  {
   "cell_type": "code",
   "execution_count": null,
   "metadata": {},
   "outputs": [],
   "source": [
    "num_counties = counties.num_rows"
   ]
  },
  {
   "cell_type": "code",
   "execution_count": null,
   "metadata": {},
   "outputs": [],
   "source": [
    "by_digit = counties.group('First digit')\n",
    "proportions = by_digit.column('count')/num_counties\n",
    "by_digit = by_digit.with_columns(\n",
    "    'Proportion', proportions,\n",
    "    'Benford proportion', benford_model\n",
    ")\n",
    "by_digit.drop('count').barh('First digit')"
   ]
  },
  {
   "cell_type": "markdown",
   "metadata": {},
   "source": [
    "Null hypothesis: "
   ]
  },
  {
   "cell_type": "markdown",
   "metadata": {},
   "source": [
    "Alternative hypothesis: "
   ]
  },
  {
   "cell_type": "markdown",
   "metadata": {},
   "source": [
    "Test statistic: ___\n",
    "\n",
    "Fill in the blank with \"Bigger\" or \"Smaller\":\n",
    "\n",
    "___ values of the test statistic favor the alternative"
   ]
  },
  {
   "cell_type": "code",
   "execution_count": null,
   "metadata": {},
   "outputs": [],
   "source": [
    "observed_tvd = sum(abs(proportions - benford_model))/2\n",
    "observed_tvd"
   ]
  },
  {
   "cell_type": "code",
   "execution_count": null,
   "metadata": {},
   "outputs": [],
   "source": [
    "sample_proportions(num_counties, benford_model)"
   ]
  },
  {
   "cell_type": "code",
   "execution_count": null,
   "metadata": {},
   "outputs": [],
   "source": [
    "simulated_frequencies = sample_proportions(num_counties, benford_model)\n",
    "tvd = sum(abs(simulated_frequencies - benford_model))/2\n",
    "tvd"
   ]
  },
  {
   "cell_type": "code",
   "execution_count": null,
   "metadata": {},
   "outputs": [],
   "source": [
    "def simulate_county_first_digits():\n",
    "    simulated_frequencies = sample_proportions(num_counties, benford_model)\n",
    "    tvd = sum(abs(simulated_frequencies - benford_model))/2\n",
    "    return tvd"
   ]
  },
  {
   "cell_type": "code",
   "execution_count": null,
   "metadata": {},
   "outputs": [],
   "source": [
    "simulated_tvds = make_array()\n",
    "\n",
    "for i in np.arange(10000):\n",
    "    simulated_tvds = np.append(simulated_tvds, simulate_county_first_digits())"
   ]
  },
  {
   "cell_type": "code",
   "execution_count": null,
   "metadata": {},
   "outputs": [],
   "source": [
    "Table().with_column('Simulated TVD', simulated_tvds).hist(0)"
   ]
  },
  {
   "cell_type": "code",
   "execution_count": null,
   "metadata": {},
   "outputs": [],
   "source": [
    "np.count_nonzero(simulated_tvds >= observed_tvd) / 10000"
   ]
  },
  {
   "cell_type": "markdown",
   "metadata": {},
   "source": [
    "Are the data consistent with the null hypothesis?"
   ]
  },
  {
   "cell_type": "markdown",
   "metadata": {},
   "source": [
    "## Example: sleep survey"
   ]
  },
  {
   "cell_type": "code",
   "execution_count": null,
   "metadata": {},
   "outputs": [],
   "source": [
    "survey = Table.read_table('welcome_survey_v4.csv')\n",
    "survey"
   ]
  },
  {
   "cell_type": "code",
   "execution_count": null,
   "metadata": {},
   "outputs": [],
   "source": [
    "def simplify(sleep_position):\n",
    "    if sleep_position == 'On your left side' or sleep_position == 'On your right side':\n",
    "        return 'side'\n",
    "    else:\n",
    "        return 'back or stomach'\n",
    "    \n",
    "survey = survey.with_column(\n",
    "    'position',\n",
    "    survey.apply(simplify, 'Sleep position')\n",
    ").select('position', 'Hours of sleep')\n",
    "\n",
    "survey"
   ]
  },
  {
   "cell_type": "code",
   "execution_count": null,
   "metadata": {},
   "outputs": [],
   "source": [
    "survey.group('position', np.average)"
   ]
  },
  {
   "cell_type": "markdown",
   "metadata": {},
   "source": [
    "Null hypothesis: "
   ]
  },
  {
   "cell_type": "markdown",
   "metadata": {},
   "source": [
    "Alternative hypothesis: "
   ]
  },
  {
   "cell_type": "markdown",
   "metadata": {},
   "source": [
    "Test statistic: ___\n",
    "\n",
    "Fill in the blank with \"Bigger\" or \"Smaller\":\n",
    "\n",
    "___ values of the test statistic favor the alternative"
   ]
  },
  {
   "cell_type": "code",
   "execution_count": null,
   "metadata": {},
   "outputs": [],
   "source": [
    "def compute_test_statistic(tbl):\n",
    "    grouped = tbl.group('position', np.average)\n",
    "    avgs = grouped.column('Hours of sleep average')\n",
    "    return avgs.item(1) - avgs.item(0)"
   ]
  },
  {
   "cell_type": "code",
   "execution_count": null,
   "metadata": {},
   "outputs": [],
   "source": [
    "obs_test_stat = compute_test_statistic(survey)\n",
    "obs_test_stat"
   ]
  },
  {
   "cell_type": "code",
   "execution_count": null,
   "metadata": {},
   "outputs": [],
   "source": [
    "random_labels = survey.sample(with_replacement=False).column('position')"
   ]
  },
  {
   "cell_type": "code",
   "execution_count": null,
   "metadata": {},
   "outputs": [],
   "source": [
    "def simulate_under_null():\n",
    "    random_labels = survey.sample(with_replacement=False).column('position')\n",
    "    relabeled_tbl = survey.with_column('position', random_labels)\n",
    "    return compute_test_statistic(relabeled_tbl)\n"
   ]
  },
  {
   "cell_type": "code",
   "execution_count": null,
   "metadata": {
    "scrolled": true
   },
   "outputs": [],
   "source": [
    "simulated_diffs = make_array()\n",
    "for i in np.arange(1000):\n",
    "    null_stat = simulate_under_null()\n",
    "    simulated_diffs = np.append(simulated_diffs, null_stat)"
   ]
  },
  {
   "cell_type": "code",
   "execution_count": null,
   "metadata": {},
   "outputs": [],
   "source": [
    "Table().with_column('Simulated difference', simulated_diffs).hist(0)"
   ]
  },
  {
   "cell_type": "code",
   "execution_count": null,
   "metadata": {},
   "outputs": [],
   "source": [
    "obs_test_stat"
   ]
  },
  {
   "cell_type": "code",
   "execution_count": null,
   "metadata": {},
   "outputs": [],
   "source": [
    "np.mean(simulated_diffs <= obs_test_stat)"
   ]
  },
  {
   "cell_type": "markdown",
   "metadata": {},
   "source": [
    "Are the data consistent with the null hypothesis?"
   ]
  }
 ],
 "metadata": {
  "kernelspec": {
   "display_name": "Python 3",
   "language": "python",
   "name": "python3"
  },
  "language_info": {
   "codemirror_mode": {
    "name": "ipython",
    "version": 3
   },
   "file_extension": ".py",
   "mimetype": "text/x-python",
   "name": "python",
   "nbconvert_exporter": "python",
   "pygments_lexer": "ipython3",
   "version": "3.7.1"
  }
 },
 "nbformat": 4,
 "nbformat_minor": 2
}
