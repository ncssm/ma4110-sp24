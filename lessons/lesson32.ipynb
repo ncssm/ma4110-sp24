{
 "cells": [
  {
   "cell_type": "code",
   "execution_count": null,
   "id": "809d8f7f-800b-4421-876b-9f0ef245f0e7",
   "metadata": {},
   "outputs": [],
   "source": [
    "from datascience import *\n",
    "import numpy as np\n",
    "%matplotlib inline\n",
    "import matplotlib.pyplot as plots\n",
    "plots.style.use('fivethirtyeight')"
   ]
  },
  {
   "cell_type": "markdown",
   "id": "3e27f8a0-4494-455a-a4fb-ad44116cdd28",
   "metadata": {},
   "source": [
    "# Lesson 32: Errors and Residuals"
   ]
  },
  {
   "cell_type": "code",
   "execution_count": null,
   "id": "53f96483-8d13-432e-8164-3eb33c4e5c05",
   "metadata": {},
   "outputs": [],
   "source": [
    "def standard_units(arr):\n",
    "    \"\"\" Converts an array to standard units \"\"\"\n",
    "    return (arr - np.average(arr))/np.std(arr)\n",
    "\n",
    "def correlation(t, x, y):\n",
    "    \"\"\" Computes correlation: t is a table, and x and y are column names \"\"\"\n",
    "    x_standard = standard_units(t.column(x))\n",
    "    y_standard = standard_units(t.column(y))\n",
    "    return np.average(x_standard * y_standard)\n",
    "\n",
    "def slope(t, x, y):\n",
    "    \"\"\" Computes the slope of the regression line, like correlation above \"\"\"\n",
    "    r = correlation(t, x, y)\n",
    "    y_sd = np.std(t.column(y))\n",
    "    x_sd = np.std(t.column(x))\n",
    "    return r * y_sd / x_sd\n",
    "\n",
    "def intercept(t, x, y):\n",
    "    \"\"\" Computes the intercept of the regression line, like slope above \"\"\"\n",
    "    x_mean = np.mean(t.column(x))\n",
    "    y_mean = np.mean(t.column(y))\n",
    "    return y_mean - slope(t, x, y)*x_mean"
   ]
  },
  {
   "cell_type": "markdown",
   "id": "364c8212-3431-4bbe-a9b2-e8d892cc4eb1",
   "metadata": {},
   "source": [
    "Write a function `fitted_values` that will return an array of estimates (predictions) for `y` using a least squares regression line."
   ]
  },
  {
   "cell_type": "code",
   "execution_count": null,
   "id": "c76e89b1-d8b6-4788-8fb4-5c9b4ee5409d",
   "metadata": {},
   "outputs": [],
   "source": [
    "def fitted_values(t, x, y):\n",
    "    \"\"\"Return an array of the regression estimates (predictions) at all the x values\"\"\"\n",
    "    a = slope(t, x, y)\n",
    "    b = intercept(t, x, y)\n",
    "    return a*t.column(x) + b"
   ]
  },
  {
   "cell_type": "code",
   "execution_count": null,
   "id": "e0827eef-8d02-498a-8678-6ac5c80da070",
   "metadata": {},
   "outputs": [],
   "source": [
    "demographics = Table.read_table('data/district_demographics2016.csv')\n",
    "demographics = demographics.drop(\n",
    "    'State', 'District', 'Percent voting for Clinton')\n",
    "demographics.show(5)"
   ]
  },
  {
   "cell_type": "code",
   "execution_count": null,
   "id": "a785d067-590d-48e7-8fb8-3a6cf072d726",
   "metadata": {},
   "outputs": [],
   "source": [
    "demographics.scatter('College%', 'Median Income')"
   ]
  },
  {
   "cell_type": "code",
   "execution_count": null,
   "id": "b51eaef7-0254-4089-b3cd-bfee305eb3af",
   "metadata": {},
   "outputs": [],
   "source": [
    "regression_slope = slope(demographics, 'College%', 'Median Income')\n",
    "regression_intercept = intercept(demographics, 'College%', 'Median Income')\n",
    "regression_slope, regression_intercept"
   ]
  },
  {
   "cell_type": "code",
   "execution_count": null,
   "id": "ee04b817-a946-4d7d-b5e5-b88b227cec01",
   "metadata": {},
   "outputs": [],
   "source": [
    "predicted = fitted_values(demographics, 'College%', 'Median Income')"
   ]
  },
  {
   "cell_type": "code",
   "execution_count": null,
   "id": "e3093be9-fd14-437b-a47c-c4768d9c1e88",
   "metadata": {},
   "outputs": [],
   "source": [
    "predicted"
   ]
  },
  {
   "cell_type": "code",
   "execution_count": null,
   "id": "1c0288f3-7e1e-411e-8262-976a42886358",
   "metadata": {},
   "outputs": [],
   "source": [
    "demographics = demographics.with_column(\n",
    "    'Linear Prediction', predicted)\n",
    "demographics.scatter('College%')"
   ]
  },
  {
   "cell_type": "code",
   "execution_count": null,
   "id": "98feb0ca-c8b3-4d02-a2d4-849c8ef581d4",
   "metadata": {},
   "outputs": [],
   "source": [
    "actual = demographics.column('Median Income')\n",
    "errors = actual - predicted"
   ]
  },
  {
   "cell_type": "code",
   "execution_count": null,
   "id": "1e3749fd-eb4d-4eef-8db4-ceacdc29d808",
   "metadata": {},
   "outputs": [],
   "source": [
    "def residuals(t, x, y):\n",
    "    predictions = fitted_values(t, x, y)\n",
    "    return t.column(y) - predictions"
   ]
  },
  {
   "cell_type": "code",
   "execution_count": null,
   "id": "53022ed2-c0fa-489c-a718-0cde36b1e60b",
   "metadata": {},
   "outputs": [],
   "source": [
    "residuals(demographics, 'College%', 'Median Income')"
   ]
  },
  {
   "cell_type": "code",
   "execution_count": null,
   "id": "ec7b9e52-36ef-498f-800f-55b12cc06733",
   "metadata": {},
   "outputs": [],
   "source": [
    "demographics = demographics.with_columns(\n",
    "    'Fitted Value', fitted_values(demographics, 'College%', 'Median Income'),\n",
    "    'Residual', residuals(demographics, 'College%', 'Median Income')\n",
    ")\n",
    "demographics"
   ]
  },
  {
   "cell_type": "code",
   "execution_count": null,
   "id": "108da7ca-da44-40b2-8a44-03e2194e4db3",
   "metadata": {},
   "outputs": [],
   "source": [
    "demographics.scatter('College%', 'Residual')"
   ]
  },
  {
   "cell_type": "code",
   "execution_count": null,
   "id": "91501697-0029-4dcc-96ba-cfdbef744c0d",
   "metadata": {},
   "outputs": [],
   "source": [
    "def plot_residuals(t, x, y):\n",
    "    tbl = t.with_columns(\n",
    "        'Fitted', fitted_values(t, x, y),\n",
    "        'Residual', residuals(t, x, y)\n",
    "    )\n",
    "    #tbl.select(x, y, 'Fitted').scatter(0)\n",
    "    tbl.scatter(x, 'Residual')"
   ]
  },
  {
   "cell_type": "code",
   "execution_count": null,
   "id": "89f239a5-d0e1-4f94-88b9-71d0397132a8",
   "metadata": {},
   "outputs": [],
   "source": [
    "plot_residuals(demographics, 'College%', 'Median Income')"
   ]
  },
  {
   "cell_type": "markdown",
   "id": "adc31298-67b2-4599-9e7f-19d6e2bf0b3c",
   "metadata": {},
   "source": [
    "## Dugongs\n",
    "\n",
    "<img width=500 src=\"https://external-content.duckduckgo.com/iu/?u=http%3A%2F%2Fallthecreatures.org%2Fwp-content%2Fuploads%2Fjs_cache%2Fsea-cow.jpg&f=1&nofb=1\" />"
   ]
  },
  {
   "cell_type": "code",
   "execution_count": null,
   "id": "72679c87-bd2d-424e-ac02-9173082b8e50",
   "metadata": {},
   "outputs": [],
   "source": [
    "dugong = Table.read_table('data/dugong.csv')\n",
    "dugong"
   ]
  },
  {
   "cell_type": "code",
   "execution_count": null,
   "id": "7c863f1f-4e66-4ef1-ba60-3ea911e72af4",
   "metadata": {},
   "outputs": [],
   "source": [
    "dugong.scatter('Length', 'Age')"
   ]
  },
  {
   "cell_type": "code",
   "execution_count": null,
   "id": "99f3bea1-efe5-4401-bd8a-32428c1e6b3f",
   "metadata": {},
   "outputs": [],
   "source": [
    "correlation(dugong, 'Length', 'Age')"
   ]
  },
  {
   "cell_type": "code",
   "execution_count": null,
   "id": "e6fcaf08-0d39-4f3a-a0c5-6397ed93a72d",
   "metadata": {},
   "outputs": [],
   "source": [
    "plot_residuals(dugong, 'Length', 'Age')"
   ]
  },
  {
   "cell_type": "markdown",
   "id": "0b7838df-00e0-4eba-b875-128404a00c53",
   "metadata": {},
   "source": [
    "## Characteristics of Residuals"
   ]
  },
  {
   "cell_type": "code",
   "execution_count": null,
   "id": "80d20c66-ec2a-45ad-8ea3-2d532adc9749",
   "metadata": {},
   "outputs": [],
   "source": [
    "round( np.sum( residuals(demographics, 'College%', 'Median Income')), 5)"
   ]
  },
  {
   "cell_type": "code",
   "execution_count": null,
   "id": "538ca08d-e70d-4745-a68b-4501abc04b4d",
   "metadata": {},
   "outputs": [],
   "source": [
    "round( np.sum( residuals(dugong, 'Length', 'Age')), 5)"
   ]
  },
  {
   "cell_type": "code",
   "execution_count": null,
   "id": "817a6855-b4ad-4788-beff-4730822690b7",
   "metadata": {},
   "outputs": [],
   "source": [
    "round( correlation( demographics, 'College%', 'Residual' ), 5)"
   ]
  },
  {
   "cell_type": "code",
   "execution_count": null,
   "id": "994e6647-5034-473d-ac80-910bfffd6150",
   "metadata": {},
   "outputs": [],
   "source": [
    "round( correlation( demographics, 'Fitted Value', 'Residual' ), 5)"
   ]
  }
 ],
 "metadata": {
  "kernelspec": {
   "display_name": "Python 3 (ipykernel)",
   "language": "python",
   "name": "python3"
  },
  "language_info": {
   "codemirror_mode": {
    "name": "ipython",
    "version": 3
   },
   "file_extension": ".py",
   "mimetype": "text/x-python",
   "name": "python",
   "nbconvert_exporter": "python",
   "pygments_lexer": "ipython3",
   "version": "3.9.6"
  }
 },
 "nbformat": 4,
 "nbformat_minor": 5
}
