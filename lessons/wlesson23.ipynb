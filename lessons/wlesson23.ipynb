{
 "cells": [
  {
   "cell_type": "code",
   "execution_count": null,
   "metadata": {},
   "outputs": [],
   "source": [
    "from datascience import *\n",
    "%matplotlib inline\n",
    "import matplotlib.pyplot as plots\n",
    "plots.style.use('fivethirtyeight')\n",
    "import numpy as np"
   ]
  },
  {
   "cell_type": "markdown",
   "metadata": {},
   "source": [
    "## Lesson 23: Confidence Intervals ##"
   ]
  },
  {
   "cell_type": "markdown",
   "metadata": {},
   "source": [
    "### Percentiles"
   ]
  },
  {
   "cell_type": "code",
   "execution_count": null,
   "metadata": {},
   "outputs": [],
   "source": [
    "# Manually compute the 55th percentile.\n",
    "x = make_array(43, 20, 51, 7, 28, 34)"
   ]
  },
  {
   "cell_type": "code",
   "execution_count": null,
   "metadata": {},
   "outputs": [],
   "source": [
    "# Step 1. Sort the data\n",
    "..."
   ]
  },
  {
   "cell_type": "code",
   "execution_count": null,
   "metadata": {},
   "outputs": [],
   "source": [
    "# Step 2. Figure out where 55th percentile would be."
   ]
  },
  {
   "cell_type": "code",
   "execution_count": null,
   "metadata": {},
   "outputs": [],
   "source": [
    "# OR: 1 Line of Code\n",
    "..."
   ]
  },
  {
   "cell_type": "code",
   "execution_count": null,
   "metadata": {},
   "outputs": [],
   "source": [
    "# If we tried to compute which element to take...\n",
    "..."
   ]
  },
  {
   "cell_type": "markdown",
   "metadata": {},
   "source": [
    "### Sample Median"
   ]
  },
  {
   "cell_type": "code",
   "execution_count": null,
   "metadata": {},
   "outputs": [],
   "source": [
    "sf = Table.read_table('data/san_francisco_2015.csv')\n",
    "sf"
   ]
  },
  {
   "cell_type": "code",
   "execution_count": null,
   "metadata": {},
   "outputs": [],
   "source": [
    "# Who is making the most money\n",
    "..."
   ]
  },
  {
   "cell_type": "code",
   "execution_count": null,
   "metadata": {},
   "outputs": [],
   "source": [
    "# Who is making the least money\n",
    "..."
   ]
  },
  {
   "cell_type": "code",
   "execution_count": null,
   "metadata": {},
   "outputs": [],
   "source": [
    "# Keep only individuals that are working half-time or more\n",
    "# $10 an hour, 20 hours a week, 52 weeks a year\n",
    "min_salary = 10 * 20 * 52\n",
    "sf = sf.where(...)"
   ]
  },
  {
   "cell_type": "code",
   "execution_count": null,
   "metadata": {},
   "outputs": [],
   "source": [
    "# What's the median of the population?\n",
    "pop_median = ...\n",
    "pop_median"
   ]
  },
  {
   "cell_type": "code",
   "execution_count": null,
   "metadata": {},
   "outputs": [],
   "source": [
    "# Create a sample from the population\n",
    "our_sample = sf.sample(...)\n",
    "our_sample.show(5)"
   ]
  },
  {
   "cell_type": "code",
   "execution_count": null,
   "metadata": {},
   "outputs": [],
   "source": [
    "# What's the median of the sample?\n",
    "percentile(50, our_sample.column('Total Compensation'))"
   ]
  },
  {
   "cell_type": "code",
   "execution_count": null,
   "metadata": {},
   "outputs": [],
   "source": [
    "sf_bins = np.arange(0, 700000, 25000)\n",
    "sf.hist('Total Compensation', bins=sf_bins)\n",
    "plots.title('Population Distribution');"
   ]
  },
  {
   "cell_type": "code",
   "execution_count": null,
   "metadata": {},
   "outputs": [],
   "source": [
    "our_sample.hist('Total Compensation', bins=sf_bins)\n",
    "plots.title('Sample Distribution');"
   ]
  },
  {
   "cell_type": "markdown",
   "metadata": {},
   "source": [
    "# Variability of the Estimate"
   ]
  },
  {
   "cell_type": "code",
   "execution_count": null,
   "metadata": {},
   "outputs": [],
   "source": [
    "def generate_sample_median(samp_size):\n",
    "    our_sample = sf.sample(samp_size, with_replacement=False)\n",
    "    return percentile(50, our_sample.column('Total Compensation'))"
   ]
  },
  {
   "cell_type": "code",
   "execution_count": null,
   "metadata": {},
   "outputs": [],
   "source": [
    "sample_median = generate_sample_median(300)\n",
    "sample_median"
   ]
  },
  {
   "cell_type": "code",
   "execution_count": null,
   "metadata": {},
   "outputs": [],
   "source": [
    "error = sample_median - pop_median\n",
    "error"
   ]
  },
  {
   "cell_type": "markdown",
   "metadata": {},
   "source": [
    "# Quantifying Uncertainty"
   ]
  },
  {
   "cell_type": "code",
   "execution_count": null,
   "metadata": {},
   "outputs": [],
   "source": [
    "# Simulate 1000 sample medians\n",
    "sample_medians = ...\n",
    "\n",
    "for i in np.arange(1000):\n",
    "    ...\n"
   ]
  },
  {
   "cell_type": "code",
   "execution_count": null,
   "metadata": {},
   "outputs": [],
   "source": [
    "# Show distribution of sample medians\n",
    "med_bins = np.arange(90000, 125001, 2500)\n",
    "Table().with_column('Sample Medians', sample_medians).hist(bins = med_bins)\n",
    "\n",
    "plots.scatter(pop_median, -0.000001, marker=\"^\", color=\"red\");"
   ]
  },
  {
   "cell_type": "code",
   "execution_count": null,
   "metadata": {},
   "outputs": [],
   "source": [
    "# Show distribution of errors\n",
    "err_bins = np.arange(-15000, 12501, 2500)\n",
    "Table().with_column('Errors', sample_medians - pop_median).hist(bins = err_bins)\n",
    "\n",
    "plots.scatter(0, -0.000001, marker=\"^\", color=\"red\");"
   ]
  },
  {
   "cell_type": "markdown",
   "metadata": {},
   "source": [
    "# Bootstrap"
   ]
  },
  {
   "cell_type": "code",
   "execution_count": null,
   "metadata": {},
   "outputs": [],
   "source": [
    "# Take a bootstrap (re)sample of size 300, WITH replacement\n",
    "boot_sample = our_sample.sample(300, with_replacement=True)\n",
    "boot_sample.hist('Total Compensation', bins=sf_bins)\n",
    "plots.title('Bootstrap sample');\n",
    "\n",
    "print(\"Population Median =       \", pop_median)\n",
    "print(\"Our Sample Median =       \", sample_median)\n",
    "print(\"Bootstrap Sample Median = \", \n",
    "      percentile(50,boot_sample.column('Total Compensation')))"
   ]
  },
  {
   "cell_type": "code",
   "execution_count": null,
   "metadata": {},
   "outputs": [],
   "source": [
    "def one_bootstrap_median():\n",
    "    single_sample = our_sample.sample()\n",
    "    return percentile(50, single_sample.column('Total Compensation'))"
   ]
  },
  {
   "cell_type": "code",
   "execution_count": null,
   "metadata": {},
   "outputs": [],
   "source": [
    "bootstrap_medians = make_array()\n",
    "for i in np.arange(1000):\n",
    "    new_median = one_bootstrap_median()\n",
    "    bootstrap_medians = np.append(bootstrap_medians, new_median)"
   ]
  },
  {
   "cell_type": "code",
   "execution_count": null,
   "metadata": {},
   "outputs": [],
   "source": [
    "Table().with_column(\n",
    "    'Bootstrap Medians', bootstrap_medians\n",
    ").hist('Bootstrap Medians', bins=med_bins)\n",
    "\n",
    "plots.scatter(pop_median, -0.000001, marker=\"^\", color=\"red\");\n",
    "plots.scatter(sample_median, -0.000001, marker=\"^\", color=\"blue\");"
   ]
  },
  {
   "cell_type": "markdown",
   "metadata": {},
   "source": [
    "## Confidence Intervals"
   ]
  },
  {
   "cell_type": "code",
   "execution_count": null,
   "metadata": {},
   "outputs": [],
   "source": [
    "# Make an interval based on the middle 95% of bootstrap samples\n",
    "\n",
    "left = ...\n",
    "right = ...\n",
    "\n",
    "Table().with_column(\n",
    "    'Bootstrap Medians', bootstrap_medians\n",
    ").hist('Bootstrap Medians', bins=med_bins)\n",
    "\n",
    "plots.plot([left, right], [0,0], color=\"gold\",lw=3, zorder=1);\n",
    "plots.scatter(pop_median, -0.000001, marker=\"^\", color=\"red\", zorder=2);\n",
    "plots.scatter(sample_median, -0.000001, marker=\"^\", color=\"blue\", zorder=2);\n",
    "\n",
    "print(\"95% Confidence Interval:\",\"[\",left,\",\",right,\"]\")"
   ]
  }
 ],
 "metadata": {
  "anaconda-cloud": {},
  "kernelspec": {
   "display_name": "Python 3 (ipykernel)",
   "language": "python",
   "name": "python3"
  },
  "language_info": {
   "codemirror_mode": {
    "name": "ipython",
    "version": 3
   },
   "file_extension": ".py",
   "mimetype": "text/x-python",
   "name": "python",
   "nbconvert_exporter": "python",
   "pygments_lexer": "ipython3",
   "version": "3.10.5"
  }
 },
 "nbformat": 4,
 "nbformat_minor": 4
}
