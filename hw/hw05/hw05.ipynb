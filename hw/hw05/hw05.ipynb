{
 "cells": [
  {
   "cell_type": "code",
   "execution_count": null,
   "metadata": {
    "deletable": false,
    "editable": false
   },
   "outputs": [],
   "source": [
    "# Initialize Otter\n",
    "import otter\n",
    "grader = otter.Notebook(\"hw05.ipynb\")"
   ]
  },
  {
   "cell_type": "markdown",
   "metadata": {},
   "source": [
    "# Homework 05: Probability, Simulation, Estimation, and Assessing Models"
   ]
  },
  {
   "cell_type": "markdown",
   "metadata": {},
   "source": [
    "**Reading**: \n",
    "* [Randomness](https://inferentialthinking.com/chapters/09/Randomness.html) \n",
    "* [Sampling and Empirical Distributions](https://inferentialthinking.com/chapters/10/Sampling_and_Empirical_Distributions.html)\n",
    "* [Testing Hypotheses](https://inferentialthinking.com/chapters/11/Testing_Hypotheses.html)"
   ]
  },
  {
   "cell_type": "markdown",
   "metadata": {},
   "source": [
    "For all problems that you must write explanations and sentences for, you **must** provide your answer in the designated space. Moreover, throughout this homework and all future ones, please be sure to not re-assign variables throughout the notebook! For example, if you use `max_temperature` in your answer to one question, do not reassign it later on. Otherwise, you will fail tests that you thought you were passing previously!\n",
    "\n",
    "**Note: This homework has hidden tests on it. Additional tests will be run once your homework is submitted for grading. While you may pass all the tests you have access to before submission, you may not earn full credit if you do not pass the hidden tests as well.**. \n",
    "\n",
    "Many of the tests you have access to before submitting only test to ensure you have given an answer that is formatted correctly and/or you have given an answer that *could* make sense in context. For example, a test you have access to while completing the assignment may check that you selected a valid choice for a multiple choice problem (1, 2, or 3) or that your answer is an integer between 0 and 50 if asked to count a subset of states in the United States. The tests that are run after submission will evaluate your work for accuracy. **Do not assume that just because all your tests pass before submission means that your answers are correct!**\n",
    "\n",
    "Consult with your teacher and course syllabus for information and policies regarding appropriate collaboration with other students, appropriate use of AI tools, and submission of late work."
   ]
  },
  {
   "cell_type": "code",
   "execution_count": null,
   "metadata": {
    "execution": {
     "iopub.execute_input": "2024-01-26T21:06:44.323908Z",
     "iopub.status.busy": "2024-01-26T21:06:44.323623Z",
     "iopub.status.idle": "2024-01-26T21:06:46.083346Z",
     "shell.execute_reply": "2024-01-26T21:06:46.082565Z"
    }
   },
   "outputs": [],
   "source": [
    "# Don't change this cell; just run it. \n",
    "\n",
    "import numpy as np\n",
    "from datascience import *\n",
    "\n",
    "# These lines do some fancy plotting magic.\n",
    "import matplotlib\n",
    "%matplotlib inline\n",
    "import matplotlib.pyplot as plt\n",
    "plt.style.use('fivethirtyeight')"
   ]
  },
  {
   "cell_type": "markdown",
   "metadata": {},
   "source": [
    "## 1. Probability\n"
   ]
  },
  {
   "cell_type": "markdown",
   "metadata": {},
   "source": [
    "We will be testing some probability concepts that were introduced in class. For all of the following problems, we will introduce a problem statement and give you a proposed answer. You must assign the provided variable to one of the following three integers, depending on whether the proposed answer is too large, too small, or correct. \n",
    "\n",
    "1. Assign the variable to 1 if you believe our proposed answer is too large.\n",
    "2. Assign the variable to 2 if you believe our proposed answer is too small.\n",
    "3. Assign the variable to 3 if you believe our proposed answer is correct.\n",
    "\n",
    "\n",
    "You are welcome to create more cells throughout this notebook to test out calcuations."
   ]
  },
  {
   "cell_type": "markdown",
   "metadata": {},
   "source": [
    "### Question 1.1.\n",
    "\n",
    "You roll a 6-sided die 10 times. What is the chance of getting 10 sixes?\n",
    "\n",
    "Our proposed answer: $$\\left(\\frac{1}{6}\\right)^{10}$$\n",
    "\n",
    "Assign `ten_sixes` to either 1, 2, or 3 depending on if you think our answer is too high, too low, or correct. "
   ]
  },
  {
   "cell_type": "code",
   "execution_count": null,
   "metadata": {
    "execution": {
     "iopub.execute_input": "2024-01-26T21:06:46.087865Z",
     "iopub.status.busy": "2024-01-26T21:06:46.087000Z",
     "iopub.status.idle": "2024-01-26T21:06:46.093293Z",
     "shell.execute_reply": "2024-01-26T21:06:46.092373Z"
    },
    "tags": []
   },
   "outputs": [],
   "source": [
    "ten_sixes = ...\n",
    "ten_sixes"
   ]
  },
  {
   "cell_type": "code",
   "execution_count": null,
   "metadata": {
    "deletable": false,
    "editable": false
   },
   "outputs": [],
   "source": [
    "grader.check(\"q1_1\")"
   ]
  },
  {
   "cell_type": "markdown",
   "metadata": {},
   "source": [
    "### Question 1.2.\n",
    "\n",
    "Take the same problem set-up as before, rolling a fair dice 10 times. What is the chance that every roll is less than or equal to 5?\n",
    "\n",
    "Our proposed answer: $$1 - \\left(\\frac{1}{6}\\right)^{10}$$\n",
    "\n",
    "Assign `five_or_less` to either 1, 2, or 3. "
   ]
  },
  {
   "cell_type": "code",
   "execution_count": null,
   "metadata": {
    "execution": {
     "iopub.execute_input": "2024-01-26T21:06:46.154504Z",
     "iopub.status.busy": "2024-01-26T21:06:46.153980Z",
     "iopub.status.idle": "2024-01-26T21:06:46.159125Z",
     "shell.execute_reply": "2024-01-26T21:06:46.158254Z"
    },
    "tags": []
   },
   "outputs": [],
   "source": [
    "five_or_less = ...\n",
    "five_or_less"
   ]
  },
  {
   "cell_type": "code",
   "execution_count": null,
   "metadata": {
    "deletable": false,
    "editable": false
   },
   "outputs": [],
   "source": [
    "grader.check(\"q1_2\")"
   ]
  },
  {
   "cell_type": "markdown",
   "metadata": {},
   "source": [
    "### Question 1.3.\n",
    "\n",
    "Assume we are picking a lottery ticket. We must choose three distinct numbers from 1 to 1000 and write them on a ticket. Next, someone picks three numbers one by one from a bowl with numbers from 1 to 1000 each time without putting the previous number back in. We win if our numbers are all called in order. \n",
    "\n",
    "If we decide to play the game and pick our numbers as 12, 140, and 890, what is the chance that we win? \n",
    "\n",
    "Our proposed answer: $$\\left(\\frac{3}{1000}\\right)^3$$\n",
    "\n",
    "Assign `lottery` to either 1, 2, or 3. "
   ]
  },
  {
   "cell_type": "code",
   "execution_count": null,
   "metadata": {
    "execution": {
     "iopub.execute_input": "2024-01-26T21:06:46.191084Z",
     "iopub.status.busy": "2024-01-26T21:06:46.190639Z",
     "iopub.status.idle": "2024-01-26T21:06:46.194463Z",
     "shell.execute_reply": "2024-01-26T21:06:46.193661Z"
    },
    "tags": []
   },
   "outputs": [],
   "source": [
    "lottery = ..."
   ]
  },
  {
   "cell_type": "code",
   "execution_count": null,
   "metadata": {
    "deletable": false,
    "editable": false
   },
   "outputs": [],
   "source": [
    "grader.check(\"q1_3\")"
   ]
  },
  {
   "cell_type": "markdown",
   "metadata": {},
   "source": [
    "### Question 1.4.\n",
    "\n",
    "Assume we have two lists, list A and list B. List A contains the numbers [20,10,30], while list B contains the numbers [10,30,20,40,30]. We choose one number from list A randomly and one number from list B randomly. What is the chance that the number we drew from list A is larger than or equal to the number we drew from list B?\n",
    "\n",
    "Our proposed solution: $$1/5$$\n",
    "\n",
    "Assign `list_chances` to either 1, 2, or 3. \n",
    "\n",
    "*Hint: Consider the different possible ways that the items in List A can be greater than or equal to items in List B. Try working out your thoughts with a pencil and paper, what do you think the correct solutions will be close to?*"
   ]
  },
  {
   "cell_type": "code",
   "execution_count": null,
   "metadata": {
    "execution": {
     "iopub.execute_input": "2024-01-26T21:06:46.213574Z",
     "iopub.status.busy": "2024-01-26T21:06:46.212948Z",
     "iopub.status.idle": "2024-01-26T21:06:46.216631Z",
     "shell.execute_reply": "2024-01-26T21:06:46.215808Z"
    },
    "tags": []
   },
   "outputs": [],
   "source": [
    "list_chances = ..."
   ]
  },
  {
   "cell_type": "code",
   "execution_count": null,
   "metadata": {
    "deletable": false,
    "editable": false
   },
   "outputs": [],
   "source": [
    "grader.check(\"q1_4\")"
   ]
  },
  {
   "cell_type": "markdown",
   "metadata": {},
   "source": [
    "## 2. Monkeys Typing Shakespeare"
   ]
  },
  {
   "cell_type": "markdown",
   "metadata": {},
   "source": [
    "Suppose a monkey is banging repeatedly on the keys of a simple typewriter. Each time, the monkey is equally likely to hit any of the 26 lowercase letters of the English alphabet, 26 uppercase letters of the English alphabet, and any digit 0-9, regardless of what it has hit before. There are no other keys on the typewriter.\n",
    "\n",
    "This question is inspired by a mathematical theorem called the Infinite monkey theorem (<https://en.wikipedia.org/wiki/Infinite_monkey_theorem>), which postulates that if you put a monkey in the situation described above for an infinite time, they will eventually type out all of Shakespeare’s works."
   ]
  },
  {
   "cell_type": "markdown",
   "metadata": {},
   "source": [
    "### Question 2.1.\n",
    "\n",
    "Suppose the monkey hits the keyboard 6 times. Determine the *theoretical* probability (meaning, don't use simulation to estimate) that the monkey types the sequence of characters `ma4110`.  (Call this `ma4110_chance`. Assign this probability as a *proportion* between 0 and 1, formatted as either an exact fraction or an equivalent arithmetic expression. For example your assignment statement could be formatted as either `ma4110_chance = 1/10000` or `ma4110_chance = (1/100) ** 2` and still be graded correctly."
   ]
  },
  {
   "cell_type": "code",
   "execution_count": null,
   "metadata": {
    "execution": {
     "iopub.execute_input": "2024-01-26T21:06:46.235431Z",
     "iopub.status.busy": "2024-01-26T21:06:46.234965Z",
     "iopub.status.idle": "2024-01-26T21:06:46.239709Z",
     "shell.execute_reply": "2024-01-26T21:06:46.239110Z"
    },
    "tags": []
   },
   "outputs": [],
   "source": [
    "ma4110_chance = ...\n",
    "ma4110_chance"
   ]
  },
  {
   "cell_type": "code",
   "execution_count": null,
   "metadata": {
    "deletable": false,
    "editable": false
   },
   "outputs": [],
   "source": [
    "grader.check(\"q2_1\")"
   ]
  },
  {
   "cell_type": "markdown",
   "metadata": {},
   "source": [
    "### Question 2.2.\n",
    "\n",
    "Write a function called `simulate_key_strike`.  It should take **no arguments**, and it should return a random one-character string that is equally likely to be any of the 26 lower-case English letters, 26 upper-case English letters, or any number between 0-9 (inclusive). The provided code below will create a list called `keys` that contains all the lower-case English letters, upper-case English letters, and the digits 0-9 (inclusive). Lists and arrays are similar, and can often (but not always) be used interchangibly with many functions."
   ]
  },
  {
   "cell_type": "code",
   "execution_count": null,
   "metadata": {
    "execution": {
     "iopub.execute_input": "2024-01-26T21:06:46.283522Z",
     "iopub.status.busy": "2024-01-26T21:06:46.282958Z",
     "iopub.status.idle": "2024-01-26T21:06:46.288253Z",
     "shell.execute_reply": "2024-01-26T21:06:46.287682Z"
    },
    "tags": []
   },
   "outputs": [],
   "source": [
    "# Proivded code, do not change\n",
    "import string\n",
    "keys = list(string.ascii_lowercase + string.ascii_uppercase + string.digits)\n",
    "\n",
    "def simulate_key_strike():\n",
    "    \"\"\"Simulates one random key strike.\"\"\"\n",
    "    # Your code goes below this line\n",
    "    ...\n",
    "\n",
    "# An example call to your function:\n",
    "simulate_key_strike()"
   ]
  },
  {
   "cell_type": "code",
   "execution_count": null,
   "metadata": {
    "deletable": false,
    "editable": false
   },
   "outputs": [],
   "source": [
    "grader.check(\"q2_2\")"
   ]
  },
  {
   "cell_type": "markdown",
   "metadata": {},
   "source": [
    "### Question 2.3.\n",
    "\n",
    "Write a function called `simulate_several_key_strikes`.  It should take one argument: an integer specifying the number of key strikes to simulate. It should return a string containing that many characters, with each character obtained from a single key strike simulation of the monkey.\n",
    "\n",
    "**Hint:** If you make an array (or list) of the simulated key strikes called `key_strikes_array`, you can convert that to a string by calling \n",
    "\n",
    "```python\n",
    "\"\".join(key_strikes_array)\n",
    "```"
   ]
  },
  {
   "cell_type": "code",
   "execution_count": null,
   "metadata": {
    "execution": {
     "iopub.execute_input": "2024-01-26T21:06:46.345459Z",
     "iopub.status.busy": "2024-01-26T21:06:46.345235Z",
     "iopub.status.idle": "2024-01-26T21:06:46.351381Z",
     "shell.execute_reply": "2024-01-26T21:06:46.350796Z"
    },
    "tags": []
   },
   "outputs": [],
   "source": [
    "def simulate_several_key_strikes(num_strikes):\n",
    "    ...\n",
    "\n",
    "# An example call to your function:\n",
    "simulate_several_key_strikes(11)"
   ]
  },
  {
   "cell_type": "code",
   "execution_count": null,
   "metadata": {
    "deletable": false,
    "editable": false
   },
   "outputs": [],
   "source": [
    "grader.check(\"q2_3\")"
   ]
  },
  {
   "cell_type": "markdown",
   "metadata": {},
   "source": [
    "### Question 2.4.\n",
    "\n",
    "Write code that will simulate a monkey hitting 6 keys 5000 times, and compute the *proportion* of times the monkey types `\"ma4110\"`. Call that proportion `ma4110_proportion`.\n",
    "\n",
    "**Hint:** Keep in mind that you've already calculated the theoretical probability for this event to occur earlier in this assignment. Use the theoretical value to determine if your empirical estimate from simulation is reasonable."
   ]
  },
  {
   "cell_type": "code",
   "execution_count": null,
   "metadata": {
    "execution": {
     "iopub.execute_input": "2024-01-26T21:06:46.620249Z",
     "iopub.status.busy": "2024-01-26T21:06:46.619987Z",
     "iopub.status.idle": "2024-01-26T21:06:47.623663Z",
     "shell.execute_reply": "2024-01-26T21:06:47.623011Z"
    },
    "tags": []
   },
   "outputs": [],
   "source": [
    "...\n",
    "\n",
    "ma4110_proportion"
   ]
  },
  {
   "cell_type": "code",
   "execution_count": null,
   "metadata": {
    "deletable": false,
    "editable": false
   },
   "outputs": [],
   "source": [
    "grader.check(\"q2_4\")"
   ]
  },
  {
   "cell_type": "markdown",
   "metadata": {},
   "source": [
    "### Question 2.5.\n",
    "\n",
    "Run your simulation to compute `ma4110_proportion` a few times. Does your simulation ever exactly match the theoretical value you computed earlier in the assignment? Why or why not might this be the case? Think about the theoretical probability of this event occuring, the number of simulations you ran, and the possible values the simulation would produce when writing your response."
   ]
  },
  {
   "cell_type": "markdown",
   "metadata": {},
   "source": [
    "_Type your answer here, replacing this text._"
   ]
  },
  {
   "cell_type": "markdown",
   "metadata": {
    "deletable": false,
    "editable": false
   },
   "source": [
    "<!-- END QUESTION -->\n",
    "\n",
    "### Question 2.6.\n",
    "\n",
    "Determine the theoretical chance that a monkey types the letter `\"m\"` at least once in 6 key strikes.  Assign the value to the variable `m_chance`. Provide your answer as an expression Python can evalute to calculate the final probability. (For example, you should put `(1/6)**3` instead of `0.00462962962963`) "
   ]
  },
  {
   "cell_type": "code",
   "execution_count": null,
   "metadata": {
    "execution": {
     "iopub.execute_input": "2024-01-26T21:06:47.641267Z",
     "iopub.status.busy": "2024-01-26T21:06:47.640966Z",
     "iopub.status.idle": "2024-01-26T21:06:47.645078Z",
     "shell.execute_reply": "2024-01-26T21:06:47.644517Z"
    },
    "tags": []
   },
   "outputs": [],
   "source": [
    "m_chance = ...\n",
    "m_chance"
   ]
  },
  {
   "cell_type": "code",
   "execution_count": null,
   "metadata": {
    "deletable": false,
    "editable": false
   },
   "outputs": [],
   "source": [
    "grader.check(\"q2_6\")"
   ]
  },
  {
   "cell_type": "markdown",
   "metadata": {},
   "source": [
    "### Question 2.7.\n",
    "\n",
    "Without actually running a computer simulation, do you think that a computer simulation with 5000 trials would be more a or less effective way to estimate `m_chance` than when trying to estimate `ma4110_chance` this way? Why or why not? Be sure to include the specific criteria you considered when making your decision."
   ]
  },
  {
   "cell_type": "markdown",
   "metadata": {},
   "source": [
    "_Type your answer here, replacing this text._"
   ]
  },
  {
   "cell_type": "markdown",
   "metadata": {
    "deletable": false,
    "editable": false
   },
   "source": [
    "<!-- END QUESTION -->\n",
    "\n",
    "## 3. Sampling Basketball Players\n"
   ]
  },
  {
   "cell_type": "markdown",
   "metadata": {},
   "source": [
    "This exercise uses salary data and game statistics for basketball players from the 2019-2020 NBA season. The data was collected from [Basketball-Reference](http://www.basketball-reference.com).\n",
    "\n",
    "Run the next cell to load the player dataset:"
   ]
  },
  {
   "cell_type": "code",
   "execution_count": null,
   "metadata": {
    "execution": {
     "iopub.execute_input": "2024-01-26T21:06:47.675704Z",
     "iopub.status.busy": "2024-01-26T21:06:47.675439Z",
     "iopub.status.idle": "2024-01-26T21:06:47.685871Z",
     "shell.execute_reply": "2024-01-26T21:06:47.685249Z"
    }
   },
   "outputs": [],
   "source": [
    "player_data = Table.read_table('player_data.csv')\n",
    "player_data"
   ]
  },
  {
   "cell_type": "markdown",
   "metadata": {},
   "source": [
    "This `player_data` Table contains the following measurements for each player:\n",
    "\n",
    "* `3P`: The average number of 3-point shots made per game (not points)\n",
    "* `2P`: The average number of 2-point shots made per game (not points)\n",
    "* `PTS`: The average total number of points scored per game in total, made up of 3-point shows, 2-point shots, and free throw shots (1 point each)."
   ]
  },
  {
   "cell_type": "markdown",
   "metadata": {},
   "source": [
    "Run the next cell to load the salary data set."
   ]
  },
  {
   "cell_type": "code",
   "execution_count": null,
   "metadata": {
    "execution": {
     "iopub.execute_input": "2024-01-26T21:06:47.688973Z",
     "iopub.status.busy": "2024-01-26T21:06:47.688746Z",
     "iopub.status.idle": "2024-01-26T21:06:47.698076Z",
     "shell.execute_reply": "2024-01-26T21:06:47.697254Z"
    }
   },
   "outputs": [],
   "source": [
    "salary_data = Table.read_table('salary_data.csv').set_format('Salary', CurrencyFormatter)\n",
    "salary_data"
   ]
  },
  {
   "cell_type": "markdown",
   "metadata": {},
   "source": [
    "The `salary_data` Table contains the salary for this season for each player, measured in dollars."
   ]
  },
  {
   "cell_type": "markdown",
   "metadata": {},
   "source": [
    "### Question 3.1.\n",
    "\n",
    "We would like to relate players' game statistics to their salaries.  Compute a table called `full_data` that includes one row for each player who is listed in both `player_data` and `salary_data`.  It should include all the columns from `player_data` and `salary_data`, except the `\"Name\"` column.\n",
    "\n",
    "**Hint:** A `.join` operation would be helpful here to combine your tables!"
   ]
  },
  {
   "cell_type": "code",
   "execution_count": null,
   "metadata": {
    "execution": {
     "iopub.execute_input": "2024-01-26T21:06:47.701696Z",
     "iopub.status.busy": "2024-01-26T21:06:47.701013Z",
     "iopub.status.idle": "2024-01-26T21:06:47.723026Z",
     "shell.execute_reply": "2024-01-26T21:06:47.722417Z"
    },
    "tags": []
   },
   "outputs": [],
   "source": [
    "full_data = ...\n",
    "full_data"
   ]
  },
  {
   "cell_type": "code",
   "execution_count": null,
   "metadata": {
    "deletable": false,
    "editable": false
   },
   "outputs": [],
   "source": [
    "grader.check(\"q3_1\")"
   ]
  },
  {
   "cell_type": "markdown",
   "metadata": {},
   "source": [
    "### Hiring criteria\n",
    "\n",
    "Basketball team managers would like to hire players who perform well but don't command high salaries. \n",
    "\n",
    "Suppose that the manager of a team decides they need a player who is good at scoring points from making 3-point shots and free throws. They want to find a player who can make these types of shots fairly well, per amount of money they are paid. From this perspective, a very crude measure of a player's *value* to their team is the number of 3 pointers and free throws the player scored in a season for every **\\$100,000 of salary** (*Remember*: the `Salary` column is measured in dollars, not hundreds of thousands of dollars). \n",
    "\n",
    "For example, look at the player Al Horford:"
   ]
  },
  {
   "cell_type": "code",
   "execution_count": null,
   "metadata": {
    "execution": {
     "iopub.execute_input": "2024-01-26T21:06:47.748855Z",
     "iopub.status.busy": "2024-01-26T21:06:47.748635Z",
     "iopub.status.idle": "2024-01-26T21:06:47.775203Z",
     "shell.execute_reply": "2024-01-26T21:06:47.774430Z"
    }
   },
   "outputs": [],
   "source": [
    "full_data.where('Player', are.equal_to('Al Horford'))"
   ]
  },
  {
   "cell_type": "markdown",
   "metadata": {},
   "source": [
    "Al Horford scored an average of 12 total points per game, and 3.4 2-point shots per game. That implies that Al scores $12 - 2(3.4) = 5.2$ points from other types of shots, 3-point shots and free throws. Since Al has a salary of **\\$28 million.** (which is equivalent to 280 thousands of dollars) his value is $\\frac{5.2}{280} \\approx 0.01857 $. \n",
    "\n",
    "In general, the formula used to make the value calculation for this particular manager is:\n",
    "\n",
    "$$\\frac{\\text{PTS} - 2 \\times \\text{2P}}{\\text{Salary}\\ / \\ 100000}$$"
   ]
  },
  {
   "cell_type": "markdown",
   "metadata": {},
   "source": [
    "### Question 3.2.\n",
    "\n",
    "Create a table called `full_data_with_value` that's a copy of `full_data`, with an extra column called `Value` containing each player's value (according to this manager's crude measure).  Then make a histogram of players' values.  Use the specified bins, as they've been pre-selected to make the histogram informative. Then, don't forget to include your units in the histogram! Remember that `hist()` takes in an optional third argument, `unit`, that allows you to specify the units of your data. Refer to the python reference sheet to look at `tbl.hist(...)` if necessary.\n",
    "\n",
    "*Just so you know:* Informative histograms contain a majority of the data and **exclude outliers**. The provided bins will intentionally exclude some data points that are considered outliers."
   ]
  },
  {
   "cell_type": "markdown",
   "metadata": {
    "deletable": false,
    "editable": false
   },
   "source": [
    "<!-- BEGIN QUESTION -->\n",
    "\n"
   ]
  },
  {
   "cell_type": "code",
   "execution_count": null,
   "metadata": {
    "execution": {
     "iopub.execute_input": "2024-01-26T21:06:47.778703Z",
     "iopub.status.busy": "2024-01-26T21:06:47.778392Z",
     "iopub.status.idle": "2024-01-26T21:06:48.114990Z",
     "shell.execute_reply": "2024-01-26T21:06:48.114088Z"
    },
    "tags": []
   },
   "outputs": [],
   "source": [
    "my_bins = np.arange(0, 0.7, .1) # Use these provided bins when you make your histogram\n",
    "full_data_with_value = ...\n",
    "..."
   ]
  },
  {
   "cell_type": "markdown",
   "metadata": {
    "deletable": false,
    "editable": false
   },
   "source": [
    "<!-- END QUESTION -->\n",
    "\n",
    "### Incomplete data\n",
    "\n",
    "Now suppose we **weren't** able to find out every player's salary (perhaps it was too costly to interview each player).  Instead, we have gathered a *simple random sample* of 50 players' salaries.  The cell below will load a pre-made sample of 50 players to the table `sample_salary_data`."
   ]
  },
  {
   "cell_type": "code",
   "execution_count": null,
   "metadata": {
    "execution": {
     "iopub.execute_input": "2024-01-26T21:06:48.118354Z",
     "iopub.status.busy": "2024-01-26T21:06:48.118060Z",
     "iopub.status.idle": "2024-01-26T21:06:48.125904Z",
     "shell.execute_reply": "2024-01-26T21:06:48.125215Z"
    }
   },
   "outputs": [],
   "source": [
    "sample_salary_data = Table.read_table(\"sample_salary_data.csv\")\n",
    "sample_salary_data"
   ]
  },
  {
   "cell_type": "markdown",
   "metadata": {},
   "source": [
    "### Question 3.3.\n",
    "\n",
    "Make a histogram of the values of the players in `sample_salary_data`, using the same method for measuring value we used in the previous question. Make sure to specify the same bins and units that were used previously.\n",
    "\n",
    "**Hint:** This will take several steps and perhaps several intermediate tables. Don't feel like you need to do this in a single line of code."
   ]
  },
  {
   "cell_type": "markdown",
   "metadata": {
    "deletable": false,
    "editable": false
   },
   "source": [
    "<!-- BEGIN QUESTION -->\n",
    "\n"
   ]
  },
  {
   "cell_type": "code",
   "execution_count": null,
   "metadata": {
    "execution": {
     "iopub.execute_input": "2024-01-26T21:06:48.128889Z",
     "iopub.status.busy": "2024-01-26T21:06:48.128639Z",
     "iopub.status.idle": "2024-01-26T21:06:48.416727Z",
     "shell.execute_reply": "2024-01-26T21:06:48.415970Z"
    },
    "tags": []
   },
   "outputs": [],
   "source": [
    "sample_data = player_data.join('Player', sample_salary_data, 'Name')\n",
    "sample_data_with_value = ...\n",
    "..."
   ]
  },
  {
   "cell_type": "markdown",
   "metadata": {
    "deletable": false,
    "editable": false
   },
   "source": [
    "<!-- END QUESTION -->\n",
    "\n",
    "Now let us summarize what we have seen. "
   ]
  },
  {
   "cell_type": "markdown",
   "metadata": {},
   "source": [
    "### Question 3.4.\n",
    "\n",
    "How well does the distribution of the simple random sample of 50 players compare to the distribution of the population of all the players? Are there any ranges of values that the simple random sample seems to do better at representing the population? Why do you think these ranges do a better job representing the population than others? Cite specifics from the sample, the population, and the histrograms of values to support your explanation."
   ]
  },
  {
   "cell_type": "markdown",
   "metadata": {},
   "source": [
    "_Type your answer here, replacing this text._"
   ]
  },
  {
   "cell_type": "markdown",
   "metadata": {
    "deletable": false,
    "editable": false
   },
   "source": [
    "<!-- END QUESTION -->\n",
    "\n",
    "## 4. Earthquakes\n"
   ]
  },
  {
   "cell_type": "markdown",
   "metadata": {},
   "source": [
    "The next cell loads a table containing information about **every earthquake with a magnitude above 5** in 2019 (smaller earthquakes are generally not felt, only recorded by very sensitive equipment), compiled by the US Geological Survey. (source: https://earthquake.usgs.gov/earthquakes/search/)"
   ]
  },
  {
   "cell_type": "code",
   "execution_count": null,
   "metadata": {
    "execution": {
     "iopub.execute_input": "2024-01-26T21:06:48.420365Z",
     "iopub.status.busy": "2024-01-26T21:06:48.420063Z",
     "iopub.status.idle": "2024-01-26T21:06:48.457812Z",
     "shell.execute_reply": "2024-01-26T21:06:48.457143Z"
    }
   },
   "outputs": [],
   "source": [
    "earthquakes = Table().read_table('earthquakes_2019.csv').select(['time', 'mag', 'place'])\n",
    "earthquakes"
   ]
  },
  {
   "cell_type": "markdown",
   "metadata": {},
   "source": [
    "The `earthquakes` Table contains the following measurements for each human detectable earthquake:\n",
    "* `time`: A date and timestamp for the earthquake. It contains the year, month, day, hour, minute, second, and fraction of a second that the earthquake occurred.\n",
    "* `mag`: The magnitude of the earthquake. Remember, this data set only contains the earthquakes with a magnitude of 5.0 or higher.\n",
    "* `place`: The approximate location that the earthquake took place \n",
    "\n",
    "**Notice** that this table is sorted by the `time` column such that the most recent earthquakes are at the top of the table.\n",
    "\n",
    "### Subsampling\n",
    "\n",
    "If we were studying all human-detectable 2019 earthquakes and had access to the above data, we’d be in good shape - however, if the data was not collected by a government agency like the USGS, and instead collected by a private business, you may not be able to obtain the full data; perhaps it would be too costly. However, could still learn *something* about earthquakes from just a smaller subsample. For example, if we gathered our sample correctly, we could use that subsample to get an idea about the distribution of magnitudes of earthquakes (above 5, of course) throughout the year! \n",
    "\n",
    "We'll create two samples from the `earthquake` table using different sampling methods. Analyze the code for each sample to examine how the methods are similar and how they differ. You'll be asked to compare the results of each method, and understanding the differences in the sampling method will potentially help you explain any differences in the average value of `mag` that is computed."
   ]
  },
  {
   "cell_type": "markdown",
   "metadata": {},
   "source": [
    "### Sample #1"
   ]
  },
  {
   "cell_type": "code",
   "execution_count": null,
   "metadata": {
    "execution": {
     "iopub.execute_input": "2024-01-26T21:06:48.461089Z",
     "iopub.status.busy": "2024-01-26T21:06:48.460828Z",
     "iopub.status.idle": "2024-01-26T21:06:48.473309Z",
     "shell.execute_reply": "2024-01-26T21:06:48.472637Z"
    }
   },
   "outputs": [],
   "source": [
    "# First sample method\n",
    "sample1 = earthquakes.sort('mag', descending = True).take(np.arange(100))\n",
    "\n",
    "# Calculate the mean of the first sample\n",
    "sample1_magnitude_mean = np.mean(sample1.column('mag'))\n",
    "\n",
    "sample1_magnitude_mean"
   ]
  },
  {
   "cell_type": "markdown",
   "metadata": {},
   "source": [
    "### Sample #2"
   ]
  },
  {
   "cell_type": "code",
   "execution_count": null,
   "metadata": {
    "execution": {
     "iopub.execute_input": "2024-01-26T21:06:48.476274Z",
     "iopub.status.busy": "2024-01-26T21:06:48.476004Z",
     "iopub.status.idle": "2024-01-26T21:06:48.481312Z",
     "shell.execute_reply": "2024-01-26T21:06:48.480657Z"
    }
   },
   "outputs": [],
   "source": [
    "# Second sample method\n",
    "sample2 = earthquakes.take(np.arange(100))\n",
    "\n",
    "# Calculate the mean of the second sample\n",
    "sample2_magnitude_mean = np.mean(sample2.column('mag'))\n",
    "\n",
    "sample2_magnitude_mean"
   ]
  },
  {
   "cell_type": "markdown",
   "metadata": {},
   "source": [
    "### Question 4.1.\n",
    "\n",
    "Neither of these samples accurately represent the population from which they were drawn. Explain why each of the two samples would create a biased average of `mag`. Make sure you address both samples in your response."
   ]
  },
  {
   "cell_type": "markdown",
   "metadata": {},
   "source": [
    "_Type your answer here, replacing this text._"
   ]
  },
  {
   "cell_type": "markdown",
   "metadata": {
    "deletable": false,
    "editable": false
   },
   "source": [
    "<!-- END QUESTION -->\n",
    "\n",
    "### Question 4.2.\n",
    "\n",
    "Write code to produce a sample of size 200 that **is** representative of the population and assign it to a Table named `representative_sample`. Then, take the mean of the magnitudes of the earthquakes in this sample and assign it to `representative_mean`. \n",
    "\n",
    "**Hint:** In class, you've learned what type of sample should be used to best represent a population."
   ]
  },
  {
   "cell_type": "code",
   "execution_count": null,
   "metadata": {
    "execution": {
     "iopub.execute_input": "2024-01-26T21:06:48.484567Z",
     "iopub.status.busy": "2024-01-26T21:06:48.484326Z",
     "iopub.status.idle": "2024-01-26T21:06:48.490818Z",
     "shell.execute_reply": "2024-01-26T21:06:48.490161Z"
    },
    "tags": []
   },
   "outputs": [],
   "source": [
    "representative_sample = ...\n",
    "representative_mean = ...\n",
    "representative_mean"
   ]
  },
  {
   "cell_type": "code",
   "execution_count": null,
   "metadata": {
    "deletable": false,
    "editable": false
   },
   "outputs": [],
   "source": [
    "grader.check(\"q4_2\")"
   ]
  },
  {
   "cell_type": "markdown",
   "metadata": {},
   "source": [
    "### Question 4.3.\n",
    "\n",
    "Suppose we want to figure out what the biggest magnitude earthquake was in 2019, but we only have our representative sample of 200. Let’s see if estimating the biggest magnitude in the population using a random sample of size 200 is a reasonable idea.\n",
    "\n",
    "In the cell below write code that uses simulation to create 5,000 random samples of size 200 from the `earthquakes` Table. For each sample determine the maximum value of `mag` in the sample. The provided code will create an empty array named `maximums` and start the simulation loop for you. Complete the loop code so that the maximum values from each of the 5,000 samples are stored to `maximums`."
   ]
  },
  {
   "cell_type": "code",
   "execution_count": null,
   "metadata": {
    "execution": {
     "iopub.execute_input": "2024-01-26T21:06:48.526052Z",
     "iopub.status.busy": "2024-01-26T21:06:48.525473Z",
     "iopub.status.idle": "2024-01-26T21:06:51.643411Z",
     "shell.execute_reply": "2024-01-26T21:06:51.642621Z"
    },
    "tags": []
   },
   "outputs": [],
   "source": [
    "maximums = ...\n",
    "\n",
    "for i in np.arange(5000): \n",
    "    ..."
   ]
  },
  {
   "cell_type": "code",
   "execution_count": null,
   "metadata": {
    "deletable": false,
    "editable": false
   },
   "outputs": [],
   "source": [
    "grader.check(\"q4_3\")"
   ]
  },
  {
   "cell_type": "markdown",
   "metadata": {},
   "source": [
    "### Visualize your distribution\n",
    "\n",
    "Run the cell below to create a histogram of the 5,000 maximums you simulated to view their distribution. You'll need this to help answer question 4.5."
   ]
  },
  {
   "cell_type": "code",
   "execution_count": null,
   "metadata": {
    "execution": {
     "iopub.execute_input": "2024-01-26T21:06:51.681605Z",
     "iopub.status.busy": "2024-01-26T21:06:51.681325Z",
     "iopub.status.idle": "2024-01-26T21:06:51.961064Z",
     "shell.execute_reply": "2024-01-26T21:06:51.960099Z"
    }
   },
   "outputs": [],
   "source": [
    "# Histogram of your maximums\n",
    "Table().with_column('Largest magnitude in sample', maximums).hist('Largest magnitude in sample', bins=np.arange(6, 8.5, 0.25)) "
   ]
  },
  {
   "cell_type": "markdown",
   "metadata": {},
   "source": [
    "### Question 4.4\n",
    "\n",
    "The actual maximum magnitude observed in the year the data was collected was 8.0.\n",
    "\n",
    "Using the results of your simulation, explain how often a sample with size 200 would correctly estimate the maximum. Use specific values in the histogram above to help write a detailed answer. When the sample fails to correctl estimate the maximum magnitude, are there any patterns in the incorrect estimates?"
   ]
  },
  {
   "cell_type": "markdown",
   "metadata": {},
   "source": [
    "## 5. Assessing Jade's Models\n",
    "#### Games with Jade"
   ]
  },
  {
   "cell_type": "markdown",
   "metadata": {},
   "source": [
    "Our friend Jade comes over and asks us to play a game with her. The game works like this: \n",
    "\n",
    "> We will draw randomly with replacement from a simplified 13 card deck with 4 face cards (A, J, Q, K), and 9 numbered cards (2, 3, 4, 5, 6, 7, 8, 9, 10). If we draw cards with replacement 13 times, and if the number of face cards is greater than or equal to 4, we lose.\n",
    "> \n",
    "> Otherwise, Jade wins.\n",
    "\n",
    "We play the game once and we lose, observing 8 total face cards. While we know that 8 face cards is theoretically possible, it seems so unlikely that we instead think Jade is cheating! Jade is adamant, however, that the deck is fair and that we just got unlucky.\n",
    "\n",
    "#### Jade's model of the game\n",
    "Jade claims that there is an equal chance of getting any of the cards (A, 2, 3, 4, 5, 6, 7, 8, 9, 10, J, Q, K).\n",
    "\n",
    "#### Our alternative model of the game\n",
    "We believe that the deck is rigged, with face cards (A, J, Q, K) being more likely than the numbered cards (2, 3, 4, 5, 6, 7, 8, 9, 10)."
   ]
  },
  {
   "cell_type": "markdown",
   "metadata": {},
   "source": [
    "### Question 5.1.\n",
    "\n",
    "We will simulate the game assuming Jade's model is correct, and that all cards have an equal chance of being drawn. Assign `deck_model_probabilities` to a two-item array containing the probability of drawing a face card as the first element, and the chance of drawing a numbered card as the second element under these assumptions.\n",
    "\n",
    "Since we're working with probabilities, make sure your values are between 0 and 1. Probabilities should be exact representations of the values (1/3 not 0.333)."
   ]
  },
  {
   "cell_type": "code",
   "execution_count": null,
   "metadata": {
    "execution": {
     "iopub.execute_input": "2024-01-26T21:06:51.964890Z",
     "iopub.status.busy": "2024-01-26T21:06:51.964642Z",
     "iopub.status.idle": "2024-01-26T21:06:51.973426Z",
     "shell.execute_reply": "2024-01-26T21:06:51.972661Z"
    },
    "tags": []
   },
   "outputs": [],
   "source": [
    "deck_model_probabilities = ...\n",
    "deck_model_probabilities"
   ]
  },
  {
   "cell_type": "code",
   "execution_count": null,
   "metadata": {
    "deletable": false,
    "editable": false
   },
   "outputs": [],
   "source": [
    "grader.check(\"q5_1\")"
   ]
  },
  {
   "cell_type": "markdown",
   "metadata": {},
   "source": [
    "### Question 5.2.\n",
    "\n",
    "We believe Jade's model (every card is equally likely to be drawn) is incorrect. In particular, we believe the deck is rigged such that there is a larger chance of getting a face card.  \n",
    "\n",
    "List a few reasonable choice for a statistic that could be used to test our hypothesis. There are at least six correct answers; see how many you can come up with! You should come up with at least two statistics in addition to the statistic that will be used in the following question: number of face cards dealt in a single game."
   ]
  },
  {
   "cell_type": "markdown",
   "metadata": {},
   "source": [
    "_Type your answer here, replacing this text._"
   ]
  },
  {
   "cell_type": "markdown",
   "metadata": {
    "deletable": false,
    "editable": false
   },
   "source": [
    "<!-- END QUESTION -->\n",
    "\n",
    "### Question 5.3.\n",
    "\n",
    "Define the function `deck_simulation_and_statistic`, which given as inputs:\n",
    "\n",
    "* `sample_size`: an integer that represents the number of cards to be dealt (with replacement)\n",
    "* `model_proportions`: an array that contains the model proportions (like the one you created earlier in this question),\n",
    "\n",
    "will return **the number of face cards** (our statistic for testing our hypothesis) in one simulation of drawing cards under the model specified in `model_proportions`. \n",
    "\n",
    "The included final line of code in the cell below will call your function to simulate drawing 13 cards from the deck using the assumptions of Jade's model which you assigned to the array `deck_model_probabilities` earlier. It will return the number of face cards those simulated 13 drawn cards contained.\n",
    "\n",
    "**Hint:** Think about how you can use the function `sample_proportions` contained in the `datascience` library. "
   ]
  },
  {
   "cell_type": "code",
   "execution_count": null,
   "metadata": {
    "execution": {
     "iopub.execute_input": "2024-01-26T21:06:52.001091Z",
     "iopub.status.busy": "2024-01-26T21:06:52.000866Z",
     "iopub.status.idle": "2024-01-26T21:06:52.006722Z",
     "shell.execute_reply": "2024-01-26T21:06:52.005851Z"
    },
    "tags": []
   },
   "outputs": [],
   "source": [
    "def deck_simulation_and_statistic(sample_size, model_proportions):\n",
    "    ...\n",
    "\n",
    "deck_simulation_and_statistic(13, deck_model_probabilities)"
   ]
  },
  {
   "cell_type": "code",
   "execution_count": null,
   "metadata": {
    "deletable": false,
    "editable": false
   },
   "outputs": [],
   "source": [
    "grader.check(\"q5_3\")"
   ]
  },
  {
   "cell_type": "markdown",
   "metadata": {},
   "source": [
    "### Question 5.4.\n",
    "\n",
    "Use your the `deck_simulation_and_statistic` function from the previous question to run 5,000 simulations in which 13 cards are drawn under the proportions that you specified in `deck_model_probabilities`. Store of all of your statistics in an array named `deck_statistics`. "
   ]
  },
  {
   "cell_type": "code",
   "execution_count": null,
   "metadata": {
    "execution": {
     "iopub.execute_input": "2024-01-26T21:06:52.018042Z",
     "iopub.status.busy": "2024-01-26T21:06:52.017826Z",
     "iopub.status.idle": "2024-01-26T21:06:52.091790Z",
     "shell.execute_reply": "2024-01-26T21:06:52.090813Z"
    },
    "tags": []
   },
   "outputs": [],
   "source": [
    "repetitions = 5000 \n",
    "...\n",
    "\n",
    "deck_statistics"
   ]
  },
  {
   "cell_type": "code",
   "execution_count": null,
   "metadata": {
    "deletable": false,
    "editable": false
   },
   "outputs": [],
   "source": [
    "grader.check(\"q5_4\")"
   ]
  },
  {
   "cell_type": "markdown",
   "metadata": {},
   "source": [
    "### Visualize the distribution\n",
    "\n",
    "Let’s take a look at the distribution of the simulated statistics. The code cell below will create a histogram of your results. Each bin has a width of 1 unit."
   ]
  },
  {
   "cell_type": "code",
   "execution_count": null,
   "metadata": {
    "execution": {
     "iopub.execute_input": "2024-01-26T21:06:52.126821Z",
     "iopub.status.busy": "2024-01-26T21:06:52.126606Z",
     "iopub.status.idle": "2024-01-26T21:06:52.454997Z",
     "shell.execute_reply": "2024-01-26T21:06:52.454310Z"
    }
   },
   "outputs": [],
   "source": [
    "# Draw a distribution of statistics \n",
    "Table().with_column('Deck Statistics', deck_statistics).hist(bins=np.arange(-0.5,13.5,1))"
   ]
  },
  {
   "cell_type": "markdown",
   "metadata": {},
   "source": [
    "### Question 5.5.\n",
    "\n",
    "Do you believe that Jade's model is reasonable given that we observed 8 face cards drawn out of the 13 cards? Explain your answer using specific information from the distribution shown above. In particular, consider how likely such a result would be using the information in the histogram."
   ]
  },
  {
   "cell_type": "markdown",
   "metadata": {},
   "source": [
    "_Type your answer here, replacing this text._"
   ]
  },
  {
   "cell_type": "markdown",
   "metadata": {
    "deletable": false,
    "editable": false
   },
   "source": [
    "<!-- END QUESTION -->\n",
    "\n",
    "# Submitting your work\n",
    "You're done with this assignment! Assignments should be turned in using the following best practices:\n",
    "1. Save your notebook.\n",
    "2. Restart the kernel and run all cells up to this one.\n",
    "3. Run the cell below with the code `grader.export(...)`. This will re-run all the tests. Make sure they are passing as you expect them to.\n",
    "4. Download the file named `hw05_<date-time-stamp>.zip`, found in the explorer pane on the left side of the screen. **Note**: Clicking on the link in this notebook may result in an error, it's best to download from the file explorer panel.\n",
    "5. Upload `hw05_<date-time-stamp>.zip` to the corresponding assignment on Canvas."
   ]
  },
  {
   "cell_type": "markdown",
   "metadata": {
    "deletable": false,
    "editable": false
   },
   "source": [
    "## Submission\n",
    "\n",
    "Make sure you have run all cells in your notebook in order before running the cell below, so that all images/graphs appear in the output. The cell below will generate a zip file for you to submit."
   ]
  },
  {
   "cell_type": "code",
   "execution_count": null,
   "metadata": {
    "deletable": false,
    "editable": false
   },
   "outputs": [],
   "source": [
    "grader.export(pdf=False, force_save=True)"
   ]
  },
  {
   "cell_type": "markdown",
   "metadata": {},
   "source": [
    " "
   ]
  }
 ],
 "metadata": {
  "kernelspec": {
   "display_name": "Python 3 (ipykernel)",
   "language": "python",
   "name": "python3"
  },
  "language_info": {
   "codemirror_mode": {
    "name": "ipython",
    "version": 3
   },
   "file_extension": ".py",
   "mimetype": "text/x-python",
   "name": "python",
   "nbconvert_exporter": "python",
   "pygments_lexer": "ipython3",
   "version": "3.11.5"
  },
  "otter": {
   "OK_FORMAT": true,
   "tests": {
    "q1_1": {
     "name": "q1_1",
     "points": null,
     "suites": [
      {
       "cases": [
        {
         "code": ">>> ten_sixes in [1, 2, 3]\nTrue",
         "failure_message": "❌ You have not assigned a valid choice (1, 2, or 3)",
         "hidden": false,
         "locked": false,
         "points": 0,
         "success_message": "✅ You've selected a valid choice (1, 2, or 3)"
        }
       ],
       "scored": true,
       "setup": "",
       "teardown": "",
       "type": "doctest"
      }
     ]
    },
    "q1_2": {
     "name": "q1_2",
     "points": null,
     "suites": [
      {
       "cases": [
        {
         "code": ">>> five_or_less in [1, 2, 3]\nTrue",
         "failure_message": "❌ You have not assigned a valid choice (1, 2, or 3)",
         "hidden": false,
         "locked": false,
         "points": 0,
         "success_message": "✅ You've selected a valid choice (1, 2, or 3)"
        }
       ],
       "scored": true,
       "setup": "",
       "teardown": "",
       "type": "doctest"
      }
     ]
    },
    "q1_3": {
     "name": "q1_3",
     "points": null,
     "suites": [
      {
       "cases": [
        {
         "code": ">>> lottery in [1, 2, 3]\nTrue",
         "failure_message": "❌ You have not assigned a valid choice (1, 2, or 3)",
         "hidden": false,
         "locked": false,
         "points": 0,
         "success_message": "✅ You've selected a valid choice (1, 2, or 3)"
        }
       ],
       "scored": true,
       "setup": "",
       "teardown": "",
       "type": "doctest"
      }
     ]
    },
    "q1_4": {
     "name": "q1_4",
     "points": null,
     "suites": [
      {
       "cases": [
        {
         "code": ">>> list_chances in [1, 2, 3]\nTrue",
         "failure_message": "❌ You have not assigned a valid choice (1, 2, or 3)",
         "hidden": false,
         "locked": false,
         "points": 0,
         "success_message": "✅ You've selected a valid choice (1, 2, or 3)"
        }
       ],
       "scored": true,
       "setup": "",
       "teardown": "",
       "type": "doctest"
      }
     ]
    },
    "q2_1": {
     "name": "q2_1",
     "points": null,
     "suites": [
      {
       "cases": [
        {
         "code": ">>> type(ma4110_chance) == float and 0 <= ma4110_chance <= 1\nTrue",
         "failure_message": "❌ `ma4110_chance` is either not a float or it is not between 0 and 1",
         "hidden": false,
         "locked": false,
         "points": 0,
         "success_message": "✅ You assigned a float between 0 and 1 to `ma4110_chance`"
        }
       ],
       "scored": true,
       "setup": "",
       "teardown": "",
       "type": "doctest"
      }
     ]
    },
    "q2_2": {
     "name": "q2_2",
     "points": null,
     "suites": [
      {
       "cases": [
        {
         "code": ">>> simulate_key_strike() is not None\nTrue",
         "failure_message": "❌ Your function does not have a return statement. Make sure you aren't just using print.",
         "hidden": false,
         "locked": false,
         "points": 0,
         "success_message": "✅ Your function has a return statement"
        },
        {
         "code": ">>> all([simulate_key_strike() in list(string.ascii_lowercase + string.ascii_uppercase + string.digits) for i in range(100)])\nTrue",
         "failure_message": "❌ Your function is returning at least one invalid character (something that is not (a-z, A-Z, or 0-9)). Make sure you are selecting a character at random from the `keys` list.",
         "hidden": false,
         "locked": false,
         "points": 0.5,
         "success_message": "✅ Your function is correctly returning value characters (a-z, A-Z, and 0-9)"
        },
        {
         "code": ">>> len(np.unique([simulate_key_strike() for i in range(1000)])) == 62\nTrue",
         "failure_message": "❌ Your function is returning more or less unique valid characters than expected. Are you selecting from `keys`, or your own collection of characters?",
         "hidden": false,
         "locked": false,
         "points": 0.5,
         "success_message": "✅ Given enough time, your function is returning all of valid characters"
        }
       ],
       "scored": true,
       "setup": "",
       "teardown": "",
       "type": "doctest"
      }
     ]
    },
    "q2_3": {
     "name": "q2_3",
     "points": null,
     "suites": [
      {
       "cases": [
        {
         "code": ">>> simulate_several_key_strikes(5) is not None\nTrue",
         "failure_message": "❌ Your function does not have a return statement. Make sure you aren't just using print.",
         "hidden": false,
         "locked": false,
         "points": 0,
         "success_message": "✅ Your function has a return statement"
        },
        {
         "code": ">>> [len(simulate_several_key_strikes(i)) for i in np.arange(100)] == [i for i in np.arange(100)]\nTrue",
         "failure_message": "❌ Your function does not return the correct number of characters for a variety of inputs.",
         "hidden": false,
         "locked": false,
         "points": 0.33,
         "success_message": "✅ Your function returns the correct number of characters for a specified input"
        },
        {
         "code": ">>> isinstance(simulate_several_key_strikes(15), str)\nTrue",
         "failure_message": "❌ Your function is not returning a string. Are you returning an array or list instead?",
         "hidden": false,
         "locked": false,
         "points": 0.33,
         "success_message": "✅ Your function returns a string, not an array or list"
        },
        {
         "code": ">>> len(np.unique(list(simulate_several_key_strikes(1000)))) == 62\nTrue",
         "failure_message": "❌ Your function is returning more or less unique valid characters than expected.",
         "hidden": false,
         "locked": false,
         "points": 0.34,
         "success_message": "✅ Given a long enough message, your function is returning all of the valid characters"
        }
       ],
       "scored": true,
       "setup": "",
       "teardown": "",
       "type": "doctest"
      }
     ]
    },
    "q2_4": {
     "name": "q2_4",
     "points": null,
     "suites": [
      {
       "cases": [
        {
         "code": ">>> type(ma4110_proportion) == float and 0 <= ma4110_proportion <= 1\nTrue",
         "failure_message": "❌ `ma4110_proportion` is either not a float or it is not between 0 and 1",
         "hidden": false,
         "locked": false,
         "points": 0.5,
         "success_message": "✅ You assigned a float between 0 and 1 to `ma4110_proportion`"
        }
       ],
       "scored": true,
       "setup": "",
       "teardown": "",
       "type": "doctest"
      }
     ]
    },
    "q2_6": {
     "name": "q2_6",
     "points": null,
     "suites": [
      {
       "cases": [
        {
         "code": ">>> type(m_chance) and 0 <= m_chance <= 1\nTrue",
         "failure_message": "❌ `m_chance` is either not a float or it is not between 0 and 1",
         "hidden": false,
         "locked": false,
         "points": 0,
         "success_message": "✅ You assigned a float between 0 and 1 to `m_chance`"
        },
        {
         "code": ">>> np.isclose(m_chance, 0.09295491768149067)\nTrue",
         "hidden": false,
         "locked": false,
         "points": 1
        }
       ],
       "scored": true,
       "setup": "",
       "teardown": "",
       "type": "doctest"
      }
     ]
    },
    "q3_1": {
     "name": "q3_1",
     "points": null,
     "suites": [
      {
       "cases": [
        {
         "code": ">>> list(full_data.labels) == ['Player', '3P', '2P', 'PTS', 'Salary']\nTrue",
         "failure_message": "❌ The `full_data` table does not have the correct column labels. Double check the way you are combining the tables. The order of the join operation is important!",
         "hidden": false,
         "locked": false,
         "points": 0,
         "success_message": "✅ The `full_data` table has the correct column labels"
        },
        {
         "code": ">>> full_data.num_rows == 562\nTrue",
         "failure_message": "❌ The `full_data` table does not have the correct number of rows. Check that your join operation is structured correctly.",
         "hidden": false,
         "locked": false,
         "points": 0.5,
         "success_message": "✅ The `full_data` table has the correct number of rows"
        },
        {
         "code": ">>> full_data.select(sorted(full_data.labels)).sort(4).take(range(10))\n2P   | 3P   | PTS  | Player         | Salary\n0.6  | 0    | 1.7  | Tyler Cook     | $50,000\n0    | 0    | 0    | William Howard | $50,000\n2    | 0    | 6    | Eric Mika      | $50,752\n0    | 0    | 0    | Marques Bolden | $50,752\n0    | 0    | 0.3  | Paul Watson    | $50,752\n0    | 0    | 0    | Paul Watson    | $50,752\n0    | 0    | 0.5  | Paul Watson    | $50,752\n0    | 0.6  | 2    | Zach Norvell   | $50,752\n0    | 0    | 0    | Zach Norvell   | $50,752\n0    | 1    | 3.3  | Zach Norvell   | $50,752",
         "failure_message": "❌ The `full_data` table does not appear to have the correct data",
         "hidden": false,
         "locked": false,
         "points": 0.5,
         "success_message": "✅ The `full_data` table appears to have the correct data"
        }
       ],
       "scored": true,
       "setup": "",
       "teardown": "",
       "type": "doctest"
      }
     ]
    },
    "q4_2": {
     "name": "q4_2",
     "points": null,
     "suites": [
      {
       "cases": [
        {
         "code": ">>> type(representative_sample) == Table\nTrue",
         "failure_message": "❌ `representative_sample` is not a Table. Did you assign an array instead?",
         "hidden": false,
         "locked": false,
         "points": 0,
         "success_message": "✅ `representative_sample` is a Table"
        },
        {
         "code": ">>> representative_sample.num_rows == 200\nTrue",
         "failure_message": "❌ The `representative_sample` Table does not have 200 rows.",
         "hidden": false,
         "locked": false,
         "points": 0,
         "success_message": "✅ The `representative_sample` Table has the correct number of rows, 200."
        },
        {
         "code": ">>> all(np.in1d(representative_sample.column('mag'), earthquakes.column('mag')))\nTrue",
         "failure_message": "❌ Your sample should have the same columns as the original table and all data in the sample should be present in the original table.",
         "hidden": false,
         "locked": false,
         "points": 0.5,
         "success_message": "✅ Your sample has the same columns as the original, and the data in your sample is found in the population"
        },
        {
         "code": ">>> representative_mean < max(representative_sample.column('mag')) and representative_mean > min(representative_sample.column('mag'))\nTrue",
         "failure_message": "❌ The mean can't be bigger than the biggest magnitude or small than the smallest magnitude!",
         "hidden": false,
         "locked": false,
         "points": 0.5,
         "success_message": "✅ Your sample has a reasonable value for the mean"
        }
       ],
       "scored": true,
       "setup": "",
       "teardown": "",
       "type": "doctest"
      }
     ]
    },
    "q4_3": {
     "name": "q4_3",
     "points": null,
     "suites": [
      {
       "cases": [
        {
         "code": ">>> len(maximums) != 0\nTrue",
         "failure_message": "❌ `maximums` does not have any values stored to it. Make sure you are appending the values to the array.",
         "hidden": false,
         "locked": false,
         "points": 0,
         "success_message": "✅ `maximums` has at least 1 value stored to it."
        },
        {
         "code": ">>> len(maximums) == 5000\nTrue",
         "failure_message": "❌ `maximums` does not have 5000 values stored to it. Make sure you appending your values to the array, and not overwriting it each time through the loop instead.",
         "hidden": false,
         "locked": false,
         "points": 0.5,
         "success_message": "✅ `maximums` has 5,000 values stored to it"
        },
        {
         "code": ">>> 7.0 < np.mean(maximums) < 7.5\nTrue",
         "failure_message": "❌ `maximums` has unreasonable values for the maximum magnitudes. Check that you are computing the maximum correctly.",
         "hidden": false,
         "locked": false,
         "points": 0.5,
         "success_message": "✅ `maximums` has reasonable values for the maximum magnitudes"
        }
       ],
       "scored": true,
       "setup": "",
       "teardown": "",
       "type": "doctest"
      }
     ]
    },
    "q5_1": {
     "name": "q5_1",
     "points": null,
     "suites": [
      {
       "cases": [
        {
         "code": ">>> len(deck_model_probabilities) == 2 and sum(deck_model_probabilities) == 1\nTrue",
         "failure_message": "❌ `deck_model_probabilities` does not have 2 elements that sum to 1. Try entering your probabilities as fractions to avoid rounding errors that would prevent them from summing to 1.",
         "hidden": false,
         "locked": false,
         "points": 0,
         "success_message": "✅ `deck_model_probabilities` has 2 elements that sum to 1"
        }
       ],
       "scored": true,
       "setup": "",
       "teardown": "",
       "type": "doctest"
      }
     ]
    },
    "q5_3": {
     "name": "q5_3",
     "points": null,
     "suites": [
      {
       "cases": [
        {
         "code": ">>> all([0 <= deck_simulation_and_statistic(13, deck_model_probabilities) <= 13 for k in range(50)])\nTrue",
         "failure_message": "❌ `deck_simulation_and_statistic` is returning some values that are less than 0 or larger than 13.",
         "hidden": false,
         "locked": false,
         "points": 1,
         "success_message": "✅ `deck_simulation_and_statistic` returns values between 0 and 13."
        }
       ],
       "scored": true,
       "setup": "",
       "teardown": "",
       "type": "doctest"
      }
     ]
    },
    "q5_4": {
     "name": "q5_4",
     "points": null,
     "suites": [
      {
       "cases": [
        {
         "code": ">>> len(deck_statistics) == repetitions\nTrue",
         "failure_message": "❌ `deck_statistics` does not have the correct number of elements in it. Make sure you are appending each statistic to the array and that it is named correctly",
         "hidden": false,
         "locked": false,
         "points": 0.2,
         "success_message": "✅ `deck_statistics` has 5000 elements in it"
        },
        {
         "code": ">>> all([0 <= k <= 13 for k in deck_statistics])\nTrue",
         "failure_message": "❌ `deck_statistics` contains values less than 0 and/or greater than 13",
         "hidden": false,
         "locked": false,
         "points": 0,
         "success_message": "✅ `deck_statistics` only contains values between 0 and 13"
        },
        {
         "code": ">>> 1.6 < np.std(deck_statistics) < 1.7\nTrue",
         "hidden": false,
         "locked": false,
         "points": 0.4
        },
        {
         "code": ">>> 3.9 < np.mean(deck_statistics) < 4.1\nTrue",
         "hidden": false,
         "locked": false,
         "points": 0.4
        }
       ],
       "scored": true,
       "setup": "",
       "teardown": "",
       "type": "doctest"
      }
     ]
    }
   }
  }
 },
 "nbformat": 4,
 "nbformat_minor": 4
}
