{
 "cells": [
  {
   "cell_type": "code",
   "execution_count": null,
   "metadata": {
    "deletable": false,
    "editable": false
   },
   "outputs": [],
   "source": [
    "# Initialize Otter\n",
    "import otter\n",
    "grader = otter.Notebook(\"hw07.ipynb\")"
   ]
  },
  {
   "cell_type": "markdown",
   "metadata": {},
   "source": [
    "# Homework 07: Confidence Intervals"
   ]
  },
  {
   "cell_type": "markdown",
   "metadata": {},
   "source": [
    "**Reading**: \n",
    "* [Estimation](https://inferentialthinking.com/chapters/13/Estimation.html)"
   ]
  },
  {
   "cell_type": "markdown",
   "metadata": {},
   "source": [
    "For all problems that you must write explanations and sentences for, you **must** provide your answer in the designated space. Moreover, throughout this homework and all future ones, please be sure to not re-assign variables throughout the notebook! For example, if you use `max_temperature` in your answer to one question, do not reassign it later on. Otherwise, you will fail tests that you thought you were passing previously!\n",
    "\n",
    "**Note: This homework has hidden tests on it. Additional tests will be run once your homework is submitted for grading. While you may pass all the tests you have access to before submission, you may not earn full credit if you do not pass the hidden tests as well.**. \n",
    "\n",
    "Many of the tests you have access to before submitting only test to ensure you have given an answer that is formatted correctly and/or you have given an answer that *could* make sense in context. For example, a test you have access to while completing the assignment may check that you selected a valid choice for a multiple choice problem (1, 2, or 3) or that your answer is an integer between 0 and 50 if asked to count a subset of states in the United States. The tests that are run after submission will evaluate your work for accuracy. **Do not assume that just because all your tests pass before submission means that your answers are correct!**\n",
    "\n",
    "Consult with your teacher and course syllabus for information and policies regarding appropriate collaboration with other students, appropriate use of AI tools, and submission of late work."
   ]
  },
  {
   "cell_type": "code",
   "execution_count": null,
   "metadata": {
    "execution": {
     "iopub.execute_input": "2024-01-26T21:07:07.157044Z",
     "iopub.status.busy": "2024-01-26T21:07:07.156319Z",
     "iopub.status.idle": "2024-01-26T21:07:09.043131Z",
     "shell.execute_reply": "2024-01-26T21:07:09.042299Z"
    }
   },
   "outputs": [],
   "source": [
    "# Don't change this cell; just run it. \n",
    "\n",
    "import numpy as np\n",
    "from datascience import *\n",
    "\n",
    "# These lines do some fancy plotting magic.\n",
    "import matplotlib\n",
    "%matplotlib inline\n",
    "import matplotlib.pyplot as plt\n",
    "plt.style.use('fivethirtyeight')"
   ]
  },
  {
   "cell_type": "markdown",
   "metadata": {},
   "source": [
    "## 1. Thai Restaurants\n"
   ]
  },
  {
   "cell_type": "markdown",
   "metadata": {},
   "source": [
    "Max and Aesha are trying see what the best Thai restaurant in Durham, NC is. They survey 1500 Durham residents selected uniformly at random, and ask each of them what Thai restaurant is the best (*Note: this data is fabricated for the purposes of this homework, but these restaurants are real if you wanted to try them out!*). \n",
    "\n",
    "The choices of Thai restaurant are:\n",
    "* Bua Thai,\n",
    "* Thai Cafe,\n",
    "* Pad Thai, and\n",
    "* Thai Spoon.\n",
    "\n",
    "After compiling the results, Max and Aesha compute the following percentages from their single sample:\n",
    "\n",
    "|Thai Restaurant  | Percent of vote|\n",
    "|:------------:|:------------:|\n",
    "|Bua Thai | 8% |\n",
    "|Thai Cafe | 52% |\n",
    "|Pad Thai | 25% |\n",
    "|Thai Spoon | 15% |\n",
    "\n",
    "These percentages show that based on this sample, Thai Cafe has the largest share of votes for best Thai restaurant in Durham, winning 52% of the votes. We will attempt to estimate the corresponding *parameter* in the population, which in this case would be the percentage of the votes that Thai Cafe would receive if every resident of the city of Durham were able to vote in the survey.\n",
    "\n",
    "The table `votes` contains the results of the survey. Run the cell below to load the data set."
   ]
  },
  {
   "cell_type": "code",
   "execution_count": null,
   "metadata": {
    "execution": {
     "iopub.execute_input": "2024-01-26T21:07:09.047240Z",
     "iopub.status.busy": "2024-01-26T21:07:09.046812Z",
     "iopub.status.idle": "2024-01-26T21:07:09.057368Z",
     "shell.execute_reply": "2024-01-26T21:07:09.056479Z"
    }
   },
   "outputs": [],
   "source": [
    "# Just run this cell\n",
    "votes = Table.read_table('votes.csv')\n",
    "votes"
   ]
  },
  {
   "cell_type": "markdown",
   "metadata": {
    "deletable": false,
    "editable": false
   },
   "source": [
    "### Question 1.1\n",
    "\n",
    "To start the investigation, complete the function `one_resampled_percentage` so it creates a new bootstrap (aka resample) from the `votes` data set and returns Thai Cafe's **percentage** (not proportion) of votes from the bootstrap.\n",
    "\n",
    "**Note:** You can assume that input to the `one_resampled_percentage` function will be a Table that is formatted the same way as `votes`."
   ]
  },
  {
   "cell_type": "code",
   "execution_count": null,
   "metadata": {
    "execution": {
     "iopub.execute_input": "2024-01-26T21:07:09.103428Z",
     "iopub.status.busy": "2024-01-26T21:07:09.103106Z",
     "iopub.status.idle": "2024-01-26T21:07:09.111926Z",
     "shell.execute_reply": "2024-01-26T21:07:09.111078Z"
    },
    "tags": []
   },
   "outputs": [],
   "source": [
    "def one_resampled_percentage(tbl):\n",
    "    ...\n",
    "\n",
    "# Run your function a few times and inspect the output\n",
    "# to ensure it is working as you intend it to!\n",
    "one_resampled_percentage(votes)"
   ]
  },
  {
   "cell_type": "code",
   "execution_count": null,
   "metadata": {
    "deletable": false,
    "editable": false
   },
   "outputs": [],
   "source": [
    "grader.check(\"q1_1\")"
   ]
  },
  {
   "cell_type": "markdown",
   "metadata": {
    "deletable": false,
    "editable": false
   },
   "source": [
    "### Question 1.2.\n",
    "Complete the `percentages_from_resamples` function such that it returns an array of 2,500 bootstrapped estimates of the percentage of voters who will vote for Thai Cafe. While computing the bootstrapped estimates, `percentages_from_resamples` should assign the percentages to the array named `percentage_thai_cafe` that is created for you.\n",
    "\n",
    "Once returned, the array of percentages will be assigned to `resampled_percentages` for use in the remainder of this assignment."
   ]
  },
  {
   "cell_type": "code",
   "execution_count": null,
   "metadata": {
    "execution": {
     "iopub.execute_input": "2024-01-26T21:07:22.018082Z",
     "iopub.status.busy": "2024-01-26T21:07:22.017806Z",
     "iopub.status.idle": "2024-01-26T21:07:25.198210Z",
     "shell.execute_reply": "2024-01-26T21:07:25.197165Z"
    },
    "tags": []
   },
   "outputs": [],
   "source": [
    "def percentages_from_resamples():\n",
    "    percentage_thai_cafe = make_array()\n",
    "    ...\n",
    "\n",
    "resampled_percentages = percentages_from_resamples()\n",
    "resampled_percentages"
   ]
  },
  {
   "cell_type": "code",
   "execution_count": null,
   "metadata": {
    "deletable": false,
    "editable": false
   },
   "outputs": [],
   "source": [
    "grader.check(\"q1_2\")"
   ]
  },
  {
   "cell_type": "markdown",
   "metadata": {},
   "source": [
    "Run the following cell to create a histogram to visualize the distribution of the statistic for the 2,500 bootstrap samples. Based on what the original Thai restaurant percentages were, does the graph seem reasonable? You don't need to provide a written response, but this is a good opportunity to ensure your resampling procedure makes reasonable sense based on the original sample."
   ]
  },
  {
   "cell_type": "code",
   "execution_count": null,
   "metadata": {
    "execution": {
     "iopub.execute_input": "2024-01-26T21:07:57.163840Z",
     "iopub.status.busy": "2024-01-26T21:07:57.163561Z",
     "iopub.status.idle": "2024-01-26T21:07:57.464728Z",
     "shell.execute_reply": "2024-01-26T21:07:57.463791Z"
    }
   },
   "outputs": [],
   "source": [
    "Table().with_column('Estimated Percentage', resampled_percentages).hist(\"Estimated Percentage\")"
   ]
  },
  {
   "cell_type": "markdown",
   "metadata": {
    "deletable": false,
    "editable": false
   },
   "source": [
    "### Question 1.3.\n",
    "\n",
    "Compute the values for the two endpoints of the 95% confidence interval for the percentage of votes for Thai Cafe, based on your bootstrapped estimates. Name the lower and upper ends of the interval, `thai_cafe_lower_bound` and `thai_cafe_upper_bound`, respectively."
   ]
  },
  {
   "cell_type": "code",
   "execution_count": null,
   "metadata": {
    "execution": {
     "iopub.execute_input": "2024-01-26T21:07:57.472888Z",
     "iopub.status.busy": "2024-01-26T21:07:57.472596Z",
     "iopub.status.idle": "2024-01-26T21:07:57.479722Z",
     "shell.execute_reply": "2024-01-26T21:07:57.478802Z"
    },
    "tags": []
   },
   "outputs": [],
   "source": [
    "thai_cafe_lower_bound = ...\n",
    "thai_cafe_upper_bound = ...\n",
    "\n",
    "# The following code wil print the results of your calculations.\n",
    "# Don't change it, just run it!\n",
    "print(\"Bootstrapped 95% confidence interval for the percentage of Thai Cafe voters in the population: [{:f}, {:f}]\".format(thai_cafe_lower_bound, thai_cafe_upper_bound))"
   ]
  },
  {
   "cell_type": "code",
   "execution_count": null,
   "metadata": {
    "deletable": false,
    "editable": false
   },
   "outputs": [],
   "source": [
    "grader.check(\"q1_3\")"
   ]
  },
  {
   "cell_type": "markdown",
   "metadata": {
    "deletable": false,
    "editable": false
   },
   "source": [
    "### Question 1.4.\n",
    "The survey results seem to indicate that Thai Cafe is beating all the other Thai restaurants in Durham combined. We would like to use confidence intervals to determine a range of likely values for Thai Cafe's true lead over all the other restaurants combined. To compute Thai Cafe's lead over Bua Thai, Pad Thai, and Thai Spoon combined, you could use the following formula:\n",
    "\n",
    "$$\\text{Thai Cafe's lead} = \\text{Thai Cafe's \\% of the vote} - ( 100 - \\text{Thai Cafe's \\% of the vote} )$$\n",
    "\n",
    "Complete the function `one_resampled_difference` that computes and returns **exactly one estimate** of Thai Cafe's percentage lead over Bua Thai, Pad Thai, and Thai Spoon combined from a single bootstrapped sample.\n",
    "\n",
    "**Note:** You can assume that input to the `one_resampled_difference` function will be a Table that is formatted the same way as `votes`."
   ]
  },
  {
   "cell_type": "code",
   "execution_count": null,
   "metadata": {
    "execution": {
     "iopub.execute_input": "2024-01-26T21:07:57.500945Z",
     "iopub.status.busy": "2024-01-26T21:07:57.500716Z",
     "iopub.status.idle": "2024-01-26T21:07:57.508376Z",
     "shell.execute_reply": "2024-01-26T21:07:57.507532Z"
    },
    "tags": []
   },
   "outputs": [],
   "source": [
    "def one_resampled_difference(tbl):\n",
    "\n",
    "# Run your function a few times and inspect the output\n",
    "# to ensure it is working as you intend it to!\n",
    "one_resampled_difference(votes)"
   ]
  },
  {
   "cell_type": "code",
   "execution_count": null,
   "metadata": {
    "deletable": false,
    "editable": false
   },
   "outputs": [],
   "source": [
    "grader.check(\"q1_4\")"
   ]
  },
  {
   "cell_type": "markdown",
   "metadata": {
    "deletable": false,
    "editable": false
   },
   "source": [
    "<!-- BEGIN QUESTION -->\n",
    "\n",
    "### Question 1.5.\n",
    "Write a function called `leads_from_resamples` that finds 2,500 bootstrapped estimates of Thai Cafe's lead over Bua Thai, Pad Thai, and Thai Spoon combined. The provided code will plot a histogram of the distribution of the resulting estimates from the resamples.\n",
    "\n",
    "**Note:** Thai Cafe's lead can be negative if the resample results in Thai Cafe receiving less than 50 percent of the votes. That's okay!"
   ]
  },
  {
   "cell_type": "code",
   "execution_count": null,
   "metadata": {
    "execution": {
     "iopub.execute_input": "2024-01-26T21:07:59.115781Z",
     "iopub.status.busy": "2024-01-26T21:07:59.115513Z",
     "iopub.status.idle": "2024-01-26T21:08:02.668781Z",
     "shell.execute_reply": "2024-01-26T21:08:02.668080Z"
    },
    "tags": []
   },
   "outputs": [],
   "source": [
    "def leads_from_resamples():\n",
    "    ...\n",
    "\n",
    "sampled_leads = leads_from_resamples()\n",
    "Table().with_column('Estimated Lead', sampled_leads).hist(\"Estimated Lead\")"
   ]
  },
  {
   "cell_type": "markdown",
   "metadata": {
    "deletable": false,
    "editable": false
   },
   "source": [
    "<!-- END QUESTION -->\n",
    "\n",
    "<!-- BEGIN QUESTION -->\n",
    "\n",
    "### Question 1.6.\n",
    "Using only the histogram that the code below generates, create an *approximate* a 95% confidence interval for the estimated lead that Thai Cafe would have over the other restaurants. Since you should not compute exact values for the ends of the confidence interval, choose integer endpoints that are reasonable and explain how you came up with the endpoints using the histogram.\n",
    "\n",
    "**Note**: The bins of the histogram are all 1 unit wide."
   ]
  },
  {
   "cell_type": "code",
   "execution_count": null,
   "metadata": {
    "deletable": false,
    "editable": false,
    "execution": {
     "iopub.execute_input": "2024-01-26T21:08:02.674078Z",
     "iopub.status.busy": "2024-01-26T21:08:02.673810Z",
     "iopub.status.idle": "2024-01-26T21:08:02.960574Z",
     "shell.execute_reply": "2024-01-26T21:08:02.959893Z"
    }
   },
   "outputs": [],
   "source": [
    "Table().with_column('Estimated Lead', sampled_leads).hist(\"Estimated Lead\", bins=np.arange(-6,15,1))"
   ]
  },
  {
   "cell_type": "markdown",
   "metadata": {},
   "source": [
    "_Type your answer here, replacing this text._"
   ]
  },
  {
   "cell_type": "markdown",
   "metadata": {
    "deletable": false,
    "editable": false
   },
   "source": [
    "<!-- END QUESTION -->\n",
    "\n",
    "## 2. Interpreting Confidence Intervals\n"
   ]
  },
  {
   "cell_type": "markdown",
   "metadata": {},
   "source": [
    "When generating the solutions for this assignment, the teaching team computed the following 95% confidence interval for the percentage of voters who voted Thai Cafe as the best in Durham: \n",
    "\n",
    "$$[49.40, 54.47]$$\n",
    "\n",
    "Your answer is almost certainly bit different; that doesn't mean it was wrong! Don't forget that resampling involves ✨randomness✨!\n",
    "\n",
    "Use this provided confidence interval, **not your confidence interval** from earlier, to answer the following questions."
   ]
  },
  {
   "cell_type": "markdown",
   "metadata": {
    "deletable": false,
    "editable": false
   },
   "source": [
    "<!-- BEGIN QUESTION -->\n",
    "\n",
    "### Question 2.1:\n",
    "Can we say there is a 95% probability that the interval [49.40, 54.47] contains the true percentage of the population that votes for Thai Cafe as the best Thai restaurant in Durham? Answer \"yes\" or \"no\" and explain your reasoning. \n",
    "\n",
    "*Note:* ambiguous answers using language like \"sometimes\" or \"maybe\" will not receive credit."
   ]
  },
  {
   "cell_type": "markdown",
   "metadata": {},
   "source": [
    "_Type your answer here, replacing this text._"
   ]
  },
  {
   "cell_type": "markdown",
   "metadata": {
    "deletable": false,
    "editable": false
   },
   "source": [
    "<!-- END QUESTION -->\n",
    "\n",
    "<!-- BEGIN QUESTION -->\n",
    "\n",
    "### Question 2.2:\n",
    "The teaching staff also created 70%, 90%, and 99% confidence intervals from the same sample, but we forgot to label which confidence interval represented which percentages! Match each confidence level (70%, 90%, 99%) with its corresponding interval in the cell below (e.g. __ % CI: [49.87, 54.0] $\\rightarrow$ replace the blank with one of the three confidence levels). Please put them in order from 70% CI, 90% CI, then 99% CI, your teacher thanks you for helping them grade this a bit easier! **Then**, explain your thought process and how you came up with your answers.\n",
    "\n",
    "The intervals are below:\n",
    "\n",
    "* [49.87, 54.00]\n",
    "* [50.67, 53.27]\n",
    "* [48.80, 55.40]\n"
   ]
  },
  {
   "cell_type": "markdown",
   "metadata": {},
   "source": [
    "_Type your answer here, replacing this text._"
   ]
  },
  {
   "cell_type": "markdown",
   "metadata": {
    "deletable": false,
    "editable": false
   },
   "source": [
    "<!-- END QUESTION -->\n",
    "\n",
    "### Question 2.3.\n",
    "Suppose you are so passionate about the Thai food scene in Durham, so you applied for and received a grant that allowed you to pay to create 5,000 new *real* samples from the population, not bootstrapped samples  Each new sample is collected the same way the original sample was: as uniform random sample of 1,500 Durham residents. \n",
    "\n",
    "If you created a 95% confidence interval for each of the 5,000 new samples, roughly how many of those 5,000 intervals would you expect to actually contain the true percentage of the population that would vote for Thai Cafe? Assign your answer to `true_percentage_intervals`.\n",
    "\n",
    "**Note**: Don't forget, there's no way for us to actually know the true value of the population parameter we're trying to estimate, so we won't know which of the confidence intervals actually contain it or not, but you should know the expected number of intervals that will and won't contain the parameter."
   ]
  },
  {
   "cell_type": "code",
   "execution_count": null,
   "metadata": {
    "execution": {
     "iopub.execute_input": "2024-01-26T21:08:02.964606Z",
     "iopub.status.busy": "2024-01-26T21:08:02.964356Z",
     "iopub.status.idle": "2024-01-26T21:08:02.972260Z",
     "shell.execute_reply": "2024-01-26T21:08:02.967193Z"
    },
    "tags": []
   },
   "outputs": [],
   "source": [
    "true_percentage_intervals = ..."
   ]
  },
  {
   "cell_type": "code",
   "execution_count": null,
   "metadata": {
    "deletable": false,
    "editable": false
   },
   "outputs": [],
   "source": [
    "grader.check(\"q2_3\")"
   ]
  },
  {
   "cell_type": "markdown",
   "metadata": {},
   "source": [
    "### Using confidence intervals to test hypotheses\n",
    "\n",
    "Recall the second bootstrap confidence interval you estimated earlier, which estimated Thai Cafe's lead over Bua Thai, Pad Thai, and Thai Spoon combined. Among voters in the sample, Thai Cafe's lead was 4%. Suppose the teaching staff's 95% confidence interval for the true lead (in the population of all voters) was:\n",
    "\n",
    "$$[-0.80, 8.80]$$\n",
    "\n",
    "Suppose we are interested in testing a simple yes-or-no question:\n",
    "\n",
    "> \"Is the percentage of votes for Thai Cafe tied with the percentage of votes for Bua Thai, Pad Thai, and Thai Spoon combined?\"\n",
    "\n",
    "Our null hypothesis is that the percentages are equal, or equivalently, that Thai Cafe's lead is exactly 0. Our alternative hypothesis is that Thai Cafe's lead is not equal to 0.  \n",
    "\n",
    "In the remaining questions below, don't compute any confidence intervals yourself - use only the provided 95% confidence interval of $[-0.80, 8.80]$."
   ]
  },
  {
   "cell_type": "markdown",
   "metadata": {
    "deletable": false,
    "editable": false
   },
   "source": [
    "### Question 2.4 \n",
    "\n",
    "Say we use a 5% P-value cutoff.  Do we reject the null, fail to reject the null, or are we unable to tell using the provided confidence interval?\n",
    "\n",
    "Assign `restaurants_tied` to the number corresponding to the correct answer.\n",
    "\n",
    "1. Reject the null / Data is consistent with the alternative hypothesis\n",
    "2. Fail to reject the null / Data is consistent with the null hypothesis\n",
    "3. Unable to tell using our staff confidence interval\n",
    "\n",
    "*Hint:* If you're confused, take a look at [this chapter](https://inferentialthinking.com/chapters/13/4/Using_Confidence_Intervals.html) of the textbook.\n"
   ]
  },
  {
   "cell_type": "code",
   "execution_count": null,
   "metadata": {
    "execution": {
     "iopub.execute_input": "2024-01-26T21:08:02.990941Z",
     "iopub.status.busy": "2024-01-26T21:08:02.990702Z",
     "iopub.status.idle": "2024-01-26T21:08:02.994026Z",
     "shell.execute_reply": "2024-01-26T21:08:02.993429Z"
    },
    "tags": []
   },
   "outputs": [],
   "source": [
    "restaurants_tied = ..."
   ]
  },
  {
   "cell_type": "code",
   "execution_count": null,
   "metadata": {
    "deletable": false,
    "editable": false
   },
   "outputs": [],
   "source": [
    "grader.check(\"q2_4\")"
   ]
  },
  {
   "cell_type": "markdown",
   "metadata": {
    "deletable": false,
    "editable": false
   },
   "source": [
    "### Question 2.5\n",
    "What if, instead, we use a P-value cutoff of 1%? Do we reject the null, fail to reject the null, or are we unable to tell using the provided confidence interval?\n",
    "\n",
    "Assign `cutoff_one_percent` to the number corresponding to the correct answer.\n",
    "\n",
    "1. Reject the null / Data is consistent with the alternative hypothesis\n",
    "2. Fail to reject the null / Data is consistent with the null hypothesis\n",
    "3. Unable to tell using our staff confidence interval\n"
   ]
  },
  {
   "cell_type": "code",
   "execution_count": null,
   "metadata": {
    "execution": {
     "iopub.execute_input": "2024-01-26T21:08:03.010883Z",
     "iopub.status.busy": "2024-01-26T21:08:03.010655Z",
     "iopub.status.idle": "2024-01-26T21:08:03.013850Z",
     "shell.execute_reply": "2024-01-26T21:08:03.013251Z"
    },
    "tags": []
   },
   "outputs": [],
   "source": [
    "cutoff_one_percent = ..."
   ]
  },
  {
   "cell_type": "code",
   "execution_count": null,
   "metadata": {
    "deletable": false,
    "editable": false
   },
   "outputs": [],
   "source": [
    "grader.check(\"q2_5\")"
   ]
  },
  {
   "cell_type": "markdown",
   "metadata": {
    "deletable": false,
    "editable": false
   },
   "source": [
    "### Question 2.6\n",
    "What if we use a P-value cutoff of 10%? Do we reject, fail to reject, or are we unable to tell using the provided confidence interval?\n",
    "\n",
    "Assign `cutoff_ten_percent` to the number corresponding to the correct answer.\n",
    "\n",
    "1. Reject the null / Data is consistent with the alternative hypothesis\n",
    "2. Fail to reject the null / Data is consistent with the null hypothesis\n",
    "3. Unable to tell using our staff confidence interval\n"
   ]
  },
  {
   "cell_type": "code",
   "execution_count": null,
   "metadata": {
    "execution": {
     "iopub.execute_input": "2024-01-26T21:08:03.030619Z",
     "iopub.status.busy": "2024-01-26T21:08:03.030373Z",
     "iopub.status.idle": "2024-01-26T21:08:03.033600Z",
     "shell.execute_reply": "2024-01-26T21:08:03.032940Z"
    },
    "tags": []
   },
   "outputs": [],
   "source": [
    "cutoff_ten_percent = ..."
   ]
  },
  {
   "cell_type": "code",
   "execution_count": null,
   "metadata": {
    "deletable": false,
    "editable": false
   },
   "outputs": [],
   "source": [
    "grader.check(\"q2_6\")"
   ]
  },
  {
   "cell_type": "markdown",
   "metadata": {},
   "source": [
    "# Submitting your work\n",
    "You're done with this assignment! Assignments should be turned in using the following best practices:\n",
    "1. Save your notebook.\n",
    "2. Restart the kernel and run all cells up to this one.\n",
    "3. Run the cell below with the code `grader.export(...)`. This will re-run all the tests. Make sure they are passing as you expect them to.\n",
    "4. Download the file named `hw07_<date-time-stamp>.zip`, found in the explorer pane on the left side of the screen. **Note**: Clicking on the link in this notebook may result in an error, it's best to download from the file explorer panel.\n",
    "5. Upload `hw07_<date-time-stamp>.zip` to the corresponding assignment on Canvas."
   ]
  },
  {
   "cell_type": "markdown",
   "metadata": {
    "deletable": false,
    "editable": false
   },
   "source": [
    "## Submission\n",
    "\n",
    "Make sure you have run all cells in your notebook in order before running the cell below, so that all images/graphs appear in the output. The cell below will generate a zip file for you to submit."
   ]
  },
  {
   "cell_type": "code",
   "execution_count": null,
   "metadata": {
    "deletable": false,
    "editable": false
   },
   "outputs": [],
   "source": [
    "grader.export(pdf=False, force_save=True)"
   ]
  },
  {
   "cell_type": "markdown",
   "metadata": {},
   "source": [
    " "
   ]
  }
 ],
 "metadata": {
  "kernelspec": {
   "display_name": "Python 3 (ipykernel)",
   "language": "python",
   "name": "python3"
  },
  "language_info": {
   "codemirror_mode": {
    "name": "ipython",
    "version": 3
   },
   "file_extension": ".py",
   "mimetype": "text/x-python",
   "name": "python",
   "nbconvert_exporter": "python",
   "pygments_lexer": "ipython3",
   "version": "3.11.5"
  },
  "otter": {
   "OK_FORMAT": true,
   "tests": {
    "q1_1": {
     "name": "q1_1",
     "points": null,
     "suites": [
      {
       "cases": [
        {
         "code": ">>> type(one_resampled_percentage(votes)) in set([float, np.float64])\nTrue",
         "failure_message": "❌ `one_resampled_percentage` does not return a float, but it should",
         "hidden": false,
         "locked": false,
         "points": 0,
         "success_message": "✅ `one_resampled_percentage` returns a float"
        },
        {
         "code": ">>> one_resampled_percentage(votes) > 1\nTrue",
         "failure_message": "❌ `one_resampled_percentage` returns a value that indicates it is likely a proportion but it should be a percentage",
         "hidden": false,
         "locked": false,
         "points": 0
        },
        {
         "code": ">>> 30 <= one_resampled_percentage(votes) <= 70\nTrue",
         "failure_message": "❌ `one_resampled_percentage` returns a value that is too large or small to be reasonable",
         "hidden": false,
         "locked": false,
         "points": 0.5,
         "success_message": "✅ `one_resampled_percentage` returns a reasonable value for the percentage"
        }
       ],
       "scored": true,
       "setup": "",
       "teardown": "",
       "type": "doctest"
      }
     ]
    },
    "q1_2": {
     "name": "q1_2",
     "points": null,
     "suites": [
      {
       "cases": [
        {
         "code": ">>> len(resampled_percentages)\n2500",
         "failure_message": "❌ `resampled_percentages` does not have 2,500 elements",
         "hidden": false,
         "locked": false,
         "points": 0,
         "success_message": "✅ `resampled_percentages` has 2,500 elements"
        }
       ],
       "scored": true,
       "setup": "",
       "teardown": "",
       "type": "doctest"
      }
     ]
    },
    "q1_3": {
     "name": "q1_3",
     "points": null,
     "suites": [
      {
       "cases": [
        {
         "code": ">>> 40 <= thai_cafe_lower_bound <= thai_cafe_upper_bound <= 60\nTrue",
         "failure_message": "❌ `thai_cafe_lower_bound` and `thai_cafe_upper_bound` are too small or large to be reasonable, or, the upper bound is smaller than the lower bound",
         "hidden": false,
         "locked": false,
         "points": 0,
         "success_message": "✅ `thai_cafe_lower_bound` and `thai_cafe_upper_bound` seem reasonable"
        }
       ],
       "scored": true,
       "setup": "",
       "teardown": "",
       "type": "doctest"
      }
     ]
    },
    "q1_4": {
     "name": "q1_4",
     "points": null,
     "suites": [
      {
       "cases": [
        {
         "code": ">>> type(one_resampled_difference(votes)) in set([float, np.float64])\nTrue",
         "failure_message": "❌ `one_resampled_difference` does not return a float, but it should",
         "hidden": false,
         "locked": false,
         "points": 0,
         "success_message": "✅ `one_resampled_difference` returns a float"
        },
        {
         "code": ">>> all([-6 <= float(one_resampled_difference(votes)) <= 15 for i in np.arange(100)])\nTrue",
         "failure_message": "❌ `one_resampled_difference` does not seem to be returning reasonable values",
         "hidden": false,
         "locked": false,
         "points": 0,
         "success_message": "✅ `one_resampled_difference` seems to be returning reasonable values"
        }
       ],
       "scored": true,
       "setup": "",
       "teardown": "",
       "type": "doctest"
      }
     ]
    },
    "q2_3": {
     "name": "q2_3",
     "points": null,
     "suites": [
      {
       "cases": [
        {
         "code": ">>> type(true_percentage_intervals) in set([int, float, np.float64])\nTrue",
         "failure_message": "❌ `true_percentage_intervals` is not a numerical value",
         "hidden": false,
         "locked": false,
         "points": 0,
         "success_message": "✅ `true_percentage_intervals` is a numerical value"
        }
       ],
       "scored": true,
       "setup": "",
       "teardown": "",
       "type": "doctest"
      }
     ]
    },
    "q2_4": {
     "name": "q2_4",
     "points": null,
     "suites": [
      {
       "cases": [
        {
         "code": ">>> restaurants_tied in [1, 2, 3]\nTrue",
         "failure_message": "❌ `restaurants_tied` is an invalid answer choice, check your assignment statement",
         "hidden": false,
         "locked": false,
         "points": 0,
         "success_message": "✅ `restaurants_tied` is a valid answer choice"
        }
       ],
       "scored": true,
       "setup": "",
       "teardown": "",
       "type": "doctest"
      }
     ]
    },
    "q2_5": {
     "name": "q2_5",
     "points": null,
     "suites": [
      {
       "cases": [
        {
         "code": ">>> cutoff_one_percent in [1, 2, 3]\nTrue",
         "failure_message": "❌ `cutoff_one_percent` is an invalid answer choice, check your assignment statement",
         "hidden": false,
         "locked": false,
         "points": 0,
         "success_message": "✅ `cutoff_one_percent` is a valid answer choice"
        }
       ],
       "scored": true,
       "setup": "",
       "teardown": "",
       "type": "doctest"
      }
     ]
    },
    "q2_6": {
     "name": "q2_6",
     "points": null,
     "suites": [
      {
       "cases": [
        {
         "code": ">>> cutoff_ten_percent in [1, 2, 3]\nTrue",
         "failure_message": "❌ `cutoff_ten_percent` is an invalid answer choice, check your assignment statement",
         "hidden": false,
         "locked": false,
         "points": 0,
         "success_message": "✅ `cutoff_ten_percent` is a valid answer choice"
        }
       ],
       "scored": true,
       "setup": "",
       "teardown": "",
       "type": "doctest"
      }
     ]
    }
   }
  }
 },
 "nbformat": 4,
 "nbformat_minor": 4
}
