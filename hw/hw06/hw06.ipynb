{
 "cells": [
  {
   "cell_type": "code",
   "execution_count": null,
   "metadata": {
    "deletable": false,
    "editable": false
   },
   "outputs": [],
   "source": [
    "# Initialize Otter\n",
    "import otter\n",
    "grader = otter.Notebook(\"hw06.ipynb\")"
   ]
  },
  {
   "cell_type": "markdown",
   "metadata": {},
   "source": [
    "# Homework 06: Testing Hypotheses"
   ]
  },
  {
   "cell_type": "markdown",
   "metadata": {},
   "source": [
    "**Reading**: \n",
    "* [Testing Hypotheses](https://inferentialthinking.com/chapters/11/Testing_Hypotheses.html)"
   ]
  },
  {
   "cell_type": "markdown",
   "metadata": {},
   "source": [
    "For all problems that you must write explanations and sentences for, you **must** provide your answer in the designated space. Moreover, throughout this homework and all future ones, please be sure to not re-assign variables throughout the notebook! For example, if you use `max_temperature` in your answer to one question, do not reassign it later on. Otherwise, you will fail tests that you thought you were passing previously!\n",
    "\n",
    "**Note: This homework has hidden tests on it. Additional tests will be run once your homework is submitted for grading. While you may pass all the tests you have access to before submission, you may not earn full credit if you do not pass the hidden tests as well.**. \n",
    "\n",
    "Many of the tests you have access to before submitting only test to ensure you have given an answer that is formatted correctly and/or you have given an answer that *could* make sense in context. For example, a test you have access to while completing the assignment may check that you selected a valid choice for a multiple choice problem (1, 2, or 3) or that your answer is an integer between 0 and 50 if asked to count a subset of states in the United States. The tests that are run after submission will evaluate your work for accuracy. **Do not assume that just because all your tests pass before submission means that your answers are correct!**\n",
    "\n",
    "Consult with your teacher and course syllabus for information and policies regarding appropriate collaboration with other students, appropriate use of AI tools, and submission of late work."
   ]
  },
  {
   "cell_type": "code",
   "execution_count": null,
   "metadata": {
    "execution": {
     "iopub.execute_input": "2024-01-26T21:06:56.135695Z",
     "iopub.status.busy": "2024-01-26T21:06:56.135449Z",
     "iopub.status.idle": "2024-01-26T21:06:57.899762Z",
     "shell.execute_reply": "2024-01-26T21:06:57.899100Z"
    }
   },
   "outputs": [],
   "source": [
    "# Don't change this cell; just run it. \n",
    "\n",
    "import numpy as np\n",
    "from datascience import *\n",
    "\n",
    "# These lines do some fancy plotting magic.\n",
    "import matplotlib\n",
    "%matplotlib inline\n",
    "import matplotlib.pyplot as plt\n",
    "plt.style.use('fivethirtyeight')"
   ]
  },
  {
   "cell_type": "markdown",
   "metadata": {},
   "source": [
    "## Part 1. Spam Calls"
   ]
  },
  {
   "cell_type": "markdown",
   "metadata": {},
   "source": [
    "Yanay gets a lot of spam calls. An area code is defined to be a three digit number from 200-999 inclusive. In reality, many of these area codes are not in use, but for this question we'll simplify things and assume they all are. **Throughout these questions, you should assume that Yanay's area code is 781.**"
   ]
  },
  {
   "cell_type": "markdown",
   "metadata": {
    "deletable": false,
    "editable": false
   },
   "source": [
    "### Question 1.1\n",
    "\n",
    "**Assuming each area code is just as likely as any other**, what is the probability that two back to back spam calls have the same area code of 781? \n",
    "\n",
    "Assign this probability as a *proportion* between 0 and 1 to `prob_781`, formatted as either an exact fraction or an equivalent arithmetic expression. For example your assignment statement could be formatted as either `prob_781 = 1/9` or `prob_781 = (1/3) ** 2`, but should not be assigned as `prob_781 = 0.33` since it is not exact."
   ]
  },
  {
   "cell_type": "code",
   "execution_count": null,
   "metadata": {
    "execution": {
     "iopub.execute_input": "2024-01-26T21:06:57.903631Z",
     "iopub.status.busy": "2024-01-26T21:06:57.903240Z",
     "iopub.status.idle": "2024-01-26T21:06:57.908774Z",
     "shell.execute_reply": "2024-01-26T21:06:57.908155Z"
    },
    "tags": []
   },
   "outputs": [],
   "source": [
    "prob_781 = ...\n",
    "prob_781"
   ]
  },
  {
   "cell_type": "code",
   "execution_count": null,
   "metadata": {
    "deletable": false,
    "editable": false
   },
   "outputs": [],
   "source": [
    "grader.check(\"q1_1\")"
   ]
  },
  {
   "cell_type": "markdown",
   "metadata": {
    "deletable": false,
    "editable": false
   },
   "source": [
    "### Question 1.2.\n",
    "\n",
    "Rohan already knows that Yanay's area code is 781. Rohan randomly guesses the last 7 digits (0-9 inclusive) of his phone number. What's the probability that Rohan correctly guesses Yanay's number, assuming he’s equally likely to choose any digit? *Note: A US phone number contains a 3-digit area code followed by 7 additional digits, i.e. xxx-xxx-xxxx*\n",
    "\n",
    "Assign this probability as a *proportion* between 0 and 1 to `prob_781`, formatted as either an exact fraction or an equivalent arithmetic expression."
   ]
  },
  {
   "cell_type": "code",
   "execution_count": null,
   "metadata": {
    "execution": {
     "iopub.execute_input": "2024-01-26T21:06:57.982684Z",
     "iopub.status.busy": "2024-01-26T21:06:57.982423Z",
     "iopub.status.idle": "2024-01-26T21:06:57.986823Z",
     "shell.execute_reply": "2024-01-26T21:06:57.986258Z"
    },
    "tags": []
   },
   "outputs": [],
   "source": [
    "prob_yanay_num = ...\n",
    "prob_yanay_num"
   ]
  },
  {
   "cell_type": "code",
   "execution_count": null,
   "metadata": {
    "deletable": false,
    "editable": false
   },
   "outputs": [],
   "source": [
    "grader.check(\"q1_2\")"
   ]
  },
  {
   "cell_type": "markdown",
   "metadata": {},
   "source": [
    "### Suspicious Spam\n",
    "\n",
    "Yanay suspects that there's a higher chance that the spammers are using his area code (781) to trick him into thinking it's someone from his area calling him. Ashley thinks that this is not the case, and that spammers are just choosing area codes of the spam calls at random from all possible area codes (*Remember, for this question we’re assuming the possible area codes are 200-999, inclusive*). Yanay wants to test his claim using the 50 spam calls he received in the past month.\n",
    "\n",
    "Run the cell below to load a dataset that contains the the area codes of the 50 spam calls he received last month."
   ]
  },
  {
   "cell_type": "code",
   "execution_count": null,
   "metadata": {
    "execution": {
     "iopub.execute_input": "2024-01-26T21:06:58.004374Z",
     "iopub.status.busy": "2024-01-26T21:06:58.004105Z",
     "iopub.status.idle": "2024-01-26T21:06:58.011469Z",
     "shell.execute_reply": "2024-01-26T21:06:58.010858Z"
    }
   },
   "outputs": [],
   "source": [
    "# Just run this cell\n",
    "spam = Table().read_table('spam.csv')\n",
    "spam"
   ]
  },
  {
   "cell_type": "markdown",
   "metadata": {
    "deletable": false,
    "editable": false
   },
   "source": [
    "<!-- BEGIN QUESTION -->\n",
    "\n",
    "### Question 1.3.\n",
    "\n",
    "Define the null hypothesis and alternative hypothesis for this investigation. Your null hypothesis should fully describe a probability model that you can use as part of a simulation later."
   ]
  },
  {
   "cell_type": "markdown",
   "metadata": {},
   "source": [
    "_Type your answer here, replacing this text._"
   ]
  },
  {
   "cell_type": "markdown",
   "metadata": {
    "deletable": false,
    "editable": false
   },
   "source": [
    "<!-- END QUESTION -->\n",
    "\n",
    "<!-- BEGIN QUESTION -->\n",
    "\n",
    "### Question 1.4.\n",
    "\n",
    "Yanay would like to use the number of times you see the area code 781 in 50 spam calls as the statistic to test his hypothesis. List at least one additional reasonable choice for a statistic that could be used to test the hypothesis.\n",
    "\n",
    "*Hint*: For a refresher on choosing test statistics, check out the textbook section on [Test Statistics](https://inferentialthinking.com/chapters/11/3/Decisions_and_Uncertainty.html)."
   ]
  },
  {
   "cell_type": "markdown",
   "metadata": {},
   "source": [
    "_Type your answer here, replacing this text._"
   ]
  },
  {
   "cell_type": "markdown",
   "metadata": {
    "deletable": false,
    "editable": false
   },
   "source": [
    "<!-- END QUESTION -->\n",
    "\n",
    "### Question 1.5.\n",
    "\n",
    "Suppose you decide to use **the number of times you see the area code 781 in 50 spam calls** as your test statistic. Calculate the observed value of this statistic based on 50 actual spam calls that Yanay received. Assign this value to `observed_val`."
   ]
  },
  {
   "cell_type": "code",
   "execution_count": null,
   "metadata": {
    "execution": {
     "iopub.execute_input": "2024-01-26T21:06:58.014877Z",
     "iopub.status.busy": "2024-01-26T21:06:58.014629Z",
     "iopub.status.idle": "2024-01-26T21:06:58.018439Z",
     "shell.execute_reply": "2024-01-26T21:06:58.017839Z"
    },
    "tags": []
   },
   "outputs": [],
   "source": [
    "observed_val = ..."
   ]
  },
  {
   "cell_type": "code",
   "execution_count": null,
   "metadata": {
    "deletable": false,
    "editable": false
   },
   "outputs": [],
   "source": [
    "grader.check(\"q1_5\")"
   ]
  },
  {
   "cell_type": "markdown",
   "metadata": {
    "deletable": false,
    "editable": false
   },
   "source": [
    "### Question 1.6\n",
    "\n",
    "Write a function called `simulate` that generates exactly one simulated value of your test statistic. The function should take no arguments and simulate receiving 50 spam calls by creating an array of 50 area codes under the assumptions of the null hypothesis. The function should return the number of times the 781 area code was listed in the 50 random spam calls."
   ]
  },
  {
   "cell_type": "code",
   "execution_count": null,
   "metadata": {
    "execution": {
     "iopub.execute_input": "2024-01-26T21:06:58.076008Z",
     "iopub.status.busy": "2024-01-26T21:06:58.075694Z",
     "iopub.status.idle": "2024-01-26T21:06:58.081432Z",
     "shell.execute_reply": "2024-01-26T21:06:58.080833Z"
    },
    "tags": []
   },
   "outputs": [],
   "source": [
    "def simulate():\n",
    "    possible_area_codes = np.arange(200,1000)\n",
    "    ...\n",
    "    \n",
    "# Call your function a few times to make sure it works and\n",
    "# observe what types of outputs it produces\n",
    "\n",
    "simulate()"
   ]
  },
  {
   "cell_type": "code",
   "execution_count": null,
   "metadata": {
    "deletable": false,
    "editable": false
   },
   "outputs": [],
   "source": [
    "grader.check(\"q1_6\")"
   ]
  },
  {
   "cell_type": "markdown",
   "metadata": {
    "deletable": false,
    "editable": false
   },
   "source": [
    "### Question 1.7.\n",
    "\n",
    "Generate 20,000 simulations of receiving 50 random spam calls under the assumptions of the null hypothesis, recording the number of times the 781 area code appears in the 50 calls for each simulation. Assign `test_statistics_under_null` to an array that contains the test statistics for these trials. \n",
    "\n",
    "*Hint*: Use the function you defined in the previous question to generate the statistics."
   ]
  },
  {
   "cell_type": "code",
   "execution_count": null,
   "metadata": {
    "execution": {
     "iopub.execute_input": "2024-01-26T21:06:58.392812Z",
     "iopub.status.busy": "2024-01-26T21:06:58.392573Z",
     "iopub.status.idle": "2024-01-26T21:06:59.042645Z",
     "shell.execute_reply": "2024-01-26T21:06:59.042019Z"
    },
    "tags": []
   },
   "outputs": [],
   "source": [
    "test_statistics_under_null = ...\n",
    "repetitions = ...\n",
    "\n",
    "...\n",
    "    \n",
    "test_statistics_under_null"
   ]
  },
  {
   "cell_type": "code",
   "execution_count": null,
   "metadata": {
    "deletable": false,
    "editable": false
   },
   "outputs": [],
   "source": [
    "grader.check(\"q1_7\")"
   ]
  },
  {
   "cell_type": "markdown",
   "metadata": {
    "deletable": false,
    "editable": false
   },
   "source": [
    "<!-- BEGIN QUESTION -->\n",
    "\n",
    "### Question 1.8.\n",
    "\n",
    "Using the results from the simulations, generate a histogram of the empirical distribution of the number of times you saw the area code 781 appear out of 50 spam calls. **NOTE: Use the provided bins when making the histogram**"
   ]
  },
  {
   "cell_type": "code",
   "execution_count": null,
   "metadata": {
    "execution": {
     "iopub.execute_input": "2024-01-26T21:06:59.060921Z",
     "iopub.status.busy": "2024-01-26T21:06:59.060697Z",
     "iopub.status.idle": "2024-01-26T21:06:59.385055Z",
     "shell.execute_reply": "2024-01-26T21:06:59.384373Z"
    },
    "tags": []
   },
   "outputs": [],
   "source": [
    "our_bins = np.arange(0, 5, 1) # Use these provided bins\n",
    "..."
   ]
  },
  {
   "cell_type": "markdown",
   "metadata": {
    "deletable": false,
    "editable": false
   },
   "source": [
    "<!-- END QUESTION -->\n",
    "\n",
    "### Question 1.9.\n",
    "\n",
    "Yanay is ready to make a decision about the null and alternative hypotheses based on the results of the simulation. Compute an empirical p-value using the observed statistic value and array of statistics from the simulation to help Yanay decide between the models."
   ]
  },
  {
   "cell_type": "code",
   "execution_count": null,
   "metadata": {
    "execution": {
     "iopub.execute_input": "2024-01-26T21:06:59.388477Z",
     "iopub.status.busy": "2024-01-26T21:06:59.388187Z",
     "iopub.status.idle": "2024-01-26T21:06:59.393441Z",
     "shell.execute_reply": "2024-01-26T21:06:59.392802Z"
    },
    "tags": []
   },
   "outputs": [],
   "source": [
    "p_value = ...\n",
    "p_value"
   ]
  },
  {
   "cell_type": "code",
   "execution_count": null,
   "metadata": {
    "deletable": false,
    "editable": false
   },
   "outputs": [],
   "source": [
    "grader.check(\"q1_9\")"
   ]
  },
  {
   "cell_type": "markdown",
   "metadata": {
    "deletable": false,
    "editable": false
   },
   "source": [
    "<!-- BEGIN QUESTION -->\n",
    "\n",
    "### Question 1.10.\n",
    "\n",
    "Suppose you use a relatively strict p-value cutoff of 1%. What should Yanay conclude from the hypothesis test? Why?"
   ]
  },
  {
   "cell_type": "markdown",
   "metadata": {},
   "source": [
    "_Type your answer here, replacing this text._"
   ]
  },
  {
   "cell_type": "markdown",
   "metadata": {
    "deletable": false,
    "editable": false
   },
   "source": [
    "<!-- END QUESTION -->\n",
    "\n",
    "## Part 2: Multiple area codes"
   ]
  },
  {
   "cell_type": "markdown",
   "metadata": {},
   "source": [
    "Yanay now thinks that the spammers may be using even a more complex scheme than he originally thought. Yanay now believes that instead of the spammers trying to match Yanay's area code, they are tracking his phone and are using the area code of the areas that he's visited recently. Yanay decides to check if the area code from spam calls match the area code of one of the 8 places he's been to recently. He wants to test if it's more likely to receive a spam call with an area code from any of those 8 places than chance alone would suggest. \n",
    "\n",
    "These are the area codes of the places he's been to recently: 781, 617, 509, 510, 212, 858, 339, 626."
   ]
  },
  {
   "cell_type": "markdown",
   "metadata": {
    "deletable": false,
    "editable": false
   },
   "source": [
    "<!-- BEGIN QUESTION -->\n",
    "\n",
    "### Question 2.1\n",
    "\n",
    "Define the null hypothesis and alternative hypothesis for this investigation.\n",
    "\n",
    "*Reminder: Don’t forget that your null hypothesis should fully describe a probability model that we can use for simulation later.*\n"
   ]
  },
  {
   "cell_type": "markdown",
   "metadata": {},
   "source": [
    "_Type your answer here, replacing this text._"
   ]
  },
  {
   "cell_type": "markdown",
   "metadata": {
    "deletable": false,
    "editable": false
   },
   "source": [
    "<!-- END QUESTION -->\n",
    "\n",
    "### Question 2.2\n",
    "\n",
    "Suppose Yanay selects **the count of how many of 50 spam calls came from area codes that were \"recently visited\"** as the test statistic. Compute the observed value of this statistic from the 50 actual spam calls that Yanay received (remember, this is already stored to the `spam` Table). Assign the test statistic to `visited_observed_value`.\n",
    "\n",
    "**Hint:** A `Table` predicate should make it easy to create a Table from `spam` that only contains the rows with the area codes that Yanay visited. Check your Python reference sheet!"
   ]
  },
  {
   "cell_type": "code",
   "execution_count": null,
   "metadata": {
    "execution": {
     "iopub.execute_input": "2024-01-26T21:06:59.404358Z",
     "iopub.status.busy": "2024-01-26T21:06:59.404071Z",
     "iopub.status.idle": "2024-01-26T21:06:59.409502Z",
     "shell.execute_reply": "2024-01-26T21:06:59.408890Z"
    },
    "tags": []
   },
   "outputs": [],
   "source": [
    "visited_area_codes = make_array(781, 617, 509, 510, 212, 858, 339, 626)\n",
    "visited_observed_value = ...\n",
    "visited_observed_value"
   ]
  },
  {
   "cell_type": "code",
   "execution_count": null,
   "metadata": {
    "deletable": false,
    "editable": false
   },
   "outputs": [],
   "source": [
    "grader.check(\"q2_2\")"
   ]
  },
  {
   "cell_type": "markdown",
   "metadata": {
    "deletable": false,
    "editable": false
   },
   "source": [
    "### Question 2.3\n",
    "Write a function called `simulate_visited_area_codes` that generates exactly one simulated value of your test statistic under the null hypothesis. The function should take no arguments and simulate receiving 50 spam calls codes under the assumption that the result of each call's area code is sampled from the range 200-999 with equal probability. To match Yanay's hypothesis, your simulation should assume there are 8 area codes that were \"recently visited\" and the remaining area codes have not been \"recently visited\" when computing the number of spam calls in each category (recently visited, not recently visited).\n",
    "\n",
    "The function should return the test statistic decided upon earlier in this question: **the count of how many of  50 spam calls came from area codes that were \"recently visited\"**.\n",
    "\n",
    "*Hint*: You may find [the textbook section](https://inferentialthinking.com/chapters/11/1/Assessing_a_Model.html#the-prediction-under-the-model-of-random-selection) on the `sample_proportions` function to be useful."
   ]
  },
  {
   "cell_type": "code",
   "execution_count": null,
   "metadata": {
    "execution": {
     "iopub.execute_input": "2024-01-26T21:06:59.426823Z",
     "iopub.status.busy": "2024-01-26T21:06:59.426574Z",
     "iopub.status.idle": "2024-01-26T21:06:59.431794Z",
     "shell.execute_reply": "2024-01-26T21:06:59.431238Z"
    },
    "tags": []
   },
   "outputs": [],
   "source": [
    "def simulate_visited_area_codes():\n",
    "    ...\n",
    "    \n",
    "# Call your function a few to make sure it works and to \n",
    "# get a feel for possible outputs it my generate\n",
    "simulate_visited_area_codes()"
   ]
  },
  {
   "cell_type": "code",
   "execution_count": null,
   "metadata": {
    "deletable": false,
    "editable": false
   },
   "outputs": [],
   "source": [
    "grader.check(\"q2_3\")"
   ]
  },
  {
   "cell_type": "markdown",
   "metadata": {
    "deletable": false,
    "editable": false
   },
   "source": [
    "### Question 2.4.\n",
    "\n",
    "Generate 20,000 simulated values of the number of times you see any of the area codes of the places Yanay has been to in 50 random spam calls. Assign `test_statistics_under_null` to an array that stores the result of each of these trials. \n",
    "\n",
    "**Hint**: Use the function you defined in Question 2.2.\n"
   ]
  },
  {
   "cell_type": "code",
   "execution_count": null,
   "metadata": {
    "execution": {
     "iopub.execute_input": "2024-01-26T21:06:59.647061Z",
     "iopub.status.busy": "2024-01-26T21:06:59.646796Z",
     "iopub.status.idle": "2024-01-26T21:06:59.957469Z",
     "shell.execute_reply": "2024-01-26T21:06:59.956813Z"
    },
    "tags": []
   },
   "outputs": [],
   "source": [
    "visited_test_statistics_under_null = ...\n",
    "repetitions = ...\n",
    "\n",
    "...\n",
    "visited_test_statistics_under_null"
   ]
  },
  {
   "cell_type": "code",
   "execution_count": null,
   "metadata": {
    "deletable": false,
    "editable": false
   },
   "outputs": [],
   "source": [
    "grader.check(\"q2_4\")"
   ]
  },
  {
   "cell_type": "markdown",
   "metadata": {
    "deletable": false,
    "editable": false
   },
   "source": [
    "<!-- BEGIN QUESTION -->\n",
    "\n",
    "### Question 2.5.\n",
    "\n",
    "Using the simulated statistics assigned to `visited_test_statistics_under_null`, generate a histogram of the empirical distribution of the number of times you saw any of the visited area codes in 50 spam phone calls under the assumptions of the null hypothesis.\n",
    "\n",
    "**NOTE: Use the provided bins when making the histogram**"
   ]
  },
  {
   "cell_type": "code",
   "execution_count": null,
   "metadata": {
    "execution": {
     "iopub.execute_input": "2024-01-26T21:06:59.973042Z",
     "iopub.status.busy": "2024-01-26T21:06:59.972769Z",
     "iopub.status.idle": "2024-01-26T21:07:00.263392Z",
     "shell.execute_reply": "2024-01-26T21:07:00.262673Z"
    },
    "tags": []
   },
   "outputs": [],
   "source": [
    "bins_visited = np.arange(0,6,1) # Use these provided bins\n",
    "..."
   ]
  },
  {
   "cell_type": "markdown",
   "metadata": {
    "deletable": false,
    "editable": false
   },
   "source": [
    "<!-- END QUESTION -->\n",
    "\n",
    "### Question 2.6\n",
    "\n",
    "Yanay is ready to make a decision about the hypotheses based on the results of the simulation. Compute an empirical p-value using the observed value of the statistic and the array of statistics from the simulation to help Yanay decide between the models."
   ]
  },
  {
   "cell_type": "code",
   "execution_count": null,
   "metadata": {
    "execution": {
     "iopub.execute_input": "2024-01-26T21:07:00.266722Z",
     "iopub.status.busy": "2024-01-26T21:07:00.266437Z",
     "iopub.status.idle": "2024-01-26T21:07:00.275348Z",
     "shell.execute_reply": "2024-01-26T21:07:00.274779Z"
    },
    "tags": []
   },
   "outputs": [],
   "source": [
    "p_value = ...\n",
    "p_value"
   ]
  },
  {
   "cell_type": "code",
   "execution_count": null,
   "metadata": {
    "deletable": false,
    "editable": false
   },
   "outputs": [],
   "source": [
    "grader.check(\"q2_6\")"
   ]
  },
  {
   "cell_type": "markdown",
   "metadata": {
    "deletable": false,
    "editable": false
   },
   "source": [
    "<!-- BEGIN QUESTION -->\n",
    "\n",
    "### Question 2.7.\n",
    "\n",
    "Suppose Yanay had decided to use a p-value cutoff of 1 percent. What can he conclude, if anything, about the null hypothesis?"
   ]
  },
  {
   "cell_type": "markdown",
   "metadata": {},
   "source": [
    "_Type your answer here, replacing this text._"
   ]
  },
  {
   "cell_type": "markdown",
   "metadata": {
    "deletable": false,
    "editable": false
   },
   "source": [
    "<!-- END QUESTION -->\n",
    "\n",
    "<!-- BEGIN QUESTION -->\n",
    "\n",
    "### Question 2.8\n",
    "\n",
    "Describe what the empirical p-value value assigned to `p_value` represents in context of this experiment. Avoid only providing a generic definition of a p-value by using as many specifics of this problem as you can in your response."
   ]
  },
  {
   "cell_type": "markdown",
   "metadata": {},
   "source": [
    "_Type your answer here, replacing this text._"
   ]
  },
  {
   "cell_type": "markdown",
   "metadata": {
    "deletable": false,
    "editable": false
   },
   "source": [
    "<!-- END QUESTION -->\n",
    "\n",
    "### Question 2.9.\n",
    "\n",
    "When you reject the null hypothesis, you are claiming that the observed statistic was different enough from what you would expect to see from chance alone to the point that you believe it is from some other factor. In this particular case, you are accusing the spam callers of favoring the area codes that person has visited, which means they are tracking the person. This is a serious accusation! Sometimes, you'll make this claim incorrectly.\n",
    "\n",
    "Suppose you run this same test for 200 different people, each with a p-value cutoff of 1 percent. If the spam callers were **not** actually favoring area codes that people have visited (the null hypothesis is true), in how many of the 200 tests would spam callers be incorrectly accused of favoring area codes that people have visited? Assign your answer as a numerical value to `incorrectly_accused`. You can assign an arithmetic expression that represents the answer (e.g. `incorrectly_accused = 0.5 * 10` instead of `incorrectly_accused = 5` as long as it evaluates to the correct value."
   ]
  },
  {
   "cell_type": "code",
   "execution_count": null,
   "metadata": {
    "execution": {
     "iopub.execute_input": "2024-01-26T21:07:00.293771Z",
     "iopub.status.busy": "2024-01-26T21:07:00.293512Z",
     "iopub.status.idle": "2024-01-26T21:07:00.296874Z",
     "shell.execute_reply": "2024-01-26T21:07:00.296294Z"
    },
    "tags": []
   },
   "outputs": [],
   "source": [
    "incorrectly_accused = ..."
   ]
  },
  {
   "cell_type": "code",
   "execution_count": null,
   "metadata": {
    "deletable": false,
    "editable": false
   },
   "outputs": [],
   "source": [
    "grader.check(\"q2_9\")"
   ]
  },
  {
   "cell_type": "markdown",
   "metadata": {},
   "source": [
    "## Part 3: Do you pick up the call?"
   ]
  },
  {
   "cell_type": "markdown",
   "metadata": {},
   "source": [
    "Yanay now wants to determine how effective these spam techniques actually are. He goes through the 50 spam calls he received and records whether or not he picked up the call because he believed it was a legitimate phone call.\n",
    "\n",
    "The Table `spam_with_labels` contains:\n",
    "* a column labeled `Area Code Visited` which contains either the string `\"Yes\"` or the string `\"No\"` which represents whether the spam call used an area code from where Yanay has recently visited.\n",
    "* a column labeled `Picked Up` which contains either the integer `1` if Yanay picked up and the integer `0` if he did not pick up."
   ]
  },
  {
   "cell_type": "code",
   "execution_count": null,
   "metadata": {
    "execution": {
     "iopub.execute_input": "2024-01-26T21:07:00.314998Z",
     "iopub.status.busy": "2024-01-26T21:07:00.314750Z",
     "iopub.status.idle": "2024-01-26T21:07:00.321907Z",
     "shell.execute_reply": "2024-01-26T21:07:00.321350Z"
    }
   },
   "outputs": [],
   "source": [
    "# Just run this cell\n",
    "spam_with_labels = Table().read_table(\"spam_picked_up.csv\")\n",
    "spam_with_labels"
   ]
  },
  {
   "cell_type": "markdown",
   "metadata": {},
   "source": [
    "Yanay suspects that he is more likely to pick up phone calls from area codes that he's recently visited.\n",
    "\n",
    "His **null hypothesis** is that there is no difference in the distribution of calls he picked up between area codes he has visited and area codes he has not visited, with any observed differences due to chance. \n",
    "\n",
    "His **alternative hypothesis** is that there is a difference between the two categories, specifically that he thinks that he is more likely to pick up if he has visited the area code. \n",
    "\n",
    "Conduct an [A/B Test](https://inferentialthinking.com/chapters/12/1/AB_Testing.html#permutation-test) to test his hypothesis. Use the difference in proportion of calls picked up between the area codes Yanay visited and the area codes he did not visit as the test statistic."
   ]
  },
  {
   "cell_type": "markdown",
   "metadata": {
    "deletable": false,
    "editable": false
   },
   "source": [
    "### Question 3.1.\n",
    "Write a function named `difference_in_proportion` to calculate the test statistic that will be used to complete this test. The function should take in a Table which will be assigned to `, which can be assumed has the labels \"Area Code Visited\" and \"Picked Up\" like the Table of spam calls that Yanay has collected.\n",
    "\n",
    "Then, use the function it to compute the observed value of the test statistic and assign it to `observed_diff_proportion`."
   ]
  },
  {
   "cell_type": "code",
   "execution_count": null,
   "metadata": {
    "execution": {
     "iopub.execute_input": "2024-01-26T21:07:00.325011Z",
     "iopub.status.busy": "2024-01-26T21:07:00.324768Z",
     "iopub.status.idle": "2024-01-26T21:07:00.331834Z",
     "shell.execute_reply": "2024-01-26T21:07:00.331286Z"
    },
    "tags": []
   },
   "outputs": [],
   "source": [
    "def difference_in_proportion(sample):\n",
    "    ...\n",
    "\n",
    "observed_diff_proportion = ...\n",
    "observed_diff_proportion"
   ]
  },
  {
   "cell_type": "code",
   "execution_count": null,
   "metadata": {
    "deletable": false,
    "editable": false
   },
   "outputs": [],
   "source": [
    "grader.check(\"q3_1\")"
   ]
  },
  {
   "cell_type": "markdown",
   "metadata": {
    "deletable": false,
    "editable": false
   },
   "source": [
    "### Question 3.2.\n",
    "\n",
    "The labels in this case are the `\"Yes\"` and `\"No\"` values found in the `\"Area Code Visited\"` column of the sample of spam calls found in `spam_with_labels`. Write a function `simulate_one_stat` that takes in a Table formatted like `spam_with_labels`, assigns it to `table`, shuffles the labels in `table`, and returns the appropriate test statistic. Your code should *overwrite* the labels found in the `\"Area Code Visited\"` column, since the `difference_in_proportion` expects the Table it works with to have the label `\"Area Code Visited\"` when computing the test statistic."
   ]
  },
  {
   "cell_type": "code",
   "execution_count": null,
   "metadata": {
    "execution": {
     "iopub.execute_input": "2024-01-26T21:07:00.377106Z",
     "iopub.status.busy": "2024-01-26T21:07:00.376869Z",
     "iopub.status.idle": "2024-01-26T21:07:00.383634Z",
     "shell.execute_reply": "2024-01-26T21:07:00.382964Z"
    },
    "tags": []
   },
   "outputs": [],
   "source": [
    "def simulate_one_stat(table):\n",
    "    ...\n",
    "\n",
    "one_simulated_test_stat = simulate_one_stat(spam_with_labels) \n",
    "one_simulated_test_stat"
   ]
  },
  {
   "cell_type": "code",
   "execution_count": null,
   "metadata": {
    "deletable": false,
    "editable": false
   },
   "outputs": [],
   "source": [
    "grader.check(\"q3_2\")"
   ]
  },
  {
   "cell_type": "markdown",
   "metadata": {
    "deletable": false,
    "editable": false
   },
   "source": [
    "### Question 3.3.\n",
    "\n",
    "Generate 1,000 simulated test statistic values using the `simulate_one_stat` function and store them to the array `test_stats`.\n",
    "\n",
    "The provided code will generate a histogram to display the distribution of the test statistics generated by the simulation, and plot the value assigned to `observed_diff_proportion` on the same axes."
   ]
  },
  {
   "cell_type": "code",
   "execution_count": null,
   "metadata": {
    "execution": {
     "iopub.execute_input": "2024-01-26T21:07:02.172621Z",
     "iopub.status.busy": "2024-01-26T21:07:02.172302Z",
     "iopub.status.idle": "2024-01-26T21:07:03.458075Z",
     "shell.execute_reply": "2024-01-26T21:07:03.457419Z"
    },
    "tags": []
   },
   "outputs": [],
   "source": [
    "test_stats = make_array()\n",
    "repetitions = ...\n",
    "\n",
    "...\n",
    "\n",
    "# here's code to generate a histogram of values and the red dot is the observed value\n",
    "Table().with_column(\"Simulated Proportion Difference\", test_stats).hist(\"Simulated Proportion Difference\");\n",
    "plt.plot(observed_diff_proportion, -0.01, 'r^', markersize=10);"
   ]
  },
  {
   "cell_type": "code",
   "execution_count": null,
   "metadata": {
    "deletable": false,
    "editable": false
   },
   "outputs": [],
   "source": [
    "grader.check(\"q3_3\")"
   ]
  },
  {
   "cell_type": "markdown",
   "metadata": {
    "deletable": false,
    "editable": false
   },
   "source": [
    "### Question 3.4.\n",
    "\n",
    "Compute the empirical p-value for this test, and assign it to `p_value_ab`."
   ]
  },
  {
   "cell_type": "code",
   "execution_count": null,
   "metadata": {
    "execution": {
     "iopub.execute_input": "2024-01-26T21:07:03.485341Z",
     "iopub.status.busy": "2024-01-26T21:07:03.484728Z",
     "iopub.status.idle": "2024-01-26T21:07:03.489550Z",
     "shell.execute_reply": "2024-01-26T21:07:03.488931Z"
    },
    "tags": []
   },
   "outputs": [],
   "source": [
    "p_value_ab = ...\n",
    "p_value_ab"
   ]
  },
  {
   "cell_type": "code",
   "execution_count": null,
   "metadata": {
    "deletable": false,
    "editable": false
   },
   "outputs": [],
   "source": [
    "grader.check(\"q3_4\")"
   ]
  },
  {
   "cell_type": "markdown",
   "metadata": {
    "deletable": false,
    "editable": false
   },
   "source": [
    "<!-- BEGIN QUESTION -->\n",
    "\n",
    "### Question 3.5.\n",
    "\n",
    "Yanay decides to use a p-value cutoff of 1 percent. Is there sufficient evidence to reject the null hypothesis based on the empirical p-value? Why or why not, and what does that mean about Yanay's suspicion that you are more likely to pick up a spam call that is coming form an area code from an area that you've recently visited?"
   ]
  },
  {
   "cell_type": "markdown",
   "metadata": {},
   "source": [
    "_Type your answer here, replacing this text._"
   ]
  },
  {
   "cell_type": "markdown",
   "metadata": {
    "deletable": false,
    "editable": false
   },
   "source": [
    "<!-- END QUESTION -->\n",
    "\n",
    "# Submitting your work\n",
    "You're done with this assignment! Assignments should be turned in using the following best practices:\n",
    "1. Save your notebook.\n",
    "2. Restart the kernel and run all cells up to this one.\n",
    "3. Run the cell below with the code `grader.export(...)`. This will re-run all the tests. Make sure they are passing as you expect them to.\n",
    "4. Download the file named `hw06_<date-time-stamp>.zip`, found in the explorer pane on the left side of the screen. **Note**: Clicking on the link in this notebook may result in an error, it's best to download from the file explorer panel.\n",
    "5. Upload `hw06_<date-time-stamp>.zip` to the corresponding assignment on Canvas."
   ]
  },
  {
   "cell_type": "markdown",
   "metadata": {
    "deletable": false,
    "editable": false
   },
   "source": [
    "## Submission\n",
    "\n",
    "Make sure you have run all cells in your notebook in order before running the cell below, so that all images/graphs appear in the output. The cell below will generate a zip file for you to submit."
   ]
  },
  {
   "cell_type": "code",
   "execution_count": null,
   "metadata": {
    "deletable": false,
    "editable": false
   },
   "outputs": [],
   "source": [
    "grader.export(pdf=False, force_save=True)"
   ]
  },
  {
   "cell_type": "markdown",
   "metadata": {},
   "source": [
    " "
   ]
  }
 ],
 "metadata": {
  "kernelspec": {
   "display_name": "Python 3 (ipykernel)",
   "language": "python",
   "name": "python3"
  },
  "language_info": {
   "codemirror_mode": {
    "name": "ipython",
    "version": 3
   },
   "file_extension": ".py",
   "mimetype": "text/x-python",
   "name": "python",
   "nbconvert_exporter": "python",
   "pygments_lexer": "ipython3",
   "version": "3.11.5"
  },
  "otter": {
   "OK_FORMAT": true,
   "tests": {
    "q1_1": {
     "name": "q1_1",
     "points": null,
     "suites": [
      {
       "cases": [
        {
         "code": ">>> 0 <= prob_781 <= 1 and type(prob_781) == float\nTrue",
         "failure_message": "❌ `prob_781` is either not a float or it is not between 0 and 1",
         "hidden": false,
         "locked": false,
         "points": 0,
         "success_message": "✅ You assigned a float between 0 and 1 to `prob_781`"
        }
       ],
       "scored": true,
       "setup": "",
       "teardown": "",
       "type": "doctest"
      }
     ]
    },
    "q1_2": {
     "name": "q1_2",
     "points": null,
     "suites": [
      {
       "cases": [
        {
         "code": ">>> 0 <= prob_yanay_num <= 1 and type(prob_yanay_num) == float\nTrue",
         "failure_message": "❌ `prob_yanay_num` is either not a float or it is not between 0 and 1",
         "hidden": false,
         "locked": false,
         "points": 0,
         "success_message": "✅ You assigned a float between 0 and 1 to `prob_yanay_num`"
        }
       ],
       "scored": true,
       "setup": "",
       "teardown": "",
       "type": "doctest"
      }
     ]
    },
    "q1_5": {
     "name": "q1_5",
     "points": null,
     "suites": [
      {
       "cases": [
        {
         "code": ">>> type(observed_val) in [float, int, np.int64] and 0 <= observed_val <= 50\nTrue",
         "failure_message": "❌ You did not assign a float or integer value between 0 and 50 to `observed_val`",
         "hidden": false,
         "locked": false,
         "points": 0,
         "success_message": "✅ You assigned a float or integer value between 0 and 50 to `observed_val`"
        }
       ],
       "scored": true,
       "setup": "",
       "teardown": "",
       "type": "doctest"
      }
     ]
    },
    "q1_6": {
     "name": "q1_6",
     "points": null,
     "suites": [
      {
       "cases": [
        {
         "code": ">>> type(simulate()) in [float, int, np.int64]\nTrue",
         "failure_message": "❌ Your `simulate` function is not returning a float or integer. Did you use a return statemet?",
         "hidden": false,
         "locked": false,
         "points": 0,
         "success_message": "✅ The `simulate` function returns a float or integer"
        },
        {
         "code": ">>> np.std([simulate() for _ in range(1000)]) > 0\nTrue",
         "failure_message": "❌ Your `simulate` function is not returning a statistic based on a random sample. Did you use `np.random.choice`?",
         "hidden": false,
         "locked": false,
         "points": 0.5,
         "success_message": "✅ The `simulate` function is returning a statistic based on a random sample"
        }
       ],
       "scored": true,
       "setup": "",
       "teardown": "",
       "type": "doctest"
      }
     ]
    },
    "q1_7": {
     "name": "q1_7",
     "points": null,
     "suites": [
      {
       "cases": [
        {
         "code": ">>> len(test_statistics_under_null) == 20000\nTrue",
         "failure_message": "❌ The `test_statistics_under_null` array does not contain 20,000 values. Did you create an empty array and append to it each time you simulated receiving 50 spam calls?",
         "hidden": false,
         "locked": false,
         "points": 0.5,
         "success_message": "✅ The `test_statistics_under_null` array contains 20,000 values"
        },
        {
         "code": ">>> 0.05 <= np.mean(test_statistics_under_null) <= 0.07\nTrue",
         "failure_message": "❌ Your test statistics do not seem reasonable based on expected results. Check that you are creating the sample of 50 calls correctly.",
         "hidden": false,
         "locked": false,
         "points": 0.5,
         "success_message": "✅ Your test statistics seem reasonable based on expected results"
        }
       ],
       "scored": true,
       "setup": "",
       "teardown": "",
       "type": "doctest"
      }
     ]
    },
    "q1_9": {
     "name": "q1_9",
     "points": null,
     "suites": [
      {
       "cases": [
        {
         "code": ">>> 0 <= p_value < 1\nTrue",
         "hidden": false,
         "locked": false
        }
       ],
       "scored": true,
       "setup": "",
       "teardown": "",
       "type": "doctest"
      }
     ]
    },
    "q2_2": {
     "name": "q2_2",
     "points": null,
     "suites": [
      {
       "cases": [
        {
         "code": ">>> type(visited_observed_value) in [int, np.int64, float] and visited_observed_value > 1\nTrue",
         "failure_message": "❌ Your observed statistic is not an numerical value greater than 1, but it should be! Cbeck to make sure you are counting how many spam calls are from the recently visited area codes.",
         "hidden": false,
         "locked": false,
         "points": 0,
         "success_message": "✅ Your observed statistic is an numerical value greater than 1"
        }
       ],
       "scored": true,
       "setup": "",
       "teardown": "",
       "type": "doctest"
      }
     ]
    },
    "q2_3": {
     "name": "q2_3",
     "points": null,
     "suites": [
      {
       "cases": [
        {
         "code": ">>> type(simulate_visited_area_codes()) in [int, np.int64, float] and simulate_visited_area_codes() >= 0\nTrue",
         "failure_message": "❌ Your simulated statistic is not an numerical value greater than or than 0, but it should be!",
         "hidden": false,
         "locked": false,
         "points": 0,
         "success_message": "✅ Your simulated statistic is an numerical value greater than or equal to 0"
        },
        {
         "code": ">>> np.std([simulate_visited_area_codes() for _ in range(1000)]) > 0\nTrue",
         "failure_message": "❌ Your simulated statistics don't appear to be random for each simulation.",
         "hidden": false,
         "locked": false,
         "points": 0,
         "success_message": "✅ Your simulated statistics are random for each simulation."
        }
       ],
       "scored": true,
       "setup": "",
       "teardown": "",
       "type": "doctest"
      }
     ]
    },
    "q2_4": {
     "name": "q2_4",
     "points": null,
     "suites": [
      {
       "cases": [
        {
         "code": ">>> len(visited_test_statistics_under_null) == 20000\nTrue",
         "failure_message": "❌ You did not generate 20,000 simulated statistics and assign to `visited_test_statistics_under_null` as an array",
         "hidden": false,
         "locked": false,
         "points": 1,
         "success_message": "✅ You generated 20,000 simulated statistics and assigned them to `visited_test_statistics_under_null` as an array"
        }
       ],
       "scored": true,
       "setup": "",
       "teardown": "",
       "type": "doctest"
      }
     ]
    },
    "q2_6": {
     "name": "q2_6",
     "points": null,
     "suites": [
      {
       "cases": [
        {
         "code": ">>> 0 <= p_value < 1\nTrue",
         "failure_message": "❌ Your p-value is not between 0 and 1, but by definition it must be. Check your calculation!",
         "hidden": false,
         "locked": false,
         "points": 0,
         "success_message": "✅ You computed a p-value between 0 and 1, which by definition it must be. Check that you are happy with the value before moving on."
        }
       ],
       "scored": true,
       "setup": "",
       "teardown": "",
       "type": "doctest"
      }
     ]
    },
    "q2_9": {
     "name": "q2_9",
     "points": null,
     "suites": [
      {
       "cases": [
        {
         "code": ">>> type(incorrectly_accused) in [int, np.int64, float] and incorrectly_accused >= 0\nTrue",
         "failure_message": "❌ You did not compute a numerical value that is greater than or equal to 0, but the answer should be!",
         "hidden": false,
         "locked": false,
         "points": 0,
         "success_message": "✅ You computed a numerical value that is greater than or equal to 0, which the answer should be. Good job!"
        }
       ],
       "scored": true,
       "setup": "",
       "teardown": "",
       "type": "doctest"
      }
     ]
    },
    "q3_1": {
     "name": "q3_1",
     "points": null,
     "suites": [
      {
       "cases": [
        {
         "code": ">>> type(difference_in_proportion(spam_with_labels)) == float\nTrue",
         "failure_message": "❌ `difference_in_proportion` is not returning a float value for the test statistic, but it should be. Are you using a return statement?",
         "hidden": false,
         "locked": false,
         "points": 0,
         "success_message": "✅ `difference_in_proportion` is returning a float value for the test statistic"
        },
        {
         "code": ">>> np.isclose(observed_diff_proportion, 0.21904761904761905)\nTrue",
         "failure_message": "❌ `observed_diff_proportion` in proportion should be about 0.219, but it's not. Check your calculations",
         "hidden": false,
         "locked": false,
         "points": 1,
         "success_message": "✅ `observed_diff_proportion` is the correct value, about 0.219"
        }
       ],
       "scored": true,
       "setup": "",
       "teardown": "",
       "type": "doctest"
      }
     ]
    },
    "q3_2": {
     "name": "q3_2",
     "points": null,
     "suites": [
      {
       "cases": [
        {
         "code": ">>> 0.14 < np.std([simulate_one_stat(spam_with_labels) for i in range(1000)]) < 0.18 and np.abs(np.mean([simulate_one_stat(spam_with_labels) for i in range(1000)])) < 0.02\nTrue",
         "failure_message": "❌ `simulate_one_stat` does not appear to be working as expected based on the data set. Check your function",
         "hidden": false,
         "locked": false,
         "points": 1,
         "success_message": "✅ `simulate_one_stat` appears to be working as expected"
        }
       ],
       "scored": true,
       "setup": "",
       "teardown": "",
       "type": "doctest"
      }
     ]
    },
    "q3_3": {
     "name": "q3_3",
     "points": null,
     "suites": [
      {
       "cases": [
        {
         "code": ">>> len(test_stats) == 1000\nTrue",
         "failure_message": "❌ `test_stats` does not contain 1,000 test statistics",
         "hidden": false,
         "locked": false,
         "points": 0,
         "success_message": "✅ `test_stats` contains 1,000 test statistics"
        }
       ],
       "scored": true,
       "setup": "",
       "teardown": "",
       "type": "doctest"
      }
     ]
    },
    "q3_4": {
     "name": "q3_4",
     "points": null,
     "suites": [
      {
       "cases": [
        {
         "code": ">>> 0 <= p_value_ab <= 1\nTrue",
         "failure_message": "❌ `p_value_ab` is not between 0 and 1, but by definition is must be. Check your calculation!",
         "hidden": false,
         "locked": false,
         "points": 0,
         "success_message": "✅ `p_value_ab` is between 0 and 1, which it must be by definition."
        }
       ],
       "scored": true,
       "setup": "",
       "teardown": "",
       "type": "doctest"
      }
     ]
    }
   }
  }
 },
 "nbformat": 4,
 "nbformat_minor": 4
}
