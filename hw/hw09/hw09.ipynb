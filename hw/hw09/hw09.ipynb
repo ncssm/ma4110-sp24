{
 "cells": [
  {
   "cell_type": "code",
   "execution_count": null,
   "metadata": {
    "deletable": false,
    "editable": false
   },
   "outputs": [],
   "source": [
    "# Initialize Otter\n",
    "import otter\n",
    "grader = otter.Notebook(\"hw09.ipynb\")"
   ]
  },
  {
   "cell_type": "markdown",
   "metadata": {},
   "source": [
    "# Homework 09: Classification"
   ]
  },
  {
   "cell_type": "markdown",
   "metadata": {},
   "source": [
    "**Reading**: \n",
    "\n",
    "* [Classification](https://inferentialthinking.com/chapters/17/Classification.html)"
   ]
  },
  {
   "cell_type": "markdown",
   "metadata": {},
   "source": [
    "For all problems that you must write explanations and sentences for, you **must** provide your answer in the designated space. Moreover, throughout this homework and all future ones, please be sure to not re-assign variables throughout the notebook! For example, if you use `max_temperature` in your answer to one question, do not reassign it later on. Otherwise, you will fail tests that you thought you were passing previously!\n",
    "\n",
    "**Note: This homework has hidden tests on it. Additional tests will be run once your homework is submitted for grading. While you may pass all the tests you have access to before submission, you may not earn full credit if you do not pass the hidden tests as well.**. \n",
    "\n",
    "Many of the tests you have access to before submitting only test to ensure you have given an answer that is formatted correctly and/or you have given an answer that *could* make sense in context. For example, a test you have access to while completing the assignment may check that you selected a valid choice for a multiple choice problem (1, 2, or 3) or that your answer is an integer between 0 and 50 if asked to count a subset of states in the United States. The tests that are run after submission will evaluate your work for accuracy. **Do not assume that just because all your tests pass before submission means that your answers are correct!**\n",
    "\n",
    "Consult with your teacher and course syllabus for information and policies regarding appropriate collaboration with other students, appropriate use of AI tools, and submission of late work."
   ]
  },
  {
   "cell_type": "code",
   "execution_count": null,
   "metadata": {
    "execution": {
     "iopub.execute_input": "2024-01-26T21:08:14.627577Z",
     "iopub.status.busy": "2024-01-26T21:08:14.627298Z",
     "iopub.status.idle": "2024-01-26T21:08:16.388169Z",
     "shell.execute_reply": "2024-01-26T21:08:16.387180Z"
    }
   },
   "outputs": [],
   "source": [
    "# Don't change this cell; just run it. \n",
    "\n",
    "import numpy as np\n",
    "from datascience import *\n",
    "\n",
    "# These lines do some fancy plotting magic.\n",
    "import matplotlib\n",
    "%matplotlib inline\n",
    "import matplotlib.pyplot as plt\n",
    "plt.style.use('fivethirtyeight')"
   ]
  },
  {
   "cell_type": "markdown",
   "metadata": {},
   "source": [
    "## 1. Tobacco Road Coordinates with Classification\n"
   ]
  },
  {
   "cell_type": "markdown",
   "metadata": {},
   "source": [
    "Welcome to Homework 09! This homework is about k-Nearest Neighbors classification (kNN)."
   ]
  },
  {
   "cell_type": "markdown",
   "metadata": {},
   "source": [
    "## Our Dearest Neighbors"
   ]
  },
  {
   "cell_type": "markdown",
   "metadata": {},
   "source": [
    "Carol is trying classify students as either attendees of Duke University or UNC at Chapel Hill. To classify the students, Carol has access to the coordinates of the location they live during the school year (wow, kind of creepy Carol). First, load in the `coordinates` table."
   ]
  },
  {
   "cell_type": "code",
   "execution_count": null,
   "metadata": {
    "execution": {
     "iopub.execute_input": "2024-01-26T21:08:16.392748Z",
     "iopub.status.busy": "2024-01-26T21:08:16.391980Z",
     "iopub.status.idle": "2024-01-26T21:08:16.402291Z",
     "shell.execute_reply": "2024-01-26T21:08:16.401397Z"
    }
   },
   "outputs": [],
   "source": [
    "# Just run this cell!\n",
    "coordinates = Table.read_table('coordinates_nc.csv')\n",
    "coordinates.show(5)"
   ]
  },
  {
   "cell_type": "markdown",
   "metadata": {},
   "source": [
    "As usual, let's investigate our data visually before performing any kind of numerical analysis."
   ]
  },
  {
   "cell_type": "code",
   "execution_count": null,
   "metadata": {
    "execution": {
     "iopub.execute_input": "2024-01-26T21:08:16.445981Z",
     "iopub.status.busy": "2024-01-26T21:08:16.445140Z",
     "iopub.status.idle": "2024-01-26T21:08:16.797140Z",
     "shell.execute_reply": "2024-01-26T21:08:16.796168Z"
    }
   },
   "outputs": [],
   "source": [
    "# Just run this cell!\n",
    "coordinates.scatter(\"longitude\", \"latitude\", group=\"school\")"
   ]
  },
  {
   "cell_type": "markdown",
   "metadata": {},
   "source": [
    "In this case, most people probably don't recognize how the latitude and longitude relate to real life, so we can use a mapping function to put these points onto a map."
   ]
  },
  {
   "cell_type": "code",
   "execution_count": null,
   "metadata": {
    "execution": {
     "iopub.execute_input": "2024-01-26T21:08:16.800736Z",
     "iopub.status.busy": "2024-01-26T21:08:16.800430Z",
     "iopub.status.idle": "2024-01-26T21:08:16.918223Z",
     "shell.execute_reply": "2024-01-26T21:08:16.917292Z"
    }
   },
   "outputs": [],
   "source": [
    "# Just run this cell!\n",
    "colors = {\"Duke\":\"darkblue\", \"UNC-CH\":\"cornflowerblue\"}\n",
    "t = Table().with_columns(\"lat\", coordinates.column(0), \n",
    "                                      \"lon\", coordinates.column(1), \n",
    "                                      \"color\", coordinates.apply(colors.get, 2)\n",
    "                        )\n",
    "Circle.map_table(t, area=10, fill_opacity=1)"
   ]
  },
  {
   "cell_type": "markdown",
   "metadata": {
    "deletable": false,
    "editable": false
   },
   "source": [
    "### Question 1\n",
    "\n",
    "Let's begin implementing the k-Nearest Neighbors algorithm. Define the `distance` function, which takes in two arguments: two arrays, `x_1` and `x_2`,  of numerical features. The function should return the [Euclidean distance](https://en.wikipedia.org/wiki/Euclidean_distance) between the two arrays. Euclidean distance is often referred to as the straight-line distance formula that you may have learned previously."
   ]
  },
  {
   "cell_type": "code",
   "execution_count": null,
   "metadata": {
    "execution": {
     "iopub.execute_input": "2024-01-26T21:08:16.922384Z",
     "iopub.status.busy": "2024-01-26T21:08:16.922087Z",
     "iopub.status.idle": "2024-01-26T21:08:16.928628Z",
     "shell.execute_reply": "2024-01-26T21:08:16.927757Z"
    },
    "tags": []
   },
   "outputs": [],
   "source": [
    "def distance(x_1, x_2):\n",
    "    ...\n",
    "\n",
    "# Don't change/delete the code below in this cell\n",
    "distance_example = distance(make_array(1, 2, 3), make_array(4, 5, 6))\n",
    "distance_example"
   ]
  },
  {
   "cell_type": "code",
   "execution_count": null,
   "metadata": {
    "deletable": false,
    "editable": false
   },
   "outputs": [],
   "source": [
    "grader.check(\"q1_1\")"
   ]
  },
  {
   "cell_type": "markdown",
   "metadata": {},
   "source": [
    "### Splitting the dataset\n",
    "We'll do 2 different kinds of things with the `coordinates` dataset:\n",
    "1. We'll build a classifier using coordinates for which we know the associated label; this will teach it to recognize labels of similar coordinate values. This process is known as *training*.\n",
    "2. We'll evaluate or *test* the accuracy of the classifier we build on data we haven't seen before.\n",
    "\n",
    "For reasons discussed in class and the textbook, we want to use separate datasets for these two purposes.  So we split up our one dataset into two."
   ]
  },
  {
   "cell_type": "markdown",
   "metadata": {
    "deletable": false,
    "editable": false
   },
   "source": [
    "### Question 2\n",
    "\n",
    "Next, let's split our dataset into a training set and a test set. Since `coordinates` has 84 rows, let's create a training set with the first 63 rows (75% of the data) and a test set with the remaining 21 rows (25% of the data). Remember that assignment to each group should be random, so you should shuffle the table **first** (save it to `shuffled_table`), then select 63 rows for the training set and 21 rows for the testing set using the `.take()` table method with `np.arange` to specify which rows go into each set.\n"
   ]
  },
  {
   "cell_type": "code",
   "execution_count": null,
   "metadata": {
    "execution": {
     "iopub.execute_input": "2024-01-26T21:08:16.972393Z",
     "iopub.status.busy": "2024-01-26T21:08:16.958076Z",
     "iopub.status.idle": "2024-01-26T21:08:16.982692Z",
     "shell.execute_reply": "2024-01-26T21:08:16.981904Z"
    },
    "tags": []
   },
   "outputs": [],
   "source": [
    "shuffled_table = ...\n",
    "train = ...\n",
    "test = ...\n",
    "\n",
    "# DON'T CHANGE THE CODE BELOW\n",
    "print(\"Training set:\\t\",   train.num_rows, \"examples\")\n",
    "train.show(5)\n",
    "\n",
    "print(\"Test set:\\t\",       test.num_rows, \"examples\")\n",
    "test.show(5);"
   ]
  },
  {
   "cell_type": "code",
   "execution_count": null,
   "metadata": {
    "deletable": false,
    "editable": false
   },
   "outputs": [],
   "source": [
    "grader.check(\"q1_2\")"
   ]
  },
  {
   "cell_type": "markdown",
   "metadata": {
    "deletable": false,
    "editable": false
   },
   "source": [
    "### Question 3\n",
    "\n",
    "Assign `features` to an array of the labels of the *features* from the `coordinates` table.\n",
    "\n",
    "**Hint:** Which of the column labels in the `coordinates` table are the features, and which of the column labels correspond to the class we're trying to predict?"
   ]
  },
  {
   "cell_type": "code",
   "execution_count": null,
   "metadata": {
    "execution": {
     "iopub.execute_input": "2024-01-26T21:08:17.010626Z",
     "iopub.status.busy": "2024-01-26T21:08:17.010338Z",
     "iopub.status.idle": "2024-01-26T21:08:17.015723Z",
     "shell.execute_reply": "2024-01-26T21:08:17.014889Z"
    },
    "tags": []
   },
   "outputs": [],
   "source": [
    "features = ...\n",
    "features"
   ]
  },
  {
   "cell_type": "code",
   "execution_count": null,
   "metadata": {
    "deletable": false,
    "editable": false
   },
   "outputs": [],
   "source": [
    "grader.check(\"q1_3\")"
   ]
  },
  {
   "cell_type": "markdown",
   "metadata": {
    "deletable": false,
    "editable": false
   },
   "source": [
    "### `row_to_array`\n",
    "\n",
    "The function `row_to_array` will convert a `row` from a Table to an array that contains the features for that row. This will allow you to use array operations on the feature array in a way that you can't do easily with a `row` object. Run the cell below to load the function, which you'll use in the next question."
   ]
  },
  {
   "cell_type": "code",
   "execution_count": null,
   "metadata": {
    "deletable": false,
    "editable": false,
    "execution": {
     "iopub.execute_input": "2024-01-26T21:08:17.027370Z",
     "iopub.status.busy": "2024-01-26T21:08:17.027110Z",
     "iopub.status.idle": "2024-01-26T21:08:17.031330Z",
     "shell.execute_reply": "2024-01-26T21:08:17.030490Z"
    }
   },
   "outputs": [],
   "source": [
    "def row_to_array(row, features):\n",
    "    arr = make_array()\n",
    "    for feature in features:\n",
    "        arr = np.append(arr, row.item(feature))\n",
    "    return arr"
   ]
  },
  {
   "cell_type": "markdown",
   "metadata": {
    "deletable": false,
    "editable": false
   },
   "source": [
    "### Question 4\n",
    "\n",
    "Now define the `classify` function. This function should take in a `row` from a table like `test` and classify it based on the data in `train` using the `k`-Nearest Neighbors based on the correct `features`. There's a good bit of code provided for you, so just finish the lines of code that are unfinished.\n",
    "\n",
    "**Hint:** the skeleton code we provided iterates through each row in the training set."
   ]
  },
  {
   "cell_type": "code",
   "execution_count": null,
   "metadata": {
    "execution": {
     "iopub.execute_input": "2024-01-26T21:08:17.034641Z",
     "iopub.status.busy": "2024-01-26T21:08:17.034093Z",
     "iopub.status.idle": "2024-01-26T21:08:17.075057Z",
     "shell.execute_reply": "2024-01-26T21:08:17.074167Z"
    },
    "tags": []
   },
   "outputs": [],
   "source": [
    "def classify(row, k, train):\n",
    "    test_row_features_array = row_to_array(row, features)\n",
    "    distances = make_array()\n",
    "    for train_row in train.rows:\n",
    "        train_row_features_array = ...\n",
    "        row_distance = ...\n",
    "        distances = ...\n",
    "    train_with_distances = ...\n",
    "    nearest_neighbors = train_with_distances.sort('Distances').take(np.arange(k))\n",
    "    most_common_label = ...\n",
    "    ...\n",
    "\n",
    "# The code below will attempt to classify the first row in your \n",
    "# test dataset using a 5 nearest neighbors classifier\n",
    "first_test = classify(test.row(0), 5, train)\n",
    "first_test"
   ]
  },
  {
   "cell_type": "code",
   "execution_count": null,
   "metadata": {
    "deletable": false,
    "editable": false
   },
   "outputs": [],
   "source": [
    "grader.check(\"q1_4\")"
   ]
  },
  {
   "cell_type": "markdown",
   "metadata": {
    "deletable": false,
    "editable": false
   },
   "source": [
    "### Question 5\n",
    "\n",
    "The function `three_classify` takes in a `row` from `test` as an argument and classifies the row using a 3-Nearest Neighbors classifier. We define this function so we can use the `apply` method to quickly classify all the rows we have in the testing data set. We can then compare the prediction from the classifier to the known label for each row to get an idea of how accurate our classifier is on the test data. \n",
    "\n",
    "You should:\n",
    "* Use the `apply` method on the `test` Table to create a table `test_with_prediction` that contains a new column labled `\"prediction\"` that contains the predicted value for that location\n",
    "* Create an array `labels_correct` that contains either `True` or `False` if the prediction was correct or incorrect respectively for each row in the Table `test_with_prediction`.\n",
    "* Compute the accuracy of your model as a proportion (not a percentage) of the schools that were correctly predicted, assigned to `accuracy`."
   ]
  },
  {
   "cell_type": "code",
   "execution_count": null,
   "metadata": {
    "execution": {
     "iopub.execute_input": "2024-01-26T21:08:17.101191Z",
     "iopub.status.busy": "2024-01-26T21:08:17.100907Z",
     "iopub.status.idle": "2024-01-26T21:08:17.178877Z",
     "shell.execute_reply": "2024-01-26T21:08:17.177954Z"
    },
    "tags": []
   },
   "outputs": [],
   "source": [
    "def three_classify(row):\n",
    "    return classify(row, 3, train)\n",
    "\n",
    "test_with_prediction = ...\n",
    "labels_correct = ...\n",
    "accuracy = ...\n",
    "accuracy"
   ]
  },
  {
   "cell_type": "code",
   "execution_count": null,
   "metadata": {
    "deletable": false,
    "editable": false
   },
   "outputs": [],
   "source": [
    "grader.check(\"q1_5\")"
   ]
  },
  {
   "cell_type": "markdown",
   "metadata": {
    "deletable": false,
    "editable": false
   },
   "source": [
    "<!-- BEGIN QUESTION -->\n",
    "\n",
    "### Question 6\n",
    "\n",
    "Suppose you work at the leasing office for an apartment building located at the GPS coordinates 35.95979476700251, -78.9870877612551 and a student is moving in. The cell below will create a table `new_student` with these coordinates as the only row.\n",
    "\n",
    "Use your 3-Nearest Neighbor classifier to predict the school they attend."
   ]
  },
  {
   "cell_type": "code",
   "execution_count": null,
   "metadata": {
    "deletable": false,
    "editable": false,
    "execution": {
     "iopub.execute_input": "2024-01-26T21:08:17.251732Z",
     "iopub.status.busy": "2024-01-26T21:08:17.251462Z",
     "iopub.status.idle": "2024-01-26T21:08:17.272287Z",
     "shell.execute_reply": "2024-01-26T21:08:17.256468Z"
    }
   },
   "outputs": [],
   "source": [
    "new_student = Table().with_columns('latitude', make_array(35.95979476700251), 'longitude', make_array(-78.9870877612551))\n",
    "new_student"
   ]
  },
  {
   "cell_type": "code",
   "execution_count": null,
   "metadata": {
    "execution": {
     "iopub.execute_input": "2024-01-26T21:08:17.276005Z",
     "iopub.status.busy": "2024-01-26T21:08:17.275725Z",
     "iopub.status.idle": "2024-01-26T21:08:17.285748Z",
     "shell.execute_reply": "2024-01-26T21:08:17.284906Z"
    },
    "tags": []
   },
   "outputs": [],
   "source": [
    "# Write your code below\n",
    "..."
   ]
  },
  {
   "cell_type": "markdown",
   "metadata": {
    "deletable": false,
    "editable": false
   },
   "source": [
    "<!-- END QUESTION -->\n",
    "\n",
    "### Question 7\n",
    "\n",
    "There are 45 rows of Duke students and 39 rows of UNC-CH students in the `coordinates` table. If we used the entire `coordinates` table as the train set, what is the smallest value of k that would ensure that a k-Nearest Neighbor classifier would always predict Duke as the school? Assign the value to `k`. The test on this question will only verify your answer is formatted correctly, it will not check it for accuracy. \n"
   ]
  },
  {
   "cell_type": "code",
   "execution_count": null,
   "metadata": {
    "execution": {
     "iopub.execute_input": "2024-01-26T21:08:17.289135Z",
     "iopub.status.busy": "2024-01-26T21:08:17.288864Z",
     "iopub.status.idle": "2024-01-26T21:08:17.293777Z",
     "shell.execute_reply": "2024-01-26T21:08:17.292962Z"
    },
    "tags": []
   },
   "outputs": [],
   "source": [
    "k = ...\n",
    "k"
   ]
  },
  {
   "cell_type": "code",
   "execution_count": null,
   "metadata": {
    "deletable": false,
    "editable": false
   },
   "outputs": [],
   "source": [
    "grader.check(\"q1_7\")"
   ]
  },
  {
   "cell_type": "markdown",
   "metadata": {
    "deletable": false,
    "editable": false
   },
   "source": [
    "<!-- BEGIN QUESTION -->\n",
    "\n",
    "### Question 8\n",
    "\n",
    "Why do we divide our data into a training and test set instead of using all the data to train the model?\n",
    "\n"
   ]
  },
  {
   "cell_type": "markdown",
   "metadata": {},
   "source": [
    "_Type your answer here, replacing this text._"
   ]
  },
  {
   "cell_type": "markdown",
   "metadata": {
    "deletable": false,
    "editable": false
   },
   "source": [
    "<!-- END QUESTION -->\n",
    "\n",
    "<!-- BEGIN QUESTION -->\n",
    "\n",
    "### Question 9\n",
    "\n",
    "Why do we use an odd-numbered `k` in k-NN? Explain.\n",
    "\n"
   ]
  },
  {
   "cell_type": "markdown",
   "metadata": {},
   "source": [
    "_Type your answer here, replacing this text._"
   ]
  },
  {
   "cell_type": "markdown",
   "metadata": {
    "deletable": false,
    "editable": false
   },
   "source": [
    "<!-- END QUESTION -->\n",
    "\n",
    "# Submitting your work\n",
    "You're done with this assignment! Assignments should be turned in using the following best practices:\n",
    "1. Save your notebook.\n",
    "2. Restart the kernel and run all cells up to this one.\n",
    "3. Run the cell below with the code `grader.export(...)`. This will re-run all the tests. Make sure they are passing as you expect them to.\n",
    "4. Download the file named `hw08_<date-time-stamp>.zip`, found in the explorer pane on the left side of the screen. **Note**: Clicking on the link in this notebook may result in an error, it's best to download from the file explorer panel.\n",
    "5. Upload `hw08_<date-time-stamp>.zip` to the corresponding assignment on Canvas."
   ]
  },
  {
   "cell_type": "markdown",
   "metadata": {
    "deletable": false,
    "editable": false
   },
   "source": [
    "## Submission\n",
    "\n",
    "Make sure you have run all cells in your notebook in order before running the cell below, so that all images/graphs appear in the output. The cell below will generate a zip file for you to submit."
   ]
  },
  {
   "cell_type": "code",
   "execution_count": null,
   "metadata": {
    "deletable": false,
    "editable": false
   },
   "outputs": [],
   "source": [
    "grader.export(pdf=False, force_save=True)"
   ]
  },
  {
   "cell_type": "markdown",
   "metadata": {},
   "source": [
    " "
   ]
  }
 ],
 "metadata": {
  "kernelspec": {
   "display_name": "Python 3 (ipykernel)",
   "language": "python",
   "name": "python3"
  },
  "language_info": {
   "codemirror_mode": {
    "name": "ipython",
    "version": 3
   },
   "file_extension": ".py",
   "mimetype": "text/x-python",
   "name": "python",
   "nbconvert_exporter": "python",
   "pygments_lexer": "ipython3",
   "version": "3.11.5"
  },
  "otter": {
   "OK_FORMAT": true,
   "tests": {
    "q1_1": {
     "name": "q1_1",
     "points": null,
     "suites": [
      {
       "cases": [
        {
         "code": ">>> type(distance(make_array(1, 2, 3), make_array(4, 5, 6))) in set([float, np.float32, np.float64])\nTrue",
         "failure_message": "❌ `distance` does not return a float",
         "hidden": false,
         "locked": false,
         "points": 0.25,
         "success_message": "✅ `distance` returns a float"
        },
        {
         "code": ">>> np.isclose(distance(make_array(1, 2, 3), make_array(4, 5, 6)), 5.196152422706632)\nTrue",
         "failure_message": "❌ `distance` does not return the correct distance for the example case",
         "hidden": false,
         "locked": false,
         "points": 0.25,
         "success_message": "✅ `distance` returns the correct distance for the example case"
        }
       ],
       "scored": true,
       "setup": "",
       "teardown": "",
       "type": "doctest"
      }
     ]
    },
    "q1_2": {
     "name": "q1_2",
     "points": null,
     "suites": [
      {
       "cases": [
        {
         "code": ">>> train.num_rows == 63\nTrue",
         "failure_message": "❌ `train` does not have the correct number of rows",
         "hidden": false,
         "locked": false,
         "points": 0.25,
         "success_message": "✅ `train` has the correct number of rows"
        },
        {
         "code": ">>> test.num_rows == 21\nTrue",
         "failure_message": "❌ `test` does not have the correct number of rows",
         "hidden": false,
         "locked": false,
         "points": 0.25,
         "success_message": "✅ `test` has the correct number of rows"
        },
        {
         "code": ">>> train.num_rows + test.num_rows == coordinates.num_rows\nTrue",
         "failure_message": "❌ The total number of rows in `train` and `test` do not sum to the number of rows in the dataset",
         "hidden": false,
         "locked": false,
         "points": 0.5,
         "success_message": "✅ The total number of rows in `train` and `test` sum to the number of rows in the dataset"
        }
       ],
       "scored": true,
       "setup": "",
       "teardown": "",
       "type": "doctest"
      }
     ]
    },
    "q1_3": {
     "name": "q1_3",
     "points": null,
     "suites": [
      {
       "cases": [
        {
         "code": ">>> sorted(features) == ['latitude', 'longitude']\nTrue",
         "failure_message": "❌ You do not have all the features, or, you included a label that is not a feature",
         "hidden": false,
         "locked": false,
         "points": 1,
         "success_message": "✅ You successfully selected the features from dataset"
        }
       ],
       "scored": true,
       "setup": "",
       "teardown": "",
       "type": "doctest"
      }
     ]
    },
    "q1_4": {
     "name": "q1_4",
     "points": null,
     "suites": [
      {
       "cases": [
        {
         "code": ">>> type(first_test) == str\nTrue",
         "failure_message": "❌ `first_test` does not contain a string for the predicted value",
         "hidden": false,
         "locked": false,
         "points": 0.5,
         "success_message": "✅ `first_test` contains a string for the predicted value"
        },
        {
         "code": ">>> sorted_coordinates = coordinates.sort('school')\n>>> classify(sorted_coordinates.row(82), 3, sorted_coordinates.take(np.arange(50, 84))) == 'UNC-CH'\nTrue",
         "failure_message": "❌ Your model is not predicted a test case correctly",
         "hidden": false,
         "locked": false,
         "points": 0.5,
         "success_message": "✅ It looks like your model is predicting a test case correctly"
        }
       ],
       "scored": true,
       "setup": "",
       "teardown": "",
       "type": "doctest"
      }
     ]
    },
    "q1_5": {
     "name": "q1_5",
     "points": null,
     "suites": [
      {
       "cases": [
        {
         "code": ">>> 0.8 <= accuracy <= 1\nTrue",
         "failure_message": "❌ `accuracy` is not above 80 percent, so something is likely incorrect",
         "hidden": false,
         "locked": false,
         "points": 0.25,
         "success_message": "✅ `accuracy` is above 80 percent"
        }
       ],
       "scored": true,
       "setup": "",
       "teardown": "",
       "type": "doctest"
      }
     ]
    },
    "q1_7": {
     "name": "q1_7",
     "points": null,
     "suites": [
      {
       "cases": [
        {
         "code": ">>> type(k) == int\nTrue",
         "failure_message": "❌ `k` is not an integer",
         "hidden": false,
         "locked": false,
         "points": 0,
         "success_message": "✅ `k` is an integer"
        }
       ],
       "scored": true,
       "setup": "",
       "teardown": "",
       "type": "doctest"
      }
     ]
    }
   }
  }
 },
 "nbformat": 4,
 "nbformat_minor": 4
}
