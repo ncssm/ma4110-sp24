{
 "cells": [
  {
   "cell_type": "code",
   "execution_count": null,
   "metadata": {
    "deletable": false,
    "editable": false
   },
   "outputs": [],
   "source": [
    "# Initialize Otter\n",
    "import otter\n",
    "grader = otter.Notebook(\"hw02.ipynb\")"
   ]
  },
  {
   "cell_type": "markdown",
   "metadata": {},
   "source": [
    "# Homework 02: Arrays and Tables\n",
    "\n",
    "Please complete this notebook by filling in the cells provided. Before you begin, execute the following cell to load the provided tests."
   ]
  },
  {
   "cell_type": "code",
   "execution_count": null,
   "metadata": {
    "execution": {
     "iopub.execute_input": "2024-01-26T21:06:21.615385Z",
     "iopub.status.busy": "2024-01-26T21:06:21.615091Z",
     "iopub.status.idle": "2024-01-26T21:06:23.472684Z",
     "shell.execute_reply": "2024-01-26T21:06:23.471803Z"
    }
   },
   "outputs": [],
   "source": [
    "# Don't change this cell; just run it. \n",
    "# When you log-in please hit return (not shift + return) after typing in your email\n",
    "import numpy as np\n",
    "from datascience import *"
   ]
  },
  {
   "cell_type": "markdown",
   "metadata": {},
   "source": [
    "**Helpful Resource:**\n",
    "- [Python Reference](http://data8.org/sp22/python-reference.html): Cheat sheet of helpful array & table methods used in this course.\n",
    "\n",
    "**Recommended Reading:**\n",
    "- [What is Data Science](http://www.inferentialthinking.com/chapters/01/what-is-data-science.html)\n",
    "- [Causality and Experiments](http://www.inferentialthinking.com/chapters/02/causality-and-experiments.html) \n",
    "- [Programming in Python](http://www.inferentialthinking.com/chapters/03/programming-in-python.html)\n",
    "\n",
    "For all problems that you must write explanations and sentences for, you **must** provide your answer in the designated space. Moreover, throughout this homework and all future ones, please be sure to not re-assign variables throughout the notebook! For example, if you use `max_temperature` in your answer to one question, do not reassign it later on. Otherwise, you will fail tests that you thought you were passing previously!\n",
    "\n",
    "**Note: This homework has hidden tests on it. Additional tests will be run once your homework is submitted for grading. While you may pass all the tests you have access to before submission, you may not earn full credit if you do not pass the hidden tests as well.**. \n",
    "\n",
    "Many of the tests you have access to before submitting only test to ensure you have given an answer that is formatted correctly and/or you have given an answer that *could* make sense in context. For example, a test you have access to while completing the assignment may check that you selected a valid choice for a multiple choice problem (1, 2, or 3) or that your answer is an integer between 0 and 50 if asked to count a subset of states in the United States. The tests that are run after submission will evaluate your work for accuracy. **Do not assume that just because all your tests pass before submission means that your answers are correct!**\n",
    "\n",
    "Consult with your teacher and course syllabus for information and policies regarding appropriate collaboration with other students, appropriate use of AI tools, and submission of late work."
   ]
  },
  {
   "cell_type": "markdown",
   "metadata": {},
   "source": [
    "## 1. Creating Arrays"
   ]
  },
  {
   "cell_type": "markdown",
   "metadata": {
    "deletable": false,
    "editable": false
   },
   "source": [
    "#### Question 1.1.\n",
    "Make an **array** called `weird_numbers` containing the following numbers (in the given order):\n",
    "\n",
    "1. $-2$\n",
    "2. $\\sin(12)$\n",
    "3. $3$\n",
    "4. $5^{\\cos(12)}$\n",
    "\n",
    "**Hint:** `sin` and `cos` are functions in the `math` module. Importing modules is covered in a previous lab! You should import the module in your solution cell below.\n",
    "\n",
    "*Note:* You may be familiar with Python lists if you've worked with Python before. If you have, please note that Python lists are different and behave differently than `numpy` arrays. In this course, we use `numpy` arrays, so please make an **array**, not a Python list. If you've never heard of Python lists before, feel free to ignore this message!"
   ]
  },
  {
   "cell_type": "code",
   "execution_count": null,
   "metadata": {
    "execution": {
     "iopub.execute_input": "2024-01-26T21:06:23.476981Z",
     "iopub.status.busy": "2024-01-26T21:06:23.476557Z",
     "iopub.status.idle": "2024-01-26T21:06:23.485003Z",
     "shell.execute_reply": "2024-01-26T21:06:23.484286Z"
    },
    "tags": []
   },
   "outputs": [],
   "source": [
    "# Our solution involved one extra line of code before creating\n",
    "# weird_numbers.\n",
    "...\n",
    "weird_numbers = ...\n",
    "weird_numbers"
   ]
  },
  {
   "cell_type": "code",
   "execution_count": null,
   "metadata": {
    "deletable": false,
    "editable": false
   },
   "outputs": [],
   "source": [
    "grader.check(\"q1_1\")"
   ]
  },
  {
   "cell_type": "markdown",
   "metadata": {
    "deletable": false,
    "editable": false
   },
   "source": [
    "#### Question 1.2.\n",
    "Make an array called `book_title_words` containing the following three strings: \"Eats\", \"Shoots\", and \"and Leaves\"."
   ]
  },
  {
   "cell_type": "code",
   "execution_count": null,
   "metadata": {
    "execution": {
     "iopub.execute_input": "2024-01-26T21:06:23.552261Z",
     "iopub.status.busy": "2024-01-26T21:06:23.551787Z",
     "iopub.status.idle": "2024-01-26T21:06:23.556677Z",
     "shell.execute_reply": "2024-01-26T21:06:23.556041Z"
    },
    "tags": []
   },
   "outputs": [],
   "source": [
    "book_title_words = ...\n",
    "book_title_words"
   ]
  },
  {
   "cell_type": "code",
   "execution_count": null,
   "metadata": {
    "deletable": false,
    "editable": false
   },
   "outputs": [],
   "source": [
    "grader.check(\"q1_2\")"
   ]
  },
  {
   "cell_type": "markdown",
   "metadata": {},
   "source": [
    "### `join`\n",
    "All strings in Python have a built-in method called `join`.  The `join` method takes one argument as an input, an array of strings. The join method returns a single string as an output. The output string of `a_string.join(an_array)` is a single string that's the [concatenation](https://en.wikipedia.org/wiki/Concatenation) (\"putting together\") of all the strings in `an_array`, with `a_string`  inserted in between each string from the array. Run the cell below to see it in action:"
   ]
  },
  {
   "cell_type": "code",
   "execution_count": null,
   "metadata": {
    "execution": {
     "iopub.execute_input": "2024-01-26T21:06:23.610458Z",
     "iopub.status.busy": "2024-01-26T21:06:23.610219Z",
     "iopub.status.idle": "2024-01-26T21:06:23.615157Z",
     "shell.execute_reply": "2024-01-26T21:06:23.614557Z"
    }
   },
   "outputs": [],
   "source": [
    "area_code = '828'\n",
    "prefix = '347'\n",
    "line_number = '9100'\n",
    "\n",
    "phone_number = '-'.join(make_array(area_code, prefix, line_number))\n",
    "phone_number"
   ]
  },
  {
   "cell_type": "markdown",
   "metadata": {},
   "source": [
    "Notice how the single dash, `-`, was inserted between each of the three strings contained in the array to generate the phone number for the NCSSM-Morganton front desk."
   ]
  },
  {
   "cell_type": "markdown",
   "metadata": {
    "deletable": false,
    "editable": false
   },
   "source": [
    "#### Question 1.3. \n",
    "Use the array `book_title_words` from the previous question and the method `join` to make two different strings:\n",
    "\n",
    "1. \"Eats, Shoots, and Leaves\" (call this one `with_commas`)\n",
    "2. \"Eats Shoots and Leaves\" (call this one `without_commas`)"
   ]
  },
  {
   "cell_type": "code",
   "execution_count": null,
   "metadata": {
    "execution": {
     "iopub.execute_input": "2024-01-26T21:06:23.618285Z",
     "iopub.status.busy": "2024-01-26T21:06:23.618041Z",
     "iopub.status.idle": "2024-01-26T21:06:23.622351Z",
     "shell.execute_reply": "2024-01-26T21:06:23.621745Z"
    },
    "tags": []
   },
   "outputs": [],
   "source": [
    "with_commas = ...\n",
    "without_commas = ...\n",
    "\n",
    "print('with commas: ', with_commas)\n",
    "print('without commas: ', without_commas)"
   ]
  },
  {
   "cell_type": "code",
   "execution_count": null,
   "metadata": {
    "deletable": false,
    "editable": false
   },
   "outputs": [],
   "source": [
    "grader.check(\"q1_3\")"
   ]
  },
  {
   "cell_type": "markdown",
   "metadata": {},
   "source": [
    "## 2. Indexing Arrays\n",
    "\n",
    "These exercises give you practice accessing individual elements of arrays.  In Python (and in many programming languages), elements are accessed by *index*, and  the first element is at index `0`.\n",
    "\n",
    "***Note:* If you have previous coding experience, you may be familiar with bracket notation. DO NOT use bracket notation when indexing (i.e. `arr[0]`), as this can yield different data type outputs than what we will be expecting. This can cause you to fail an autograder test.**\n",
    "\n",
    "Be sure to refer to the [Python Reference](http://data8.org/sp22/python-reference.html) on the website if you feel stuck!"
   ]
  },
  {
   "cell_type": "markdown",
   "metadata": {
    "deletable": false,
    "editable": false
   },
   "source": [
    "#### Question 2.1.\n",
    "The cell below creates an array of some numbers.  Set `third_element` to the third element of `some_numbers` using the `item` method."
   ]
  },
  {
   "cell_type": "code",
   "execution_count": null,
   "metadata": {
    "execution": {
     "iopub.execute_input": "2024-01-26T21:06:23.705473Z",
     "iopub.status.busy": "2024-01-26T21:06:23.705237Z",
     "iopub.status.idle": "2024-01-26T21:06:23.710038Z",
     "shell.execute_reply": "2024-01-26T21:06:23.709426Z"
    },
    "tags": []
   },
   "outputs": [],
   "source": [
    "some_numbers = make_array(-1, -3, -6, -10, -15)\n",
    "\n",
    "third_element = ...\n",
    "third_element"
   ]
  },
  {
   "cell_type": "code",
   "execution_count": null,
   "metadata": {
    "deletable": false,
    "editable": false
   },
   "outputs": [],
   "source": [
    "grader.check(\"q2_1\")"
   ]
  },
  {
   "cell_type": "markdown",
   "metadata": {
    "deletable": false,
    "editable": false
   },
   "source": [
    "#### Question 2.2.\n",
    "The next cell creates a table that displays some information about the elements of `some_numbers` and their order.  Run the cell to see the partially-completed table, then fill in the missing information (the cells that say \"Ellipsis\") by assigning `blank_a`, `blank_b`, `blank_c`, and `blank_d` to the correct elements in the table.\n",
    "\n",
    "**Hint:** Replace the ... with strings or numbers to make the Table consistent with the array from the previous problem."
   ]
  },
  {
   "cell_type": "code",
   "execution_count": null,
   "metadata": {
    "execution": {
     "iopub.execute_input": "2024-01-26T21:06:23.734302Z",
     "iopub.status.busy": "2024-01-26T21:06:23.733681Z",
     "iopub.status.idle": "2024-01-26T21:06:23.739798Z",
     "shell.execute_reply": "2024-01-26T21:06:23.739177Z"
    },
    "tags": []
   },
   "outputs": [],
   "source": [
    "blank_a = ...\n",
    "blank_b = ...\n",
    "blank_c = ...\n",
    "blank_d = ...\n",
    "\n",
    "# Don't change anything below this line!\n",
    "elements_of_some_numbers = Table().with_columns(\n",
    "    \"English name for position\", make_array(\"first\", \"second\", blank_a, blank_b, \"fifth\"),\n",
    "    \"Index\",                     make_array(blank_c, 1, 2, blank_d, 4),\n",
    "    \"Element\",                   some_numbers)\n",
    "elements_of_some_numbers"
   ]
  },
  {
   "cell_type": "code",
   "execution_count": null,
   "metadata": {
    "deletable": false,
    "editable": false
   },
   "outputs": [],
   "source": [
    "grader.check(\"q2_2\")"
   ]
  },
  {
   "cell_type": "markdown",
   "metadata": {
    "deletable": false,
    "editable": false
   },
   "source": [
    "#### Question 2.3.\n",
    "You'll sometimes want to find the *last* element of an array.  Suppose an array has $142$ elements.  What is the *index* of its last element?"
   ]
  },
  {
   "cell_type": "code",
   "execution_count": null,
   "metadata": {
    "execution": {
     "iopub.execute_input": "2024-01-26T21:06:23.797710Z",
     "iopub.status.busy": "2024-01-26T21:06:23.797469Z",
     "iopub.status.idle": "2024-01-26T21:06:23.800679Z",
     "shell.execute_reply": "2024-01-26T21:06:23.800008Z"
    },
    "tags": []
   },
   "outputs": [],
   "source": [
    "index_of_last_element = ..."
   ]
  },
  {
   "cell_type": "code",
   "execution_count": null,
   "metadata": {
    "deletable": false,
    "editable": false
   },
   "outputs": [],
   "source": [
    "grader.check(\"q2_3\")"
   ]
  },
  {
   "cell_type": "markdown",
   "metadata": {},
   "source": [
    "More often than not, you don't know the number of elements in an array, also known as the array's *length*. For example, it might be a large data set you found on the Internet and aren't too familiar with. The function `len` takes a single argument, an array (or any collection of objects in Python), and returns the `len`gth of that array. The length will always be returned as an integer."
   ]
  },
  {
   "cell_type": "markdown",
   "metadata": {
    "deletable": false,
    "editable": false
   },
   "source": [
    "#### Question 2.4.\n",
    "The cell below loads a data set that contains information about deceased US presidents, starting with George Washington, and assigns it to the Table `presidents_births`. The code then selects a single column from the Table that contains information about the year of birth of each of the presidents and assigns the column data to an array called `president_birth_years`.  Recall that calling `.column(...)` on a table returns an array containing the values of the column specified, in this case the `Birth Year` column of the `president_births` table. \n",
    "\n",
    "The last element in that array is the most recent birth year of any deceased US president. Assign that year to `most_recent_birth_year`. Your solution should used both the `len(...)` and `.item(...)` functions to determine the answer, and you should not have to know the number of rows in `president_birth_years` to answer this question. Your code should be able to work no matter how big or small `president_birth_years` might be."
   ]
  },
  {
   "cell_type": "code",
   "execution_count": null,
   "metadata": {
    "execution": {
     "iopub.execute_input": "2024-01-26T21:06:23.811247Z",
     "iopub.status.busy": "2024-01-26T21:06:23.810775Z",
     "iopub.status.idle": "2024-01-26T21:06:23.821885Z",
     "shell.execute_reply": "2024-01-26T21:06:23.821274Z"
    },
    "tags": []
   },
   "outputs": [],
   "source": [
    "presidents_births = Table.read_table(\"president_births.csv\")\n",
    "president_birth_years = Table.read_table(\"president_births.csv\").column('Birth Year')\n",
    "\n",
    "most_recent_birth_year = ...\n",
    "most_recent_birth_year"
   ]
  },
  {
   "cell_type": "code",
   "execution_count": null,
   "metadata": {
    "deletable": false,
    "editable": false
   },
   "outputs": [],
   "source": [
    "grader.check(\"q2_4\")"
   ]
  },
  {
   "cell_type": "markdown",
   "metadata": {
    "deletable": false,
    "editable": false
   },
   "source": [
    "#### Question 2.5.\n",
    "Finally, assign `sum_of_birth_years` to the sum of the first, sixteenth, and last birth year in `president_birth_years`. Your solution should not include the actual years in the calculation, but rather references to the array where those years are stored."
   ]
  },
  {
   "cell_type": "code",
   "execution_count": null,
   "metadata": {
    "execution": {
     "iopub.execute_input": "2024-01-26T21:06:23.839326Z",
     "iopub.status.busy": "2024-01-26T21:06:23.839081Z",
     "iopub.status.idle": "2024-01-26T21:06:23.843498Z",
     "shell.execute_reply": "2024-01-26T21:06:23.842901Z"
    },
    "tags": []
   },
   "outputs": [],
   "source": [
    "sum_of_birth_years = ...\n",
    "sum_of_birth_years"
   ]
  },
  {
   "cell_type": "code",
   "execution_count": null,
   "metadata": {
    "deletable": false,
    "editable": false
   },
   "outputs": [],
   "source": [
    "grader.check(\"q2_5\")"
   ]
  },
  {
   "cell_type": "markdown",
   "metadata": {},
   "source": [
    "## 3. Basic Array Arithmetic"
   ]
  },
  {
   "cell_type": "markdown",
   "metadata": {
    "deletable": false,
    "editable": false
   },
   "source": [
    "#### Question 3.1.\n",
    "Multiply the numbers `10`, `-20`, `300,000,000`, and `250` by `157`. Assign each variable below such that `first_product` is assigned to the result of $10 \\cdot 157$, `second_product` is assigned to the result of $-20 \\cdot 157$, and so on. \n",
    "\n",
    "For this question, **don't** use arrays.\n",
    "\n",
    "```\n",
    "BEGIN QUESTION\n",
    "name: q3_1\n",
    "```"
   ]
  },
  {
   "cell_type": "code",
   "execution_count": null,
   "metadata": {
    "execution": {
     "iopub.execute_input": "2024-01-26T21:06:23.888580Z",
     "iopub.status.busy": "2024-01-26T21:06:23.888310Z",
     "iopub.status.idle": "2024-01-26T21:06:23.893185Z",
     "shell.execute_reply": "2024-01-26T21:06:23.892336Z"
    },
    "tags": []
   },
   "outputs": [],
   "source": [
    "first_product = ...\n",
    "second_product = ...\n",
    "third_product = ...\n",
    "fourth_product = ...\n",
    "print(first_product, second_product, third_product, fourth_product)"
   ]
  },
  {
   "cell_type": "code",
   "execution_count": null,
   "metadata": {
    "deletable": false,
    "editable": false
   },
   "outputs": [],
   "source": [
    "grader.check(\"q3_1\")"
   ]
  },
  {
   "cell_type": "markdown",
   "metadata": {
    "deletable": false,
    "editable": false
   },
   "source": [
    "#### Question 3.2.\n",
    "Now, do the same calculation, but using an array called `numbers` that contains the 4 original numbers (`10`, `-20`, `300,000,000`, and `250`) and only a single multiplication (`*`) operator.  Store the 4 results in an array named `products`."
   ]
  },
  {
   "cell_type": "code",
   "execution_count": null,
   "metadata": {
    "execution": {
     "iopub.execute_input": "2024-01-26T21:06:23.925914Z",
     "iopub.status.busy": "2024-01-26T21:06:23.925341Z",
     "iopub.status.idle": "2024-01-26T21:06:23.930205Z",
     "shell.execute_reply": "2024-01-26T21:06:23.929607Z"
    },
    "tags": []
   },
   "outputs": [],
   "source": [
    "numbers = ...\n",
    "products = ...\n",
    "products"
   ]
  },
  {
   "cell_type": "code",
   "execution_count": null,
   "metadata": {
    "deletable": false,
    "editable": false
   },
   "outputs": [],
   "source": [
    "grader.check(\"q3_2\")"
   ]
  },
  {
   "cell_type": "markdown",
   "metadata": {
    "deletable": false,
    "editable": false
   },
   "source": [
    "#### Question 3.3.\n",
    "Oops, we made a typo!  Instead of `157`, we wanted to multiply each number by `1577`. Compute the correct products in the cell below using array arithmetic. The purpose of this question is to help you realize that it's much easier to perform (and in this case, change) arithmetic on an array all at once, rather than having to do so once for each element in the array. Notice that your job is going to be really easy if you previously defined an array containing the 4 numbers."
   ]
  },
  {
   "cell_type": "code",
   "execution_count": null,
   "metadata": {
    "execution": {
     "iopub.execute_input": "2024-01-26T21:06:23.979625Z",
     "iopub.status.busy": "2024-01-26T21:06:23.979080Z",
     "iopub.status.idle": "2024-01-26T21:06:23.983743Z",
     "shell.execute_reply": "2024-01-26T21:06:23.983023Z"
    },
    "tags": []
   },
   "outputs": [],
   "source": [
    "correct_products = ...\n",
    "correct_products"
   ]
  },
  {
   "cell_type": "code",
   "execution_count": null,
   "metadata": {
    "deletable": false,
    "editable": false
   },
   "outputs": [],
   "source": [
    "grader.check(\"q3_3\")"
   ]
  },
  {
   "cell_type": "markdown",
   "metadata": {
    "deletable": false,
    "editable": false
   },
   "source": [
    "#### Question 3.4.\n",
    "We've loaded an array of temperatures in the next cell.  Each number is the highest temperature observed on a day at a climate observation station, mostly from the US.  Since they're from the US government agency [NOAA](noaa.gov), all the temperatures are in Fahrenheit.  Convert them all to Celsius by first subtracting 32 from them, then multiplying the results by $\\frac{5}{9}$. Then, after converting to Celsius **round** the each of the final calculations to the nearest integer using the `np.round` function. `np.round` works a lot like the built-in `round` function in Python, but it can operate on entire arrays."
   ]
  },
  {
   "cell_type": "code",
   "execution_count": null,
   "metadata": {
    "execution": {
     "iopub.execute_input": "2024-01-26T21:06:23.994305Z",
     "iopub.status.busy": "2024-01-26T21:06:23.994039Z",
     "iopub.status.idle": "2024-01-26T21:06:24.108145Z",
     "shell.execute_reply": "2024-01-26T21:06:24.107503Z"
    },
    "tags": []
   },
   "outputs": [],
   "source": [
    "max_temperatures = Table.read_table(\"temperatures.csv\").column(\"Daily Max Temperature\")\n",
    "\n",
    "celsius_max_temperatures = ...\n",
    "celsius_max_temperatures"
   ]
  },
  {
   "cell_type": "code",
   "execution_count": null,
   "metadata": {
    "deletable": false,
    "editable": false
   },
   "outputs": [],
   "source": [
    "grader.check(\"q3_4\")"
   ]
  },
  {
   "cell_type": "markdown",
   "metadata": {
    "deletable": false,
    "editable": false
   },
   "source": [
    "#### Question 3.5.\n",
    "The cell below loads all the *lowest* temperatures from each day in Fahrenheit. Each temperature corresponds to the same date and place the max temperatures used in the previous were recorded.\n",
    "\n",
    "Compute the size of the daily temperature range for each day. That is, compute the difference between each daily maximum temperature and the corresponding daily minimum temperature.  **Pay attention to the units, and give your answer in Celsius!** \n",
    "\n",
    "Make sure **NOT** to round your answer for this question! Note: Remember that in the previous question, `celsius_max_temperatures` was rounded, so you probably don't want to use that in this question."
   ]
  },
  {
   "cell_type": "code",
   "execution_count": null,
   "metadata": {
    "execution": {
     "iopub.execute_input": "2024-01-26T21:06:24.143665Z",
     "iopub.status.busy": "2024-01-26T21:06:24.142895Z",
     "iopub.status.idle": "2024-01-26T21:06:24.260892Z",
     "shell.execute_reply": "2024-01-26T21:06:24.260000Z"
    },
    "tags": []
   },
   "outputs": [],
   "source": [
    "min_temperatures = Table.read_table(\"temperatures.csv\").column(\"Daily Min Temperature\")\n",
    "\n",
    "celsius_temperature_ranges = ...\n",
    "celsius_temperature_ranges"
   ]
  },
  {
   "cell_type": "code",
   "execution_count": null,
   "metadata": {
    "deletable": false,
    "editable": false
   },
   "outputs": [],
   "source": [
    "grader.check(\"q3_5\")"
   ]
  },
  {
   "cell_type": "markdown",
   "metadata": {},
   "source": [
    "## 4. Old Faithful"
   ]
  },
  {
   "cell_type": "markdown",
   "metadata": {},
   "source": [
    "Old Faithful is a geyser in Yellowstone that erupts every 44 to 125 minutes (according to [Wikipedia](https://en.wikipedia.org/wiki/Old_Faithful)). People are [often told that the geyser erupts every hour](http://yellowstone.net/geysers/old-faithful/), but in fact the waiting time between eruptions is more variable. Let's take a look."
   ]
  },
  {
   "cell_type": "markdown",
   "metadata": {
    "deletable": false,
    "editable": false
   },
   "source": [
    "#### Question 4.1.\n",
    "The first line below assigns `waiting_times` to an array of 272 consecutive waiting times between eruptions, taken from a classic 1938 dataset. Assign the names `shortest`, `longest`, and `average` so that the `print` statement is correct."
   ]
  },
  {
   "cell_type": "code",
   "execution_count": null,
   "metadata": {
    "execution": {
     "iopub.execute_input": "2024-01-26T21:06:24.293169Z",
     "iopub.status.busy": "2024-01-26T21:06:24.292669Z",
     "iopub.status.idle": "2024-01-26T21:06:24.300505Z",
     "shell.execute_reply": "2024-01-26T21:06:24.299684Z"
    },
    "tags": []
   },
   "outputs": [],
   "source": [
    "waiting_times = Table.read_table('old_faithful.csv').column('waiting')\n",
    "\n",
    "shortest = ...\n",
    "longest = ...\n",
    "average = ...\n",
    "\n",
    "print(\"Old Faithful erupts every\", shortest, \"to\", longest, \"minutes and every\", average, \"minutes on average.\")"
   ]
  },
  {
   "cell_type": "code",
   "execution_count": null,
   "metadata": {
    "deletable": false,
    "editable": false
   },
   "outputs": [],
   "source": [
    "grader.check(\"q4_1\")"
   ]
  },
  {
   "cell_type": "markdown",
   "metadata": {
    "deletable": false,
    "editable": false
   },
   "source": [
    "#### Question 4.2\n",
    "Suppose you're curious about the changes between consecutive wait times for an eruption, specifically when those changes result in a shorter wait time. For example, the third eruption occurred after 74 minutes and the fourth after 62 minutes, so the decrease in waiting time was $62 - 74 = -12$ minutes, for a decrease of 12 minutes. Notice, we report the decrease as a positive number, even though the calculation resulted in a negative value.\n",
    "\n",
    "First, compute the change in all consecutive wait times, and then assign the biggest decrease in waiting time between two consecutive eruptions to `biggest_decrease`.  You'll want to use an array arithmetic function [mentioned in the textbook](https://inferentialthinking.com/chapters/05/1/Arrays.html#functions-on-arrays) called `np.diff`. The illustration below gives you a quick idea on how it works:\n",
    "\n",
    "![](array_diff.png)"
   ]
  },
  {
   "cell_type": "code",
   "execution_count": null,
   "metadata": {
    "execution": {
     "iopub.execute_input": "2024-01-26T21:06:24.331612Z",
     "iopub.status.busy": "2024-01-26T21:06:24.331398Z",
     "iopub.status.idle": "2024-01-26T21:06:24.335901Z",
     "shell.execute_reply": "2024-01-26T21:06:24.335333Z"
    },
    "tags": []
   },
   "outputs": [],
   "source": [
    "differences = ...\n",
    "biggest_decrease = ...\n",
    "biggest_decrease"
   ]
  },
  {
   "cell_type": "code",
   "execution_count": null,
   "metadata": {
    "deletable": false,
    "editable": false
   },
   "outputs": [],
   "source": [
    "grader.check(\"q4_2\")"
   ]
  },
  {
   "cell_type": "markdown",
   "metadata": {
    "deletable": false,
    "editable": false
   },
   "source": [
    "#### Question 4.3.\n",
    "The `faithful_with_eruption_nums` table contains two columns: `eruption_number`, which represents the number of that eruption, and `waiting`, which represents the time spent waiting after that eruption. \n",
    "\n",
    "For example, take the first two rows of the table:"
   ]
  },
  {
   "cell_type": "code",
   "execution_count": null,
   "metadata": {
    "deletable": false,
    "editable": false,
    "execution": {
     "iopub.execute_input": "2024-01-26T21:06:24.397538Z",
     "iopub.status.busy": "2024-01-26T21:06:24.397318Z",
     "iopub.status.idle": "2024-01-26T21:06:24.404891Z",
     "shell.execute_reply": "2024-01-26T21:06:24.404254Z"
    }
   },
   "outputs": [],
   "source": [
    "faithful = Table.read_table('old_faithful.csv').drop(\"eruptions\")\n",
    "faithful_with_eruption_nums = faithful.with_column(\"eruption number\", np.arange(faithful.num_rows) + 1).select(1, 0)\n",
    "faithful_with_eruption_nums.show(2)"
   ]
  },
  {
   "cell_type": "markdown",
   "metadata": {
    "deletable": false,
    "editable": false
   },
   "source": [
    "We can read this as follows: after the first eruption, we waited 79 minutes for the second eruption. Then, after the second eruption, we waited 54 minutes for the third eruption.\n",
    "\n",
    "Suppose Oscar and Wendy started watching Old Faithful at the start of the first eruption and they watch until the end of the tenth eruption. How many minutes will they spend waiting for eruptions?\n",
    "\n",
    "Use Table operations (like `take` or `where`) to create a subset of the Table provided and assign the table to `first_nine_waiting_times`. Then, use array operations on a column of the Table to compute and assign your answer to `total_waiting_time_until_tenth`."
   ]
  },
  {
   "cell_type": "code",
   "execution_count": null,
   "metadata": {
    "execution": {
     "iopub.execute_input": "2024-01-26T21:06:24.407701Z",
     "iopub.status.busy": "2024-01-26T21:06:24.407472Z",
     "iopub.status.idle": "2024-01-26T21:06:24.412570Z",
     "shell.execute_reply": "2024-01-26T21:06:24.411945Z"
    },
    "tags": []
   },
   "outputs": [],
   "source": [
    "first_nine_waiting_times = ...\n",
    "total_waiting_time_until_tenth = ...\n",
    "total_waiting_time_until_tenth"
   ]
  },
  {
   "cell_type": "code",
   "execution_count": null,
   "metadata": {
    "deletable": false,
    "editable": false
   },
   "outputs": [],
   "source": [
    "grader.check(\"q4_3\")"
   ]
  },
  {
   "cell_type": "markdown",
   "metadata": {
    "deletable": false,
    "editable": false
   },
   "source": [
    "#### Question 4.4.\n",
    "Let’s imagine your guess for the next wait time was always just the length of the previous waiting time. If you always guessed the previous waiting time, how big would your error in guessing the waiting times be, on average? Assign your answer to `average_error`.\n",
    "\n",
    "For example, the first four waiting times are 79, 54, 74, and 62. After the first eruption you guess the next eruption will happen after 79 minutes, but it occurs after 54 resulting in an error of $\\lvert 79 - 54 \\rvert$. For the next eruption you now guess it will take 54 minutes, but it takes 74, so the error is $\\lvert 54 - 74 \\rvert$., and so on. Therefore, the average difference between your guess and the actual time for just the second, third, and fourth eruptions would be $\\frac{\\lvert 79-54 \\rvert+ \\lvert54-74\\rvert + \\lvert 74-62 \\rvert}{3} = 19$. \n",
    "\n",
    "**Hint:** Use operations to break the process into a series of calculations performed on the entire array."
   ]
  },
  {
   "cell_type": "code",
   "execution_count": null,
   "metadata": {
    "execution": {
     "iopub.execute_input": "2024-01-26T21:06:24.436353Z",
     "iopub.status.busy": "2024-01-26T21:06:24.436135Z",
     "iopub.status.idle": "2024-01-26T21:06:24.440649Z",
     "shell.execute_reply": "2024-01-26T21:06:24.440067Z"
    },
    "tags": []
   },
   "outputs": [],
   "source": [
    "average_error = ...\n",
    "average_error"
   ]
  },
  {
   "cell_type": "code",
   "execution_count": null,
   "metadata": {
    "deletable": false,
    "editable": false
   },
   "outputs": [],
   "source": [
    "grader.check(\"q4_4\")"
   ]
  },
  {
   "cell_type": "markdown",
   "metadata": {},
   "source": [
    "## 5. Tables\n"
   ]
  },
  {
   "cell_type": "markdown",
   "metadata": {
    "deletable": false,
    "editable": false
   },
   "source": [
    "#### Question 5.1.\n",
    "Suppose you have 4 apples, 3 oranges, and 3 pineapples.  (Perhaps you're using Python to solve a high school Algebra problem.)  Create a table that contains this information.  It should have two columns: `fruit name` and `count`.  Assign the new table to the variable `fruits`.\n",
    "\n",
    "**Note:** Use lower-case and singular words for the name of each fruit, like `\"apple\"`.\n",
    "\n",
    "Your table should look like:\n",
    "\n",
    "| fruit name | count |\n",
    "|------------|-------|\n",
    "| apple      | 4     |\n",
    "| orange     | 3     |\n",
    "| pineapple  | 3     |"
   ]
  },
  {
   "cell_type": "code",
   "execution_count": null,
   "metadata": {
    "execution": {
     "iopub.execute_input": "2024-01-26T21:06:24.483525Z",
     "iopub.status.busy": "2024-01-26T21:06:24.483278Z",
     "iopub.status.idle": "2024-01-26T21:06:24.488767Z",
     "shell.execute_reply": "2024-01-26T21:06:24.488172Z"
    },
    "tags": []
   },
   "outputs": [],
   "source": [
    "# Our solution uses 1 statement split over 3 lines. You can write yours on 1 line if you wish.\n",
    "fruits = ...\n",
    "    ...\n",
    "    ...\n",
    "fruits"
   ]
  },
  {
   "cell_type": "code",
   "execution_count": null,
   "metadata": {
    "deletable": false,
    "editable": false
   },
   "outputs": [],
   "source": [
    "grader.check(\"q5_1\")"
   ]
  },
  {
   "cell_type": "markdown",
   "metadata": {
    "deletable": false,
    "editable": false
   },
   "source": [
    "#### Question 5.2.\n",
    "The file `inventory.csv` can be found in the same folder as this notebook and contains information about the inventory at a fruit stand.  Each row represents the contents of one box of fruit. Load it as a Table named `inventory` using the `Table.read_table()` function. `Table.read_table(...)` takes one argument (data file name in string format) and returns a table."
   ]
  },
  {
   "cell_type": "code",
   "execution_count": null,
   "metadata": {
    "execution": {
     "iopub.execute_input": "2024-01-26T21:06:24.521029Z",
     "iopub.status.busy": "2024-01-26T21:06:24.520785Z",
     "iopub.status.idle": "2024-01-26T21:06:24.529156Z",
     "shell.execute_reply": "2024-01-26T21:06:24.528337Z"
    },
    "tags": []
   },
   "outputs": [],
   "source": [
    "inventory = ...\n",
    "inventory"
   ]
  },
  {
   "cell_type": "code",
   "execution_count": null,
   "metadata": {
    "deletable": false,
    "editable": false
   },
   "outputs": [],
   "source": [
    "grader.check(\"q5_2\")"
   ]
  },
  {
   "cell_type": "markdown",
   "metadata": {
    "deletable": false,
    "editable": false
   },
   "source": [
    "#### Question 5.3.\n",
    "The file `sales.csv` contains the number of fruit sold from each box last Saturday.  It has an extra column called \"price per fruit (\\$)\" that's the price *per item of fruit* for fruit in that box.  The rows are in the same order as the `inventory` table.  \n",
    "\n",
    "Load these data into a table called `sales`."
   ]
  },
  {
   "cell_type": "code",
   "execution_count": null,
   "metadata": {
    "execution": {
     "iopub.execute_input": "2024-01-26T21:06:24.540707Z",
     "iopub.status.busy": "2024-01-26T21:06:24.540458Z",
     "iopub.status.idle": "2024-01-26T21:06:24.575337Z",
     "shell.execute_reply": "2024-01-26T21:06:24.574466Z"
    },
    "tags": []
   },
   "outputs": [],
   "source": [
    "sales = ...\n",
    "sales"
   ]
  },
  {
   "cell_type": "code",
   "execution_count": null,
   "metadata": {
    "deletable": false,
    "editable": false
   },
   "outputs": [],
   "source": [
    "grader.check(\"q5_3\")"
   ]
  },
  {
   "cell_type": "markdown",
   "metadata": {
    "deletable": false,
    "editable": false
   },
   "source": [
    "#### Question 5.4.\n",
    "How many fruits did the store sell in total on that day?"
   ]
  },
  {
   "cell_type": "code",
   "execution_count": null,
   "metadata": {
    "execution": {
     "iopub.execute_input": "2024-01-26T21:06:24.587441Z",
     "iopub.status.busy": "2024-01-26T21:06:24.587209Z",
     "iopub.status.idle": "2024-01-26T21:06:24.592504Z",
     "shell.execute_reply": "2024-01-26T21:06:24.591673Z"
    },
    "tags": []
   },
   "outputs": [],
   "source": [
    "total_fruits_sold = ...\n",
    "total_fruits_sold"
   ]
  },
  {
   "cell_type": "code",
   "execution_count": null,
   "metadata": {
    "deletable": false,
    "editable": false
   },
   "outputs": [],
   "source": [
    "grader.check(\"q5_4\")"
   ]
  },
  {
   "cell_type": "markdown",
   "metadata": {
    "deletable": false,
    "editable": false
   },
   "source": [
    "#### Question 5.5.\n",
    "What was the store's total revenue (the total price of all fruits sold) on that day?\n",
    "\n",
    "**Hint:** If you're stuck, think first about how you would compute the total revenue from just the grape sales."
   ]
  },
  {
   "cell_type": "code",
   "execution_count": null,
   "metadata": {
    "execution": {
     "iopub.execute_input": "2024-01-26T21:06:24.618448Z",
     "iopub.status.busy": "2024-01-26T21:06:24.618229Z",
     "iopub.status.idle": "2024-01-26T21:06:24.622691Z",
     "shell.execute_reply": "2024-01-26T21:06:24.622130Z"
    },
    "tags": []
   },
   "outputs": [],
   "source": [
    "total_revenue = ...\n",
    "total_revenue"
   ]
  },
  {
   "cell_type": "code",
   "execution_count": null,
   "metadata": {
    "deletable": false,
    "editable": false
   },
   "outputs": [],
   "source": [
    "grader.check(\"q5_5\")"
   ]
  },
  {
   "cell_type": "markdown",
   "metadata": {
    "deletable": false,
    "editable": false
   },
   "source": [
    "#### Question 5.6.\n",
    "Make a new table called `remaining_inventory`.  It should have the same rows and columns as `inventory`, except that the amount of fruit sold from each box should be subtracted from that box's **original** count, so that the `count` column is **updated to be** the amount of fruit remaining after Saturday. \n",
    "\n",
    "The provided solution spans multiple lines, but you can write yours on a single line if you prefer."
   ]
  },
  {
   "cell_type": "code",
   "execution_count": null,
   "metadata": {
    "execution": {
     "iopub.execute_input": "2024-01-26T21:06:24.639052Z",
     "iopub.status.busy": "2024-01-26T21:06:24.638838Z",
     "iopub.status.idle": "2024-01-26T21:06:24.644345Z",
     "shell.execute_reply": "2024-01-26T21:06:24.643756Z"
    },
    "tags": []
   },
   "outputs": [],
   "source": [
    "remaining_inventory = ...\n",
    "    ...\n",
    "    ...\n",
    "    ...\n",
    "remaining_inventory"
   ]
  },
  {
   "cell_type": "code",
   "execution_count": null,
   "metadata": {
    "deletable": false,
    "editable": false
   },
   "outputs": [],
   "source": [
    "grader.check(\"q5_6\")"
   ]
  },
  {
   "cell_type": "markdown",
   "metadata": {},
   "source": [
    "# Submitting your work\n",
    "You're done with this assignment! Assignments should be turned in using the following best practices:\n",
    "1. Save your notebook.\n",
    "2. Restart the kernel and run all cells up to this one.\n",
    "3. Run the cell below with the code `grader.export(...)`. This will re-run all the tests. Make sure they are passing as you expect them to.\n",
    "4. Download the file named `hw02_<date-time-stamp>.zip`, found in the explorer pane on the left side of the screen. **Note**: Clicking on the link in this notebook may result in an error, it's best to download from the file explorer panel.\n",
    "5. Upload `hw02_<date-time-stamp>.zip` to the corresponding assignment on Canvas."
   ]
  },
  {
   "cell_type": "markdown",
   "metadata": {
    "deletable": false,
    "editable": false
   },
   "source": [
    "## Submission\n",
    "\n",
    "Make sure you have run all cells in your notebook in order before running the cell below, so that all images/graphs appear in the output. The cell below will generate a zip file for you to submit."
   ]
  },
  {
   "cell_type": "code",
   "execution_count": null,
   "metadata": {
    "deletable": false,
    "editable": false
   },
   "outputs": [],
   "source": [
    "grader.export(pdf=False, force_save=True)"
   ]
  },
  {
   "cell_type": "markdown",
   "metadata": {},
   "source": [
    " "
   ]
  }
 ],
 "metadata": {
  "kernelspec": {
   "display_name": "Python 3 (ipykernel)",
   "language": "python",
   "name": "python3"
  },
  "language_info": {
   "codemirror_mode": {
    "name": "ipython",
    "version": 3
   },
   "file_extension": ".py",
   "mimetype": "text/x-python",
   "name": "python",
   "nbconvert_exporter": "python",
   "pygments_lexer": "ipython3",
   "version": "3.11.5"
  },
  "otter": {
   "OK_FORMAT": true,
   "tests": {
    "q1_1": {
     "name": "q1_1",
     "points": null,
     "suites": [
      {
       "cases": [
        {
         "code": ">>> isinstance(weird_numbers, np.ndarray)\nTrue",
         "failure_message": "❌ You did not create an array. Perhaps you created a list or another type of collection?",
         "hidden": false,
         "locked": false,
         "points": 0.25,
         "success_message": "✅ You successfully created an array."
        },
        {
         "code": ">>> len(weird_numbers)\n4",
         "failure_message": "❌ Your array does not have the correct number of elements in it.",
         "hidden": false,
         "locked": false,
         "points": 0.25,
         "success_message": "✅ Your array has the correct number of elements in it."
        }
       ],
       "scored": true,
       "setup": "",
       "teardown": "",
       "type": "doctest"
      }
     ]
    },
    "q1_2": {
     "name": "q1_2",
     "points": null,
     "suites": [
      {
       "cases": [
        {
         "code": ">>> type(book_title_words) == np.ndarray\nTrue",
         "failure_message": "❌ You did not create an array. Perhaps you created a list or another type of collection?",
         "hidden": false,
         "locked": false,
         "points": 0.25,
         "success_message": "✅ You successfully created an array."
        },
        {
         "code": ">>> len(book_title_words)\n3",
         "failure_message": "❌ Your array does not have the correct number of elements in it",
         "hidden": false,
         "locked": false,
         "points": 0.25,
         "success_message": "✅ Your array has the correct number of elements in it"
        },
        {
         "code": ">>> not any([',' in text for text in book_title_words])\nTrue",
         "failure_message": "❌ You included a comma in one of your string. You should not include the comma.",
         "hidden": false,
         "locked": false,
         "points": 0
        },
        {
         "code": ">>> 'and ' in book_title_words.item(2)\nTrue",
         "failure_message": "❌ You did not include the word and in any of the strings. Make sure the last string is \"and Leaves\", not just \"Leaves\"",
         "hidden": false,
         "locked": false,
         "points": 0
        }
       ],
       "scored": true,
       "setup": "",
       "teardown": "",
       "type": "doctest"
      }
     ]
    },
    "q1_3": {
     "name": "q1_3",
     "points": null,
     "suites": [
      {
       "cases": [
        {
         "code": ">>> ',' in with_commas\nTrue",
         "failure_message": "❌ The string `with_commas` does not have any commas in it",
         "hidden": false,
         "locked": false,
         "points": 0,
         "success_message": "✅ The string `with_commas` has at least one comma in it"
        },
        {
         "code": ">>> ',' not in without_commas\nTrue",
         "failure_message": "❌ The string `without_commas` has at least one comma in it",
         "hidden": false,
         "locked": false,
         "points": 0,
         "success_message": "✅ The string `without_commas` does not have any commas in it"
        },
        {
         "code": ">>> len(with_commas)\n24",
         "failure_message": "❌ The string `with_commas` is not the correct length",
         "hidden": false,
         "locked": false,
         "points": 0,
         "success_message": "✅ The string `with_commas` is the correct length"
        },
        {
         "code": ">>> len(without_commas)\n22",
         "failure_message": "❌ The string `without_commas` is not the correct length",
         "hidden": false,
         "locked": false,
         "points": 0,
         "success_message": "✅ The string `without_commas` is the correct length"
        }
       ],
       "scored": true,
       "setup": "",
       "teardown": "",
       "type": "doctest"
      }
     ]
    },
    "q2_1": {
     "name": "q2_1",
     "points": null,
     "suites": [
      {
       "cases": [
        {
         "code": ">>> third_element in some_numbers\nTrue",
         "failure_message": "❌ The number you assigned to `third_element` is not from the array `some_numbers`",
         "hidden": false,
         "locked": false,
         "points": 0.25,
         "success_message": "✅ The number you assigned to `third_element` is from the array `some_numbers`"
        },
        {
         "code": ">>> third_element != -10\nTrue",
         "failure_message": "❌ You incorrectly selected the element at index 3. This is the fourth element of the array.",
         "hidden": false,
         "locked": false,
         "points": 0.25,
         "success_message": "✅ You successfully did not select the element at *index* 3 (this is a common mistake)"
        }
       ],
       "scored": true,
       "setup": "",
       "teardown": "",
       "type": "doctest"
      }
     ]
    },
    "q2_2": {
     "name": "q2_2",
     "points": null,
     "suites": [
      {
       "cases": [
        {
         "code": ">>> elements_of_some_numbers.column(0).item(2).lower()\n'third'",
         "failure_message": "❌ `blank_a` is incorrect. Check your answer and the spelling. There should be no Punctuation or spaces.",
         "hidden": false,
         "locked": false,
         "points": 0.25,
         "success_message": "✅ `blank_a` is correct"
        },
        {
         "code": ">>> elements_of_some_numbers.column(0).item(3).lower()\n'fourth'",
         "failure_message": "❌ `blank_b` is incorrect. Check your answer and the spelling. There should be no Punctuation or spaces.",
         "hidden": false,
         "locked": false,
         "points": 0.25,
         "success_message": "✅ `blank_b` is correct"
        },
        {
         "code": ">>> elements_of_some_numbers.column(1).item(0)\n0",
         "failure_message": "❌ `blank_c` is incorrect. Check your answer and the spelling. There should be no Punctuation or spaces.",
         "hidden": false,
         "locked": false,
         "points": 0.25,
         "success_message": "✅ `blank_c` is correct"
        },
        {
         "code": ">>> elements_of_some_numbers.column(1).item(3)\n3",
         "failure_message": "❌ `blank_d` is incorrect. Check your answer and the spelling. There should be no Punctuation or spaces.",
         "hidden": false,
         "locked": false,
         "points": 0.25,
         "success_message": "✅ `blank_d` is correct"
        }
       ],
       "scored": true,
       "setup": "",
       "teardown": "",
       "type": "doctest"
      }
     ]
    },
    "q2_3": {
     "name": "q2_3",
     "points": null,
     "suites": [
      {
       "cases": [
        {
         "code": ">>> index_of_last_element\n141",
         "failure_message": "❌ You incorrectly determined the index. Don't forget, indexing starts at 0.",
         "hidden": false,
         "locked": false,
         "points": 1,
         "success_message": "✅ You correctly determined the index"
        }
       ],
       "scored": true,
       "setup": "",
       "teardown": "",
       "type": "doctest"
      }
     ]
    },
    "q2_4": {
     "name": "q2_4",
     "points": null,
     "suites": [
      {
       "cases": [
        {
         "code": ">>> type(most_recent_birth_year) == int and most_recent_birth_year > 1900\nTrue",
         "failure_message": "❌ Your solution should result in an integer greater than 1900 since it represents a year of birth for the most recently deceased president",
         "hidden": false,
         "locked": false,
         "points": 0.5,
         "success_message": "✅ Your solution is an integer greater than 1900, so it could represent the correct answer"
        }
       ],
       "scored": true,
       "setup": "",
       "teardown": "",
       "type": "doctest"
      }
     ]
    },
    "q2_5": {
     "name": "q2_5",
     "points": null,
     "suites": [
      {
       "cases": [
        {
         "code": ">>> sum_of_birth_years > 5100 and sum_of_birth_years < 6000\nTrue",
         "failure_message": "❌ The sum of the three years is not greater than 5100 and less than 6000.",
         "hidden": false,
         "locked": false,
         "points": 0.25,
         "success_message": "✅ The sum of the three years is greater than 5100 and less than 6000."
        }
       ],
       "scored": true,
       "setup": "",
       "teardown": "",
       "type": "doctest"
      }
     ]
    },
    "q3_1": {
     "name": "q3_1",
     "points": null,
     "suites": [
      {
       "cases": [
        {
         "code": ">>> first_product\n1570",
         "failure_message": "❌ You incorrectly computed `first_product`. Double check you've typed the numbers correctly!",
         "hidden": false,
         "locked": false,
         "points": 0.25,
         "success_message": "✅ You correctly computed `first_product`."
        },
        {
         "code": ">>> second_product\n-3140",
         "failure_message": "❌ You incorrectly computed `second_product`. Double check you've typed the numbers correctly!",
         "hidden": false,
         "locked": false,
         "points": 0.25,
         "success_message": "✅ You correctly computed `second_product`."
        },
        {
         "code": ">>> third_product\n47100000000",
         "failure_message": "❌ You incorrectly computed `third_product`. Double check you've typed the numbers correctly!",
         "hidden": false,
         "locked": false,
         "points": 0.25,
         "success_message": "✅ You correctly computed `third_product`."
        },
        {
         "code": ">>> fourth_product\n39250",
         "failure_message": "❌ You incorrectly computed `fourth_product`. Double check you've typed the numbers correctly!",
         "hidden": false,
         "locked": false,
         "points": 0.25,
         "success_message": "✅ You correctly computed `fourth_product`."
        }
       ],
       "scored": true,
       "setup": "",
       "teardown": "",
       "type": "doctest"
      }
     ]
    },
    "q3_2": {
     "name": "q3_2",
     "points": null,
     "suites": [
      {
       "cases": [
        {
         "code": ">>> type(products) == np.ndarray\nTrue",
         "failure_message": "❌ You did not create an array. Perhaps you created a list or another type of collection?",
         "hidden": false,
         "locked": false,
         "points": 0.25,
         "success_message": "✅ You successfully created an array."
        },
        {
         "code": ">>> len(products)\n4",
         "failure_message": "❌ Your array does not have the correct number of elements in it.",
         "hidden": false,
         "locked": false,
         "points": 0.25,
         "success_message": "✅ Your array has the correct number of elements in it."
        }
       ],
       "scored": true,
       "setup": "",
       "teardown": "",
       "type": "doctest"
      }
     ]
    },
    "q3_3": {
     "name": "q3_3",
     "points": null,
     "suites": [
      {
       "cases": [
        {
         "code": ">>> np.allclose(correct_products, np.array([15770, -31540, 473100000000, 394250]))\nTrue",
         "hidden": false,
         "locked": false
        }
       ],
       "scored": true,
       "setup": "",
       "teardown": "",
       "type": "doctest"
      }
     ]
    },
    "q3_4": {
     "name": "q3_4",
     "points": null,
     "suites": [
      {
       "cases": [
        {
         "code": ">>> type(celsius_max_temperatures) == np.ndarray\nTrue",
         "failure_message": "❌ You did not create an array. Perhaps you created a list or another type of collection?",
         "hidden": false,
         "locked": false,
         "points": 0.25,
         "success_message": "✅ You successfully created an array."
        },
        {
         "code": ">>> len(celsius_max_temperatures)\n65000",
         "failure_message": "❌ Your array does not have the correct number of elements in it.",
         "hidden": false,
         "locked": false,
         "points": 0.25,
         "success_message": "✅ Your array has the correct number of elements in it."
        },
        {
         "code": ">>> np.sum(celsius_max_temperatures) != 356705.0\nTrue",
         "failure_message": "❌ Check your order of operations. It looks like you multiplied by 5/9, then subtracted 32",
         "hidden": false,
         "locked": false,
         "points": 0.25
        }
       ],
       "scored": true,
       "setup": "",
       "teardown": "",
       "type": "doctest"
      }
     ]
    },
    "q3_5": {
     "name": "q3_5",
     "points": null,
     "suites": [
      {
       "cases": [
        {
         "code": ">>> type(celsius_temperature_ranges) == np.ndarray\nTrue",
         "failure_message": "❌ You did not create an array. Perhaps you created a list or another type of collection?",
         "hidden": false,
         "locked": false,
         "points": 0.25,
         "success_message": "✅ You successfully created an array."
        },
        {
         "code": ">>> len(celsius_temperature_ranges)\n65000",
         "failure_message": "❌ Your array does not have the correct number of elements in it.",
         "hidden": false,
         "locked": false,
         "points": 0.25,
         "success_message": "✅ Your array has the correct number of elements in it."
        }
       ],
       "scored": true,
       "setup": "",
       "teardown": "",
       "type": "doctest"
      }
     ]
    },
    "q4_1": {
     "name": "q4_1",
     "points": null,
     "suites": [
      {
       "cases": [
        {
         "code": ">>> shortest <= average <= longest\nTrue",
         "failure_message": "❌ Your `shortest` is not the smallest value and `longest` is not the largest value.",
         "hidden": false,
         "locked": false,
         "points": 0,
         "success_message": "✅ Shortest <= Average <= Longest"
        }
       ],
       "scored": true,
       "setup": "",
       "teardown": "",
       "type": "doctest"
      }
     ]
    },
    "q4_2": {
     "name": "q4_2",
     "points": null,
     "suites": [
      {
       "cases": [
        {
         "code": ">>> biggest_decrease < 0\nFalse",
         "failure_message": "❌ You incorrectly provided an answer that was negative. Remember, we report the decrease as a positive number.",
         "hidden": false,
         "locked": false,
         "points": 0,
         "success_message": "✅ You correctly provided an answer that was positive"
        },
        {
         "code": ">>> biggest_decrease != 47\nTrue",
         "failure_message": "❌ You computed the biggest increase in wait times instead of the biggest decrease",
         "hidden": false,
         "locked": false,
         "points": 0,
         "success_message": "✅ You (correctly) did not compute the biggest increase in wait time"
        },
        {
         "code": ">>> 30 <= biggest_decrease < 47\nTrue",
         "failure_message": "❌ The biggest decrease is between 30 and 47, your calculation is not.",
         "hidden": false,
         "locked": false,
         "points": 0,
         "success_message": "✅ The biggest decrease is between 30 and 47"
        },
        {
         "code": ">>> biggest_decrease\n45",
         "hidden": false,
         "locked": false,
         "points": 1
        }
       ],
       "scored": true,
       "setup": "",
       "teardown": "",
       "type": "doctest"
      }
     ]
    },
    "q4_3": {
     "name": "q4_3",
     "points": null,
     "suites": [
      {
       "cases": [
        {
         "code": ">>> type(first_nine_waiting_times) == Table\nTrue",
         "failure_message": "❌ `first_nine_waiting_times` should be a Table",
         "hidden": false,
         "locked": false,
         "points": 0,
         "success_message": "✅ `first_nine_waiting_times` is a Table"
        },
        {
         "code": ">>> first_nine_waiting_times.num_rows\n9",
         "failure_message": "❌ `first_nine_waiting_times` does not have the correct number of rows",
         "hidden": false,
         "locked": false,
         "points": 0.25,
         "success_message": "✅ `first_nine_waiting_times` has the correct number of rows"
        }
       ],
       "scored": true,
       "setup": "",
       "teardown": "",
       "type": "doctest"
      }
     ]
    },
    "q4_4": {
     "name": "q4_4",
     "points": null,
     "suites": [
      {
       "cases": [
        {
         "code": ">>> 15 <= average_error <= 25\nTrue",
         "failure_message": "❌ `average_error` is not between 15 and 25",
         "hidden": false,
         "locked": false,
         "points": 0.25,
         "success_message": "✅ `average_error` is correctly between 15 and 25"
        }
       ],
       "scored": true,
       "setup": "",
       "teardown": "",
       "type": "doctest"
      }
     ]
    },
    "q5_1": {
     "name": "q5_1",
     "points": null,
     "suites": [
      {
       "cases": [
        {
         "code": ">>> type(fruits) == Table\nTrue",
         "failure_message": "❌ You did not create a Table object",
         "hidden": false,
         "locked": false,
         "points": 0,
         "success_message": "✅ You created a Table and assigned it to `fruits`"
        },
        {
         "code": ">>> fruits.labels == ('fruit name', 'count')\nTrue",
         "failure_message": "❌ Your Table has incorrect column labels or they are in the incorrect order",
         "hidden": false,
         "locked": false,
         "points": 0,
         "success_message": "✅ Your Table has the correct column labels in the correct order"
        }
       ],
       "scored": true,
       "setup": "",
       "teardown": "",
       "type": "doctest"
      }
     ]
    },
    "q5_2": {
     "name": "q5_2",
     "points": null,
     "suites": [
      {
       "cases": [
        {
         "code": ">>> inventory.sort(0)\nbox ID | fruit name | count\n25274  | apple      | 20\n26187  | strawberry | 255\n43566  | peach      | 40\n48800  | orange     | 35\n52357  | strawberry | 102\n53686  | kiwi       | 45\n57181  | strawberry | 123\n57930  | grape      | 517",
         "failure_message": "❌ You did not correctly load `inventory.csv`",
         "hidden": false,
         "locked": false,
         "points": 1,
         "success_message": "✅ You loaded `inventory.csv` correctly"
        }
       ],
       "scored": true,
       "setup": "",
       "teardown": "",
       "type": "doctest"
      }
     ]
    },
    "q5_3": {
     "name": "q5_3",
     "points": null,
     "suites": [
      {
       "cases": [
        {
         "code": ">>> sales.sort(0)\nbox ID | fruit name | count sold | price per fruit ($)\n25274  | apple      | 0          | 0.8\n26187  | strawberry | 25         | 0.15\n43566  | peach      | 17         | 0.8\n48800  | orange     | 35         | 0.6\n52357  | strawberry | 102        | 0.25\n53686  | kiwi       | 3          | 0.5\n57181  | strawberry | 101        | 0.2\n57930  | grape      | 355        | 0.06",
         "failure_message": "❌ You did not correctly load `sales.csv`",
         "hidden": false,
         "locked": false,
         "points": 1,
         "success_message": "✅ You loaded `sales.csv` correctly"
        }
       ],
       "scored": true,
       "setup": "",
       "teardown": "",
       "type": "doctest"
      }
     ]
    },
    "q5_4": {
     "name": "q5_4",
     "points": null,
     "suites": [
      {
       "cases": [
        {
         "code": ">>> type(total_fruits_sold) == np.int64 or type(total_fruits_sold) == int\nTrue",
         "failure_message": "❌ Your answer should be an integer",
         "hidden": false,
         "locked": false,
         "points": 0,
         "success_message": "✅ You provided an integer answer"
        },
        {
         "code": ">>> total_fruits_sold > 500\nTrue",
         "failure_message": "❌ Your number is not large enough to be the total number of pieces of fruits sold",
         "hidden": false,
         "locked": false,
         "points": 0.25,
         "success_message": "✅ Your number is large enough to be reasonable as an answer"
        }
       ],
       "scored": true,
       "setup": "",
       "teardown": "",
       "type": "doctest"
      }
     ]
    },
    "q5_5": {
     "name": "q5_5",
     "points": null,
     "suites": [
      {
       "cases": [
        {
         "code": ">>> 50 <= total_revenue <= 150\nTrue",
         "failure_message": "❌ If you're stuck, here's a hint. You want to multiply the count sold in each box by the per-item price of fruits in that box, and then sum up each product.",
         "hidden": false,
         "locked": false,
         "points": 0.25,
         "success_message": "✅ Your number is between 50 and 150 dollars, which means it is a reasonable answer"
        }
       ],
       "scored": true,
       "setup": "",
       "teardown": "",
       "type": "doctest"
      }
     ]
    },
    "q5_6": {
     "name": "q5_6",
     "points": null,
     "suites": [
      {
       "cases": [
        {
         "code": ">>> remaining_inventory.num_columns\n3",
         "failure_message": "❌ Your table doesn't have all 3 columns",
         "hidden": false,
         "locked": false,
         "points": 0.25,
         "success_message": "✅ Your table has the correct number of columns"
        },
        {
         "code": ">>> remaining_inventory.column('count').item(0) != 45\nTrue",
         "failure_message": "❌ You forgot to subtract off the sales",
         "hidden": false,
         "locked": false,
         "points": 0.25,
         "success_message": "✅ You remembered to subtract off the sales"
        },
        {
         "code": ">>> np.array_equal(remaining_inventory.sort(0).column('fruit name'), ['apple', 'strawberry', 'peach', 'orange', 'strawberry', 'kiwi', 'strawberry', 'grape'])\nTrue",
         "failure_message": "❌ You forgot to subtract off the sales",
         "hidden": false,
         "locked": false,
         "points": 0.5
        }
       ],
       "scored": true,
       "setup": "",
       "teardown": "",
       "type": "doctest"
      }
     ]
    }
   }
  }
 },
 "nbformat": 4,
 "nbformat_minor": 4
}
