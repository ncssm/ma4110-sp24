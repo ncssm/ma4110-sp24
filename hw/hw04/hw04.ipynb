{
 "cells": [
  {
   "cell_type": "code",
   "execution_count": null,
   "id": "7c68bfee",
   "metadata": {
    "deletable": false,
    "editable": false
   },
   "outputs": [],
   "source": [
    "# Initialize Otter\n",
    "import otter\n",
    "grader = otter.Notebook(\"hw04.ipynb\")"
   ]
  },
  {
   "cell_type": "markdown",
   "id": "laughing-tuition",
   "metadata": {
    "id": "laughing-tuition"
   },
   "source": [
    "# Homework 04: Functions, Histograms, and Groups"
   ]
  },
  {
   "cell_type": "markdown",
   "id": "proper-complex",
   "metadata": {
    "id": "proper-complex"
   },
   "source": [
    "**Helpful Reference:**\n",
    "* [Python Reference](https://www.data8.org/sp22/python-reference.html). Cheat sheet of helpful array & table methods used in this course!\n",
    "\n",
    "**Reading**: \n",
    "* [Visualizing Numerical Distributions](https://inferentialthinking.com/chapters/07/2/Visualizing_Numerical_Distributions.html) \n",
    "* [Functions and Tables](https://inferentialthinking.com/chapters/08/Functions_and_Tables.html)"
   ]
  },
  {
   "cell_type": "markdown",
   "id": "demonstrated-diagram",
   "metadata": {
    "id": "demonstrated-diagram"
   },
   "source": [
    "For all problems that you must write explanations and sentences for, you **must** provide your answer in the designated space. Moreover, throughout this homework and all future ones, please be sure to not re-assign variables throughout the notebook! For example, if you use `max_temperature` in your answer to one question, do not reassign it later on. Otherwise, you will fail tests that you thought you were passing previously!\n",
    "\n",
    "**Note: This homework has hidden tests on it. Additional tests will be run once your homework is submitted for grading. While you may pass all the tests you have access to before submission, you may not earn full credit if you do not pass the hidden tests as well.**. \n",
    "\n",
    "Many of the tests you have access to before submitting only test to ensure you have given an answer that is formatted correctly and/or you have given an answer that *could* make sense in context. For example, a test you have access to while completing the assignment may check that you selected a valid choice for a multiple choice problem (1, 2, or 3) or that your answer is an integer between 0 and 50 if asked to count a subset of states in the United States. The tests that are run after submission will evaluate your work for accuracy. **Do not assume that just because all your tests pass before submission means that your answers are correct!**\n",
    "\n",
    "Consult with your teacher and course syllabus for information and policies regarding appropriate collaboration with other students, appropriate use of AI tools, and submission of late work."
   ]
  },
  {
   "cell_type": "code",
   "execution_count": null,
   "id": "tough-modification",
   "metadata": {
    "execution": {
     "iopub.execute_input": "2024-01-26T21:06:37.054012Z",
     "iopub.status.busy": "2024-01-26T21:06:37.053773Z",
     "iopub.status.idle": "2024-01-26T21:06:38.885221Z",
     "shell.execute_reply": "2024-01-26T21:06:38.884217Z"
    },
    "id": "tough-modification"
   },
   "outputs": [],
   "source": [
    "# Don't change this cell; just run it. \n",
    "import numpy as np\n",
    "from datascience import *\n",
    "\n",
    "import matplotlib\n",
    "%matplotlib inline\n",
    "import matplotlib.pyplot as plt\n",
    "plt.style.use('fivethirtyeight')"
   ]
  },
  {
   "cell_type": "markdown",
   "id": "worthy-amber",
   "metadata": {
    "id": "worthy-amber"
   },
   "source": [
    "## 1. Burrito-ful San Diego\n",
    "\n",
    "Eunice, Ciara, and Kanchana are trying to use Data Science to find the best burritos in San Diego! Their friends Jessica and Sonya provided them with two comprehensive datasets on many burrito establishments in the San Diego area taken from (and cleaned from): https://www.kaggle.com/srcole/burritos-in-san-diego/data. You can find the full data set in the folder of this assignment, named `burrito.csv`.\n",
    "\n",
    "## `ratings.csv`\n",
    "The following cell reads in a table called `ratings` which contains names of burrito restaurants, their Yelp rating, Google rating, as well as their overall rating. The `Overall` rating is not an average of the `Yelp` and `Google` ratings, but rather it is the overall rating from the customers that were surveyed in the study above. "
   ]
  },
  {
   "cell_type": "code",
   "execution_count": null,
   "id": "political-bridges",
   "metadata": {
    "execution": {
     "iopub.execute_input": "2024-01-26T21:06:38.890466Z",
     "iopub.status.busy": "2024-01-26T21:06:38.890027Z",
     "iopub.status.idle": "2024-01-26T21:06:38.900650Z",
     "shell.execute_reply": "2024-01-26T21:06:38.899778Z"
    },
    "id": "political-bridges",
    "outputId": "795c847b-4e8f-4e6a-9c67-350670a6fe5d"
   },
   "outputs": [],
   "source": [
    "ratings = Table.read_table(\"ratings.csv\")\n",
    "ratings"
   ]
  },
  {
   "cell_type": "markdown",
   "id": "2fd51659-d15d-4813-aa00-7d5d2293a214",
   "metadata": {},
   "source": [
    "## `burritos_types.csv`\n",
    "\n",
    "The following cell reads in a table called `burritos_types` which contains names of burrito restaurants in San Diego, their menu items, and the cost of the respective menu item at the restaurant when this data was collected in 2018."
   ]
  },
  {
   "cell_type": "code",
   "execution_count": null,
   "id": "c407403d-a9c2-479a-86a3-3105e07c93b0",
   "metadata": {
    "execution": {
     "iopub.execute_input": "2024-01-26T21:06:38.903610Z",
     "iopub.status.busy": "2024-01-26T21:06:38.903346Z",
     "iopub.status.idle": "2024-01-26T21:06:38.912490Z",
     "shell.execute_reply": "2024-01-26T21:06:38.911640Z"
    }
   },
   "outputs": [],
   "source": [
    "burritos_types = Table.read_table(\"burritos_types.csv\").drop(0)\n",
    "burritos_types"
   ]
  },
  {
   "cell_type": "markdown",
   "id": "suspected-nebraska",
   "metadata": {
    "deletable": false,
    "editable": false,
    "id": "suspected-nebraska"
   },
   "source": [
    "### Question 1.1\n",
    "\n",
    "It would be easier if we could combine the information in both tables. Assign `burritos` to the result of joining the two tables together, so that we have a table with the ratings for every menu item from every restaurant. **Each menu item will have the same rating as the restaurant that made it.** This is not perfect way to score individual menu items, but it is an assumption we will make because it is the best we can do with the data we have.\n",
    "\n",
    "*Note: it doesn't matter which table you put in as the argument to the table method, either order will work for the autograder tests.*\n",
    "\n",
    "*Hint: If you need refreshers on table methods, look at the [python reference](http://data8.org/sp20/python-reference.html).*"
   ]
  },
  {
   "cell_type": "code",
   "execution_count": null,
   "id": "every-cream",
   "metadata": {
    "execution": {
     "iopub.execute_input": "2024-01-26T21:06:38.915661Z",
     "iopub.status.busy": "2024-01-26T21:06:38.915390Z",
     "iopub.status.idle": "2024-01-26T21:06:38.927684Z",
     "shell.execute_reply": "2024-01-26T21:06:38.926819Z"
    },
    "id": "every-cream",
    "outputId": "e2913398-c3aa-48bf-f08d-ace95f00e913",
    "tags": []
   },
   "outputs": [],
   "source": [
    "burritos = ...\n",
    "burritos.show(5)"
   ]
  },
  {
   "cell_type": "code",
   "execution_count": null,
   "id": "6965be35",
   "metadata": {
    "deletable": false,
    "editable": false
   },
   "outputs": [],
   "source": [
    "grader.check(\"q1_1\")"
   ]
  },
  {
   "cell_type": "markdown",
   "id": "chubby-instruction",
   "metadata": {
    "deletable": false,
    "editable": false,
    "id": "chubby-instruction"
   },
   "source": [
    "<!-- BEGIN QUESTION -->\n",
    "\n",
    "### Question 1.2.\n",
    "\n",
    "Let's look at how the Yelp scores compare to the Google scores in the `burritos` table. First, assign `yelp_and_google` to a Table only containing the columns `Yelp` and `Google`. Then, make a scatter plot with Yelp scores on the x-axis and the Google scores on the y-axis. "
   ]
  },
  {
   "cell_type": "code",
   "execution_count": null,
   "id": "threatened-trading",
   "metadata": {
    "execution": {
     "iopub.execute_input": "2024-01-26T21:06:38.974753Z",
     "iopub.status.busy": "2024-01-26T21:06:38.974170Z",
     "iopub.status.idle": "2024-01-26T21:06:39.275693Z",
     "shell.execute_reply": "2024-01-26T21:06:39.274758Z"
    },
    "id": "threatened-trading",
    "outputId": "a8ad7689-d9dc-439d-87d8-5b700fce8bb2",
    "tags": []
   },
   "outputs": [],
   "source": [
    "yelp_and_google = ...\n",
    "...\n",
    "# Don't change/edit/remove the following line.\n",
    "# To help you make conclusions, we have plotted a straight line on the graph (y=x)\n",
    "plt.plot(np.arange(2.5,5,.5), np.arange(2.5,5,.5));"
   ]
  },
  {
   "cell_type": "markdown",
   "id": "spare-rescue",
   "metadata": {
    "deletable": false,
    "editable": false,
    "id": "spare-rescue"
   },
   "source": [
    "<!-- END QUESTION -->\n",
    "\n",
    "<!-- BEGIN QUESTION -->\n",
    "\n",
    "### Question 1.3.\n",
    "\n",
    "Looking at the scatter plot you just made in the previous question, do you notice any pattern(s)? Write an explanation about your observations and what it might imply about reviews found on Google and Yelp."
   ]
  },
  {
   "cell_type": "markdown",
   "id": "29fa6508",
   "metadata": {},
   "source": [
    "_Type your answer here, replacing this text._"
   ]
  },
  {
   "cell_type": "markdown",
   "id": "alternative-leadership",
   "metadata": {
    "deletable": false,
    "editable": false,
    "id": "alternative-leadership"
   },
   "source": [
    "<!-- END QUESTION -->\n",
    "\n",
    "### `.group` refresher\n",
    "\n",
    "In case you need a refresher on how `.group` works, you can read how `.group` works in the [textbook](https://www.inferentialthinking.com/chapters/08/2/Classifying_by_One_Variable.html), or you can use the [Table Functions Visualizer](http://data8.org/interactive_table_functions/) to get some more hands-on experience with the `.group` function."
   ]
  },
  {
   "cell_type": "markdown",
   "id": "greatest-coordination",
   "metadata": {
    "deletable": false,
    "editable": false,
    "id": "greatest-coordination"
   },
   "source": [
    "### Question 1.4.\n",
    "\n",
    "There are so many types of California burritos in the `burritos` table! Kanchana wants to consider her options for California burritos based on rankings. Remember, for the sake of these questions, we are treating each menu item's rating the same as its respective restaurant's, as we do not have the rating of every single item at these restaurants.\n",
    "\n",
    "Create a table with two columns: the first column includes the **names of the burritos** and the second column should contain the **average overall rating** of that burrito across all the restaurants that serve it."
   ]
  },
  {
   "cell_type": "code",
   "execution_count": null,
   "id": "micro-rogers",
   "metadata": {
    "execution": {
     "iopub.execute_input": "2024-01-26T21:06:39.279285Z",
     "iopub.status.busy": "2024-01-26T21:06:39.278997Z",
     "iopub.status.idle": "2024-01-26T21:06:39.287596Z",
     "shell.execute_reply": "2024-01-26T21:06:39.286734Z"
    },
    "id": "micro-rogers",
    "outputId": "05d53ead-95dc-4186-8e6b-c4b674619cd2",
    "tags": []
   },
   "outputs": [],
   "source": [
    "california_burritos = ...\n",
    "california_burritos"
   ]
  },
  {
   "cell_type": "code",
   "execution_count": null,
   "id": "2ff1fe25",
   "metadata": {
    "deletable": false,
    "editable": false
   },
   "outputs": [],
   "source": [
    "grader.check(\"q1_4\")"
   ]
  },
  {
   "cell_type": "markdown",
   "id": "voluntary-convertible",
   "metadata": {
    "deletable": false,
    "editable": false,
    "id": "voluntary-convertible"
   },
   "source": [
    "### Question 1.5.\n",
    "\n",
    "Given this new table `california_burritos`, Ciara can figure out the name of the California burrito with the highest overall average rating! Assign `best_california_burrito` to a line of code that evaluates to a string that corresponds to the name of the California burrito with the highest overall average rating. If multiple burritos tie for the highest average, you can output any of them."
   ]
  },
  {
   "cell_type": "code",
   "execution_count": null,
   "id": "valid-stylus",
   "metadata": {
    "execution": {
     "iopub.execute_input": "2024-01-26T21:06:39.315406Z",
     "iopub.status.busy": "2024-01-26T21:06:39.315143Z",
     "iopub.status.idle": "2024-01-26T21:06:39.320825Z",
     "shell.execute_reply": "2024-01-26T21:06:39.320000Z"
    },
    "id": "valid-stylus",
    "outputId": "9f69cb7f-572c-4cad-ad37-32b1f8e53cca",
    "tags": []
   },
   "outputs": [],
   "source": [
    "best_california_burrito = ...\n",
    "best_california_burrito"
   ]
  },
  {
   "cell_type": "code",
   "execution_count": null,
   "id": "552d5b42",
   "metadata": {
    "deletable": false,
    "editable": false
   },
   "outputs": [],
   "source": [
    "grader.check(\"q1_5\")"
   ]
  },
  {
   "cell_type": "markdown",
   "id": "stone-slope",
   "metadata": {
    "deletable": false,
    "editable": false,
    "id": "stone-slope"
   },
   "source": [
    "<!-- BEGIN QUESTION -->\n",
    "\n",
    "### Question 1.6.\n",
    "\n",
    "Eunice thinks that burritos in San Diego are cheaper (and taste better) than the burritos in North Carolina. Plot a histogram that visualizes that distribution of the costs of the burritos from San Diego in the `burritos` table. Use the provided `cost_bins` variable when making your histogram."
   ]
  },
  {
   "cell_type": "code",
   "execution_count": null,
   "id": "directed-termination",
   "metadata": {
    "execution": {
     "iopub.execute_input": "2024-01-26T21:06:39.339601Z",
     "iopub.status.busy": "2024-01-26T21:06:39.339355Z",
     "iopub.status.idle": "2024-01-26T21:06:39.664603Z",
     "shell.execute_reply": "2024-01-26T21:06:39.663965Z"
    },
    "id": "directed-termination",
    "outputId": "e97781ef-2db5-4a68-c8f4-e4431f997b38",
    "tags": []
   },
   "outputs": [],
   "source": [
    "cost_bins = np.arange(0, 15, 1)\n",
    "# Please also use the provided bins\n",
    "..."
   ]
  },
  {
   "cell_type": "markdown",
   "id": "8d5b3a76-1536-4897-a65a-fbac1d65f54c",
   "metadata": {
    "deletable": false,
    "editable": false
   },
   "source": [
    "<!-- END QUESTION -->\n",
    "\n",
    "### Question 1.7.\n",
    "\n",
    "What percentage of burritos in San Diego are less than $6? Assign `burritos_less_than_six` to your answer, **which should be between 0 and 100** since it is a percentage, not a proportion. You should estimate this value using the histogram first, and then use code to compute the exact value.\n",
    "\n",
    "**Hint:** Your solution should probably use the `np.count_nonzero` function."
   ]
  },
  {
   "cell_type": "code",
   "execution_count": null,
   "id": "5e91dbce-ac45-4a90-92fa-011c3aee8660",
   "metadata": {
    "execution": {
     "iopub.execute_input": "2024-01-26T21:06:39.667835Z",
     "iopub.status.busy": "2024-01-26T21:06:39.667561Z",
     "iopub.status.idle": "2024-01-26T21:06:39.675483Z",
     "shell.execute_reply": "2024-01-26T21:06:39.674826Z"
    },
    "tags": []
   },
   "outputs": [],
   "source": [
    "burritos_less_than_six = ...\n",
    "burritos_less_than_six"
   ]
  },
  {
   "cell_type": "code",
   "execution_count": null,
   "id": "b95aa722",
   "metadata": {
    "deletable": false,
    "editable": false
   },
   "outputs": [],
   "source": [
    "grader.check(\"q1_7\")"
   ]
  },
  {
   "cell_type": "markdown",
   "id": "provincial-tennessee",
   "metadata": {
    "id": "provincial-tennessee"
   },
   "source": [
    "## 2. Faculty Ages and Salaries"
   ]
  },
  {
   "cell_type": "markdown",
   "id": "arabic-detective",
   "metadata": {
    "id": "arabic-detective"
   },
   "source": [
    "This question is designed to give you practice using the Table methods `pivot` and `group`, and see how they can both be used to summarize large Tables of values. Here is a link to the [Python Reference](https://www.data8.org/sp22/python-reference.html) page in case you need a quick refresher. The [Table Functions Visualizer](http://data8.org/interactive_table_functions/) may also be a helpful tool.\n",
    "\n",
    "Run the cell below to view a demo on how you can use pivot on a table."
   ]
  },
  {
   "cell_type": "code",
   "execution_count": null,
   "id": "small-upper",
   "metadata": {
    "execution": {
     "iopub.execute_input": "2024-01-26T21:06:39.699720Z",
     "iopub.status.busy": "2024-01-26T21:06:39.699467Z",
     "iopub.status.idle": "2024-01-26T21:06:39.820499Z",
     "shell.execute_reply": "2024-01-26T21:06:39.819628Z"
    },
    "id": "small-upper",
    "outputId": "ffe012d0-26c6-4aca-da80-c97105037e28"
   },
   "outputs": [],
   "source": [
    "from IPython.display import YouTubeVideo\n",
    "YouTubeVideo(\"4WzXo8eKLAg\")"
   ]
  },
  {
   "cell_type": "markdown",
   "id": "running-peter",
   "metadata": {
    "id": "running-peter"
   },
   "source": [
    "In the next cell, we load a dataset maintained by the University of North Carolina System Office which contains information on **UNC System professors** which includes their institution, age, job category, and base salary as of June 2023."
   ]
  },
  {
   "cell_type": "code",
   "execution_count": null,
   "id": "north-factory",
   "metadata": {
    "execution": {
     "iopub.execute_input": "2024-01-26T21:06:39.823862Z",
     "iopub.status.busy": "2024-01-26T21:06:39.823594Z",
     "iopub.status.idle": "2024-01-26T21:06:39.914459Z",
     "shell.execute_reply": "2024-01-26T21:06:39.913810Z"
    },
    "id": "north-factory",
    "outputId": "ec8e5f4d-cd91-4e5a-d5e1-e2eca37e5684"
   },
   "outputs": [],
   "source": [
    "# Just run this cell\n",
    "unc = Table.read_table(\"salary_2023.csv\").drop('INITIAL HIRE DATE', 'EMPLOYEE HOME DEPARTMENT', 'PRIMARY WORKING TITLE').relabeled('INSTITUTION NAME', 'School Name').relabeled('AGE', 'Age').relabeled('JOB CATEGORY', 'Title').relabeled('EMPLOYEE ANNUAL BASE SALARY', 'Salary').set_format('Salary', CurrencyFormatter)\n",
    "unc"
   ]
  },
  {
   "cell_type": "markdown",
   "id": "exact-resident",
   "metadata": {
    "deletable": false,
    "editable": false,
    "id": "exact-resident"
   },
   "source": [
    "### Question 2.1.\n",
    "\n",
    "Suppose you wanted to know the average age and salary for each type of professor at each of the UNC System schools. Set `average_unc_stats` to a Table with 4 columns that shows the average age and salary for each combination of `School Name` and `Title` found in the `unc` table. For example, you should be able to determine the average age and salary for an Assistant Professor at ASU or for a Lecturer at ECU by looking at the corresponding row in the Table you create.\n",
    "\n",
    "**Hint:** Use the `.group` method to create this table."
   ]
  },
  {
   "cell_type": "code",
   "execution_count": null,
   "id": "suffering-information",
   "metadata": {
    "execution": {
     "iopub.execute_input": "2024-01-26T21:06:39.917534Z",
     "iopub.status.busy": "2024-01-26T21:06:39.917261Z",
     "iopub.status.idle": "2024-01-26T21:06:40.087799Z",
     "shell.execute_reply": "2024-01-26T21:06:40.087159Z"
    },
    "id": "suffering-information",
    "outputId": "71bf861a-3e51-4553-ba50-f01a3afd388c",
    "tags": []
   },
   "outputs": [],
   "source": [
    "average_unc_stats = ...\n",
    "average_unc_stats"
   ]
  },
  {
   "cell_type": "code",
   "execution_count": null,
   "id": "150e0ab7",
   "metadata": {
    "deletable": false,
    "editable": false
   },
   "outputs": [],
   "source": [
    "grader.check(\"q2_1\")"
   ]
  },
  {
   "cell_type": "markdown",
   "id": "distributed-compatibility",
   "metadata": {
    "deletable": false,
    "editable": false,
    "id": "distributed-compatibility"
   },
   "source": [
    "### Question 2.2\n",
    "\n",
    "The Table that is created using the `.group` method can be a bit long when there are many combinations between the two specified variables, in this case `School Name` and `Title`. A `pivot` Table should make for an easier way to look up these averages\n",
    "\n",
    "Create a pivot table assigned to `unc_pivot` that has each `School Name` for the column labels and a row that corresponds to each unique `Title`. The values in each column should be the average value of `Age` for each `Title` at that school."
   ]
  },
  {
   "cell_type": "code",
   "execution_count": null,
   "id": "complimentary-engineering",
   "metadata": {
    "execution": {
     "iopub.execute_input": "2024-01-26T21:06:40.127514Z",
     "iopub.status.busy": "2024-01-26T21:06:40.126791Z",
     "iopub.status.idle": "2024-01-26T21:06:40.319038Z",
     "shell.execute_reply": "2024-01-26T21:06:40.318171Z"
    },
    "id": "complimentary-engineering",
    "outputId": "f8a1cf42-effd-4d09-c62a-6e372d53b9a7",
    "tags": []
   },
   "outputs": [],
   "source": [
    "unc_pivot = ...\n",
    "unc_pivot"
   ]
  },
  {
   "cell_type": "code",
   "execution_count": null,
   "id": "725cd9e5",
   "metadata": {
    "deletable": false,
    "editable": false
   },
   "outputs": [],
   "source": [
    "grader.check(\"q2_2\")"
   ]
  },
  {
   "cell_type": "markdown",
   "id": "backed-nevada",
   "metadata": {
    "deletable": false,
    "editable": false,
    "id": "backed-nevada"
   },
   "source": [
    "### Question 2.3\n",
    "\n",
    "Recall that pivot tables can use *any* function to compute the collected value in the table.\n",
    "\n",
    "Write your own function named `salary_range` that can take in an array of floats (that will represent salaries in our case) and returns the range of the array. The range is the smallest value subtracted from the the largest value in that array."
   ]
  },
  {
   "cell_type": "code",
   "execution_count": null,
   "id": "after-scoop",
   "metadata": {
    "execution": {
     "iopub.execute_input": "2024-01-26T21:06:40.353780Z",
     "iopub.status.busy": "2024-01-26T21:06:40.353530Z",
     "iopub.status.idle": "2024-01-26T21:06:40.357321Z",
     "shell.execute_reply": "2024-01-26T21:06:40.356492Z"
    },
    "id": "after-scoop",
    "tags": []
   },
   "outputs": [],
   "source": [
    "...\n",
    "    ..."
   ]
  },
  {
   "cell_type": "code",
   "execution_count": null,
   "id": "c7561d26",
   "metadata": {
    "deletable": false,
    "editable": false
   },
   "outputs": [],
   "source": [
    "grader.check(\"q2_3\")"
   ]
  },
  {
   "cell_type": "markdown",
   "id": "deluxe-greece",
   "metadata": {
    "deletable": false,
    "editable": false,
    "id": "deluxe-greece"
   },
   "source": [
    "#### Question 2.4"
   ]
  },
  {
   "cell_type": "markdown",
   "id": "parliamentary-opinion",
   "metadata": {
    "deletable": false,
    "editable": false,
    "id": "parliamentary-opinion"
   },
   "source": [
    "Set `job_ranges` to a table containing Titles as the rows, and the School as the columns. The values in the rows should correspond to the salary range for the job, where the range is calculated using the `salary_range` function you wrote in Question 2.3."
   ]
  },
  {
   "cell_type": "code",
   "execution_count": null,
   "id": "innocent-heater",
   "metadata": {
    "execution": {
     "iopub.execute_input": "2024-01-26T21:06:40.388812Z",
     "iopub.status.busy": "2024-01-26T21:06:40.388105Z",
     "iopub.status.idle": "2024-01-26T21:06:40.566142Z",
     "shell.execute_reply": "2024-01-26T21:06:40.565474Z"
    },
    "id": "innocent-heater",
    "outputId": "34252fd3-5e79-4c3b-8738-c1f56c216e5b",
    "tags": []
   },
   "outputs": [],
   "source": [
    "job_ranges = ...\n",
    "job_ranges"
   ]
  },
  {
   "cell_type": "code",
   "execution_count": null,
   "id": "95449a69",
   "metadata": {
    "deletable": false,
    "editable": false
   },
   "outputs": [],
   "source": [
    "grader.check(\"q2_4\")"
   ]
  },
  {
   "cell_type": "markdown",
   "id": "47d6ea88-087f-4e29-b8b0-17e196c4996f",
   "metadata": {
    "deletable": false,
    "editable": false
   },
   "source": [
    "<!-- BEGIN QUESTION -->\n",
    "\n",
    "### Question 2.5.\n",
    "\n",
    "Write an explanation as to why some of the values are 0 in the `job_ranges` Table you created in the previous question. There may be more than one reason, so think carefully and include as many reasons as you can in your response."
   ]
  },
  {
   "cell_type": "markdown",
   "id": "a3134e6e",
   "metadata": {},
   "source": [
    "_Type your answer here, replacing this text._"
   ]
  },
  {
   "cell_type": "markdown",
   "id": "indie-muscle",
   "metadata": {
    "deletable": false,
    "editable": false,
    "id": "indie-muscle"
   },
   "source": [
    "<!-- END QUESTION -->\n",
    "\n",
    "# Submitting your work\n",
    "You're done with this assignment! Assignments should be turned in using the following best practices:\n",
    "1. Save your notebook.\n",
    "2. Restart the kernel and run all cells up to this one.\n",
    "3. Run the cell below with the code `grader.export(...)`. This will re-run all the tests. Make sure they are passing as you expect them to.\n",
    "4. Download the file named `hw04_<date-time-stamp>.zip`, found in the explorer pane on the left side of the screen. **Note**: Clicking on the link in this notebook may result in an error, it's best to download from the file explorer panel.\n",
    "5. Upload `hw04_<date-time-stamp>.zip` to the corresponding assignment on Canvas."
   ]
  },
  {
   "cell_type": "markdown",
   "id": "cf9b77a6",
   "metadata": {
    "deletable": false,
    "editable": false
   },
   "source": [
    "## Submission\n",
    "\n",
    "Make sure you have run all cells in your notebook in order before running the cell below, so that all images/graphs appear in the output. The cell below will generate a zip file for you to submit."
   ]
  },
  {
   "cell_type": "code",
   "execution_count": null,
   "id": "52d03607",
   "metadata": {
    "deletable": false,
    "editable": false
   },
   "outputs": [],
   "source": [
    "grader.export(pdf=False, force_save=True)"
   ]
  },
  {
   "cell_type": "markdown",
   "id": "0bee12dc",
   "metadata": {},
   "source": [
    " "
   ]
  }
 ],
 "metadata": {
  "colab": {
   "name": "hw04.ipynb",
   "provenance": []
  },
  "kernelspec": {
   "display_name": "Python 3 (ipykernel)",
   "language": "python",
   "name": "python3"
  },
  "language_info": {
   "codemirror_mode": {
    "name": "ipython",
    "version": 3
   },
   "file_extension": ".py",
   "mimetype": "text/x-python",
   "name": "python",
   "nbconvert_exporter": "python",
   "pygments_lexer": "ipython3",
   "version": "3.11.5"
  },
  "otter": {
   "OK_FORMAT": true,
   "tests": {
    "q1_1": {
     "name": "q1_1",
     "points": null,
     "suites": [
      {
       "cases": [
        {
         "code": ">>> set(['Name', 'Menu_Item', 'Yelp', 'Google', 'Cost', 'Overall']) == set(burritos.labels)\nTrue",
         "failure_message": "❌ `burritos` does not have the correct labels. Did you join on the correct value?",
         "hidden": false,
         "locked": false,
         "points": 0.1,
         "success_message": "✅ `burritos` has the correct labels"
        },
        {
         "code": ">>> burritos.num_rows\n212",
         "failure_message": "❌ `burritos` does not have the correct number of rows. Did you join on the correct value?",
         "hidden": false,
         "locked": false,
         "points": 0.1,
         "success_message": "✅ `burritos` has the correct number of rows"
        }
       ],
       "scored": true,
       "setup": "",
       "teardown": "",
       "type": "doctest"
      }
     ]
    },
    "q1_4": {
     "name": "q1_4",
     "points": null,
     "suites": [
      {
       "cases": [
        {
         "code": ">>> california_burritos.num_columns\n2",
         "failure_message": "❌ `california_burritos` does not have the correct number of columns. It should only have 2 columns, Menu_item and Overall average, in that order.",
         "hidden": false,
         "locked": false,
         "points": 0.1,
         "success_message": "✅ `california_burritos` has the correct number of columns"
        },
        {
         "code": ">>> california_burritos.num_rows\n19",
         "failure_message": "❌ `california_burritos` does not have the correct number of rows. Did you filter the Table to only items containing California?",
         "hidden": false,
         "locked": false,
         "points": 0.1,
         "success_message": "✅ `california_burritos` has the correct number of rows"
        }
       ],
       "scored": true,
       "setup": "",
       "teardown": "",
       "type": "doctest"
      }
     ]
    },
    "q1_5": {
     "name": "q1_5",
     "points": null,
     "suites": [
      {
       "cases": [
        {
         "code": ">>> type(best_california_burrito) == str and best_california_burrito in california_burritos.column(0)\nTrue",
         "failure_message": "❌ `best_california_burrito` is either not a string, or is not in the `california_burritos` Table",
         "hidden": false,
         "locked": false,
         "points": 0,
         "success_message": "✅ `best_california_burrito` is a string in the `california_burritos` Table"
        }
       ],
       "scored": true,
       "setup": "",
       "teardown": "",
       "type": "doctest"
      }
     ]
    },
    "q1_7": {
     "name": "q1_7",
     "points": null,
     "suites": [
      {
       "cases": [
        {
         "code": ">>> type(burritos_less_than_six) == float or type(burritos_less_than_six) == np.float64\nTrue",
         "failure_message": "❌ `burritos_less_than_six` is not a float, but it should be since it represents a percentage.",
         "hidden": false,
         "locked": false,
         "points": 0,
         "success_message": "✅ `burritos_less_than_six` is a float"
        },
        {
         "code": ">>> 1 < burritos_less_than_six <= 100\nTrue",
         "failure_message": "❌ `burritos_less_than_six` appears to be a proportion, not a percentage. The value should be between 0 and 100.",
         "hidden": false,
         "locked": false,
         "points": 0,
         "success_message": "✅ `burritos_less_than_six` appears to be is a percentage"
        }
       ],
       "scored": true,
       "setup": "",
       "teardown": "",
       "type": "doctest"
      }
     ]
    },
    "q2_1": {
     "name": "q2_1",
     "points": null,
     "suites": [
      {
       "cases": [
        {
         "code": ">>> average_unc_stats.num_columns\n4",
         "failure_message": "❌ `average_unc_stats` does not have the correct number of columns",
         "hidden": false,
         "locked": false,
         "points": 0.2,
         "success_message": "✅ `average_unc_stats` has the correct number of columns"
        },
        {
         "code": ">>> average_unc_stats.num_rows\n62",
         "failure_message": "❌ `average_unc_stats` does not have the correct number of rows",
         "hidden": false,
         "locked": false,
         "points": 0.2,
         "success_message": "✅ `average_unc_stats` has the correct number of rows"
        },
        {
         "code": ">>> set(average_unc_stats.labels) == set(('School Name', 'Title', 'Age average', 'Salary average')) or set(average_unc_stats.labels) == set(('School Name', 'Title', 'Age mean', 'Salary mean'))\nTrue",
         "failure_message": "❌ `average_unc_stats` does not have the correct labels. Did you use the correct grouping function?",
         "hidden": false,
         "locked": false,
         "points": 0.2,
         "success_message": "✅ `average_unc_stats` has the correct labels"
        },
        {
         "code": ">>> np.isclose(np.sum(average_unc_stats.column('Age average')), 3174.283351987975) or np.isclose(np.sum(average_unc_stats.column('Age mean')), 3174.283351987975)\nTrue",
         "failure_message": "❌ `average_unc_stats` does not have the correct number of rows",
         "hidden": false,
         "locked": false,
         "points": 0.2,
         "success_message": "✅ `average_unc_stats` has the correct number of rows"
        },
        {
         "code": ">>> np.isclose(np.sum(average_unc_stats.column('Salary average')), 5628666.163359298) or np.isclose(np.sum(average_unc_stats.column('Salary mean')), 5628666.163359298)\nTrue",
         "failure_message": "❌ `average_unc_stats` does not have the correct number of rows",
         "hidden": false,
         "locked": false,
         "points": 0.2,
         "success_message": "✅ `average_unc_stats` has the correct number of rows"
        }
       ],
       "scored": true,
       "setup": "",
       "teardown": "",
       "type": "doctest"
      }
     ]
    },
    "q2_2": {
     "name": "q2_2",
     "points": null,
     "suites": [
      {
       "cases": [
        {
         "code": ">>> unc_pivot.num_columns\n17",
         "failure_message": "❌ `unc_pivot` does not have the correct number of columns",
         "hidden": false,
         "locked": false,
         "points": 0.1,
         "success_message": "✅ `unc_pivot` has the correct number of columns"
        },
        {
         "code": ">>> unc_pivot.num_rows\n5",
         "failure_message": "❌ `unc_pivot` does not have the correct number of rows",
         "hidden": false,
         "locked": false,
         "points": 0.1,
         "success_message": "✅ `unc_pivot` has the correct number of rows"
        },
        {
         "code": ">>> np.allclose(unc_pivot.column('WSSU'), np.array([47.76363636, 54.44444444, 0.0, 0.0, 60.83018868]))\nTrue",
         "hidden": false,
         "locked": false,
         "points": 0.4
        },
        {
         "code": ">>> np.allclose(unc_pivot.column('UNC-CH'), np.array([41.17131203, 49.55648148, 0.0, 57.71794872, 58.93343087]))\nTrue",
         "hidden": false,
         "locked": false,
         "points": 0.4
        }
       ],
       "scored": true,
       "setup": "",
       "teardown": "",
       "type": "doctest"
      }
     ]
    },
    "q2_3": {
     "name": "q2_3",
     "points": null,
     "suites": [
      {
       "cases": [
        {
         "code": ">>> salary_range(make_array(5, 1, 20, 1000)) == 999 and salary_range(make_array(18, 435, 234, 277)) == 417\nTrue",
         "failure_message": "❌ `salary_range` does not correctly compute the range of an array",
         "hidden": false,
         "locked": false,
         "points": 1,
         "success_message": "✅ `salary_range` correctly computes the range of an array"
        }
       ],
       "scored": true,
       "setup": "",
       "teardown": "",
       "type": "doctest"
      }
     ]
    },
    "q2_4": {
     "name": "q2_4",
     "points": null,
     "suites": [
      {
       "cases": [
        {
         "code": ">>> job_ranges.num_columns\n17",
         "failure_message": "❌ `job_ranges` does not have the correct number of columns",
         "hidden": false,
         "locked": false,
         "points": 0.1,
         "success_message": "✅ `job_ranges` has the correct number of columns"
        },
        {
         "code": ">>> job_ranges.num_rows\n5",
         "failure_message": "❌ `job_ranges` does not have the correct number of rows",
         "hidden": false,
         "locked": false,
         "points": 0.1,
         "success_message": "✅ `job_ranges` has the correct number of rows"
        },
        {
         "code": ">>> np.allclose(job_ranges.column('ASU'), np.array([129477.0, 121320.0, 16721.0, 28761.0, 123943.01]))\nTrue",
         "hidden": false,
         "locked": false,
         "points": 0.4
        },
        {
         "code": ">>> np.allclose(job_ranges.column('NCSU'), np.array([171808.0, 261493.0, 0.0, 0.0, 240557.0]))\nTrue",
         "hidden": false,
         "locked": false,
         "points": 0.4
        }
       ],
       "scored": true,
       "setup": "",
       "teardown": "",
       "type": "doctest"
      }
     ]
    }
   }
  }
 },
 "nbformat": 4,
 "nbformat_minor": 5
}
