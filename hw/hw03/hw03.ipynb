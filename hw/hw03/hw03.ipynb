{
 "cells": [
  {
   "cell_type": "code",
   "execution_count": null,
   "metadata": {
    "deletable": false,
    "editable": false
   },
   "outputs": [],
   "source": [
    "# Initialize Otter\n",
    "import otter\n",
    "grader = otter.Notebook(\"hw03.ipynb\")"
   ]
  },
  {
   "cell_type": "markdown",
   "metadata": {
    "id": "cv-lsDwo1GfM"
   },
   "source": [
    "# Homework 03: Table Manipulation and Visualization"
   ]
  },
  {
   "cell_type": "markdown",
   "metadata": {
    "id": "50w1JUCE1GfO"
   },
   "source": [
    "**Helpful Reference:**\n",
    "* [Python Reference](https://www.data8.org/sp22/python-reference.html). Cheat sheet of helpful array & table methods used in this course!\n",
    "  \n",
    "**Reading**: \n",
    "* [Visualization](https://inferentialthinking.com/chapters/07/Visualization.html)"
   ]
  },
  {
   "cell_type": "markdown",
   "metadata": {
    "id": "1PMz0b1P1GfP"
   },
   "source": [
    "For all problems that you must write explanations and sentences for, you **must** provide your answer in the designated space. Moreover, throughout this homework and all future ones, please be sure to not re-assign variables throughout the notebook! For example, if you use `max_temperature` in your answer to one question, do not reassign it later on. Otherwise, you will fail tests that you thought you were passing previously!\n",
    "\n",
    "**Note: This homework has hidden tests on it. Additional tests will be run once your homework is submitted for grading. While you may pass all the tests you have access to before submission, you may not earn full credit if you do not pass the hidden tests as well.**. \n",
    "\n",
    "Many of the tests you have access to before submitting only test to ensure you have given an answer that is formatted correctly and/or you have given an answer that *could* make sense in context. For example, a test you have access to while completing the assignment may check that you selected a valid choice for a multiple choice problem (1, 2, or 3) or that your answer is an integer between 0 and 50 if asked to count a subset of states in the United States. The tests that are run after submission will evaluate your work for accuracy. **Do not assume that just because all your tests pass before submission means that your answers are correct!**\n",
    "\n",
    "Consult with your teacher and course syllabus for information and policies regarding appropriate collaboration with other students, appropriate use of AI tools, and submission of late work."
   ]
  },
  {
   "cell_type": "code",
   "execution_count": null,
   "metadata": {
    "execution": {
     "iopub.execute_input": "2024-01-26T21:06:28.433867Z",
     "iopub.status.busy": "2024-01-26T21:06:28.433261Z",
     "iopub.status.idle": "2024-01-26T21:06:30.182822Z",
     "shell.execute_reply": "2024-01-26T21:06:30.181983Z"
    },
    "id": "whnONjzu1GfQ"
   },
   "outputs": [],
   "source": [
    "# Don't change this cell; just run it. \n",
    "\n",
    "import numpy as np\n",
    "from datascience import *\n",
    "\n",
    "# These lines do some fancy plotting magic.\\n\",\n",
    "import matplotlib\n",
    "%matplotlib inline\n",
    "import matplotlib.pyplot as plots\n",
    "plots.style.use('fivethirtyeight')"
   ]
  },
  {
   "cell_type": "markdown",
   "metadata": {
    "id": "QauLshgH1GfT"
   },
   "source": [
    "## 1. Unemployment\n"
   ]
  },
  {
   "cell_type": "markdown",
   "metadata": {
    "id": "yp0vzYSM1GfU"
   },
   "source": [
    "The Federal Reserve Bank of St. Louis publishes data about jobs in the US.  Below, we've loaded data on unemployment in the United States. There are many ways of defining unemployment, and our dataset includes two notions of the unemployment rate:\n",
    "\n",
    "1. Among people who are able to work and are looking for a full-time job, **the percentage who can't find a job**.  This is called the Non-Employment Index, or NEI.\n",
    "2. Among people who are able to work and are looking for a full-time job, **the percentage who can't find any job** *or* **are only working at a part-time job**.  The latter group is called \"Part-Time for Economic Reasons\", so the acronym for this index is NEI-PTER.  (Economists are great at marketing.)\n",
    "\n",
    "Both metrics are calculated **monthly** by the Federal Reserve Bank of Richmond. For further information about this data, go to Federal Reserve Bank of Richmond's website on [Hornstein-Kudlyak-Lange Non-Employment Index](https://www.richmondfed.org/research/national_economy/non_employment_index). The original source of the data is [here for NEI](https://fred.stlouisfed.org/series/NEIM156SFRBRIC) and [here for NEI-PTER](https://fred.stlouisfed.org/series/NEIPTERM156SFRBRIC)."
   ]
  },
  {
   "cell_type": "markdown",
   "metadata": {
    "deletable": false,
    "editable": false,
    "id": "f6fgf1KD1GfX"
   },
   "source": [
    "#### Question 1.1.\n",
    "\n",
    "The data are provided in a CSV file called `unemployment.csv`.  Load that file into a table called `unemployment`."
   ]
  },
  {
   "cell_type": "code",
   "execution_count": null,
   "metadata": {
    "execution": {
     "iopub.execute_input": "2024-01-26T21:06:30.187039Z",
     "iopub.status.busy": "2024-01-26T21:06:30.186633Z",
     "iopub.status.idle": "2024-01-26T21:06:30.197545Z",
     "shell.execute_reply": "2024-01-26T21:06:30.196727Z"
    },
    "id": "vef1yRSY1GfY",
    "outputId": "69025978-e90d-4a1f-c737-b2059ea0731e",
    "tags": []
   },
   "outputs": [],
   "source": [
    "unemployment = ...\n",
    "unemployment"
   ]
  },
  {
   "cell_type": "code",
   "execution_count": null,
   "metadata": {
    "deletable": false,
    "editable": false
   },
   "outputs": [],
   "source": [
    "grader.check(\"q1_1\")"
   ]
  },
  {
   "cell_type": "markdown",
   "metadata": {
    "deletable": false,
    "editable": false,
    "id": "b7fqYZRY1Gfc"
   },
   "source": [
    "#### Question 1.2.\n",
    "\n",
    "Sort the data in descending order by NEI, naming the sorted table `by_nei`.  Create another table called `by_nei_pter` that's sorted in descending order by NEI-PTER instead."
   ]
  },
  {
   "cell_type": "code",
   "execution_count": null,
   "metadata": {
    "execution": {
     "iopub.execute_input": "2024-01-26T21:06:30.256410Z",
     "iopub.status.busy": "2024-01-26T21:06:30.256181Z",
     "iopub.status.idle": "2024-01-26T21:06:30.272352Z",
     "shell.execute_reply": "2024-01-26T21:06:30.259646Z"
    },
    "id": "cRmiz3s21Gfc",
    "tags": []
   },
   "outputs": [],
   "source": [
    "by_nei = ...\n",
    "by_nei_pter = ..."
   ]
  },
  {
   "cell_type": "code",
   "execution_count": null,
   "metadata": {
    "deletable": false,
    "editable": false
   },
   "outputs": [],
   "source": [
    "grader.check(\"q1_2\")"
   ]
  },
  {
   "cell_type": "markdown",
   "metadata": {
    "deletable": false,
    "editable": false,
    "id": "MBZEWpAE1Gfi"
   },
   "source": [
    "#### Question 1.3.\n",
    "\n",
    "Use `take` to make a table that only has the `Date` and `NEI` columns which contains only the data for the 10 months when NEI was the greatest. Call the new Table `greatest_nei` and sort it in descending order based on the `NEI` column. Recall that each row of `unemployment` represents a month.\n",
    "\n",
    "**Hint:** You will need to remember / look up how to keep only certain columns and rows from a Table."
   ]
  },
  {
   "cell_type": "code",
   "execution_count": null,
   "metadata": {
    "execution": {
     "iopub.execute_input": "2024-01-26T21:06:30.293340Z",
     "iopub.status.busy": "2024-01-26T21:06:30.293084Z",
     "iopub.status.idle": "2024-01-26T21:06:30.298373Z",
     "shell.execute_reply": "2024-01-26T21:06:30.297784Z"
    },
    "id": "kFXsuE851Gfj",
    "outputId": "f7f38a59-c4cf-4922-b9e5-02f1dff7a7e8",
    "tags": []
   },
   "outputs": [],
   "source": [
    "greatest_nei = ...\n",
    "greatest_nei"
   ]
  },
  {
   "cell_type": "code",
   "execution_count": null,
   "metadata": {
    "deletable": false,
    "editable": false
   },
   "outputs": [],
   "source": [
    "grader.check(\"q1_3\")"
   ]
  },
  {
   "cell_type": "markdown",
   "metadata": {
    "deletable": false,
    "editable": false,
    "id": "TqCJl6lf1Gfx"
   },
   "source": [
    "#### Question 1.4.\n",
    "\n",
    "It's believed that many people became PTER (recall: \"Part-Time for Economic Reasons\") in the \"Great Recession\" of 2008-2009 and during the first phase of the COVID-19 pandemic in 2020-2021. The next few questions will help you to create a set of data that will allow you to investigate this claim.\n",
    "\n",
    "Recall that NEI-PTER is the percentage of people who are unemployed (and counted in the NEI) plus the percentage of people who are PTER. **Compute an array** containing the percentage of people who were only PTER in each month.  (The first element of the array should correspond to the first row of `unemployment`, and so on.)\n",
    "\n",
    "*Note:* Use the original `unemployment` table for this."
   ]
  },
  {
   "cell_type": "code",
   "execution_count": null,
   "metadata": {
    "execution": {
     "iopub.execute_input": "2024-01-26T21:06:30.331158Z",
     "iopub.status.busy": "2024-01-26T21:06:30.330674Z",
     "iopub.status.idle": "2024-01-26T21:06:30.337367Z",
     "shell.execute_reply": "2024-01-26T21:06:30.336738Z"
    },
    "id": "npanx04p1Gf2",
    "outputId": "5f72c7b0-6e53-4214-d7d1-7543f74505f0",
    "tags": []
   },
   "outputs": [],
   "source": [
    "pter = ...\n",
    "pter"
   ]
  },
  {
   "cell_type": "code",
   "execution_count": null,
   "metadata": {
    "deletable": false,
    "editable": false
   },
   "outputs": [],
   "source": [
    "grader.check(\"q1_4\")"
   ]
  },
  {
   "cell_type": "markdown",
   "metadata": {
    "deletable": false,
    "editable": false,
    "id": "eDaDtGx31Gf4"
   },
   "source": [
    "#### Question 1.5.\n",
    "\n",
    "Add the `pter` array as a column named `PTER` to the original `unemployment` Table and sort the resulting Table by the `PTER` column in descending order. Call the new Table `by_pter`.\n",
    "\n",
    "Try to do this with a single line of code, if you can."
   ]
  },
  {
   "cell_type": "code",
   "execution_count": null,
   "metadata": {
    "execution": {
     "iopub.execute_input": "2024-01-26T21:06:30.384979Z",
     "iopub.status.busy": "2024-01-26T21:06:30.384755Z",
     "iopub.status.idle": "2024-01-26T21:06:30.390535Z",
     "shell.execute_reply": "2024-01-26T21:06:30.389955Z"
    },
    "id": "lSZqI0D_1Gf4",
    "outputId": "4f4db14c-a235-4225-fe96-827c4ee34129",
    "tags": []
   },
   "outputs": [],
   "source": [
    "by_pter = ...\n",
    "by_pter"
   ]
  },
  {
   "cell_type": "code",
   "execution_count": null,
   "metadata": {
    "deletable": false,
    "editable": false
   },
   "outputs": [],
   "source": [
    "grader.check(\"q1_5\")"
   ]
  },
  {
   "cell_type": "markdown",
   "metadata": {
    "deletable": false,
    "editable": false,
    "id": "XbOh2vHu1Gf5"
   },
   "source": [
    "<!-- BEGIN QUESTION -->\n",
    "\n",
    "#### Question 1.6.\n",
    "\n",
    "It would be helpful to create a line plot of the PTER over time to see how it has changed over the years. Unfortunately, the `Date` column is a string that can't be used as the independent variable of a line plot. You will need to create a new column, `Year`, that represents the year as a `float`. For example, January 1994 should be represented at `1994.0`, February 2000 should be represented as `2000.0833333333` (`0.0833333333` is $\\approx \\frac{1}{12}$), March 2020 would be represented as `2020.1666666667` and so on. \n",
    "\n",
    "First, think about how you could quickly create an array of these `float` values using a `numpy` function. Remember, the first row of the data starts with January 1994 (`1994.0`) and each row increases the year value by one twelfth of a year. Store this array to the name `year_array`.\n",
    "\n",
    "Then, add both the `year_array` array and the `pter` array to the original `unemployment` table. Label these columns `Year` and `PTER`. \n",
    "\n",
    "Lastly, generate a line plot using one of the table methods you've learned in class."
   ]
  },
  {
   "cell_type": "code",
   "execution_count": null,
   "metadata": {
    "execution": {
     "iopub.execute_input": "2024-01-26T21:06:30.415466Z",
     "iopub.status.busy": "2024-01-26T21:06:30.414854Z",
     "iopub.status.idle": "2024-01-26T21:06:30.734239Z",
     "shell.execute_reply": "2024-01-26T21:06:30.733558Z"
    },
    "id": "_QR2iOdV1Gf5",
    "outputId": "6fc925d0-0abe-490d-e15a-782c840a62ae",
    "tags": []
   },
   "outputs": [],
   "source": [
    "year_array = ...\n",
    "pter_over_time = ...\n",
    "..."
   ]
  },
  {
   "cell_type": "markdown",
   "metadata": {
    "deletable": false,
    "editable": false,
    "id": "nDUo6B-A1Gf_"
   },
   "source": [
    "<!-- END QUESTION -->\n",
    "\n",
    "<!-- BEGIN QUESTION -->\n",
    "\n",
    "#### Question 1.7.\n",
    "\n",
    "Were PTER rates higher than usual during the Great Recession and during the COVID-19 pandemic (that is to say, were PTER rates particularly high in the years 2008-2011 and 2020-2021)? Write an explanation of your opinion backed by the data displayed in the line plot created in the previous question, and any additional statistical analysis you perform. Cite specific historical events that align with key dates when possible to add context to your explanation."
   ]
  },
  {
   "cell_type": "markdown",
   "metadata": {},
   "source": [
    "_Type your answer here, replacing this text._"
   ]
  },
  {
   "cell_type": "markdown",
   "metadata": {
    "deletable": false,
    "editable": false,
    "id": "b4zLSHhg1GgC"
   },
   "source": [
    "<!-- END QUESTION -->\n",
    "\n",
    "## 2. Birth Rates\n"
   ]
  },
  {
   "cell_type": "markdown",
   "metadata": {
    "id": "3Zf5FA951GgC"
   },
   "source": [
    "The following table gives census-based population estimates for each state on both July 1, 2019 and July 1, 2020. The last four columns describe the components of the estimated change in population during this time interval. **For all questions below, assume that the word \"states\" refers to all 52 rows including Puerto Rico & the District of Columbia.**\n",
    "\n",
    "The data was taken from the [US Census Website](https://www2.census.gov/programs-surveys/popest/datasets/2010-2020/national/totals/). If you want to read more about the different column descriptions, click [here](https://www2.census.gov/programs-surveys/popest/datasets/2010-2016/national/totals/nst-est2016-alldata.pdf)!\n",
    "\n",
    "The raw data is a bit messy and contains a large amount of additional data - run the cell below to pare down and clean the table to make it easier to work with."
   ]
  },
  {
   "cell_type": "code",
   "execution_count": null,
   "metadata": {
    "execution": {
     "iopub.execute_input": "2024-01-26T21:06:30.737833Z",
     "iopub.status.busy": "2024-01-26T21:06:30.737575Z",
     "iopub.status.idle": "2024-01-26T21:06:30.765256Z",
     "shell.execute_reply": "2024-01-26T21:06:30.764598Z"
    },
    "id": "fJcJV8dF1GgC",
    "outputId": "bc417098-4c9f-4805-f91e-f4cdb2d101ea"
   },
   "outputs": [],
   "source": [
    "# Don't change this cell; just run it.\n",
    "pop = Table.read_table('nst-est2020-alldata.csv').where('SUMLEV', 40).select([\"REGION\", \"NAME\", 'POPESTIMATE2019', 'POPESTIMATE2020', 'BIRTHS2020', 'DEATHS2020', 'NETMIG2020', 'RESIDUAL2020'])\n",
    "pop = pop.relabeled('POPESTIMATE2019', '2019').relabeled('POPESTIMATE2020', '2020')\n",
    "pop = pop.relabeled('BIRTHS2020', 'BIRTHS').relabeled('DEATHS2020', 'DEATHS')\n",
    "pop = pop.relabeled('NETMIG2020', 'MIGRATION').relabeled('RESIDUAL2020', 'OTHER')\n",
    "pop = pop.with_columns(\"REGION\", np.array([int(region) if region != \"X\" else 0 for region in pop.column(\"REGION\")]))\n",
    "pop.set_format([2, 3, 4, 5, 6, 7], NumberFormatter(decimals=0)).show(5)"
   ]
  },
  {
   "cell_type": "markdown",
   "metadata": {},
   "source": [
    "Each of the columns `BIRTHS`, `DEATHS`, `MIGRATION`, and `OTHER` represent a change in the population of the state between 2019 and 2020, measured in individual people, due to: \n",
    "\n",
    "* **Births**. This number represents how much the population has increased due to births.\n",
    "* **Deaths**. This number represents how much the population has decreased due to deaths. \n",
    "* **Migration**. This number represents how much the population has changed due to people moving in our out of the state. A positive number represents a net increase in the state population and a negative number represents a net decrease in the state population.\n",
    "* **Other** This number represents how much the population has changed due to all other reasons. A positive number represents a net increase in the state population and a negative number represents a net decrease in the state population."
   ]
  },
  {
   "cell_type": "markdown",
   "metadata": {
    "deletable": false,
    "editable": false,
    "id": "UQ-dIXSk1GgD"
   },
   "source": [
    "#### Question 2.1.\n",
    "\n",
    "Investigate the national birth *rate* during this time period. Assign `us_birth_rate` to the total US annual birth rate during this time interval. The annual birth rate for a year-long period is the total number of births in that period as a proportion of the population size at the start of the time period.\n",
    "\n",
    "**Hint:** Which year corresponds to the start of the time period?"
   ]
  },
  {
   "cell_type": "code",
   "execution_count": null,
   "metadata": {
    "execution": {
     "iopub.execute_input": "2024-01-26T21:06:30.775287Z",
     "iopub.status.busy": "2024-01-26T21:06:30.774708Z",
     "iopub.status.idle": "2024-01-26T21:06:30.779974Z",
     "shell.execute_reply": "2024-01-26T21:06:30.779386Z"
    },
    "id": "8iTEnHFY1GgD",
    "outputId": "bef361e5-d093-4717-8fa7-09dcb422675f",
    "tags": []
   },
   "outputs": [],
   "source": [
    "us_birth_rate = ...\n",
    "us_birth_rate"
   ]
  },
  {
   "cell_type": "code",
   "execution_count": null,
   "metadata": {
    "deletable": false,
    "editable": false
   },
   "outputs": [],
   "source": [
    "grader.check(\"q2_1\")"
   ]
  },
  {
   "cell_type": "markdown",
   "metadata": {
    "deletable": false,
    "editable": false,
    "id": "yCsAbtyI1GgF"
   },
   "source": [
    "#### Question 2.2.\n",
    "\n",
    "Investigate the states who had a relatively large percentage of their population move either into the state or out of the state. Use Table and array methods to determine the **number of states** that had more than 0.5% of their population move in or out. The annual rate of migration for a year-long period is the net number of migrations (in and out) as a proportion of the population size at the start of the period. \n",
    "\n",
    "Start by creating an extension to the `population` Table named `migration_rates` that contains a new column that contains the value of the **annual *net* rate of migration** for each state. Then, determine how many states had net migration rates higher than 0.5%.\n",
    "\n"
   ]
  },
  {
   "cell_type": "code",
   "execution_count": null,
   "metadata": {
    "execution": {
     "iopub.execute_input": "2024-01-26T21:06:30.805162Z",
     "iopub.status.busy": "2024-01-26T21:06:30.804919Z",
     "iopub.status.idle": "2024-01-26T21:06:30.810565Z",
     "shell.execute_reply": "2024-01-26T21:06:30.809932Z"
    },
    "id": "N4FwdLLw1GgF",
    "outputId": "f1ad7d29-9e42-44f1-bcdd-a4e862b6715c",
    "tags": []
   },
   "outputs": [],
   "source": [
    "migration_rates = ...\n",
    "movers = ...\n",
    "movers"
   ]
  },
  {
   "cell_type": "code",
   "execution_count": null,
   "metadata": {
    "deletable": false,
    "editable": false
   },
   "outputs": [],
   "source": [
    "grader.check(\"q2_2\")"
   ]
  },
  {
   "cell_type": "markdown",
   "metadata": {
    "deletable": false,
    "editable": false,
    "id": "41KhxqWh1GgJ"
   },
   "source": [
    "#### Question 2.3.\n",
    "\n",
    "Investigate the total number of births that occurred in the Southeastern US between 2019 and 2020. Use Table and array methods to assign the total number of births, an integer, that occurred in region 3 (the Southeastern US) to `southeast_births`."
   ]
  },
  {
   "cell_type": "code",
   "execution_count": null,
   "metadata": {
    "execution": {
     "iopub.execute_input": "2024-01-26T21:06:30.875040Z",
     "iopub.status.busy": "2024-01-26T21:06:30.874763Z",
     "iopub.status.idle": "2024-01-26T21:06:30.880564Z",
     "shell.execute_reply": "2024-01-26T21:06:30.879964Z"
    },
    "id": "XSOcMn--1GgK",
    "outputId": "b2880d6d-f8c6-4850-ae6f-cec915aa1550",
    "tags": []
   },
   "outputs": [],
   "source": [
    "southeast_births = ...\n",
    "southeast_births"
   ]
  },
  {
   "cell_type": "code",
   "execution_count": null,
   "metadata": {
    "deletable": false,
    "editable": false
   },
   "outputs": [],
   "source": [
    "grader.check(\"q2_3\")"
   ]
  },
  {
   "cell_type": "markdown",
   "metadata": {
    "deletable": false,
    "editable": false,
    "id": "4ghvudlH1GgK"
   },
   "source": [
    "#### Question 2.4.\n",
    "\n",
    "Assign `less_than_south_births` to the **number of states** that had a total population in 2019 that was smaller than the **total *number of births* in region 3 (the Southeastern US)** during this time interval."
   ]
  },
  {
   "cell_type": "code",
   "execution_count": null,
   "metadata": {
    "execution": {
     "iopub.execute_input": "2024-01-26T21:06:30.905066Z",
     "iopub.status.busy": "2024-01-26T21:06:30.904590Z",
     "iopub.status.idle": "2024-01-26T21:06:30.909158Z",
     "shell.execute_reply": "2024-01-26T21:06:30.908609Z"
    },
    "id": "bG5_4NTQ1GgL",
    "outputId": "1d1f3753-7a4f-4c98-dff6-b55e11d82662",
    "tags": []
   },
   "outputs": [],
   "source": [
    "less_than_south_births = ...\n",
    "less_than_south_births"
   ]
  },
  {
   "cell_type": "code",
   "execution_count": null,
   "metadata": {
    "deletable": false,
    "editable": false
   },
   "outputs": [],
   "source": [
    "grader.check(\"q2_4\")"
   ]
  },
  {
   "cell_type": "markdown",
   "metadata": {
    "deletable": false,
    "editable": false,
    "id": "omR27W4h1GgM"
   },
   "source": [
    "<!-- BEGIN QUESTION -->\n",
    "\n",
    "#### Question 2.5. \n",
    "\n",
    "In the next question, you will be creating a visualization to understand the relationship between birth and death rates. The annual death rate for a year-long period is the total number of deaths in that period as a proportion of the population size at the start of the time period.\n",
    "\n",
    "What visualization is most appropriate to see if there is an association between birth and death rates during a given time interval?\n",
    "\n",
    "1. Scatter Plot\n",
    "2. Line Graph\n",
    "3. Vertical Bar Chart\n",
    "4. Horizontal Chart\n",
    "5. Histogram\n",
    "\n",
    "Assign `visualization` below to the number corresponding to the correct visualization."
   ]
  },
  {
   "cell_type": "code",
   "execution_count": null,
   "metadata": {
    "execution": {
     "iopub.execute_input": "2024-01-26T21:06:30.932580Z",
     "iopub.status.busy": "2024-01-26T21:06:30.932357Z",
     "iopub.status.idle": "2024-01-26T21:06:30.935592Z",
     "shell.execute_reply": "2024-01-26T21:06:30.934976Z"
    },
    "id": "1ZeGSpuD1GgM",
    "tags": []
   },
   "outputs": [],
   "source": [
    "visualization = ..."
   ]
  },
  {
   "cell_type": "code",
   "execution_count": null,
   "metadata": {
    "deletable": false,
    "editable": false
   },
   "outputs": [],
   "source": [
    "grader.check(\"q2_5\")"
   ]
  },
  {
   "cell_type": "markdown",
   "metadata": {
    "deletable": false,
    "editable": false,
    "id": "TlKY2vEr1GgP"
   },
   "source": [
    "<!-- END QUESTION -->\n",
    "\n",
    "<!-- BEGIN QUESTION -->\n",
    "\n",
    "#### Question 2.6. \n",
    "\n",
    "In the code cell below, create a visualization that will help us determine if there is an association between birth rate and death rate during this time interval. You can take as many steps as you need, as you may find it helpful to create a new Table before creating the visualization."
   ]
  },
  {
   "cell_type": "code",
   "execution_count": null,
   "metadata": {
    "execution": {
     "iopub.execute_input": "2024-01-26T21:06:30.978886Z",
     "iopub.status.busy": "2024-01-26T21:06:30.978649Z",
     "iopub.status.idle": "2024-01-26T21:06:31.278360Z",
     "shell.execute_reply": "2024-01-26T21:06:31.277690Z"
    },
    "id": "Q4UUMYnd1GgQ",
    "outputId": "c67122b7-6ad6-4f17-db5b-60f308de0a10",
    "tags": []
   },
   "outputs": [],
   "source": [
    "# Generate your chart in this cell\n",
    "..."
   ]
  },
  {
   "cell_type": "markdown",
   "metadata": {
    "deletable": false,
    "editable": false,
    "id": "f0kKJ0_O1GgR"
   },
   "source": [
    "<!-- END QUESTION -->\n",
    "\n",
    "<!-- BEGIN QUESTION -->\n",
    "\n",
    "#### Question 2.7.\n",
    "\n",
    "Is there is an association between birth rate and death rate during this time interval? If so, how would you describe it? If not, how were you able to determine there was no association? **Write an explanation of your opinion backed by the data displayed in the visualization created in the previous question.** Offer an explanation as to why you believe it makes sense that there is or is not a correlation between these variables in context of the data. Meaning, why would it make sense for birth and death rates to have an association or not have an association?\n"
   ]
  },
  {
   "cell_type": "markdown",
   "metadata": {},
   "source": [
    "_Type your answer here, replacing this text._"
   ]
  },
  {
   "cell_type": "markdown",
   "metadata": {
    "deletable": false,
    "editable": false,
    "id": "pV9qm8Nn1GgT"
   },
   "source": [
    "<!-- END QUESTION -->\n",
    "\n",
    "## 3. Marginal Histograms\n"
   ]
  },
  {
   "cell_type": "markdown",
   "metadata": {
    "id": "jQjCuJ781GgT"
   },
   "source": [
    "Consider the following scatter plot: \n",
    "\n",
    "![](scatter.png)\n",
    "\n",
    "The axes of the plot represent values of two variables: $x$ and $y$. "
   ]
  },
  {
   "cell_type": "markdown",
   "metadata": {
    "id": "lAVZGjGI1GgT"
   },
   "source": [
    "Suppose we have a table called `t` that has two columns in it:\n",
    "\n",
    "- `x`: a column containing the x-values of the points in the scatter plot\n",
    "- `y`: a column containing the y-values of the points in the scatter plot"
   ]
  },
  {
   "cell_type": "markdown",
   "metadata": {
    "id": "pvgGTVdm1GgT"
   },
   "source": [
    "Below, you are given two histograms, each of which corresponds to either column `x` or column `y`. "
   ]
  },
  {
   "cell_type": "markdown",
   "metadata": {
    "id": "tU9Ei5mF1GgT"
   },
   "source": [
    "**Histogram A:** \n",
    "\n",
    "![](var1.png)\n",
    "\n",
    "**Histogram B:** \n",
    "\n",
    "![](var2.png)"
   ]
  },
  {
   "cell_type": "markdown",
   "metadata": {
    "deletable": false,
    "editable": false,
    "id": "L3EsgbGM1GgU"
   },
   "source": [
    "#### Question 3.1.\n",
    "\n",
    "Suppose we run `t.hist('x')`. Which histogram does this code produce? Assign `histogram_column_x` to either 1 or 2.\n",
    "\n",
    "1. Histogram A\n",
    "2. Histogram B"
   ]
  },
  {
   "cell_type": "code",
   "execution_count": null,
   "metadata": {
    "execution": {
     "iopub.execute_input": "2024-01-26T21:06:31.282135Z",
     "iopub.status.busy": "2024-01-26T21:06:31.281875Z",
     "iopub.status.idle": "2024-01-26T21:06:31.285486Z",
     "shell.execute_reply": "2024-01-26T21:06:31.284846Z"
    },
    "id": "I_00VHuj1GgU",
    "tags": []
   },
   "outputs": [],
   "source": [
    "histogram_column_x = ..."
   ]
  },
  {
   "cell_type": "code",
   "execution_count": null,
   "metadata": {
    "deletable": false,
    "editable": false
   },
   "outputs": [],
   "source": [
    "grader.check(\"q3_1\")"
   ]
  },
  {
   "cell_type": "markdown",
   "metadata": {
    "deletable": false,
    "editable": false,
    "id": "PDeKTz4w1GgV"
   },
   "source": [
    "<!-- BEGIN QUESTION -->\n",
    "\n",
    "#### Question 3.2.\n",
    "\n",
    "State at least one reason why you chose the histogram from Question 3.1. Make sure to indicate which histogram you selected (ex: \"I chose histogram A because ...\") and cite one or more specific characteristics from the scatter plot to support your choice."
   ]
  },
  {
   "cell_type": "markdown",
   "metadata": {},
   "source": [
    "_Type your answer here, replacing this text._"
   ]
  },
  {
   "cell_type": "markdown",
   "metadata": {
    "deletable": false,
    "editable": false,
    "id": "XG3sZO6Z1GgW"
   },
   "source": [
    "<!-- END QUESTION -->\n",
    "\n",
    "## 4. Uber\n"
   ]
  },
  {
   "cell_type": "markdown",
   "metadata": {
    "id": "bxvsQRjQ1GgW"
   },
   "source": [
    "Every day millions of people use ride sharing apps, like Uber and Lyft, to get around their cities and towns. The [Uber Movement](https://movement.uber.com) project has released data on how people are traveling throughout some of the largest cities in the world. Investigate how Uber rides might be different in two large cities: Boston, MA in the USA and Manila in the Philippines.\n",
    "\n",
    "Each data set below contains 200,000 weekday Uber rides for each city. The `sourceid` and `dstid` columns contain codes corresponding to start and end locations of each ride. The `hod` column contains codes corresponding to the hour of the day the ride took place. The `ride time` column contains the length of the ride, in minutes.\n",
    "\n",
    "Run the cells below to load the data for both cities."
   ]
  },
  {
   "cell_type": "code",
   "execution_count": null,
   "metadata": {
    "execution": {
     "iopub.execute_input": "2024-01-26T21:06:31.302938Z",
     "iopub.status.busy": "2024-01-26T21:06:31.302717Z",
     "iopub.status.idle": "2024-01-26T21:06:31.955286Z",
     "shell.execute_reply": "2024-01-26T21:06:31.954628Z"
    },
    "id": "qfE6QTLY1GgX",
    "outputId": "686c82fd-a150-4101-af7e-1bea7d7184c4"
   },
   "outputs": [],
   "source": [
    "boston = Table.read_table(\"boston.csv\")\n",
    "boston"
   ]
  },
  {
   "cell_type": "code",
   "execution_count": null,
   "metadata": {
    "execution": {
     "iopub.execute_input": "2024-01-26T21:06:31.958340Z",
     "iopub.status.busy": "2024-01-26T21:06:31.958085Z",
     "iopub.status.idle": "2024-01-26T21:06:32.581894Z",
     "shell.execute_reply": "2024-01-26T21:06:32.581147Z"
    }
   },
   "outputs": [],
   "source": [
    "manila = Table.read_table(\"manila.csv\")\n",
    "manila"
   ]
  },
  {
   "cell_type": "markdown",
   "metadata": {
    "deletable": false,
    "editable": false,
    "id": "54V_D-Ph1GgX"
   },
   "source": [
    "<!-- BEGIN QUESTION -->\n",
    "\n",
    "#### Question 4.1.\n",
    "\n",
    "To start investigating the differences in these two cities, visualize the distribution of ride times in each of the cities.\n",
    "\n",
    "Produce two histograms, one for each city, that shows the distribution of all ride times. Use the provided bin sizes that are stored to the array `equal_bins` and **assign the horizontal label to have the correct units**. Need to remember how? Reread [7.2.2: Histograms ](https://inferentialthinking.com/chapters/07/2/Visualizing_Numerical_Distributions.html#histogram) in the textbook!"
   ]
  },
  {
   "cell_type": "code",
   "execution_count": null,
   "metadata": {
    "execution": {
     "iopub.execute_input": "2024-01-26T21:06:32.585554Z",
     "iopub.status.busy": "2024-01-26T21:06:32.584890Z",
     "iopub.status.idle": "2024-01-26T21:06:33.325095Z",
     "shell.execute_reply": "2024-01-26T21:06:33.324414Z"
    },
    "id": "ueSgilO51GgX",
    "outputId": "bf968c7e-ce74-4cc0-9702-76d02e2f0410",
    "tags": []
   },
   "outputs": [],
   "source": [
    "equal_bins = np.arange(0, 120, 5)\n",
    "...\n",
    "..."
   ]
  },
  {
   "cell_type": "markdown",
   "metadata": {
    "deletable": false,
    "editable": false,
    "id": "mw65Nyox1GgY"
   },
   "source": [
    "<!-- END QUESTION -->\n",
    "\n",
    "#### Question 4.2.\n",
    "\n",
    "Assign `boston_under_10` and `manila_under_10` to the percentage of rides that are less than 10 minutes in their respective metropolitan areas. The table below shows you the height of each bar in the histogram, measured in percent per minute, for the first few bars of the histograms you produced in the previous question.\n",
    "\n",
    "| bin | Boston | Manilla |\n",
    "|-----|--------|---------|\n",
    "|[0, 5) | 1.2 | 0.6 |\n",
    "|[5, 10) | 3.2 | 1.4 |\n",
    "|[10, 15) | 4.95| 2.25|\n",
    "|[15, 20) | 4.6 | 2.55 |\n",
    "\n",
    "Your solution should be determined using only the information in this table, and you should not access the tables `boston` and `manila` in any way."
   ]
  },
  {
   "cell_type": "code",
   "execution_count": null,
   "metadata": {
    "execution": {
     "iopub.execute_input": "2024-01-26T21:06:33.328328Z",
     "iopub.status.busy": "2024-01-26T21:06:33.328067Z",
     "iopub.status.idle": "2024-01-26T21:06:33.331493Z",
     "shell.execute_reply": "2024-01-26T21:06:33.330880Z"
    },
    "id": "K7pQGmnS1GgY",
    "tags": []
   },
   "outputs": [],
   "source": [
    "boston_under_10 = ...\n",
    "manila_under_10 = ..."
   ]
  },
  {
   "cell_type": "code",
   "execution_count": null,
   "metadata": {
    "deletable": false,
    "editable": false
   },
   "outputs": [],
   "source": [
    "grader.check(\"q4_2\")"
   ]
  },
  {
   "cell_type": "markdown",
   "metadata": {
    "deletable": false,
    "editable": false,
    "id": "kYmD7VgI1GgZ"
   },
   "source": [
    "#### Question 4.3.\n",
    "\n",
    "Let's take a closer look at the distribution of ride times in Manila. Assign `manila_median_bin` to an integer (1, 2, 3, or 4) that corresponds to the bin that contains the median time \n",
    "\n",
    "1. 0-15 minutes  \n",
    "2. 15-40 minutes  \n",
    "3. 40-60 minutes  \n",
    "4. 60-80 minutes  \n",
    "\n",
    "**Hint:** The median of a sorted list has half of the list elements to its left, and half to its right"
   ]
  },
  {
   "cell_type": "code",
   "execution_count": null,
   "metadata": {
    "execution": {
     "iopub.execute_input": "2024-01-26T21:06:33.372834Z",
     "iopub.status.busy": "2024-01-26T21:06:33.372448Z",
     "iopub.status.idle": "2024-01-26T21:06:33.375685Z",
     "shell.execute_reply": "2024-01-26T21:06:33.375050Z"
    },
    "id": "aQH9DlFy1GgZ",
    "tags": []
   },
   "outputs": [],
   "source": [
    "manila_median_bin = ..."
   ]
  },
  {
   "cell_type": "code",
   "execution_count": null,
   "metadata": {
    "deletable": false,
    "editable": false
   },
   "outputs": [],
   "source": [
    "grader.check(\"q4_3\")"
   ]
  },
  {
   "cell_type": "markdown",
   "metadata": {
    "deletable": false,
    "editable": false,
    "id": "Z_12Yx1t1Gga"
   },
   "source": [
    "<!-- BEGIN QUESTION -->\n",
    "\n",
    "#### Question 4.4.\n",
    "\n",
    "Describe the main differences between the two histograms / the differences between the distributions of Uber ride lengths in these two cities. What about these two cities might be causing the differences in the distributions of ride times? \n",
    "\n",
    "**Write an explanation** of your opinion backed by the data displayed in the histograms created in the previous questions, and any additional statistical analysis you perform. Cite specific qualities of these cities when possible to add context to your explanation."
   ]
  },
  {
   "cell_type": "markdown",
   "metadata": {},
   "source": [
    "_Type your answer here, replacing this text._"
   ]
  },
  {
   "cell_type": "markdown",
   "metadata": {
    "deletable": false,
    "editable": false,
    "id": "jLUMbuI21Gga"
   },
   "source": [
    "<!-- END QUESTION -->\n",
    "\n",
    "# Submitting your work\n",
    "You're done with this assignment! Assignments should be turned in using the following best practices:\n",
    "1. Save your notebook.\n",
    "2. Restart the kernel and run all cells up to this one.\n",
    "3. Run the cell below with the code `grader.export(...)`. This will re-run all the tests. Make sure they are passing as you expect them to.\n",
    "4. Download the file named `hw03_<date-time-stamp>.zip`, found in the explorer pane on the left side of the screen. **Note**: Clicking on the link in this notebook may result in an error, it's best to download from the file explorer panel.\n",
    "5. Upload `hw03_<date-time-stamp>.zip` to the corresponding assignment on Canvas."
   ]
  },
  {
   "cell_type": "markdown",
   "metadata": {
    "deletable": false,
    "editable": false
   },
   "source": [
    "## Submission\n",
    "\n",
    "Make sure you have run all cells in your notebook in order before running the cell below, so that all images/graphs appear in the output. The cell below will generate a zip file for you to submit."
   ]
  },
  {
   "cell_type": "code",
   "execution_count": null,
   "metadata": {
    "deletable": false,
    "editable": false
   },
   "outputs": [],
   "source": [
    "grader.export(pdf=False, force_save=True)"
   ]
  },
  {
   "cell_type": "markdown",
   "metadata": {},
   "source": [
    " "
   ]
  }
 ],
 "metadata": {
  "colab": {
   "name": "hw03.ipynb",
   "provenance": []
  },
  "kernelspec": {
   "display_name": "Python 3 (ipykernel)",
   "language": "python",
   "name": "python3"
  },
  "language_info": {
   "codemirror_mode": {
    "name": "ipython",
    "version": 3
   },
   "file_extension": ".py",
   "mimetype": "text/x-python",
   "name": "python",
   "nbconvert_exporter": "python",
   "pygments_lexer": "ipython3",
   "version": "3.11.5"
  },
  "otter": {
   "OK_FORMAT": true,
   "tests": {
    "q1_1": {
     "name": "q1_1",
     "points": null,
     "suites": [
      {
       "cases": [
        {
         "code": ">>> type(unemployment) == Table\nTrue",
         "failure_message": "❌ You did not assign a Table to `unemployment`",
         "hidden": false,
         "locked": false,
         "points": 0.5,
         "success_message": "✅ You assigned a Table to `unemployment`"
        },
        {
         "code": ">>> unemployment.labels == ('Date', 'NEI', 'NEI-PTER')\nTrue",
         "failure_message": "❌ Your Table doesn't have the correct labels, did you load in the correct file?",
         "hidden": false,
         "locked": false,
         "points": 0.5,
         "success_message": "✅ Your Table has the correct labels"
        }
       ],
       "scored": true,
       "setup": "",
       "teardown": "",
       "type": "doctest"
      }
     ]
    },
    "q1_2": {
     "name": "q1_2",
     "points": null,
     "suites": [
      {
       "cases": [
        {
         "code": ">>> by_nei.take(0)\nDate       | NEI     | NEI-PTER\n2020-04-01 | 15.5246 | 17.7342",
         "failure_message": "❌ You did not sort the NEI Table correctly. Did you sort in ascending order?",
         "hidden": false,
         "locked": false,
         "points": 0.5,
         "success_message": "✅ You sorted the NEI Table correctly"
        },
        {
         "code": ">>> by_nei_pter.take(0)\nDate       | NEI     | NEI-PTER\n2020-04-01 | 15.5246 | 17.7342",
         "failure_message": "❌ You did not sort the NEI-PTER Table correctly. Did you sort in ascending order?",
         "hidden": false,
         "locked": false,
         "points": 0.5,
         "success_message": "✅ You sorted the NEI-PTER Table correctly"
        }
       ],
       "scored": true,
       "setup": "",
       "teardown": "",
       "type": "doctest"
      }
     ]
    },
    "q1_3": {
     "name": "q1_3",
     "points": null,
     "suites": [
      {
       "cases": [
        {
         "code": ">>> greatest_nei.num_rows == 10\nTrue",
         "failure_message": "❌ Your Table does not have 10 rows. Make sure you're using `take` and not `show` to keep the top 10 rows.",
         "hidden": false,
         "locked": false,
         "points": 0.25,
         "success_message": "✅ Your Table has 10 rows"
        },
        {
         "code": ">>> greatest_nei.num_columns == 2 and greatest_nei.labels == ('Date', 'NEI')\nTrue",
         "failure_message": "❌ Your Table does not have the correct labels and/or has an incorrect number of columns. Make sure you remove the NEI-PTER column",
         "hidden": false,
         "locked": false,
         "points": 0.25,
         "success_message": "✅ Your Table has the correct column labels, and you dropped the NEI-PTER column"
        },
        {
         "code": ">>> greatest_nei.take(0)\nDate       | NEI\n2020-04-01 | 15.5246",
         "failure_message": "❌ The first row is incorrect",
         "hidden": false,
         "locked": false,
         "points": 0.25,
         "success_message": "✅ The first row is correct"
        },
        {
         "code": ">>> greatest_nei.take(9)\nDate       | NEI\n2009-11-01 | 10.7959",
         "failure_message": "❌ The last row is incorrect",
         "hidden": false,
         "locked": false,
         "points": 0.25,
         "success_message": "✅ The last row is correct"
        }
       ],
       "scored": true,
       "setup": "",
       "teardown": "",
       "type": "doctest"
      }
     ]
    },
    "q1_4": {
     "name": "q1_4",
     "points": null,
     "suites": [
      {
       "cases": [
        {
         "code": ">>> type(pter) == np.ndarray and len(pter) == 355\nTrue",
         "failure_message": "❌ `pter` is not an array and/or it does not have the correct number of elements in the array",
         "hidden": false,
         "locked": false,
         "points": 0.5,
         "success_message": "✅ Your array has the correct number of elements"
        },
        {
         "code": ">>> np.isclose(np.average(pter), 1.1446692178957745) and np.isclose(np.std(pter), 0.34417583268451174)\nTrue",
         "failure_message": "❌ You did not correctly compute the PTER values. Did you subtract the columns in the wrong order?",
         "hidden": false,
         "locked": false,
         "points": 0.5,
         "success_message": "✅ You correctly computed the PTER values"
        }
       ],
       "scored": true,
       "setup": "",
       "teardown": "",
       "type": "doctest"
      }
     ]
    },
    "q1_5": {
     "name": "q1_5",
     "points": null,
     "suites": [
      {
       "cases": [
        {
         "code": ">>> type(by_pter) == Table\nTrue",
         "failure_message": "❌ `by_pter` is not a Table. Did you create an array by accident?",
         "hidden": false,
         "locked": false,
         "points": 0.25,
         "success_message": "✅ `by_pter` is Table"
        },
        {
         "code": ">>> by_pter.labels == ('Date', 'NEI', 'NEI-PTER', 'PTER')\nTrue",
         "failure_message": "❌ `by_pter` has incorrect labels, or they are in the incorrect order",
         "hidden": false,
         "locked": false,
         "points": 0.25,
         "success_message": "✅ `by_pter` has the correct labels in the correct order"
        },
        {
         "code": ">>> np.allclose(by_pter.column('PTER').take(np.arange(10)), np.array([2.20961105, 2.07461204, 1.93924354, 1.93783426, 1.93139021, 1.93093857, 1.92852378, 1.92016155, 1.91918626, 1.90577312]))\nTrue",
         "failure_message": "❌ `by_pter` Table is not correctly sorted by the PTER column. Did you accidentally sort in ascending order?",
         "hidden": false,
         "locked": false,
         "points": 0.5,
         "success_message": "✅ `by_pter` Table is correctly sorted by the PTER column"
        }
       ],
       "scored": true,
       "setup": "",
       "teardown": "",
       "type": "doctest"
      }
     ]
    },
    "q2_1": {
     "name": "q2_1",
     "points": null,
     "suites": [
      {
       "cases": [
        {
         "code": ">>> type(us_birth_rate) == float or type(us_birth_rate) == np.float64\nTrue",
         "failure_message": "❌ Your birth rate is not a float. Did you compute an array instead?",
         "hidden": false,
         "locked": false,
         "points": 0.1,
         "success_message": "✅ Your birth rate is a single float"
        },
        {
         "code": ">>> 0 < us_birth_rate < 1\nTrue",
         "failure_message": "❌ Your birth rate is not a number between 0 and 1. Remember, the birth rate should be a proportion.",
         "hidden": false,
         "locked": false,
         "points": 0.15,
         "success_message": "✅ Your birth rate is a proportion between 0 and 1"
        }
       ],
       "scored": true,
       "setup": "",
       "teardown": "",
       "type": "doctest"
      }
     ]
    },
    "q2_2": {
     "name": "q2_2",
     "points": null,
     "suites": [
      {
       "cases": [
        {
         "code": ">>> type(migration_rates) == Table\nTrue",
         "failure_message": "❌ `migration_rates` is not a Table",
         "hidden": false,
         "locked": false,
         "points": 0,
         "success_message": "✅ `migration_rates` is a Table"
        },
        {
         "code": ">>> type(movers) == int or type(mover) == np.int64\nTrue",
         "failure_message": "❌ `movers` is not an integer",
         "hidden": false,
         "locked": false,
         "points": 0,
         "success_message": "✅ `movers` is an intger"
        },
        {
         "code": ">>> 0 < movers <= 52\nTrue",
         "failure_message": "❌ `movers` is not a number between 0 and 52, but it should be since it represents a count of states in the USA",
         "hidden": false,
         "locked": false,
         "points": 0.1,
         "success_message": "✅ `movers` is a number between 0 and 52"
        },
        {
         "code": ">>> movers != 14\nTrue",
         "failure_message": "❌ `movers` currently is counting only the states with positive migration rates over 0.5 percent, but it should count both the positive and negative rates over 0.5 percent",
         "hidden": false,
         "locked": false,
         "points": 0.1,
         "success_message": "✅ You avoided a common mistake of only counting states with positive migration rates over 0.5 percent"
        }
       ],
       "scored": true,
       "setup": "",
       "teardown": "",
       "type": "doctest"
      }
     ]
    },
    "q2_3": {
     "name": "q2_3",
     "points": null,
     "suites": [
      {
       "cases": [
        {
         "code": ">>> type(southeast_births) == int or type(southeast_births) == np.int64\nTrue",
         "failure_message": "❌ `southeast_births` is not an intger",
         "hidden": false,
         "locked": false,
         "points": 0.1,
         "success_message": "✅ `southeast_births` is an integer"
        },
        {
         "code": ">>> 1000000.0 < southeast_births < 2000000.0\nTrue",
         "failure_message": "❌ `southeast_births` is not between 1 and 2 million, which it should be. Are you including too many or too few states?",
         "hidden": false,
         "locked": false,
         "points": 0.1,
         "success_message": "✅ `southeast_births` is correctly between 1,000,000 and 2,000,000."
        }
       ],
       "scored": true,
       "setup": "",
       "teardown": "",
       "type": "doctest"
      }
     ]
    },
    "q2_4": {
     "name": "q2_4",
     "points": null,
     "suites": [
      {
       "cases": [
        {
         "code": ">>> type(less_than_south_births) == int or type(less_than_south_births) == np.int64\nTrue",
         "failure_message": "❌ `southeast_births` is not an intger",
         "hidden": false,
         "locked": false,
         "points": 0.1,
         "success_message": "✅ `southeast_births` is an integer"
        },
        {
         "code": ">>> 0 <= less_than_south_births <= 52\nTrue",
         "failure_message": "❌ `less_than_south_births` is not a number between 0 and 52, but it should be since it represents a count of states in the USA",
         "hidden": false,
         "locked": false,
         "points": 0.1,
         "success_message": "✅ `less_than_south_births` is a number between 0 and 52"
        }
       ],
       "scored": true,
       "setup": "",
       "teardown": "",
       "type": "doctest"
      }
     ]
    },
    "q2_5": {
     "name": "q2_5",
     "points": null,
     "suites": [
      {
       "cases": [
        {
         "code": ">>> visualization in [1, 2, 3, 4, 5]\nTrue",
         "failure_message": "❌ You did not select a valid choice (1, 2, 3, 4, or 5). Double check your assignment statement.",
         "hidden": false,
         "locked": false,
         "points": 0,
         "success_message": "✅ You selected a valid choice (1, 2, 3, 4, or 5)"
        }
       ],
       "scored": true,
       "setup": "",
       "teardown": "",
       "type": "doctest"
      }
     ]
    },
    "q3_1": {
     "name": "q3_1",
     "points": null,
     "suites": [
      {
       "cases": [
        {
         "code": ">>> histogram_column_x in [1, 2]\nTrue",
         "failure_message": "❌ You did not chose a valid answer. Make sure you assign the integer 1 or 2 to `histogram_column_x`",
         "hidden": false,
         "locked": false,
         "points": 0,
         "success_message": "✅ You chose a valid answer, either 1 or 2"
        }
       ],
       "scored": true,
       "setup": "",
       "teardown": "",
       "type": "doctest"
      }
     ]
    },
    "q4_2": {
     "name": "q4_2",
     "points": null,
     "suites": [
      {
       "cases": [
        {
         "code": ">>> boston_under_10 >= 0 and boston_under_10 <= 100\nTrue",
         "failure_message": "❌ `boston_under_10` is not between 0 and 100, but it should since it represents a percentage",
         "hidden": false,
         "locked": false,
         "points": 0.1,
         "success_message": "✅ `boston_under_10` is between 0 and 100, which makes sense since it represents a percentage"
        },
        {
         "code": ">>> manila_under_10 >= 0 and manila_under_10 <= 100\nTrue",
         "failure_message": "❌ `manila_under_10` is not between 0 and 100, but it should since it represents a percentage",
         "hidden": false,
         "locked": false,
         "points": 0.1,
         "success_message": "✅ `manila_under_10` is between 0 and 100, which makes sense since it represents a percentage"
        }
       ],
       "scored": true,
       "setup": "",
       "teardown": "",
       "type": "doctest"
      }
     ]
    },
    "q4_3": {
     "name": "q4_3",
     "points": null,
     "suites": [
      {
       "cases": [
        {
         "code": ">>> manila_median_bin in [1, 2, 3, 4]\nTrue",
         "failure_message": "❌ You did not select a valid choice (1, 2, 3, or 4)",
         "hidden": false,
         "locked": false,
         "points": 0,
         "success_message": "✅ You selected a valid choice (1, 2, 3, or 4)"
        }
       ],
       "scored": true,
       "setup": "",
       "teardown": "",
       "type": "doctest"
      }
     ]
    }
   }
  }
 },
 "nbformat": 4,
 "nbformat_minor": 4
}
